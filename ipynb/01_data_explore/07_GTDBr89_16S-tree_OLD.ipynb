{
 "cells": [
  {
   "cell_type": "markdown",
   "metadata": {
    "toc": true
   },
   "source": [
    "<h1>Table of Contents<span class=\"tocSkip\"></span></h1>\n",
    "<div class=\"toc\"><ul class=\"toc-item\"><li><span><a href=\"#Goal\" data-toc-modified-id=\"Goal-1\"><span class=\"toc-item-num\">1&nbsp;&nbsp;</span>Goal</a></span></li><li><span><a href=\"#Var\" data-toc-modified-id=\"Var-2\"><span class=\"toc-item-num\">2&nbsp;&nbsp;</span>Var</a></span></li><li><span><a href=\"#Init\" data-toc-modified-id=\"Init-3\"><span class=\"toc-item-num\">3&nbsp;&nbsp;</span>Init</a></span></li><li><span><a href=\"#Load\" data-toc-modified-id=\"Load-4\"><span class=\"toc-item-num\">4&nbsp;&nbsp;</span>Load</a></span><ul class=\"toc-item\"><li><ul class=\"toc-item\"><li><span><a href=\"#Filtering-SSU-sequences\" data-toc-modified-id=\"Filtering-SSU-sequences-4.0.1\"><span class=\"toc-item-num\">4.0.1&nbsp;&nbsp;</span>Filtering SSU sequences</a></span></li></ul></li></ul></li><li><span><a href=\"#STOP-HERE\" data-toc-modified-id=\"STOP-HERE-5\"><span class=\"toc-item-num\">5&nbsp;&nbsp;</span>STOP HERE</a></span></li><li><span><a href=\"#SessionInfo\" data-toc-modified-id=\"SessionInfo-6\"><span class=\"toc-item-num\">6&nbsp;&nbsp;</span>SessionInfo</a></span></li></ul></div>"
   ]
  },
  {
   "cell_type": "markdown",
   "metadata": {},
   "source": [
    "# Goal\n",
    "\n",
    "* Infer a phylogeny for all SSU sequences in the GTDB that overlap with the genomes used"
   ]
  },
  {
   "cell_type": "markdown",
   "metadata": {},
   "source": [
    "# Var"
   ]
  },
  {
   "cell_type": "code",
   "execution_count": 10,
   "metadata": {
    "ExecuteTime": {
     "end_time": "2020-10-26T13:49:10.909606Z",
     "start_time": "2020-10-26T13:49:10.879Z"
    }
   },
   "outputs": [],
   "source": [
    "# GTDBr89 metadata\n",
    "meta_file = '/ebio/abt3_projects/databases_no-backup/GTDB/release89/LLMGP-DB/metadata_1per-GTDB-Spec_gte50comp-lt5cont_wtaxID_wPath.tsv'\n",
    "\n",
    "# ssu seqs\n",
    "ssu_dir = '/ebio/abt3_projects/databases_no-backup/GTDB/release89/ssu/'\n",
    "\n",
    "# params\n",
    "threads = 8"
   ]
  },
  {
   "cell_type": "markdown",
   "metadata": {},
   "source": [
    "# Init"
   ]
  },
  {
   "cell_type": "code",
   "execution_count": 3,
   "metadata": {
    "ExecuteTime": {
     "end_time": "2020-10-26T13:45:39.289814Z",
     "start_time": "2020-10-26T13:45:39.234Z"
    }
   },
   "outputs": [],
   "source": [
    "library(dplyr)\n",
    "library(tidyr)\n",
    "library(ggplot2)\n",
    "library(data.table)\n",
    "library(tidytable)\n",
    "library(ape)\n",
    "library(LeyLabRMisc)"
   ]
  },
  {
   "cell_type": "code",
   "execution_count": 7,
   "metadata": {
    "ExecuteTime": {
     "end_time": "2020-10-26T13:46:17.210444Z",
     "start_time": "2020-10-26T13:46:17.150Z"
    }
   },
   "outputs": [],
   "source": [
    "df.dims()\n",
    "setDTthreads(threads)"
   ]
  },
  {
   "cell_type": "markdown",
   "metadata": {},
   "source": [
    "# Load"
   ]
  },
  {
   "cell_type": "code",
   "execution_count": 20,
   "metadata": {
    "ExecuteTime": {
     "end_time": "2020-10-26T13:53:24.759198Z",
     "start_time": "2020-10-26T13:53:23.671Z"
    }
   },
   "outputs": [
    {
     "data": {
      "text/html": [
       "<table>\n",
       "<caption>A data.table: 23360 × 119</caption>\n",
       "<thead>\n",
       "\t<tr><th scope=col>ncbi_organism_name</th><th scope=col>accession</th><th scope=col>ambiguous_bases</th><th scope=col>checkm_completeness</th><th scope=col>checkm_contamination</th><th scope=col>checkm_marker_count</th><th scope=col>checkm_marker_lineage</th><th scope=col>checkm_marker_set_count</th><th scope=col>checkm_strain_heterogeneity</th><th scope=col>coding_bases</th><th scope=col>⋯</th><th scope=col>SPECIES</th><th scope=col>gtdb_taxid</th><th scope=col>fasta_file_path</th><th scope=col>Domain</th><th scope=col>Class</th><th scope=col>Order</th><th scope=col>Family</th><th scope=col>Genus</th><th scope=col>Species</th><th scope=col>Strain</th></tr>\n",
       "\t<tr><th scope=col>&lt;chr&gt;</th><th scope=col>&lt;chr&gt;</th><th scope=col>&lt;int&gt;</th><th scope=col>&lt;dbl&gt;</th><th scope=col>&lt;dbl&gt;</th><th scope=col>&lt;int&gt;</th><th scope=col>&lt;chr&gt;</th><th scope=col>&lt;int&gt;</th><th scope=col>&lt;dbl&gt;</th><th scope=col>&lt;int&gt;</th><th scope=col>⋯</th><th scope=col>&lt;chr&gt;</th><th scope=col>&lt;int&gt;</th><th scope=col>&lt;chr&gt;</th><th scope=col>&lt;chr&gt;</th><th scope=col>&lt;chr&gt;</th><th scope=col>&lt;chr&gt;</th><th scope=col>&lt;chr&gt;</th><th scope=col>&lt;chr&gt;</th><th scope=col>&lt;chr&gt;</th><th scope=col>&lt;chr&gt;</th></tr>\n",
       "</thead>\n",
       "<tbody>\n",
       "\t<tr><td>GB_GCA_002789635.1_Candidatus Aenigmarchaeota archaeon CG_4_9_14_3_um_filter_37_18</td><td>GB_GCA_002789635.1</td><td>0</td><td>79.44</td><td>0</td><td>149</td><td>k__Archaea (UID2)</td><td>107</td><td>0</td><td>794970</td><td>⋯</td><td>CG10238-14 sp002789635  </td><td> 599</td><td>/ebio/abt3_projects/databases_no-backup/GTDB/release89/LLMGP-DB/genomes/genbank/archaea/GCA_002789635.1/GCA_002789635.1_ASM278963v1_genomic.fna.gz</td><td>d__Archaea</td><td>p__Aenigmarchaeota</td><td>c__Aenigmarchaeia</td><td>o__CG10238-14</td><td>f__CG10238-14</td><td>g__CG10238-14  </td><td>s__CG10238-14 sp002789635  </td></tr>\n",
       "\t<tr><td>GB_GCA_001784635.1_Candidatus Micrarchaeota archaeon RBG_16_49_10                 </td><td>GB_GCA_001784635.1</td><td>0</td><td>74.92</td><td>0</td><td>149</td><td>k__Archaea (UID2)</td><td>107</td><td>0</td><td>773516</td><td>⋯</td><td>RBG-16-49-10 sp001784635</td><td>3320</td><td>/ebio/abt3_projects/databases_no-backup/GTDB/release89/LLMGP-DB/genomes/genbank/archaea/GCA_001784635.1/GCA_001784635.1_ASM178463v1_genomic.fna.gz</td><td>d__Archaea</td><td>p__Aenigmarchaeota</td><td>c__Aenigmarchaeia</td><td>o__CG10238-14</td><td>f__CG10238-14</td><td>g__RBG-16-49-10</td><td>s__RBG-16-49-10 sp001784635</td></tr>\n",
       "\t<tr><td>⋮</td><td>⋮</td><td>⋮</td><td>⋮</td><td>⋮</td><td>⋮</td><td>⋮</td><td>⋮</td><td>⋮</td><td>⋮</td><td>⋱</td><td>⋮</td><td>⋮</td><td>⋮</td><td>⋮</td><td>⋮</td><td>⋮</td><td>⋮</td><td>⋮</td><td>⋮</td><td>⋮</td></tr>\n",
       "\t<tr><td>GB_GCA_001775395.1_candidate division Zixibacteria bacterium RBG_16_53_22              </td><td>GB_GCA_001775395.1</td><td>0</td><td>94.51</td><td>3.48</td><td>147</td><td>k__Bacteria (UID2495)</td><td>91</td><td>0</td><td>3439424</td><td>⋯</td><td>UBA10806 sp001775395      </td><td>146758</td><td>/ebio/abt3_projects/databases_no-backup/GTDB/release89/LLMGP-DB/genomes/genbank/bacteria/GCA_001775395.1/GCA_001775395.1_ASM177539v1_genomic.fna.gz</td><td>d__Bacteria</td><td>p__Zixibacteria</td><td>c__MSB-5A5</td><td>o__UBA10806      </td><td>f__UBA10806      </td><td>g__UBA10806      </td><td>s__UBA10806 sp001775395      </td></tr>\n",
       "\t<tr><td>GB_GCA_002791595.1_candidate division Zixibacteria bacterium CG_4_9_14_3_um_filter_46_8</td><td>GB_GCA_002791595.1</td><td>0</td><td>92.06</td><td>2.75</td><td>147</td><td>k__Bacteria (UID2495)</td><td>91</td><td>0</td><td>2413971</td><td>⋯</td><td>UM-FILTER-46-8 sp002791595</td><td>148815</td><td>/ebio/abt3_projects/databases_no-backup/GTDB/release89/LLMGP-DB/genomes/genbank/bacteria/GCA_002791595.1/GCA_002791595.1_ASM279159v1_genomic.fna.gz</td><td>d__Bacteria</td><td>p__Zixibacteria</td><td>c__MSB-5A5</td><td>o__UM-FILTER-46-8</td><td>f__UM-FILTER-46-8</td><td>g__UM-FILTER-46-8</td><td>s__UM-FILTER-46-8 sp002791595</td></tr>\n",
       "</tbody>\n",
       "</table>\n"
      ],
      "text/latex": [
       "A data.table: 23360 × 119\n",
       "\\begin{tabular}{lllllllllllllllllllll}\n",
       " ncbi\\_organism\\_name & accession & ambiguous\\_bases & checkm\\_completeness & checkm\\_contamination & checkm\\_marker\\_count & checkm\\_marker\\_lineage & checkm\\_marker\\_set\\_count & checkm\\_strain\\_heterogeneity & coding\\_bases & ⋯ & SPECIES & gtdb\\_taxid & fasta\\_file\\_path & Domain & Class & Order & Family & Genus & Species & Strain\\\\\n",
       " <chr> & <chr> & <int> & <dbl> & <dbl> & <int> & <chr> & <int> & <dbl> & <int> & ⋯ & <chr> & <int> & <chr> & <chr> & <chr> & <chr> & <chr> & <chr> & <chr> & <chr>\\\\\n",
       "\\hline\n",
       "\t GB\\_GCA\\_002789635.1\\_Candidatus Aenigmarchaeota archaeon CG\\_4\\_9\\_14\\_3\\_um\\_filter\\_37\\_18 & GB\\_GCA\\_002789635.1 & 0 & 79.44 & 0 & 149 & k\\_\\_Archaea (UID2) & 107 & 0 & 794970 & ⋯ & CG10238-14 sp002789635   &  599 & /ebio/abt3\\_projects/databases\\_no-backup/GTDB/release89/LLMGP-DB/genomes/genbank/archaea/GCA\\_002789635.1/GCA\\_002789635.1\\_ASM278963v1\\_genomic.fna.gz & d\\_\\_Archaea & p\\_\\_Aenigmarchaeota & c\\_\\_Aenigmarchaeia & o\\_\\_CG10238-14 & f\\_\\_CG10238-14 & g\\_\\_CG10238-14   & s\\_\\_CG10238-14 sp002789635  \\\\\n",
       "\t GB\\_GCA\\_001784635.1\\_Candidatus Micrarchaeota archaeon RBG\\_16\\_49\\_10                  & GB\\_GCA\\_001784635.1 & 0 & 74.92 & 0 & 149 & k\\_\\_Archaea (UID2) & 107 & 0 & 773516 & ⋯ & RBG-16-49-10 sp001784635 & 3320 & /ebio/abt3\\_projects/databases\\_no-backup/GTDB/release89/LLMGP-DB/genomes/genbank/archaea/GCA\\_001784635.1/GCA\\_001784635.1\\_ASM178463v1\\_genomic.fna.gz & d\\_\\_Archaea & p\\_\\_Aenigmarchaeota & c\\_\\_Aenigmarchaeia & o\\_\\_CG10238-14 & f\\_\\_CG10238-14 & g\\_\\_RBG-16-49-10 & s\\_\\_RBG-16-49-10 sp001784635\\\\\n",
       "\t ⋮ & ⋮ & ⋮ & ⋮ & ⋮ & ⋮ & ⋮ & ⋮ & ⋮ & ⋮ & ⋱ & ⋮ & ⋮ & ⋮ & ⋮ & ⋮ & ⋮ & ⋮ & ⋮ & ⋮ & ⋮\\\\\n",
       "\t GB\\_GCA\\_001775395.1\\_candidate division Zixibacteria bacterium RBG\\_16\\_53\\_22               & GB\\_GCA\\_001775395.1 & 0 & 94.51 & 3.48 & 147 & k\\_\\_Bacteria (UID2495) & 91 & 0 & 3439424 & ⋯ & UBA10806 sp001775395       & 146758 & /ebio/abt3\\_projects/databases\\_no-backup/GTDB/release89/LLMGP-DB/genomes/genbank/bacteria/GCA\\_001775395.1/GCA\\_001775395.1\\_ASM177539v1\\_genomic.fna.gz & d\\_\\_Bacteria & p\\_\\_Zixibacteria & c\\_\\_MSB-5A5 & o\\_\\_UBA10806       & f\\_\\_UBA10806       & g\\_\\_UBA10806       & s\\_\\_UBA10806 sp001775395      \\\\\n",
       "\t GB\\_GCA\\_002791595.1\\_candidate division Zixibacteria bacterium CG\\_4\\_9\\_14\\_3\\_um\\_filter\\_46\\_8 & GB\\_GCA\\_002791595.1 & 0 & 92.06 & 2.75 & 147 & k\\_\\_Bacteria (UID2495) & 91 & 0 & 2413971 & ⋯ & UM-FILTER-46-8 sp002791595 & 148815 & /ebio/abt3\\_projects/databases\\_no-backup/GTDB/release89/LLMGP-DB/genomes/genbank/bacteria/GCA\\_002791595.1/GCA\\_002791595.1\\_ASM279159v1\\_genomic.fna.gz & d\\_\\_Bacteria & p\\_\\_Zixibacteria & c\\_\\_MSB-5A5 & o\\_\\_UM-FILTER-46-8 & f\\_\\_UM-FILTER-46-8 & g\\_\\_UM-FILTER-46-8 & s\\_\\_UM-FILTER-46-8 sp002791595\\\\\n",
       "\\end{tabular}\n"
      ],
      "text/markdown": [
       "\n",
       "A data.table: 23360 × 119\n",
       "\n",
       "| ncbi_organism_name &lt;chr&gt; | accession &lt;chr&gt; | ambiguous_bases &lt;int&gt; | checkm_completeness &lt;dbl&gt; | checkm_contamination &lt;dbl&gt; | checkm_marker_count &lt;int&gt; | checkm_marker_lineage &lt;chr&gt; | checkm_marker_set_count &lt;int&gt; | checkm_strain_heterogeneity &lt;dbl&gt; | coding_bases &lt;int&gt; | ⋯ ⋯ | SPECIES &lt;chr&gt; | gtdb_taxid &lt;int&gt; | fasta_file_path &lt;chr&gt; | Domain &lt;chr&gt; | Class &lt;chr&gt; | Order &lt;chr&gt; | Family &lt;chr&gt; | Genus &lt;chr&gt; | Species &lt;chr&gt; | Strain &lt;chr&gt; |\n",
       "|---|---|---|---|---|---|---|---|---|---|---|---|---|---|---|---|---|---|---|---|---|\n",
       "| GB_GCA_002789635.1_Candidatus Aenigmarchaeota archaeon CG_4_9_14_3_um_filter_37_18 | GB_GCA_002789635.1 | 0 | 79.44 | 0 | 149 | k__Archaea (UID2) | 107 | 0 | 794970 | ⋯ | CG10238-14 sp002789635   |  599 | /ebio/abt3_projects/databases_no-backup/GTDB/release89/LLMGP-DB/genomes/genbank/archaea/GCA_002789635.1/GCA_002789635.1_ASM278963v1_genomic.fna.gz | d__Archaea | p__Aenigmarchaeota | c__Aenigmarchaeia | o__CG10238-14 | f__CG10238-14 | g__CG10238-14   | s__CG10238-14 sp002789635   |\n",
       "| GB_GCA_001784635.1_Candidatus Micrarchaeota archaeon RBG_16_49_10                  | GB_GCA_001784635.1 | 0 | 74.92 | 0 | 149 | k__Archaea (UID2) | 107 | 0 | 773516 | ⋯ | RBG-16-49-10 sp001784635 | 3320 | /ebio/abt3_projects/databases_no-backup/GTDB/release89/LLMGP-DB/genomes/genbank/archaea/GCA_001784635.1/GCA_001784635.1_ASM178463v1_genomic.fna.gz | d__Archaea | p__Aenigmarchaeota | c__Aenigmarchaeia | o__CG10238-14 | f__CG10238-14 | g__RBG-16-49-10 | s__RBG-16-49-10 sp001784635 |\n",
       "| ⋮ | ⋮ | ⋮ | ⋮ | ⋮ | ⋮ | ⋮ | ⋮ | ⋮ | ⋮ | ⋱ | ⋮ | ⋮ | ⋮ | ⋮ | ⋮ | ⋮ | ⋮ | ⋮ | ⋮ | ⋮ |\n",
       "| GB_GCA_001775395.1_candidate division Zixibacteria bacterium RBG_16_53_22               | GB_GCA_001775395.1 | 0 | 94.51 | 3.48 | 147 | k__Bacteria (UID2495) | 91 | 0 | 3439424 | ⋯ | UBA10806 sp001775395       | 146758 | /ebio/abt3_projects/databases_no-backup/GTDB/release89/LLMGP-DB/genomes/genbank/bacteria/GCA_001775395.1/GCA_001775395.1_ASM177539v1_genomic.fna.gz | d__Bacteria | p__Zixibacteria | c__MSB-5A5 | o__UBA10806       | f__UBA10806       | g__UBA10806       | s__UBA10806 sp001775395       |\n",
       "| GB_GCA_002791595.1_candidate division Zixibacteria bacterium CG_4_9_14_3_um_filter_46_8 | GB_GCA_002791595.1 | 0 | 92.06 | 2.75 | 147 | k__Bacteria (UID2495) | 91 | 0 | 2413971 | ⋯ | UM-FILTER-46-8 sp002791595 | 148815 | /ebio/abt3_projects/databases_no-backup/GTDB/release89/LLMGP-DB/genomes/genbank/bacteria/GCA_002791595.1/GCA_002791595.1_ASM279159v1_genomic.fna.gz | d__Bacteria | p__Zixibacteria | c__MSB-5A5 | o__UM-FILTER-46-8 | f__UM-FILTER-46-8 | g__UM-FILTER-46-8 | s__UM-FILTER-46-8 sp002791595 |\n",
       "\n"
      ],
      "text/plain": [
       "      ncbi_organism_name                                                                     \n",
       "1     GB_GCA_002789635.1_Candidatus Aenigmarchaeota archaeon CG_4_9_14_3_um_filter_37_18     \n",
       "2     GB_GCA_001784635.1_Candidatus Micrarchaeota archaeon RBG_16_49_10                      \n",
       "⋮     ⋮                                                                                      \n",
       "23359 GB_GCA_001775395.1_candidate division Zixibacteria bacterium RBG_16_53_22              \n",
       "23360 GB_GCA_002791595.1_candidate division Zixibacteria bacterium CG_4_9_14_3_um_filter_46_8\n",
       "      accession          ambiguous_bases checkm_completeness\n",
       "1     GB_GCA_002789635.1 0               79.44              \n",
       "2     GB_GCA_001784635.1 0               74.92              \n",
       "⋮     ⋮                  ⋮               ⋮                  \n",
       "23359 GB_GCA_001775395.1 0               94.51              \n",
       "23360 GB_GCA_002791595.1 0               92.06              \n",
       "      checkm_contamination checkm_marker_count checkm_marker_lineage\n",
       "1     0                    149                 k__Archaea (UID2)    \n",
       "2     0                    149                 k__Archaea (UID2)    \n",
       "⋮     ⋮                    ⋮                   ⋮                    \n",
       "23359 3.48                 147                 k__Bacteria (UID2495)\n",
       "23360 2.75                 147                 k__Bacteria (UID2495)\n",
       "      checkm_marker_set_count checkm_strain_heterogeneity coding_bases ⋯\n",
       "1     107                     0                           794970       ⋯\n",
       "2     107                     0                           773516       ⋯\n",
       "⋮     ⋮                       ⋮                           ⋮            ⋱\n",
       "23359 91                      0                           3439424      ⋯\n",
       "23360 91                      0                           2413971      ⋯\n",
       "      SPECIES                    gtdb_taxid\n",
       "1     CG10238-14 sp002789635      599      \n",
       "2     RBG-16-49-10 sp001784635   3320      \n",
       "⋮     ⋮                          ⋮         \n",
       "23359 UBA10806 sp001775395       146758    \n",
       "23360 UM-FILTER-46-8 sp002791595 148815    \n",
       "      fasta_file_path                                                                                                                                    \n",
       "1     /ebio/abt3_projects/databases_no-backup/GTDB/release89/LLMGP-DB/genomes/genbank/archaea/GCA_002789635.1/GCA_002789635.1_ASM278963v1_genomic.fna.gz \n",
       "2     /ebio/abt3_projects/databases_no-backup/GTDB/release89/LLMGP-DB/genomes/genbank/archaea/GCA_001784635.1/GCA_001784635.1_ASM178463v1_genomic.fna.gz \n",
       "⋮     ⋮                                                                                                                                                  \n",
       "23359 /ebio/abt3_projects/databases_no-backup/GTDB/release89/LLMGP-DB/genomes/genbank/bacteria/GCA_001775395.1/GCA_001775395.1_ASM177539v1_genomic.fna.gz\n",
       "23360 /ebio/abt3_projects/databases_no-backup/GTDB/release89/LLMGP-DB/genomes/genbank/bacteria/GCA_002791595.1/GCA_002791595.1_ASM279159v1_genomic.fna.gz\n",
       "      Domain      Class              Order             Family           \n",
       "1     d__Archaea  p__Aenigmarchaeota c__Aenigmarchaeia o__CG10238-14    \n",
       "2     d__Archaea  p__Aenigmarchaeota c__Aenigmarchaeia o__CG10238-14    \n",
       "⋮     ⋮           ⋮                  ⋮                 ⋮                \n",
       "23359 d__Bacteria p__Zixibacteria    c__MSB-5A5        o__UBA10806      \n",
       "23360 d__Bacteria p__Zixibacteria    c__MSB-5A5        o__UM-FILTER-46-8\n",
       "      Genus             Species           Strain                       \n",
       "1     f__CG10238-14     g__CG10238-14     s__CG10238-14 sp002789635    \n",
       "2     f__CG10238-14     g__RBG-16-49-10   s__RBG-16-49-10 sp001784635  \n",
       "⋮     ⋮                 ⋮                 ⋮                            \n",
       "23359 f__UBA10806       g__UBA10806       s__UBA10806 sp001775395      \n",
       "23360 f__UM-FILTER-46-8 g__UM-FILTER-46-8 s__UM-FILTER-46-8 sp002791595"
      ]
     },
     "metadata": {},
     "output_type": "display_data"
    }
   ],
   "source": [
    "tax_levs = c('Domain', 'Class', 'Order', 'Family', 'Genus', 'Species', 'Strain')\n",
    "meta = Fread(meta_file) %>%\n",
    "    dt_separate(gtdb_taxonomy, tax_levs, sep=';')\n",
    "meta"
   ]
  },
  {
   "cell_type": "code",
   "execution_count": 21,
   "metadata": {
    "ExecuteTime": {
     "end_time": "2020-10-26T13:53:41.986768Z",
     "start_time": "2020-10-26T13:53:41.938Z"
    }
   },
   "outputs": [
    {
     "data": {
      "text/plain": [
       ".\n",
       " d__Archaea d__Bacteria \n",
       "       1155       22205 "
      ]
     },
     "metadata": {},
     "output_type": "display_data"
    }
   ],
   "source": [
    "# summary\n",
    "meta %>% .$Domain %>% table"
   ]
  },
  {
   "cell_type": "code",
   "execution_count": 13,
   "metadata": {
    "ExecuteTime": {
     "end_time": "2020-10-26T13:50:20.817701Z",
     "start_time": "2020-10-26T13:50:20.678Z"
    }
   },
   "outputs": [
    {
     "name": "stdout",
     "output_type": "stream",
     "text": [
      "File written: /ebio/abt3_projects/databases_no-backup/GTDB/release89/ssu//GTDBr89_struo_genomes.txt \n"
     ]
    }
   ],
   "source": [
    "# Writing list of genomes\n",
    "meta %>%\n",
    "    dt_select(accession) %>%\n",
    "    write_table(file.path(ssu_dir, 'GTDBr89_struo_genomes.txt'), col.names=FALSE)"
   ]
  },
  {
   "cell_type": "markdown",
   "metadata": {},
   "source": [
    "### Filtering SSU sequences\n",
    "\n",
    "```\n",
    "$ grep -f GTDBr89_struo_genomes.txt -A 1 ar122_ssu_r89.fna | perl -ne 'print if !/^--/' > ar122_ssu_r89_filt.fna\n",
    "\n",
    "$ grep -f GTDBr89_struo_genomes.txt -A 1 bac120_ssu_r89.fna | perl -ne 'print if !/^--/' > bac120_ssu_r89_filt.fna\n",
    "```"
   ]
  },
  {
   "cell_type": "markdown",
   "metadata": {},
   "source": [
    "# STOP HERE\n",
    "\n",
    "* Not all genomes have >=1 SSU sequence. Cannot make a phylogeny representing all members"
   ]
  },
  {
   "cell_type": "markdown",
   "metadata": {},
   "source": [
    "# SessionInfo"
   ]
  },
  {
   "cell_type": "code",
   "execution_count": 22,
   "metadata": {
    "ExecuteTime": {
     "end_time": "2020-10-26T14:00:38.401438Z",
     "start_time": "2020-10-26T14:00:38.032Z"
    }
   },
   "outputs": [
    {
     "data": {
      "text/plain": [
       "R version 3.6.3 (2020-02-29)\n",
       "Platform: x86_64-conda_cos6-linux-gnu (64-bit)\n",
       "Running under: Ubuntu 18.04.5 LTS\n",
       "\n",
       "Matrix products: default\n",
       "BLAS/LAPACK: /ebio/abt3_projects/Georg_animal_feces/envs/phyloseq/lib/libopenblasp-r0.3.9.so\n",
       "\n",
       "locale:\n",
       " [1] LC_CTYPE=en_US.UTF-8       LC_NUMERIC=C              \n",
       " [3] LC_TIME=en_US.UTF-8        LC_COLLATE=en_US.UTF-8    \n",
       " [5] LC_MONETARY=en_US.UTF-8    LC_MESSAGES=en_US.UTF-8   \n",
       " [7] LC_PAPER=en_US.UTF-8       LC_NAME=C                 \n",
       " [9] LC_ADDRESS=C               LC_TELEPHONE=C            \n",
       "[11] LC_MEASUREMENT=en_US.UTF-8 LC_IDENTIFICATION=C       \n",
       "\n",
       "attached base packages:\n",
       "[1] stats     graphics  grDevices utils     datasets  methods   base     \n",
       "\n",
       "other attached packages:\n",
       "[1] LeyLabRMisc_0.1.6 ape_5.4           tidytable_0.4.1   data.table_1.12.8\n",
       "[5] ggplot2_3.3.1     tidyr_1.1.0       dplyr_1.0.0      \n",
       "\n",
       "loaded via a namespace (and not attached):\n",
       " [1] Rcpp_1.0.4.6     pillar_1.4.4     compiler_3.6.3   base64enc_0.1-3 \n",
       " [5] tools_3.6.3      digest_0.6.25    uuid_0.1-4       jsonlite_1.6.1  \n",
       " [9] evaluate_0.14    lifecycle_0.2.0  tibble_3.0.1     gtable_0.3.0    \n",
       "[13] nlme_3.1-148     lattice_0.20-41  pkgconfig_2.0.3  rlang_0.4.6     \n",
       "[17] IRdisplay_0.7.0  IRkernel_1.1     parallel_3.6.3   xfun_0.14       \n",
       "[21] knitr_1.28       repr_1.1.0       withr_2.2.0      generics_0.0.2  \n",
       "[25] vctrs_0.3.0      grid_3.6.3       tidyselect_1.1.0 glue_1.4.1      \n",
       "[29] R6_2.4.1         pbdZMQ_0.3-3     purrr_0.3.4      magrittr_1.5    \n",
       "[33] scales_1.1.1     ellipsis_0.3.1   htmltools_0.4.0  colorspace_1.4-1\n",
       "[37] munsell_0.5.0    crayon_1.3.4    "
      ]
     },
     "metadata": {},
     "output_type": "display_data"
    }
   ],
   "source": [
    "sessionInfo()"
   ]
  },
  {
   "cell_type": "code",
   "execution_count": null,
   "metadata": {},
   "outputs": [],
   "source": []
  }
 ],
 "metadata": {
  "kernelspec": {
   "display_name": "R [conda env:Georg_animal_feces-phyloseq]",
   "language": "R",
   "name": "conda-env-Georg_animal_feces-phyloseq-r"
  },
  "language_info": {
   "codemirror_mode": "r",
   "file_extension": ".r",
   "mimetype": "text/x-r-source",
   "name": "R",
   "pygments_lexer": "r",
   "version": "3.6.3"
  },
  "toc": {
   "base_numbering": 1,
   "nav_menu": {},
   "number_sections": true,
   "sideBar": true,
   "skip_h1_title": false,
   "title_cell": "Table of Contents",
   "title_sidebar": "Contents",
   "toc_cell": true,
   "toc_position": {},
   "toc_section_display": true,
   "toc_window_display": true
  }
 },
 "nbformat": 4,
 "nbformat_minor": 4
}
