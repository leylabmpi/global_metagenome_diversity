{
 "cells": [
  {
   "cell_type": "markdown",
   "metadata": {
    "toc": true
   },
   "source": [
    "<h1>Table of Contents<span class=\"tocSkip\"></span></h1>\n",
    "<div class=\"toc\"><ul class=\"toc-item\"><li><span><a href=\"#Goal\" data-toc-modified-id=\"Goal-1\"><span class=\"toc-item-num\">1&nbsp;&nbsp;</span>Goal</a></span></li><li><span><a href=\"#Var\" data-toc-modified-id=\"Var-2\"><span class=\"toc-item-num\">2&nbsp;&nbsp;</span>Var</a></span></li><li><span><a href=\"#Init\" data-toc-modified-id=\"Init-3\"><span class=\"toc-item-num\">3&nbsp;&nbsp;</span>Init</a></span></li><li><span><a href=\"#Load\" data-toc-modified-id=\"Load-4\"><span class=\"toc-item-num\">4&nbsp;&nbsp;</span>Load</a></span></li><li><span><a href=\"#Format\" data-toc-modified-id=\"Format-5\"><span class=\"toc-item-num\">5&nbsp;&nbsp;</span>Format</a></span><ul class=\"toc-item\"><li><span><a href=\"#Writing\" data-toc-modified-id=\"Writing-5.1\"><span class=\"toc-item-num\">5.1&nbsp;&nbsp;</span>Writing</a></span></li></ul></li><li><span><a href=\"#sessionInfo\" data-toc-modified-id=\"sessionInfo-6\"><span class=\"toc-item-num\">6&nbsp;&nbsp;</span>sessionInfo</a></span></li></ul></div>"
   ]
  },
  {
   "cell_type": "markdown",
   "metadata": {},
   "source": [
    "# Goal\n",
    "\n",
    "* Create summary table of metadata"
   ]
  },
  {
   "cell_type": "markdown",
   "metadata": {},
   "source": [
    "# Var"
   ]
  },
  {
   "cell_type": "code",
   "execution_count": 8,
   "metadata": {
    "ExecuteTime": {
     "end_time": "2021-11-15T16:01:28.873907Z",
     "start_time": "2021-11-15T16:01:28.846Z"
    }
   },
   "outputs": [],
   "source": [
    "# sample metadata\n",
    "base_dir = '/ebio/abt3_projects2/global_metagenome_diversity/data/public_data_retireval/'\n",
    "samp_metadata_file = file.path(base_dir, 'CurMetDat-metagenomes', 'files', 'metadata', 'Filtered_CurMetDat_ff.tsv')\n",
    "\n",
    "# params\n",
    "threads = 4"
   ]
  },
  {
   "cell_type": "markdown",
   "metadata": {},
   "source": [
    "# Init"
   ]
  },
  {
   "cell_type": "code",
   "execution_count": 3,
   "metadata": {
    "ExecuteTime": {
     "end_time": "2021-11-15T15:59:11.822957Z",
     "start_time": "2021-11-15T15:59:11.795Z"
    }
   },
   "outputs": [],
   "source": [
    "library(dplyr)\n",
    "library(tidyr)\n",
    "library(ggplot2)\n",
    "library(data.table)\n",
    "library(tidytable)\n",
    "library(LeyLabRMisc)"
   ]
  },
  {
   "cell_type": "code",
   "execution_count": 4,
   "metadata": {
    "ExecuteTime": {
     "end_time": "2021-11-15T15:59:12.944009Z",
     "start_time": "2021-11-15T15:59:12.899Z"
    }
   },
   "outputs": [],
   "source": [
    "df.dims()"
   ]
  },
  {
   "cell_type": "markdown",
   "metadata": {},
   "source": [
    "# Load"
   ]
  },
  {
   "cell_type": "code",
   "execution_count": 13,
   "metadata": {
    "ExecuteTime": {
     "end_time": "2021-11-15T16:02:43.181717Z",
     "start_time": "2021-11-15T16:02:43.100Z"
    }
   },
   "outputs": [
    {
     "name": "stdout",
     "output_type": "stream",
     "text": [
      "No. of unique Subjects: 2943 \n",
      "No. of unique Samples: 2943 \n",
      "No. of unique Datasets: 30 \n"
     ]
    },
    {
     "data": {
      "text/html": [
       "<table class=\"dataframe\">\n",
       "<caption>A tidytable: 2943 × 10</caption>\n",
       "<thead>\n",
       "\t<tr><th scope=col>dataset_name</th><th scope=col>Sample</th><th scope=col>subjectID</th><th scope=col>study_condition</th><th scope=col>age</th><th scope=col>gender</th><th scope=col>BMI</th><th scope=col>westernized</th><th scope=col>disease</th><th scope=col>country</th></tr>\n",
       "\t<tr><th scope=col>&lt;chr&gt;</th><th scope=col>&lt;chr&gt;</th><th scope=col>&lt;chr&gt;</th><th scope=col>&lt;chr&gt;</th><th scope=col>&lt;int&gt;</th><th scope=col>&lt;chr&gt;</th><th scope=col>&lt;dbl&gt;</th><th scope=col>&lt;lgl&gt;</th><th scope=col>&lt;chr&gt;</th><th scope=col>&lt;chr&gt;</th></tr>\n",
       "</thead>\n",
       "<tbody>\n",
       "\t<tr><td>Bengtsson-PalmeJ_2015</td><td>TRAVELRES1 </td><td>TRAVELRES1_2  </td><td>control</td><td>25</td><td>female</td><td>NA</td><td>TRUE</td><td>healthy</td><td>SWE</td></tr>\n",
       "\t<tr><td>Bengtsson-PalmeJ_2015</td><td>TRAVELRES11</td><td>TRAVELRES11_12</td><td>control</td><td>22</td><td>female</td><td>NA</td><td>TRUE</td><td>healthy</td><td>SWE</td></tr>\n",
       "\t<tr><td>⋮</td><td>⋮</td><td>⋮</td><td>⋮</td><td>⋮</td><td>⋮</td><td>⋮</td><td>⋮</td><td>⋮</td><td>⋮</td></tr>\n",
       "\t<tr><td>ZeeviD_2015</td><td>PNP_Validation_45</td><td>PNP_Validation_45</td><td>control</td><td>NA</td><td></td><td>NA</td><td>TRUE</td><td>healthy</td><td>ISR</td></tr>\n",
       "\t<tr><td>ZeeviD_2015</td><td>PNP_Validation_46</td><td>PNP_Validation_46</td><td>control</td><td>NA</td><td></td><td>NA</td><td>TRUE</td><td>healthy</td><td>ISR</td></tr>\n",
       "</tbody>\n",
       "</table>\n"
      ],
      "text/latex": [
       "A tidytable: 2943 × 10\n",
       "\\begin{tabular}{llllllllll}\n",
       " dataset\\_name & Sample & subjectID & study\\_condition & age & gender & BMI & westernized & disease & country\\\\\n",
       " <chr> & <chr> & <chr> & <chr> & <int> & <chr> & <dbl> & <lgl> & <chr> & <chr>\\\\\n",
       "\\hline\n",
       "\t Bengtsson-PalmeJ\\_2015 & TRAVELRES1  & TRAVELRES1\\_2   & control & 25 & female & NA & TRUE & healthy & SWE\\\\\n",
       "\t Bengtsson-PalmeJ\\_2015 & TRAVELRES11 & TRAVELRES11\\_12 & control & 22 & female & NA & TRUE & healthy & SWE\\\\\n",
       "\t ⋮ & ⋮ & ⋮ & ⋮ & ⋮ & ⋮ & ⋮ & ⋮ & ⋮ & ⋮\\\\\n",
       "\t ZeeviD\\_2015 & PNP\\_Validation\\_45 & PNP\\_Validation\\_45 & control & NA &  & NA & TRUE & healthy & ISR\\\\\n",
       "\t ZeeviD\\_2015 & PNP\\_Validation\\_46 & PNP\\_Validation\\_46 & control & NA &  & NA & TRUE & healthy & ISR\\\\\n",
       "\\end{tabular}\n"
      ],
      "text/markdown": [
       "\n",
       "A tidytable: 2943 × 10\n",
       "\n",
       "| dataset_name &lt;chr&gt; | Sample &lt;chr&gt; | subjectID &lt;chr&gt; | study_condition &lt;chr&gt; | age &lt;int&gt; | gender &lt;chr&gt; | BMI &lt;dbl&gt; | westernized &lt;lgl&gt; | disease &lt;chr&gt; | country &lt;chr&gt; |\n",
       "|---|---|---|---|---|---|---|---|---|---|\n",
       "| Bengtsson-PalmeJ_2015 | TRAVELRES1  | TRAVELRES1_2   | control | 25 | female | NA | TRUE | healthy | SWE |\n",
       "| Bengtsson-PalmeJ_2015 | TRAVELRES11 | TRAVELRES11_12 | control | 22 | female | NA | TRUE | healthy | SWE |\n",
       "| ⋮ | ⋮ | ⋮ | ⋮ | ⋮ | ⋮ | ⋮ | ⋮ | ⋮ | ⋮ |\n",
       "| ZeeviD_2015 | PNP_Validation_45 | PNP_Validation_45 | control | NA | <!----> | NA | TRUE | healthy | ISR |\n",
       "| ZeeviD_2015 | PNP_Validation_46 | PNP_Validation_46 | control | NA | <!----> | NA | TRUE | healthy | ISR |\n",
       "\n"
      ],
      "text/plain": [
       "     dataset_name          Sample            subjectID         study_condition\n",
       "1    Bengtsson-PalmeJ_2015 TRAVELRES1        TRAVELRES1_2      control        \n",
       "2    Bengtsson-PalmeJ_2015 TRAVELRES11       TRAVELRES11_12    control        \n",
       "⋮    ⋮                     ⋮                 ⋮                 ⋮              \n",
       "2942 ZeeviD_2015           PNP_Validation_45 PNP_Validation_45 control        \n",
       "2943 ZeeviD_2015           PNP_Validation_46 PNP_Validation_46 control        \n",
       "     age gender BMI westernized disease country\n",
       "1    25  female NA  TRUE        healthy SWE    \n",
       "2    22  female NA  TRUE        healthy SWE    \n",
       "⋮    ⋮   ⋮      ⋮   ⋮           ⋮       ⋮      \n",
       "2942 NA         NA  TRUE        healthy ISR    \n",
       "2943 NA         NA  TRUE        healthy ISR    "
      ]
     },
     "metadata": {},
     "output_type": "display_data"
    }
   ],
   "source": [
    "# all \n",
    "samp_meta = fread(samp_metadata_file, sep='\\t', check.names=TRUE) %>%\n",
    "    select.(dataset_name, Sample, subjectID, study_condition, \n",
    "            age, gender, BMI, westernized, disease, country) %>%\n",
    "    mutate.(disease = ifelse(disease != 'healthy', 'diseased', disease))\n",
    "## summary\n",
    "samp_meta %>% unique_n('Subjects', subjectID)\n",
    "samp_meta %>% unique_n('Samples', Sample)\n",
    "samp_meta %>% unique_n('Datasets', dataset_name)\n",
    "samp_meta"
   ]
  },
  {
   "cell_type": "markdown",
   "metadata": {},
   "source": [
    "# Format"
   ]
  },
  {
   "cell_type": "code",
   "execution_count": 19,
   "metadata": {
    "ExecuteTime": {
     "end_time": "2021-11-15T16:05:03.721901Z",
     "start_time": "2021-11-15T16:05:03.670Z"
    }
   },
   "outputs": [
    {
     "data": {
      "text/html": [
       "<table class=\"dataframe\">\n",
       "<caption>A tidytable: 2943 × 10</caption>\n",
       "<thead>\n",
       "\t<tr><th scope=col>study</th><th scope=col>sample</th><th scope=col>subject</th><th scope=col>study_condition</th><th scope=col>age</th><th scope=col>gender</th><th scope=col>BMI</th><th scope=col>westernized</th><th scope=col>disease</th><th scope=col>country</th></tr>\n",
       "\t<tr><th scope=col>&lt;chr&gt;</th><th scope=col>&lt;chr&gt;</th><th scope=col>&lt;chr&gt;</th><th scope=col>&lt;chr&gt;</th><th scope=col>&lt;chr&gt;</th><th scope=col>&lt;chr&gt;</th><th scope=col>&lt;chr&gt;</th><th scope=col>&lt;lgl&gt;</th><th scope=col>&lt;chr&gt;</th><th scope=col>&lt;chr&gt;</th></tr>\n",
       "</thead>\n",
       "<tbody>\n",
       "\t<tr><td>Bengtsson-PalmeJ_2015</td><td>TRAVELRES1 </td><td>TRAVELRES1_2  </td><td>control</td><td>25</td><td>female</td><td></td><td>TRUE</td><td>healthy</td><td>SWE</td></tr>\n",
       "\t<tr><td>Bengtsson-PalmeJ_2015</td><td>TRAVELRES11</td><td>TRAVELRES11_12</td><td>control</td><td>22</td><td>female</td><td></td><td>TRUE</td><td>healthy</td><td>SWE</td></tr>\n",
       "\t<tr><td>⋮</td><td>⋮</td><td>⋮</td><td>⋮</td><td>⋮</td><td>⋮</td><td>⋮</td><td>⋮</td><td>⋮</td><td>⋮</td></tr>\n",
       "\t<tr><td>ZeeviD_2015</td><td>PNP_Validation_45</td><td>PNP_Validation_45</td><td>control</td><td></td><td></td><td></td><td>TRUE</td><td>healthy</td><td>ISR</td></tr>\n",
       "\t<tr><td>ZeeviD_2015</td><td>PNP_Validation_46</td><td>PNP_Validation_46</td><td>control</td><td></td><td></td><td></td><td>TRUE</td><td>healthy</td><td>ISR</td></tr>\n",
       "</tbody>\n",
       "</table>\n"
      ],
      "text/latex": [
       "A tidytable: 2943 × 10\n",
       "\\begin{tabular}{llllllllll}\n",
       " study & sample & subject & study\\_condition & age & gender & BMI & westernized & disease & country\\\\\n",
       " <chr> & <chr> & <chr> & <chr> & <chr> & <chr> & <chr> & <lgl> & <chr> & <chr>\\\\\n",
       "\\hline\n",
       "\t Bengtsson-PalmeJ\\_2015 & TRAVELRES1  & TRAVELRES1\\_2   & control & 25 & female &  & TRUE & healthy & SWE\\\\\n",
       "\t Bengtsson-PalmeJ\\_2015 & TRAVELRES11 & TRAVELRES11\\_12 & control & 22 & female &  & TRUE & healthy & SWE\\\\\n",
       "\t ⋮ & ⋮ & ⋮ & ⋮ & ⋮ & ⋮ & ⋮ & ⋮ & ⋮ & ⋮\\\\\n",
       "\t ZeeviD\\_2015 & PNP\\_Validation\\_45 & PNP\\_Validation\\_45 & control &  &  &  & TRUE & healthy & ISR\\\\\n",
       "\t ZeeviD\\_2015 & PNP\\_Validation\\_46 & PNP\\_Validation\\_46 & control &  &  &  & TRUE & healthy & ISR\\\\\n",
       "\\end{tabular}\n"
      ],
      "text/markdown": [
       "\n",
       "A tidytable: 2943 × 10\n",
       "\n",
       "| study &lt;chr&gt; | sample &lt;chr&gt; | subject &lt;chr&gt; | study_condition &lt;chr&gt; | age &lt;chr&gt; | gender &lt;chr&gt; | BMI &lt;chr&gt; | westernized &lt;lgl&gt; | disease &lt;chr&gt; | country &lt;chr&gt; |\n",
       "|---|---|---|---|---|---|---|---|---|---|\n",
       "| Bengtsson-PalmeJ_2015 | TRAVELRES1  | TRAVELRES1_2   | control | 25 | female | <!----> | TRUE | healthy | SWE |\n",
       "| Bengtsson-PalmeJ_2015 | TRAVELRES11 | TRAVELRES11_12 | control | 22 | female | <!----> | TRUE | healthy | SWE |\n",
       "| ⋮ | ⋮ | ⋮ | ⋮ | ⋮ | ⋮ | ⋮ | ⋮ | ⋮ | ⋮ |\n",
       "| ZeeviD_2015 | PNP_Validation_45 | PNP_Validation_45 | control | <!----> | <!----> | <!----> | TRUE | healthy | ISR |\n",
       "| ZeeviD_2015 | PNP_Validation_46 | PNP_Validation_46 | control | <!----> | <!----> | <!----> | TRUE | healthy | ISR |\n",
       "\n"
      ],
      "text/plain": [
       "     study                 sample            subject           study_condition\n",
       "1    Bengtsson-PalmeJ_2015 TRAVELRES1        TRAVELRES1_2      control        \n",
       "2    Bengtsson-PalmeJ_2015 TRAVELRES11       TRAVELRES11_12    control        \n",
       "⋮    ⋮                     ⋮                 ⋮                 ⋮              \n",
       "2942 ZeeviD_2015           PNP_Validation_45 PNP_Validation_45 control        \n",
       "2943 ZeeviD_2015           PNP_Validation_46 PNP_Validation_46 control        \n",
       "     age gender BMI westernized disease country\n",
       "1    25  female     TRUE        healthy SWE    \n",
       "2    22  female     TRUE        healthy SWE    \n",
       "⋮    ⋮   ⋮      ⋮   ⋮           ⋮       ⋮      \n",
       "2942                TRUE        healthy ISR    \n",
       "2943                TRUE        healthy ISR    "
      ]
     },
     "metadata": {},
     "output_type": "display_data"
    }
   ],
   "source": [
    "samp_meta = samp_meta %>%\n",
    "    rename.('study' = dataset_name,\n",
    "            'sample' = Sample,\n",
    "            'subject' = subjectID) %>%\n",
    "    mutate.(across.(everything(), function(x) ifelse(is.na(x), '', x)))\n",
    "samp_meta"
   ]
  },
  {
   "cell_type": "markdown",
   "metadata": {},
   "source": [
    "## Writing"
   ]
  },
  {
   "cell_type": "code",
   "execution_count": 22,
   "metadata": {
    "ExecuteTime": {
     "end_time": "2021-11-15T16:06:29.689615Z",
     "start_time": "2021-11-15T16:06:29.663Z"
    }
   },
   "outputs": [
    {
     "name": "stdout",
     "output_type": "stream",
     "text": [
      "File written: /ebio/abt3_projects2/global_metagenome_diversity/data/public_data_retireval//CurMetDat-metagenomes/files/metadata/n2943.tsv \n"
     ]
    }
   ],
   "source": [
    "outfile = file.path(base_dir, 'CurMetDat-metagenomes', 'files', 'metadata', 'n2943.tsv')\n",
    "write_table(samp_meta, outfile)"
   ]
  },
  {
   "cell_type": "markdown",
   "metadata": {},
   "source": [
    "# sessionInfo"
   ]
  },
  {
   "cell_type": "code",
   "execution_count": 23,
   "metadata": {
    "ExecuteTime": {
     "end_time": "2021-11-15T16:06:36.004689Z",
     "start_time": "2021-11-15T16:06:35.929Z"
    }
   },
   "outputs": [
    {
     "data": {
      "text/plain": [
       "R version 4.1.1 (2021-08-10)\n",
       "Platform: x86_64-conda-linux-gnu (64-bit)\n",
       "Running under: Ubuntu 18.04.6 LTS\n",
       "\n",
       "Matrix products: default\n",
       "BLAS/LAPACK: /ebio/abt3_projects2/global_metagenome_diversity/envs/phyloseq/lib/libopenblasp-r0.3.17.so\n",
       "\n",
       "locale:\n",
       " [1] LC_CTYPE=en_US.UTF-8       LC_NUMERIC=C              \n",
       " [3] LC_TIME=en_US.UTF-8        LC_COLLATE=en_US.UTF-8    \n",
       " [5] LC_MONETARY=en_US.UTF-8    LC_MESSAGES=en_US.UTF-8   \n",
       " [7] LC_PAPER=en_US.UTF-8       LC_NAME=C                 \n",
       " [9] LC_ADDRESS=C               LC_TELEPHONE=C            \n",
       "[11] LC_MEASUREMENT=en_US.UTF-8 LC_IDENTIFICATION=C       \n",
       "\n",
       "attached base packages:\n",
       "[1] stats     graphics  grDevices utils     datasets  methods   base     \n",
       "\n",
       "other attached packages:\n",
       "[1] LeyLabRMisc_0.2.0 tidytable_0.6.5   data.table_1.14.0 ggplot2_3.3.5    \n",
       "[5] tidyr_1.1.3       dplyr_1.0.7      \n",
       "\n",
       "loaded via a namespace (and not attached):\n",
       " [1] pillar_1.6.2     compiler_4.1.1   base64enc_0.1-3  tools_4.1.1     \n",
       " [5] bit_4.0.4        digest_0.6.28    uuid_0.1-4       jsonlite_1.7.2  \n",
       " [9] evaluate_0.14    lifecycle_1.0.0  tibble_3.1.4     gtable_0.3.0    \n",
       "[13] pkgconfig_2.0.3  rlang_0.4.11     IRdisplay_1.0    IRkernel_1.2    \n",
       "[17] fastmap_1.1.0    repr_1.1.3       withr_2.4.2      generics_0.1.0  \n",
       "[21] vctrs_0.3.8      bit64_4.0.5      grid_4.1.1       tidyselect_1.1.1\n",
       "[25] glue_1.4.2       R6_2.5.1         fansi_0.4.2      pbdZMQ_0.3-5    \n",
       "[29] purrr_0.3.4      magrittr_2.0.1   scales_1.1.1     ellipsis_0.3.2  \n",
       "[33] htmltools_0.5.2  colorspace_2.0-2 utf8_1.2.2       munsell_0.5.0   \n",
       "[37] crayon_1.4.1    "
      ]
     },
     "metadata": {},
     "output_type": "display_data"
    }
   ],
   "source": [
    "sessionInfo()"
   ]
  }
 ],
 "metadata": {
  "kernelspec": {
   "display_name": "R [conda env:global_metagenome_diversity-phyloseq]",
   "language": "R",
   "name": "conda-env-global_metagenome_diversity-phyloseq-r"
  },
  "language_info": {
   "codemirror_mode": "r",
   "file_extension": ".r",
   "mimetype": "text/x-r-source",
   "name": "R",
   "pygments_lexer": "r",
   "version": "4.1.1"
  },
  "toc": {
   "base_numbering": 1,
   "nav_menu": {},
   "number_sections": true,
   "sideBar": true,
   "skip_h1_title": false,
   "title_cell": "Table of Contents",
   "title_sidebar": "Contents",
   "toc_cell": true,
   "toc_position": {},
   "toc_section_display": true,
   "toc_window_display": false
  }
 },
 "nbformat": 4,
 "nbformat_minor": 4
}
