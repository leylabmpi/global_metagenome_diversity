{
 "cells": [
  {
   "cell_type": "markdown",
   "metadata": {
    "toc": true
   },
   "source": [
    "<h1>Table of Contents<span class=\"tocSkip\"></span></h1>\n",
    "<div class=\"toc\"><ul class=\"toc-item\"><li><span><a href=\"#Goal\" data-toc-modified-id=\"Goal-1\"><span class=\"toc-item-num\">1&nbsp;&nbsp;</span>Goal</a></span></li><li><span><a href=\"#Var\" data-toc-modified-id=\"Var-2\"><span class=\"toc-item-num\">2&nbsp;&nbsp;</span>Var</a></span></li><li><span><a href=\"#Init\" data-toc-modified-id=\"Init-3\"><span class=\"toc-item-num\">3&nbsp;&nbsp;</span>Init</a></span></li><li><span><a href=\"#Load\" data-toc-modified-id=\"Load-4\"><span class=\"toc-item-num\">4&nbsp;&nbsp;</span>Load</a></span></li><li><span><a href=\"#Taxonomy\" data-toc-modified-id=\"Taxonomy-5\"><span class=\"toc-item-num\">5&nbsp;&nbsp;</span>Taxonomy</a></span><ul class=\"toc-item\"><li><ul class=\"toc-item\"><li><span><a href=\"#Enterobacteriaceae\" data-toc-modified-id=\"Enterobacteriaceae-5.0.1\"><span class=\"toc-item-num\">5.0.1&nbsp;&nbsp;</span>Enterobacteriaceae</a></span></li><li><span><a href=\"#UBA1067\" data-toc-modified-id=\"UBA1067-5.0.2\"><span class=\"toc-item-num\">5.0.2&nbsp;&nbsp;</span>UBA1067</a></span></li><li><span><a href=\"#F082\" data-toc-modified-id=\"F082-5.0.3\"><span class=\"toc-item-num\">5.0.3&nbsp;&nbsp;</span>F082</a></span></li><li><span><a href=\"#Bacteroidaceae\" data-toc-modified-id=\"Bacteroidaceae-5.0.4\"><span class=\"toc-item-num\">5.0.4&nbsp;&nbsp;</span>Bacteroidaceae</a></span></li></ul></li><li><span><a href=\"#GTDBr89\" data-toc-modified-id=\"GTDBr89-5.1\"><span class=\"toc-item-num\">5.1&nbsp;&nbsp;</span>GTDBr89</a></span><ul class=\"toc-item\"><li><span><a href=\"#UBA1067\" data-toc-modified-id=\"UBA1067-5.1.1\"><span class=\"toc-item-num\">5.1.1&nbsp;&nbsp;</span>UBA1067</a></span></li><li><span><a href=\"#F082\" data-toc-modified-id=\"F082-5.1.2\"><span class=\"toc-item-num\">5.1.2&nbsp;&nbsp;</span>F082</a></span></li></ul></li></ul></li><li><span><a href=\"#sessionInfo\" data-toc-modified-id=\"sessionInfo-6\"><span class=\"toc-item-num\">6&nbsp;&nbsp;</span>sessionInfo</a></span></li></ul></div>"
   ]
  },
  {
   "cell_type": "markdown",
   "metadata": {},
   "source": [
    "# Goal\n",
    "\n",
    "* exploration of the taxonomy"
   ]
  },
  {
   "cell_type": "markdown",
   "metadata": {},
   "source": [
    "# Var"
   ]
  },
  {
   "cell_type": "code",
   "execution_count": 55,
   "metadata": {
    "ExecuteTime": {
     "end_time": "2021-10-30T14:44:54.530325Z",
     "start_time": "2021-10-30T14:44:54.433Z"
    }
   },
   "outputs": [],
   "source": [
    "# GTDBr89 genome metadata\n",
    "meta_file = '/ebio/abt3_projects/databases_no-backup/GTDB/release89/LLMGP-DB/metadata_1per-GTDB-Spec_gte50comp-lt5cont_wtaxID_wPath.tsv'\n",
    "\n",
    "# braken count table\n",
    "brk_file = '/ebio/abt3_projects2/global_metagenome_diversity/data/global_metagenomes/diversity/bracken_filt2.qs'\n",
    "\n",
    "# sample metadata\n",
    "base_in_dir = '/ebio/abt3_projects2/global_metagenome_diversity/data/public_data_retireval/'\n",
    "samp_metadata_file = file.path(base_in_dir, 'CurMetDat-metagenomes', 'files', 'metadata', 'Filtered_CurMetDat_ff.tsv')\n",
    "\n",
    "# metadata\n",
    "#meta_bac_file = '/ebio/abt3_projects/databases_no-backup/GTDB/release89/metadata/bac120_metadata_r89.tsv'\n",
    "#meta_arc_file = '/ebio/abt3_projects/databases_no-backup/GTDB/release89/metadata/ar122_metadata_r89.tsv'\n",
    "#meta_file = '/ebio/abt3_projects/databases_no-backup/GTDB/release89/LLMGP-DB/metadata_1per-GTDB-Spec_gte50comp-lt5cont_wtaxID_wPath.tsv'\n",
    "\n",
    "# params\n",
    "threads = 4"
   ]
  },
  {
   "cell_type": "markdown",
   "metadata": {},
   "source": [
    "# Init"
   ]
  },
  {
   "cell_type": "code",
   "execution_count": 58,
   "metadata": {
    "ExecuteTime": {
     "end_time": "2021-10-30T14:45:03.527963Z",
     "start_time": "2021-10-30T14:45:03.450Z"
    }
   },
   "outputs": [],
   "source": [
    "library(dplyr)\n",
    "library(tidyr)\n",
    "library(ggplot2)\n",
    "library(data.table)\n",
    "library(tidytable)\n",
    "library(LeyLabRMisc)"
   ]
  },
  {
   "cell_type": "code",
   "execution_count": 59,
   "metadata": {
    "ExecuteTime": {
     "end_time": "2021-10-30T14:45:03.637916Z",
     "start_time": "2021-10-30T14:45:03.596Z"
    }
   },
   "outputs": [],
   "source": [
    "df.dims()"
   ]
  },
  {
   "cell_type": "markdown",
   "metadata": {},
   "source": [
    "# Load"
   ]
  },
  {
   "cell_type": "code",
   "execution_count": 60,
   "metadata": {
    "ExecuteTime": {
     "end_time": "2021-10-30T14:45:05.100773Z",
     "start_time": "2021-10-30T14:45:04.604Z"
    }
   },
   "outputs": [
    {
     "name": "stdout",
     "output_type": "stream",
     "text": [
      "No. of unique Subjects: 2943 \n",
      "No. of unique Samples: 2943 \n",
      "No. of unique Datasets: 30 \n"
     ]
    },
    {
     "data": {
      "text/html": [
       "<table class=\"dataframe\">\n",
       "<caption>A tidytable: 2943 × 10</caption>\n",
       "<thead>\n",
       "\t<tr><th scope=col>Sample</th><th scope=col>dataset_name</th><th scope=col>subjectID</th><th scope=col>study_condition</th><th scope=col>disease</th><th scope=col>age</th><th scope=col>gender</th><th scope=col>BMI</th><th scope=col>westernized</th><th scope=col>disease_status</th></tr>\n",
       "\t<tr><th scope=col>&lt;chr&gt;</th><th scope=col>&lt;chr&gt;</th><th scope=col>&lt;chr&gt;</th><th scope=col>&lt;chr&gt;</th><th scope=col>&lt;chr&gt;</th><th scope=col>&lt;int&gt;</th><th scope=col>&lt;chr&gt;</th><th scope=col>&lt;dbl&gt;</th><th scope=col>&lt;lgl&gt;</th><th scope=col>&lt;chr&gt;</th></tr>\n",
       "</thead>\n",
       "<tbody>\n",
       "\t<tr><td>TRAVELRES1 </td><td>Bengtsson-PalmeJ_2015</td><td>TRAVELRES1_2  </td><td>control</td><td>healthy</td><td>25</td><td>female</td><td>NA</td><td>TRUE</td><td>healthy</td></tr>\n",
       "\t<tr><td>TRAVELRES11</td><td>Bengtsson-PalmeJ_2015</td><td>TRAVELRES11_12</td><td>control</td><td>healthy</td><td>22</td><td>female</td><td>NA</td><td>TRUE</td><td>healthy</td></tr>\n",
       "\t<tr><td>⋮</td><td>⋮</td><td>⋮</td><td>⋮</td><td>⋮</td><td>⋮</td><td>⋮</td><td>⋮</td><td>⋮</td><td>⋮</td></tr>\n",
       "\t<tr><td>PNP_Validation_45</td><td>ZeeviD_2015</td><td>PNP_Validation_45</td><td>control</td><td>healthy</td><td>NA</td><td></td><td>NA</td><td>TRUE</td><td>healthy</td></tr>\n",
       "\t<tr><td>PNP_Validation_46</td><td>ZeeviD_2015</td><td>PNP_Validation_46</td><td>control</td><td>healthy</td><td>NA</td><td></td><td>NA</td><td>TRUE</td><td>healthy</td></tr>\n",
       "</tbody>\n",
       "</table>\n"
      ],
      "text/latex": [
       "A tidytable: 2943 × 10\n",
       "\\begin{tabular}{llllllllll}\n",
       " Sample & dataset\\_name & subjectID & study\\_condition & disease & age & gender & BMI & westernized & disease\\_status\\\\\n",
       " <chr> & <chr> & <chr> & <chr> & <chr> & <int> & <chr> & <dbl> & <lgl> & <chr>\\\\\n",
       "\\hline\n",
       "\t TRAVELRES1  & Bengtsson-PalmeJ\\_2015 & TRAVELRES1\\_2   & control & healthy & 25 & female & NA & TRUE & healthy\\\\\n",
       "\t TRAVELRES11 & Bengtsson-PalmeJ\\_2015 & TRAVELRES11\\_12 & control & healthy & 22 & female & NA & TRUE & healthy\\\\\n",
       "\t ⋮ & ⋮ & ⋮ & ⋮ & ⋮ & ⋮ & ⋮ & ⋮ & ⋮ & ⋮\\\\\n",
       "\t PNP\\_Validation\\_45 & ZeeviD\\_2015 & PNP\\_Validation\\_45 & control & healthy & NA &  & NA & TRUE & healthy\\\\\n",
       "\t PNP\\_Validation\\_46 & ZeeviD\\_2015 & PNP\\_Validation\\_46 & control & healthy & NA &  & NA & TRUE & healthy\\\\\n",
       "\\end{tabular}\n"
      ],
      "text/markdown": [
       "\n",
       "A tidytable: 2943 × 10\n",
       "\n",
       "| Sample &lt;chr&gt; | dataset_name &lt;chr&gt; | subjectID &lt;chr&gt; | study_condition &lt;chr&gt; | disease &lt;chr&gt; | age &lt;int&gt; | gender &lt;chr&gt; | BMI &lt;dbl&gt; | westernized &lt;lgl&gt; | disease_status &lt;chr&gt; |\n",
       "|---|---|---|---|---|---|---|---|---|---|\n",
       "| TRAVELRES1  | Bengtsson-PalmeJ_2015 | TRAVELRES1_2   | control | healthy | 25 | female | NA | TRUE | healthy |\n",
       "| TRAVELRES11 | Bengtsson-PalmeJ_2015 | TRAVELRES11_12 | control | healthy | 22 | female | NA | TRUE | healthy |\n",
       "| ⋮ | ⋮ | ⋮ | ⋮ | ⋮ | ⋮ | ⋮ | ⋮ | ⋮ | ⋮ |\n",
       "| PNP_Validation_45 | ZeeviD_2015 | PNP_Validation_45 | control | healthy | NA | <!----> | NA | TRUE | healthy |\n",
       "| PNP_Validation_46 | ZeeviD_2015 | PNP_Validation_46 | control | healthy | NA | <!----> | NA | TRUE | healthy |\n",
       "\n"
      ],
      "text/plain": [
       "     Sample            dataset_name          subjectID         study_condition\n",
       "1    TRAVELRES1        Bengtsson-PalmeJ_2015 TRAVELRES1_2      control        \n",
       "2    TRAVELRES11       Bengtsson-PalmeJ_2015 TRAVELRES11_12    control        \n",
       "⋮    ⋮                 ⋮                     ⋮                 ⋮              \n",
       "2942 PNP_Validation_45 ZeeviD_2015           PNP_Validation_45 control        \n",
       "2943 PNP_Validation_46 ZeeviD_2015           PNP_Validation_46 control        \n",
       "     disease age gender BMI westernized disease_status\n",
       "1    healthy 25  female NA  TRUE        healthy       \n",
       "2    healthy 22  female NA  TRUE        healthy       \n",
       "⋮    ⋮       ⋮   ⋮      ⋮   ⋮           ⋮             \n",
       "2942 healthy NA         NA  TRUE        healthy       \n",
       "2943 healthy NA         NA  TRUE        healthy       "
      ]
     },
     "metadata": {},
     "output_type": "display_data"
    }
   ],
   "source": [
    "# all \n",
    "samp_meta = fread(samp_metadata_file, sep='\\t', check.names=TRUE) %>%\n",
    "    select.(Sample, dataset_name, subjectID, study_condition, \n",
    "              disease, age, gender, BMI, westernized) %>%\n",
    "    mutate.(disease_status = ifelse(disease != 'healthy', 'diseased', disease))\n",
    "## summary\n",
    "samp_meta %>% unique_n('Subjects', subjectID)\n",
    "samp_meta %>% unique_n('Samples', Sample)\n",
    "samp_meta %>% unique_n('Datasets', dataset_name)\n",
    "samp_meta"
   ]
  },
  {
   "cell_type": "code",
   "execution_count": 61,
   "metadata": {
    "ExecuteTime": {
     "end_time": "2021-10-30T14:45:17.978557Z",
     "start_time": "2021-10-30T14:45:06.451Z"
    }
   },
   "outputs": [
    {
     "name": "stdout",
     "output_type": "stream",
     "text": [
      "No. of unique Samples: 2943 \n"
     ]
    },
    {
     "data": {
      "text/html": [
       "<table class=\"dataframe\">\n",
       "<caption>A tidytable: 4427630 × 13</caption>\n",
       "<thead>\n",
       "\t<tr><th scope=col>dataset</th><th scope=col>name</th><th scope=col>taxonomy_id</th><th scope=col>taxonomy_lvl</th><th scope=col>Domain</th><th scope=col>Phylum</th><th scope=col>Class</th><th scope=col>Order</th><th scope=col>Family</th><th scope=col>Genus</th><th scope=col>Species</th><th scope=col>Sample</th><th scope=col>Abundance</th></tr>\n",
       "\t<tr><th scope=col>&lt;chr&gt;</th><th scope=col>&lt;chr&gt;</th><th scope=col>&lt;int&gt;</th><th scope=col>&lt;chr&gt;</th><th scope=col>&lt;chr&gt;</th><th scope=col>&lt;chr&gt;</th><th scope=col>&lt;chr&gt;</th><th scope=col>&lt;chr&gt;</th><th scope=col>&lt;chr&gt;</th><th scope=col>&lt;chr&gt;</th><th scope=col>&lt;chr&gt;</th><th scope=col>&lt;chr&gt;</th><th scope=col>&lt;dbl&gt;</th></tr>\n",
       "</thead>\n",
       "<tbody>\n",
       "\t<tr><td>CosteaPI_2017</td><td>s__Caecibacter_massiliensis</td><td>108259</td><td>S</td><td>Bacteria</td><td>Firmicutes_C</td><td>Negativicutes</td><td>Veillonellales </td><td>Megasphaeraceae </td><td>Caecibacter</td><td>Caecibacter massiliensis</td><td>halbarad.11.0.0</td><td>0</td></tr>\n",
       "\t<tr><td>CosteaPI_2017</td><td>s__UBA1777_sp002350825     </td><td>178550</td><td>S</td><td>Bacteria</td><td>Firmicutes_A</td><td>Clostridia   </td><td>Oscillospirales</td><td>Oscillospiraceae</td><td>UBA1777    </td><td>UBA1777 sp002350825     </td><td>halbarad.11.0.0</td><td>0</td></tr>\n",
       "\t<tr><td>⋮</td><td>⋮</td><td>⋮</td><td>⋮</td><td>⋮</td><td>⋮</td><td>⋮</td><td>⋮</td><td>⋮</td><td>⋮</td><td>⋮</td><td>⋮</td><td>⋮</td></tr>\n",
       "\t<tr><td>YuJ_2015</td><td>s__Serratia_grimesii        </td><td>121568</td><td>S</td><td>Bacteria</td><td>Proteobacteria</td><td>Gammaproteobacteria</td><td>Enterobacterales</td><td>Enterobacteriaceae</td><td>Serratia     </td><td>Serratia grimesii        </td><td>SZAXPI017592.142</td><td>0</td></tr>\n",
       "\t<tr><td>YuJ_2015</td><td>s__Bacteroides_A_sp002161565</td><td>119189</td><td>S</td><td>Bacteria</td><td>Bacteroidota  </td><td>Bacteroidia        </td><td>Bacteroidales   </td><td>Bacteroidaceae    </td><td>Bacteroides_A</td><td>Bacteroides_A sp002161565</td><td>SZAXPI017592.142</td><td>0</td></tr>\n",
       "</tbody>\n",
       "</table>\n"
      ],
      "text/latex": [
       "A tidytable: 4427630 × 13\n",
       "\\begin{tabular}{lllllllllllll}\n",
       " dataset & name & taxonomy\\_id & taxonomy\\_lvl & Domain & Phylum & Class & Order & Family & Genus & Species & Sample & Abundance\\\\\n",
       " <chr> & <chr> & <int> & <chr> & <chr> & <chr> & <chr> & <chr> & <chr> & <chr> & <chr> & <chr> & <dbl>\\\\\n",
       "\\hline\n",
       "\t CosteaPI\\_2017 & s\\_\\_Caecibacter\\_massiliensis & 108259 & S & Bacteria & Firmicutes\\_C & Negativicutes & Veillonellales  & Megasphaeraceae  & Caecibacter & Caecibacter massiliensis & halbarad.11.0.0 & 0\\\\\n",
       "\t CosteaPI\\_2017 & s\\_\\_UBA1777\\_sp002350825      & 178550 & S & Bacteria & Firmicutes\\_A & Clostridia    & Oscillospirales & Oscillospiraceae & UBA1777     & UBA1777 sp002350825      & halbarad.11.0.0 & 0\\\\\n",
       "\t ⋮ & ⋮ & ⋮ & ⋮ & ⋮ & ⋮ & ⋮ & ⋮ & ⋮ & ⋮ & ⋮ & ⋮ & ⋮\\\\\n",
       "\t YuJ\\_2015 & s\\_\\_Serratia\\_grimesii         & 121568 & S & Bacteria & Proteobacteria & Gammaproteobacteria & Enterobacterales & Enterobacteriaceae & Serratia      & Serratia grimesii         & SZAXPI017592.142 & 0\\\\\n",
       "\t YuJ\\_2015 & s\\_\\_Bacteroides\\_A\\_sp002161565 & 119189 & S & Bacteria & Bacteroidota   & Bacteroidia         & Bacteroidales    & Bacteroidaceae     & Bacteroides\\_A & Bacteroides\\_A sp002161565 & SZAXPI017592.142 & 0\\\\\n",
       "\\end{tabular}\n"
      ],
      "text/markdown": [
       "\n",
       "A tidytable: 4427630 × 13\n",
       "\n",
       "| dataset &lt;chr&gt; | name &lt;chr&gt; | taxonomy_id &lt;int&gt; | taxonomy_lvl &lt;chr&gt; | Domain &lt;chr&gt; | Phylum &lt;chr&gt; | Class &lt;chr&gt; | Order &lt;chr&gt; | Family &lt;chr&gt; | Genus &lt;chr&gt; | Species &lt;chr&gt; | Sample &lt;chr&gt; | Abundance &lt;dbl&gt; |\n",
       "|---|---|---|---|---|---|---|---|---|---|---|---|---|\n",
       "| CosteaPI_2017 | s__Caecibacter_massiliensis | 108259 | S | Bacteria | Firmicutes_C | Negativicutes | Veillonellales  | Megasphaeraceae  | Caecibacter | Caecibacter massiliensis | halbarad.11.0.0 | 0 |\n",
       "| CosteaPI_2017 | s__UBA1777_sp002350825      | 178550 | S | Bacteria | Firmicutes_A | Clostridia    | Oscillospirales | Oscillospiraceae | UBA1777     | UBA1777 sp002350825      | halbarad.11.0.0 | 0 |\n",
       "| ⋮ | ⋮ | ⋮ | ⋮ | ⋮ | ⋮ | ⋮ | ⋮ | ⋮ | ⋮ | ⋮ | ⋮ | ⋮ |\n",
       "| YuJ_2015 | s__Serratia_grimesii         | 121568 | S | Bacteria | Proteobacteria | Gammaproteobacteria | Enterobacterales | Enterobacteriaceae | Serratia      | Serratia grimesii         | SZAXPI017592.142 | 0 |\n",
       "| YuJ_2015 | s__Bacteroides_A_sp002161565 | 119189 | S | Bacteria | Bacteroidota   | Bacteroidia         | Bacteroidales    | Bacteroidaceae     | Bacteroides_A | Bacteroides_A sp002161565 | SZAXPI017592.142 | 0 |\n",
       "\n"
      ],
      "text/plain": [
       "        dataset       name                         taxonomy_id taxonomy_lvl\n",
       "1       CosteaPI_2017 s__Caecibacter_massiliensis  108259      S           \n",
       "2       CosteaPI_2017 s__UBA1777_sp002350825       178550      S           \n",
       "⋮       ⋮             ⋮                            ⋮           ⋮           \n",
       "4427629 YuJ_2015      s__Serratia_grimesii         121568      S           \n",
       "4427630 YuJ_2015      s__Bacteroides_A_sp002161565 119189      S           \n",
       "        Domain   Phylum         Class               Order           \n",
       "1       Bacteria Firmicutes_C   Negativicutes       Veillonellales  \n",
       "2       Bacteria Firmicutes_A   Clostridia          Oscillospirales \n",
       "⋮       ⋮        ⋮              ⋮                   ⋮               \n",
       "4427629 Bacteria Proteobacteria Gammaproteobacteria Enterobacterales\n",
       "4427630 Bacteria Bacteroidota   Bacteroidia         Bacteroidales   \n",
       "        Family             Genus         Species                  \n",
       "1       Megasphaeraceae    Caecibacter   Caecibacter massiliensis \n",
       "2       Oscillospiraceae   UBA1777       UBA1777 sp002350825      \n",
       "⋮       ⋮                  ⋮             ⋮                        \n",
       "4427629 Enterobacteriaceae Serratia      Serratia grimesii        \n",
       "4427630 Bacteroidaceae     Bacteroides_A Bacteroides_A sp002161565\n",
       "        Sample           Abundance\n",
       "1       halbarad.11.0.0  0        \n",
       "2       halbarad.11.0.0  0        \n",
       "⋮       ⋮                ⋮        \n",
       "4427629 SZAXPI017592.142 0        \n",
       "4427630 SZAXPI017592.142 0        "
      ]
     },
     "metadata": {},
     "output_type": "display_data"
    }
   ],
   "source": [
    "# reading in bracken counts\n",
    "brk_cls = qs::qread(brk_file, nthreads=threads) %>%\n",
    "    mutate.(name = name %>% gsub(' ', '_', .))\n",
    "brk_cls$Sample %>% unique_n('Samples')\n",
    "brk_cls"
   ]
  },
  {
   "cell_type": "code",
   "execution_count": 62,
   "metadata": {
    "ExecuteTime": {
     "end_time": "2021-10-30T14:45:18.002226Z",
     "start_time": "2021-10-30T14:45:08.424Z"
    }
   },
   "outputs": [
    {
     "ename": "ERROR",
     "evalue": "Error in get_bys(x, y, by): by.y columns not in y\n",
     "output_type": "error",
     "traceback": [
      "Error in get_bys(x, y, by): by.y columns not in y\nTraceback:\n",
      "1. brk_cls %>% semi_join.(meta, c(\"Sample\"))",
      "2. semi_join.(., meta, c(\"Sample\"))",
      "3. semi_join..default(., meta, c(\"Sample\"))",
      "4. get_bys(x, y, by)",
      "5. stop(\"by.y columns not in y\")"
     ]
    }
   ],
   "source": [
    "# checking overlap\n",
    "brk_cls = brk_cls %>%\n",
    "    semi_join.(meta, c('Sample'))\n",
    "brk_cls$Sample %>% unique_n('Samples')"
   ]
  },
  {
   "cell_type": "markdown",
   "metadata": {},
   "source": [
    "# Taxonomy"
   ]
  },
  {
   "cell_type": "markdown",
   "metadata": {},
   "source": [
    "### Enterobacteriaceae"
   ]
  },
  {
   "cell_type": "code",
   "execution_count": null,
   "metadata": {
    "ExecuteTime": {
     "end_time": "2021-10-30T14:45:18.005277Z",
     "start_time": "2021-10-30T14:45:16.130Z"
    }
   },
   "outputs": [],
   "source": [
    "# summarizing\n",
    "brk_cls_f = brk_cls %>%\n",
    "    inner_join.(samp_meta, c('Sample')) %>%\n",
    "    filter.(westernized != '',\n",
    "            disease_status != '',\n",
    "            age != '',\n",
    "            gender != '') %>%\n",
    "    filter.(Family == 'Enterobacteriaceae') %>%\n",
    "    summarize.(Abundance = mean(Abundance),\n",
    "               .by=c(Sample, Domain, Phylum, Class, Order, Family)) %>%\n",
    "    filter.(Abundance > 0)\n",
    "brk_cls_f"
   ]
  },
  {
   "cell_type": "code",
   "execution_count": 63,
   "metadata": {
    "ExecuteTime": {
     "end_time": "2021-10-30T14:45:18.929830Z",
     "start_time": "2021-10-30T14:45:18.888Z"
    }
   },
   "outputs": [
    {
     "name": "stdout",
     "output_type": "stream",
     "text": [
      "No. of unique samples: 1044 \n"
     ]
    }
   ],
   "source": [
    "brk_cls_f %>% .$Sample %>% unique_n('samples')"
   ]
  },
  {
   "cell_type": "markdown",
   "metadata": {},
   "source": [
    "### UBA1067"
   ]
  },
  {
   "cell_type": "code",
   "execution_count": 64,
   "metadata": {
    "ExecuteTime": {
     "end_time": "2021-10-30T14:45:20.863003Z",
     "start_time": "2021-10-30T14:45:20.625Z"
    }
   },
   "outputs": [
    {
     "data": {
      "text/plain": [
       ".\n",
       " RUG572 UBA1067 UBA1731 UBA3624 \n",
       "   1282    5436     368     390 "
      ]
     },
     "metadata": {},
     "output_type": "display_data"
    },
    {
     "data": {
      "text/plain": [
       ".\n",
       " RUG572 sp900320225 UBA1067 sp002298665 UBA1067 sp002315875 UBA1067 sp002321305 \n",
       "               1282                 413                 107                1320 \n",
       "UBA1067 sp002350535 UBA1067 sp002351765 UBA1067 sp002363575 UBA1067 sp002371135 \n",
       "                332                 217                 117                 217 \n",
       "UBA1067 sp002371755 UBA1067 sp002392765 UBA1067 sp002395905 UBA1067 sp002440145 \n",
       "                165                 217                 217                 217 \n",
       "UBA1067 sp002449695 UBA1067 sp900320855 UBA1067 sp900321255 UBA1731 sp002317575 \n",
       "                368                1312                 217                 368 \n",
       "UBA3624 sp002373695 \n",
       "                390 "
      ]
     },
     "metadata": {},
     "output_type": "display_data"
    }
   ],
   "source": [
    "# genera\n",
    "brk_cls %>%\n",
    "    filter.(Family == 'UBA1067') %>%\n",
    "    .$Genus %>% table\n",
    "# species\n",
    "brk_cls %>%\n",
    "    filter.(Family == 'UBA1067') %>%\n",
    "    .$Species %>% table"
   ]
  },
  {
   "cell_type": "code",
   "execution_count": 65,
   "metadata": {
    "ExecuteTime": {
     "end_time": "2021-10-30T14:45:21.761193Z",
     "start_time": "2021-10-30T14:45:21.640Z"
    }
   },
   "outputs": [
    {
     "name": "stdout",
     "output_type": "stream",
     "text": [
      "No. of unique items: 17 \n"
     ]
    }
   ],
   "source": [
    "brk_cls %>%\n",
    "    filter.(Family == 'UBA1067') %>%\n",
    "    .$Species %>% unique_n()"
   ]
  },
  {
   "cell_type": "markdown",
   "metadata": {},
   "source": [
    "### F082"
   ]
  },
  {
   "cell_type": "code",
   "execution_count": 66,
   "metadata": {
    "ExecuteTime": {
     "end_time": "2021-10-30T14:45:22.317266Z",
     "start_time": "2021-10-30T14:45:22.254Z"
    }
   },
   "outputs": [
    {
     "data": {
      "text/plain": [
       ".\n",
       "F082 \n",
       "2714 "
      ]
     },
     "metadata": {},
     "output_type": "display_data"
    },
    {
     "data": {
      "text/plain": [
       ".\n",
       "F082 sp001543395 F082 sp002311655 F082 sp002396205 F082 sp002633315 \n",
       "             744              134              134             1702 "
      ]
     },
     "metadata": {},
     "output_type": "display_data"
    }
   ],
   "source": [
    "# genera\n",
    "brk_cls %>%\n",
    "    filter.(Family == 'F082') %>%\n",
    "    .$Genus %>% table\n",
    "# species\n",
    "brk_cls %>%\n",
    "    filter.(Family == 'F082') %>%\n",
    "    .$Species %>% table"
   ]
  },
  {
   "cell_type": "markdown",
   "metadata": {},
   "source": [
    "### Bacteroidaceae"
   ]
  },
  {
   "cell_type": "code",
   "execution_count": 67,
   "metadata": {
    "ExecuteTime": {
     "end_time": "2021-10-30T14:45:24.253557Z",
     "start_time": "2021-10-30T14:45:23.991Z"
    }
   },
   "outputs": [
    {
     "data": {
      "text/plain": [
       ".\n",
       "    Alloprevotella        Bacteroides      Bacteroides_A      Bacteroides_B \n",
       "              3555             126755              42420              14634 \n",
       "     Bacteroides_C      Bacteroides_E            CAG-462            CAG-617 \n",
       "              1947                980               2746               5034 \n",
       "             F0040              Ga6A1     Paraprevotella         Prevotella \n",
       "              2133               1842               5886             376497 \n",
       "Prevotellamassilia             RUG210            UBA1179            UBA3839 \n",
       "             11229                196                 88               3302 \n",
       "           UBA4293            UBA4334            UBA4372            UBA6382 \n",
       "               680               4584               6374               3965 \n",
       "           UBA6398 \n",
       "              7692 "
      ]
     },
     "metadata": {},
     "output_type": "display_data"
    }
   ],
   "source": [
    "# Bacteroideceae\n",
    "brk_cls %>%\n",
    "    filter.(Family == 'Bacteroidaceae') %>%\n",
    "    .$Genus %>% table"
   ]
  },
  {
   "cell_type": "markdown",
   "metadata": {},
   "source": [
    "## GTDBr89"
   ]
  },
  {
   "cell_type": "code",
   "execution_count": 68,
   "metadata": {
    "ExecuteTime": {
     "end_time": "2021-10-30T14:45:26.358676Z",
     "start_time": "2021-10-30T14:45:25.273Z"
    }
   },
   "outputs": [
    {
     "data": {
      "text/html": [
       "<table class=\"dataframe\">\n",
       "<caption>A tidytable: 23360 × 10</caption>\n",
       "<thead>\n",
       "\t<tr><th scope=col>accession</th><th scope=col>checkm_completeness</th><th scope=col>checkm_contamination</th><th scope=col>Domain</th><th scope=col>Phylum</th><th scope=col>Class</th><th scope=col>Order</th><th scope=col>Family</th><th scope=col>Genus</th><th scope=col>Species</th></tr>\n",
       "\t<tr><th scope=col>&lt;chr&gt;</th><th scope=col>&lt;dbl&gt;</th><th scope=col>&lt;dbl&gt;</th><th scope=col>&lt;chr&gt;</th><th scope=col>&lt;chr&gt;</th><th scope=col>&lt;chr&gt;</th><th scope=col>&lt;chr&gt;</th><th scope=col>&lt;chr&gt;</th><th scope=col>&lt;chr&gt;</th><th scope=col>&lt;chr&gt;</th></tr>\n",
       "</thead>\n",
       "<tbody>\n",
       "\t<tr><td>GB_GCA_002789635.1</td><td>79.44</td><td>0</td><td>d__Archaea</td><td>p__Aenigmarchaeota</td><td>c__Aenigmarchaeia</td><td>o__CG10238-14</td><td>f__CG10238-14</td><td>g__CG10238-14  </td><td>s__CG10238-14 sp002789635  </td></tr>\n",
       "\t<tr><td>GB_GCA_001784635.1</td><td>74.92</td><td>0</td><td>d__Archaea</td><td>p__Aenigmarchaeota</td><td>c__Aenigmarchaeia</td><td>o__CG10238-14</td><td>f__CG10238-14</td><td>g__RBG-16-49-10</td><td>s__RBG-16-49-10 sp001784635</td></tr>\n",
       "\t<tr><td>⋮</td><td>⋮</td><td>⋮</td><td>⋮</td><td>⋮</td><td>⋮</td><td>⋮</td><td>⋮</td><td>⋮</td><td>⋮</td></tr>\n",
       "\t<tr><td>GB_GCA_001775395.1</td><td>94.51</td><td>3.48</td><td>d__Bacteria</td><td>p__Zixibacteria</td><td>c__MSB-5A5</td><td>o__UBA10806      </td><td>f__UBA10806      </td><td>g__UBA10806      </td><td>s__UBA10806 sp001775395      </td></tr>\n",
       "\t<tr><td>GB_GCA_002791595.1</td><td>92.06</td><td>2.75</td><td>d__Bacteria</td><td>p__Zixibacteria</td><td>c__MSB-5A5</td><td>o__UM-FILTER-46-8</td><td>f__UM-FILTER-46-8</td><td>g__UM-FILTER-46-8</td><td>s__UM-FILTER-46-8 sp002791595</td></tr>\n",
       "</tbody>\n",
       "</table>\n"
      ],
      "text/latex": [
       "A tidytable: 23360 × 10\n",
       "\\begin{tabular}{llllllllll}\n",
       " accession & checkm\\_completeness & checkm\\_contamination & Domain & Phylum & Class & Order & Family & Genus & Species\\\\\n",
       " <chr> & <dbl> & <dbl> & <chr> & <chr> & <chr> & <chr> & <chr> & <chr> & <chr>\\\\\n",
       "\\hline\n",
       "\t GB\\_GCA\\_002789635.1 & 79.44 & 0 & d\\_\\_Archaea & p\\_\\_Aenigmarchaeota & c\\_\\_Aenigmarchaeia & o\\_\\_CG10238-14 & f\\_\\_CG10238-14 & g\\_\\_CG10238-14   & s\\_\\_CG10238-14 sp002789635  \\\\\n",
       "\t GB\\_GCA\\_001784635.1 & 74.92 & 0 & d\\_\\_Archaea & p\\_\\_Aenigmarchaeota & c\\_\\_Aenigmarchaeia & o\\_\\_CG10238-14 & f\\_\\_CG10238-14 & g\\_\\_RBG-16-49-10 & s\\_\\_RBG-16-49-10 sp001784635\\\\\n",
       "\t ⋮ & ⋮ & ⋮ & ⋮ & ⋮ & ⋮ & ⋮ & ⋮ & ⋮ & ⋮\\\\\n",
       "\t GB\\_GCA\\_001775395.1 & 94.51 & 3.48 & d\\_\\_Bacteria & p\\_\\_Zixibacteria & c\\_\\_MSB-5A5 & o\\_\\_UBA10806       & f\\_\\_UBA10806       & g\\_\\_UBA10806       & s\\_\\_UBA10806 sp001775395      \\\\\n",
       "\t GB\\_GCA\\_002791595.1 & 92.06 & 2.75 & d\\_\\_Bacteria & p\\_\\_Zixibacteria & c\\_\\_MSB-5A5 & o\\_\\_UM-FILTER-46-8 & f\\_\\_UM-FILTER-46-8 & g\\_\\_UM-FILTER-46-8 & s\\_\\_UM-FILTER-46-8 sp002791595\\\\\n",
       "\\end{tabular}\n"
      ],
      "text/markdown": [
       "\n",
       "A tidytable: 23360 × 10\n",
       "\n",
       "| accession &lt;chr&gt; | checkm_completeness &lt;dbl&gt; | checkm_contamination &lt;dbl&gt; | Domain &lt;chr&gt; | Phylum &lt;chr&gt; | Class &lt;chr&gt; | Order &lt;chr&gt; | Family &lt;chr&gt; | Genus &lt;chr&gt; | Species &lt;chr&gt; |\n",
       "|---|---|---|---|---|---|---|---|---|---|\n",
       "| GB_GCA_002789635.1 | 79.44 | 0 | d__Archaea | p__Aenigmarchaeota | c__Aenigmarchaeia | o__CG10238-14 | f__CG10238-14 | g__CG10238-14   | s__CG10238-14 sp002789635   |\n",
       "| GB_GCA_001784635.1 | 74.92 | 0 | d__Archaea | p__Aenigmarchaeota | c__Aenigmarchaeia | o__CG10238-14 | f__CG10238-14 | g__RBG-16-49-10 | s__RBG-16-49-10 sp001784635 |\n",
       "| ⋮ | ⋮ | ⋮ | ⋮ | ⋮ | ⋮ | ⋮ | ⋮ | ⋮ | ⋮ |\n",
       "| GB_GCA_001775395.1 | 94.51 | 3.48 | d__Bacteria | p__Zixibacteria | c__MSB-5A5 | o__UBA10806       | f__UBA10806       | g__UBA10806       | s__UBA10806 sp001775395       |\n",
       "| GB_GCA_002791595.1 | 92.06 | 2.75 | d__Bacteria | p__Zixibacteria | c__MSB-5A5 | o__UM-FILTER-46-8 | f__UM-FILTER-46-8 | g__UM-FILTER-46-8 | s__UM-FILTER-46-8 sp002791595 |\n",
       "\n"
      ],
      "text/plain": [
       "      accession          checkm_completeness checkm_contamination Domain     \n",
       "1     GB_GCA_002789635.1 79.44               0                    d__Archaea \n",
       "2     GB_GCA_001784635.1 74.92               0                    d__Archaea \n",
       "⋮     ⋮                  ⋮                   ⋮                    ⋮          \n",
       "23359 GB_GCA_001775395.1 94.51               3.48                 d__Bacteria\n",
       "23360 GB_GCA_002791595.1 92.06               2.75                 d__Bacteria\n",
       "      Phylum             Class             Order             Family           \n",
       "1     p__Aenigmarchaeota c__Aenigmarchaeia o__CG10238-14     f__CG10238-14    \n",
       "2     p__Aenigmarchaeota c__Aenigmarchaeia o__CG10238-14     f__CG10238-14    \n",
       "⋮     ⋮                  ⋮                 ⋮                 ⋮                \n",
       "23359 p__Zixibacteria    c__MSB-5A5        o__UBA10806       f__UBA10806      \n",
       "23360 p__Zixibacteria    c__MSB-5A5        o__UM-FILTER-46-8 f__UM-FILTER-46-8\n",
       "      Genus             Species                      \n",
       "1     g__CG10238-14     s__CG10238-14 sp002789635    \n",
       "2     g__RBG-16-49-10   s__RBG-16-49-10 sp001784635  \n",
       "⋮     ⋮                 ⋮                            \n",
       "23359 g__UBA10806       s__UBA10806 sp001775395      \n",
       "23360 g__UM-FILTER-46-8 s__UM-FILTER-46-8 sp002791595"
      ]
     },
     "metadata": {},
     "output_type": "display_data"
    }
   ],
   "source": [
    "# genome metadata\n",
    "meta = Fread(meta_file) %>%\n",
    "    select.(accession, checkm_completeness, checkm_contamination,\n",
    "            gtdb_taxonomy) %>%\n",
    "    separate.(gtdb_taxonomy, taxonomy_levels(), sep=';')\n",
    "meta"
   ]
  },
  {
   "cell_type": "markdown",
   "metadata": {},
   "source": [
    "### UBA1067"
   ]
  },
  {
   "cell_type": "code",
   "execution_count": 69,
   "metadata": {
    "ExecuteTime": {
     "end_time": "2021-10-30T14:45:26.528472Z",
     "start_time": "2021-10-30T14:45:26.337Z"
    }
   },
   "outputs": [
    {
     "name": "stdout",
     "output_type": "stream",
     "text": [
      "No. of unique items: 6 \n",
      "No. of unique items: 21 \n"
     ]
    }
   ],
   "source": [
    "# clades in certain families\n",
    "meta %>%\n",
    "    filter.(Family == 'f__UBA1067') %>%\n",
    "    .$Genus %>% unique_n()\n",
    "\n",
    "meta %>%\n",
    "    filter.(Family == 'f__UBA1067') %>%\n",
    "    .$Species %>% unique_n()"
   ]
  },
  {
   "cell_type": "markdown",
   "metadata": {},
   "source": [
    "### F082"
   ]
  },
  {
   "cell_type": "code",
   "execution_count": 70,
   "metadata": {
    "ExecuteTime": {
     "end_time": "2021-10-30T14:45:26.878930Z",
     "start_time": "2021-10-30T14:45:26.608Z"
    }
   },
   "outputs": [
    {
     "data": {
      "text/html": [
       "<table class=\"dataframe\">\n",
       "<caption>A tidytable: 1 × 4</caption>\n",
       "<thead>\n",
       "\t<tr><th scope=col>Class</th><th scope=col>Order</th><th scope=col>Family</th><th scope=col>Genus</th></tr>\n",
       "\t<tr><th scope=col>&lt;chr&gt;</th><th scope=col>&lt;chr&gt;</th><th scope=col>&lt;chr&gt;</th><th scope=col>&lt;chr&gt;</th></tr>\n",
       "</thead>\n",
       "<tbody>\n",
       "\t<tr><td>c__Bacteroidia</td><td>o__Bacteroidales</td><td>f__F082</td><td>g__F082</td></tr>\n",
       "</tbody>\n",
       "</table>\n"
      ],
      "text/latex": [
       "A tidytable: 1 × 4\n",
       "\\begin{tabular}{llll}\n",
       " Class & Order & Family & Genus\\\\\n",
       " <chr> & <chr> & <chr> & <chr>\\\\\n",
       "\\hline\n",
       "\t c\\_\\_Bacteroidia & o\\_\\_Bacteroidales & f\\_\\_F082 & g\\_\\_F082\\\\\n",
       "\\end{tabular}\n"
      ],
      "text/markdown": [
       "\n",
       "A tidytable: 1 × 4\n",
       "\n",
       "| Class &lt;chr&gt; | Order &lt;chr&gt; | Family &lt;chr&gt; | Genus &lt;chr&gt; |\n",
       "|---|---|---|---|\n",
       "| c__Bacteroidia | o__Bacteroidales | f__F082 | g__F082 |\n",
       "\n"
      ],
      "text/plain": [
       "  Class          Order            Family  Genus  \n",
       "1 c__Bacteroidia o__Bacteroidales f__F082 g__F082"
      ]
     },
     "metadata": {},
     "output_type": "display_data"
    }
   ],
   "source": [
    "# certain clades\n",
    "meta %>%\n",
    "    filter.(Family == 'f__F082') %>%\n",
    "    filter.(Genus == 'g__F082') %>%\n",
    "    distinct.(Class, Order, Family, Genus)"
   ]
  },
  {
   "cell_type": "code",
   "execution_count": 71,
   "metadata": {
    "ExecuteTime": {
     "end_time": "2021-10-30T14:45:27.725891Z",
     "start_time": "2021-10-30T14:45:27.664Z"
    }
   },
   "outputs": [
    {
     "name": "stdout",
     "output_type": "stream",
     "text": [
      "No. of unique items: 8 \n",
      "No. of unique items: 29 \n"
     ]
    }
   ],
   "source": [
    "# clades in certain families\n",
    "meta %>%\n",
    "    filter.(Family == 'f__F082') %>%\n",
    "    .$Genus %>% unique_n()\n",
    "\n",
    "meta %>%\n",
    "    filter.(Family == 'f__F082') %>%\n",
    "    .$Species %>% unique_n()"
   ]
  },
  {
   "cell_type": "markdown",
   "metadata": {
    "ExecuteTime": {
     "end_time": "2021-04-22T11:19:10.359584Z",
     "start_time": "2021-04-22T11:19:10.340Z"
    }
   },
   "source": [
    "# sessionInfo"
   ]
  },
  {
   "cell_type": "code",
   "execution_count": 72,
   "metadata": {
    "ExecuteTime": {
     "end_time": "2021-10-30T14:45:28.716594Z",
     "start_time": "2021-10-30T14:45:28.515Z"
    }
   },
   "outputs": [
    {
     "data": {
      "text/plain": [
       "R version 4.1.1 (2021-08-10)\n",
       "Platform: x86_64-conda-linux-gnu (64-bit)\n",
       "Running under: Ubuntu 18.04.6 LTS\n",
       "\n",
       "Matrix products: default\n",
       "BLAS/LAPACK: /ebio/abt3_projects2/global_metagenome_diversity/envs/phyloseq/lib/libopenblasp-r0.3.17.so\n",
       "\n",
       "locale:\n",
       " [1] LC_CTYPE=en_US.UTF-8       LC_NUMERIC=C              \n",
       " [3] LC_TIME=en_US.UTF-8        LC_COLLATE=en_US.UTF-8    \n",
       " [5] LC_MONETARY=en_US.UTF-8    LC_MESSAGES=en_US.UTF-8   \n",
       " [7] LC_PAPER=en_US.UTF-8       LC_NAME=C                 \n",
       " [9] LC_ADDRESS=C               LC_TELEPHONE=C            \n",
       "[11] LC_MEASUREMENT=en_US.UTF-8 LC_IDENTIFICATION=C       \n",
       "\n",
       "attached base packages:\n",
       "[1] stats     graphics  grDevices utils     datasets  methods   base     \n",
       "\n",
       "other attached packages:\n",
       "[1] LeyLabRMisc_0.2.0 tidytable_0.6.5   data.table_1.14.0 ggplot2_3.3.5    \n",
       "[5] tidyr_1.1.3       dplyr_1.0.7      \n",
       "\n",
       "loaded via a namespace (and not attached):\n",
       " [1] Rcpp_1.0.7          pillar_1.6.2        compiler_4.1.1     \n",
       " [4] qs_0.25.1           base64enc_0.1-3     tools_4.1.1        \n",
       " [7] bit_4.0.4           digest_0.6.28       uuid_0.1-4         \n",
       "[10] jsonlite_1.7.2      evaluate_0.14       lifecycle_1.0.0    \n",
       "[13] tibble_3.1.4        gtable_0.3.0        pkgconfig_2.0.3    \n",
       "[16] rlang_0.4.11        IRdisplay_1.0       IRkernel_1.2       \n",
       "[19] fastmap_1.1.0       repr_1.1.3          withr_2.4.2        \n",
       "[22] generics_0.1.0      vctrs_0.3.8         bit64_4.0.5        \n",
       "[25] grid_4.1.1          tidyselect_1.1.1    RApiSerialize_0.1.0\n",
       "[28] glue_1.4.2          R6_2.5.1            fansi_0.4.2        \n",
       "[31] pbdZMQ_0.3-5        purrr_0.3.4         magrittr_2.0.1     \n",
       "[34] scales_1.1.1        ellipsis_0.3.2      htmltools_0.5.2    \n",
       "[37] colorspace_2.0-2    stringfish_0.15.2   utf8_1.2.2         \n",
       "[40] RcppParallel_5.1.4  munsell_0.5.0       crayon_1.4.1       "
      ]
     },
     "metadata": {},
     "output_type": "display_data"
    }
   ],
   "source": [
    "sessionInfo()"
   ]
  },
  {
   "cell_type": "code",
   "execution_count": null,
   "metadata": {},
   "outputs": [],
   "source": []
  }
 ],
 "metadata": {
  "kernelspec": {
   "display_name": "R [conda env:global_metagenome_diversity-phyloseq]",
   "language": "R",
   "name": "conda-env-global_metagenome_diversity-phyloseq-r"
  },
  "language_info": {
   "codemirror_mode": "r",
   "file_extension": ".r",
   "mimetype": "text/x-r-source",
   "name": "R",
   "pygments_lexer": "r",
   "version": "4.1.1"
  },
  "notify_time": "30",
  "toc": {
   "base_numbering": 1,
   "nav_menu": {},
   "number_sections": true,
   "sideBar": true,
   "skip_h1_title": false,
   "title_cell": "Table of Contents",
   "title_sidebar": "Contents",
   "toc_cell": true,
   "toc_position": {
    "height": "calc(100% - 180px)",
    "left": "10px",
    "top": "150px",
    "width": "196px"
   },
   "toc_section_display": true,
   "toc_window_display": true
  }
 },
 "nbformat": 4,
 "nbformat_minor": 4
}
