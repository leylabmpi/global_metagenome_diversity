{
 "cells": [
  {
   "cell_type": "markdown",
   "metadata": {
    "toc": true
   },
   "source": [
    "<h1>Table of Contents<span class=\"tocSkip\"></span></h1>\n",
    "<div class=\"toc\"><ul class=\"toc-item\"><li><span><a href=\"#Goal\" data-toc-modified-id=\"Goal-1\"><span class=\"toc-item-num\">1&nbsp;&nbsp;</span>Goal</a></span></li><li><span><a href=\"#Var\" data-toc-modified-id=\"Var-2\"><span class=\"toc-item-num\">2&nbsp;&nbsp;</span>Var</a></span></li><li><span><a href=\"#Init\" data-toc-modified-id=\"Init-3\"><span class=\"toc-item-num\">3&nbsp;&nbsp;</span>Init</a></span></li><li><span><a href=\"#Load\" data-toc-modified-id=\"Load-4\"><span class=\"toc-item-num\">4&nbsp;&nbsp;</span>Load</a></span></li><li><span><a href=\"#Renaming\" data-toc-modified-id=\"Renaming-5\"><span class=\"toc-item-num\">5&nbsp;&nbsp;</span>Renaming</a></span><ul class=\"toc-item\"><li><span><a href=\"#Writing-output\" data-toc-modified-id=\"Writing-output-5.1\"><span class=\"toc-item-num\">5.1&nbsp;&nbsp;</span>Writing output</a></span></li></ul></li><li><span><a href=\"#sessionInfo\" data-toc-modified-id=\"sessionInfo-6\"><span class=\"toc-item-num\">6&nbsp;&nbsp;</span>sessionInfo</a></span></li></ul></div>"
   ]
  },
  {
   "cell_type": "markdown",
   "metadata": {},
   "source": [
    "# Goal\n",
    "\n",
    "* Rename the tips of the GTDBr89 Struo DB phylogeny to match the kraken/bracken output (species names)"
   ]
  },
  {
   "cell_type": "markdown",
   "metadata": {},
   "source": [
    "# Var"
   ]
  },
  {
   "cell_type": "code",
   "execution_count": 1,
   "metadata": {
    "ExecuteTime": {
     "end_time": "2021-09-20T17:07:20.307465Z",
     "start_time": "2021-09-20T17:07:20.228Z"
    }
   },
   "outputs": [],
   "source": [
    "# GTDBr89 phylogeny\n",
    "phy_file = '/ebio/abt3_projects/databases_no-backup/GTDB/release89/LLMGP-DB/phylogeny/ar122-bac120_r89_1per-GTDB-Spec_gte50comp-lt5cont.nwk'\n",
    "# GTDBr89 metadata\n",
    "meta_file = '/ebio/abt3_projects/databases_no-backup/GTDB/release89/LLMGP-DB/metadata_1per-GTDB-Spec_gte50comp-lt5cont_wtaxID_wPath.tsv'\n",
    "# params\n",
    "threads = 8"
   ]
  },
  {
   "cell_type": "markdown",
   "metadata": {},
   "source": [
    "# Init"
   ]
  },
  {
   "cell_type": "code",
   "execution_count": 4,
   "metadata": {
    "ExecuteTime": {
     "end_time": "2021-09-20T17:07:23.810035Z",
     "start_time": "2021-09-20T17:07:23.755Z"
    }
   },
   "outputs": [],
   "source": [
    "library(dplyr)\n",
    "library(tidyr)\n",
    "library(ggplot2)\n",
    "library(data.table)\n",
    "library(tidytable)\n",
    "library(ape)\n",
    "library(LeyLabRMisc)"
   ]
  },
  {
   "cell_type": "code",
   "execution_count": 5,
   "metadata": {
    "ExecuteTime": {
     "end_time": "2021-09-20T17:07:25.495379Z",
     "start_time": "2021-09-20T17:07:25.457Z"
    }
   },
   "outputs": [],
   "source": [
    "df.dims()\n",
    "setDTthreads(threads)"
   ]
  },
  {
   "cell_type": "markdown",
   "metadata": {},
   "source": [
    "# Load"
   ]
  },
  {
   "cell_type": "code",
   "execution_count": 6,
   "metadata": {
    "ExecuteTime": {
     "end_time": "2021-09-20T17:07:27.793374Z",
     "start_time": "2021-09-20T17:07:27.357Z"
    }
   },
   "outputs": [
    {
     "data": {
      "text/plain": [
       "\n",
       "Phylogenetic tree with 23360 tips and 23359 internal nodes.\n",
       "\n",
       "Tip labels:\n",
       "  RS_GCF_000296615.1, RS_GCF_000337335.1, RS_GCF_002355655.1, RS_GCF_001280455.1, RS_GCF_000337035.1, RS_GCF_002114285.1, ...\n",
       "Node labels:\n",
       "  100.0, d__Archaea100.0, 97.0, 99.0, 100.0, 100.0:p__Halobacterota, ...\n",
       "\n",
       "Rooted; includes branch lengths."
      ]
     },
     "metadata": {},
     "output_type": "display_data"
    }
   ],
   "source": [
    "phy = read.tree(phy_file)\n",
    "phy"
   ]
  },
  {
   "cell_type": "code",
   "execution_count": 7,
   "metadata": {
    "ExecuteTime": {
     "end_time": "2021-09-20T17:07:39.021141Z",
     "start_time": "2021-09-20T17:07:38.004Z"
    }
   },
   "outputs": [
    {
     "name": "stdout",
     "output_type": "stream",
     "text": [
      "No. of unique accessions: 23360 \n"
     ]
    },
    {
     "data": {
      "text/html": [
       "<table class=\"dataframe\">\n",
       "<caption>A tidytable: 23360 × 9</caption>\n",
       "<thead>\n",
       "\t<tr><th scope=col>accession</th><th scope=col>ncbi_organism_name</th><th scope=col>Domain</th><th scope=col>Phylum</th><th scope=col>Class</th><th scope=col>Order</th><th scope=col>Family</th><th scope=col>Genus</th><th scope=col>Species</th></tr>\n",
       "\t<tr><th scope=col>&lt;chr&gt;</th><th scope=col>&lt;chr&gt;</th><th scope=col>&lt;chr&gt;</th><th scope=col>&lt;chr&gt;</th><th scope=col>&lt;chr&gt;</th><th scope=col>&lt;chr&gt;</th><th scope=col>&lt;chr&gt;</th><th scope=col>&lt;chr&gt;</th><th scope=col>&lt;chr&gt;</th></tr>\n",
       "</thead>\n",
       "<tbody>\n",
       "\t<tr><td>GB_GCA_002789635.1</td><td>GB_GCA_002789635.1_Candidatus Aenigmarchaeota archaeon CG_4_9_14_3_um_filter_37_18</td><td>d__Archaea</td><td>p__Aenigmarchaeota</td><td>c__Aenigmarchaeia</td><td>o__CG10238-14</td><td>f__CG10238-14</td><td>g__CG10238-14  </td><td>s__CG10238-14 sp002789635  </td></tr>\n",
       "\t<tr><td>GB_GCA_001784635.1</td><td>GB_GCA_001784635.1_Candidatus Micrarchaeota archaeon RBG_16_49_10                 </td><td>d__Archaea</td><td>p__Aenigmarchaeota</td><td>c__Aenigmarchaeia</td><td>o__CG10238-14</td><td>f__CG10238-14</td><td>g__RBG-16-49-10</td><td>s__RBG-16-49-10 sp001784635</td></tr>\n",
       "\t<tr><td>⋮</td><td>⋮</td><td>⋮</td><td>⋮</td><td>⋮</td><td>⋮</td><td>⋮</td><td>⋮</td><td>⋮</td></tr>\n",
       "\t<tr><td>GB_GCA_001775395.1</td><td>GB_GCA_001775395.1_candidate division Zixibacteria bacterium RBG_16_53_22              </td><td>d__Bacteria</td><td>p__Zixibacteria</td><td>c__MSB-5A5</td><td>o__UBA10806      </td><td>f__UBA10806      </td><td>g__UBA10806      </td><td>s__UBA10806 sp001775395      </td></tr>\n",
       "\t<tr><td>GB_GCA_002791595.1</td><td>GB_GCA_002791595.1_candidate division Zixibacteria bacterium CG_4_9_14_3_um_filter_46_8</td><td>d__Bacteria</td><td>p__Zixibacteria</td><td>c__MSB-5A5</td><td>o__UM-FILTER-46-8</td><td>f__UM-FILTER-46-8</td><td>g__UM-FILTER-46-8</td><td>s__UM-FILTER-46-8 sp002791595</td></tr>\n",
       "</tbody>\n",
       "</table>\n"
      ],
      "text/latex": [
       "A tidytable: 23360 × 9\n",
       "\\begin{tabular}{lllllllll}\n",
       " accession & ncbi\\_organism\\_name & Domain & Phylum & Class & Order & Family & Genus & Species\\\\\n",
       " <chr> & <chr> & <chr> & <chr> & <chr> & <chr> & <chr> & <chr> & <chr>\\\\\n",
       "\\hline\n",
       "\t GB\\_GCA\\_002789635.1 & GB\\_GCA\\_002789635.1\\_Candidatus Aenigmarchaeota archaeon CG\\_4\\_9\\_14\\_3\\_um\\_filter\\_37\\_18 & d\\_\\_Archaea & p\\_\\_Aenigmarchaeota & c\\_\\_Aenigmarchaeia & o\\_\\_CG10238-14 & f\\_\\_CG10238-14 & g\\_\\_CG10238-14   & s\\_\\_CG10238-14 sp002789635  \\\\\n",
       "\t GB\\_GCA\\_001784635.1 & GB\\_GCA\\_001784635.1\\_Candidatus Micrarchaeota archaeon RBG\\_16\\_49\\_10                  & d\\_\\_Archaea & p\\_\\_Aenigmarchaeota & c\\_\\_Aenigmarchaeia & o\\_\\_CG10238-14 & f\\_\\_CG10238-14 & g\\_\\_RBG-16-49-10 & s\\_\\_RBG-16-49-10 sp001784635\\\\\n",
       "\t ⋮ & ⋮ & ⋮ & ⋮ & ⋮ & ⋮ & ⋮ & ⋮ & ⋮\\\\\n",
       "\t GB\\_GCA\\_001775395.1 & GB\\_GCA\\_001775395.1\\_candidate division Zixibacteria bacterium RBG\\_16\\_53\\_22               & d\\_\\_Bacteria & p\\_\\_Zixibacteria & c\\_\\_MSB-5A5 & o\\_\\_UBA10806       & f\\_\\_UBA10806       & g\\_\\_UBA10806       & s\\_\\_UBA10806 sp001775395      \\\\\n",
       "\t GB\\_GCA\\_002791595.1 & GB\\_GCA\\_002791595.1\\_candidate division Zixibacteria bacterium CG\\_4\\_9\\_14\\_3\\_um\\_filter\\_46\\_8 & d\\_\\_Bacteria & p\\_\\_Zixibacteria & c\\_\\_MSB-5A5 & o\\_\\_UM-FILTER-46-8 & f\\_\\_UM-FILTER-46-8 & g\\_\\_UM-FILTER-46-8 & s\\_\\_UM-FILTER-46-8 sp002791595\\\\\n",
       "\\end{tabular}\n"
      ],
      "text/markdown": [
       "\n",
       "A tidytable: 23360 × 9\n",
       "\n",
       "| accession &lt;chr&gt; | ncbi_organism_name &lt;chr&gt; | Domain &lt;chr&gt; | Phylum &lt;chr&gt; | Class &lt;chr&gt; | Order &lt;chr&gt; | Family &lt;chr&gt; | Genus &lt;chr&gt; | Species &lt;chr&gt; |\n",
       "|---|---|---|---|---|---|---|---|---|\n",
       "| GB_GCA_002789635.1 | GB_GCA_002789635.1_Candidatus Aenigmarchaeota archaeon CG_4_9_14_3_um_filter_37_18 | d__Archaea | p__Aenigmarchaeota | c__Aenigmarchaeia | o__CG10238-14 | f__CG10238-14 | g__CG10238-14   | s__CG10238-14 sp002789635   |\n",
       "| GB_GCA_001784635.1 | GB_GCA_001784635.1_Candidatus Micrarchaeota archaeon RBG_16_49_10                  | d__Archaea | p__Aenigmarchaeota | c__Aenigmarchaeia | o__CG10238-14 | f__CG10238-14 | g__RBG-16-49-10 | s__RBG-16-49-10 sp001784635 |\n",
       "| ⋮ | ⋮ | ⋮ | ⋮ | ⋮ | ⋮ | ⋮ | ⋮ | ⋮ |\n",
       "| GB_GCA_001775395.1 | GB_GCA_001775395.1_candidate division Zixibacteria bacterium RBG_16_53_22               | d__Bacteria | p__Zixibacteria | c__MSB-5A5 | o__UBA10806       | f__UBA10806       | g__UBA10806       | s__UBA10806 sp001775395       |\n",
       "| GB_GCA_002791595.1 | GB_GCA_002791595.1_candidate division Zixibacteria bacterium CG_4_9_14_3_um_filter_46_8 | d__Bacteria | p__Zixibacteria | c__MSB-5A5 | o__UM-FILTER-46-8 | f__UM-FILTER-46-8 | g__UM-FILTER-46-8 | s__UM-FILTER-46-8 sp002791595 |\n",
       "\n"
      ],
      "text/plain": [
       "      accession         \n",
       "1     GB_GCA_002789635.1\n",
       "2     GB_GCA_001784635.1\n",
       "⋮     ⋮                 \n",
       "23359 GB_GCA_001775395.1\n",
       "23360 GB_GCA_002791595.1\n",
       "      ncbi_organism_name                                                                     \n",
       "1     GB_GCA_002789635.1_Candidatus Aenigmarchaeota archaeon CG_4_9_14_3_um_filter_37_18     \n",
       "2     GB_GCA_001784635.1_Candidatus Micrarchaeota archaeon RBG_16_49_10                      \n",
       "⋮     ⋮                                                                                      \n",
       "23359 GB_GCA_001775395.1_candidate division Zixibacteria bacterium RBG_16_53_22              \n",
       "23360 GB_GCA_002791595.1_candidate division Zixibacteria bacterium CG_4_9_14_3_um_filter_46_8\n",
       "      Domain      Phylum             Class             Order            \n",
       "1     d__Archaea  p__Aenigmarchaeota c__Aenigmarchaeia o__CG10238-14    \n",
       "2     d__Archaea  p__Aenigmarchaeota c__Aenigmarchaeia o__CG10238-14    \n",
       "⋮     ⋮           ⋮                  ⋮                 ⋮                \n",
       "23359 d__Bacteria p__Zixibacteria    c__MSB-5A5        o__UBA10806      \n",
       "23360 d__Bacteria p__Zixibacteria    c__MSB-5A5        o__UM-FILTER-46-8\n",
       "      Family            Genus             Species                      \n",
       "1     f__CG10238-14     g__CG10238-14     s__CG10238-14 sp002789635    \n",
       "2     f__CG10238-14     g__RBG-16-49-10   s__RBG-16-49-10 sp001784635  \n",
       "⋮     ⋮                 ⋮                 ⋮                            \n",
       "23359 f__UBA10806       g__UBA10806       s__UBA10806 sp001775395      \n",
       "23360 f__UM-FILTER-46-8 g__UM-FILTER-46-8 s__UM-FILTER-46-8 sp002791595"
      ]
     },
     "metadata": {},
     "output_type": "display_data"
    }
   ],
   "source": [
    "# reading metadata\n",
    "tax_levs = c('Domain', 'Phylum', 'Class', 'Order', 'Family', 'Genus', 'Species')\n",
    "meta = Fread(meta_file) %>%\n",
    "    select.(accession, ncbi_organism_name, gtdb_taxonomy) %>%\n",
    "    separate.(gtdb_taxonomy, tax_levs, sep=';') \n",
    "meta %>% unique_n('accessions', accession)\n",
    "meta"
   ]
  },
  {
   "cell_type": "markdown",
   "metadata": {},
   "source": [
    "# Renaming"
   ]
  },
  {
   "cell_type": "code",
   "execution_count": 8,
   "metadata": {
    "ExecuteTime": {
     "end_time": "2021-09-20T17:07:46.567372Z",
     "start_time": "2021-09-20T17:07:46.498Z"
    }
   },
   "outputs": [
    {
     "name": "stdout",
     "output_type": "stream",
     "text": [
      "intersect(x,y): 23360 \n",
      "setdiff(x,y): 0 \n",
      "setdiff(y,x): 0 \n",
      "union(x,y): 23360 \n"
     ]
    }
   ],
   "source": [
    "# checking overlap\n",
    "overlap(phy$tip.label, meta, sel_col_y=accession)"
   ]
  },
  {
   "cell_type": "code",
   "execution_count": 9,
   "metadata": {
    "ExecuteTime": {
     "end_time": "2021-09-20T17:07:54.972233Z",
     "start_time": "2021-09-20T17:07:54.706Z"
    }
   },
   "outputs": [
    {
     "data": {
      "text/html": [
       "<table class=\"dataframe\">\n",
       "<caption>A matrix: 2 × 6 of type dbl</caption>\n",
       "<thead>\n",
       "\t<tr><th></th><th scope=col>used</th><th scope=col>(Mb)</th><th scope=col>gc trigger</th><th scope=col>(Mb)</th><th scope=col>max used</th><th scope=col>(Mb)</th></tr>\n",
       "</thead>\n",
       "<tbody>\n",
       "\t<tr><th scope=row>Ncells</th><td> 958093</td><td>51.2</td><td> 2600157</td><td>138.9</td><td> 1715397</td><td>91.7</td></tr>\n",
       "\t<tr><th scope=row>Vcells</th><td>3222385</td><td>24.6</td><td>10247656</td><td> 78.2</td><td>10236877</td><td>78.2</td></tr>\n",
       "</tbody>\n",
       "</table>\n"
      ],
      "text/latex": [
       "A matrix: 2 × 6 of type dbl\n",
       "\\begin{tabular}{r|llllll}\n",
       "  & used & (Mb) & gc trigger & (Mb) & max used & (Mb)\\\\\n",
       "\\hline\n",
       "\tNcells &  958093 & 51.2 &  2600157 & 138.9 &  1715397 & 91.7\\\\\n",
       "\tVcells & 3222385 & 24.6 & 10247656 &  78.2 & 10236877 & 78.2\\\\\n",
       "\\end{tabular}\n"
      ],
      "text/markdown": [
       "\n",
       "A matrix: 2 × 6 of type dbl\n",
       "\n",
       "| <!--/--> | used | (Mb) | gc trigger | (Mb) | max used | (Mb) |\n",
       "|---|---|---|---|---|---|---|\n",
       "| Ncells |  958093 | 51.2 |  2600157 | 138.9 |  1715397 | 91.7 |\n",
       "| Vcells | 3222385 | 24.6 | 10247656 |  78.2 | 10236877 | 78.2 |\n",
       "\n"
      ],
      "text/plain": [
       "       used    (Mb) gc trigger (Mb)  max used (Mb)\n",
       "Ncells  958093 51.2  2600157   138.9  1715397 91.7\n",
       "Vcells 3222385 24.6 10247656    78.2 10236877 78.2"
      ]
     },
     "metadata": {},
     "output_type": "display_data"
    },
    {
     "data": {
      "text/plain": [
       "\n",
       "Phylogenetic tree with 23360 tips and 23359 internal nodes.\n",
       "\n",
       "Tip labels:\n",
       "  s__Halorubrum sp000296615, s__Halorubrum distributum, s__Halorubrum trapanicum, s__Halorubrum tropicale, s__Halorubrum coriense, s__Halorubrum ezzemoulense, ...\n",
       "Node labels:\n",
       "  100.0, d__Archaea100.0, 97.0, 99.0, 100.0, 100.0:p__Halobacterota, ...\n",
       "\n",
       "Rooted; includes branch lengths."
      ]
     },
     "metadata": {},
     "output_type": "display_data"
    }
   ],
   "source": [
    "# renaming tips\n",
    "tmp = meta %>%\n",
    "    as.data.frame\n",
    "rownames(tmp) = tmp$accession\n",
    "\n",
    "phy$tip.label = tmp[phy$tip.label,]$Species\n",
    "rm(tmp)\n",
    "gc()\n",
    "\n",
    "phy"
   ]
  },
  {
   "cell_type": "markdown",
   "metadata": {},
   "source": [
    "## Writing output"
   ]
  },
  {
   "cell_type": "code",
   "execution_count": 10,
   "metadata": {
    "ExecuteTime": {
     "end_time": "2021-09-20T17:07:58.910231Z",
     "start_time": "2021-09-20T17:07:57.905Z"
    }
   },
   "outputs": [
    {
     "name": "stdout",
     "output_type": "stream",
     "text": [
      "File written: /ebio/abt3_projects/databases_no-backup/GTDB/release89/LLMGP-DB/phylogeny/ar122-bac120_r89_1per-GTDB-Spec_gte50comp-lt5cont_rn.nwk \n"
     ]
    }
   ],
   "source": [
    "outF = file.path(dirname(phy_file), 'ar122-bac120_r89_1per-GTDB-Spec_gte50comp-lt5cont_rn.nwk')\n",
    "write.tree(phy, outF)\n",
    "cat('File written:', outF, '\\n')"
   ]
  },
  {
   "cell_type": "markdown",
   "metadata": {},
   "source": [
    "# sessionInfo"
   ]
  },
  {
   "cell_type": "code",
   "execution_count": 11,
   "metadata": {
    "ExecuteTime": {
     "end_time": "2020-03-21T13:32:04.598386Z",
     "start_time": "2020-03-21T13:32:04.455Z"
    }
   },
   "outputs": [
    {
     "data": {
      "text/plain": [
       "R version 3.6.2 (2019-12-12)\n",
       "Platform: x86_64-conda_cos6-linux-gnu (64-bit)\n",
       "Running under: Ubuntu 18.04.3 LTS\n",
       "\n",
       "Matrix products: default\n",
       "BLAS/LAPACK: /ebio/abt3_projects/Georg_animal_feces/envs/phyloseq/lib/libopenblasp-r0.3.7.so\n",
       "\n",
       "locale:\n",
       " [1] LC_CTYPE=en_US.UTF-8       LC_NUMERIC=C              \n",
       " [3] LC_TIME=en_US.UTF-8        LC_COLLATE=en_US.UTF-8    \n",
       " [5] LC_MONETARY=en_US.UTF-8    LC_MESSAGES=en_US.UTF-8   \n",
       " [7] LC_PAPER=en_US.UTF-8       LC_NAME=C                 \n",
       " [9] LC_ADDRESS=C               LC_TELEPHONE=C            \n",
       "[11] LC_MEASUREMENT=en_US.UTF-8 LC_IDENTIFICATION=C       \n",
       "\n",
       "attached base packages:\n",
       "[1] stats     graphics  grDevices utils     datasets  methods   base     \n",
       "\n",
       "other attached packages:\n",
       "[1] LeyLabRMisc_0.1.3 ape_5.3           tidytable_0.3.2   data.table_1.12.8\n",
       "[5] ggplot2_3.2.1     tidyr_1.0.0       dplyr_0.8.3      \n",
       "\n",
       "loaded via a namespace (and not attached):\n",
       " [1] Rcpp_1.0.3       pillar_1.4.3     compiler_3.6.2   base64enc_0.1-3 \n",
       " [5] tools_3.6.2      zeallot_0.1.0    digest_0.6.23    uuid_0.1-2      \n",
       " [9] nlme_3.1-143     jsonlite_1.6     evaluate_0.14    tibble_2.1.3    \n",
       "[13] lifecycle_0.1.0  gtable_0.3.0     lattice_0.20-38  pkgconfig_2.0.3 \n",
       "[17] rlang_0.4.2      IRdisplay_0.7.0  parallel_3.6.2   IRkernel_1.1    \n",
       "[21] repr_1.0.2       withr_2.1.2      vctrs_0.2.1      grid_3.6.2      \n",
       "[25] tidyselect_0.2.5 glue_1.3.1       R6_2.4.1         pbdZMQ_0.3-3    \n",
       "[29] purrr_0.3.3      magrittr_1.5     backports_1.1.5  scales_1.1.0    \n",
       "[33] htmltools_0.4.0  assertthat_0.2.1 colorspace_1.4-1 lazyeval_0.2.2  \n",
       "[37] munsell_0.5.0    crayon_1.3.4    "
      ]
     },
     "metadata": {},
     "output_type": "display_data"
    }
   ],
   "source": [
    "sessionInfo()"
   ]
  }
 ],
 "metadata": {
  "kernelspec": {
   "display_name": "R [conda env:Georg_animal_feces-phyloseq2]",
   "language": "R",
   "name": "conda-env-Georg_animal_feces-phyloseq2-r"
  },
  "language_info": {
   "codemirror_mode": "r",
   "file_extension": ".r",
   "mimetype": "text/x-r-source",
   "name": "R",
   "pygments_lexer": "r",
   "version": "4.0.3"
  },
  "notify_time": "30",
  "toc": {
   "base_numbering": 1,
   "nav_menu": {},
   "number_sections": true,
   "sideBar": true,
   "skip_h1_title": false,
   "title_cell": "Table of Contents",
   "title_sidebar": "Contents",
   "toc_cell": true,
   "toc_position": {},
   "toc_section_display": true,
   "toc_window_display": true
  }
 },
 "nbformat": 4,
 "nbformat_minor": 4
}
