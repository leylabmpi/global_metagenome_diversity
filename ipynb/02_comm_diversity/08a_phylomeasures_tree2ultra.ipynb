{
 "cells": [
  {
   "cell_type": "markdown",
   "metadata": {
    "toc": true
   },
   "source": [
    "<h1>Table of Contents<span class=\"tocSkip\"></span></h1>\n",
    "<div class=\"toc\"><ul class=\"toc-item\"><li><span><a href=\"#Goal\" data-toc-modified-id=\"Goal-1\"><span class=\"toc-item-num\">1&nbsp;&nbsp;</span>Goal</a></span></li><li><span><a href=\"#Var\" data-toc-modified-id=\"Var-2\"><span class=\"toc-item-num\">2&nbsp;&nbsp;</span>Var</a></span></li><li><span><a href=\"#Init\" data-toc-modified-id=\"Init-3\"><span class=\"toc-item-num\">3&nbsp;&nbsp;</span>Init</a></span></li><li><span><a href=\"#Load\" data-toc-modified-id=\"Load-4\"><span class=\"toc-item-num\">4&nbsp;&nbsp;</span>Load</a></span></li><li><span><a href=\"#To-ultrametric\" data-toc-modified-id=\"To-ultrametric-5\"><span class=\"toc-item-num\">5&nbsp;&nbsp;</span>To ultrametric</a></span></li><li><span><a href=\"#Writing-trees\" data-toc-modified-id=\"Writing-trees-6\"><span class=\"toc-item-num\">6&nbsp;&nbsp;</span>Writing trees</a></span></li><li><span><a href=\"#sessionInfo\" data-toc-modified-id=\"sessionInfo-7\"><span class=\"toc-item-num\">7&nbsp;&nbsp;</span>sessionInfo</a></span></li></ul></div>"
   ]
  },
  {
   "cell_type": "markdown",
   "metadata": {},
   "source": [
    "# Goal\n",
    "\n",
    "* Run phylomeasures analysis on the dataset using the various trees as input\n",
    "  * measures: mntd & mpd\n"
   ]
  },
  {
   "cell_type": "markdown",
   "metadata": {},
   "source": [
    "# Var"
   ]
  },
  {
   "cell_type": "code",
   "execution_count": 6,
   "metadata": {
    "ExecuteTime": {
     "end_time": "2021-09-30T17:38:01.561400Z",
     "start_time": "2021-09-30T17:38:01.497Z"
    }
   },
   "outputs": [],
   "source": [
    "# working dir\n",
    "work_dir = '/ebio/abt3_projects/databases_no-backup/curatedMetagenomicData/global_metagenomes/diversity/'\n",
    "\n",
    "# bracken counts\n",
    "brk_file = '/ebio/abt3_projects/databases_no-backup/curatedMetagenomicData/global_metagenomes/diversity/bracken_filt2.qs'\n",
    "\n",
    "# metadata\n",
    "## filtered\n",
    "#metadata_filt_file = file.path(work_dir, 'CurMetDat_metadata_filt-n1846.tsv')\n",
    "## all \n",
    "base_in_dir = '/ebio/abt3_projects/small_projects/nyoungblut/public_data_retireval/'\n",
    "metadata_file = file.path(base_in_dir, 'CurMetDat-metagenomes', 'files', 'metadata', 'Filtered_CurMetDat_ff.tsv')\n",
    "\n",
    "# trees\n",
    "## GTDB phylogeny\n",
    "phy_file = '/ebio/abt3_projects/databases_no-backup/GTDB/release89/LLMGP-DB/phylogeny/ar122-bac120_r89_1per-GTDB-Spec_gte50comp-lt5cont_rn.nwk'\n",
    "## trait phylogeny\n",
    "phy_trt_file = '/ebio/abt3_projects/databases_no-backup/GTDB/release89/LLMGP-DB/genomes/LLG//phenotype/ultrametric/predictions_flat_majority-votes_combined_jaccard_rn.nwk'\n",
    "## gene content\n",
    "### COG content\n",
    "phy_cog_file = '/ebio/abt3_projects/databases_no-backup/GTDB/release89/LLMGP-DB/genomes/LLG/phenotype/ultrametric/genes-per-COG_UniRef90_bray.nwk'\n",
    "phy_cogcat_file = '/ebio/abt3_projects/databases_no-backup/GTDB/release89/LLMGP-DB/genomes/LLG/phenotype/ultrametric/genes-per-COGcat_UniRef90_bray.nwk'\n",
    "### pfam content\n",
    "phy_pfam_file = '/ebio/abt3_projects/databases_no-backup/GTDB/release89/LLMGP-DB/genomes/LLG/phenotype/ultrametric/genes-per-pfam_UniRef90_bray.nwk'\n",
    "phy_pfamcat_file = '/ebio/abt3_projects/databases_no-backup/GTDB/release89/LLMGP-DB/genomes/LLG/phenotype/ultrametric/genes-per-pfamGrp_UniRef90_bray.nwk'\n",
    "\n",
    "# params\n",
    "threads = 8\n",
    "my_seed = 68372"
   ]
  },
  {
   "cell_type": "markdown",
   "metadata": {},
   "source": [
    "# Init"
   ]
  },
  {
   "cell_type": "code",
   "execution_count": 7,
   "metadata": {
    "ExecuteTime": {
     "end_time": "2021-09-30T17:38:01.817532Z",
     "start_time": "2021-09-30T17:38:01.770Z"
    }
   },
   "outputs": [],
   "source": [
    "library(dplyr)\n",
    "library(tidyr)\n",
    "library(ggplot2)\n",
    "library(data.table)\n",
    "library(tidytable)\n",
    "library(ape)\n",
    "library(LeyLabRMisc)"
   ]
  },
  {
   "cell_type": "code",
   "execution_count": 8,
   "metadata": {
    "ExecuteTime": {
     "end_time": "2021-09-30T17:38:01.957778Z",
     "start_time": "2021-09-30T17:38:01.888Z"
    }
   },
   "outputs": [
    {
     "name": "stdout",
     "output_type": "stream",
     "text": [
      "Directory already exists: /ebio/abt3_projects/databases_no-backup/curatedMetagenomicData/global_metagenomes/diversity/ \n"
     ]
    }
   ],
   "source": [
    "df.dims()\n",
    "setDTthreads(threads)\n",
    "RhpcBLASctl::blas_set_num_threads(threads)\n",
    "make_dir(work_dir)"
   ]
  },
  {
   "cell_type": "markdown",
   "metadata": {},
   "source": [
    "# Load"
   ]
  },
  {
   "cell_type": "code",
   "execution_count": 9,
   "metadata": {
    "ExecuteTime": {
     "end_time": "2021-09-30T17:38:04.957378Z",
     "start_time": "2021-09-30T17:38:03.617Z"
    }
   },
   "outputs": [
    {
     "data": {
      "text/plain": [
       "$gtdb_phy\n",
       "\n",
       "Phylogenetic tree with 23360 tips and 23359 internal nodes.\n",
       "\n",
       "Tip labels:\n",
       "  s__Halorubrum_sp000296615, s__Halorubrum_distributum, s__Halorubrum_trapanicum, s__Halorubrum_tropicale, s__Halorubrum_coriense, s__Halorubrum_ezzemoulense, ...\n",
       "Node labels:\n",
       "  100.0, d__Archaea100.0, 97.0, 99.0, 100.0, 100.0-p__Halobacterota, ...\n",
       "\n",
       "Rooted; includes branch lengths.\n",
       "\n",
       "$trt_phy\n",
       "\n",
       "Phylogenetic tree with 23360 tips and 23359 internal nodes.\n",
       "\n",
       "Tip labels:\n",
       "  s__Mikella_endobia, s__Prochlorococcus_B_sp003284185, s__Prochlorococcus_A_sp003282425, s__Eperythrozoon_A_wenyonii_A, s__GN02-872_sp003260325, s__SZUA-486_sp003251635, ...\n",
       "Node labels:\n",
       "  , 1, 1, 1, 1, 1, ...\n",
       "\n",
       "Rooted; includes branch lengths.\n",
       "\n",
       "$phy_cog\n",
       "\n",
       "Phylogenetic tree with 23360 tips and 23359 internal nodes.\n",
       "\n",
       "Tip labels:\n",
       "  s__UBA9959_sp001799795, s__2-02-FULL-45-21_sp001805845, s__UBA11600_sp002717745, s__UBA11600_sp002714165, s__UBA11600_sp002730735, s__LS-NOB_sp002705185, ...\n",
       "Node labels:\n",
       "  , 1, 1, 1, 1, 1, ...\n",
       "\n",
       "Rooted; includes branch lengths.\n",
       "\n",
       "$phy_cogcat\n",
       "\n",
       "Phylogenetic tree with 23360 tips and 23359 internal nodes.\n",
       "\n",
       "Tip labels:\n",
       "  s__UBA9959_sp001799795, s__2-02-FULL-45-21_sp001805845, s__UBA11600_sp002717745, s__UBA11600_sp002714165, s__UBA11600_sp002730735, s__LS-NOB_sp002705185, ...\n",
       "Node labels:\n",
       "  , 1, 1, 1, 1, 1, ...\n",
       "\n",
       "Rooted; includes branch lengths.\n",
       "\n",
       "$phy_pfam\n",
       "\n",
       "Phylogenetic tree with 23358 tips and 23357 internal nodes.\n",
       "\n",
       "Tip labels:\n",
       "  s__Acinetobacter_gerneri, s__Enterococcus_sp002174455, s__Cnuella_takakiae, s__Marinomonas_primoryensis, s__Kosakonia_oryzendophytica, s__Roseomonas_cervicalis, ...\n",
       "Node labels:\n",
       "  , 1, 1, 1, 1, 1, ...\n",
       "\n",
       "Rooted; includes branch lengths.\n",
       "\n",
       "$phy_pfamcat\n",
       "\n",
       "Phylogenetic tree with 23360 tips and 23359 internal nodes.\n",
       "\n",
       "Tip labels:\n",
       "  s__Tenacibaculum_sp002954385, s__Cellulomonas_massiliensis, s__Capnocytophaga_sp000192225, s__Nonlabens_marinus, s__Walczuchella_monophlebidarum, s__Mycoplasmoides_alvi, ...\n",
       "Node labels:\n",
       "  , 1, 1, 1, 1, 1, ...\n",
       "\n",
       "Rooted; includes branch lengths.\n"
      ]
     },
     "metadata": {},
     "output_type": "display_data"
    }
   ],
   "source": [
    "# trees\n",
    "## genome phylogeny\n",
    "trees = list(\n",
    "    'gtdb_phy' = phy_file,\n",
    "    'trt_phy' = phy_trt_file,\n",
    "    'phy_cog' = phy_cog_file,\n",
    "    'phy_cogcat' = phy_cogcat_file,\n",
    "    'phy_pfam' = phy_pfam_file,\n",
    "    'phy_pfamcat' = phy_pfamcat_file\n",
    ")\n",
    "\n",
    "trees = trees %>%\n",
    "    lapply(read.tree)\n",
    "trees"
   ]
  },
  {
   "cell_type": "markdown",
   "metadata": {},
   "source": [
    "# To ultrametric"
   ]
  },
  {
   "cell_type": "code",
   "execution_count": 11,
   "metadata": {
    "ExecuteTime": {
     "end_time": "2021-09-30T17:40:44.570872Z",
     "start_time": "2021-09-30T17:40:12.971Z"
    }
   },
   "outputs": [
    {
     "data": {
      "text/plain": [
       "$gtdb_phy\n",
       "\n",
       "Phylogenetic tree with 23360 tips and 23359 internal nodes.\n",
       "\n",
       "Tip labels:\n",
       "  s__Halorubrum_sp000296615, s__Halorubrum_distributum, s__Halorubrum_trapanicum, s__Halorubrum_tropicale, s__Halorubrum_coriense, s__Halorubrum_ezzemoulense, ...\n",
       "Node labels:\n",
       "  100.0, d__Archaea100.0, 97.0, 99.0, 100.0, 100.0-p__Halobacterota, ...\n",
       "\n",
       "Rooted; includes branch lengths.\n",
       "\n",
       "$trt_phy\n",
       "\n",
       "Phylogenetic tree with 23360 tips and 23359 internal nodes.\n",
       "\n",
       "Tip labels:\n",
       "  s__Mikella_endobia, s__Prochlorococcus_B_sp003284185, s__Prochlorococcus_A_sp003282425, s__Eperythrozoon_A_wenyonii_A, s__GN02-872_sp003260325, s__SZUA-486_sp003251635, ...\n",
       "Node labels:\n",
       "  , 1, 1, 1, 1, 1, ...\n",
       "\n",
       "Rooted; includes branch lengths.\n",
       "\n",
       "$phy_cog\n",
       "\n",
       "Phylogenetic tree with 23360 tips and 23359 internal nodes.\n",
       "\n",
       "Tip labels:\n",
       "  s__UBA9959_sp001799795, s__2-02-FULL-45-21_sp001805845, s__UBA11600_sp002717745, s__UBA11600_sp002714165, s__UBA11600_sp002730735, s__LS-NOB_sp002705185, ...\n",
       "Node labels:\n",
       "  , 1, 1, 1, 1, 1, ...\n",
       "\n",
       "Rooted; includes branch lengths.\n",
       "\n",
       "$phy_cogcat\n",
       "\n",
       "Phylogenetic tree with 23360 tips and 23359 internal nodes.\n",
       "\n",
       "Tip labels:\n",
       "  s__UBA9959_sp001799795, s__2-02-FULL-45-21_sp001805845, s__UBA11600_sp002717745, s__UBA11600_sp002714165, s__UBA11600_sp002730735, s__LS-NOB_sp002705185, ...\n",
       "Node labels:\n",
       "  , 1, 1, 1, 1, 1, ...\n",
       "\n",
       "Rooted; includes branch lengths.\n",
       "\n",
       "$phy_pfam\n",
       "\n",
       "Phylogenetic tree with 23358 tips and 23357 internal nodes.\n",
       "\n",
       "Tip labels:\n",
       "  s__Acinetobacter_gerneri, s__Enterococcus_sp002174455, s__Cnuella_takakiae, s__Marinomonas_primoryensis, s__Kosakonia_oryzendophytica, s__Roseomonas_cervicalis, ...\n",
       "Node labels:\n",
       "  , 1, 1, 1, 1, 1, ...\n",
       "\n",
       "Rooted; includes branch lengths.\n",
       "\n",
       "$phy_pfamcat\n",
       "\n",
       "Phylogenetic tree with 23360 tips and 23359 internal nodes.\n",
       "\n",
       "Tip labels:\n",
       "  s__Tenacibaculum_sp002954385, s__Cellulomonas_massiliensis, s__Capnocytophaga_sp000192225, s__Nonlabens_marinus, s__Walczuchella_monophlebidarum, s__Mycoplasmoides_alvi, ...\n",
       "Node labels:\n",
       "  , 1, 1, 1, 1, 1, ...\n",
       "\n",
       "Rooted; includes branch lengths.\n"
      ]
     },
     "metadata": {},
     "output_type": "display_data"
    }
   ],
   "source": [
    "# conversion\n",
    "doParallel::registerDoParallel(threads)\n",
    "trees = trees %>%\n",
    "    plyr::llply(phytools::force.ultrametric, method=c(\"extend\"),\n",
    "                .parallel=TRUE)\n",
    "trees"
   ]
  },
  {
   "cell_type": "markdown",
   "metadata": {},
   "source": [
    "# Writing trees"
   ]
  },
  {
   "cell_type": "code",
   "execution_count": 8,
   "metadata": {
    "ExecuteTime": {
     "end_time": "2021-03-24T11:48:30.618036Z",
     "start_time": "2021-03-24T11:48:29.694Z"
    }
   },
   "outputs": [
    {
     "name": "stdout",
     "output_type": "stream",
     "text": [
      "File written: /ebio/abt3_projects/databases_no-backup/curatedMetagenomicData/global_metagenomes/diversity//trees_ultrametric.RDS \n"
     ]
    }
   ],
   "source": [
    "F = file.path(work_dir, 'trees_ultrametric.RDS')\n",
    "saveRDS(trees, F)\n",
    "cat('File written:', F, '\\n')"
   ]
  },
  {
   "cell_type": "markdown",
   "metadata": {},
   "source": [
    "# sessionInfo"
   ]
  },
  {
   "cell_type": "code",
   "execution_count": 12,
   "metadata": {
    "ExecuteTime": {
     "end_time": "2021-09-30T17:40:44.658026Z",
     "start_time": "2021-09-30T17:40:15.488Z"
    }
   },
   "outputs": [
    {
     "data": {
      "text/plain": [
       "R version 4.1.1 (2021-08-10)\n",
       "Platform: x86_64-conda-linux-gnu (64-bit)\n",
       "Running under: Ubuntu 18.04.6 LTS\n",
       "\n",
       "Matrix products: default\n",
       "BLAS/LAPACK: /ebio/abt3_projects2/global_metagenome_diversity/envs/phyloseq-phy/lib/libopenblasp-r0.3.17.so\n",
       "\n",
       "locale:\n",
       " [1] LC_CTYPE=en_US.UTF-8       LC_NUMERIC=C              \n",
       " [3] LC_TIME=en_US.UTF-8        LC_COLLATE=en_US.UTF-8    \n",
       " [5] LC_MONETARY=en_US.UTF-8    LC_MESSAGES=en_US.UTF-8   \n",
       " [7] LC_PAPER=en_US.UTF-8       LC_NAME=C                 \n",
       " [9] LC_ADDRESS=C               LC_TELEPHONE=C            \n",
       "[11] LC_MEASUREMENT=en_US.UTF-8 LC_IDENTIFICATION=C       \n",
       "\n",
       "attached base packages:\n",
       "[1] stats     graphics  grDevices utils     datasets  methods   base     \n",
       "\n",
       "other attached packages:\n",
       "[1] LeyLabRMisc_0.2.0 ape_5.5           tidytable_0.6.5   data.table_1.14.2\n",
       "[5] ggplot2_3.3.5     tidyr_1.1.4       dplyr_1.0.7      \n",
       "\n",
       "loaded via a namespace (and not attached):\n",
       " [1] phangorn_2.7.1          pbdZMQ_0.3-5            tidyselect_1.1.1       \n",
       " [4] repr_1.1.3              purrr_0.3.4             lattice_0.20-45        \n",
       " [7] phytools_0.7-90         colorspace_2.0-2        vctrs_0.3.8            \n",
       "[10] generics_0.1.0          expm_0.999-6            htmltools_0.5.2        \n",
       "[13] base64enc_0.1-3         utf8_1.2.2              rlang_0.4.11           \n",
       "[16] pillar_1.6.3            glue_1.4.2              withr_2.4.2            \n",
       "[19] uuid_0.1-4              foreach_1.5.1           lifecycle_1.0.1        \n",
       "[22] plyr_1.8.6              munsell_0.5.0           combinat_0.0-8         \n",
       "[25] gtable_0.3.0            codetools_0.2-18        coda_0.19-4            \n",
       "[28] evaluate_0.14           fastmap_1.1.0           doParallel_1.0.16      \n",
       "[31] parallel_4.1.1          fansi_0.4.2             IRdisplay_1.0          \n",
       "[34] Rcpp_1.0.7              scales_1.1.1            plotrix_3.8-2          \n",
       "[37] IRkernel_1.2            clusterGeneration_1.3.7 scatterplot3d_0.3-41   \n",
       "[40] jsonlite_1.7.2          tmvnsim_1.0-2           fastmatch_1.1-3        \n",
       "[43] mnormt_2.0.2            RhpcBLASctl_0.21-247    digest_0.6.28          \n",
       "[46] numDeriv_2016.8-1.1     grid_4.1.1              quadprog_1.5-8         \n",
       "[49] tools_4.1.1             magrittr_2.0.1          maps_3.4.0             \n",
       "[52] tibble_3.1.4            crayon_1.4.1            pkgconfig_2.0.3        \n",
       "[55] ellipsis_0.3.2          MASS_7.3-54             Matrix_1.3-4           \n",
       "[58] iterators_1.0.13        R6_2.5.1                igraph_1.2.6           \n",
       "[61] nlme_3.1-153            compiler_4.1.1         "
      ]
     },
     "metadata": {},
     "output_type": "display_data"
    }
   ],
   "source": [
    "sessionInfo()"
   ]
  }
 ],
 "metadata": {
  "kernelspec": {
   "display_name": "R [conda env:global_metagenome_diversity-phyloseq-phy]",
   "language": "R",
   "name": "conda-env-global_metagenome_diversity-phyloseq-phy-r"
  },
  "language_info": {
   "codemirror_mode": "r",
   "file_extension": ".r",
   "mimetype": "text/x-r-source",
   "name": "R",
   "pygments_lexer": "r",
   "version": "4.1.1"
  },
  "notify_time": "30",
  "toc": {
   "base_numbering": 1,
   "nav_menu": {},
   "number_sections": true,
   "sideBar": true,
   "skip_h1_title": false,
   "title_cell": "Table of Contents",
   "title_sidebar": "Contents",
   "toc_cell": true,
   "toc_position": {},
   "toc_section_display": true,
   "toc_window_display": true
  }
 },
 "nbformat": 4,
 "nbformat_minor": 4
}
