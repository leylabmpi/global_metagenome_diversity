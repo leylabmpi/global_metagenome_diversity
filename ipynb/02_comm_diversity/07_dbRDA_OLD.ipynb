{
 "cells": [
  {
   "cell_type": "markdown",
   "metadata": {
    "toc": true
   },
   "source": [
    "<h1>Table of Contents<span class=\"tocSkip\"></span></h1>\n",
    "<div class=\"toc\"><ul class=\"toc-item\"><li><span><a href=\"#Goal\" data-toc-modified-id=\"Goal-1\"><span class=\"toc-item-num\">1&nbsp;&nbsp;</span>Goal</a></span></li><li><span><a href=\"#Var\" data-toc-modified-id=\"Var-2\"><span class=\"toc-item-num\">2&nbsp;&nbsp;</span>Var</a></span></li><li><span><a href=\"#Init\" data-toc-modified-id=\"Init-3\"><span class=\"toc-item-num\">3&nbsp;&nbsp;</span>Init</a></span><ul class=\"toc-item\"><li><span><a href=\"#Functions\" data-toc-modified-id=\"Functions-3.1\"><span class=\"toc-item-num\">3.1&nbsp;&nbsp;</span>Functions</a></span></li></ul></li><li><span><a href=\"#Load\" data-toc-modified-id=\"Load-4\"><span class=\"toc-item-num\">4&nbsp;&nbsp;</span>Load</a></span></li><li><span><a href=\"#Count-table\" data-toc-modified-id=\"Count-table-5\"><span class=\"toc-item-num\">5&nbsp;&nbsp;</span>Count table</a></span><ul class=\"toc-item\"><li><span><a href=\"#Metadata\" data-toc-modified-id=\"Metadata-5.1\"><span class=\"toc-item-num\">5.1&nbsp;&nbsp;</span>Metadata</a></span></li><li><span><a href=\"#Beta-diversity\" data-toc-modified-id=\"Beta-diversity-5.2\"><span class=\"toc-item-num\">5.2&nbsp;&nbsp;</span>Beta diversity</a></span></li></ul></li><li><span><a href=\"#dbRDA\" data-toc-modified-id=\"dbRDA-6\"><span class=\"toc-item-num\">6&nbsp;&nbsp;</span>dbRDA</a></span><ul class=\"toc-item\"><li><span><a href=\"#Westernization-&amp;-gender\" data-toc-modified-id=\"Westernization-&amp;-gender-6.1\"><span class=\"toc-item-num\">6.1&nbsp;&nbsp;</span>Westernization &amp; gender</a></span><ul class=\"toc-item\"><li><span><a href=\"#Bray-curtis\" data-toc-modified-id=\"Bray-curtis-6.1.1\"><span class=\"toc-item-num\">6.1.1&nbsp;&nbsp;</span>Bray-curtis</a></span></li><li><span><a href=\"#wunifrac-phy\" data-toc-modified-id=\"wunifrac-phy-6.1.2\"><span class=\"toc-item-num\">6.1.2&nbsp;&nbsp;</span>wunifrac-phy</a></span></li><li><span><a href=\"#wunifrac-trt\" data-toc-modified-id=\"wunifrac-trt-6.1.3\"><span class=\"toc-item-num\">6.1.3&nbsp;&nbsp;</span>wunifrac-trt</a></span></li></ul></li><li><span><a href=\"#Westernization-&amp;-gender-+-age-+-BMI\" data-toc-modified-id=\"Westernization-&amp;-gender-+-age-+-BMI-6.2\"><span class=\"toc-item-num\">6.2&nbsp;&nbsp;</span>Westernization &amp; gender + age + BMI</a></span><ul class=\"toc-item\"><li><span><a href=\"#Bray-Curtis\" data-toc-modified-id=\"Bray-Curtis-6.2.1\"><span class=\"toc-item-num\">6.2.1&nbsp;&nbsp;</span>Bray-Curtis</a></span></li><li><span><a href=\"#wunifrac-phy\" data-toc-modified-id=\"wunifrac-phy-6.2.2\"><span class=\"toc-item-num\">6.2.2&nbsp;&nbsp;</span>wunifrac-phy</a></span></li><li><span><a href=\"#wunifrac-trt\" data-toc-modified-id=\"wunifrac-trt-6.2.3\"><span class=\"toc-item-num\">6.2.3&nbsp;&nbsp;</span>wunifrac-trt</a></span></li></ul></li></ul></li><li><span><a href=\"#sessionInfo\" data-toc-modified-id=\"sessionInfo-7\"><span class=\"toc-item-num\">7&nbsp;&nbsp;</span>sessionInfo</a></span></li></ul></div>"
   ]
  },
  {
   "cell_type": "markdown",
   "metadata": {},
   "source": [
    "# Goal\n",
    "\n",
    "* distance-based RDA on phylogenies"
   ]
  },
  {
   "cell_type": "markdown",
   "metadata": {},
   "source": [
    "# Var"
   ]
  },
  {
   "cell_type": "code",
   "execution_count": 1,
   "metadata": {
    "ExecuteTime": {
     "end_time": "2020-10-26T14:51:35.199754Z",
     "start_time": "2020-10-26T14:51:35.055Z"
    }
   },
   "outputs": [],
   "source": [
    "# working dir\n",
    "work_dir = '/ebio/abt3_projects/databases_no-backup/curatedMetagenomicData/global_metagenomes/diversity/'\n",
    "\n",
    "# bracken counts\n",
    "brk_file = '/ebio/abt3_projects/databases_no-backup/curatedMetagenomicData/global_metagenomes/diversity/bracken_filt.qs'\n",
    "\n",
    "# metadata\n",
    "## filtered\n",
    "metadata_filt_file = file.path(work_dir, 'CurMetDat_metadata_filt-n1846.tsv')\n",
    "## all \n",
    "base_in_dir = '/ebio/abt3_projects/small_projects/nyoungblut/public_data_retireval/'\n",
    "metadata_file = file.path(base_in_dir, 'CurMetDat-metagenomes', 'files', 'metadata', 'Filtered_CurMetDat_f.tsv')\n",
    "\n",
    "# ref genome metadata (GTDBr89 metadata)\n",
    "genome_meta_file = '/ebio/abt3_projects/databases_no-backup/GTDB/release89/LLMGP-DB/metadata_1per-GTDB-Spec_gte50comp-lt5cont_wtaxID_wPath.tsv'\n",
    "\n",
    "# trees\n",
    "## GTDB phylogeny\n",
    "phy_file = '/ebio/abt3_projects/databases_no-backup/GTDB/release89/LLMGP-DB/phylogeny/ar122-bac120_r89_1per-GTDB-Spec_gte50comp-lt5cont_rn.nwk'\n",
    "## trait phylogeny\n",
    "phy_trt_file = '/ebio/abt3_projects/databases_no-backup/GTDB/release89/LLMGP-DB/genomes/LLG//phenotype/predictions_flat_majority-votes_combined_jaccard_rn.nwk'\n",
    "\n",
    "# beta-diversity\n",
    "dist_names1 = list('bray'='bray', 'jaccard'='jaccard', \n",
    "                  'wunifrac'='wunifrac', 'unifrac'='unifrac')\n",
    "dist_names2 = list('wunifrac'='wunifrac', 'unifrac'='unifrac')\n",
    "dist_F1 = '/ebio/abt3_projects/databases_no-backup/curatedMetagenomicData/global_metagenomes/diversity/beta-div.qs'\n",
    "dist_F2 = '/ebio/abt3_projects/databases_no-backup/curatedMetagenomicData/global_metagenomes/diversity/beta-div_trt-maj.qs'\n",
    "\n",
    "# params\n",
    "threads = 16"
   ]
  },
  {
   "cell_type": "markdown",
   "metadata": {},
   "source": [
    "# Init"
   ]
  },
  {
   "cell_type": "code",
   "execution_count": 4,
   "metadata": {
    "ExecuteTime": {
     "end_time": "2020-10-26T14:51:41.819812Z",
     "start_time": "2020-10-26T14:51:38.334Z"
    }
   },
   "outputs": [],
   "source": [
    "library(dplyr)\n",
    "library(tidyr)\n",
    "library(ggplot2)\n",
    "library(data.table)\n",
    "library(tidytable)\n",
    "library(ape)\n",
    "library(phyloseq)\n",
    "library(vegan)\n",
    "library(LeyLabRMisc)"
   ]
  },
  {
   "cell_type": "code",
   "execution_count": 5,
   "metadata": {
    "ExecuteTime": {
     "end_time": "2020-10-26T14:51:41.861745Z",
     "start_time": "2020-10-26T14:51:38.542Z"
    }
   },
   "outputs": [
    {
     "name": "stdout",
     "output_type": "stream",
     "text": [
      "Directory already exists: /ebio/abt3_projects/databases_no-backup/curatedMetagenomicData/global_metagenomes/diversity/ \n"
     ]
    }
   ],
   "source": [
    "df.dims()\n",
    "setDTthreads(threads)\n",
    "RhpcBLASctl::blas_set_num_threads(1)\n",
    "make_dir(work_dir)"
   ]
  },
  {
   "cell_type": "markdown",
   "metadata": {},
   "source": [
    "## Functions"
   ]
  },
  {
   "cell_type": "code",
   "execution_count": 20,
   "metadata": {
    "ExecuteTime": {
     "end_time": "2020-10-26T14:56:14.995398Z",
     "start_time": "2020-10-26T14:56:14.867Z"
    }
   },
   "outputs": [],
   "source": [
    "filter_dist = function(d, x){\n",
    "    d = as.matrix(d)\n",
    "    x = intersect(rownames(d), x)\n",
    "    d = as.dist(d[x,x])\n",
    "    return(d)\n",
    "}"
   ]
  },
  {
   "cell_type": "markdown",
   "metadata": {},
   "source": [
    "# Load"
   ]
  },
  {
   "cell_type": "markdown",
   "metadata": {},
   "source": [
    "# Count table"
   ]
  },
  {
   "cell_type": "code",
   "execution_count": 6,
   "metadata": {
    "ExecuteTime": {
     "end_time": "2020-10-26T14:52:02.032745Z",
     "start_time": "2020-10-26T14:51:40.037Z"
    }
   },
   "outputs": [
    {
     "name": "stderr",
     "output_type": "stream",
     "text": [
      "Warning message:\n",
      "“Predicate functions must be wrapped in `where()`.\n",
      "\n",
      "  # Bad\n",
      "  data %>% select(is.numeric)\n",
      "\n",
      "  # Good\n",
      "  data %>% select(where(is.numeric))\n",
      "\n",
      "\u001b[34mℹ\u001b[39m Please update your code.\n",
      "\u001b[90mThis message is displayed once per session.\u001b[39m”\n"
     ]
    },
    {
     "data": {
      "text/html": [
       "<table>\n",
       "<caption>A data.table: 3550 × 3358</caption>\n",
       "<thead>\n",
       "\t<tr><th scope=col>name</th><th scope=col>A01_02_1FE</th><th scope=col>A02_01_1FE</th><th scope=col>A03_01_1FE</th><th scope=col>A04_01_1FE</th><th scope=col>A04_04_1FE</th><th scope=col>A05_01_1FE</th><th scope=col>A06_01_1FE</th><th scope=col>A07_01_1FE</th><th scope=col>A08_01_1FE</th><th scope=col>⋯</th><th scope=col>nHM512828</th><th scope=col>nHM512834</th><th scope=col>nHM611708</th><th scope=col>nHM612607</th><th scope=col>nHM612709</th><th scope=col>nHM612724</th><th scope=col>nHM612743</th><th scope=col>nHM612836</th><th scope=col>nHMX11726</th><th scope=col>scavenger.11.60.0</th></tr>\n",
       "\t<tr><th scope=col>&lt;chr&gt;</th><th scope=col>&lt;dbl&gt;</th><th scope=col>&lt;dbl&gt;</th><th scope=col>&lt;dbl&gt;</th><th scope=col>&lt;dbl&gt;</th><th scope=col>&lt;dbl&gt;</th><th scope=col>&lt;dbl&gt;</th><th scope=col>&lt;dbl&gt;</th><th scope=col>&lt;dbl&gt;</th><th scope=col>&lt;dbl&gt;</th><th scope=col>⋯</th><th scope=col>&lt;dbl&gt;</th><th scope=col>&lt;dbl&gt;</th><th scope=col>&lt;dbl&gt;</th><th scope=col>&lt;dbl&gt;</th><th scope=col>&lt;dbl&gt;</th><th scope=col>&lt;dbl&gt;</th><th scope=col>&lt;dbl&gt;</th><th scope=col>&lt;dbl&gt;</th><th scope=col>&lt;dbl&gt;</th><th scope=col>&lt;dbl&gt;</th></tr>\n",
       "</thead>\n",
       "<tbody>\n",
       "\t<tr><td>s__1-14-0-10-34-76_sp002763075</td><td>0</td><td>0</td><td>0</td><td>0</td><td>0</td><td>0</td><td>0</td><td>0</td><td>0</td><td>⋯</td><td>0</td><td>0</td><td>0</td><td>0</td><td>0</td><td>0</td><td>0</td><td>0</td><td>0</td><td>0</td></tr>\n",
       "\t<tr><td>s__1-19_sp001922585           </td><td>0</td><td>0</td><td>0</td><td>0</td><td>0</td><td>0</td><td>0</td><td>0</td><td>0</td><td>⋯</td><td>0</td><td>0</td><td>0</td><td>0</td><td>0</td><td>0</td><td>0</td><td>0</td><td>0</td><td>0</td></tr>\n",
       "\t<tr><td>⋮</td><td>⋮</td><td>⋮</td><td>⋮</td><td>⋮</td><td>⋮</td><td>⋮</td><td>⋮</td><td>⋮</td><td>⋮</td><td>⋱</td><td>⋮</td><td>⋮</td><td>⋮</td><td>⋮</td><td>⋮</td><td>⋮</td><td>⋮</td><td>⋮</td><td>⋮</td><td>⋮</td></tr>\n",
       "\t<tr><td>s__Zoogloea_sp002028455 </td><td>0</td><td>0</td><td>0</td><td>0</td><td>0</td><td>0</td><td>0</td><td>0</td><td>0</td><td>⋯</td><td>0</td><td>0</td><td>0</td><td>0</td><td>0</td><td>0</td><td>0</td><td>0.00014</td><td>0</td><td>0</td></tr>\n",
       "\t<tr><td>s__Zunongwangia_mangrovi</td><td>0</td><td>0</td><td>0</td><td>0</td><td>0</td><td>0</td><td>0</td><td>0</td><td>0</td><td>⋯</td><td>0</td><td>0</td><td>0</td><td>0</td><td>0</td><td>0</td><td>0</td><td>0.00000</td><td>0</td><td>0</td></tr>\n",
       "</tbody>\n",
       "</table>\n"
      ],
      "text/latex": [
       "A data.table: 3550 × 3358\n",
       "\\begin{tabular}{lllllllllllllllllllll}\n",
       " name & A01\\_02\\_1FE & A02\\_01\\_1FE & A03\\_01\\_1FE & A04\\_01\\_1FE & A04\\_04\\_1FE & A05\\_01\\_1FE & A06\\_01\\_1FE & A07\\_01\\_1FE & A08\\_01\\_1FE & ⋯ & nHM512828 & nHM512834 & nHM611708 & nHM612607 & nHM612709 & nHM612724 & nHM612743 & nHM612836 & nHMX11726 & scavenger.11.60.0\\\\\n",
       " <chr> & <dbl> & <dbl> & <dbl> & <dbl> & <dbl> & <dbl> & <dbl> & <dbl> & <dbl> & ⋯ & <dbl> & <dbl> & <dbl> & <dbl> & <dbl> & <dbl> & <dbl> & <dbl> & <dbl> & <dbl>\\\\\n",
       "\\hline\n",
       "\t s\\_\\_1-14-0-10-34-76\\_sp002763075 & 0 & 0 & 0 & 0 & 0 & 0 & 0 & 0 & 0 & ⋯ & 0 & 0 & 0 & 0 & 0 & 0 & 0 & 0 & 0 & 0\\\\\n",
       "\t s\\_\\_1-19\\_sp001922585            & 0 & 0 & 0 & 0 & 0 & 0 & 0 & 0 & 0 & ⋯ & 0 & 0 & 0 & 0 & 0 & 0 & 0 & 0 & 0 & 0\\\\\n",
       "\t ⋮ & ⋮ & ⋮ & ⋮ & ⋮ & ⋮ & ⋮ & ⋮ & ⋮ & ⋮ & ⋱ & ⋮ & ⋮ & ⋮ & ⋮ & ⋮ & ⋮ & ⋮ & ⋮ & ⋮ & ⋮\\\\\n",
       "\t s\\_\\_Zoogloea\\_sp002028455  & 0 & 0 & 0 & 0 & 0 & 0 & 0 & 0 & 0 & ⋯ & 0 & 0 & 0 & 0 & 0 & 0 & 0 & 0.00014 & 0 & 0\\\\\n",
       "\t s\\_\\_Zunongwangia\\_mangrovi & 0 & 0 & 0 & 0 & 0 & 0 & 0 & 0 & 0 & ⋯ & 0 & 0 & 0 & 0 & 0 & 0 & 0 & 0.00000 & 0 & 0\\\\\n",
       "\\end{tabular}\n"
      ],
      "text/markdown": [
       "\n",
       "A data.table: 3550 × 3358\n",
       "\n",
       "| name &lt;chr&gt; | A01_02_1FE &lt;dbl&gt; | A02_01_1FE &lt;dbl&gt; | A03_01_1FE &lt;dbl&gt; | A04_01_1FE &lt;dbl&gt; | A04_04_1FE &lt;dbl&gt; | A05_01_1FE &lt;dbl&gt; | A06_01_1FE &lt;dbl&gt; | A07_01_1FE &lt;dbl&gt; | A08_01_1FE &lt;dbl&gt; | ⋯ ⋯ | nHM512828 &lt;dbl&gt; | nHM512834 &lt;dbl&gt; | nHM611708 &lt;dbl&gt; | nHM612607 &lt;dbl&gt; | nHM612709 &lt;dbl&gt; | nHM612724 &lt;dbl&gt; | nHM612743 &lt;dbl&gt; | nHM612836 &lt;dbl&gt; | nHMX11726 &lt;dbl&gt; | scavenger.11.60.0 &lt;dbl&gt; |\n",
       "|---|---|---|---|---|---|---|---|---|---|---|---|---|---|---|---|---|---|---|---|---|\n",
       "| s__1-14-0-10-34-76_sp002763075 | 0 | 0 | 0 | 0 | 0 | 0 | 0 | 0 | 0 | ⋯ | 0 | 0 | 0 | 0 | 0 | 0 | 0 | 0 | 0 | 0 |\n",
       "| s__1-19_sp001922585            | 0 | 0 | 0 | 0 | 0 | 0 | 0 | 0 | 0 | ⋯ | 0 | 0 | 0 | 0 | 0 | 0 | 0 | 0 | 0 | 0 |\n",
       "| ⋮ | ⋮ | ⋮ | ⋮ | ⋮ | ⋮ | ⋮ | ⋮ | ⋮ | ⋮ | ⋱ | ⋮ | ⋮ | ⋮ | ⋮ | ⋮ | ⋮ | ⋮ | ⋮ | ⋮ | ⋮ |\n",
       "| s__Zoogloea_sp002028455  | 0 | 0 | 0 | 0 | 0 | 0 | 0 | 0 | 0 | ⋯ | 0 | 0 | 0 | 0 | 0 | 0 | 0 | 0.00014 | 0 | 0 |\n",
       "| s__Zunongwangia_mangrovi | 0 | 0 | 0 | 0 | 0 | 0 | 0 | 0 | 0 | ⋯ | 0 | 0 | 0 | 0 | 0 | 0 | 0 | 0.00000 | 0 | 0 |\n",
       "\n"
      ],
      "text/plain": [
       "     name                           A01_02_1FE A02_01_1FE A03_01_1FE A04_01_1FE\n",
       "1    s__1-14-0-10-34-76_sp002763075 0          0          0          0         \n",
       "2    s__1-19_sp001922585            0          0          0          0         \n",
       "⋮    ⋮                              ⋮          ⋮          ⋮          ⋮         \n",
       "3549 s__Zoogloea_sp002028455        0          0          0          0         \n",
       "3550 s__Zunongwangia_mangrovi       0          0          0          0         \n",
       "     A04_04_1FE A05_01_1FE A06_01_1FE A07_01_1FE A08_01_1FE ⋯ nHM512828\n",
       "1    0          0          0          0          0          ⋯ 0        \n",
       "2    0          0          0          0          0          ⋯ 0        \n",
       "⋮    ⋮          ⋮          ⋮          ⋮          ⋮          ⋱ ⋮        \n",
       "3549 0          0          0          0          0          ⋯ 0        \n",
       "3550 0          0          0          0          0          ⋯ 0        \n",
       "     nHM512834 nHM611708 nHM612607 nHM612709 nHM612724 nHM612743 nHM612836\n",
       "1    0         0         0         0         0         0         0        \n",
       "2    0         0         0         0         0         0         0        \n",
       "⋮    ⋮         ⋮         ⋮         ⋮         ⋮         ⋮         ⋮        \n",
       "3549 0         0         0         0         0         0         0.00014  \n",
       "3550 0         0         0         0         0         0         0.00000  \n",
       "     nHMX11726 scavenger.11.60.0\n",
       "1    0         0                \n",
       "2    0         0                \n",
       "⋮    ⋮         ⋮                \n",
       "3549 0         0                \n",
       "3550 0         0                "
      ]
     },
     "metadata": {},
     "output_type": "display_data"
    }
   ],
   "source": [
    "# loading as \"wide\" table\n",
    "brk_cls = qs::qread(brk_file, nthreads=threads) %>%\n",
    "    dt_mutate(name = gsub(' ', '_', name)) %>%\n",
    "    dt_select(name, Sample, Abundance) %>%\n",
    "    dt_pivot_wider(names_from=Sample, values_from=Abundance) %>%\n",
    "    dt_mutate_across(is.numeric, function(x) ifelse(is.na(x), 0, x))\n",
    "brk_cls"
   ]
  },
  {
   "cell_type": "code",
   "execution_count": 7,
   "metadata": {
    "ExecuteTime": {
     "end_time": "2020-10-26T14:52:03.923114Z",
     "start_time": "2020-10-26T14:51:40.176Z"
    }
   },
   "outputs": [
    {
     "data": {
      "text/html": [
       "<table>\n",
       "<caption>A data.frame: 3357 × 3550</caption>\n",
       "<thead>\n",
       "\t<tr><th></th><th scope=col>s__1-14-0-10-34-76_sp002763075</th><th scope=col>s__1-19_sp001922585</th><th scope=col>s__14-2_sp000403255</th><th scope=col>s__14-2_sp000403315</th><th scope=col>s__14-2_sp000403845</th><th scope=col>s__14-2_sp001940225</th><th scope=col>s__2-01-FULL-39-21_sp001792305</th><th scope=col>s__2013-40CM-41-45_sp002215675</th><th scope=col>s__46-32_sp003243445</th><th scope=col>s__51-20_sp001917175</th><th scope=col>⋯</th><th scope=col>s__Zag111_sp002405805</th><th scope=col>s__Zag111_sp002438405</th><th scope=col>s__Zag111_sp003258735</th><th scope=col>s__Zag1_sp000433095</th><th scope=col>s__Zag1_sp000437435</th><th scope=col>s__Zag1_sp000438175</th><th scope=col>s__Zag1_sp001765415</th><th scope=col>s__Zag1_sp001917115</th><th scope=col>s__Zoogloea_sp002028455</th><th scope=col>s__Zunongwangia_mangrovi</th></tr>\n",
       "\t<tr><th></th><th scope=col>&lt;dbl&gt;</th><th scope=col>&lt;dbl&gt;</th><th scope=col>&lt;dbl&gt;</th><th scope=col>&lt;dbl&gt;</th><th scope=col>&lt;dbl&gt;</th><th scope=col>&lt;dbl&gt;</th><th scope=col>&lt;dbl&gt;</th><th scope=col>&lt;dbl&gt;</th><th scope=col>&lt;dbl&gt;</th><th scope=col>&lt;dbl&gt;</th><th scope=col>⋯</th><th scope=col>&lt;dbl&gt;</th><th scope=col>&lt;dbl&gt;</th><th scope=col>&lt;dbl&gt;</th><th scope=col>&lt;dbl&gt;</th><th scope=col>&lt;dbl&gt;</th><th scope=col>&lt;dbl&gt;</th><th scope=col>&lt;dbl&gt;</th><th scope=col>&lt;dbl&gt;</th><th scope=col>&lt;dbl&gt;</th><th scope=col>&lt;dbl&gt;</th></tr>\n",
       "</thead>\n",
       "<tbody>\n",
       "\t<tr><th scope=row>A01_02_1FE</th><td>0</td><td>0</td><td>0</td><td>0</td><td>0</td><td>0</td><td>0</td><td>0</td><td>0</td><td>0</td><td>⋯</td><td>0</td><td>0.00000</td><td>0</td><td>0</td><td>0</td><td>0</td><td>0.00000</td><td>0</td><td>0</td><td>0</td></tr>\n",
       "\t<tr><th scope=row>A02_01_1FE</th><td>0</td><td>0</td><td>0</td><td>0</td><td>0</td><td>0</td><td>0</td><td>0</td><td>0</td><td>0</td><td>⋯</td><td>0</td><td>0.00036</td><td>0</td><td>0</td><td>0</td><td>0</td><td>0.00038</td><td>0</td><td>0</td><td>0</td></tr>\n",
       "\t<tr><th scope=row>⋮</th><td>⋮</td><td>⋮</td><td>⋮</td><td>⋮</td><td>⋮</td><td>⋮</td><td>⋮</td><td>⋮</td><td>⋮</td><td>⋮</td><td>⋱</td><td>⋮</td><td>⋮</td><td>⋮</td><td>⋮</td><td>⋮</td><td>⋮</td><td>⋮</td><td>⋮</td><td>⋮</td><td>⋮</td></tr>\n",
       "\t<tr><th scope=row>nHMX11726</th><td>0</td><td>0</td><td>0</td><td>0</td><td>0</td><td>0e+00</td><td>0</td><td>0</td><td>0</td><td>0</td><td>⋯</td><td>0</td><td>0</td><td>0</td><td>0</td><td>0</td><td>0</td><td>0</td><td>0</td><td>0</td><td>0</td></tr>\n",
       "\t<tr><th scope=row>scavenger.11.60.0</th><td>0</td><td>0</td><td>0</td><td>0</td><td>0</td><td>3e-04</td><td>0</td><td>0</td><td>0</td><td>0</td><td>⋯</td><td>0</td><td>0</td><td>0</td><td>0</td><td>0</td><td>0</td><td>0</td><td>0</td><td>0</td><td>0</td></tr>\n",
       "</tbody>\n",
       "</table>\n"
      ],
      "text/latex": [
       "A data.frame: 3357 × 3550\n",
       "\\begin{tabular}{r|lllllllllllllllllllll}\n",
       "  & s\\_\\_1-14-0-10-34-76\\_sp002763075 & s\\_\\_1-19\\_sp001922585 & s\\_\\_14-2\\_sp000403255 & s\\_\\_14-2\\_sp000403315 & s\\_\\_14-2\\_sp000403845 & s\\_\\_14-2\\_sp001940225 & s\\_\\_2-01-FULL-39-21\\_sp001792305 & s\\_\\_2013-40CM-41-45\\_sp002215675 & s\\_\\_46-32\\_sp003243445 & s\\_\\_51-20\\_sp001917175 & ⋯ & s\\_\\_Zag111\\_sp002405805 & s\\_\\_Zag111\\_sp002438405 & s\\_\\_Zag111\\_sp003258735 & s\\_\\_Zag1\\_sp000433095 & s\\_\\_Zag1\\_sp000437435 & s\\_\\_Zag1\\_sp000438175 & s\\_\\_Zag1\\_sp001765415 & s\\_\\_Zag1\\_sp001917115 & s\\_\\_Zoogloea\\_sp002028455 & s\\_\\_Zunongwangia\\_mangrovi\\\\\n",
       "  & <dbl> & <dbl> & <dbl> & <dbl> & <dbl> & <dbl> & <dbl> & <dbl> & <dbl> & <dbl> & ⋯ & <dbl> & <dbl> & <dbl> & <dbl> & <dbl> & <dbl> & <dbl> & <dbl> & <dbl> & <dbl>\\\\\n",
       "\\hline\n",
       "\tA01\\_02\\_1FE & 0 & 0 & 0 & 0 & 0 & 0 & 0 & 0 & 0 & 0 & ⋯ & 0 & 0.00000 & 0 & 0 & 0 & 0 & 0.00000 & 0 & 0 & 0\\\\\n",
       "\tA02\\_01\\_1FE & 0 & 0 & 0 & 0 & 0 & 0 & 0 & 0 & 0 & 0 & ⋯ & 0 & 0.00036 & 0 & 0 & 0 & 0 & 0.00038 & 0 & 0 & 0\\\\\n",
       "\t⋮ & ⋮ & ⋮ & ⋮ & ⋮ & ⋮ & ⋮ & ⋮ & ⋮ & ⋮ & ⋮ & ⋱ & ⋮ & ⋮ & ⋮ & ⋮ & ⋮ & ⋮ & ⋮ & ⋮ & ⋮ & ⋮\\\\\n",
       "\tnHMX11726 & 0 & 0 & 0 & 0 & 0 & 0e+00 & 0 & 0 & 0 & 0 & ⋯ & 0 & 0 & 0 & 0 & 0 & 0 & 0 & 0 & 0 & 0\\\\\n",
       "\tscavenger.11.60.0 & 0 & 0 & 0 & 0 & 0 & 3e-04 & 0 & 0 & 0 & 0 & ⋯ & 0 & 0 & 0 & 0 & 0 & 0 & 0 & 0 & 0 & 0\\\\\n",
       "\\end{tabular}\n"
      ],
      "text/markdown": [
       "\n",
       "A data.frame: 3357 × 3550\n",
       "\n",
       "| <!--/--> | s__1-14-0-10-34-76_sp002763075 &lt;dbl&gt; | s__1-19_sp001922585 &lt;dbl&gt; | s__14-2_sp000403255 &lt;dbl&gt; | s__14-2_sp000403315 &lt;dbl&gt; | s__14-2_sp000403845 &lt;dbl&gt; | s__14-2_sp001940225 &lt;dbl&gt; | s__2-01-FULL-39-21_sp001792305 &lt;dbl&gt; | s__2013-40CM-41-45_sp002215675 &lt;dbl&gt; | s__46-32_sp003243445 &lt;dbl&gt; | s__51-20_sp001917175 &lt;dbl&gt; | ⋯ ⋯ | s__Zag111_sp002405805 &lt;dbl&gt; | s__Zag111_sp002438405 &lt;dbl&gt; | s__Zag111_sp003258735 &lt;dbl&gt; | s__Zag1_sp000433095 &lt;dbl&gt; | s__Zag1_sp000437435 &lt;dbl&gt; | s__Zag1_sp000438175 &lt;dbl&gt; | s__Zag1_sp001765415 &lt;dbl&gt; | s__Zag1_sp001917115 &lt;dbl&gt; | s__Zoogloea_sp002028455 &lt;dbl&gt; | s__Zunongwangia_mangrovi &lt;dbl&gt; |\n",
       "|---|---|---|---|---|---|---|---|---|---|---|---|---|---|---|---|---|---|---|---|---|---|\n",
       "| A01_02_1FE | 0 | 0 | 0 | 0 | 0 | 0 | 0 | 0 | 0 | 0 | ⋯ | 0 | 0.00000 | 0 | 0 | 0 | 0 | 0.00000 | 0 | 0 | 0 |\n",
       "| A02_01_1FE | 0 | 0 | 0 | 0 | 0 | 0 | 0 | 0 | 0 | 0 | ⋯ | 0 | 0.00036 | 0 | 0 | 0 | 0 | 0.00038 | 0 | 0 | 0 |\n",
       "| ⋮ | ⋮ | ⋮ | ⋮ | ⋮ | ⋮ | ⋮ | ⋮ | ⋮ | ⋮ | ⋮ | ⋱ | ⋮ | ⋮ | ⋮ | ⋮ | ⋮ | ⋮ | ⋮ | ⋮ | ⋮ | ⋮ |\n",
       "| nHMX11726 | 0 | 0 | 0 | 0 | 0 | 0e+00 | 0 | 0 | 0 | 0 | ⋯ | 0 | 0 | 0 | 0 | 0 | 0 | 0 | 0 | 0 | 0 |\n",
       "| scavenger.11.60.0 | 0 | 0 | 0 | 0 | 0 | 3e-04 | 0 | 0 | 0 | 0 | ⋯ | 0 | 0 | 0 | 0 | 0 | 0 | 0 | 0 | 0 | 0 |\n",
       "\n"
      ],
      "text/plain": [
       "                  s__1-14-0-10-34-76_sp002763075 s__1-19_sp001922585\n",
       "A01_02_1FE        0                              0                  \n",
       "A02_01_1FE        0                              0                  \n",
       "⋮                 ⋮                              ⋮                  \n",
       "nHMX11726         0                              0                  \n",
       "scavenger.11.60.0 0                              0                  \n",
       "                  s__14-2_sp000403255 s__14-2_sp000403315 s__14-2_sp000403845\n",
       "A01_02_1FE        0                   0                   0                  \n",
       "A02_01_1FE        0                   0                   0                  \n",
       "⋮                 ⋮                   ⋮                   ⋮                  \n",
       "nHMX11726         0                   0                   0                  \n",
       "scavenger.11.60.0 0                   0                   0                  \n",
       "                  s__14-2_sp001940225 s__2-01-FULL-39-21_sp001792305\n",
       "A01_02_1FE        0                   0                             \n",
       "A02_01_1FE        0                   0                             \n",
       "⋮                 ⋮                   ⋮                             \n",
       "nHMX11726         0e+00               0                             \n",
       "scavenger.11.60.0 3e-04               0                             \n",
       "                  s__2013-40CM-41-45_sp002215675 s__46-32_sp003243445\n",
       "A01_02_1FE        0                              0                   \n",
       "A02_01_1FE        0                              0                   \n",
       "⋮                 ⋮                              ⋮                   \n",
       "nHMX11726         0                              0                   \n",
       "scavenger.11.60.0 0                              0                   \n",
       "                  s__51-20_sp001917175 ⋯ s__Zag111_sp002405805\n",
       "A01_02_1FE        0                    ⋯ 0                    \n",
       "A02_01_1FE        0                    ⋯ 0                    \n",
       "⋮                 ⋮                    ⋱ ⋮                    \n",
       "nHMX11726         0                    ⋯ 0                    \n",
       "scavenger.11.60.0 0                    ⋯ 0                    \n",
       "                  s__Zag111_sp002438405 s__Zag111_sp003258735\n",
       "A01_02_1FE        0.00000               0                    \n",
       "A02_01_1FE        0.00036               0                    \n",
       "⋮                 ⋮                     ⋮                    \n",
       "nHMX11726         0                     0                    \n",
       "scavenger.11.60.0 0                     0                    \n",
       "                  s__Zag1_sp000433095 s__Zag1_sp000437435 s__Zag1_sp000438175\n",
       "A01_02_1FE        0                   0                   0                  \n",
       "A02_01_1FE        0                   0                   0                  \n",
       "⋮                 ⋮                   ⋮                   ⋮                  \n",
       "nHMX11726         0                   0                   0                  \n",
       "scavenger.11.60.0 0                   0                   0                  \n",
       "                  s__Zag1_sp001765415 s__Zag1_sp001917115\n",
       "A01_02_1FE        0.00000             0                  \n",
       "A02_01_1FE        0.00038             0                  \n",
       "⋮                 ⋮                   ⋮                  \n",
       "nHMX11726         0                   0                  \n",
       "scavenger.11.60.0 0                   0                  \n",
       "                  s__Zoogloea_sp002028455 s__Zunongwangia_mangrovi\n",
       "A01_02_1FE        0                       0                       \n",
       "A02_01_1FE        0                       0                       \n",
       "⋮                 ⋮                       ⋮                       \n",
       "nHMX11726         0                       0                       \n",
       "scavenger.11.60.0 0                       0                       "
      ]
     },
     "metadata": {},
     "output_type": "display_data"
    }
   ],
   "source": [
    "# formatting \n",
    "x = brk_cls$name\n",
    "brk_cls$name = NULL\n",
    "brk_cls = brk_cls %>% t %>% as.data.frame\n",
    "colnames(brk_cls) = x\n",
    "brk_cls"
   ]
  },
  {
   "cell_type": "markdown",
   "metadata": {},
   "source": [
    "## Metadata"
   ]
  },
  {
   "cell_type": "code",
   "execution_count": 8,
   "metadata": {
    "ExecuteTime": {
     "end_time": "2020-10-26T14:52:04.080333Z",
     "start_time": "2020-10-26T14:51:40.459Z"
    }
   },
   "outputs": [
    {
     "name": "stdout",
     "output_type": "stream",
     "text": [
      "No. of unique Samples: 3582 \n"
     ]
    },
    {
     "data": {
      "text/html": [
       "<table>\n",
       "<caption>A data.table: 3582 × 70</caption>\n",
       "<thead>\n",
       "\t<tr><th scope=col>dataset_name</th><th scope=col>Sample</th><th scope=col>subjectID</th><th scope=col>body_site</th><th scope=col>antibiotics_current_use</th><th scope=col>study_condition</th><th scope=col>disease</th><th scope=col>age</th><th scope=col>age_category</th><th scope=col>gender</th><th scope=col>⋯</th><th scope=col>il_1</th><th scope=col>glp_1</th><th scope=col>travel_destination</th><th scope=col>urea_nitrogen</th><th scope=col>disease_stage</th><th scope=col>uncurated_metadata</th><th scope=col>family_member</th><th scope=col>subject_n</th><th scope=col>samp_n</th><th scope=col>westernized</th></tr>\n",
       "\t<tr><th scope=col>&lt;fct&gt;</th><th scope=col>&lt;chr&gt;</th><th scope=col>&lt;chr&gt;</th><th scope=col>&lt;chr&gt;</th><th scope=col>&lt;chr&gt;</th><th scope=col>&lt;fct&gt;</th><th scope=col>&lt;chr&gt;</th><th scope=col>&lt;int&gt;</th><th scope=col>&lt;chr&gt;</th><th scope=col>&lt;chr&gt;</th><th scope=col>⋯</th><th scope=col>&lt;dbl&gt;</th><th scope=col>&lt;dbl&gt;</th><th scope=col>&lt;chr&gt;</th><th scope=col>&lt;dbl&gt;</th><th scope=col>&lt;int&gt;</th><th scope=col>&lt;chr&gt;</th><th scope=col>&lt;chr&gt;</th><th scope=col>&lt;int&gt;</th><th scope=col>&lt;int&gt;</th><th scope=col>&lt;lgl&gt;</th></tr>\n",
       "</thead>\n",
       "<tbody>\n",
       "\t<tr><td>AsnicarF_2017</td><td>MV_FEM1_t1Q14</td><td>MV_FEM1</td><td>stool</td><td>NA</td><td>control</td><td>healthy</td><td>NA</td><td>adult</td><td>female</td><td>⋯</td><td>NA</td><td>NA</td><td>NA</td><td>NA</td><td>NA</td><td>NA</td><td>NA</td><td>1</td><td>1</td><td>TRUE</td></tr>\n",
       "\t<tr><td>AsnicarF_2017</td><td>MV_FEM2_t1Q14</td><td>MV_FEM2</td><td>stool</td><td>NA</td><td>control</td><td>healthy</td><td>NA</td><td>adult</td><td>female</td><td>⋯</td><td>NA</td><td>NA</td><td>NA</td><td>NA</td><td>NA</td><td>NA</td><td>NA</td><td>1</td><td>1</td><td>TRUE</td></tr>\n",
       "\t<tr><td>⋮</td><td>⋮</td><td>⋮</td><td>⋮</td><td>⋮</td><td>⋮</td><td>⋮</td><td>⋮</td><td>⋮</td><td>⋮</td><td>⋱</td><td>⋮</td><td>⋮</td><td>⋮</td><td>⋮</td><td>⋮</td><td>⋮</td><td>⋮</td><td>⋮</td><td>⋮</td><td>⋮</td></tr>\n",
       "\t<tr><td>ZellerG_2014</td><td>CCIS82944710ST.20.0</td><td>FR-730</td><td>stool</td><td>NA</td><td>control</td><td>healthy</td><td>38</td><td>adult</td><td>female</td><td>⋯</td><td>NA</td><td>NA</td><td>NA</td><td>NA</td><td>NA</td><td>NA</td><td>NA</td><td>1</td><td>1</td><td>TRUE</td></tr>\n",
       "\t<tr><td>ZellerG_2014</td><td>CCIS93040568ST.20.0</td><td>FR-682</td><td>stool</td><td>NA</td><td>control</td><td>healthy</td><td>65</td><td>adult</td><td>male  </td><td>⋯</td><td>NA</td><td>NA</td><td>NA</td><td>NA</td><td>NA</td><td>NA</td><td>NA</td><td>1</td><td>1</td><td>TRUE</td></tr>\n",
       "</tbody>\n",
       "</table>\n"
      ],
      "text/latex": [
       "A data.table: 3582 × 70\n",
       "\\begin{tabular}{lllllllllllllllllllll}\n",
       " dataset\\_name & Sample & subjectID & body\\_site & antibiotics\\_current\\_use & study\\_condition & disease & age & age\\_category & gender & ⋯ & il\\_1 & glp\\_1 & travel\\_destination & urea\\_nitrogen & disease\\_stage & uncurated\\_metadata & family\\_member & subject\\_n & samp\\_n & westernized\\\\\n",
       " <fct> & <chr> & <chr> & <chr> & <chr> & <fct> & <chr> & <int> & <chr> & <chr> & ⋯ & <dbl> & <dbl> & <chr> & <dbl> & <int> & <chr> & <chr> & <int> & <int> & <lgl>\\\\\n",
       "\\hline\n",
       "\t AsnicarF\\_2017 & MV\\_FEM1\\_t1Q14 & MV\\_FEM1 & stool & NA & control & healthy & NA & adult & female & ⋯ & NA & NA & NA & NA & NA & NA & NA & 1 & 1 & TRUE\\\\\n",
       "\t AsnicarF\\_2017 & MV\\_FEM2\\_t1Q14 & MV\\_FEM2 & stool & NA & control & healthy & NA & adult & female & ⋯ & NA & NA & NA & NA & NA & NA & NA & 1 & 1 & TRUE\\\\\n",
       "\t ⋮ & ⋮ & ⋮ & ⋮ & ⋮ & ⋮ & ⋮ & ⋮ & ⋮ & ⋮ & ⋱ & ⋮ & ⋮ & ⋮ & ⋮ & ⋮ & ⋮ & ⋮ & ⋮ & ⋮ & ⋮\\\\\n",
       "\t ZellerG\\_2014 & CCIS82944710ST.20.0 & FR-730 & stool & NA & control & healthy & 38 & adult & female & ⋯ & NA & NA & NA & NA & NA & NA & NA & 1 & 1 & TRUE\\\\\n",
       "\t ZellerG\\_2014 & CCIS93040568ST.20.0 & FR-682 & stool & NA & control & healthy & 65 & adult & male   & ⋯ & NA & NA & NA & NA & NA & NA & NA & 1 & 1 & TRUE\\\\\n",
       "\\end{tabular}\n"
      ],
      "text/markdown": [
       "\n",
       "A data.table: 3582 × 70\n",
       "\n",
       "| dataset_name &lt;fct&gt; | Sample &lt;chr&gt; | subjectID &lt;chr&gt; | body_site &lt;chr&gt; | antibiotics_current_use &lt;chr&gt; | study_condition &lt;fct&gt; | disease &lt;chr&gt; | age &lt;int&gt; | age_category &lt;chr&gt; | gender &lt;chr&gt; | ⋯ ⋯ | il_1 &lt;dbl&gt; | glp_1 &lt;dbl&gt; | travel_destination &lt;chr&gt; | urea_nitrogen &lt;dbl&gt; | disease_stage &lt;int&gt; | uncurated_metadata &lt;chr&gt; | family_member &lt;chr&gt; | subject_n &lt;int&gt; | samp_n &lt;int&gt; | westernized &lt;lgl&gt; |\n",
       "|---|---|---|---|---|---|---|---|---|---|---|---|---|---|---|---|---|---|---|---|---|\n",
       "| AsnicarF_2017 | MV_FEM1_t1Q14 | MV_FEM1 | stool | NA | control | healthy | NA | adult | female | ⋯ | NA | NA | NA | NA | NA | NA | NA | 1 | 1 | TRUE |\n",
       "| AsnicarF_2017 | MV_FEM2_t1Q14 | MV_FEM2 | stool | NA | control | healthy | NA | adult | female | ⋯ | NA | NA | NA | NA | NA | NA | NA | 1 | 1 | TRUE |\n",
       "| ⋮ | ⋮ | ⋮ | ⋮ | ⋮ | ⋮ | ⋮ | ⋮ | ⋮ | ⋮ | ⋱ | ⋮ | ⋮ | ⋮ | ⋮ | ⋮ | ⋮ | ⋮ | ⋮ | ⋮ | ⋮ |\n",
       "| ZellerG_2014 | CCIS82944710ST.20.0 | FR-730 | stool | NA | control | healthy | 38 | adult | female | ⋯ | NA | NA | NA | NA | NA | NA | NA | 1 | 1 | TRUE |\n",
       "| ZellerG_2014 | CCIS93040568ST.20.0 | FR-682 | stool | NA | control | healthy | 65 | adult | male   | ⋯ | NA | NA | NA | NA | NA | NA | NA | 1 | 1 | TRUE |\n",
       "\n"
      ],
      "text/plain": [
       "     dataset_name  Sample              subjectID body_site\n",
       "1    AsnicarF_2017 MV_FEM1_t1Q14       MV_FEM1   stool    \n",
       "2    AsnicarF_2017 MV_FEM2_t1Q14       MV_FEM2   stool    \n",
       "⋮    ⋮             ⋮                   ⋮         ⋮        \n",
       "3581 ZellerG_2014  CCIS82944710ST.20.0 FR-730    stool    \n",
       "3582 ZellerG_2014  CCIS93040568ST.20.0 FR-682    stool    \n",
       "     antibiotics_current_use study_condition disease age age_category gender ⋯\n",
       "1    NA                      control         healthy NA  adult        female ⋯\n",
       "2    NA                      control         healthy NA  adult        female ⋯\n",
       "⋮    ⋮                       ⋮               ⋮       ⋮   ⋮            ⋮      ⋱\n",
       "3581 NA                      control         healthy 38  adult        female ⋯\n",
       "3582 NA                      control         healthy 65  adult        male   ⋯\n",
       "     il_1 glp_1 travel_destination urea_nitrogen disease_stage\n",
       "1    NA   NA    NA                 NA            NA           \n",
       "2    NA   NA    NA                 NA            NA           \n",
       "⋮    ⋮    ⋮     ⋮                  ⋮             ⋮            \n",
       "3581 NA   NA    NA                 NA            NA           \n",
       "3582 NA   NA    NA                 NA            NA           \n",
       "     uncurated_metadata family_member subject_n samp_n westernized\n",
       "1    NA                 NA            1         1      TRUE       \n",
       "2    NA                 NA            1         1      TRUE       \n",
       "⋮    ⋮                  ⋮             ⋮         ⋮      ⋮          \n",
       "3581 NA                 NA            1         1      TRUE       \n",
       "3582 NA                 NA            1         1      TRUE       "
      ]
     },
     "metadata": {},
     "output_type": "display_data"
    }
   ],
   "source": [
    "# all \n",
    "meta = Fread(metadata_file) %>%\n",
    "    dt_mutate(Sample = gsub('-', '.', Sample)) %>%\n",
    "    dt_filter(number_reads >= 5e5) %>%\n",
    "    dt_mutate(dataset_name = dataset_name %>% as.factor,\n",
    "              study_condition = study_condition %>% as.factor)\n",
    "meta %>% unique_n('Samples', Sample)\n",
    "meta"
   ]
  },
  {
   "cell_type": "markdown",
   "metadata": {},
   "source": [
    "## Beta diversity"
   ]
  },
  {
   "cell_type": "code",
   "execution_count": 9,
   "metadata": {
    "ExecuteTime": {
     "end_time": "2020-10-26T14:52:05.485959Z",
     "start_time": "2020-10-26T14:51:41.611Z"
    }
   },
   "outputs": [
    {
     "data": {
      "text/html": [
       "<ol class=list-inline>\n",
       "\t<li>'bray'</li>\n",
       "\t<li>'jaccard'</li>\n",
       "\t<li>'unifrac_phy'</li>\n",
       "\t<li>'wunifrac_phy'</li>\n",
       "\t<li>'unifrac_trt'</li>\n",
       "\t<li>'wunifrac_trt'</li>\n",
       "</ol>\n"
      ],
      "text/latex": [
       "\\begin{enumerate*}\n",
       "\\item 'bray'\n",
       "\\item 'jaccard'\n",
       "\\item 'unifrac\\_phy'\n",
       "\\item 'wunifrac\\_phy'\n",
       "\\item 'unifrac\\_trt'\n",
       "\\item 'wunifrac\\_trt'\n",
       "\\end{enumerate*}\n"
      ],
      "text/markdown": [
       "1. 'bray'\n",
       "2. 'jaccard'\n",
       "3. 'unifrac_phy'\n",
       "4. 'wunifrac_phy'\n",
       "5. 'unifrac_trt'\n",
       "6. 'wunifrac_trt'\n",
       "\n",
       "\n"
      ],
      "text/plain": [
       "[1] \"bray\"         \"jaccard\"      \"unifrac_phy\"  \"wunifrac_phy\" \"unifrac_trt\" \n",
       "[6] \"wunifrac_trt\""
      ]
     },
     "metadata": {},
     "output_type": "display_data"
    }
   ],
   "source": [
    "# loading as a list of distance matrices\n",
    "D = list('bray' = qs::qread(dist_F1, nthreads=4)[['bray']],\n",
    "         'jaccard' = qs::qread(dist_F1, nthreads=4)[['jaccard']],\n",
    "         'unifrac_phy' = qs::qread(dist_F1, nthreads=4)[['unifrac']],\n",
    "         'wunifrac_phy' = qs::qread(dist_F1, nthreads=4)[['wunifrac']],\n",
    "         'unifrac_trt' = qs::qread(dist_F2, nthreads=4)[['unifrac']],\n",
    "         'wunifrac_trt' = qs::qread(dist_F2, nthreads=4)[['wunifrac']])\n",
    "D %>% names"
   ]
  },
  {
   "cell_type": "code",
   "execution_count": 10,
   "metadata": {
    "ExecuteTime": {
     "end_time": "2020-10-26T14:52:05.507892Z",
     "start_time": "2020-10-26T14:51:41.752Z"
    }
   },
   "outputs": [
    {
     "data": {
      "text/html": [
       "<dl>\n",
       "\t<dt>$bray</dt>\n",
       "\t\t<dd>3348</dd>\n",
       "\t<dt>$jaccard</dt>\n",
       "\t\t<dd>3348</dd>\n",
       "\t<dt>$unifrac_phy</dt>\n",
       "\t\t<dd>3348</dd>\n",
       "\t<dt>$wunifrac_phy</dt>\n",
       "\t\t<dd>3348</dd>\n",
       "\t<dt>$unifrac_trt</dt>\n",
       "\t\t<dd>3348</dd>\n",
       "\t<dt>$wunifrac_trt</dt>\n",
       "\t\t<dd>3348</dd>\n",
       "</dl>\n"
      ],
      "text/latex": [
       "\\begin{description}\n",
       "\\item[\\$bray] 3348\n",
       "\\item[\\$jaccard] 3348\n",
       "\\item[\\$unifrac\\_phy] 3348\n",
       "\\item[\\$wunifrac\\_phy] 3348\n",
       "\\item[\\$unifrac\\_trt] 3348\n",
       "\\item[\\$wunifrac\\_trt] 3348\n",
       "\\end{description}\n"
      ],
      "text/markdown": [
       "$bray\n",
       ":   3348\n",
       "$jaccard\n",
       ":   3348\n",
       "$unifrac_phy\n",
       ":   3348\n",
       "$wunifrac_phy\n",
       ":   3348\n",
       "$unifrac_trt\n",
       ":   3348\n",
       "$wunifrac_trt\n",
       ":   3348\n",
       "\n",
       "\n"
      ],
      "text/plain": [
       "$bray\n",
       "[1] 3348\n",
       "\n",
       "$jaccard\n",
       "[1] 3348\n",
       "\n",
       "$unifrac_phy\n",
       "[1] 3348\n",
       "\n",
       "$wunifrac_phy\n",
       "[1] 3348\n",
       "\n",
       "$unifrac_trt\n",
       "[1] 3348\n",
       "\n",
       "$wunifrac_trt\n",
       "[1] 3348\n"
      ]
     },
     "metadata": {},
     "output_type": "display_data"
    }
   ],
   "source": [
    "# number of samples per dist\n",
    "D %>%\n",
    "    lapply(function(x) x %>% labels %>% length)"
   ]
  },
  {
   "cell_type": "markdown",
   "metadata": {},
   "source": [
    "# dbRDA"
   ]
  },
  {
   "cell_type": "markdown",
   "metadata": {},
   "source": [
    "## Westernization & gender"
   ]
  },
  {
   "cell_type": "code",
   "execution_count": 59,
   "metadata": {
    "ExecuteTime": {
     "end_time": "2020-10-26T15:13:47.718704Z",
     "start_time": "2020-10-26T15:13:47.646Z"
    }
   },
   "outputs": [
    {
     "data": {
      "text/html": [
       "<table>\n",
       "<caption>A data.frame: 2322 × 70</caption>\n",
       "<thead>\n",
       "\t<tr><th></th><th scope=col>dataset_name</th><th scope=col>Sample</th><th scope=col>subjectID</th><th scope=col>body_site</th><th scope=col>antibiotics_current_use</th><th scope=col>study_condition</th><th scope=col>disease</th><th scope=col>age</th><th scope=col>age_category</th><th scope=col>gender</th><th scope=col>⋯</th><th scope=col>il_1</th><th scope=col>glp_1</th><th scope=col>travel_destination</th><th scope=col>urea_nitrogen</th><th scope=col>disease_stage</th><th scope=col>uncurated_metadata</th><th scope=col>family_member</th><th scope=col>subject_n</th><th scope=col>samp_n</th><th scope=col>westernized</th></tr>\n",
       "\t<tr><th></th><th scope=col>&lt;fct&gt;</th><th scope=col>&lt;chr&gt;</th><th scope=col>&lt;chr&gt;</th><th scope=col>&lt;chr&gt;</th><th scope=col>&lt;chr&gt;</th><th scope=col>&lt;fct&gt;</th><th scope=col>&lt;chr&gt;</th><th scope=col>&lt;int&gt;</th><th scope=col>&lt;chr&gt;</th><th scope=col>&lt;chr&gt;</th><th scope=col>⋯</th><th scope=col>&lt;dbl&gt;</th><th scope=col>&lt;dbl&gt;</th><th scope=col>&lt;chr&gt;</th><th scope=col>&lt;dbl&gt;</th><th scope=col>&lt;int&gt;</th><th scope=col>&lt;chr&gt;</th><th scope=col>&lt;chr&gt;</th><th scope=col>&lt;int&gt;</th><th scope=col>&lt;int&gt;</th><th scope=col>&lt;lgl&gt;</th></tr>\n",
       "</thead>\n",
       "<tbody>\n",
       "\t<tr><th scope=row>MV_FEM1_t1Q14</th><td>AsnicarF_2017</td><td>MV_FEM1_t1Q14</td><td>MV_FEM1</td><td>stool</td><td>NA</td><td>control</td><td>healthy</td><td>NA</td><td>adult</td><td>female</td><td>⋯</td><td>NA</td><td>NA</td><td>NA</td><td>NA</td><td>NA</td><td>NA</td><td>NA</td><td>1</td><td>1</td><td>TRUE</td></tr>\n",
       "\t<tr><th scope=row>MV_FEM2_t1Q14</th><td>AsnicarF_2017</td><td>MV_FEM2_t1Q14</td><td>MV_FEM2</td><td>stool</td><td>NA</td><td>control</td><td>healthy</td><td>NA</td><td>adult</td><td>female</td><td>⋯</td><td>NA</td><td>NA</td><td>NA</td><td>NA</td><td>NA</td><td>NA</td><td>NA</td><td>1</td><td>1</td><td>TRUE</td></tr>\n",
       "\t<tr><th scope=row>⋮</th><td>⋮</td><td>⋮</td><td>⋮</td><td>⋮</td><td>⋮</td><td>⋮</td><td>⋮</td><td>⋮</td><td>⋮</td><td>⋮</td><td>⋱</td><td>⋮</td><td>⋮</td><td>⋮</td><td>⋮</td><td>⋮</td><td>⋮</td><td>⋮</td><td>⋮</td><td>⋮</td><td>⋮</td></tr>\n",
       "\t<tr><th scope=row>CCIS82944710ST.20.0</th><td>ZellerG_2014</td><td>CCIS82944710ST.20.0</td><td>FR-730</td><td>stool</td><td>NA</td><td>control</td><td>healthy</td><td>38</td><td>adult</td><td>female</td><td>⋯</td><td>NA</td><td>NA</td><td>NA</td><td>NA</td><td>NA</td><td>NA</td><td>NA</td><td>1</td><td>1</td><td>TRUE</td></tr>\n",
       "\t<tr><th scope=row>CCIS93040568ST.20.0</th><td>ZellerG_2014</td><td>CCIS93040568ST.20.0</td><td>FR-682</td><td>stool</td><td>NA</td><td>control</td><td>healthy</td><td>65</td><td>adult</td><td>male  </td><td>⋯</td><td>NA</td><td>NA</td><td>NA</td><td>NA</td><td>NA</td><td>NA</td><td>NA</td><td>1</td><td>1</td><td>TRUE</td></tr>\n",
       "</tbody>\n",
       "</table>\n"
      ],
      "text/latex": [
       "A data.frame: 2322 × 70\n",
       "\\begin{tabular}{r|lllllllllllllllllllll}\n",
       "  & dataset\\_name & Sample & subjectID & body\\_site & antibiotics\\_current\\_use & study\\_condition & disease & age & age\\_category & gender & ⋯ & il\\_1 & glp\\_1 & travel\\_destination & urea\\_nitrogen & disease\\_stage & uncurated\\_metadata & family\\_member & subject\\_n & samp\\_n & westernized\\\\\n",
       "  & <fct> & <chr> & <chr> & <chr> & <chr> & <fct> & <chr> & <int> & <chr> & <chr> & ⋯ & <dbl> & <dbl> & <chr> & <dbl> & <int> & <chr> & <chr> & <int> & <int> & <lgl>\\\\\n",
       "\\hline\n",
       "\tMV\\_FEM1\\_t1Q14 & AsnicarF\\_2017 & MV\\_FEM1\\_t1Q14 & MV\\_FEM1 & stool & NA & control & healthy & NA & adult & female & ⋯ & NA & NA & NA & NA & NA & NA & NA & 1 & 1 & TRUE\\\\\n",
       "\tMV\\_FEM2\\_t1Q14 & AsnicarF\\_2017 & MV\\_FEM2\\_t1Q14 & MV\\_FEM2 & stool & NA & control & healthy & NA & adult & female & ⋯ & NA & NA & NA & NA & NA & NA & NA & 1 & 1 & TRUE\\\\\n",
       "\t⋮ & ⋮ & ⋮ & ⋮ & ⋮ & ⋮ & ⋮ & ⋮ & ⋮ & ⋮ & ⋮ & ⋱ & ⋮ & ⋮ & ⋮ & ⋮ & ⋮ & ⋮ & ⋮ & ⋮ & ⋮ & ⋮\\\\\n",
       "\tCCIS82944710ST.20.0 & ZellerG\\_2014 & CCIS82944710ST.20.0 & FR-730 & stool & NA & control & healthy & 38 & adult & female & ⋯ & NA & NA & NA & NA & NA & NA & NA & 1 & 1 & TRUE\\\\\n",
       "\tCCIS93040568ST.20.0 & ZellerG\\_2014 & CCIS93040568ST.20.0 & FR-682 & stool & NA & control & healthy & 65 & adult & male   & ⋯ & NA & NA & NA & NA & NA & NA & NA & 1 & 1 & TRUE\\\\\n",
       "\\end{tabular}\n"
      ],
      "text/markdown": [
       "\n",
       "A data.frame: 2322 × 70\n",
       "\n",
       "| <!--/--> | dataset_name &lt;fct&gt; | Sample &lt;chr&gt; | subjectID &lt;chr&gt; | body_site &lt;chr&gt; | antibiotics_current_use &lt;chr&gt; | study_condition &lt;fct&gt; | disease &lt;chr&gt; | age &lt;int&gt; | age_category &lt;chr&gt; | gender &lt;chr&gt; | ⋯ ⋯ | il_1 &lt;dbl&gt; | glp_1 &lt;dbl&gt; | travel_destination &lt;chr&gt; | urea_nitrogen &lt;dbl&gt; | disease_stage &lt;int&gt; | uncurated_metadata &lt;chr&gt; | family_member &lt;chr&gt; | subject_n &lt;int&gt; | samp_n &lt;int&gt; | westernized &lt;lgl&gt; |\n",
       "|---|---|---|---|---|---|---|---|---|---|---|---|---|---|---|---|---|---|---|---|---|---|\n",
       "| MV_FEM1_t1Q14 | AsnicarF_2017 | MV_FEM1_t1Q14 | MV_FEM1 | stool | NA | control | healthy | NA | adult | female | ⋯ | NA | NA | NA | NA | NA | NA | NA | 1 | 1 | TRUE |\n",
       "| MV_FEM2_t1Q14 | AsnicarF_2017 | MV_FEM2_t1Q14 | MV_FEM2 | stool | NA | control | healthy | NA | adult | female | ⋯ | NA | NA | NA | NA | NA | NA | NA | 1 | 1 | TRUE |\n",
       "| ⋮ | ⋮ | ⋮ | ⋮ | ⋮ | ⋮ | ⋮ | ⋮ | ⋮ | ⋮ | ⋮ | ⋱ | ⋮ | ⋮ | ⋮ | ⋮ | ⋮ | ⋮ | ⋮ | ⋮ | ⋮ | ⋮ |\n",
       "| CCIS82944710ST.20.0 | ZellerG_2014 | CCIS82944710ST.20.0 | FR-730 | stool | NA | control | healthy | 38 | adult | female | ⋯ | NA | NA | NA | NA | NA | NA | NA | 1 | 1 | TRUE |\n",
       "| CCIS93040568ST.20.0 | ZellerG_2014 | CCIS93040568ST.20.0 | FR-682 | stool | NA | control | healthy | 65 | adult | male   | ⋯ | NA | NA | NA | NA | NA | NA | NA | 1 | 1 | TRUE |\n",
       "\n"
      ],
      "text/plain": [
       "                    dataset_name  Sample              subjectID body_site\n",
       "MV_FEM1_t1Q14       AsnicarF_2017 MV_FEM1_t1Q14       MV_FEM1   stool    \n",
       "MV_FEM2_t1Q14       AsnicarF_2017 MV_FEM2_t1Q14       MV_FEM2   stool    \n",
       "⋮                   ⋮             ⋮                   ⋮         ⋮        \n",
       "CCIS82944710ST.20.0 ZellerG_2014  CCIS82944710ST.20.0 FR-730    stool    \n",
       "CCIS93040568ST.20.0 ZellerG_2014  CCIS93040568ST.20.0 FR-682    stool    \n",
       "                    antibiotics_current_use study_condition disease age\n",
       "MV_FEM1_t1Q14       NA                      control         healthy NA \n",
       "MV_FEM2_t1Q14       NA                      control         healthy NA \n",
       "⋮                   ⋮                       ⋮               ⋮       ⋮  \n",
       "CCIS82944710ST.20.0 NA                      control         healthy 38 \n",
       "CCIS93040568ST.20.0 NA                      control         healthy 65 \n",
       "                    age_category gender ⋯ il_1 glp_1 travel_destination\n",
       "MV_FEM1_t1Q14       adult        female ⋯ NA   NA    NA                \n",
       "MV_FEM2_t1Q14       adult        female ⋯ NA   NA    NA                \n",
       "⋮                   ⋮            ⋮      ⋱ ⋮    ⋮     ⋮                 \n",
       "CCIS82944710ST.20.0 adult        female ⋯ NA   NA    NA                \n",
       "CCIS93040568ST.20.0 adult        male   ⋯ NA   NA    NA                \n",
       "                    urea_nitrogen disease_stage uncurated_metadata\n",
       "MV_FEM1_t1Q14       NA            NA            NA                \n",
       "MV_FEM2_t1Q14       NA            NA            NA                \n",
       "⋮                   ⋮             ⋮             ⋮                 \n",
       "CCIS82944710ST.20.0 NA            NA            NA                \n",
       "CCIS93040568ST.20.0 NA            NA            NA                \n",
       "                    family_member subject_n samp_n westernized\n",
       "MV_FEM1_t1Q14       NA            1         1      TRUE       \n",
       "MV_FEM2_t1Q14       NA            1         1      TRUE       \n",
       "⋮                   ⋮             ⋮         ⋮      ⋮          \n",
       "CCIS82944710ST.20.0 NA            1         1      TRUE       \n",
       "CCIS93040568ST.20.0 NA            1         1      TRUE       "
      ]
     },
     "metadata": {},
     "output_type": "display_data"
    }
   ],
   "source": [
    "# formatting metadata\n",
    "m = meta %>%\n",
    "    dt_filter(!is.na(westernized), !is.na(gender)) %>%\n",
    "    as.data.frame\n",
    "rownames(m) = m$Sample\n",
    "m"
   ]
  },
  {
   "cell_type": "markdown",
   "metadata": {},
   "source": [
    "### Bray-curtis"
   ]
  },
  {
   "cell_type": "code",
   "execution_count": 61,
   "metadata": {
    "ExecuteTime": {
     "end_time": "2020-10-26T15:14:55.100876Z",
     "start_time": "2020-10-26T15:14:54.311Z"
    }
   },
   "outputs": [
    {
     "data": {
      "text/html": [
       "2154"
      ],
      "text/latex": [
       "2154"
      ],
      "text/markdown": [
       "2154"
      ],
      "text/plain": [
       "[1] 2154"
      ]
     },
     "metadata": {},
     "output_type": "display_data"
    },
    {
     "data": {
      "text/html": [
       "<table>\n",
       "<caption>A data.frame: 2154 × 70</caption>\n",
       "<thead>\n",
       "\t<tr><th></th><th scope=col>dataset_name</th><th scope=col>Sample</th><th scope=col>subjectID</th><th scope=col>body_site</th><th scope=col>antibiotics_current_use</th><th scope=col>study_condition</th><th scope=col>disease</th><th scope=col>age</th><th scope=col>age_category</th><th scope=col>gender</th><th scope=col>⋯</th><th scope=col>il_1</th><th scope=col>glp_1</th><th scope=col>travel_destination</th><th scope=col>urea_nitrogen</th><th scope=col>disease_stage</th><th scope=col>uncurated_metadata</th><th scope=col>family_member</th><th scope=col>subject_n</th><th scope=col>samp_n</th><th scope=col>westernized</th></tr>\n",
       "\t<tr><th></th><th scope=col>&lt;fct&gt;</th><th scope=col>&lt;chr&gt;</th><th scope=col>&lt;chr&gt;</th><th scope=col>&lt;chr&gt;</th><th scope=col>&lt;chr&gt;</th><th scope=col>&lt;fct&gt;</th><th scope=col>&lt;chr&gt;</th><th scope=col>&lt;int&gt;</th><th scope=col>&lt;chr&gt;</th><th scope=col>&lt;chr&gt;</th><th scope=col>⋯</th><th scope=col>&lt;dbl&gt;</th><th scope=col>&lt;dbl&gt;</th><th scope=col>&lt;chr&gt;</th><th scope=col>&lt;dbl&gt;</th><th scope=col>&lt;int&gt;</th><th scope=col>&lt;chr&gt;</th><th scope=col>&lt;chr&gt;</th><th scope=col>&lt;int&gt;</th><th scope=col>&lt;int&gt;</th><th scope=col>&lt;lgl&gt;</th></tr>\n",
       "</thead>\n",
       "<tbody>\n",
       "\t<tr><th scope=row>A11_01_1FE</th><td>PasolliE_2018</td><td>A11_01_1FE</td><td>A11_01_1FE</td><td>stool</td><td>no</td><td>control</td><td>healthy</td><td>52</td><td>adult</td><td>male</td><td>⋯</td><td>NA</td><td>NA</td><td>NA</td><td>NA</td><td>NA</td><td>NA</td><td>NA</td><td>1</td><td>1</td><td>FALSE</td></tr>\n",
       "\t<tr><th scope=row>A13_01_1FE</th><td>PasolliE_2018</td><td>A13_01_1FE</td><td>A13_01_1FE</td><td>stool</td><td>no</td><td>control</td><td>healthy</td><td>52</td><td>adult</td><td>male</td><td>⋯</td><td>NA</td><td>NA</td><td>NA</td><td>NA</td><td>NA</td><td>NA</td><td>NA</td><td>1</td><td>1</td><td>FALSE</td></tr>\n",
       "\t<tr><th scope=row>⋮</th><td>⋮</td><td>⋮</td><td>⋮</td><td>⋮</td><td>⋮</td><td>⋮</td><td>⋮</td><td>⋮</td><td>⋮</td><td>⋮</td><td>⋱</td><td>⋮</td><td>⋮</td><td>⋮</td><td>⋮</td><td>⋮</td><td>⋮</td><td>⋮</td><td>⋮</td><td>⋮</td><td>⋮</td></tr>\n",
       "\t<tr><th scope=row>YSZC12003_37879</th><td>XieH_2016</td><td>YSZC12003_37879</td><td>YSZC12003_37879</td><td>stool</td><td>NA</td><td>control</td><td>NA</td><td>42</td><td>adult</td><td>female</td><td>⋯</td><td>NA</td><td>NA</td><td>NA</td><td>NA</td><td>NA</td><td>NA</td><td>NA</td><td>1</td><td>1</td><td>TRUE</td></tr>\n",
       "\t<tr><th scope=row>YSZC12003_37880</th><td>XieH_2016</td><td>YSZC12003_37880</td><td>YSZC12003_37880</td><td>stool</td><td>NA</td><td>control</td><td>NA</td><td>42</td><td>adult</td><td>female</td><td>⋯</td><td>NA</td><td>NA</td><td>NA</td><td>NA</td><td>NA</td><td>NA</td><td>NA</td><td>1</td><td>1</td><td>TRUE</td></tr>\n",
       "</tbody>\n",
       "</table>\n"
      ],
      "text/latex": [
       "A data.frame: 2154 × 70\n",
       "\\begin{tabular}{r|lllllllllllllllllllll}\n",
       "  & dataset\\_name & Sample & subjectID & body\\_site & antibiotics\\_current\\_use & study\\_condition & disease & age & age\\_category & gender & ⋯ & il\\_1 & glp\\_1 & travel\\_destination & urea\\_nitrogen & disease\\_stage & uncurated\\_metadata & family\\_member & subject\\_n & samp\\_n & westernized\\\\\n",
       "  & <fct> & <chr> & <chr> & <chr> & <chr> & <fct> & <chr> & <int> & <chr> & <chr> & ⋯ & <dbl> & <dbl> & <chr> & <dbl> & <int> & <chr> & <chr> & <int> & <int> & <lgl>\\\\\n",
       "\\hline\n",
       "\tA11\\_01\\_1FE & PasolliE\\_2018 & A11\\_01\\_1FE & A11\\_01\\_1FE & stool & no & control & healthy & 52 & adult & male & ⋯ & NA & NA & NA & NA & NA & NA & NA & 1 & 1 & FALSE\\\\\n",
       "\tA13\\_01\\_1FE & PasolliE\\_2018 & A13\\_01\\_1FE & A13\\_01\\_1FE & stool & no & control & healthy & 52 & adult & male & ⋯ & NA & NA & NA & NA & NA & NA & NA & 1 & 1 & FALSE\\\\\n",
       "\t⋮ & ⋮ & ⋮ & ⋮ & ⋮ & ⋮ & ⋮ & ⋮ & ⋮ & ⋮ & ⋮ & ⋱ & ⋮ & ⋮ & ⋮ & ⋮ & ⋮ & ⋮ & ⋮ & ⋮ & ⋮ & ⋮\\\\\n",
       "\tYSZC12003\\_37879 & XieH\\_2016 & YSZC12003\\_37879 & YSZC12003\\_37879 & stool & NA & control & NA & 42 & adult & female & ⋯ & NA & NA & NA & NA & NA & NA & NA & 1 & 1 & TRUE\\\\\n",
       "\tYSZC12003\\_37880 & XieH\\_2016 & YSZC12003\\_37880 & YSZC12003\\_37880 & stool & NA & control & NA & 42 & adult & female & ⋯ & NA & NA & NA & NA & NA & NA & NA & 1 & 1 & TRUE\\\\\n",
       "\\end{tabular}\n"
      ],
      "text/markdown": [
       "\n",
       "A data.frame: 2154 × 70\n",
       "\n",
       "| <!--/--> | dataset_name &lt;fct&gt; | Sample &lt;chr&gt; | subjectID &lt;chr&gt; | body_site &lt;chr&gt; | antibiotics_current_use &lt;chr&gt; | study_condition &lt;fct&gt; | disease &lt;chr&gt; | age &lt;int&gt; | age_category &lt;chr&gt; | gender &lt;chr&gt; | ⋯ ⋯ | il_1 &lt;dbl&gt; | glp_1 &lt;dbl&gt; | travel_destination &lt;chr&gt; | urea_nitrogen &lt;dbl&gt; | disease_stage &lt;int&gt; | uncurated_metadata &lt;chr&gt; | family_member &lt;chr&gt; | subject_n &lt;int&gt; | samp_n &lt;int&gt; | westernized &lt;lgl&gt; |\n",
       "|---|---|---|---|---|---|---|---|---|---|---|---|---|---|---|---|---|---|---|---|---|---|\n",
       "| A11_01_1FE | PasolliE_2018 | A11_01_1FE | A11_01_1FE | stool | no | control | healthy | 52 | adult | male | ⋯ | NA | NA | NA | NA | NA | NA | NA | 1 | 1 | FALSE |\n",
       "| A13_01_1FE | PasolliE_2018 | A13_01_1FE | A13_01_1FE | stool | no | control | healthy | 52 | adult | male | ⋯ | NA | NA | NA | NA | NA | NA | NA | 1 | 1 | FALSE |\n",
       "| ⋮ | ⋮ | ⋮ | ⋮ | ⋮ | ⋮ | ⋮ | ⋮ | ⋮ | ⋮ | ⋮ | ⋱ | ⋮ | ⋮ | ⋮ | ⋮ | ⋮ | ⋮ | ⋮ | ⋮ | ⋮ | ⋮ |\n",
       "| YSZC12003_37879 | XieH_2016 | YSZC12003_37879 | YSZC12003_37879 | stool | NA | control | NA | 42 | adult | female | ⋯ | NA | NA | NA | NA | NA | NA | NA | 1 | 1 | TRUE |\n",
       "| YSZC12003_37880 | XieH_2016 | YSZC12003_37880 | YSZC12003_37880 | stool | NA | control | NA | 42 | adult | female | ⋯ | NA | NA | NA | NA | NA | NA | NA | 1 | 1 | TRUE |\n",
       "\n"
      ],
      "text/plain": [
       "                dataset_name  Sample          subjectID       body_site\n",
       "A11_01_1FE      PasolliE_2018 A11_01_1FE      A11_01_1FE      stool    \n",
       "A13_01_1FE      PasolliE_2018 A13_01_1FE      A13_01_1FE      stool    \n",
       "⋮               ⋮             ⋮               ⋮               ⋮        \n",
       "YSZC12003_37879 XieH_2016     YSZC12003_37879 YSZC12003_37879 stool    \n",
       "YSZC12003_37880 XieH_2016     YSZC12003_37880 YSZC12003_37880 stool    \n",
       "                antibiotics_current_use study_condition disease age\n",
       "A11_01_1FE      no                      control         healthy 52 \n",
       "A13_01_1FE      no                      control         healthy 52 \n",
       "⋮               ⋮                       ⋮               ⋮       ⋮  \n",
       "YSZC12003_37879 NA                      control         NA      42 \n",
       "YSZC12003_37880 NA                      control         NA      42 \n",
       "                age_category gender ⋯ il_1 glp_1 travel_destination\n",
       "A11_01_1FE      adult        male   ⋯ NA   NA    NA                \n",
       "A13_01_1FE      adult        male   ⋯ NA   NA    NA                \n",
       "⋮               ⋮            ⋮      ⋱ ⋮    ⋮     ⋮                 \n",
       "YSZC12003_37879 adult        female ⋯ NA   NA    NA                \n",
       "YSZC12003_37880 adult        female ⋯ NA   NA    NA                \n",
       "                urea_nitrogen disease_stage uncurated_metadata family_member\n",
       "A11_01_1FE      NA            NA            NA                 NA           \n",
       "A13_01_1FE      NA            NA            NA                 NA           \n",
       "⋮               ⋮             ⋮             ⋮                  ⋮            \n",
       "YSZC12003_37879 NA            NA            NA                 NA           \n",
       "YSZC12003_37880 NA            NA            NA                 NA           \n",
       "                subject_n samp_n westernized\n",
       "A11_01_1FE      1         1      FALSE      \n",
       "A13_01_1FE      1         1      FALSE      \n",
       "⋮               ⋮         ⋮      ⋮          \n",
       "YSZC12003_37879 1         1      TRUE       \n",
       "YSZC12003_37880 1         1      TRUE       "
      ]
     },
     "metadata": {},
     "output_type": "display_data"
    }
   ],
   "source": [
    "# filtering & ordering\n",
    "## distance matrix\n",
    "d = filter_dist(D[['bray']], rownames(m))\n",
    "d %>% labels %>% length\n",
    "## metadata\n",
    "M = m[labels(d),]\n",
    "M"
   ]
  },
  {
   "cell_type": "code",
   "execution_count": 62,
   "metadata": {
    "ExecuteTime": {
     "end_time": "2020-10-26T15:15:05.192881Z",
     "start_time": "2020-10-26T15:14:54.452Z"
    }
   },
   "outputs": [
    {
     "data": {
      "text/plain": [
       "Call: capscale(formula = d ~ westernized + gender, data = M)\n",
       "\n",
       "                 Inertia Proportion Rank\n",
       "Total          655.35110    1.00000     \n",
       "Constrained     48.83299    0.07451    2\n",
       "Unconstrained  784.37189    1.19687  808\n",
       "Imaginary     -177.85378   -0.27139 1345\n",
       "Inertia is squared Unknown distance \n",
       "\n",
       "Eigenvalues for constrained axes:\n",
       " CAP1  CAP2 \n",
       "45.73  3.11 \n",
       "\n",
       "Eigenvalues for unconstrained axes:\n",
       " MDS1  MDS2  MDS3  MDS4  MDS5  MDS6  MDS7  MDS8 \n",
       "74.79 60.76 32.10 25.04 17.63 16.70 12.95 12.38 \n",
       "(Showing 8 of 808 unconstrained eigenvalues)\n"
      ]
     },
     "metadata": {},
     "output_type": "display_data"
    }
   ],
   "source": [
    "# distance-based RDA\n",
    "dbRDA = capscale(d ~ westernized + gender, data = M)\n",
    "dbRDA"
   ]
  },
  {
   "cell_type": "code",
   "execution_count": 63,
   "metadata": {
    "ExecuteTime": {
     "end_time": "2020-10-26T15:17:25.799579Z",
     "start_time": "2020-10-26T15:14:55.139Z"
    }
   },
   "outputs": [
    {
     "data": {
      "text/html": [
       "<table>\n",
       "<caption>A anova.cca: 3 × 4</caption>\n",
       "<thead>\n",
       "\t<tr><th></th><th scope=col>Df</th><th scope=col>SumOfSqs</th><th scope=col>F</th><th scope=col>Pr(&gt;F)</th></tr>\n",
       "\t<tr><th></th><th scope=col>&lt;dbl&gt;</th><th scope=col>&lt;dbl&gt;</th><th scope=col>&lt;dbl&gt;</th><th scope=col>&lt;dbl&gt;</th></tr>\n",
       "</thead>\n",
       "<tbody>\n",
       "\t<tr><th scope=row>westernized</th><td>   1</td><td> 45.241599</td><td>124.067015</td><td>0.001</td></tr>\n",
       "\t<tr><th scope=row>gender</th><td>   1</td><td>  3.591387</td><td>  9.848737</td><td>0.001</td></tr>\n",
       "\t<tr><th scope=row>Residual</th><td>2151</td><td>784.371892</td><td>        NA</td><td>   NA</td></tr>\n",
       "</tbody>\n",
       "</table>\n"
      ],
      "text/latex": [
       "A anova.cca: 3 × 4\n",
       "\\begin{tabular}{r|llll}\n",
       "  & Df & SumOfSqs & F & Pr(>F)\\\\\n",
       "  & <dbl> & <dbl> & <dbl> & <dbl>\\\\\n",
       "\\hline\n",
       "\twesternized &    1 &  45.241599 & 124.067015 & 0.001\\\\\n",
       "\tgender &    1 &   3.591387 &   9.848737 & 0.001\\\\\n",
       "\tResidual & 2151 & 784.371892 &         NA &    NA\\\\\n",
       "\\end{tabular}\n"
      ],
      "text/markdown": [
       "\n",
       "A anova.cca: 3 × 4\n",
       "\n",
       "| <!--/--> | Df &lt;dbl&gt; | SumOfSqs &lt;dbl&gt; | F &lt;dbl&gt; | Pr(&gt;F) &lt;dbl&gt; |\n",
       "|---|---|---|---|---|\n",
       "| westernized |    1 |  45.241599 | 124.067015 | 0.001 |\n",
       "| gender |    1 |   3.591387 |   9.848737 | 0.001 |\n",
       "| Residual | 2151 | 784.371892 |         NA |    NA |\n",
       "\n"
      ],
      "text/plain": [
       "            Df   SumOfSqs   F          Pr(>F)\n",
       "westernized    1  45.241599 124.067015 0.001 \n",
       "gender         1   3.591387   9.848737 0.001 \n",
       "Residual    2151 784.371892         NA    NA "
      ]
     },
     "metadata": {},
     "output_type": "display_data"
    }
   ],
   "source": [
    "# anova\n",
    "anova.cca(dbRDA, by='terms')"
   ]
  },
  {
   "cell_type": "markdown",
   "metadata": {},
   "source": [
    "### wunifrac-phy"
   ]
  },
  {
   "cell_type": "code",
   "execution_count": 64,
   "metadata": {
    "ExecuteTime": {
     "end_time": "2020-10-26T15:17:27.049274Z",
     "start_time": "2020-10-26T15:15:26.053Z"
    }
   },
   "outputs": [
    {
     "data": {
      "text/html": [
       "2154"
      ],
      "text/latex": [
       "2154"
      ],
      "text/markdown": [
       "2154"
      ],
      "text/plain": [
       "[1] 2154"
      ]
     },
     "metadata": {},
     "output_type": "display_data"
    },
    {
     "data": {
      "text/html": [
       "<table>\n",
       "<caption>A data.frame: 2154 × 70</caption>\n",
       "<thead>\n",
       "\t<tr><th></th><th scope=col>dataset_name</th><th scope=col>Sample</th><th scope=col>subjectID</th><th scope=col>body_site</th><th scope=col>antibiotics_current_use</th><th scope=col>study_condition</th><th scope=col>disease</th><th scope=col>age</th><th scope=col>age_category</th><th scope=col>gender</th><th scope=col>⋯</th><th scope=col>il_1</th><th scope=col>glp_1</th><th scope=col>travel_destination</th><th scope=col>urea_nitrogen</th><th scope=col>disease_stage</th><th scope=col>uncurated_metadata</th><th scope=col>family_member</th><th scope=col>subject_n</th><th scope=col>samp_n</th><th scope=col>westernized</th></tr>\n",
       "\t<tr><th></th><th scope=col>&lt;fct&gt;</th><th scope=col>&lt;chr&gt;</th><th scope=col>&lt;chr&gt;</th><th scope=col>&lt;chr&gt;</th><th scope=col>&lt;chr&gt;</th><th scope=col>&lt;fct&gt;</th><th scope=col>&lt;chr&gt;</th><th scope=col>&lt;int&gt;</th><th scope=col>&lt;chr&gt;</th><th scope=col>&lt;chr&gt;</th><th scope=col>⋯</th><th scope=col>&lt;dbl&gt;</th><th scope=col>&lt;dbl&gt;</th><th scope=col>&lt;chr&gt;</th><th scope=col>&lt;dbl&gt;</th><th scope=col>&lt;int&gt;</th><th scope=col>&lt;chr&gt;</th><th scope=col>&lt;chr&gt;</th><th scope=col>&lt;int&gt;</th><th scope=col>&lt;int&gt;</th><th scope=col>&lt;lgl&gt;</th></tr>\n",
       "</thead>\n",
       "<tbody>\n",
       "\t<tr><th scope=row>A11_01_1FE</th><td>PasolliE_2018</td><td>A11_01_1FE</td><td>A11_01_1FE</td><td>stool</td><td>no</td><td>control</td><td>healthy</td><td>52</td><td>adult</td><td>male</td><td>⋯</td><td>NA</td><td>NA</td><td>NA</td><td>NA</td><td>NA</td><td>NA</td><td>NA</td><td>1</td><td>1</td><td>FALSE</td></tr>\n",
       "\t<tr><th scope=row>A13_01_1FE</th><td>PasolliE_2018</td><td>A13_01_1FE</td><td>A13_01_1FE</td><td>stool</td><td>no</td><td>control</td><td>healthy</td><td>52</td><td>adult</td><td>male</td><td>⋯</td><td>NA</td><td>NA</td><td>NA</td><td>NA</td><td>NA</td><td>NA</td><td>NA</td><td>1</td><td>1</td><td>FALSE</td></tr>\n",
       "\t<tr><th scope=row>⋮</th><td>⋮</td><td>⋮</td><td>⋮</td><td>⋮</td><td>⋮</td><td>⋮</td><td>⋮</td><td>⋮</td><td>⋮</td><td>⋮</td><td>⋱</td><td>⋮</td><td>⋮</td><td>⋮</td><td>⋮</td><td>⋮</td><td>⋮</td><td>⋮</td><td>⋮</td><td>⋮</td><td>⋮</td></tr>\n",
       "\t<tr><th scope=row>YSZC12003_37879</th><td>XieH_2016</td><td>YSZC12003_37879</td><td>YSZC12003_37879</td><td>stool</td><td>NA</td><td>control</td><td>NA</td><td>42</td><td>adult</td><td>female</td><td>⋯</td><td>NA</td><td>NA</td><td>NA</td><td>NA</td><td>NA</td><td>NA</td><td>NA</td><td>1</td><td>1</td><td>TRUE</td></tr>\n",
       "\t<tr><th scope=row>YSZC12003_37880</th><td>XieH_2016</td><td>YSZC12003_37880</td><td>YSZC12003_37880</td><td>stool</td><td>NA</td><td>control</td><td>NA</td><td>42</td><td>adult</td><td>female</td><td>⋯</td><td>NA</td><td>NA</td><td>NA</td><td>NA</td><td>NA</td><td>NA</td><td>NA</td><td>1</td><td>1</td><td>TRUE</td></tr>\n",
       "</tbody>\n",
       "</table>\n"
      ],
      "text/latex": [
       "A data.frame: 2154 × 70\n",
       "\\begin{tabular}{r|lllllllllllllllllllll}\n",
       "  & dataset\\_name & Sample & subjectID & body\\_site & antibiotics\\_current\\_use & study\\_condition & disease & age & age\\_category & gender & ⋯ & il\\_1 & glp\\_1 & travel\\_destination & urea\\_nitrogen & disease\\_stage & uncurated\\_metadata & family\\_member & subject\\_n & samp\\_n & westernized\\\\\n",
       "  & <fct> & <chr> & <chr> & <chr> & <chr> & <fct> & <chr> & <int> & <chr> & <chr> & ⋯ & <dbl> & <dbl> & <chr> & <dbl> & <int> & <chr> & <chr> & <int> & <int> & <lgl>\\\\\n",
       "\\hline\n",
       "\tA11\\_01\\_1FE & PasolliE\\_2018 & A11\\_01\\_1FE & A11\\_01\\_1FE & stool & no & control & healthy & 52 & adult & male & ⋯ & NA & NA & NA & NA & NA & NA & NA & 1 & 1 & FALSE\\\\\n",
       "\tA13\\_01\\_1FE & PasolliE\\_2018 & A13\\_01\\_1FE & A13\\_01\\_1FE & stool & no & control & healthy & 52 & adult & male & ⋯ & NA & NA & NA & NA & NA & NA & NA & 1 & 1 & FALSE\\\\\n",
       "\t⋮ & ⋮ & ⋮ & ⋮ & ⋮ & ⋮ & ⋮ & ⋮ & ⋮ & ⋮ & ⋮ & ⋱ & ⋮ & ⋮ & ⋮ & ⋮ & ⋮ & ⋮ & ⋮ & ⋮ & ⋮ & ⋮\\\\\n",
       "\tYSZC12003\\_37879 & XieH\\_2016 & YSZC12003\\_37879 & YSZC12003\\_37879 & stool & NA & control & NA & 42 & adult & female & ⋯ & NA & NA & NA & NA & NA & NA & NA & 1 & 1 & TRUE\\\\\n",
       "\tYSZC12003\\_37880 & XieH\\_2016 & YSZC12003\\_37880 & YSZC12003\\_37880 & stool & NA & control & NA & 42 & adult & female & ⋯ & NA & NA & NA & NA & NA & NA & NA & 1 & 1 & TRUE\\\\\n",
       "\\end{tabular}\n"
      ],
      "text/markdown": [
       "\n",
       "A data.frame: 2154 × 70\n",
       "\n",
       "| <!--/--> | dataset_name &lt;fct&gt; | Sample &lt;chr&gt; | subjectID &lt;chr&gt; | body_site &lt;chr&gt; | antibiotics_current_use &lt;chr&gt; | study_condition &lt;fct&gt; | disease &lt;chr&gt; | age &lt;int&gt; | age_category &lt;chr&gt; | gender &lt;chr&gt; | ⋯ ⋯ | il_1 &lt;dbl&gt; | glp_1 &lt;dbl&gt; | travel_destination &lt;chr&gt; | urea_nitrogen &lt;dbl&gt; | disease_stage &lt;int&gt; | uncurated_metadata &lt;chr&gt; | family_member &lt;chr&gt; | subject_n &lt;int&gt; | samp_n &lt;int&gt; | westernized &lt;lgl&gt; |\n",
       "|---|---|---|---|---|---|---|---|---|---|---|---|---|---|---|---|---|---|---|---|---|---|\n",
       "| A11_01_1FE | PasolliE_2018 | A11_01_1FE | A11_01_1FE | stool | no | control | healthy | 52 | adult | male | ⋯ | NA | NA | NA | NA | NA | NA | NA | 1 | 1 | FALSE |\n",
       "| A13_01_1FE | PasolliE_2018 | A13_01_1FE | A13_01_1FE | stool | no | control | healthy | 52 | adult | male | ⋯ | NA | NA | NA | NA | NA | NA | NA | 1 | 1 | FALSE |\n",
       "| ⋮ | ⋮ | ⋮ | ⋮ | ⋮ | ⋮ | ⋮ | ⋮ | ⋮ | ⋮ | ⋮ | ⋱ | ⋮ | ⋮ | ⋮ | ⋮ | ⋮ | ⋮ | ⋮ | ⋮ | ⋮ | ⋮ |\n",
       "| YSZC12003_37879 | XieH_2016 | YSZC12003_37879 | YSZC12003_37879 | stool | NA | control | NA | 42 | adult | female | ⋯ | NA | NA | NA | NA | NA | NA | NA | 1 | 1 | TRUE |\n",
       "| YSZC12003_37880 | XieH_2016 | YSZC12003_37880 | YSZC12003_37880 | stool | NA | control | NA | 42 | adult | female | ⋯ | NA | NA | NA | NA | NA | NA | NA | 1 | 1 | TRUE |\n",
       "\n"
      ],
      "text/plain": [
       "                dataset_name  Sample          subjectID       body_site\n",
       "A11_01_1FE      PasolliE_2018 A11_01_1FE      A11_01_1FE      stool    \n",
       "A13_01_1FE      PasolliE_2018 A13_01_1FE      A13_01_1FE      stool    \n",
       "⋮               ⋮             ⋮               ⋮               ⋮        \n",
       "YSZC12003_37879 XieH_2016     YSZC12003_37879 YSZC12003_37879 stool    \n",
       "YSZC12003_37880 XieH_2016     YSZC12003_37880 YSZC12003_37880 stool    \n",
       "                antibiotics_current_use study_condition disease age\n",
       "A11_01_1FE      no                      control         healthy 52 \n",
       "A13_01_1FE      no                      control         healthy 52 \n",
       "⋮               ⋮                       ⋮               ⋮       ⋮  \n",
       "YSZC12003_37879 NA                      control         NA      42 \n",
       "YSZC12003_37880 NA                      control         NA      42 \n",
       "                age_category gender ⋯ il_1 glp_1 travel_destination\n",
       "A11_01_1FE      adult        male   ⋯ NA   NA    NA                \n",
       "A13_01_1FE      adult        male   ⋯ NA   NA    NA                \n",
       "⋮               ⋮            ⋮      ⋱ ⋮    ⋮     ⋮                 \n",
       "YSZC12003_37879 adult        female ⋯ NA   NA    NA                \n",
       "YSZC12003_37880 adult        female ⋯ NA   NA    NA                \n",
       "                urea_nitrogen disease_stage uncurated_metadata family_member\n",
       "A11_01_1FE      NA            NA            NA                 NA           \n",
       "A13_01_1FE      NA            NA            NA                 NA           \n",
       "⋮               ⋮             ⋮             ⋮                  ⋮            \n",
       "YSZC12003_37879 NA            NA            NA                 NA           \n",
       "YSZC12003_37880 NA            NA            NA                 NA           \n",
       "                subject_n samp_n westernized\n",
       "A11_01_1FE      1         1      FALSE      \n",
       "A13_01_1FE      1         1      FALSE      \n",
       "⋮               ⋮         ⋮      ⋮          \n",
       "YSZC12003_37879 1         1      TRUE       \n",
       "YSZC12003_37880 1         1      TRUE       "
      ]
     },
     "metadata": {},
     "output_type": "display_data"
    }
   ],
   "source": [
    "# filtering & ordering\n",
    "## distance matrix\n",
    "d = filter_dist(D[['wunifrac_phy']], rownames(m))\n",
    "d %>% labels %>% length\n",
    "## metadata\n",
    "M = m[labels(d),]\n",
    "M"
   ]
  },
  {
   "cell_type": "code",
   "execution_count": 65,
   "metadata": {
    "ExecuteTime": {
     "end_time": "2020-10-26T15:17:33.055221Z",
     "start_time": "2020-10-26T15:15:32.589Z"
    }
   },
   "outputs": [
    {
     "data": {
      "text/plain": [
       "Call: capscale(formula = d ~ westernized + gender, data = M)\n",
       "\n",
       "                 Inertia Proportion Rank\n",
       "Total         2376.96316    1.00000     \n",
       "Constrained    118.51159    0.04986    2\n",
       "Unconstrained 2946.75425    1.23971  651\n",
       "Imaginary     -688.30269   -0.28957 1502\n",
       "Inertia is squared Unknown distance \n",
       "\n",
       "Eigenvalues for constrained axes:\n",
       "  CAP1   CAP2 \n",
       "107.69  10.83 \n",
       "\n",
       "Eigenvalues for unconstrained axes:\n",
       "  MDS1   MDS2   MDS3   MDS4   MDS5   MDS6   MDS7   MDS8 \n",
       "1207.3  189.6  149.9  135.0  103.7   75.8   55.8   52.2 \n",
       "(Showing 8 of 651 unconstrained eigenvalues)\n"
      ]
     },
     "metadata": {},
     "output_type": "display_data"
    }
   ],
   "source": [
    "# distance-based RDA\n",
    "dbRDA = capscale(d ~ westernized + gender, data = M)\n",
    "dbRDA"
   ]
  },
  {
   "cell_type": "code",
   "execution_count": 66,
   "metadata": {
    "ExecuteTime": {
     "end_time": "2020-10-26T15:18:44.962578Z",
     "start_time": "2020-10-26T15:15:37.067Z"
    }
   },
   "outputs": [
    {
     "data": {
      "text/html": [
       "<table>\n",
       "<caption>A anova.cca: 3 × 4</caption>\n",
       "<thead>\n",
       "\t<tr><th></th><th scope=col>Df</th><th scope=col>SumOfSqs</th><th scope=col>F</th><th scope=col>Pr(&gt;F)</th></tr>\n",
       "\t<tr><th></th><th scope=col>&lt;dbl&gt;</th><th scope=col>&lt;dbl&gt;</th><th scope=col>&lt;dbl&gt;</th><th scope=col>&lt;dbl&gt;</th></tr>\n",
       "</thead>\n",
       "<tbody>\n",
       "\t<tr><th scope=row>westernized</th><td>   1</td><td> 107.02265</td><td>78.121793</td><td>0.001</td></tr>\n",
       "\t<tr><th scope=row>gender</th><td>   1</td><td>  11.48894</td><td> 8.386418</td><td>0.001</td></tr>\n",
       "\t<tr><th scope=row>Residual</th><td>2151</td><td>2946.75425</td><td>       NA</td><td>   NA</td></tr>\n",
       "</tbody>\n",
       "</table>\n"
      ],
      "text/latex": [
       "A anova.cca: 3 × 4\n",
       "\\begin{tabular}{r|llll}\n",
       "  & Df & SumOfSqs & F & Pr(>F)\\\\\n",
       "  & <dbl> & <dbl> & <dbl> & <dbl>\\\\\n",
       "\\hline\n",
       "\twesternized &    1 &  107.02265 & 78.121793 & 0.001\\\\\n",
       "\tgender &    1 &   11.48894 &  8.386418 & 0.001\\\\\n",
       "\tResidual & 2151 & 2946.75425 &        NA &    NA\\\\\n",
       "\\end{tabular}\n"
      ],
      "text/markdown": [
       "\n",
       "A anova.cca: 3 × 4\n",
       "\n",
       "| <!--/--> | Df &lt;dbl&gt; | SumOfSqs &lt;dbl&gt; | F &lt;dbl&gt; | Pr(&gt;F) &lt;dbl&gt; |\n",
       "|---|---|---|---|---|\n",
       "| westernized |    1 |  107.02265 | 78.121793 | 0.001 |\n",
       "| gender |    1 |   11.48894 |  8.386418 | 0.001 |\n",
       "| Residual | 2151 | 2946.75425 |        NA |    NA |\n",
       "\n"
      ],
      "text/plain": [
       "            Df   SumOfSqs   F         Pr(>F)\n",
       "westernized    1  107.02265 78.121793 0.001 \n",
       "gender         1   11.48894  8.386418 0.001 \n",
       "Residual    2151 2946.75425        NA    NA "
      ]
     },
     "metadata": {},
     "output_type": "display_data"
    }
   ],
   "source": [
    "# anova\n",
    "anova.cca(dbRDA, by='terms')"
   ]
  },
  {
   "cell_type": "markdown",
   "metadata": {},
   "source": [
    "### wunifrac-trt"
   ]
  },
  {
   "cell_type": "code",
   "execution_count": 67,
   "metadata": {
    "ExecuteTime": {
     "end_time": "2020-10-26T15:18:45.585153Z",
     "start_time": "2020-10-26T15:16:15.174Z"
    }
   },
   "outputs": [
    {
     "data": {
      "text/html": [
       "2154"
      ],
      "text/latex": [
       "2154"
      ],
      "text/markdown": [
       "2154"
      ],
      "text/plain": [
       "[1] 2154"
      ]
     },
     "metadata": {},
     "output_type": "display_data"
    },
    {
     "data": {
      "text/html": [
       "<table>\n",
       "<caption>A data.frame: 2154 × 70</caption>\n",
       "<thead>\n",
       "\t<tr><th></th><th scope=col>dataset_name</th><th scope=col>Sample</th><th scope=col>subjectID</th><th scope=col>body_site</th><th scope=col>antibiotics_current_use</th><th scope=col>study_condition</th><th scope=col>disease</th><th scope=col>age</th><th scope=col>age_category</th><th scope=col>gender</th><th scope=col>⋯</th><th scope=col>il_1</th><th scope=col>glp_1</th><th scope=col>travel_destination</th><th scope=col>urea_nitrogen</th><th scope=col>disease_stage</th><th scope=col>uncurated_metadata</th><th scope=col>family_member</th><th scope=col>subject_n</th><th scope=col>samp_n</th><th scope=col>westernized</th></tr>\n",
       "\t<tr><th></th><th scope=col>&lt;fct&gt;</th><th scope=col>&lt;chr&gt;</th><th scope=col>&lt;chr&gt;</th><th scope=col>&lt;chr&gt;</th><th scope=col>&lt;chr&gt;</th><th scope=col>&lt;fct&gt;</th><th scope=col>&lt;chr&gt;</th><th scope=col>&lt;int&gt;</th><th scope=col>&lt;chr&gt;</th><th scope=col>&lt;chr&gt;</th><th scope=col>⋯</th><th scope=col>&lt;dbl&gt;</th><th scope=col>&lt;dbl&gt;</th><th scope=col>&lt;chr&gt;</th><th scope=col>&lt;dbl&gt;</th><th scope=col>&lt;int&gt;</th><th scope=col>&lt;chr&gt;</th><th scope=col>&lt;chr&gt;</th><th scope=col>&lt;int&gt;</th><th scope=col>&lt;int&gt;</th><th scope=col>&lt;lgl&gt;</th></tr>\n",
       "</thead>\n",
       "<tbody>\n",
       "\t<tr><th scope=row>A11_01_1FE</th><td>PasolliE_2018</td><td>A11_01_1FE</td><td>A11_01_1FE</td><td>stool</td><td>no</td><td>control</td><td>healthy</td><td>52</td><td>adult</td><td>male</td><td>⋯</td><td>NA</td><td>NA</td><td>NA</td><td>NA</td><td>NA</td><td>NA</td><td>NA</td><td>1</td><td>1</td><td>FALSE</td></tr>\n",
       "\t<tr><th scope=row>A13_01_1FE</th><td>PasolliE_2018</td><td>A13_01_1FE</td><td>A13_01_1FE</td><td>stool</td><td>no</td><td>control</td><td>healthy</td><td>52</td><td>adult</td><td>male</td><td>⋯</td><td>NA</td><td>NA</td><td>NA</td><td>NA</td><td>NA</td><td>NA</td><td>NA</td><td>1</td><td>1</td><td>FALSE</td></tr>\n",
       "\t<tr><th scope=row>⋮</th><td>⋮</td><td>⋮</td><td>⋮</td><td>⋮</td><td>⋮</td><td>⋮</td><td>⋮</td><td>⋮</td><td>⋮</td><td>⋮</td><td>⋱</td><td>⋮</td><td>⋮</td><td>⋮</td><td>⋮</td><td>⋮</td><td>⋮</td><td>⋮</td><td>⋮</td><td>⋮</td><td>⋮</td></tr>\n",
       "\t<tr><th scope=row>YSZC12003_37879</th><td>XieH_2016</td><td>YSZC12003_37879</td><td>YSZC12003_37879</td><td>stool</td><td>NA</td><td>control</td><td>NA</td><td>42</td><td>adult</td><td>female</td><td>⋯</td><td>NA</td><td>NA</td><td>NA</td><td>NA</td><td>NA</td><td>NA</td><td>NA</td><td>1</td><td>1</td><td>TRUE</td></tr>\n",
       "\t<tr><th scope=row>YSZC12003_37880</th><td>XieH_2016</td><td>YSZC12003_37880</td><td>YSZC12003_37880</td><td>stool</td><td>NA</td><td>control</td><td>NA</td><td>42</td><td>adult</td><td>female</td><td>⋯</td><td>NA</td><td>NA</td><td>NA</td><td>NA</td><td>NA</td><td>NA</td><td>NA</td><td>1</td><td>1</td><td>TRUE</td></tr>\n",
       "</tbody>\n",
       "</table>\n"
      ],
      "text/latex": [
       "A data.frame: 2154 × 70\n",
       "\\begin{tabular}{r|lllllllllllllllllllll}\n",
       "  & dataset\\_name & Sample & subjectID & body\\_site & antibiotics\\_current\\_use & study\\_condition & disease & age & age\\_category & gender & ⋯ & il\\_1 & glp\\_1 & travel\\_destination & urea\\_nitrogen & disease\\_stage & uncurated\\_metadata & family\\_member & subject\\_n & samp\\_n & westernized\\\\\n",
       "  & <fct> & <chr> & <chr> & <chr> & <chr> & <fct> & <chr> & <int> & <chr> & <chr> & ⋯ & <dbl> & <dbl> & <chr> & <dbl> & <int> & <chr> & <chr> & <int> & <int> & <lgl>\\\\\n",
       "\\hline\n",
       "\tA11\\_01\\_1FE & PasolliE\\_2018 & A11\\_01\\_1FE & A11\\_01\\_1FE & stool & no & control & healthy & 52 & adult & male & ⋯ & NA & NA & NA & NA & NA & NA & NA & 1 & 1 & FALSE\\\\\n",
       "\tA13\\_01\\_1FE & PasolliE\\_2018 & A13\\_01\\_1FE & A13\\_01\\_1FE & stool & no & control & healthy & 52 & adult & male & ⋯ & NA & NA & NA & NA & NA & NA & NA & 1 & 1 & FALSE\\\\\n",
       "\t⋮ & ⋮ & ⋮ & ⋮ & ⋮ & ⋮ & ⋮ & ⋮ & ⋮ & ⋮ & ⋮ & ⋱ & ⋮ & ⋮ & ⋮ & ⋮ & ⋮ & ⋮ & ⋮ & ⋮ & ⋮ & ⋮\\\\\n",
       "\tYSZC12003\\_37879 & XieH\\_2016 & YSZC12003\\_37879 & YSZC12003\\_37879 & stool & NA & control & NA & 42 & adult & female & ⋯ & NA & NA & NA & NA & NA & NA & NA & 1 & 1 & TRUE\\\\\n",
       "\tYSZC12003\\_37880 & XieH\\_2016 & YSZC12003\\_37880 & YSZC12003\\_37880 & stool & NA & control & NA & 42 & adult & female & ⋯ & NA & NA & NA & NA & NA & NA & NA & 1 & 1 & TRUE\\\\\n",
       "\\end{tabular}\n"
      ],
      "text/markdown": [
       "\n",
       "A data.frame: 2154 × 70\n",
       "\n",
       "| <!--/--> | dataset_name &lt;fct&gt; | Sample &lt;chr&gt; | subjectID &lt;chr&gt; | body_site &lt;chr&gt; | antibiotics_current_use &lt;chr&gt; | study_condition &lt;fct&gt; | disease &lt;chr&gt; | age &lt;int&gt; | age_category &lt;chr&gt; | gender &lt;chr&gt; | ⋯ ⋯ | il_1 &lt;dbl&gt; | glp_1 &lt;dbl&gt; | travel_destination &lt;chr&gt; | urea_nitrogen &lt;dbl&gt; | disease_stage &lt;int&gt; | uncurated_metadata &lt;chr&gt; | family_member &lt;chr&gt; | subject_n &lt;int&gt; | samp_n &lt;int&gt; | westernized &lt;lgl&gt; |\n",
       "|---|---|---|---|---|---|---|---|---|---|---|---|---|---|---|---|---|---|---|---|---|---|\n",
       "| A11_01_1FE | PasolliE_2018 | A11_01_1FE | A11_01_1FE | stool | no | control | healthy | 52 | adult | male | ⋯ | NA | NA | NA | NA | NA | NA | NA | 1 | 1 | FALSE |\n",
       "| A13_01_1FE | PasolliE_2018 | A13_01_1FE | A13_01_1FE | stool | no | control | healthy | 52 | adult | male | ⋯ | NA | NA | NA | NA | NA | NA | NA | 1 | 1 | FALSE |\n",
       "| ⋮ | ⋮ | ⋮ | ⋮ | ⋮ | ⋮ | ⋮ | ⋮ | ⋮ | ⋮ | ⋮ | ⋱ | ⋮ | ⋮ | ⋮ | ⋮ | ⋮ | ⋮ | ⋮ | ⋮ | ⋮ | ⋮ |\n",
       "| YSZC12003_37879 | XieH_2016 | YSZC12003_37879 | YSZC12003_37879 | stool | NA | control | NA | 42 | adult | female | ⋯ | NA | NA | NA | NA | NA | NA | NA | 1 | 1 | TRUE |\n",
       "| YSZC12003_37880 | XieH_2016 | YSZC12003_37880 | YSZC12003_37880 | stool | NA | control | NA | 42 | adult | female | ⋯ | NA | NA | NA | NA | NA | NA | NA | 1 | 1 | TRUE |\n",
       "\n"
      ],
      "text/plain": [
       "                dataset_name  Sample          subjectID       body_site\n",
       "A11_01_1FE      PasolliE_2018 A11_01_1FE      A11_01_1FE      stool    \n",
       "A13_01_1FE      PasolliE_2018 A13_01_1FE      A13_01_1FE      stool    \n",
       "⋮               ⋮             ⋮               ⋮               ⋮        \n",
       "YSZC12003_37879 XieH_2016     YSZC12003_37879 YSZC12003_37879 stool    \n",
       "YSZC12003_37880 XieH_2016     YSZC12003_37880 YSZC12003_37880 stool    \n",
       "                antibiotics_current_use study_condition disease age\n",
       "A11_01_1FE      no                      control         healthy 52 \n",
       "A13_01_1FE      no                      control         healthy 52 \n",
       "⋮               ⋮                       ⋮               ⋮       ⋮  \n",
       "YSZC12003_37879 NA                      control         NA      42 \n",
       "YSZC12003_37880 NA                      control         NA      42 \n",
       "                age_category gender ⋯ il_1 glp_1 travel_destination\n",
       "A11_01_1FE      adult        male   ⋯ NA   NA    NA                \n",
       "A13_01_1FE      adult        male   ⋯ NA   NA    NA                \n",
       "⋮               ⋮            ⋮      ⋱ ⋮    ⋮     ⋮                 \n",
       "YSZC12003_37879 adult        female ⋯ NA   NA    NA                \n",
       "YSZC12003_37880 adult        female ⋯ NA   NA    NA                \n",
       "                urea_nitrogen disease_stage uncurated_metadata family_member\n",
       "A11_01_1FE      NA            NA            NA                 NA           \n",
       "A13_01_1FE      NA            NA            NA                 NA           \n",
       "⋮               ⋮             ⋮             ⋮                  ⋮            \n",
       "YSZC12003_37879 NA            NA            NA                 NA           \n",
       "YSZC12003_37880 NA            NA            NA                 NA           \n",
       "                subject_n samp_n westernized\n",
       "A11_01_1FE      1         1      FALSE      \n",
       "A13_01_1FE      1         1      FALSE      \n",
       "⋮               ⋮         ⋮      ⋮          \n",
       "YSZC12003_37879 1         1      TRUE       \n",
       "YSZC12003_37880 1         1      TRUE       "
      ]
     },
     "metadata": {},
     "output_type": "display_data"
    }
   ],
   "source": [
    "# filtering & ordering\n",
    "## distance matrix\n",
    "d = filter_dist(D[['wunifrac_trt']], rownames(m))\n",
    "d %>% labels %>% length\n",
    "## metadata\n",
    "M = m[labels(d),]\n",
    "M"
   ]
  },
  {
   "cell_type": "code",
   "execution_count": 68,
   "metadata": {
    "ExecuteTime": {
     "end_time": "2020-10-26T15:18:53.447935Z",
     "start_time": "2020-10-26T15:16:19.588Z"
    }
   },
   "outputs": [
    {
     "data": {
      "text/plain": [
       "Call: capscale(formula = d ~ westernized + gender, data = M)\n",
       "\n",
       "                Inertia Proportion Rank\n",
       "Total         204.03254    1.00000     \n",
       "Constrained    14.30080    0.07009    2\n",
       "Unconstrained 243.30350    1.19247  772\n",
       "Imaginary     -53.57176   -0.26256 1381\n",
       "Inertia is squared Unknown distance \n",
       "\n",
       "Eigenvalues for constrained axes:\n",
       "  CAP1   CAP2 \n",
       "13.304  0.997 \n",
       "\n",
       "Eigenvalues for unconstrained axes:\n",
       " MDS1  MDS2  MDS3  MDS4  MDS5  MDS6  MDS7  MDS8 \n",
       "45.74 16.24 14.11 12.86  7.69  4.96  4.52  4.22 \n",
       "(Showing 8 of 772 unconstrained eigenvalues)\n"
      ]
     },
     "metadata": {},
     "output_type": "display_data"
    }
   ],
   "source": [
    "# distance-based RDA\n",
    "dbRDA = capscale(d ~ westernized + gender, data = M)\n",
    "dbRDA"
   ]
  },
  {
   "cell_type": "code",
   "execution_count": 69,
   "metadata": {
    "ExecuteTime": {
     "end_time": "2020-10-26T15:20:40.461764Z",
     "start_time": "2020-10-26T15:16:23.892Z"
    }
   },
   "outputs": [
    {
     "data": {
      "text/html": [
       "<table>\n",
       "<caption>A anova.cca: 3 × 4</caption>\n",
       "<thead>\n",
       "\t<tr><th></th><th scope=col>Df</th><th scope=col>SumOfSqs</th><th scope=col>F</th><th scope=col>Pr(&gt;F)</th></tr>\n",
       "\t<tr><th></th><th scope=col>&lt;dbl&gt;</th><th scope=col>&lt;dbl&gt;</th><th scope=col>&lt;dbl&gt;</th><th scope=col>&lt;dbl&gt;</th></tr>\n",
       "</thead>\n",
       "<tbody>\n",
       "\t<tr><th scope=row>westernized</th><td>   1</td><td> 13.178875</td><td>116.511931</td><td>0.001</td></tr>\n",
       "\t<tr><th scope=row>gender</th><td>   1</td><td>  1.121923</td><td>  9.918706</td><td>0.001</td></tr>\n",
       "\t<tr><th scope=row>Residual</th><td>2151</td><td>243.303500</td><td>        NA</td><td>   NA</td></tr>\n",
       "</tbody>\n",
       "</table>\n"
      ],
      "text/latex": [
       "A anova.cca: 3 × 4\n",
       "\\begin{tabular}{r|llll}\n",
       "  & Df & SumOfSqs & F & Pr(>F)\\\\\n",
       "  & <dbl> & <dbl> & <dbl> & <dbl>\\\\\n",
       "\\hline\n",
       "\twesternized &    1 &  13.178875 & 116.511931 & 0.001\\\\\n",
       "\tgender &    1 &   1.121923 &   9.918706 & 0.001\\\\\n",
       "\tResidual & 2151 & 243.303500 &         NA &    NA\\\\\n",
       "\\end{tabular}\n"
      ],
      "text/markdown": [
       "\n",
       "A anova.cca: 3 × 4\n",
       "\n",
       "| <!--/--> | Df &lt;dbl&gt; | SumOfSqs &lt;dbl&gt; | F &lt;dbl&gt; | Pr(&gt;F) &lt;dbl&gt; |\n",
       "|---|---|---|---|---|\n",
       "| westernized |    1 |  13.178875 | 116.511931 | 0.001 |\n",
       "| gender |    1 |   1.121923 |   9.918706 | 0.001 |\n",
       "| Residual | 2151 | 243.303500 |         NA |    NA |\n",
       "\n"
      ],
      "text/plain": [
       "            Df   SumOfSqs   F          Pr(>F)\n",
       "westernized    1  13.178875 116.511931 0.001 \n",
       "gender         1   1.121923   9.918706 0.001 \n",
       "Residual    2151 243.303500         NA    NA "
      ]
     },
     "metadata": {},
     "output_type": "display_data"
    }
   ],
   "source": [
    "# anova\n",
    "anova.cca(dbRDA, by='terms')"
   ]
  },
  {
   "cell_type": "markdown",
   "metadata": {},
   "source": [
    "## Westernization & gender + age + BMI"
   ]
  },
  {
   "cell_type": "code",
   "execution_count": 101,
   "metadata": {
    "ExecuteTime": {
     "end_time": "2020-10-26T15:39:19.065185Z",
     "start_time": "2020-10-26T15:39:05.925Z"
    }
   },
   "outputs": [
    {
     "data": {
      "text/html": [
       "<table>\n",
       "<caption>A data.frame: 1058 × 70</caption>\n",
       "<thead>\n",
       "\t<tr><th></th><th scope=col>dataset_name</th><th scope=col>Sample</th><th scope=col>subjectID</th><th scope=col>body_site</th><th scope=col>antibiotics_current_use</th><th scope=col>study_condition</th><th scope=col>disease</th><th scope=col>age</th><th scope=col>age_category</th><th scope=col>gender</th><th scope=col>⋯</th><th scope=col>il_1</th><th scope=col>glp_1</th><th scope=col>travel_destination</th><th scope=col>urea_nitrogen</th><th scope=col>disease_stage</th><th scope=col>uncurated_metadata</th><th scope=col>family_member</th><th scope=col>subject_n</th><th scope=col>samp_n</th><th scope=col>westernized</th></tr>\n",
       "\t<tr><th></th><th scope=col>&lt;fct&gt;</th><th scope=col>&lt;chr&gt;</th><th scope=col>&lt;chr&gt;</th><th scope=col>&lt;chr&gt;</th><th scope=col>&lt;chr&gt;</th><th scope=col>&lt;fct&gt;</th><th scope=col>&lt;chr&gt;</th><th scope=col>&lt;int&gt;</th><th scope=col>&lt;chr&gt;</th><th scope=col>&lt;chr&gt;</th><th scope=col>⋯</th><th scope=col>&lt;dbl&gt;</th><th scope=col>&lt;dbl&gt;</th><th scope=col>&lt;chr&gt;</th><th scope=col>&lt;dbl&gt;</th><th scope=col>&lt;int&gt;</th><th scope=col>&lt;chr&gt;</th><th scope=col>&lt;chr&gt;</th><th scope=col>&lt;int&gt;</th><th scope=col>&lt;int&gt;</th><th scope=col>&lt;lgl&gt;</th></tr>\n",
       "</thead>\n",
       "<tbody>\n",
       "\t<tr><th scope=row>SID713A004.11.0.0</th><td>CosteaPI_2017</td><td>SID713A004.11.0.0 </td><td>KAZ2</td><td>stool</td><td>NA</td><td>control</td><td>healthy</td><td>48</td><td>adult</td><td>female</td><td>⋯</td><td>NA</td><td>NA</td><td>NA</td><td>NA</td><td>NA</td><td>NA</td><td>NA</td><td>1</td><td>1</td><td>FALSE</td></tr>\n",
       "\t<tr><th scope=row>SID713A009.11.90.0</th><td>CosteaPI_2017</td><td>SID713A009.11.90.0</td><td>KAZ4</td><td>stool</td><td>NA</td><td>control</td><td>healthy</td><td>46</td><td>adult</td><td>male  </td><td>⋯</td><td>NA</td><td>NA</td><td>NA</td><td>NA</td><td>NA</td><td>NA</td><td>NA</td><td>2</td><td>1</td><td>FALSE</td></tr>\n",
       "\t<tr><th scope=row>⋮</th><td>⋮</td><td>⋮</td><td>⋮</td><td>⋮</td><td>⋮</td><td>⋮</td><td>⋮</td><td>⋮</td><td>⋮</td><td>⋮</td><td>⋱</td><td>⋮</td><td>⋮</td><td>⋮</td><td>⋮</td><td>⋮</td><td>⋮</td><td>⋮</td><td>⋮</td><td>⋮</td><td>⋮</td></tr>\n",
       "\t<tr><th scope=row>CCIS82944710ST.20.0</th><td>ZellerG_2014</td><td>CCIS82944710ST.20.0</td><td>FR-730</td><td>stool</td><td>NA</td><td>control</td><td>healthy</td><td>38</td><td>adult</td><td>female</td><td>⋯</td><td>NA</td><td>NA</td><td>NA</td><td>NA</td><td>NA</td><td>NA</td><td>NA</td><td>1</td><td>1</td><td>TRUE</td></tr>\n",
       "\t<tr><th scope=row>CCIS93040568ST.20.0</th><td>ZellerG_2014</td><td>CCIS93040568ST.20.0</td><td>FR-682</td><td>stool</td><td>NA</td><td>control</td><td>healthy</td><td>65</td><td>adult</td><td>male  </td><td>⋯</td><td>NA</td><td>NA</td><td>NA</td><td>NA</td><td>NA</td><td>NA</td><td>NA</td><td>1</td><td>1</td><td>TRUE</td></tr>\n",
       "</tbody>\n",
       "</table>\n"
      ],
      "text/latex": [
       "A data.frame: 1058 × 70\n",
       "\\begin{tabular}{r|lllllllllllllllllllll}\n",
       "  & dataset\\_name & Sample & subjectID & body\\_site & antibiotics\\_current\\_use & study\\_condition & disease & age & age\\_category & gender & ⋯ & il\\_1 & glp\\_1 & travel\\_destination & urea\\_nitrogen & disease\\_stage & uncurated\\_metadata & family\\_member & subject\\_n & samp\\_n & westernized\\\\\n",
       "  & <fct> & <chr> & <chr> & <chr> & <chr> & <fct> & <chr> & <int> & <chr> & <chr> & ⋯ & <dbl> & <dbl> & <chr> & <dbl> & <int> & <chr> & <chr> & <int> & <int> & <lgl>\\\\\n",
       "\\hline\n",
       "\tSID713A004.11.0.0 & CosteaPI\\_2017 & SID713A004.11.0.0  & KAZ2 & stool & NA & control & healthy & 48 & adult & female & ⋯ & NA & NA & NA & NA & NA & NA & NA & 1 & 1 & FALSE\\\\\n",
       "\tSID713A009.11.90.0 & CosteaPI\\_2017 & SID713A009.11.90.0 & KAZ4 & stool & NA & control & healthy & 46 & adult & male   & ⋯ & NA & NA & NA & NA & NA & NA & NA & 2 & 1 & FALSE\\\\\n",
       "\t⋮ & ⋮ & ⋮ & ⋮ & ⋮ & ⋮ & ⋮ & ⋮ & ⋮ & ⋮ & ⋮ & ⋱ & ⋮ & ⋮ & ⋮ & ⋮ & ⋮ & ⋮ & ⋮ & ⋮ & ⋮ & ⋮\\\\\n",
       "\tCCIS82944710ST.20.0 & ZellerG\\_2014 & CCIS82944710ST.20.0 & FR-730 & stool & NA & control & healthy & 38 & adult & female & ⋯ & NA & NA & NA & NA & NA & NA & NA & 1 & 1 & TRUE\\\\\n",
       "\tCCIS93040568ST.20.0 & ZellerG\\_2014 & CCIS93040568ST.20.0 & FR-682 & stool & NA & control & healthy & 65 & adult & male   & ⋯ & NA & NA & NA & NA & NA & NA & NA & 1 & 1 & TRUE\\\\\n",
       "\\end{tabular}\n"
      ],
      "text/markdown": [
       "\n",
       "A data.frame: 1058 × 70\n",
       "\n",
       "| <!--/--> | dataset_name &lt;fct&gt; | Sample &lt;chr&gt; | subjectID &lt;chr&gt; | body_site &lt;chr&gt; | antibiotics_current_use &lt;chr&gt; | study_condition &lt;fct&gt; | disease &lt;chr&gt; | age &lt;int&gt; | age_category &lt;chr&gt; | gender &lt;chr&gt; | ⋯ ⋯ | il_1 &lt;dbl&gt; | glp_1 &lt;dbl&gt; | travel_destination &lt;chr&gt; | urea_nitrogen &lt;dbl&gt; | disease_stage &lt;int&gt; | uncurated_metadata &lt;chr&gt; | family_member &lt;chr&gt; | subject_n &lt;int&gt; | samp_n &lt;int&gt; | westernized &lt;lgl&gt; |\n",
       "|---|---|---|---|---|---|---|---|---|---|---|---|---|---|---|---|---|---|---|---|---|---|\n",
       "| SID713A004.11.0.0 | CosteaPI_2017 | SID713A004.11.0.0  | KAZ2 | stool | NA | control | healthy | 48 | adult | female | ⋯ | NA | NA | NA | NA | NA | NA | NA | 1 | 1 | FALSE |\n",
       "| SID713A009.11.90.0 | CosteaPI_2017 | SID713A009.11.90.0 | KAZ4 | stool | NA | control | healthy | 46 | adult | male   | ⋯ | NA | NA | NA | NA | NA | NA | NA | 2 | 1 | FALSE |\n",
       "| ⋮ | ⋮ | ⋮ | ⋮ | ⋮ | ⋮ | ⋮ | ⋮ | ⋮ | ⋮ | ⋮ | ⋱ | ⋮ | ⋮ | ⋮ | ⋮ | ⋮ | ⋮ | ⋮ | ⋮ | ⋮ | ⋮ |\n",
       "| CCIS82944710ST.20.0 | ZellerG_2014 | CCIS82944710ST.20.0 | FR-730 | stool | NA | control | healthy | 38 | adult | female | ⋯ | NA | NA | NA | NA | NA | NA | NA | 1 | 1 | TRUE |\n",
       "| CCIS93040568ST.20.0 | ZellerG_2014 | CCIS93040568ST.20.0 | FR-682 | stool | NA | control | healthy | 65 | adult | male   | ⋯ | NA | NA | NA | NA | NA | NA | NA | 1 | 1 | TRUE |\n",
       "\n"
      ],
      "text/plain": [
       "                    dataset_name  Sample              subjectID body_site\n",
       "SID713A004.11.0.0   CosteaPI_2017 SID713A004.11.0.0   KAZ2      stool    \n",
       "SID713A009.11.90.0  CosteaPI_2017 SID713A009.11.90.0  KAZ4      stool    \n",
       "⋮                   ⋮             ⋮                   ⋮         ⋮        \n",
       "CCIS82944710ST.20.0 ZellerG_2014  CCIS82944710ST.20.0 FR-730    stool    \n",
       "CCIS93040568ST.20.0 ZellerG_2014  CCIS93040568ST.20.0 FR-682    stool    \n",
       "                    antibiotics_current_use study_condition disease age\n",
       "SID713A004.11.0.0   NA                      control         healthy 48 \n",
       "SID713A009.11.90.0  NA                      control         healthy 46 \n",
       "⋮                   ⋮                       ⋮               ⋮       ⋮  \n",
       "CCIS82944710ST.20.0 NA                      control         healthy 38 \n",
       "CCIS93040568ST.20.0 NA                      control         healthy 65 \n",
       "                    age_category gender ⋯ il_1 glp_1 travel_destination\n",
       "SID713A004.11.0.0   adult        female ⋯ NA   NA    NA                \n",
       "SID713A009.11.90.0  adult        male   ⋯ NA   NA    NA                \n",
       "⋮                   ⋮            ⋮      ⋱ ⋮    ⋮     ⋮                 \n",
       "CCIS82944710ST.20.0 adult        female ⋯ NA   NA    NA                \n",
       "CCIS93040568ST.20.0 adult        male   ⋯ NA   NA    NA                \n",
       "                    urea_nitrogen disease_stage uncurated_metadata\n",
       "SID713A004.11.0.0   NA            NA            NA                \n",
       "SID713A009.11.90.0  NA            NA            NA                \n",
       "⋮                   ⋮             ⋮             ⋮                 \n",
       "CCIS82944710ST.20.0 NA            NA            NA                \n",
       "CCIS93040568ST.20.0 NA            NA            NA                \n",
       "                    family_member subject_n samp_n westernized\n",
       "SID713A004.11.0.0   NA            1         1      FALSE      \n",
       "SID713A009.11.90.0  NA            2         1      FALSE      \n",
       "⋮                   ⋮             ⋮         ⋮      ⋮          \n",
       "CCIS82944710ST.20.0 NA            1         1      TRUE       \n",
       "CCIS93040568ST.20.0 NA            1         1      TRUE       "
      ]
     },
     "metadata": {},
     "output_type": "display_data"
    }
   ],
   "source": [
    "# formatting metadata\n",
    "m = meta %>%\n",
    "    dt_filter(!is.na(westernized), !is.na(gender), !is.na(age), !is.na(BMI)) %>%\n",
    "    as.data.frame\n",
    "rownames(m) = m$Sample\n",
    "m"
   ]
  },
  {
   "cell_type": "markdown",
   "metadata": {},
   "source": [
    "### Bray-Curtis"
   ]
  },
  {
   "cell_type": "code",
   "execution_count": 102,
   "metadata": {
    "ExecuteTime": {
     "end_time": "2020-10-26T15:39:19.715987Z",
     "start_time": "2020-10-26T15:39:06.192Z"
    }
   },
   "outputs": [
    {
     "data": {
      "text/html": [
       "935"
      ],
      "text/latex": [
       "935"
      ],
      "text/markdown": [
       "935"
      ],
      "text/plain": [
       "[1] 935"
      ]
     },
     "metadata": {},
     "output_type": "display_data"
    },
    {
     "data": {
      "text/html": [
       "<table>\n",
       "<caption>A data.frame: 935 × 70</caption>\n",
       "<thead>\n",
       "\t<tr><th></th><th scope=col>dataset_name</th><th scope=col>Sample</th><th scope=col>subjectID</th><th scope=col>body_site</th><th scope=col>antibiotics_current_use</th><th scope=col>study_condition</th><th scope=col>disease</th><th scope=col>age</th><th scope=col>age_category</th><th scope=col>gender</th><th scope=col>⋯</th><th scope=col>il_1</th><th scope=col>glp_1</th><th scope=col>travel_destination</th><th scope=col>urea_nitrogen</th><th scope=col>disease_stage</th><th scope=col>uncurated_metadata</th><th scope=col>family_member</th><th scope=col>subject_n</th><th scope=col>samp_n</th><th scope=col>westernized</th></tr>\n",
       "\t<tr><th></th><th scope=col>&lt;fct&gt;</th><th scope=col>&lt;chr&gt;</th><th scope=col>&lt;chr&gt;</th><th scope=col>&lt;chr&gt;</th><th scope=col>&lt;chr&gt;</th><th scope=col>&lt;fct&gt;</th><th scope=col>&lt;chr&gt;</th><th scope=col>&lt;int&gt;</th><th scope=col>&lt;chr&gt;</th><th scope=col>&lt;chr&gt;</th><th scope=col>⋯</th><th scope=col>&lt;dbl&gt;</th><th scope=col>&lt;dbl&gt;</th><th scope=col>&lt;chr&gt;</th><th scope=col>&lt;dbl&gt;</th><th scope=col>&lt;int&gt;</th><th scope=col>&lt;chr&gt;</th><th scope=col>&lt;chr&gt;</th><th scope=col>&lt;int&gt;</th><th scope=col>&lt;int&gt;</th><th scope=col>&lt;lgl&gt;</th></tr>\n",
       "</thead>\n",
       "<tbody>\n",
       "\t<tr><th scope=row>A11_01_1FE</th><td>PasolliE_2018</td><td>A11_01_1FE</td><td>A11_01_1FE</td><td>stool</td><td>no</td><td>control</td><td>healthy</td><td>52</td><td>adult</td><td>male</td><td>⋯</td><td>NA</td><td>NA</td><td>NA</td><td>NA</td><td>NA</td><td>NA</td><td>NA</td><td>1</td><td>1</td><td>FALSE</td></tr>\n",
       "\t<tr><th scope=row>A13_01_1FE</th><td>PasolliE_2018</td><td>A13_01_1FE</td><td>A13_01_1FE</td><td>stool</td><td>no</td><td>control</td><td>healthy</td><td>52</td><td>adult</td><td>male</td><td>⋯</td><td>NA</td><td>NA</td><td>NA</td><td>NA</td><td>NA</td><td>NA</td><td>NA</td><td>1</td><td>1</td><td>FALSE</td></tr>\n",
       "\t<tr><th scope=row>⋮</th><td>⋮</td><td>⋮</td><td>⋮</td><td>⋮</td><td>⋮</td><td>⋮</td><td>⋮</td><td>⋮</td><td>⋮</td><td>⋮</td><td>⋱</td><td>⋮</td><td>⋮</td><td>⋮</td><td>⋮</td><td>⋮</td><td>⋮</td><td>⋮</td><td>⋮</td><td>⋮</td><td>⋮</td></tr>\n",
       "\t<tr><th scope=row>YEZ_N.8</th><td>YeZ_2018</td><td>YEZ_N.8</td><td>YEZ_N-8</td><td>stool</td><td>no</td><td>control</td><td>healthy</td><td>32</td><td>adult</td><td>male</td><td>⋯</td><td>NA</td><td>NA</td><td>NA</td><td>NA</td><td>NA</td><td>NA</td><td>NA</td><td>1</td><td>1</td><td>TRUE</td></tr>\n",
       "\t<tr><th scope=row>YEZ_N.9</th><td>YeZ_2018</td><td>YEZ_N.9</td><td>YEZ_N-9</td><td>stool</td><td>no</td><td>control</td><td>healthy</td><td>48</td><td>adult</td><td>male</td><td>⋯</td><td>NA</td><td>NA</td><td>NA</td><td>NA</td><td>NA</td><td>NA</td><td>NA</td><td>1</td><td>1</td><td>TRUE</td></tr>\n",
       "</tbody>\n",
       "</table>\n"
      ],
      "text/latex": [
       "A data.frame: 935 × 70\n",
       "\\begin{tabular}{r|lllllllllllllllllllll}\n",
       "  & dataset\\_name & Sample & subjectID & body\\_site & antibiotics\\_current\\_use & study\\_condition & disease & age & age\\_category & gender & ⋯ & il\\_1 & glp\\_1 & travel\\_destination & urea\\_nitrogen & disease\\_stage & uncurated\\_metadata & family\\_member & subject\\_n & samp\\_n & westernized\\\\\n",
       "  & <fct> & <chr> & <chr> & <chr> & <chr> & <fct> & <chr> & <int> & <chr> & <chr> & ⋯ & <dbl> & <dbl> & <chr> & <dbl> & <int> & <chr> & <chr> & <int> & <int> & <lgl>\\\\\n",
       "\\hline\n",
       "\tA11\\_01\\_1FE & PasolliE\\_2018 & A11\\_01\\_1FE & A11\\_01\\_1FE & stool & no & control & healthy & 52 & adult & male & ⋯ & NA & NA & NA & NA & NA & NA & NA & 1 & 1 & FALSE\\\\\n",
       "\tA13\\_01\\_1FE & PasolliE\\_2018 & A13\\_01\\_1FE & A13\\_01\\_1FE & stool & no & control & healthy & 52 & adult & male & ⋯ & NA & NA & NA & NA & NA & NA & NA & 1 & 1 & FALSE\\\\\n",
       "\t⋮ & ⋮ & ⋮ & ⋮ & ⋮ & ⋮ & ⋮ & ⋮ & ⋮ & ⋮ & ⋮ & ⋱ & ⋮ & ⋮ & ⋮ & ⋮ & ⋮ & ⋮ & ⋮ & ⋮ & ⋮ & ⋮\\\\\n",
       "\tYEZ\\_N.8 & YeZ\\_2018 & YEZ\\_N.8 & YEZ\\_N-8 & stool & no & control & healthy & 32 & adult & male & ⋯ & NA & NA & NA & NA & NA & NA & NA & 1 & 1 & TRUE\\\\\n",
       "\tYEZ\\_N.9 & YeZ\\_2018 & YEZ\\_N.9 & YEZ\\_N-9 & stool & no & control & healthy & 48 & adult & male & ⋯ & NA & NA & NA & NA & NA & NA & NA & 1 & 1 & TRUE\\\\\n",
       "\\end{tabular}\n"
      ],
      "text/markdown": [
       "\n",
       "A data.frame: 935 × 70\n",
       "\n",
       "| <!--/--> | dataset_name &lt;fct&gt; | Sample &lt;chr&gt; | subjectID &lt;chr&gt; | body_site &lt;chr&gt; | antibiotics_current_use &lt;chr&gt; | study_condition &lt;fct&gt; | disease &lt;chr&gt; | age &lt;int&gt; | age_category &lt;chr&gt; | gender &lt;chr&gt; | ⋯ ⋯ | il_1 &lt;dbl&gt; | glp_1 &lt;dbl&gt; | travel_destination &lt;chr&gt; | urea_nitrogen &lt;dbl&gt; | disease_stage &lt;int&gt; | uncurated_metadata &lt;chr&gt; | family_member &lt;chr&gt; | subject_n &lt;int&gt; | samp_n &lt;int&gt; | westernized &lt;lgl&gt; |\n",
       "|---|---|---|---|---|---|---|---|---|---|---|---|---|---|---|---|---|---|---|---|---|---|\n",
       "| A11_01_1FE | PasolliE_2018 | A11_01_1FE | A11_01_1FE | stool | no | control | healthy | 52 | adult | male | ⋯ | NA | NA | NA | NA | NA | NA | NA | 1 | 1 | FALSE |\n",
       "| A13_01_1FE | PasolliE_2018 | A13_01_1FE | A13_01_1FE | stool | no | control | healthy | 52 | adult | male | ⋯ | NA | NA | NA | NA | NA | NA | NA | 1 | 1 | FALSE |\n",
       "| ⋮ | ⋮ | ⋮ | ⋮ | ⋮ | ⋮ | ⋮ | ⋮ | ⋮ | ⋮ | ⋮ | ⋱ | ⋮ | ⋮ | ⋮ | ⋮ | ⋮ | ⋮ | ⋮ | ⋮ | ⋮ | ⋮ |\n",
       "| YEZ_N.8 | YeZ_2018 | YEZ_N.8 | YEZ_N-8 | stool | no | control | healthy | 32 | adult | male | ⋯ | NA | NA | NA | NA | NA | NA | NA | 1 | 1 | TRUE |\n",
       "| YEZ_N.9 | YeZ_2018 | YEZ_N.9 | YEZ_N-9 | stool | no | control | healthy | 48 | adult | male | ⋯ | NA | NA | NA | NA | NA | NA | NA | 1 | 1 | TRUE |\n",
       "\n"
      ],
      "text/plain": [
       "           dataset_name  Sample     subjectID  body_site\n",
       "A11_01_1FE PasolliE_2018 A11_01_1FE A11_01_1FE stool    \n",
       "A13_01_1FE PasolliE_2018 A13_01_1FE A13_01_1FE stool    \n",
       "⋮          ⋮             ⋮          ⋮          ⋮        \n",
       "YEZ_N.8    YeZ_2018      YEZ_N.8    YEZ_N-8    stool    \n",
       "YEZ_N.9    YeZ_2018      YEZ_N.9    YEZ_N-9    stool    \n",
       "           antibiotics_current_use study_condition disease age age_category\n",
       "A11_01_1FE no                      control         healthy 52  adult       \n",
       "A13_01_1FE no                      control         healthy 52  adult       \n",
       "⋮          ⋮                       ⋮               ⋮       ⋮   ⋮           \n",
       "YEZ_N.8    no                      control         healthy 32  adult       \n",
       "YEZ_N.9    no                      control         healthy 48  adult       \n",
       "           gender ⋯ il_1 glp_1 travel_destination urea_nitrogen disease_stage\n",
       "A11_01_1FE male   ⋯ NA   NA    NA                 NA            NA           \n",
       "A13_01_1FE male   ⋯ NA   NA    NA                 NA            NA           \n",
       "⋮          ⋮      ⋱ ⋮    ⋮     ⋮                  ⋮             ⋮            \n",
       "YEZ_N.8    male   ⋯ NA   NA    NA                 NA            NA           \n",
       "YEZ_N.9    male   ⋯ NA   NA    NA                 NA            NA           \n",
       "           uncurated_metadata family_member subject_n samp_n westernized\n",
       "A11_01_1FE NA                 NA            1         1      FALSE      \n",
       "A13_01_1FE NA                 NA            1         1      FALSE      \n",
       "⋮          ⋮                  ⋮             ⋮         ⋮      ⋮          \n",
       "YEZ_N.8    NA                 NA            1         1      TRUE       \n",
       "YEZ_N.9    NA                 NA            1         1      TRUE       "
      ]
     },
     "metadata": {},
     "output_type": "display_data"
    }
   ],
   "source": [
    "# filtering & ordering\n",
    "## distance matrix\n",
    "d = filter_dist(D[['bray']], rownames(m))\n",
    "d %>% labels %>% length\n",
    "## metadata\n",
    "M = m[labels(d),]\n",
    "M"
   ]
  },
  {
   "cell_type": "code",
   "execution_count": 105,
   "metadata": {
    "ExecuteTime": {
     "end_time": "2020-10-26T15:39:33.201390Z",
     "start_time": "2020-10-26T15:39:32.361Z"
    }
   },
   "outputs": [
    {
     "data": {
      "text/html": [
       "<dl>\n",
       "\t<dt>$r.squared</dt>\n",
       "\t\t<dd>0.0740722271798727</dd>\n",
       "\t<dt>$adj.r.squared</dt>\n",
       "\t\t<dd>0.070089742135485</dd>\n",
       "</dl>\n"
      ],
      "text/latex": [
       "\\begin{description}\n",
       "\\item[\\$r.squared] 0.0740722271798727\n",
       "\\item[\\$adj.r.squared] 0.070089742135485\n",
       "\\end{description}\n"
      ],
      "text/markdown": [
       "$r.squared\n",
       ":   0.0740722271798727\n",
       "$adj.r.squared\n",
       ":   0.070089742135485\n",
       "\n",
       "\n"
      ],
      "text/plain": [
       "$r.squared\n",
       "[1] 0.07407223\n",
       "\n",
       "$adj.r.squared\n",
       "[1] 0.07008974\n"
      ]
     },
     "metadata": {},
     "output_type": "display_data"
    }
   ],
   "source": [
    "# distance-based RDA\n",
    "dbRDA = capscale(d ~ westernized + gender + age + BMI, data = M)\n",
    "RsquareAdj(dbRDA)"
   ]
  },
  {
   "cell_type": "code",
   "execution_count": 114,
   "metadata": {
    "ExecuteTime": {
     "end_time": "2020-10-26T15:42:23.740235Z",
     "start_time": "2020-10-26T15:42:19.485Z"
    }
   },
   "outputs": [
    {
     "data": {
      "text/html": [
       "0.0215155252984622"
      ],
      "text/latex": [
       "0.0215155252984622"
      ],
      "text/markdown": [
       "0.0215155252984622"
      ],
      "text/plain": [
       "[1] 0.02151553"
      ]
     },
     "metadata": {},
     "output_type": "display_data"
    },
    {
     "data": {
      "text/html": [
       "0.0662413594044484"
      ],
      "text/latex": [
       "0.0662413594044484"
      ],
      "text/markdown": [
       "0.0662413594044484"
      ],
      "text/plain": [
       "[1] 0.06624136"
      ]
     },
     "metadata": {},
     "output_type": "display_data"
    },
    {
     "data": {
      "text/html": [
       "0.0552283626754501"
      ],
      "text/latex": [
       "0.0552283626754501"
      ],
      "text/markdown": [
       "0.0552283626754501"
      ],
      "text/plain": [
       "[1] 0.05522836"
      ]
     },
     "metadata": {},
     "output_type": "display_data"
    },
    {
     "data": {
      "text/html": [
       "0.0676685951754789"
      ],
      "text/latex": [
       "0.0676685951754789"
      ],
      "text/markdown": [
       "0.0676685951754789"
      ],
      "text/plain": [
       "[1] 0.0676686"
      ]
     },
     "metadata": {},
     "output_type": "display_data"
    },
    {
     "data": {
      "text/html": [
       "0.070089742135485"
      ],
      "text/latex": [
       "0.070089742135485"
      ],
      "text/markdown": [
       "0.070089742135485"
      ],
      "text/plain": [
       "[1] 0.07008974"
      ]
     },
     "metadata": {},
     "output_type": "display_data"
    }
   ],
   "source": [
    "# distance-based RDA\n",
    "## effect of westernized\n",
    "dbRDA = capscale(d ~ age + gender + BMI, data = M)\n",
    "RsquareAdj(dbRDA)$adj.r.squared\n",
    "## effect of gender\n",
    "dbRDA = capscale(d ~ westernized + age + BMI, data = M)\n",
    "RsquareAdj(dbRDA)$adj.r.squared\n",
    "## effect of age\n",
    "dbRDA = capscale(d ~ westernized + gender + BMI, data = M)\n",
    "RsquareAdj(dbRDA)$adj.r.squared\n",
    "## effect of BMI\n",
    "dbRDA = capscale(d ~ westernized + gender + age, data = M)\n",
    "RsquareAdj(dbRDA)$adj.r.squared\n",
    "## all\n",
    "dbRDA = capscale(d ~ westernized + gender + age + BMI, data = M)\n",
    "RsquareAdj(dbRDA)$adj.r.squared"
   ]
  },
  {
   "cell_type": "code",
   "execution_count": 115,
   "metadata": {
    "ExecuteTime": {
     "end_time": "2020-10-26T15:42:48.587733Z",
     "start_time": "2020-10-26T15:42:34.239Z"
    }
   },
   "outputs": [
    {
     "data": {
      "text/html": [
       "<table>\n",
       "<caption>A anova.cca: 5 × 4</caption>\n",
       "<thead>\n",
       "\t<tr><th></th><th scope=col>Df</th><th scope=col>SumOfSqs</th><th scope=col>F</th><th scope=col>Pr(&gt;F)</th></tr>\n",
       "\t<tr><th></th><th scope=col>&lt;dbl&gt;</th><th scope=col>&lt;dbl&gt;</th><th scope=col>&lt;dbl&gt;</th><th scope=col>&lt;dbl&gt;</th></tr>\n",
       "</thead>\n",
       "<tbody>\n",
       "\t<tr><th scope=row>westernized</th><td>  1</td><td> 13.914039</td><td>42.071836</td><td>0.001</td></tr>\n",
       "\t<tr><th scope=row>gender</th><td>  1</td><td>  1.449493</td><td> 4.382827</td><td>0.001</td></tr>\n",
       "\t<tr><th scope=row>age</th><td>  1</td><td>  4.265807</td><td>12.898508</td><td>0.001</td></tr>\n",
       "\t<tr><th scope=row>BMI</th><td>  1</td><td>  0.946974</td><td> 2.863362</td><td>0.001</td></tr>\n",
       "\t<tr><th scope=row>Residual</th><td>930</td><td>307.570518</td><td>       NA</td><td>   NA</td></tr>\n",
       "</tbody>\n",
       "</table>\n"
      ],
      "text/latex": [
       "A anova.cca: 5 × 4\n",
       "\\begin{tabular}{r|llll}\n",
       "  & Df & SumOfSqs & F & Pr(>F)\\\\\n",
       "  & <dbl> & <dbl> & <dbl> & <dbl>\\\\\n",
       "\\hline\n",
       "\twesternized &   1 &  13.914039 & 42.071836 & 0.001\\\\\n",
       "\tgender &   1 &   1.449493 &  4.382827 & 0.001\\\\\n",
       "\tage &   1 &   4.265807 & 12.898508 & 0.001\\\\\n",
       "\tBMI &   1 &   0.946974 &  2.863362 & 0.001\\\\\n",
       "\tResidual & 930 & 307.570518 &        NA &    NA\\\\\n",
       "\\end{tabular}\n"
      ],
      "text/markdown": [
       "\n",
       "A anova.cca: 5 × 4\n",
       "\n",
       "| <!--/--> | Df &lt;dbl&gt; | SumOfSqs &lt;dbl&gt; | F &lt;dbl&gt; | Pr(&gt;F) &lt;dbl&gt; |\n",
       "|---|---|---|---|---|\n",
       "| westernized |   1 |  13.914039 | 42.071836 | 0.001 |\n",
       "| gender |   1 |   1.449493 |  4.382827 | 0.001 |\n",
       "| age |   1 |   4.265807 | 12.898508 | 0.001 |\n",
       "| BMI |   1 |   0.946974 |  2.863362 | 0.001 |\n",
       "| Residual | 930 | 307.570518 |        NA |    NA |\n",
       "\n"
      ],
      "text/plain": [
       "            Df  SumOfSqs   F         Pr(>F)\n",
       "westernized   1  13.914039 42.071836 0.001 \n",
       "gender        1   1.449493  4.382827 0.001 \n",
       "age           1   4.265807 12.898508 0.001 \n",
       "BMI           1   0.946974  2.863362 0.001 \n",
       "Residual    930 307.570518        NA    NA "
      ]
     },
     "metadata": {},
     "output_type": "display_data"
    }
   ],
   "source": [
    "# anova\n",
    "df.dims(10)\n",
    "anova.cca(dbRDA, by='terms')\n",
    "df.dims()"
   ]
  },
  {
   "cell_type": "markdown",
   "metadata": {},
   "source": [
    "### wunifrac-phy"
   ]
  },
  {
   "cell_type": "code",
   "execution_count": 116,
   "metadata": {
    "ExecuteTime": {
     "end_time": "2020-10-26T15:42:49.145183Z",
     "start_time": "2020-10-26T15:42:35.744Z"
    }
   },
   "outputs": [
    {
     "data": {
      "text/html": [
       "935"
      ],
      "text/latex": [
       "935"
      ],
      "text/markdown": [
       "935"
      ],
      "text/plain": [
       "[1] 935"
      ]
     },
     "metadata": {},
     "output_type": "display_data"
    },
    {
     "data": {
      "text/html": [
       "<table>\n",
       "<caption>A data.frame: 935 × 70</caption>\n",
       "<thead>\n",
       "\t<tr><th></th><th scope=col>dataset_name</th><th scope=col>Sample</th><th scope=col>subjectID</th><th scope=col>body_site</th><th scope=col>antibiotics_current_use</th><th scope=col>study_condition</th><th scope=col>disease</th><th scope=col>age</th><th scope=col>age_category</th><th scope=col>gender</th><th scope=col>⋯</th><th scope=col>il_1</th><th scope=col>glp_1</th><th scope=col>travel_destination</th><th scope=col>urea_nitrogen</th><th scope=col>disease_stage</th><th scope=col>uncurated_metadata</th><th scope=col>family_member</th><th scope=col>subject_n</th><th scope=col>samp_n</th><th scope=col>westernized</th></tr>\n",
       "\t<tr><th></th><th scope=col>&lt;fct&gt;</th><th scope=col>&lt;chr&gt;</th><th scope=col>&lt;chr&gt;</th><th scope=col>&lt;chr&gt;</th><th scope=col>&lt;chr&gt;</th><th scope=col>&lt;fct&gt;</th><th scope=col>&lt;chr&gt;</th><th scope=col>&lt;int&gt;</th><th scope=col>&lt;chr&gt;</th><th scope=col>&lt;chr&gt;</th><th scope=col>⋯</th><th scope=col>&lt;dbl&gt;</th><th scope=col>&lt;dbl&gt;</th><th scope=col>&lt;chr&gt;</th><th scope=col>&lt;dbl&gt;</th><th scope=col>&lt;int&gt;</th><th scope=col>&lt;chr&gt;</th><th scope=col>&lt;chr&gt;</th><th scope=col>&lt;int&gt;</th><th scope=col>&lt;int&gt;</th><th scope=col>&lt;lgl&gt;</th></tr>\n",
       "</thead>\n",
       "<tbody>\n",
       "\t<tr><th scope=row>A11_01_1FE</th><td>PasolliE_2018</td><td>A11_01_1FE</td><td>A11_01_1FE</td><td>stool</td><td>no</td><td>control</td><td>healthy</td><td>52</td><td>adult</td><td>male</td><td>⋯</td><td>NA</td><td>NA</td><td>NA</td><td>NA</td><td>NA</td><td>NA</td><td>NA</td><td>1</td><td>1</td><td>FALSE</td></tr>\n",
       "\t<tr><th scope=row>A13_01_1FE</th><td>PasolliE_2018</td><td>A13_01_1FE</td><td>A13_01_1FE</td><td>stool</td><td>no</td><td>control</td><td>healthy</td><td>52</td><td>adult</td><td>male</td><td>⋯</td><td>NA</td><td>NA</td><td>NA</td><td>NA</td><td>NA</td><td>NA</td><td>NA</td><td>1</td><td>1</td><td>FALSE</td></tr>\n",
       "\t<tr><th scope=row>⋮</th><td>⋮</td><td>⋮</td><td>⋮</td><td>⋮</td><td>⋮</td><td>⋮</td><td>⋮</td><td>⋮</td><td>⋮</td><td>⋮</td><td>⋱</td><td>⋮</td><td>⋮</td><td>⋮</td><td>⋮</td><td>⋮</td><td>⋮</td><td>⋮</td><td>⋮</td><td>⋮</td><td>⋮</td></tr>\n",
       "\t<tr><th scope=row>YEZ_N.8</th><td>YeZ_2018</td><td>YEZ_N.8</td><td>YEZ_N-8</td><td>stool</td><td>no</td><td>control</td><td>healthy</td><td>32</td><td>adult</td><td>male</td><td>⋯</td><td>NA</td><td>NA</td><td>NA</td><td>NA</td><td>NA</td><td>NA</td><td>NA</td><td>1</td><td>1</td><td>TRUE</td></tr>\n",
       "\t<tr><th scope=row>YEZ_N.9</th><td>YeZ_2018</td><td>YEZ_N.9</td><td>YEZ_N-9</td><td>stool</td><td>no</td><td>control</td><td>healthy</td><td>48</td><td>adult</td><td>male</td><td>⋯</td><td>NA</td><td>NA</td><td>NA</td><td>NA</td><td>NA</td><td>NA</td><td>NA</td><td>1</td><td>1</td><td>TRUE</td></tr>\n",
       "</tbody>\n",
       "</table>\n"
      ],
      "text/latex": [
       "A data.frame: 935 × 70\n",
       "\\begin{tabular}{r|lllllllllllllllllllll}\n",
       "  & dataset\\_name & Sample & subjectID & body\\_site & antibiotics\\_current\\_use & study\\_condition & disease & age & age\\_category & gender & ⋯ & il\\_1 & glp\\_1 & travel\\_destination & urea\\_nitrogen & disease\\_stage & uncurated\\_metadata & family\\_member & subject\\_n & samp\\_n & westernized\\\\\n",
       "  & <fct> & <chr> & <chr> & <chr> & <chr> & <fct> & <chr> & <int> & <chr> & <chr> & ⋯ & <dbl> & <dbl> & <chr> & <dbl> & <int> & <chr> & <chr> & <int> & <int> & <lgl>\\\\\n",
       "\\hline\n",
       "\tA11\\_01\\_1FE & PasolliE\\_2018 & A11\\_01\\_1FE & A11\\_01\\_1FE & stool & no & control & healthy & 52 & adult & male & ⋯ & NA & NA & NA & NA & NA & NA & NA & 1 & 1 & FALSE\\\\\n",
       "\tA13\\_01\\_1FE & PasolliE\\_2018 & A13\\_01\\_1FE & A13\\_01\\_1FE & stool & no & control & healthy & 52 & adult & male & ⋯ & NA & NA & NA & NA & NA & NA & NA & 1 & 1 & FALSE\\\\\n",
       "\t⋮ & ⋮ & ⋮ & ⋮ & ⋮ & ⋮ & ⋮ & ⋮ & ⋮ & ⋮ & ⋮ & ⋱ & ⋮ & ⋮ & ⋮ & ⋮ & ⋮ & ⋮ & ⋮ & ⋮ & ⋮ & ⋮\\\\\n",
       "\tYEZ\\_N.8 & YeZ\\_2018 & YEZ\\_N.8 & YEZ\\_N-8 & stool & no & control & healthy & 32 & adult & male & ⋯ & NA & NA & NA & NA & NA & NA & NA & 1 & 1 & TRUE\\\\\n",
       "\tYEZ\\_N.9 & YeZ\\_2018 & YEZ\\_N.9 & YEZ\\_N-9 & stool & no & control & healthy & 48 & adult & male & ⋯ & NA & NA & NA & NA & NA & NA & NA & 1 & 1 & TRUE\\\\\n",
       "\\end{tabular}\n"
      ],
      "text/markdown": [
       "\n",
       "A data.frame: 935 × 70\n",
       "\n",
       "| <!--/--> | dataset_name &lt;fct&gt; | Sample &lt;chr&gt; | subjectID &lt;chr&gt; | body_site &lt;chr&gt; | antibiotics_current_use &lt;chr&gt; | study_condition &lt;fct&gt; | disease &lt;chr&gt; | age &lt;int&gt; | age_category &lt;chr&gt; | gender &lt;chr&gt; | ⋯ ⋯ | il_1 &lt;dbl&gt; | glp_1 &lt;dbl&gt; | travel_destination &lt;chr&gt; | urea_nitrogen &lt;dbl&gt; | disease_stage &lt;int&gt; | uncurated_metadata &lt;chr&gt; | family_member &lt;chr&gt; | subject_n &lt;int&gt; | samp_n &lt;int&gt; | westernized &lt;lgl&gt; |\n",
       "|---|---|---|---|---|---|---|---|---|---|---|---|---|---|---|---|---|---|---|---|---|---|\n",
       "| A11_01_1FE | PasolliE_2018 | A11_01_1FE | A11_01_1FE | stool | no | control | healthy | 52 | adult | male | ⋯ | NA | NA | NA | NA | NA | NA | NA | 1 | 1 | FALSE |\n",
       "| A13_01_1FE | PasolliE_2018 | A13_01_1FE | A13_01_1FE | stool | no | control | healthy | 52 | adult | male | ⋯ | NA | NA | NA | NA | NA | NA | NA | 1 | 1 | FALSE |\n",
       "| ⋮ | ⋮ | ⋮ | ⋮ | ⋮ | ⋮ | ⋮ | ⋮ | ⋮ | ⋮ | ⋮ | ⋱ | ⋮ | ⋮ | ⋮ | ⋮ | ⋮ | ⋮ | ⋮ | ⋮ | ⋮ | ⋮ |\n",
       "| YEZ_N.8 | YeZ_2018 | YEZ_N.8 | YEZ_N-8 | stool | no | control | healthy | 32 | adult | male | ⋯ | NA | NA | NA | NA | NA | NA | NA | 1 | 1 | TRUE |\n",
       "| YEZ_N.9 | YeZ_2018 | YEZ_N.9 | YEZ_N-9 | stool | no | control | healthy | 48 | adult | male | ⋯ | NA | NA | NA | NA | NA | NA | NA | 1 | 1 | TRUE |\n",
       "\n"
      ],
      "text/plain": [
       "           dataset_name  Sample     subjectID  body_site\n",
       "A11_01_1FE PasolliE_2018 A11_01_1FE A11_01_1FE stool    \n",
       "A13_01_1FE PasolliE_2018 A13_01_1FE A13_01_1FE stool    \n",
       "⋮          ⋮             ⋮          ⋮          ⋮        \n",
       "YEZ_N.8    YeZ_2018      YEZ_N.8    YEZ_N-8    stool    \n",
       "YEZ_N.9    YeZ_2018      YEZ_N.9    YEZ_N-9    stool    \n",
       "           antibiotics_current_use study_condition disease age age_category\n",
       "A11_01_1FE no                      control         healthy 52  adult       \n",
       "A13_01_1FE no                      control         healthy 52  adult       \n",
       "⋮          ⋮                       ⋮               ⋮       ⋮   ⋮           \n",
       "YEZ_N.8    no                      control         healthy 32  adult       \n",
       "YEZ_N.9    no                      control         healthy 48  adult       \n",
       "           gender ⋯ il_1 glp_1 travel_destination urea_nitrogen disease_stage\n",
       "A11_01_1FE male   ⋯ NA   NA    NA                 NA            NA           \n",
       "A13_01_1FE male   ⋯ NA   NA    NA                 NA            NA           \n",
       "⋮          ⋮      ⋱ ⋮    ⋮     ⋮                  ⋮             ⋮            \n",
       "YEZ_N.8    male   ⋯ NA   NA    NA                 NA            NA           \n",
       "YEZ_N.9    male   ⋯ NA   NA    NA                 NA            NA           \n",
       "           uncurated_metadata family_member subject_n samp_n westernized\n",
       "A11_01_1FE NA                 NA            1         1      FALSE      \n",
       "A13_01_1FE NA                 NA            1         1      FALSE      \n",
       "⋮          ⋮                  ⋮             ⋮         ⋮      ⋮          \n",
       "YEZ_N.8    NA                 NA            1         1      TRUE       \n",
       "YEZ_N.9    NA                 NA            1         1      TRUE       "
      ]
     },
     "metadata": {},
     "output_type": "display_data"
    }
   ],
   "source": [
    "# filtering & ordering\n",
    "## distance matrix\n",
    "d = filter_dist(D[['wunifrac_phy']], rownames(m))\n",
    "d %>% labels %>% length\n",
    "## metadata\n",
    "M = m[labels(d),]\n",
    "M"
   ]
  },
  {
   "cell_type": "code",
   "execution_count": 118,
   "metadata": {
    "ExecuteTime": {
     "end_time": "2020-10-26T15:42:52.956638Z",
     "start_time": "2020-10-26T15:42:42.324Z"
    }
   },
   "outputs": [
    {
     "data": {
      "text/html": [
       "0.01688481318364"
      ],
      "text/latex": [
       "0.01688481318364"
      ],
      "text/markdown": [
       "0.01688481318364"
      ],
      "text/plain": [
       "[1] 0.01688481"
      ]
     },
     "metadata": {},
     "output_type": "display_data"
    },
    {
     "data": {
      "text/html": [
       "0.0627232192837096"
      ],
      "text/latex": [
       "0.0627232192837096"
      ],
      "text/markdown": [
       "0.0627232192837096"
      ],
      "text/plain": [
       "[1] 0.06272322"
      ]
     },
     "metadata": {},
     "output_type": "display_data"
    },
    {
     "data": {
      "text/html": [
       "0.0565917683351805"
      ],
      "text/latex": [
       "0.0565917683351805"
      ],
      "text/markdown": [
       "0.0565917683351805"
      ],
      "text/plain": [
       "[1] 0.05659177"
      ]
     },
     "metadata": {},
     "output_type": "display_data"
    },
    {
     "data": {
      "text/html": [
       "0.0631178008875749"
      ],
      "text/latex": [
       "0.0631178008875749"
      ],
      "text/markdown": [
       "0.0631178008875749"
      ],
      "text/plain": [
       "[1] 0.0631178"
      ]
     },
     "metadata": {},
     "output_type": "display_data"
    },
    {
     "data": {
      "text/html": [
       "0.0663729003397852"
      ],
      "text/latex": [
       "0.0663729003397852"
      ],
      "text/markdown": [
       "0.0663729003397852"
      ],
      "text/plain": [
       "[1] 0.0663729"
      ]
     },
     "metadata": {},
     "output_type": "display_data"
    }
   ],
   "source": [
    "# distance-based RDA\n",
    "## effect of westernized\n",
    "dbRDA = capscale(d ~ age + gender + BMI, data = M)\n",
    "RsquareAdj(dbRDA)$adj.r.squared\n",
    "## effect of gender\n",
    "dbRDA = capscale(d ~ westernized + age + BMI, data = M)\n",
    "RsquareAdj(dbRDA)$adj.r.squared\n",
    "## effect of age\n",
    "dbRDA = capscale(d ~ westernized + gender + BMI, data = M)\n",
    "RsquareAdj(dbRDA)$adj.r.squared\n",
    "## effect of BMI\n",
    "dbRDA = capscale(d ~ westernized + gender + age, data = M)\n",
    "RsquareAdj(dbRDA)$adj.r.squared\n",
    "## all\n",
    "dbRDA = capscale(d ~ westernized + gender + age + BMI, data = M)\n",
    "RsquareAdj(dbRDA)$adj.r.squared"
   ]
  },
  {
   "cell_type": "code",
   "execution_count": 119,
   "metadata": {
    "ExecuteTime": {
     "end_time": "2020-10-26T15:43:03.205746Z",
     "start_time": "2020-10-26T15:42:42.939Z"
    }
   },
   "outputs": [
    {
     "data": {
      "text/html": [
       "<table>\n",
       "<caption>A anova.cca: 5 × 4</caption>\n",
       "<thead>\n",
       "\t<tr><th></th><th scope=col>Df</th><th scope=col>SumOfSqs</th><th scope=col>F</th><th scope=col>Pr(&gt;F)</th></tr>\n",
       "\t<tr><th></th><th scope=col>&lt;dbl&gt;</th><th scope=col>&lt;dbl&gt;</th><th scope=col>&lt;dbl&gt;</th><th scope=col>&lt;dbl&gt;</th></tr>\n",
       "</thead>\n",
       "<tbody>\n",
       "\t<tr><th scope=row>westernized</th><td>  1</td><td>  53.657226</td><td>41.452484</td><td>0.001</td></tr>\n",
       "\t<tr><th scope=row>gender</th><td>  1</td><td>   5.083641</td><td> 3.927328</td><td>0.003</td></tr>\n",
       "\t<tr><th scope=row>age</th><td>  1</td><td>   9.844317</td><td> 7.605152</td><td>0.001</td></tr>\n",
       "\t<tr><th scope=row>BMI</th><td>  1</td><td>   4.402015</td><td> 3.400743</td><td>0.008</td></tr>\n",
       "\t<tr><th scope=row>Residual</th><td>930</td><td>1203.817384</td><td>       NA</td><td>   NA</td></tr>\n",
       "</tbody>\n",
       "</table>\n"
      ],
      "text/latex": [
       "A anova.cca: 5 × 4\n",
       "\\begin{tabular}{r|llll}\n",
       "  & Df & SumOfSqs & F & Pr(>F)\\\\\n",
       "  & <dbl> & <dbl> & <dbl> & <dbl>\\\\\n",
       "\\hline\n",
       "\twesternized &   1 &   53.657226 & 41.452484 & 0.001\\\\\n",
       "\tgender &   1 &    5.083641 &  3.927328 & 0.003\\\\\n",
       "\tage &   1 &    9.844317 &  7.605152 & 0.001\\\\\n",
       "\tBMI &   1 &    4.402015 &  3.400743 & 0.008\\\\\n",
       "\tResidual & 930 & 1203.817384 &        NA &    NA\\\\\n",
       "\\end{tabular}\n"
      ],
      "text/markdown": [
       "\n",
       "A anova.cca: 5 × 4\n",
       "\n",
       "| <!--/--> | Df &lt;dbl&gt; | SumOfSqs &lt;dbl&gt; | F &lt;dbl&gt; | Pr(&gt;F) &lt;dbl&gt; |\n",
       "|---|---|---|---|---|\n",
       "| westernized |   1 |   53.657226 | 41.452484 | 0.001 |\n",
       "| gender |   1 |    5.083641 |  3.927328 | 0.003 |\n",
       "| age |   1 |    9.844317 |  7.605152 | 0.001 |\n",
       "| BMI |   1 |    4.402015 |  3.400743 | 0.008 |\n",
       "| Residual | 930 | 1203.817384 |        NA |    NA |\n",
       "\n"
      ],
      "text/plain": [
       "            Df  SumOfSqs    F         Pr(>F)\n",
       "westernized   1   53.657226 41.452484 0.001 \n",
       "gender        1    5.083641  3.927328 0.003 \n",
       "age           1    9.844317  7.605152 0.001 \n",
       "BMI           1    4.402015  3.400743 0.008 \n",
       "Residual    930 1203.817384        NA    NA "
      ]
     },
     "metadata": {},
     "output_type": "display_data"
    }
   ],
   "source": [
    "# anova\n",
    "df.dims(10)\n",
    "anova.cca(dbRDA, by='terms')\n",
    "df.dims()"
   ]
  },
  {
   "cell_type": "markdown",
   "metadata": {},
   "source": [
    "### wunifrac-trt"
   ]
  },
  {
   "cell_type": "code",
   "execution_count": 120,
   "metadata": {
    "ExecuteTime": {
     "end_time": "2020-10-26T15:43:03.735930Z",
     "start_time": "2020-10-26T15:42:44.086Z"
    }
   },
   "outputs": [
    {
     "data": {
      "text/html": [
       "935"
      ],
      "text/latex": [
       "935"
      ],
      "text/markdown": [
       "935"
      ],
      "text/plain": [
       "[1] 935"
      ]
     },
     "metadata": {},
     "output_type": "display_data"
    },
    {
     "data": {
      "text/html": [
       "<table>\n",
       "<caption>A data.frame: 935 × 70</caption>\n",
       "<thead>\n",
       "\t<tr><th></th><th scope=col>dataset_name</th><th scope=col>Sample</th><th scope=col>subjectID</th><th scope=col>body_site</th><th scope=col>antibiotics_current_use</th><th scope=col>study_condition</th><th scope=col>disease</th><th scope=col>age</th><th scope=col>age_category</th><th scope=col>gender</th><th scope=col>⋯</th><th scope=col>il_1</th><th scope=col>glp_1</th><th scope=col>travel_destination</th><th scope=col>urea_nitrogen</th><th scope=col>disease_stage</th><th scope=col>uncurated_metadata</th><th scope=col>family_member</th><th scope=col>subject_n</th><th scope=col>samp_n</th><th scope=col>westernized</th></tr>\n",
       "\t<tr><th></th><th scope=col>&lt;fct&gt;</th><th scope=col>&lt;chr&gt;</th><th scope=col>&lt;chr&gt;</th><th scope=col>&lt;chr&gt;</th><th scope=col>&lt;chr&gt;</th><th scope=col>&lt;fct&gt;</th><th scope=col>&lt;chr&gt;</th><th scope=col>&lt;int&gt;</th><th scope=col>&lt;chr&gt;</th><th scope=col>&lt;chr&gt;</th><th scope=col>⋯</th><th scope=col>&lt;dbl&gt;</th><th scope=col>&lt;dbl&gt;</th><th scope=col>&lt;chr&gt;</th><th scope=col>&lt;dbl&gt;</th><th scope=col>&lt;int&gt;</th><th scope=col>&lt;chr&gt;</th><th scope=col>&lt;chr&gt;</th><th scope=col>&lt;int&gt;</th><th scope=col>&lt;int&gt;</th><th scope=col>&lt;lgl&gt;</th></tr>\n",
       "</thead>\n",
       "<tbody>\n",
       "\t<tr><th scope=row>A11_01_1FE</th><td>PasolliE_2018</td><td>A11_01_1FE</td><td>A11_01_1FE</td><td>stool</td><td>no</td><td>control</td><td>healthy</td><td>52</td><td>adult</td><td>male</td><td>⋯</td><td>NA</td><td>NA</td><td>NA</td><td>NA</td><td>NA</td><td>NA</td><td>NA</td><td>1</td><td>1</td><td>FALSE</td></tr>\n",
       "\t<tr><th scope=row>A13_01_1FE</th><td>PasolliE_2018</td><td>A13_01_1FE</td><td>A13_01_1FE</td><td>stool</td><td>no</td><td>control</td><td>healthy</td><td>52</td><td>adult</td><td>male</td><td>⋯</td><td>NA</td><td>NA</td><td>NA</td><td>NA</td><td>NA</td><td>NA</td><td>NA</td><td>1</td><td>1</td><td>FALSE</td></tr>\n",
       "\t<tr><th scope=row>⋮</th><td>⋮</td><td>⋮</td><td>⋮</td><td>⋮</td><td>⋮</td><td>⋮</td><td>⋮</td><td>⋮</td><td>⋮</td><td>⋮</td><td>⋱</td><td>⋮</td><td>⋮</td><td>⋮</td><td>⋮</td><td>⋮</td><td>⋮</td><td>⋮</td><td>⋮</td><td>⋮</td><td>⋮</td></tr>\n",
       "\t<tr><th scope=row>YEZ_N.8</th><td>YeZ_2018</td><td>YEZ_N.8</td><td>YEZ_N-8</td><td>stool</td><td>no</td><td>control</td><td>healthy</td><td>32</td><td>adult</td><td>male</td><td>⋯</td><td>NA</td><td>NA</td><td>NA</td><td>NA</td><td>NA</td><td>NA</td><td>NA</td><td>1</td><td>1</td><td>TRUE</td></tr>\n",
       "\t<tr><th scope=row>YEZ_N.9</th><td>YeZ_2018</td><td>YEZ_N.9</td><td>YEZ_N-9</td><td>stool</td><td>no</td><td>control</td><td>healthy</td><td>48</td><td>adult</td><td>male</td><td>⋯</td><td>NA</td><td>NA</td><td>NA</td><td>NA</td><td>NA</td><td>NA</td><td>NA</td><td>1</td><td>1</td><td>TRUE</td></tr>\n",
       "</tbody>\n",
       "</table>\n"
      ],
      "text/latex": [
       "A data.frame: 935 × 70\n",
       "\\begin{tabular}{r|lllllllllllllllllllll}\n",
       "  & dataset\\_name & Sample & subjectID & body\\_site & antibiotics\\_current\\_use & study\\_condition & disease & age & age\\_category & gender & ⋯ & il\\_1 & glp\\_1 & travel\\_destination & urea\\_nitrogen & disease\\_stage & uncurated\\_metadata & family\\_member & subject\\_n & samp\\_n & westernized\\\\\n",
       "  & <fct> & <chr> & <chr> & <chr> & <chr> & <fct> & <chr> & <int> & <chr> & <chr> & ⋯ & <dbl> & <dbl> & <chr> & <dbl> & <int> & <chr> & <chr> & <int> & <int> & <lgl>\\\\\n",
       "\\hline\n",
       "\tA11\\_01\\_1FE & PasolliE\\_2018 & A11\\_01\\_1FE & A11\\_01\\_1FE & stool & no & control & healthy & 52 & adult & male & ⋯ & NA & NA & NA & NA & NA & NA & NA & 1 & 1 & FALSE\\\\\n",
       "\tA13\\_01\\_1FE & PasolliE\\_2018 & A13\\_01\\_1FE & A13\\_01\\_1FE & stool & no & control & healthy & 52 & adult & male & ⋯ & NA & NA & NA & NA & NA & NA & NA & 1 & 1 & FALSE\\\\\n",
       "\t⋮ & ⋮ & ⋮ & ⋮ & ⋮ & ⋮ & ⋮ & ⋮ & ⋮ & ⋮ & ⋮ & ⋱ & ⋮ & ⋮ & ⋮ & ⋮ & ⋮ & ⋮ & ⋮ & ⋮ & ⋮ & ⋮\\\\\n",
       "\tYEZ\\_N.8 & YeZ\\_2018 & YEZ\\_N.8 & YEZ\\_N-8 & stool & no & control & healthy & 32 & adult & male & ⋯ & NA & NA & NA & NA & NA & NA & NA & 1 & 1 & TRUE\\\\\n",
       "\tYEZ\\_N.9 & YeZ\\_2018 & YEZ\\_N.9 & YEZ\\_N-9 & stool & no & control & healthy & 48 & adult & male & ⋯ & NA & NA & NA & NA & NA & NA & NA & 1 & 1 & TRUE\\\\\n",
       "\\end{tabular}\n"
      ],
      "text/markdown": [
       "\n",
       "A data.frame: 935 × 70\n",
       "\n",
       "| <!--/--> | dataset_name &lt;fct&gt; | Sample &lt;chr&gt; | subjectID &lt;chr&gt; | body_site &lt;chr&gt; | antibiotics_current_use &lt;chr&gt; | study_condition &lt;fct&gt; | disease &lt;chr&gt; | age &lt;int&gt; | age_category &lt;chr&gt; | gender &lt;chr&gt; | ⋯ ⋯ | il_1 &lt;dbl&gt; | glp_1 &lt;dbl&gt; | travel_destination &lt;chr&gt; | urea_nitrogen &lt;dbl&gt; | disease_stage &lt;int&gt; | uncurated_metadata &lt;chr&gt; | family_member &lt;chr&gt; | subject_n &lt;int&gt; | samp_n &lt;int&gt; | westernized &lt;lgl&gt; |\n",
       "|---|---|---|---|---|---|---|---|---|---|---|---|---|---|---|---|---|---|---|---|---|---|\n",
       "| A11_01_1FE | PasolliE_2018 | A11_01_1FE | A11_01_1FE | stool | no | control | healthy | 52 | adult | male | ⋯ | NA | NA | NA | NA | NA | NA | NA | 1 | 1 | FALSE |\n",
       "| A13_01_1FE | PasolliE_2018 | A13_01_1FE | A13_01_1FE | stool | no | control | healthy | 52 | adult | male | ⋯ | NA | NA | NA | NA | NA | NA | NA | 1 | 1 | FALSE |\n",
       "| ⋮ | ⋮ | ⋮ | ⋮ | ⋮ | ⋮ | ⋮ | ⋮ | ⋮ | ⋮ | ⋮ | ⋱ | ⋮ | ⋮ | ⋮ | ⋮ | ⋮ | ⋮ | ⋮ | ⋮ | ⋮ | ⋮ |\n",
       "| YEZ_N.8 | YeZ_2018 | YEZ_N.8 | YEZ_N-8 | stool | no | control | healthy | 32 | adult | male | ⋯ | NA | NA | NA | NA | NA | NA | NA | 1 | 1 | TRUE |\n",
       "| YEZ_N.9 | YeZ_2018 | YEZ_N.9 | YEZ_N-9 | stool | no | control | healthy | 48 | adult | male | ⋯ | NA | NA | NA | NA | NA | NA | NA | 1 | 1 | TRUE |\n",
       "\n"
      ],
      "text/plain": [
       "           dataset_name  Sample     subjectID  body_site\n",
       "A11_01_1FE PasolliE_2018 A11_01_1FE A11_01_1FE stool    \n",
       "A13_01_1FE PasolliE_2018 A13_01_1FE A13_01_1FE stool    \n",
       "⋮          ⋮             ⋮          ⋮          ⋮        \n",
       "YEZ_N.8    YeZ_2018      YEZ_N.8    YEZ_N-8    stool    \n",
       "YEZ_N.9    YeZ_2018      YEZ_N.9    YEZ_N-9    stool    \n",
       "           antibiotics_current_use study_condition disease age age_category\n",
       "A11_01_1FE no                      control         healthy 52  adult       \n",
       "A13_01_1FE no                      control         healthy 52  adult       \n",
       "⋮          ⋮                       ⋮               ⋮       ⋮   ⋮           \n",
       "YEZ_N.8    no                      control         healthy 32  adult       \n",
       "YEZ_N.9    no                      control         healthy 48  adult       \n",
       "           gender ⋯ il_1 glp_1 travel_destination urea_nitrogen disease_stage\n",
       "A11_01_1FE male   ⋯ NA   NA    NA                 NA            NA           \n",
       "A13_01_1FE male   ⋯ NA   NA    NA                 NA            NA           \n",
       "⋮          ⋮      ⋱ ⋮    ⋮     ⋮                  ⋮             ⋮            \n",
       "YEZ_N.8    male   ⋯ NA   NA    NA                 NA            NA           \n",
       "YEZ_N.9    male   ⋯ NA   NA    NA                 NA            NA           \n",
       "           uncurated_metadata family_member subject_n samp_n westernized\n",
       "A11_01_1FE NA                 NA            1         1      FALSE      \n",
       "A13_01_1FE NA                 NA            1         1      FALSE      \n",
       "⋮          ⋮                  ⋮             ⋮         ⋮      ⋮          \n",
       "YEZ_N.8    NA                 NA            1         1      TRUE       \n",
       "YEZ_N.9    NA                 NA            1         1      TRUE       "
      ]
     },
     "metadata": {},
     "output_type": "display_data"
    }
   ],
   "source": [
    "# filtering & ordering\n",
    "## distance matrix\n",
    "d = filter_dist(D[['wunifrac_trt']], rownames(m))\n",
    "d %>% labels %>% length\n",
    "## metadata\n",
    "M = m[labels(d),]\n",
    "M"
   ]
  },
  {
   "cell_type": "code",
   "execution_count": 121,
   "metadata": {
    "ExecuteTime": {
     "end_time": "2020-10-26T15:43:07.104024Z",
     "start_time": "2020-10-26T15:42:47.581Z"
    }
   },
   "outputs": [
    {
     "data": {
      "text/html": [
       "0.02159800907817"
      ],
      "text/latex": [
       "0.02159800907817"
      ],
      "text/markdown": [
       "0.02159800907817"
      ],
      "text/plain": [
       "[1] 0.02159801"
      ]
     },
     "metadata": {},
     "output_type": "display_data"
    },
    {
     "data": {
      "text/html": [
       "0.0774512724642507"
      ],
      "text/latex": [
       "0.0774512724642507"
      ],
      "text/markdown": [
       "0.0774512724642507"
      ],
      "text/plain": [
       "[1] 0.07745127"
      ]
     },
     "metadata": {},
     "output_type": "display_data"
    },
    {
     "data": {
      "text/html": [
       "0.0672012836285187"
      ],
      "text/latex": [
       "0.0672012836285187"
      ],
      "text/markdown": [
       "0.0672012836285187"
      ],
      "text/plain": [
       "[1] 0.06720128"
      ]
     },
     "metadata": {},
     "output_type": "display_data"
    },
    {
     "data": {
      "text/html": [
       "0.0786246381469947"
      ],
      "text/latex": [
       "0.0786246381469947"
      ],
      "text/markdown": [
       "0.0786246381469947"
      ],
      "text/plain": [
       "[1] 0.07862464"
      ]
     },
     "metadata": {},
     "output_type": "display_data"
    },
    {
     "data": {
      "text/html": [
       "0.0815101431277362"
      ],
      "text/latex": [
       "0.0815101431277362"
      ],
      "text/markdown": [
       "0.0815101431277362"
      ],
      "text/plain": [
       "[1] 0.08151014"
      ]
     },
     "metadata": {},
     "output_type": "display_data"
    }
   ],
   "source": [
    "# distance-based RDA\n",
    "## effect of westernized\n",
    "dbRDA = capscale(d ~ age + gender + BMI, data = M)\n",
    "RsquareAdj(dbRDA)$adj.r.squared\n",
    "## effect of gender\n",
    "dbRDA = capscale(d ~ westernized + age + BMI, data = M)\n",
    "RsquareAdj(dbRDA)$adj.r.squared\n",
    "## effect of age\n",
    "dbRDA = capscale(d ~ westernized + gender + BMI, data = M)\n",
    "RsquareAdj(dbRDA)$adj.r.squared\n",
    "## effect of BMI\n",
    "dbRDA = capscale(d ~ westernized + gender + age, data = M)\n",
    "RsquareAdj(dbRDA)$adj.r.squared\n",
    "## all\n",
    "dbRDA = capscale(d ~ westernized + gender + age + BMI, data = M)\n",
    "RsquareAdj(dbRDA)$adj.r.squared"
   ]
  },
  {
   "cell_type": "code",
   "execution_count": 122,
   "metadata": {
    "ExecuteTime": {
     "end_time": "2020-10-26T15:43:19.545766Z",
     "start_time": "2020-10-26T15:42:48.302Z"
    }
   },
   "outputs": [
    {
     "data": {
      "text/html": [
       "<table>\n",
       "<caption>A anova.cca: 5 × 4</caption>\n",
       "<thead>\n",
       "\t<tr><th></th><th scope=col>Df</th><th scope=col>SumOfSqs</th><th scope=col>F</th><th scope=col>Pr(&gt;F)</th></tr>\n",
       "\t<tr><th></th><th scope=col>&lt;dbl&gt;</th><th scope=col>&lt;dbl&gt;</th><th scope=col>&lt;dbl&gt;</th><th scope=col>&lt;dbl&gt;</th></tr>\n",
       "</thead>\n",
       "<tbody>\n",
       "\t<tr><th scope=row>westernized</th><td>  1</td><td> 5.4638639</td><td>52.499592</td><td>0.001</td></tr>\n",
       "\t<tr><th scope=row>gender</th><td>  1</td><td> 0.4770190</td><td> 4.583442</td><td>0.001</td></tr>\n",
       "\t<tr><th scope=row>age</th><td>  1</td><td> 1.2568415</td><td>12.076374</td><td>0.001</td></tr>\n",
       "\t<tr><th scope=row>BMI</th><td>  1</td><td> 0.3405144</td><td> 3.271836</td><td>0.001</td></tr>\n",
       "\t<tr><th scope=row>Residual</th><td>930</td><td>96.7891982</td><td>       NA</td><td>   NA</td></tr>\n",
       "</tbody>\n",
       "</table>\n"
      ],
      "text/latex": [
       "A anova.cca: 5 × 4\n",
       "\\begin{tabular}{r|llll}\n",
       "  & Df & SumOfSqs & F & Pr(>F)\\\\\n",
       "  & <dbl> & <dbl> & <dbl> & <dbl>\\\\\n",
       "\\hline\n",
       "\twesternized &   1 &  5.4638639 & 52.499592 & 0.001\\\\\n",
       "\tgender &   1 &  0.4770190 &  4.583442 & 0.001\\\\\n",
       "\tage &   1 &  1.2568415 & 12.076374 & 0.001\\\\\n",
       "\tBMI &   1 &  0.3405144 &  3.271836 & 0.001\\\\\n",
       "\tResidual & 930 & 96.7891982 &        NA &    NA\\\\\n",
       "\\end{tabular}\n"
      ],
      "text/markdown": [
       "\n",
       "A anova.cca: 5 × 4\n",
       "\n",
       "| <!--/--> | Df &lt;dbl&gt; | SumOfSqs &lt;dbl&gt; | F &lt;dbl&gt; | Pr(&gt;F) &lt;dbl&gt; |\n",
       "|---|---|---|---|---|\n",
       "| westernized |   1 |  5.4638639 | 52.499592 | 0.001 |\n",
       "| gender |   1 |  0.4770190 |  4.583442 | 0.001 |\n",
       "| age |   1 |  1.2568415 | 12.076374 | 0.001 |\n",
       "| BMI |   1 |  0.3405144 |  3.271836 | 0.001 |\n",
       "| Residual | 930 | 96.7891982 |        NA |    NA |\n",
       "\n"
      ],
      "text/plain": [
       "            Df  SumOfSqs   F         Pr(>F)\n",
       "westernized   1  5.4638639 52.499592 0.001 \n",
       "gender        1  0.4770190  4.583442 0.001 \n",
       "age           1  1.2568415 12.076374 0.001 \n",
       "BMI           1  0.3405144  3.271836 0.001 \n",
       "Residual    930 96.7891982        NA    NA "
      ]
     },
     "metadata": {},
     "output_type": "display_data"
    }
   ],
   "source": [
    "# anova\n",
    "df.dims(10)\n",
    "anova.cca(dbRDA, by='terms')\n",
    "df.dims()"
   ]
  },
  {
   "cell_type": "markdown",
   "metadata": {},
   "source": [
    "# sessionInfo"
   ]
  },
  {
   "cell_type": "code",
   "execution_count": 91,
   "metadata": {
    "ExecuteTime": {
     "end_time": "2020-10-26T15:24:58.684472Z",
     "start_time": "2020-10-26T15:24:28.440Z"
    }
   },
   "outputs": [
    {
     "data": {
      "text/plain": [
       "R version 3.6.2 (2019-12-12)\n",
       "Platform: x86_64-conda_cos6-linux-gnu (64-bit)\n",
       "Running under: Ubuntu 18.04.5 LTS\n",
       "\n",
       "Matrix products: default\n",
       "BLAS/LAPACK: /ebio/abt3_projects/Georg_animal_feces/envs/phyloseq-phy/lib/libopenblasp-r0.3.7.so\n",
       "\n",
       "locale:\n",
       " [1] LC_CTYPE=en_US.UTF-8       LC_NUMERIC=C              \n",
       " [3] LC_TIME=en_US.UTF-8        LC_COLLATE=en_US.UTF-8    \n",
       " [5] LC_MONETARY=en_US.UTF-8    LC_MESSAGES=en_US.UTF-8   \n",
       " [7] LC_PAPER=en_US.UTF-8       LC_NAME=C                 \n",
       " [9] LC_ADDRESS=C               LC_TELEPHONE=C            \n",
       "[11] LC_MEASUREMENT=en_US.UTF-8 LC_IDENTIFICATION=C       \n",
       "\n",
       "attached base packages:\n",
       "[1] stats     graphics  grDevices utils     datasets  methods   base     \n",
       "\n",
       "other attached packages:\n",
       " [1] LeyLabRMisc_0.1.6 vegan_2.5-6       lattice_0.20-38   permute_0.9-5    \n",
       " [5] phyloseq_1.30.0   ape_5.3           tidytable_0.4.1   data.table_1.12.8\n",
       " [9] ggplot2_3.2.1     tidyr_1.0.0       dplyr_0.8.3      \n",
       "\n",
       "loaded via a namespace (and not attached):\n",
       " [1] Biobase_2.46.0       bit64_0.9-7          jsonlite_1.6        \n",
       " [4] splines_3.6.2        foreach_1.4.7        RhpcBLASctl_0.20-137\n",
       " [7] assertthat_0.2.1     stats4_3.6.2         pillar_1.4.3        \n",
       "[10] glue_1.3.1           uuid_0.1-2           digest_0.6.23       \n",
       "[13] XVector_0.26.0       colorspace_1.4-1     htmltools_0.4.0     \n",
       "[16] Matrix_1.2-18        plyr_1.8.5           pkgconfig_2.0.3     \n",
       "[19] zlibbioc_1.32.0      purrr_0.3.3          scales_1.1.1        \n",
       "[22] RApiSerialize_0.1.0  tibble_2.1.3         mgcv_1.8-31         \n",
       "[25] IRanges_2.20.0       ellipsis_0.3.0       withr_2.1.2         \n",
       "[28] repr_1.0.2           BiocGenerics_0.32.0  lazyeval_0.2.2      \n",
       "[31] cli_2.0.1            survival_3.1-8       magrittr_1.5        \n",
       "[34] crayon_1.3.4         evaluate_0.14        fansi_0.4.1         \n",
       "[37] nlme_3.1-143         MASS_7.3-51.5        tools_3.6.2         \n",
       "[40] lifecycle_0.1.0      stringr_1.4.0        Rhdf5lib_1.8.0      \n",
       "[43] S4Vectors_0.24.0     munsell_0.5.0        cluster_2.1.0       \n",
       "[46] Biostrings_2.54.0    ade4_1.7-13          compiler_3.6.2      \n",
       "[49] qs_0.21.1            rlang_0.4.6          rhdf5_2.30.0        \n",
       "[52] grid_3.6.2           pbdZMQ_0.3-3         iterators_1.0.12    \n",
       "[55] IRkernel_1.1         biomformat_1.14.0    igraph_1.2.4.2      \n",
       "[58] base64enc_0.1-3      gtable_0.3.0         codetools_0.2-16    \n",
       "[61] multtest_2.42.0      reshape2_1.4.3       R6_2.4.1            \n",
       "[64] knitr_1.26           bit_1.1-15.1         stringi_1.4.5       \n",
       "[67] parallel_3.6.2       IRdisplay_0.7.0      Rcpp_1.0.3          \n",
       "[70] vctrs_0.3.1          tidyselect_1.1.0     xfun_0.12           "
      ]
     },
     "metadata": {},
     "output_type": "display_data"
    }
   ],
   "source": [
    "sessionInfo()"
   ]
  },
  {
   "cell_type": "code",
   "execution_count": null,
   "metadata": {},
   "outputs": [],
   "source": []
  }
 ],
 "metadata": {
  "kernelspec": {
   "display_name": "R [conda env:Georg_animal_feces-phyloseq-phy]",
   "language": "R",
   "name": "conda-env-Georg_animal_feces-phyloseq-phy-r"
  },
  "language_info": {
   "codemirror_mode": "r",
   "file_extension": ".r",
   "mimetype": "text/x-r-source",
   "name": "R",
   "pygments_lexer": "r",
   "version": "4.0.0"
  },
  "toc": {
   "base_numbering": 1,
   "nav_menu": {},
   "number_sections": true,
   "sideBar": true,
   "skip_h1_title": false,
   "title_cell": "Table of Contents",
   "title_sidebar": "Contents",
   "toc_cell": true,
   "toc_position": {},
   "toc_section_display": true,
   "toc_window_display": true
  }
 },
 "nbformat": 4,
 "nbformat_minor": 4
}
