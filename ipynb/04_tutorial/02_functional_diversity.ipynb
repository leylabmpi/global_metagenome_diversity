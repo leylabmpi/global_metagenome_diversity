{
 "cells": [
  {
   "cell_type": "markdown",
   "metadata": {
    "toc": true
   },
   "source": [
    "<h1>Table of Contents<span class=\"tocSkip\"></span></h1>\n",
    "<div class=\"toc\"><ul class=\"toc-item\"><li><span><a href=\"#Goal\" data-toc-modified-id=\"Goal-1\"><span class=\"toc-item-num\">1&nbsp;&nbsp;</span>Goal</a></span></li><li><span><a href=\"#Var\" data-toc-modified-id=\"Var-2\"><span class=\"toc-item-num\">2&nbsp;&nbsp;</span>Var</a></span></li><li><span><a href=\"#Init\" data-toc-modified-id=\"Init-3\"><span class=\"toc-item-num\">3&nbsp;&nbsp;</span>Init</a></span></li><li><span><a href=\"#Data-download\" data-toc-modified-id=\"Data-download-4\"><span class=\"toc-item-num\">4&nbsp;&nbsp;</span>Data download</a></span><ul class=\"toc-item\"><li><span><a href=\"#Community\" data-toc-modified-id=\"Community-4.1\"><span class=\"toc-item-num\">4.1&nbsp;&nbsp;</span>Community</a></span></li><li><span><a href=\"#Genome-metadata\" data-toc-modified-id=\"Genome-metadata-4.2\"><span class=\"toc-item-num\">4.2&nbsp;&nbsp;</span>Genome metadata</a></span></li><li><span><a href=\"#Functional-data\" data-toc-modified-id=\"Functional-data-4.3\"><span class=\"toc-item-num\">4.3&nbsp;&nbsp;</span>Functional data</a></span></li></ul></li><li><span><a href=\"#Load\" data-toc-modified-id=\"Load-5\"><span class=\"toc-item-num\">5&nbsp;&nbsp;</span>Load</a></span><ul class=\"toc-item\"><li><span><a href=\"#Metagenome-samples\" data-toc-modified-id=\"Metagenome-samples-5.1\"><span class=\"toc-item-num\">5.1&nbsp;&nbsp;</span>Metagenome samples</a></span></li><li><span><a href=\"#Genome-metadata\" data-toc-modified-id=\"Genome-metadata-5.2\"><span class=\"toc-item-num\">5.2&nbsp;&nbsp;</span>Genome metadata</a></span></li><li><span><a href=\"#Functional-data\" data-toc-modified-id=\"Functional-data-5.3\"><span class=\"toc-item-num\">5.3&nbsp;&nbsp;</span>Functional data</a></span></li></ul></li><li><span><a href=\"#Formatting\" data-toc-modified-id=\"Formatting-6\"><span class=\"toc-item-num\">6&nbsp;&nbsp;</span>Formatting</a></span><ul class=\"toc-item\"><li><span><a href=\"#Subsampling\" data-toc-modified-id=\"Subsampling-6.1\"><span class=\"toc-item-num\">6.1&nbsp;&nbsp;</span>Subsampling</a></span></li></ul></li><li><span><a href=\"#FD\" data-toc-modified-id=\"FD-7\"><span class=\"toc-item-num\">7&nbsp;&nbsp;</span>FD</a></span><ul class=\"toc-item\"><li><span><a href=\"#Traits\" data-toc-modified-id=\"Traits-7.1\"><span class=\"toc-item-num\">7.1&nbsp;&nbsp;</span>Traits</a></span><ul class=\"toc-item\"><li><span><a href=\"#Formatting\" data-toc-modified-id=\"Formatting-7.1.1\"><span class=\"toc-item-num\">7.1.1&nbsp;&nbsp;</span>Formatting</a></span></li></ul></li><li><span><a href=\"#COG-categories\" data-toc-modified-id=\"COG-categories-7.2\"><span class=\"toc-item-num\">7.2&nbsp;&nbsp;</span>COG categories</a></span><ul class=\"toc-item\"><li><span><a href=\"#Formatting\" data-toc-modified-id=\"Formatting-7.2.1\"><span class=\"toc-item-num\">7.2.1&nbsp;&nbsp;</span>Formatting</a></span></li></ul></li><li><span><a href=\"#Summary\" data-toc-modified-id=\"Summary-7.3\"><span class=\"toc-item-num\">7.3&nbsp;&nbsp;</span>Summary</a></span></li></ul></li><li><span><a href=\"#sessionInfo\" data-toc-modified-id=\"sessionInfo-8\"><span class=\"toc-item-num\">8&nbsp;&nbsp;</span>sessionInfo</a></span></li></ul></div>"
   ]
  },
  {
   "cell_type": "markdown",
   "metadata": {},
   "source": [
    "# Goal\n",
    "\n",
    "* Tutorial on calculating functional diversity"
   ]
  },
  {
   "cell_type": "markdown",
   "metadata": {},
   "source": [
    "# Var"
   ]
  },
  {
   "cell_type": "code",
   "execution_count": 53,
   "metadata": {
    "ExecuteTime": {
     "end_time": "2021-10-31T08:24:54.364229Z",
     "start_time": "2021-10-31T08:24:54.279Z"
    }
   },
   "outputs": [],
   "source": [
    "# working directory\n",
    "work_dir = '/ebio/abt3_projects2/global_metagenome_diversity/data/tutorial/'\n",
    "\n",
    "# url for the FTP server\n",
    "ftp_url = 'http://ftp.tue.mpg.de/ebio/nyoungblut/gmd/'\n",
    "\n",
    "# representative genome metadata\n",
    "genome_meta_file = file.path(ftp_url, 'GTDBr89_ar122-bac120_meta.tsv')\n",
    "\n",
    "# community files\n",
    "## Kraken2/Bracken counts\n",
    "brk_file = file.path(ftp_url, 'bracken.qs')\n",
    "## sample metadata\n",
    "meta_file = file.path(ftp_url, 'sample_metadata.tsv')\n",
    "\n",
    "# functional data\n",
    "trt_file = file.path(ftp_url, 'predictions_flat_majority-votes_combined.tsv.gz')\n",
    "cog_file = file.path(ftp_url, 'genes-per-COGcat_UniRef90.tsv')\n",
    "\n",
    "# params\n",
    "threads = 4"
   ]
  },
  {
   "cell_type": "markdown",
   "metadata": {},
   "source": [
    "# Init"
   ]
  },
  {
   "cell_type": "code",
   "execution_count": 121,
   "metadata": {
    "ExecuteTime": {
     "end_time": "2021-10-31T13:28:43.099405Z",
     "start_time": "2021-10-31T13:28:42.702Z"
    }
   },
   "outputs": [
    {
     "name": "stderr",
     "output_type": "stream",
     "text": [
      "qs v0.25.1.\n",
      "\n"
     ]
    }
   ],
   "source": [
    "# required packages\n",
    "library(dplyr)\n",
    "library(tidyr)\n",
    "library(ggplot2)\n",
    "library(data.table)\n",
    "library(qs)\n",
    "library(ape)\n",
    "library(FD)"
   ]
  },
  {
   "cell_type": "code",
   "execution_count": 55,
   "metadata": {
    "ExecuteTime": {
     "end_time": "2021-10-31T08:24:54.428219Z",
     "start_time": "2021-10-31T08:24:54.285Z"
    }
   },
   "outputs": [],
   "source": [
    "# setup\n",
    "dir.create(work_dir, recursive = TRUE, showWarnings = FALSE)\n",
    "random_seed = 9381"
   ]
  },
  {
   "cell_type": "code",
   "execution_count": 56,
   "metadata": {
    "ExecuteTime": {
     "end_time": "2021-10-31T08:24:54.478014Z",
     "start_time": "2021-10-31T08:24:54.287Z"
    }
   },
   "outputs": [],
   "source": [
    "# pretty-print of tables in jupyter\n",
    "df.dims = function (nrows = 4, ncols = 20){\n",
    "    options(repr.matrix.max.rows = nrows, repr.matrix.max.cols = ncols)\n",
    "}\n",
    "df.dims()"
   ]
  },
  {
   "cell_type": "code",
   "execution_count": 57,
   "metadata": {
    "ExecuteTime": {
     "end_time": "2021-10-31T08:24:54.497188Z",
     "start_time": "2021-10-31T08:24:54.289Z"
    }
   },
   "outputs": [],
   "source": [
    "# pretty-print of plots in jupyter\n",
    "p.dims = function (w = 5, h = 5, res = 200){\n",
    "    options(repr.plot.width = w, repr.plot.height = h, repr.plot.res = res)\n",
    "}"
   ]
  },
  {
   "cell_type": "markdown",
   "metadata": {},
   "source": [
    "# Data download"
   ]
  },
  {
   "cell_type": "code",
   "execution_count": 58,
   "metadata": {
    "ExecuteTime": {
     "end_time": "2021-10-31T08:24:54.518192Z",
     "start_time": "2021-10-31T08:24:54.291Z"
    }
   },
   "outputs": [],
   "source": [
    "#' wrapper function for downloading file\n",
    "download_file = function(url, dest_dir){\n",
    "    destfile = file.path(dest_dir, basename(url))\n",
    "    utils::download.file(url, destfile)\n",
    "    return(destfile)\n",
    "}"
   ]
  },
  {
   "cell_type": "markdown",
   "metadata": {},
   "source": [
    "## Community"
   ]
  },
  {
   "cell_type": "code",
   "execution_count": 59,
   "metadata": {
    "ExecuteTime": {
     "end_time": "2021-10-31T08:24:54.625280Z",
     "start_time": "2021-10-31T08:24:54.294Z"
    }
   },
   "outputs": [
    {
     "data": {
      "text/html": [
       "'/ebio/abt3_projects2/global_metagenome_diversity/data/tutorial//bracken.qs'"
      ],
      "text/latex": [
       "'/ebio/abt3\\_projects2/global\\_metagenome\\_diversity/data/tutorial//bracken.qs'"
      ],
      "text/markdown": [
       "'/ebio/abt3_projects2/global_metagenome_diversity/data/tutorial//bracken.qs'"
      ],
      "text/plain": [
       "[1] \"/ebio/abt3_projects2/global_metagenome_diversity/data/tutorial//bracken.qs\""
      ]
     },
     "metadata": {},
     "output_type": "display_data"
    }
   ],
   "source": [
    "# Bracken counts\n",
    "brk_file = download_file(brk_file, work_dir)\n",
    "brk_file"
   ]
  },
  {
   "cell_type": "code",
   "execution_count": 60,
   "metadata": {
    "ExecuteTime": {
     "end_time": "2021-10-31T08:24:54.781787Z",
     "start_time": "2021-10-31T08:24:54.297Z"
    }
   },
   "outputs": [
    {
     "data": {
      "text/html": [
       "'/ebio/abt3_projects2/global_metagenome_diversity/data/tutorial//sample_metadata.tsv'"
      ],
      "text/latex": [
       "'/ebio/abt3\\_projects2/global\\_metagenome\\_diversity/data/tutorial//sample\\_metadata.tsv'"
      ],
      "text/markdown": [
       "'/ebio/abt3_projects2/global_metagenome_diversity/data/tutorial//sample_metadata.tsv'"
      ],
      "text/plain": [
       "[1] \"/ebio/abt3_projects2/global_metagenome_diversity/data/tutorial//sample_metadata.tsv\""
      ]
     },
     "metadata": {},
     "output_type": "display_data"
    }
   ],
   "source": [
    "# Sample metadata\n",
    "meta_file = download_file(meta_file, work_dir)\n",
    "meta_file"
   ]
  },
  {
   "cell_type": "markdown",
   "metadata": {},
   "source": [
    "## Genome metadata"
   ]
  },
  {
   "cell_type": "code",
   "execution_count": 61,
   "metadata": {
    "ExecuteTime": {
     "end_time": "2021-10-31T08:24:54.949987Z",
     "start_time": "2021-10-31T08:24:54.299Z"
    }
   },
   "outputs": [
    {
     "data": {
      "text/html": [
       "'/ebio/abt3_projects2/global_metagenome_diversity/data/tutorial//GTDBr89_ar122-bac120_meta.tsv'"
      ],
      "text/latex": [
       "'/ebio/abt3\\_projects2/global\\_metagenome\\_diversity/data/tutorial//GTDBr89\\_ar122-bac120\\_meta.tsv'"
      ],
      "text/markdown": [
       "'/ebio/abt3_projects2/global_metagenome_diversity/data/tutorial//GTDBr89_ar122-bac120_meta.tsv'"
      ],
      "text/plain": [
       "[1] \"/ebio/abt3_projects2/global_metagenome_diversity/data/tutorial//GTDBr89_ar122-bac120_meta.tsv\""
      ]
     },
     "metadata": {},
     "output_type": "display_data"
    }
   ],
   "source": [
    "# representative genome metadata\n",
    "genome_meta_file = download_file(genome_meta_file, work_dir)\n",
    "genome_meta_file"
   ]
  },
  {
   "cell_type": "markdown",
   "metadata": {},
   "source": [
    "## Functional data"
   ]
  },
  {
   "cell_type": "code",
   "execution_count": 62,
   "metadata": {
    "ExecuteTime": {
     "end_time": "2021-10-31T08:24:55.119485Z",
     "start_time": "2021-10-31T08:24:54.301Z"
    }
   },
   "outputs": [
    {
     "data": {
      "text/html": [
       "'/ebio/abt3_projects2/global_metagenome_diversity/data/tutorial//predictions_flat_majority-votes_combined.tsv.gz'"
      ],
      "text/latex": [
       "'/ebio/abt3\\_projects2/global\\_metagenome\\_diversity/data/tutorial//predictions\\_flat\\_majority-votes\\_combined.tsv.gz'"
      ],
      "text/markdown": [
       "'/ebio/abt3_projects2/global_metagenome_diversity/data/tutorial//predictions_flat_majority-votes_combined.tsv.gz'"
      ],
      "text/plain": [
       "[1] \"/ebio/abt3_projects2/global_metagenome_diversity/data/tutorial//predictions_flat_majority-votes_combined.tsv.gz\""
      ]
     },
     "metadata": {},
     "output_type": "display_data"
    }
   ],
   "source": [
    "trt_file = download_file(trt_file, work_dir)\n",
    "trt_file "
   ]
  },
  {
   "cell_type": "code",
   "execution_count": 63,
   "metadata": {
    "ExecuteTime": {
     "end_time": "2021-10-31T08:24:55.269548Z",
     "start_time": "2021-10-31T08:24:54.304Z"
    }
   },
   "outputs": [
    {
     "data": {
      "text/html": [
       "'/ebio/abt3_projects2/global_metagenome_diversity/data/tutorial//genes-per-COGcat_UniRef90.tsv'"
      ],
      "text/latex": [
       "'/ebio/abt3\\_projects2/global\\_metagenome\\_diversity/data/tutorial//genes-per-COGcat\\_UniRef90.tsv'"
      ],
      "text/markdown": [
       "'/ebio/abt3_projects2/global_metagenome_diversity/data/tutorial//genes-per-COGcat_UniRef90.tsv'"
      ],
      "text/plain": [
       "[1] \"/ebio/abt3_projects2/global_metagenome_diversity/data/tutorial//genes-per-COGcat_UniRef90.tsv\""
      ]
     },
     "metadata": {},
     "output_type": "display_data"
    }
   ],
   "source": [
    "cog_file = download_file(cog_file, work_dir)\n",
    "cog_file "
   ]
  },
  {
   "cell_type": "markdown",
   "metadata": {},
   "source": [
    "# Load"
   ]
  },
  {
   "cell_type": "markdown",
   "metadata": {},
   "source": [
    "## Metagenome samples"
   ]
  },
  {
   "cell_type": "code",
   "execution_count": 64,
   "metadata": {
    "ExecuteTime": {
     "end_time": "2021-10-31T08:25:02.301488Z",
     "start_time": "2021-10-31T08:24:54.308Z"
    }
   },
   "outputs": [
    {
     "data": {
      "text/html": [
       "<table class=\"dataframe\">\n",
       "<caption>A tidytable: 4427630 × 13</caption>\n",
       "<thead>\n",
       "\t<tr><th scope=col>dataset</th><th scope=col>name</th><th scope=col>taxonomy_id</th><th scope=col>taxonomy_lvl</th><th scope=col>Domain</th><th scope=col>Phylum</th><th scope=col>Class</th><th scope=col>Order</th><th scope=col>Family</th><th scope=col>Genus</th><th scope=col>Species</th><th scope=col>Sample</th><th scope=col>Abundance</th></tr>\n",
       "\t<tr><th scope=col>&lt;chr&gt;</th><th scope=col>&lt;chr&gt;</th><th scope=col>&lt;int&gt;</th><th scope=col>&lt;chr&gt;</th><th scope=col>&lt;chr&gt;</th><th scope=col>&lt;chr&gt;</th><th scope=col>&lt;chr&gt;</th><th scope=col>&lt;chr&gt;</th><th scope=col>&lt;chr&gt;</th><th scope=col>&lt;chr&gt;</th><th scope=col>&lt;chr&gt;</th><th scope=col>&lt;chr&gt;</th><th scope=col>&lt;dbl&gt;</th></tr>\n",
       "</thead>\n",
       "<tbody>\n",
       "\t<tr><td>CosteaPI_2017</td><td>s__Caecibacter_massiliensis</td><td>108259</td><td>S</td><td>Bacteria</td><td>Firmicutes_C</td><td>Negativicutes</td><td>Veillonellales </td><td>Megasphaeraceae </td><td>Caecibacter</td><td>Caecibacter massiliensis</td><td>halbarad.11.0.0</td><td>0</td></tr>\n",
       "\t<tr><td>CosteaPI_2017</td><td>s__UBA1777_sp002350825     </td><td>178550</td><td>S</td><td>Bacteria</td><td>Firmicutes_A</td><td>Clostridia   </td><td>Oscillospirales</td><td>Oscillospiraceae</td><td>UBA1777    </td><td>UBA1777 sp002350825     </td><td>halbarad.11.0.0</td><td>0</td></tr>\n",
       "\t<tr><td>⋮</td><td>⋮</td><td>⋮</td><td>⋮</td><td>⋮</td><td>⋮</td><td>⋮</td><td>⋮</td><td>⋮</td><td>⋮</td><td>⋮</td><td>⋮</td><td>⋮</td></tr>\n",
       "\t<tr><td>YuJ_2015</td><td>s__Serratia_grimesii        </td><td>121568</td><td>S</td><td>Bacteria</td><td>Proteobacteria</td><td>Gammaproteobacteria</td><td>Enterobacterales</td><td>Enterobacteriaceae</td><td>Serratia     </td><td>Serratia grimesii        </td><td>SZAXPI017592.142</td><td>0</td></tr>\n",
       "\t<tr><td>YuJ_2015</td><td>s__Bacteroides_A_sp002161565</td><td>119189</td><td>S</td><td>Bacteria</td><td>Bacteroidota  </td><td>Bacteroidia        </td><td>Bacteroidales   </td><td>Bacteroidaceae    </td><td>Bacteroides_A</td><td>Bacteroides_A sp002161565</td><td>SZAXPI017592.142</td><td>0</td></tr>\n",
       "</tbody>\n",
       "</table>\n"
      ],
      "text/latex": [
       "A tidytable: 4427630 × 13\n",
       "\\begin{tabular}{lllllllllllll}\n",
       " dataset & name & taxonomy\\_id & taxonomy\\_lvl & Domain & Phylum & Class & Order & Family & Genus & Species & Sample & Abundance\\\\\n",
       " <chr> & <chr> & <int> & <chr> & <chr> & <chr> & <chr> & <chr> & <chr> & <chr> & <chr> & <chr> & <dbl>\\\\\n",
       "\\hline\n",
       "\t CosteaPI\\_2017 & s\\_\\_Caecibacter\\_massiliensis & 108259 & S & Bacteria & Firmicutes\\_C & Negativicutes & Veillonellales  & Megasphaeraceae  & Caecibacter & Caecibacter massiliensis & halbarad.11.0.0 & 0\\\\\n",
       "\t CosteaPI\\_2017 & s\\_\\_UBA1777\\_sp002350825      & 178550 & S & Bacteria & Firmicutes\\_A & Clostridia    & Oscillospirales & Oscillospiraceae & UBA1777     & UBA1777 sp002350825      & halbarad.11.0.0 & 0\\\\\n",
       "\t ⋮ & ⋮ & ⋮ & ⋮ & ⋮ & ⋮ & ⋮ & ⋮ & ⋮ & ⋮ & ⋮ & ⋮ & ⋮\\\\\n",
       "\t YuJ\\_2015 & s\\_\\_Serratia\\_grimesii         & 121568 & S & Bacteria & Proteobacteria & Gammaproteobacteria & Enterobacterales & Enterobacteriaceae & Serratia      & Serratia grimesii         & SZAXPI017592.142 & 0\\\\\n",
       "\t YuJ\\_2015 & s\\_\\_Bacteroides\\_A\\_sp002161565 & 119189 & S & Bacteria & Bacteroidota   & Bacteroidia         & Bacteroidales    & Bacteroidaceae     & Bacteroides\\_A & Bacteroides\\_A sp002161565 & SZAXPI017592.142 & 0\\\\\n",
       "\\end{tabular}\n"
      ],
      "text/markdown": [
       "\n",
       "A tidytable: 4427630 × 13\n",
       "\n",
       "| dataset &lt;chr&gt; | name &lt;chr&gt; | taxonomy_id &lt;int&gt; | taxonomy_lvl &lt;chr&gt; | Domain &lt;chr&gt; | Phylum &lt;chr&gt; | Class &lt;chr&gt; | Order &lt;chr&gt; | Family &lt;chr&gt; | Genus &lt;chr&gt; | Species &lt;chr&gt; | Sample &lt;chr&gt; | Abundance &lt;dbl&gt; |\n",
       "|---|---|---|---|---|---|---|---|---|---|---|---|---|\n",
       "| CosteaPI_2017 | s__Caecibacter_massiliensis | 108259 | S | Bacteria | Firmicutes_C | Negativicutes | Veillonellales  | Megasphaeraceae  | Caecibacter | Caecibacter massiliensis | halbarad.11.0.0 | 0 |\n",
       "| CosteaPI_2017 | s__UBA1777_sp002350825      | 178550 | S | Bacteria | Firmicutes_A | Clostridia    | Oscillospirales | Oscillospiraceae | UBA1777     | UBA1777 sp002350825      | halbarad.11.0.0 | 0 |\n",
       "| ⋮ | ⋮ | ⋮ | ⋮ | ⋮ | ⋮ | ⋮ | ⋮ | ⋮ | ⋮ | ⋮ | ⋮ | ⋮ |\n",
       "| YuJ_2015 | s__Serratia_grimesii         | 121568 | S | Bacteria | Proteobacteria | Gammaproteobacteria | Enterobacterales | Enterobacteriaceae | Serratia      | Serratia grimesii         | SZAXPI017592.142 | 0 |\n",
       "| YuJ_2015 | s__Bacteroides_A_sp002161565 | 119189 | S | Bacteria | Bacteroidota   | Bacteroidia         | Bacteroidales    | Bacteroidaceae     | Bacteroides_A | Bacteroides_A sp002161565 | SZAXPI017592.142 | 0 |\n",
       "\n"
      ],
      "text/plain": [
       "        dataset       name                         taxonomy_id taxonomy_lvl\n",
       "1       CosteaPI_2017 s__Caecibacter_massiliensis  108259      S           \n",
       "2       CosteaPI_2017 s__UBA1777_sp002350825       178550      S           \n",
       "⋮       ⋮             ⋮                            ⋮           ⋮           \n",
       "4427629 YuJ_2015      s__Serratia_grimesii         121568      S           \n",
       "4427630 YuJ_2015      s__Bacteroides_A_sp002161565 119189      S           \n",
       "        Domain   Phylum         Class               Order           \n",
       "1       Bacteria Firmicutes_C   Negativicutes       Veillonellales  \n",
       "2       Bacteria Firmicutes_A   Clostridia          Oscillospirales \n",
       "⋮       ⋮        ⋮              ⋮                   ⋮               \n",
       "4427629 Bacteria Proteobacteria Gammaproteobacteria Enterobacterales\n",
       "4427630 Bacteria Bacteroidota   Bacteroidia         Bacteroidales   \n",
       "        Family             Genus         Species                  \n",
       "1       Megasphaeraceae    Caecibacter   Caecibacter massiliensis \n",
       "2       Oscillospiraceae   UBA1777       UBA1777 sp002350825      \n",
       "⋮       ⋮                  ⋮             ⋮                        \n",
       "4427629 Enterobacteriaceae Serratia      Serratia grimesii        \n",
       "4427630 Bacteroidaceae     Bacteroides_A Bacteroides_A sp002161565\n",
       "        Sample           Abundance\n",
       "1       halbarad.11.0.0  0        \n",
       "2       halbarad.11.0.0  0        \n",
       "⋮       ⋮                ⋮        \n",
       "4427629 SZAXPI017592.142 0        \n",
       "4427630 SZAXPI017592.142 0        "
      ]
     },
     "metadata": {},
     "output_type": "display_data"
    }
   ],
   "source": [
    "# bracken counts\n",
    "brk = qs::qread(brk_file)\n",
    "brk "
   ]
  },
  {
   "cell_type": "code",
   "execution_count": 65,
   "metadata": {
    "ExecuteTime": {
     "end_time": "2021-10-31T08:25:02.433372Z",
     "start_time": "2021-10-31T08:24:54.310Z"
    }
   },
   "outputs": [
    {
     "data": {
      "text/html": [
       "<table class=\"dataframe\">\n",
       "<caption>A data.frame: 2943 × 9</caption>\n",
       "<thead>\n",
       "\t<tr><th scope=col>Sample</th><th scope=col>dataset_name</th><th scope=col>subjectID</th><th scope=col>study_condition</th><th scope=col>disease</th><th scope=col>age</th><th scope=col>gender</th><th scope=col>BMI</th><th scope=col>westernized</th></tr>\n",
       "\t<tr><th scope=col>&lt;chr&gt;</th><th scope=col>&lt;chr&gt;</th><th scope=col>&lt;chr&gt;</th><th scope=col>&lt;chr&gt;</th><th scope=col>&lt;chr&gt;</th><th scope=col>&lt;int&gt;</th><th scope=col>&lt;chr&gt;</th><th scope=col>&lt;dbl&gt;</th><th scope=col>&lt;lgl&gt;</th></tr>\n",
       "</thead>\n",
       "<tbody>\n",
       "\t<tr><td>TRAVELRES1 </td><td>Bengtsson-PalmeJ_2015</td><td>TRAVELRES1_2  </td><td>control</td><td>healthy</td><td>25</td><td>female</td><td>NA</td><td>TRUE</td></tr>\n",
       "\t<tr><td>TRAVELRES11</td><td>Bengtsson-PalmeJ_2015</td><td>TRAVELRES11_12</td><td>control</td><td>healthy</td><td>22</td><td>female</td><td>NA</td><td>TRUE</td></tr>\n",
       "\t<tr><td>⋮</td><td>⋮</td><td>⋮</td><td>⋮</td><td>⋮</td><td>⋮</td><td>⋮</td><td>⋮</td><td>⋮</td></tr>\n",
       "\t<tr><td>PNP_Validation_45</td><td>ZeeviD_2015</td><td>PNP_Validation_45</td><td>control</td><td>healthy</td><td>NA</td><td></td><td>NA</td><td>TRUE</td></tr>\n",
       "\t<tr><td>PNP_Validation_46</td><td>ZeeviD_2015</td><td>PNP_Validation_46</td><td>control</td><td>healthy</td><td>NA</td><td></td><td>NA</td><td>TRUE</td></tr>\n",
       "</tbody>\n",
       "</table>\n"
      ],
      "text/latex": [
       "A data.frame: 2943 × 9\n",
       "\\begin{tabular}{lllllllll}\n",
       " Sample & dataset\\_name & subjectID & study\\_condition & disease & age & gender & BMI & westernized\\\\\n",
       " <chr> & <chr> & <chr> & <chr> & <chr> & <int> & <chr> & <dbl> & <lgl>\\\\\n",
       "\\hline\n",
       "\t TRAVELRES1  & Bengtsson-PalmeJ\\_2015 & TRAVELRES1\\_2   & control & healthy & 25 & female & NA & TRUE\\\\\n",
       "\t TRAVELRES11 & Bengtsson-PalmeJ\\_2015 & TRAVELRES11\\_12 & control & healthy & 22 & female & NA & TRUE\\\\\n",
       "\t ⋮ & ⋮ & ⋮ & ⋮ & ⋮ & ⋮ & ⋮ & ⋮ & ⋮\\\\\n",
       "\t PNP\\_Validation\\_45 & ZeeviD\\_2015 & PNP\\_Validation\\_45 & control & healthy & NA &  & NA & TRUE\\\\\n",
       "\t PNP\\_Validation\\_46 & ZeeviD\\_2015 & PNP\\_Validation\\_46 & control & healthy & NA &  & NA & TRUE\\\\\n",
       "\\end{tabular}\n"
      ],
      "text/markdown": [
       "\n",
       "A data.frame: 2943 × 9\n",
       "\n",
       "| Sample &lt;chr&gt; | dataset_name &lt;chr&gt; | subjectID &lt;chr&gt; | study_condition &lt;chr&gt; | disease &lt;chr&gt; | age &lt;int&gt; | gender &lt;chr&gt; | BMI &lt;dbl&gt; | westernized &lt;lgl&gt; |\n",
       "|---|---|---|---|---|---|---|---|---|\n",
       "| TRAVELRES1  | Bengtsson-PalmeJ_2015 | TRAVELRES1_2   | control | healthy | 25 | female | NA | TRUE |\n",
       "| TRAVELRES11 | Bengtsson-PalmeJ_2015 | TRAVELRES11_12 | control | healthy | 22 | female | NA | TRUE |\n",
       "| ⋮ | ⋮ | ⋮ | ⋮ | ⋮ | ⋮ | ⋮ | ⋮ | ⋮ |\n",
       "| PNP_Validation_45 | ZeeviD_2015 | PNP_Validation_45 | control | healthy | NA | <!----> | NA | TRUE |\n",
       "| PNP_Validation_46 | ZeeviD_2015 | PNP_Validation_46 | control | healthy | NA | <!----> | NA | TRUE |\n",
       "\n"
      ],
      "text/plain": [
       "     Sample            dataset_name          subjectID         study_condition\n",
       "1    TRAVELRES1        Bengtsson-PalmeJ_2015 TRAVELRES1_2      control        \n",
       "2    TRAVELRES11       Bengtsson-PalmeJ_2015 TRAVELRES11_12    control        \n",
       "⋮    ⋮                 ⋮                     ⋮                 ⋮              \n",
       "2942 PNP_Validation_45 ZeeviD_2015           PNP_Validation_45 control        \n",
       "2943 PNP_Validation_46 ZeeviD_2015           PNP_Validation_46 control        \n",
       "     disease age gender BMI westernized\n",
       "1    healthy 25  female NA  TRUE       \n",
       "2    healthy 22  female NA  TRUE       \n",
       "⋮    ⋮       ⋮   ⋮      ⋮   ⋮          \n",
       "2942 healthy NA         NA  TRUE       \n",
       "2943 healthy NA         NA  TRUE       "
      ]
     },
     "metadata": {},
     "output_type": "display_data"
    }
   ],
   "source": [
    "# sample metadata\n",
    "meta = read.delim(meta_file, sep='\\t') %>%\n",
    "    select(Sample, dataset_name, subjectID, study_condition, \n",
    "              disease, age, gender, BMI, westernized) \n",
    "meta "
   ]
  },
  {
   "cell_type": "markdown",
   "metadata": {},
   "source": [
    "## Genome metadata"
   ]
  },
  {
   "cell_type": "code",
   "execution_count": 66,
   "metadata": {
    "ExecuteTime": {
     "end_time": "2021-10-31T08:25:05.522914Z",
     "start_time": "2021-10-31T08:24:54.313Z"
    }
   },
   "outputs": [
    {
     "data": {
      "text/html": [
       "<table class=\"dataframe\">\n",
       "<caption>A data.table: 23360 × 10</caption>\n",
       "<thead>\n",
       "\t<tr><th scope=col>ncbi_organism_name</th><th scope=col>GTDB_accession</th><th scope=col>Domain</th><th scope=col>Phylum</th><th scope=col>Class</th><th scope=col>Order</th><th scope=col>Family</th><th scope=col>Genus</th><th scope=col>Species</th><th scope=col>ncbi_genbank_assembly_accession</th></tr>\n",
       "\t<tr><th scope=col>&lt;chr&gt;</th><th scope=col>&lt;chr&gt;</th><th scope=col>&lt;chr&gt;</th><th scope=col>&lt;chr&gt;</th><th scope=col>&lt;chr&gt;</th><th scope=col>&lt;chr&gt;</th><th scope=col>&lt;chr&gt;</th><th scope=col>&lt;chr&gt;</th><th scope=col>&lt;chr&gt;</th><th scope=col>&lt;chr&gt;</th></tr>\n",
       "</thead>\n",
       "<tbody>\n",
       "\t<tr><td>GB_GCA_002789635.1_Candidatus Aenigmarchaeota archaeon CG_4_9_14_3_um_filter_37_18</td><td>GB_GCA_002789635.1</td><td>d__Archaea</td><td>p__Aenigmarchaeota</td><td>c__Aenigmarchaeia</td><td>o__CG10238-14</td><td>f__CG10238-14</td><td>g__CG10238-14  </td><td>s__CG10238-14 sp002789635  </td><td>GCA_002789635.1</td></tr>\n",
       "\t<tr><td>GB_GCA_001784635.1_Candidatus Micrarchaeota archaeon RBG_16_49_10                 </td><td>GB_GCA_001784635.1</td><td>d__Archaea</td><td>p__Aenigmarchaeota</td><td>c__Aenigmarchaeia</td><td>o__CG10238-14</td><td>f__CG10238-14</td><td>g__RBG-16-49-10</td><td>s__RBG-16-49-10 sp001784635</td><td>GCA_001784635.1</td></tr>\n",
       "\t<tr><td>⋮</td><td>⋮</td><td>⋮</td><td>⋮</td><td>⋮</td><td>⋮</td><td>⋮</td><td>⋮</td><td>⋮</td><td>⋮</td></tr>\n",
       "\t<tr><td>GB_GCA_001775395.1_candidate division Zixibacteria bacterium RBG_16_53_22              </td><td>GB_GCA_001775395.1</td><td>d__Bacteria</td><td>p__Zixibacteria</td><td>c__MSB-5A5</td><td>o__UBA10806      </td><td>f__UBA10806      </td><td>g__UBA10806      </td><td>s__UBA10806 sp001775395      </td><td>GCA_001775395.1</td></tr>\n",
       "\t<tr><td>GB_GCA_002791595.1_candidate division Zixibacteria bacterium CG_4_9_14_3_um_filter_46_8</td><td>GB_GCA_002791595.1</td><td>d__Bacteria</td><td>p__Zixibacteria</td><td>c__MSB-5A5</td><td>o__UM-FILTER-46-8</td><td>f__UM-FILTER-46-8</td><td>g__UM-FILTER-46-8</td><td>s__UM-FILTER-46-8 sp002791595</td><td>GCA_002791595.1</td></tr>\n",
       "</tbody>\n",
       "</table>\n"
      ],
      "text/latex": [
       "A data.table: 23360 × 10\n",
       "\\begin{tabular}{llllllllll}\n",
       " ncbi\\_organism\\_name & GTDB\\_accession & Domain & Phylum & Class & Order & Family & Genus & Species & ncbi\\_genbank\\_assembly\\_accession\\\\\n",
       " <chr> & <chr> & <chr> & <chr> & <chr> & <chr> & <chr> & <chr> & <chr> & <chr>\\\\\n",
       "\\hline\n",
       "\t GB\\_GCA\\_002789635.1\\_Candidatus Aenigmarchaeota archaeon CG\\_4\\_9\\_14\\_3\\_um\\_filter\\_37\\_18 & GB\\_GCA\\_002789635.1 & d\\_\\_Archaea & p\\_\\_Aenigmarchaeota & c\\_\\_Aenigmarchaeia & o\\_\\_CG10238-14 & f\\_\\_CG10238-14 & g\\_\\_CG10238-14   & s\\_\\_CG10238-14 sp002789635   & GCA\\_002789635.1\\\\\n",
       "\t GB\\_GCA\\_001784635.1\\_Candidatus Micrarchaeota archaeon RBG\\_16\\_49\\_10                  & GB\\_GCA\\_001784635.1 & d\\_\\_Archaea & p\\_\\_Aenigmarchaeota & c\\_\\_Aenigmarchaeia & o\\_\\_CG10238-14 & f\\_\\_CG10238-14 & g\\_\\_RBG-16-49-10 & s\\_\\_RBG-16-49-10 sp001784635 & GCA\\_001784635.1\\\\\n",
       "\t ⋮ & ⋮ & ⋮ & ⋮ & ⋮ & ⋮ & ⋮ & ⋮ & ⋮ & ⋮\\\\\n",
       "\t GB\\_GCA\\_001775395.1\\_candidate division Zixibacteria bacterium RBG\\_16\\_53\\_22               & GB\\_GCA\\_001775395.1 & d\\_\\_Bacteria & p\\_\\_Zixibacteria & c\\_\\_MSB-5A5 & o\\_\\_UBA10806       & f\\_\\_UBA10806       & g\\_\\_UBA10806       & s\\_\\_UBA10806 sp001775395       & GCA\\_001775395.1\\\\\n",
       "\t GB\\_GCA\\_002791595.1\\_candidate division Zixibacteria bacterium CG\\_4\\_9\\_14\\_3\\_um\\_filter\\_46\\_8 & GB\\_GCA\\_002791595.1 & d\\_\\_Bacteria & p\\_\\_Zixibacteria & c\\_\\_MSB-5A5 & o\\_\\_UM-FILTER-46-8 & f\\_\\_UM-FILTER-46-8 & g\\_\\_UM-FILTER-46-8 & s\\_\\_UM-FILTER-46-8 sp002791595 & GCA\\_002791595.1\\\\\n",
       "\\end{tabular}\n"
      ],
      "text/markdown": [
       "\n",
       "A data.table: 23360 × 10\n",
       "\n",
       "| ncbi_organism_name &lt;chr&gt; | GTDB_accession &lt;chr&gt; | Domain &lt;chr&gt; | Phylum &lt;chr&gt; | Class &lt;chr&gt; | Order &lt;chr&gt; | Family &lt;chr&gt; | Genus &lt;chr&gt; | Species &lt;chr&gt; | ncbi_genbank_assembly_accession &lt;chr&gt; |\n",
       "|---|---|---|---|---|---|---|---|---|---|\n",
       "| GB_GCA_002789635.1_Candidatus Aenigmarchaeota archaeon CG_4_9_14_3_um_filter_37_18 | GB_GCA_002789635.1 | d__Archaea | p__Aenigmarchaeota | c__Aenigmarchaeia | o__CG10238-14 | f__CG10238-14 | g__CG10238-14   | s__CG10238-14 sp002789635   | GCA_002789635.1 |\n",
       "| GB_GCA_001784635.1_Candidatus Micrarchaeota archaeon RBG_16_49_10                  | GB_GCA_001784635.1 | d__Archaea | p__Aenigmarchaeota | c__Aenigmarchaeia | o__CG10238-14 | f__CG10238-14 | g__RBG-16-49-10 | s__RBG-16-49-10 sp001784635 | GCA_001784635.1 |\n",
       "| ⋮ | ⋮ | ⋮ | ⋮ | ⋮ | ⋮ | ⋮ | ⋮ | ⋮ | ⋮ |\n",
       "| GB_GCA_001775395.1_candidate division Zixibacteria bacterium RBG_16_53_22               | GB_GCA_001775395.1 | d__Bacteria | p__Zixibacteria | c__MSB-5A5 | o__UBA10806       | f__UBA10806       | g__UBA10806       | s__UBA10806 sp001775395       | GCA_001775395.1 |\n",
       "| GB_GCA_002791595.1_candidate division Zixibacteria bacterium CG_4_9_14_3_um_filter_46_8 | GB_GCA_002791595.1 | d__Bacteria | p__Zixibacteria | c__MSB-5A5 | o__UM-FILTER-46-8 | f__UM-FILTER-46-8 | g__UM-FILTER-46-8 | s__UM-FILTER-46-8 sp002791595 | GCA_002791595.1 |\n",
       "\n"
      ],
      "text/plain": [
       "      ncbi_organism_name                                                                     \n",
       "1     GB_GCA_002789635.1_Candidatus Aenigmarchaeota archaeon CG_4_9_14_3_um_filter_37_18     \n",
       "2     GB_GCA_001784635.1_Candidatus Micrarchaeota archaeon RBG_16_49_10                      \n",
       "⋮     ⋮                                                                                      \n",
       "23359 GB_GCA_001775395.1_candidate division Zixibacteria bacterium RBG_16_53_22              \n",
       "23360 GB_GCA_002791595.1_candidate division Zixibacteria bacterium CG_4_9_14_3_um_filter_46_8\n",
       "      GTDB_accession     Domain      Phylum             Class            \n",
       "1     GB_GCA_002789635.1 d__Archaea  p__Aenigmarchaeota c__Aenigmarchaeia\n",
       "2     GB_GCA_001784635.1 d__Archaea  p__Aenigmarchaeota c__Aenigmarchaeia\n",
       "⋮     ⋮                  ⋮           ⋮                  ⋮                \n",
       "23359 GB_GCA_001775395.1 d__Bacteria p__Zixibacteria    c__MSB-5A5       \n",
       "23360 GB_GCA_002791595.1 d__Bacteria p__Zixibacteria    c__MSB-5A5       \n",
       "      Order             Family            Genus            \n",
       "1     o__CG10238-14     f__CG10238-14     g__CG10238-14    \n",
       "2     o__CG10238-14     f__CG10238-14     g__RBG-16-49-10  \n",
       "⋮     ⋮                 ⋮                 ⋮                \n",
       "23359 o__UBA10806       f__UBA10806       g__UBA10806      \n",
       "23360 o__UM-FILTER-46-8 f__UM-FILTER-46-8 g__UM-FILTER-46-8\n",
       "      Species                       ncbi_genbank_assembly_accession\n",
       "1     s__CG10238-14 sp002789635     GCA_002789635.1                \n",
       "2     s__RBG-16-49-10 sp001784635   GCA_001784635.1                \n",
       "⋮     ⋮                             ⋮                              \n",
       "23359 s__UBA10806 sp001775395       GCA_001775395.1                \n",
       "23360 s__UM-FILTER-46-8 sp002791595 GCA_002791595.1                "
      ]
     },
     "metadata": {},
     "output_type": "display_data"
    }
   ],
   "source": [
    "# genome metadata\n",
    "tax_levs = c('Domain', 'Phylum', 'Class', 'Order', 'Family', 'Genus', 'Species')\n",
    "genome_meta = fread(genome_meta_file, sep='\\t') %>%\n",
    "    distinct(ncbi_genbank_assembly_accession, ncbi_organism_name, gtdb_taxonomy, accession) %>%\n",
    "    rename('GTDB_accession' = accession) %>%\n",
    "    separate(gtdb_taxonomy, tax_levs, sep=';')\n",
    "genome_meta"
   ]
  },
  {
   "cell_type": "markdown",
   "metadata": {},
   "source": [
    "## Functional data"
   ]
  },
  {
   "cell_type": "code",
   "execution_count": 67,
   "metadata": {
    "ExecuteTime": {
     "end_time": "2021-10-31T08:25:07.337864Z",
     "start_time": "2021-10-31T08:24:54.316Z"
    }
   },
   "outputs": [
    {
     "data": {
      "text/html": [
       "<table class=\"dataframe\">\n",
       "<caption>A data.table: 3060159 × 4</caption>\n",
       "<thead>\n",
       "\t<tr><th scope=col>sample</th><th scope=col>phenotype</th><th scope=col>prediction</th><th scope=col>phenotype_model</th></tr>\n",
       "\t<tr><th scope=col>&lt;chr&gt;</th><th scope=col>&lt;chr&gt;</th><th scope=col>&lt;int&gt;</th><th scope=col>&lt;chr&gt;</th></tr>\n",
       "</thead>\n",
       "<tbody>\n",
       "\t<tr><td>GCA_002287175.1</td><td>Gram positive                </td><td>1</td><td>phypat</td></tr>\n",
       "\t<tr><td>GCA_002287175.1</td><td>Growth on ordinary blood agar</td><td>1</td><td>phypat</td></tr>\n",
       "\t<tr><td>⋮</td><td>⋮</td><td>⋮</td><td>⋮</td></tr>\n",
       "\t<tr><td>GCA_003234965.1</td><td>Yellow pigment</td><td>0</td><td>phypat    </td></tr>\n",
       "\t<tr><td>GCA_003234965.1</td><td>Yellow pigment</td><td>0</td><td>phypat+PGL</td></tr>\n",
       "</tbody>\n",
       "</table>\n"
      ],
      "text/latex": [
       "A data.table: 3060159 × 4\n",
       "\\begin{tabular}{llll}\n",
       " sample & phenotype & prediction & phenotype\\_model\\\\\n",
       " <chr> & <chr> & <int> & <chr>\\\\\n",
       "\\hline\n",
       "\t GCA\\_002287175.1 & Gram positive                 & 1 & phypat\\\\\n",
       "\t GCA\\_002287175.1 & Growth on ordinary blood agar & 1 & phypat\\\\\n",
       "\t ⋮ & ⋮ & ⋮ & ⋮\\\\\n",
       "\t GCA\\_003234965.1 & Yellow pigment & 0 & phypat    \\\\\n",
       "\t GCA\\_003234965.1 & Yellow pigment & 0 & phypat+PGL\\\\\n",
       "\\end{tabular}\n"
      ],
      "text/markdown": [
       "\n",
       "A data.table: 3060159 × 4\n",
       "\n",
       "| sample &lt;chr&gt; | phenotype &lt;chr&gt; | prediction &lt;int&gt; | phenotype_model &lt;chr&gt; |\n",
       "|---|---|---|---|\n",
       "| GCA_002287175.1 | Gram positive                 | 1 | phypat |\n",
       "| GCA_002287175.1 | Growth on ordinary blood agar | 1 | phypat |\n",
       "| ⋮ | ⋮ | ⋮ | ⋮ |\n",
       "| GCA_003234965.1 | Yellow pigment | 0 | phypat     |\n",
       "| GCA_003234965.1 | Yellow pigment | 0 | phypat+PGL |\n",
       "\n"
      ],
      "text/plain": [
       "        sample          phenotype                     prediction\n",
       "1       GCA_002287175.1 Gram positive                 1         \n",
       "2       GCA_002287175.1 Growth on ordinary blood agar 1         \n",
       "⋮       ⋮               ⋮                             ⋮         \n",
       "3060158 GCA_003234965.1 Yellow pigment                0         \n",
       "3060159 GCA_003234965.1 Yellow pigment                0         \n",
       "        phenotype_model\n",
       "1       phypat         \n",
       "2       phypat         \n",
       "⋮       ⋮              \n",
       "3060158 phypat         \n",
       "3060159 phypat+PGL     "
      ]
     },
     "metadata": {},
     "output_type": "display_data"
    }
   ],
   "source": [
    "# traits\n",
    "trt = fread(trt_file, sep='\\t')\n",
    "trt"
   ]
  },
  {
   "cell_type": "code",
   "execution_count": 68,
   "metadata": {
    "ExecuteTime": {
     "end_time": "2021-10-31T08:25:07.463876Z",
     "start_time": "2021-10-31T08:24:54.319Z"
    }
   },
   "outputs": [
    {
     "data": {
      "text/html": [
       "<table class=\"dataframe\">\n",
       "<caption>A data.table: 23360 × 26</caption>\n",
       "<thead>\n",
       "\t<tr><th scope=col>Taxon</th><th scope=col>A</th><th scope=col>B</th><th scope=col>C</th><th scope=col>D</th><th scope=col>E</th><th scope=col>F</th><th scope=col>G</th><th scope=col>H</th><th scope=col>I</th><th scope=col>⋯</th><th scope=col>P</th><th scope=col>Q</th><th scope=col>R</th><th scope=col>S</th><th scope=col>T</th><th scope=col>U</th><th scope=col>V</th><th scope=col>W</th><th scope=col>X</th><th scope=col>Z</th></tr>\n",
       "\t<tr><th scope=col>&lt;chr&gt;</th><th scope=col>&lt;int&gt;</th><th scope=col>&lt;int&gt;</th><th scope=col>&lt;int&gt;</th><th scope=col>&lt;int&gt;</th><th scope=col>&lt;int&gt;</th><th scope=col>&lt;int&gt;</th><th scope=col>&lt;int&gt;</th><th scope=col>&lt;int&gt;</th><th scope=col>&lt;int&gt;</th><th scope=col>⋯</th><th scope=col>&lt;int&gt;</th><th scope=col>&lt;int&gt;</th><th scope=col>&lt;int&gt;</th><th scope=col>&lt;int&gt;</th><th scope=col>&lt;int&gt;</th><th scope=col>&lt;int&gt;</th><th scope=col>&lt;int&gt;</th><th scope=col>&lt;int&gt;</th><th scope=col>&lt;int&gt;</th><th scope=col>&lt;int&gt;</th></tr>\n",
       "</thead>\n",
       "<tbody>\n",
       "\t<tr><td>s__0-14-0-10-38-17_sp002774085</td><td>0</td><td>0</td><td>0</td><td>1</td><td>0</td><td>0</td><td>0</td><td>0</td><td>0</td><td>⋯</td><td>0</td><td>0</td><td>0</td><td>0</td><td>0</td><td>0</td><td>0</td><td>0</td><td>0</td><td>0</td></tr>\n",
       "\t<tr><td>s__0-14-0-20-30-16_sp002779075</td><td>0</td><td>0</td><td>0</td><td>0</td><td>1</td><td>1</td><td>1</td><td>0</td><td>0</td><td>⋯</td><td>0</td><td>0</td><td>5</td><td>1</td><td>0</td><td>0</td><td>0</td><td>0</td><td>0</td><td>0</td></tr>\n",
       "\t<tr><td>⋮</td><td>⋮</td><td>⋮</td><td>⋮</td><td>⋮</td><td>⋮</td><td>⋮</td><td>⋮</td><td>⋮</td><td>⋮</td><td>⋱</td><td>⋮</td><td>⋮</td><td>⋮</td><td>⋮</td><td>⋮</td><td>⋮</td><td>⋮</td><td>⋮</td><td>⋮</td><td>⋮</td></tr>\n",
       "\t<tr><td>s__2-02-FULL-45-21_sp001805845</td><td>0</td><td>0</td><td>0</td><td>0</td><td>0</td><td>0</td><td>0</td><td>0</td><td>0</td><td>⋯</td><td>0</td><td>0</td><td>0</td><td>0</td><td>0</td><td>0</td><td>0</td><td>0</td><td>0</td><td>0</td></tr>\n",
       "\t<tr><td>s__UBA9959_sp001799795        </td><td>0</td><td>0</td><td>0</td><td>0</td><td>0</td><td>0</td><td>0</td><td>0</td><td>0</td><td>⋯</td><td>0</td><td>0</td><td>0</td><td>0</td><td>0</td><td>0</td><td>0</td><td>0</td><td>0</td><td>0</td></tr>\n",
       "</tbody>\n",
       "</table>\n"
      ],
      "text/latex": [
       "A data.table: 23360 × 26\n",
       "\\begin{tabular}{lllllllllllllllllllll}\n",
       " Taxon & A & B & C & D & E & F & G & H & I & ⋯ & P & Q & R & S & T & U & V & W & X & Z\\\\\n",
       " <chr> & <int> & <int> & <int> & <int> & <int> & <int> & <int> & <int> & <int> & ⋯ & <int> & <int> & <int> & <int> & <int> & <int> & <int> & <int> & <int> & <int>\\\\\n",
       "\\hline\n",
       "\t s\\_\\_0-14-0-10-38-17\\_sp002774085 & 0 & 0 & 0 & 1 & 0 & 0 & 0 & 0 & 0 & ⋯ & 0 & 0 & 0 & 0 & 0 & 0 & 0 & 0 & 0 & 0\\\\\n",
       "\t s\\_\\_0-14-0-20-30-16\\_sp002779075 & 0 & 0 & 0 & 0 & 1 & 1 & 1 & 0 & 0 & ⋯ & 0 & 0 & 5 & 1 & 0 & 0 & 0 & 0 & 0 & 0\\\\\n",
       "\t ⋮ & ⋮ & ⋮ & ⋮ & ⋮ & ⋮ & ⋮ & ⋮ & ⋮ & ⋮ & ⋱ & ⋮ & ⋮ & ⋮ & ⋮ & ⋮ & ⋮ & ⋮ & ⋮ & ⋮ & ⋮\\\\\n",
       "\t s\\_\\_2-02-FULL-45-21\\_sp001805845 & 0 & 0 & 0 & 0 & 0 & 0 & 0 & 0 & 0 & ⋯ & 0 & 0 & 0 & 0 & 0 & 0 & 0 & 0 & 0 & 0\\\\\n",
       "\t s\\_\\_UBA9959\\_sp001799795         & 0 & 0 & 0 & 0 & 0 & 0 & 0 & 0 & 0 & ⋯ & 0 & 0 & 0 & 0 & 0 & 0 & 0 & 0 & 0 & 0\\\\\n",
       "\\end{tabular}\n"
      ],
      "text/markdown": [
       "\n",
       "A data.table: 23360 × 26\n",
       "\n",
       "| Taxon &lt;chr&gt; | A &lt;int&gt; | B &lt;int&gt; | C &lt;int&gt; | D &lt;int&gt; | E &lt;int&gt; | F &lt;int&gt; | G &lt;int&gt; | H &lt;int&gt; | I &lt;int&gt; | ⋯ ⋯ | P &lt;int&gt; | Q &lt;int&gt; | R &lt;int&gt; | S &lt;int&gt; | T &lt;int&gt; | U &lt;int&gt; | V &lt;int&gt; | W &lt;int&gt; | X &lt;int&gt; | Z &lt;int&gt; |\n",
       "|---|---|---|---|---|---|---|---|---|---|---|---|---|---|---|---|---|---|---|---|---|\n",
       "| s__0-14-0-10-38-17_sp002774085 | 0 | 0 | 0 | 1 | 0 | 0 | 0 | 0 | 0 | ⋯ | 0 | 0 | 0 | 0 | 0 | 0 | 0 | 0 | 0 | 0 |\n",
       "| s__0-14-0-20-30-16_sp002779075 | 0 | 0 | 0 | 0 | 1 | 1 | 1 | 0 | 0 | ⋯ | 0 | 0 | 5 | 1 | 0 | 0 | 0 | 0 | 0 | 0 |\n",
       "| ⋮ | ⋮ | ⋮ | ⋮ | ⋮ | ⋮ | ⋮ | ⋮ | ⋮ | ⋮ | ⋱ | ⋮ | ⋮ | ⋮ | ⋮ | ⋮ | ⋮ | ⋮ | ⋮ | ⋮ | ⋮ |\n",
       "| s__2-02-FULL-45-21_sp001805845 | 0 | 0 | 0 | 0 | 0 | 0 | 0 | 0 | 0 | ⋯ | 0 | 0 | 0 | 0 | 0 | 0 | 0 | 0 | 0 | 0 |\n",
       "| s__UBA9959_sp001799795         | 0 | 0 | 0 | 0 | 0 | 0 | 0 | 0 | 0 | ⋯ | 0 | 0 | 0 | 0 | 0 | 0 | 0 | 0 | 0 | 0 |\n",
       "\n"
      ],
      "text/plain": [
       "      Taxon                          A B C D E F G H I ⋯ P Q R S T U V W X Z\n",
       "1     s__0-14-0-10-38-17_sp002774085 0 0 0 1 0 0 0 0 0 ⋯ 0 0 0 0 0 0 0 0 0 0\n",
       "2     s__0-14-0-20-30-16_sp002779075 0 0 0 0 1 1 1 0 0 ⋯ 0 0 5 1 0 0 0 0 0 0\n",
       "⋮     ⋮                              ⋮ ⋮ ⋮ ⋮ ⋮ ⋮ ⋮ ⋮ ⋮ ⋱ ⋮ ⋮ ⋮ ⋮ ⋮ ⋮ ⋮ ⋮ ⋮ ⋮\n",
       "23359 s__2-02-FULL-45-21_sp001805845 0 0 0 0 0 0 0 0 0 ⋯ 0 0 0 0 0 0 0 0 0 0\n",
       "23360 s__UBA9959_sp001799795         0 0 0 0 0 0 0 0 0 ⋯ 0 0 0 0 0 0 0 0 0 0"
      ]
     },
     "metadata": {},
     "output_type": "display_data"
    }
   ],
   "source": [
    "# COG categories\n",
    "cog = fread(cog_file, sep='\\t')\n",
    "cog"
   ]
  },
  {
   "cell_type": "markdown",
   "metadata": {},
   "source": [
    "# Formatting"
   ]
  },
  {
   "cell_type": "markdown",
   "metadata": {},
   "source": [
    "## Subsampling\n",
    "\n",
    "* To speed up calculations"
   ]
  },
  {
   "cell_type": "code",
   "execution_count": 69,
   "metadata": {
    "ExecuteTime": {
     "end_time": "2021-10-31T08:25:07.538595Z",
     "start_time": "2021-10-31T08:24:54.322Z"
    }
   },
   "outputs": [
    {
     "data": {
      "text/plain": [
       ".\n",
       "     healthy hypertension \n",
       "          21           79 "
      ]
     },
     "metadata": {},
     "output_type": "display_data"
    },
    {
     "data": {
      "text/html": [
       "<table class=\"dataframe\">\n",
       "<caption>A data.frame: 100 × 9</caption>\n",
       "<thead>\n",
       "\t<tr><th scope=col>Sample</th><th scope=col>dataset_name</th><th scope=col>subjectID</th><th scope=col>study_condition</th><th scope=col>disease</th><th scope=col>age</th><th scope=col>gender</th><th scope=col>BMI</th><th scope=col>westernized</th></tr>\n",
       "\t<tr><th scope=col>&lt;chr&gt;</th><th scope=col>&lt;chr&gt;</th><th scope=col>&lt;chr&gt;</th><th scope=col>&lt;chr&gt;</th><th scope=col>&lt;chr&gt;</th><th scope=col>&lt;int&gt;</th><th scope=col>&lt;chr&gt;</th><th scope=col>&lt;dbl&gt;</th><th scope=col>&lt;lgl&gt;</th></tr>\n",
       "</thead>\n",
       "<tbody>\n",
       "\t<tr><td>H1F512951</td><td>LiJ_2017</td><td>H1F512951</td><td>hypertension    </td><td>hypertension</td><td>NA</td><td></td><td>NA</td><td>TRUE</td></tr>\n",
       "\t<tr><td>H1F513817</td><td>LiJ_2017</td><td>H1F513817</td><td>pre-hypertension</td><td>hypertension</td><td>NA</td><td></td><td>NA</td><td>TRUE</td></tr>\n",
       "\t<tr><td>⋮</td><td>⋮</td><td>⋮</td><td>⋮</td><td>⋮</td><td>⋮</td><td>⋮</td><td>⋮</td><td>⋮</td></tr>\n",
       "\t<tr><td>nHM612836</td><td>LiJ_2017</td><td>nHM612836</td><td>pre-hypertension</td><td>hypertension</td><td>NA</td><td></td><td>NA</td><td>TRUE</td></tr>\n",
       "\t<tr><td>nHMX11726</td><td>LiJ_2017</td><td>nHMX11726</td><td>control         </td><td>healthy     </td><td>NA</td><td></td><td>NA</td><td>TRUE</td></tr>\n",
       "</tbody>\n",
       "</table>\n"
      ],
      "text/latex": [
       "A data.frame: 100 × 9\n",
       "\\begin{tabular}{lllllllll}\n",
       " Sample & dataset\\_name & subjectID & study\\_condition & disease & age & gender & BMI & westernized\\\\\n",
       " <chr> & <chr> & <chr> & <chr> & <chr> & <int> & <chr> & <dbl> & <lgl>\\\\\n",
       "\\hline\n",
       "\t H1F512951 & LiJ\\_2017 & H1F512951 & hypertension     & hypertension & NA &  & NA & TRUE\\\\\n",
       "\t H1F513817 & LiJ\\_2017 & H1F513817 & pre-hypertension & hypertension & NA &  & NA & TRUE\\\\\n",
       "\t ⋮ & ⋮ & ⋮ & ⋮ & ⋮ & ⋮ & ⋮ & ⋮ & ⋮\\\\\n",
       "\t nHM612836 & LiJ\\_2017 & nHM612836 & pre-hypertension & hypertension & NA &  & NA & TRUE\\\\\n",
       "\t nHMX11726 & LiJ\\_2017 & nHMX11726 & control          & healthy      & NA &  & NA & TRUE\\\\\n",
       "\\end{tabular}\n"
      ],
      "text/markdown": [
       "\n",
       "A data.frame: 100 × 9\n",
       "\n",
       "| Sample &lt;chr&gt; | dataset_name &lt;chr&gt; | subjectID &lt;chr&gt; | study_condition &lt;chr&gt; | disease &lt;chr&gt; | age &lt;int&gt; | gender &lt;chr&gt; | BMI &lt;dbl&gt; | westernized &lt;lgl&gt; |\n",
       "|---|---|---|---|---|---|---|---|---|\n",
       "| H1F512951 | LiJ_2017 | H1F512951 | hypertension     | hypertension | NA | <!----> | NA | TRUE |\n",
       "| H1F513817 | LiJ_2017 | H1F513817 | pre-hypertension | hypertension | NA | <!----> | NA | TRUE |\n",
       "| ⋮ | ⋮ | ⋮ | ⋮ | ⋮ | ⋮ | ⋮ | ⋮ | ⋮ |\n",
       "| nHM612836 | LiJ_2017 | nHM612836 | pre-hypertension | hypertension | NA | <!----> | NA | TRUE |\n",
       "| nHMX11726 | LiJ_2017 | nHMX11726 | control          | healthy      | NA | <!----> | NA | TRUE |\n",
       "\n"
      ],
      "text/plain": [
       "    Sample    dataset_name subjectID study_condition  disease      age gender\n",
       "1   H1F512951 LiJ_2017     H1F512951 hypertension     hypertension NA        \n",
       "2   H1F513817 LiJ_2017     H1F513817 pre-hypertension hypertension NA        \n",
       "⋮   ⋮         ⋮            ⋮         ⋮                ⋮            ⋮   ⋮     \n",
       "99  nHM612836 LiJ_2017     nHM612836 pre-hypertension hypertension NA        \n",
       "100 nHMX11726 LiJ_2017     nHMX11726 control          healthy      NA        \n",
       "    BMI westernized\n",
       "1   NA  TRUE       \n",
       "2   NA  TRUE       \n",
       "⋮   ⋮   ⋮          \n",
       "99  NA  TRUE       \n",
       "100 NA  TRUE       "
      ]
     },
     "metadata": {},
     "output_type": "display_data"
    }
   ],
   "source": [
    "# filtering by metadata\n",
    "meta_f = meta %>%\n",
    "    filter(dataset_name == 'LiJ_2017') %>%\n",
    "    mutate(X = sample(1:length(Sample), length(Sample))) %>%\n",
    "    filter(X <= 100) %>%\n",
    "    select(-X)\n",
    "meta_f$disease %>% table\n",
    "meta_f"
   ]
  },
  {
   "cell_type": "code",
   "execution_count": 70,
   "metadata": {
    "ExecuteTime": {
     "end_time": "2021-10-31T08:25:07.745605Z",
     "start_time": "2021-10-31T08:24:54.325Z"
    }
   },
   "outputs": [
    {
     "data": {
      "text/html": [
       "<table class=\"dataframe\">\n",
       "<caption>A tidytable: 152000 × 13</caption>\n",
       "<thead>\n",
       "\t<tr><th scope=col>dataset</th><th scope=col>name</th><th scope=col>taxonomy_id</th><th scope=col>taxonomy_lvl</th><th scope=col>Domain</th><th scope=col>Phylum</th><th scope=col>Class</th><th scope=col>Order</th><th scope=col>Family</th><th scope=col>Genus</th><th scope=col>Species</th><th scope=col>Sample</th><th scope=col>Abundance</th></tr>\n",
       "\t<tr><th scope=col>&lt;chr&gt;</th><th scope=col>&lt;chr&gt;</th><th scope=col>&lt;int&gt;</th><th scope=col>&lt;chr&gt;</th><th scope=col>&lt;chr&gt;</th><th scope=col>&lt;chr&gt;</th><th scope=col>&lt;chr&gt;</th><th scope=col>&lt;chr&gt;</th><th scope=col>&lt;chr&gt;</th><th scope=col>&lt;chr&gt;</th><th scope=col>&lt;chr&gt;</th><th scope=col>&lt;chr&gt;</th><th scope=col>&lt;dbl&gt;</th></tr>\n",
       "</thead>\n",
       "<tbody>\n",
       "\t<tr><td>LiJ_2017</td><td>s__Pectobacterium_sp003028395</td><td>182040</td><td>S</td><td>Bacteria</td><td>Proteobacteria</td><td>Gammaproteobacteria</td><td>Enterobacterales</td><td>Enterobacteriaceae</td><td>Pectobacterium</td><td>Pectobacterium sp003028395</td><td>H1F512951</td><td>0</td></tr>\n",
       "\t<tr><td>LiJ_2017</td><td>s__Prevotella_salivae        </td><td>141981</td><td>S</td><td>Bacteria</td><td>Bacteroidota  </td><td>Bacteroidia        </td><td>Bacteroidales   </td><td>Bacteroidaceae    </td><td>Prevotella    </td><td>Prevotella salivae        </td><td>H1F512951</td><td>0</td></tr>\n",
       "\t<tr><td>⋮</td><td>⋮</td><td>⋮</td><td>⋮</td><td>⋮</td><td>⋮</td><td>⋮</td><td>⋮</td><td>⋮</td><td>⋮</td><td>⋮</td><td>⋮</td><td>⋮</td></tr>\n",
       "\t<tr><td>LiJ_2017</td><td>s__Prevotella_sp900316985</td><td>141509</td><td>S</td><td>Bacteria</td><td>Bacteroidota</td><td>Bacteroidia</td><td>Bacteroidales    </td><td>Bacteroidaceae</td><td>Prevotella</td><td>Prevotella sp900316985</td><td>nHMX11726</td><td>0</td></tr>\n",
       "\t<tr><td>LiJ_2017</td><td>s__CAG-307_sp001916215   </td><td>128632</td><td>S</td><td>Bacteria</td><td>Firmicutes  </td><td>Bacilli    </td><td>Acholeplasmatales</td><td>CAG-307       </td><td>CAG-307   </td><td>CAG-307 sp001916215   </td><td>nHMX11726</td><td>0</td></tr>\n",
       "</tbody>\n",
       "</table>\n"
      ],
      "text/latex": [
       "A tidytable: 152000 × 13\n",
       "\\begin{tabular}{lllllllllllll}\n",
       " dataset & name & taxonomy\\_id & taxonomy\\_lvl & Domain & Phylum & Class & Order & Family & Genus & Species & Sample & Abundance\\\\\n",
       " <chr> & <chr> & <int> & <chr> & <chr> & <chr> & <chr> & <chr> & <chr> & <chr> & <chr> & <chr> & <dbl>\\\\\n",
       "\\hline\n",
       "\t LiJ\\_2017 & s\\_\\_Pectobacterium\\_sp003028395 & 182040 & S & Bacteria & Proteobacteria & Gammaproteobacteria & Enterobacterales & Enterobacteriaceae & Pectobacterium & Pectobacterium sp003028395 & H1F512951 & 0\\\\\n",
       "\t LiJ\\_2017 & s\\_\\_Prevotella\\_salivae         & 141981 & S & Bacteria & Bacteroidota   & Bacteroidia         & Bacteroidales    & Bacteroidaceae     & Prevotella     & Prevotella salivae         & H1F512951 & 0\\\\\n",
       "\t ⋮ & ⋮ & ⋮ & ⋮ & ⋮ & ⋮ & ⋮ & ⋮ & ⋮ & ⋮ & ⋮ & ⋮ & ⋮\\\\\n",
       "\t LiJ\\_2017 & s\\_\\_Prevotella\\_sp900316985 & 141509 & S & Bacteria & Bacteroidota & Bacteroidia & Bacteroidales     & Bacteroidaceae & Prevotella & Prevotella sp900316985 & nHMX11726 & 0\\\\\n",
       "\t LiJ\\_2017 & s\\_\\_CAG-307\\_sp001916215    & 128632 & S & Bacteria & Firmicutes   & Bacilli     & Acholeplasmatales & CAG-307        & CAG-307    & CAG-307 sp001916215    & nHMX11726 & 0\\\\\n",
       "\\end{tabular}\n"
      ],
      "text/markdown": [
       "\n",
       "A tidytable: 152000 × 13\n",
       "\n",
       "| dataset &lt;chr&gt; | name &lt;chr&gt; | taxonomy_id &lt;int&gt; | taxonomy_lvl &lt;chr&gt; | Domain &lt;chr&gt; | Phylum &lt;chr&gt; | Class &lt;chr&gt; | Order &lt;chr&gt; | Family &lt;chr&gt; | Genus &lt;chr&gt; | Species &lt;chr&gt; | Sample &lt;chr&gt; | Abundance &lt;dbl&gt; |\n",
       "|---|---|---|---|---|---|---|---|---|---|---|---|---|\n",
       "| LiJ_2017 | s__Pectobacterium_sp003028395 | 182040 | S | Bacteria | Proteobacteria | Gammaproteobacteria | Enterobacterales | Enterobacteriaceae | Pectobacterium | Pectobacterium sp003028395 | H1F512951 | 0 |\n",
       "| LiJ_2017 | s__Prevotella_salivae         | 141981 | S | Bacteria | Bacteroidota   | Bacteroidia         | Bacteroidales    | Bacteroidaceae     | Prevotella     | Prevotella salivae         | H1F512951 | 0 |\n",
       "| ⋮ | ⋮ | ⋮ | ⋮ | ⋮ | ⋮ | ⋮ | ⋮ | ⋮ | ⋮ | ⋮ | ⋮ | ⋮ |\n",
       "| LiJ_2017 | s__Prevotella_sp900316985 | 141509 | S | Bacteria | Bacteroidota | Bacteroidia | Bacteroidales     | Bacteroidaceae | Prevotella | Prevotella sp900316985 | nHMX11726 | 0 |\n",
       "| LiJ_2017 | s__CAG-307_sp001916215    | 128632 | S | Bacteria | Firmicutes   | Bacilli     | Acholeplasmatales | CAG-307        | CAG-307    | CAG-307 sp001916215    | nHMX11726 | 0 |\n",
       "\n"
      ],
      "text/plain": [
       "       dataset  name                          taxonomy_id taxonomy_lvl Domain  \n",
       "1      LiJ_2017 s__Pectobacterium_sp003028395 182040      S            Bacteria\n",
       "2      LiJ_2017 s__Prevotella_salivae         141981      S            Bacteria\n",
       "⋮      ⋮        ⋮                             ⋮           ⋮            ⋮       \n",
       "151999 LiJ_2017 s__Prevotella_sp900316985     141509      S            Bacteria\n",
       "152000 LiJ_2017 s__CAG-307_sp001916215        128632      S            Bacteria\n",
       "       Phylum         Class               Order             Family            \n",
       "1      Proteobacteria Gammaproteobacteria Enterobacterales  Enterobacteriaceae\n",
       "2      Bacteroidota   Bacteroidia         Bacteroidales     Bacteroidaceae    \n",
       "⋮      ⋮              ⋮                   ⋮                 ⋮                 \n",
       "151999 Bacteroidota   Bacteroidia         Bacteroidales     Bacteroidaceae    \n",
       "152000 Firmicutes     Bacilli             Acholeplasmatales CAG-307           \n",
       "       Genus          Species                    Sample    Abundance\n",
       "1      Pectobacterium Pectobacterium sp003028395 H1F512951 0        \n",
       "2      Prevotella     Prevotella salivae         H1F512951 0        \n",
       "⋮      ⋮              ⋮                          ⋮         ⋮        \n",
       "151999 Prevotella     Prevotella sp900316985     nHMX11726 0        \n",
       "152000 CAG-307        CAG-307 sp001916215        nHMX11726 0        "
      ]
     },
     "metadata": {},
     "output_type": "display_data"
    }
   ],
   "source": [
    "# filtering count table\n",
    "brk_f = brk %>%\n",
    "    semi_join(meta_f, c('Sample'))\n",
    "brk_f"
   ]
  },
  {
   "cell_type": "code",
   "execution_count": 71,
   "metadata": {
    "ExecuteTime": {
     "end_time": "2021-10-31T08:25:07.883460Z",
     "start_time": "2021-10-31T08:24:54.327Z"
    }
   },
   "outputs": [
    {
     "data": {
      "text/html": [
       "1520"
      ],
      "text/latex": [
       "1520"
      ],
      "text/markdown": [
       "1520"
      ],
      "text/plain": [
       "[1] 1520"
      ]
     },
     "metadata": {},
     "output_type": "display_data"
    },
    {
     "data": {
      "text/html": [
       "0"
      ],
      "text/latex": [
       "0"
      ],
      "text/markdown": [
       "0"
      ],
      "text/plain": [
       "[1] 0"
      ]
     },
     "metadata": {},
     "output_type": "display_data"
    }
   ],
   "source": [
    "# checking for missing\n",
    "setdiff(brk_f$name, genome_meta$taxon) %>% unique %>% length \n",
    "intersect(brk_f$name, genome_meta$taxon) %>% unique %>% length "
   ]
  },
  {
   "cell_type": "code",
   "execution_count": 72,
   "metadata": {
    "ExecuteTime": {
     "end_time": "2021-10-31T08:25:08.950877Z",
     "start_time": "2021-10-31T08:24:54.330Z"
    }
   },
   "outputs": [
    {
     "data": {
      "text/html": [
       "<table class=\"dataframe\">\n",
       "<caption>A data.frame: 100 × 1520</caption>\n",
       "<thead>\n",
       "\t<tr><th></th><th scope=col>s__Pectobacterium_sp003028395</th><th scope=col>s__Prevotella_salivae</th><th scope=col>s__Eubacterium_F_sp002431395</th><th scope=col>s__Prevotella_sp002353485</th><th scope=col>s__CAG-269_sp000435535</th><th scope=col>s__Mucilaginibacter_oryzae</th><th scope=col>s__Pauljensenia_sp000411415</th><th scope=col>s__Bacteroides_A_ilei</th><th scope=col>s__Lawsonibacter_sp900066645</th><th scope=col>s__Blautia_sp001304935</th><th scope=col>⋯</th><th scope=col>s__Psychrobacter_cibarius</th><th scope=col>s__Pseudocitrobacter_sp000330845</th><th scope=col>s__Phascolarctobacterium_faecium</th><th scope=col>s__Flavonifractor_sp002159455</th><th scope=col>s__Prevotella_intermedia</th><th scope=col>s__Bacteroides_B_dorei</th><th scope=col>s__Clostridium_AG_cavendishii</th><th scope=col>s__Lancefieldella_parvula</th><th scope=col>s__Prevotella_sp900316985</th><th scope=col>s__CAG-307_sp001916215</th></tr>\n",
       "\t<tr><th></th><th scope=col>&lt;dbl&gt;</th><th scope=col>&lt;dbl&gt;</th><th scope=col>&lt;dbl&gt;</th><th scope=col>&lt;dbl&gt;</th><th scope=col>&lt;dbl&gt;</th><th scope=col>&lt;dbl&gt;</th><th scope=col>&lt;dbl&gt;</th><th scope=col>&lt;dbl&gt;</th><th scope=col>&lt;dbl&gt;</th><th scope=col>&lt;dbl&gt;</th><th scope=col>⋯</th><th scope=col>&lt;dbl&gt;</th><th scope=col>&lt;dbl&gt;</th><th scope=col>&lt;dbl&gt;</th><th scope=col>&lt;dbl&gt;</th><th scope=col>&lt;dbl&gt;</th><th scope=col>&lt;dbl&gt;</th><th scope=col>&lt;dbl&gt;</th><th scope=col>&lt;dbl&gt;</th><th scope=col>&lt;dbl&gt;</th><th scope=col>&lt;dbl&gt;</th></tr>\n",
       "</thead>\n",
       "<tbody>\n",
       "\t<tr><th scope=row>H1F512951</th><td>0</td><td>0</td><td>0</td><td>0</td><td>0</td><td>0</td><td>0</td><td>0.00000</td><td>0</td><td>0</td><td>⋯</td><td>0</td><td>0</td><td>0.00039</td><td>0</td><td>0</td><td>0.00073</td><td>0</td><td>0</td><td>0</td><td>0</td></tr>\n",
       "\t<tr><th scope=row>H1F513817</th><td>0</td><td>0</td><td>0</td><td>0</td><td>0</td><td>0</td><td>0</td><td>0.00111</td><td>0</td><td>0</td><td>⋯</td><td>0</td><td>0</td><td>0.01076</td><td>0</td><td>0</td><td>0.14035</td><td>0</td><td>0</td><td>0</td><td>0</td></tr>\n",
       "\t<tr><th scope=row>⋮</th><td>⋮</td><td>⋮</td><td>⋮</td><td>⋮</td><td>⋮</td><td>⋮</td><td>⋮</td><td>⋮</td><td>⋮</td><td>⋮</td><td>⋱</td><td>⋮</td><td>⋮</td><td>⋮</td><td>⋮</td><td>⋮</td><td>⋮</td><td>⋮</td><td>⋮</td><td>⋮</td><td>⋮</td></tr>\n",
       "\t<tr><th scope=row>nHM612836</th><td>0</td><td>0</td><td>0</td><td>0</td><td>0</td><td>0</td><td>0</td><td>2e-04</td><td>0.00142</td><td>0</td><td>⋯</td><td>0</td><td>0.00013</td><td>0.00564</td><td>0</td><td>0</td><td>0.00295</td><td>0</td><td>0</td><td>0</td><td>0</td></tr>\n",
       "\t<tr><th scope=row>nHMX11726</th><td>0</td><td>0</td><td>0</td><td>0</td><td>0</td><td>0</td><td>0</td><td>0e+00</td><td>0.00043</td><td>0</td><td>⋯</td><td>0</td><td>0.00000</td><td>0.00252</td><td>0</td><td>0</td><td>0.00426</td><td>0</td><td>0</td><td>0</td><td>0</td></tr>\n",
       "</tbody>\n",
       "</table>\n"
      ],
      "text/latex": [
       "A data.frame: 100 × 1520\n",
       "\\begin{tabular}{r|lllllllllllllllllllll}\n",
       "  & s\\_\\_Pectobacterium\\_sp003028395 & s\\_\\_Prevotella\\_salivae & s\\_\\_Eubacterium\\_F\\_sp002431395 & s\\_\\_Prevotella\\_sp002353485 & s\\_\\_CAG-269\\_sp000435535 & s\\_\\_Mucilaginibacter\\_oryzae & s\\_\\_Pauljensenia\\_sp000411415 & s\\_\\_Bacteroides\\_A\\_ilei & s\\_\\_Lawsonibacter\\_sp900066645 & s\\_\\_Blautia\\_sp001304935 & ⋯ & s\\_\\_Psychrobacter\\_cibarius & s\\_\\_Pseudocitrobacter\\_sp000330845 & s\\_\\_Phascolarctobacterium\\_faecium & s\\_\\_Flavonifractor\\_sp002159455 & s\\_\\_Prevotella\\_intermedia & s\\_\\_Bacteroides\\_B\\_dorei & s\\_\\_Clostridium\\_AG\\_cavendishii & s\\_\\_Lancefieldella\\_parvula & s\\_\\_Prevotella\\_sp900316985 & s\\_\\_CAG-307\\_sp001916215\\\\\n",
       "  & <dbl> & <dbl> & <dbl> & <dbl> & <dbl> & <dbl> & <dbl> & <dbl> & <dbl> & <dbl> & ⋯ & <dbl> & <dbl> & <dbl> & <dbl> & <dbl> & <dbl> & <dbl> & <dbl> & <dbl> & <dbl>\\\\\n",
       "\\hline\n",
       "\tH1F512951 & 0 & 0 & 0 & 0 & 0 & 0 & 0 & 0.00000 & 0 & 0 & ⋯ & 0 & 0 & 0.00039 & 0 & 0 & 0.00073 & 0 & 0 & 0 & 0\\\\\n",
       "\tH1F513817 & 0 & 0 & 0 & 0 & 0 & 0 & 0 & 0.00111 & 0 & 0 & ⋯ & 0 & 0 & 0.01076 & 0 & 0 & 0.14035 & 0 & 0 & 0 & 0\\\\\n",
       "\t⋮ & ⋮ & ⋮ & ⋮ & ⋮ & ⋮ & ⋮ & ⋮ & ⋮ & ⋮ & ⋮ & ⋱ & ⋮ & ⋮ & ⋮ & ⋮ & ⋮ & ⋮ & ⋮ & ⋮ & ⋮ & ⋮\\\\\n",
       "\tnHM612836 & 0 & 0 & 0 & 0 & 0 & 0 & 0 & 2e-04 & 0.00142 & 0 & ⋯ & 0 & 0.00013 & 0.00564 & 0 & 0 & 0.00295 & 0 & 0 & 0 & 0\\\\\n",
       "\tnHMX11726 & 0 & 0 & 0 & 0 & 0 & 0 & 0 & 0e+00 & 0.00043 & 0 & ⋯ & 0 & 0.00000 & 0.00252 & 0 & 0 & 0.00426 & 0 & 0 & 0 & 0\\\\\n",
       "\\end{tabular}\n"
      ],
      "text/markdown": [
       "\n",
       "A data.frame: 100 × 1520\n",
       "\n",
       "| <!--/--> | s__Pectobacterium_sp003028395 &lt;dbl&gt; | s__Prevotella_salivae &lt;dbl&gt; | s__Eubacterium_F_sp002431395 &lt;dbl&gt; | s__Prevotella_sp002353485 &lt;dbl&gt; | s__CAG-269_sp000435535 &lt;dbl&gt; | s__Mucilaginibacter_oryzae &lt;dbl&gt; | s__Pauljensenia_sp000411415 &lt;dbl&gt; | s__Bacteroides_A_ilei &lt;dbl&gt; | s__Lawsonibacter_sp900066645 &lt;dbl&gt; | s__Blautia_sp001304935 &lt;dbl&gt; | ⋯ ⋯ | s__Psychrobacter_cibarius &lt;dbl&gt; | s__Pseudocitrobacter_sp000330845 &lt;dbl&gt; | s__Phascolarctobacterium_faecium &lt;dbl&gt; | s__Flavonifractor_sp002159455 &lt;dbl&gt; | s__Prevotella_intermedia &lt;dbl&gt; | s__Bacteroides_B_dorei &lt;dbl&gt; | s__Clostridium_AG_cavendishii &lt;dbl&gt; | s__Lancefieldella_parvula &lt;dbl&gt; | s__Prevotella_sp900316985 &lt;dbl&gt; | s__CAG-307_sp001916215 &lt;dbl&gt; |\n",
       "|---|---|---|---|---|---|---|---|---|---|---|---|---|---|---|---|---|---|---|---|---|---|\n",
       "| H1F512951 | 0 | 0 | 0 | 0 | 0 | 0 | 0 | 0.00000 | 0 | 0 | ⋯ | 0 | 0 | 0.00039 | 0 | 0 | 0.00073 | 0 | 0 | 0 | 0 |\n",
       "| H1F513817 | 0 | 0 | 0 | 0 | 0 | 0 | 0 | 0.00111 | 0 | 0 | ⋯ | 0 | 0 | 0.01076 | 0 | 0 | 0.14035 | 0 | 0 | 0 | 0 |\n",
       "| ⋮ | ⋮ | ⋮ | ⋮ | ⋮ | ⋮ | ⋮ | ⋮ | ⋮ | ⋮ | ⋮ | ⋱ | ⋮ | ⋮ | ⋮ | ⋮ | ⋮ | ⋮ | ⋮ | ⋮ | ⋮ | ⋮ |\n",
       "| nHM612836 | 0 | 0 | 0 | 0 | 0 | 0 | 0 | 2e-04 | 0.00142 | 0 | ⋯ | 0 | 0.00013 | 0.00564 | 0 | 0 | 0.00295 | 0 | 0 | 0 | 0 |\n",
       "| nHMX11726 | 0 | 0 | 0 | 0 | 0 | 0 | 0 | 0e+00 | 0.00043 | 0 | ⋯ | 0 | 0.00000 | 0.00252 | 0 | 0 | 0.00426 | 0 | 0 | 0 | 0 |\n",
       "\n"
      ],
      "text/plain": [
       "          s__Pectobacterium_sp003028395 s__Prevotella_salivae\n",
       "H1F512951 0                             0                    \n",
       "H1F513817 0                             0                    \n",
       "⋮         ⋮                             ⋮                    \n",
       "nHM612836 0                             0                    \n",
       "nHMX11726 0                             0                    \n",
       "          s__Eubacterium_F_sp002431395 s__Prevotella_sp002353485\n",
       "H1F512951 0                            0                        \n",
       "H1F513817 0                            0                        \n",
       "⋮         ⋮                            ⋮                        \n",
       "nHM612836 0                            0                        \n",
       "nHMX11726 0                            0                        \n",
       "          s__CAG-269_sp000435535 s__Mucilaginibacter_oryzae\n",
       "H1F512951 0                      0                         \n",
       "H1F513817 0                      0                         \n",
       "⋮         ⋮                      ⋮                         \n",
       "nHM612836 0                      0                         \n",
       "nHMX11726 0                      0                         \n",
       "          s__Pauljensenia_sp000411415 s__Bacteroides_A_ilei\n",
       "H1F512951 0                           0.00000              \n",
       "H1F513817 0                           0.00111              \n",
       "⋮         ⋮                           ⋮                    \n",
       "nHM612836 0                           2e-04                \n",
       "nHMX11726 0                           0e+00                \n",
       "          s__Lawsonibacter_sp900066645 s__Blautia_sp001304935 ⋯\n",
       "H1F512951 0                            0                      ⋯\n",
       "H1F513817 0                            0                      ⋯\n",
       "⋮         ⋮                            ⋮                      ⋱\n",
       "nHM612836 0.00142                      0                      ⋯\n",
       "nHMX11726 0.00043                      0                      ⋯\n",
       "          s__Psychrobacter_cibarius s__Pseudocitrobacter_sp000330845\n",
       "H1F512951 0                         0                               \n",
       "H1F513817 0                         0                               \n",
       "⋮         ⋮                         ⋮                               \n",
       "nHM612836 0                         0.00013                         \n",
       "nHMX11726 0                         0.00000                         \n",
       "          s__Phascolarctobacterium_faecium s__Flavonifractor_sp002159455\n",
       "H1F512951 0.00039                          0                            \n",
       "H1F513817 0.01076                          0                            \n",
       "⋮         ⋮                                ⋮                            \n",
       "nHM612836 0.00564                          0                            \n",
       "nHMX11726 0.00252                          0                            \n",
       "          s__Prevotella_intermedia s__Bacteroides_B_dorei\n",
       "H1F512951 0                        0.00073               \n",
       "H1F513817 0                        0.14035               \n",
       "⋮         ⋮                        ⋮                     \n",
       "nHM612836 0                        0.00295               \n",
       "nHMX11726 0                        0.00426               \n",
       "          s__Clostridium_AG_cavendishii s__Lancefieldella_parvula\n",
       "H1F512951 0                             0                        \n",
       "H1F513817 0                             0                        \n",
       "⋮         ⋮                             ⋮                        \n",
       "nHM612836 0                             0                        \n",
       "nHMX11726 0                             0                        \n",
       "          s__Prevotella_sp900316985 s__CAG-307_sp001916215\n",
       "H1F512951 0                         0                     \n",
       "H1F513817 0                         0                     \n",
       "⋮         ⋮                         ⋮                     \n",
       "nHM612836 0                         0                     \n",
       "nHMX11726 0                         0                     "
      ]
     },
     "metadata": {},
     "output_type": "display_data"
    }
   ],
   "source": [
    "# coverting counts table to wide matrix\n",
    "m = brk_f %>%\n",
    "    select(Sample, name, Abundance) %>%\n",
    "    mutate(name = gsub(' ', '_', name)) %>%\n",
    "    pivot_wider(names_from=name, values_from=Abundance) %>%\n",
    "    mutate(across(is.numeric, \n",
    "                  function(x) ifelse(is.na(x), 0, x))) %>%\n",
    "    as.data.frame\n",
    "rownames(m) = m$Sample\n",
    "m$Sample = NULL\n",
    "m"
   ]
  },
  {
   "cell_type": "markdown",
   "metadata": {},
   "source": [
    "# FD"
   ]
  },
  {
   "cell_type": "markdown",
   "metadata": {},
   "source": [
    "## Traits"
   ]
  },
  {
   "cell_type": "code",
   "execution_count": 99,
   "metadata": {
    "ExecuteTime": {
     "end_time": "2021-10-31T08:31:36.165980Z",
     "start_time": "2021-10-31T08:31:32.711Z"
    }
   },
   "outputs": [
    {
     "data": {
      "text/html": [
       "<table class=\"dataframe\">\n",
       "<caption>A data.table: 203412 × 13</caption>\n",
       "<thead>\n",
       "\t<tr><th scope=col>sample</th><th scope=col>phenotype</th><th scope=col>prediction</th><th scope=col>phenotype_model</th><th scope=col>ncbi_organism_name</th><th scope=col>GTDB_accession</th><th scope=col>Domain</th><th scope=col>Phylum</th><th scope=col>Class</th><th scope=col>Order</th><th scope=col>Family</th><th scope=col>Genus</th><th scope=col>Species</th></tr>\n",
       "\t<tr><th scope=col>&lt;chr&gt;</th><th scope=col>&lt;chr&gt;</th><th scope=col>&lt;int&gt;</th><th scope=col>&lt;chr&gt;</th><th scope=col>&lt;chr&gt;</th><th scope=col>&lt;chr&gt;</th><th scope=col>&lt;chr&gt;</th><th scope=col>&lt;chr&gt;</th><th scope=col>&lt;chr&gt;</th><th scope=col>&lt;chr&gt;</th><th scope=col>&lt;chr&gt;</th><th scope=col>&lt;chr&gt;</th><th scope=col>&lt;chr&gt;</th></tr>\n",
       "</thead>\n",
       "<tbody>\n",
       "\t<tr><td>GCA_000221185.1</td><td>Pyrrolidonyl-beta-naphthylamide</td><td>1</td><td>phypat    </td><td>RS_GCF_000221185.1_Thermococcus sp. 4557</td><td>RS_GCF_000221185.1</td><td>d__Archaea</td><td>p__Euryarchaeota</td><td>c__Thermococci</td><td>o__Thermococcales</td><td>f__Thermococcaceae</td><td>g__Thermococcus</td><td>s__Thermococcus_sp000221185</td></tr>\n",
       "\t<tr><td>GCA_000221185.1</td><td>Pyrrolidonyl-beta-naphthylamide</td><td>1</td><td>phypat+PGL</td><td>RS_GCF_000221185.1_Thermococcus sp. 4557</td><td>RS_GCF_000221185.1</td><td>d__Archaea</td><td>p__Euryarchaeota</td><td>c__Thermococci</td><td>o__Thermococcales</td><td>f__Thermococcaceae</td><td>g__Thermococcus</td><td>s__Thermococcus_sp000221185</td></tr>\n",
       "\t<tr><td>⋮</td><td>⋮</td><td>⋮</td><td>⋮</td><td>⋮</td><td>⋮</td><td>⋮</td><td>⋮</td><td>⋮</td><td>⋮</td><td>⋮</td><td>⋮</td><td>⋮</td></tr>\n",
       "\t<tr><td>GCA_003234965.1</td><td>Yellow pigment</td><td>0</td><td>phypat    </td><td>RS_GCF_003234965.1_Rhizobiales bacterium KCTC 52945</td><td>RS_GCF_003234965.1</td><td>d__Bacteria</td><td>p__Proteobacteria</td><td>c__Alphaproteobacteria</td><td>o__Rhizobiales</td><td>f__Anderseniellaceae</td><td>g__QKVK01</td><td>s__QKVK01_sp003234965</td></tr>\n",
       "\t<tr><td>GCA_003234965.1</td><td>Yellow pigment</td><td>0</td><td>phypat+PGL</td><td>RS_GCF_003234965.1_Rhizobiales bacterium KCTC 52945</td><td>RS_GCF_003234965.1</td><td>d__Bacteria</td><td>p__Proteobacteria</td><td>c__Alphaproteobacteria</td><td>o__Rhizobiales</td><td>f__Anderseniellaceae</td><td>g__QKVK01</td><td>s__QKVK01_sp003234965</td></tr>\n",
       "</tbody>\n",
       "</table>\n"
      ],
      "text/latex": [
       "A data.table: 203412 × 13\n",
       "\\begin{tabular}{lllllllllllll}\n",
       " sample & phenotype & prediction & phenotype\\_model & ncbi\\_organism\\_name & GTDB\\_accession & Domain & Phylum & Class & Order & Family & Genus & Species\\\\\n",
       " <chr> & <chr> & <int> & <chr> & <chr> & <chr> & <chr> & <chr> & <chr> & <chr> & <chr> & <chr> & <chr>\\\\\n",
       "\\hline\n",
       "\t GCA\\_000221185.1 & Pyrrolidonyl-beta-naphthylamide & 1 & phypat     & RS\\_GCF\\_000221185.1\\_Thermococcus sp. 4557 & RS\\_GCF\\_000221185.1 & d\\_\\_Archaea & p\\_\\_Euryarchaeota & c\\_\\_Thermococci & o\\_\\_Thermococcales & f\\_\\_Thermococcaceae & g\\_\\_Thermococcus & s\\_\\_Thermococcus\\_sp000221185\\\\\n",
       "\t GCA\\_000221185.1 & Pyrrolidonyl-beta-naphthylamide & 1 & phypat+PGL & RS\\_GCF\\_000221185.1\\_Thermococcus sp. 4557 & RS\\_GCF\\_000221185.1 & d\\_\\_Archaea & p\\_\\_Euryarchaeota & c\\_\\_Thermococci & o\\_\\_Thermococcales & f\\_\\_Thermococcaceae & g\\_\\_Thermococcus & s\\_\\_Thermococcus\\_sp000221185\\\\\n",
       "\t ⋮ & ⋮ & ⋮ & ⋮ & ⋮ & ⋮ & ⋮ & ⋮ & ⋮ & ⋮ & ⋮ & ⋮ & ⋮\\\\\n",
       "\t GCA\\_003234965.1 & Yellow pigment & 0 & phypat     & RS\\_GCF\\_003234965.1\\_Rhizobiales bacterium KCTC 52945 & RS\\_GCF\\_003234965.1 & d\\_\\_Bacteria & p\\_\\_Proteobacteria & c\\_\\_Alphaproteobacteria & o\\_\\_Rhizobiales & f\\_\\_Anderseniellaceae & g\\_\\_QKVK01 & s\\_\\_QKVK01\\_sp003234965\\\\\n",
       "\t GCA\\_003234965.1 & Yellow pigment & 0 & phypat+PGL & RS\\_GCF\\_003234965.1\\_Rhizobiales bacterium KCTC 52945 & RS\\_GCF\\_003234965.1 & d\\_\\_Bacteria & p\\_\\_Proteobacteria & c\\_\\_Alphaproteobacteria & o\\_\\_Rhizobiales & f\\_\\_Anderseniellaceae & g\\_\\_QKVK01 & s\\_\\_QKVK01\\_sp003234965\\\\\n",
       "\\end{tabular}\n"
      ],
      "text/markdown": [
       "\n",
       "A data.table: 203412 × 13\n",
       "\n",
       "| sample &lt;chr&gt; | phenotype &lt;chr&gt; | prediction &lt;int&gt; | phenotype_model &lt;chr&gt; | ncbi_organism_name &lt;chr&gt; | GTDB_accession &lt;chr&gt; | Domain &lt;chr&gt; | Phylum &lt;chr&gt; | Class &lt;chr&gt; | Order &lt;chr&gt; | Family &lt;chr&gt; | Genus &lt;chr&gt; | Species &lt;chr&gt; |\n",
       "|---|---|---|---|---|---|---|---|---|---|---|---|---|\n",
       "| GCA_000221185.1 | Pyrrolidonyl-beta-naphthylamide | 1 | phypat     | RS_GCF_000221185.1_Thermococcus sp. 4557 | RS_GCF_000221185.1 | d__Archaea | p__Euryarchaeota | c__Thermococci | o__Thermococcales | f__Thermococcaceae | g__Thermococcus | s__Thermococcus_sp000221185 |\n",
       "| GCA_000221185.1 | Pyrrolidonyl-beta-naphthylamide | 1 | phypat+PGL | RS_GCF_000221185.1_Thermococcus sp. 4557 | RS_GCF_000221185.1 | d__Archaea | p__Euryarchaeota | c__Thermococci | o__Thermococcales | f__Thermococcaceae | g__Thermococcus | s__Thermococcus_sp000221185 |\n",
       "| ⋮ | ⋮ | ⋮ | ⋮ | ⋮ | ⋮ | ⋮ | ⋮ | ⋮ | ⋮ | ⋮ | ⋮ | ⋮ |\n",
       "| GCA_003234965.1 | Yellow pigment | 0 | phypat     | RS_GCF_003234965.1_Rhizobiales bacterium KCTC 52945 | RS_GCF_003234965.1 | d__Bacteria | p__Proteobacteria | c__Alphaproteobacteria | o__Rhizobiales | f__Anderseniellaceae | g__QKVK01 | s__QKVK01_sp003234965 |\n",
       "| GCA_003234965.1 | Yellow pigment | 0 | phypat+PGL | RS_GCF_003234965.1_Rhizobiales bacterium KCTC 52945 | RS_GCF_003234965.1 | d__Bacteria | p__Proteobacteria | c__Alphaproteobacteria | o__Rhizobiales | f__Anderseniellaceae | g__QKVK01 | s__QKVK01_sp003234965 |\n",
       "\n"
      ],
      "text/plain": [
       "       sample          phenotype                       prediction\n",
       "1      GCA_000221185.1 Pyrrolidonyl-beta-naphthylamide 1         \n",
       "2      GCA_000221185.1 Pyrrolidonyl-beta-naphthylamide 1         \n",
       "⋮      ⋮               ⋮                               ⋮         \n",
       "203411 GCA_003234965.1 Yellow pigment                  0         \n",
       "203412 GCA_003234965.1 Yellow pigment                  0         \n",
       "       phenotype_model ncbi_organism_name                                 \n",
       "1      phypat          RS_GCF_000221185.1_Thermococcus sp. 4557           \n",
       "2      phypat+PGL      RS_GCF_000221185.1_Thermococcus sp. 4557           \n",
       "⋮      ⋮               ⋮                                                  \n",
       "203411 phypat          RS_GCF_003234965.1_Rhizobiales bacterium KCTC 52945\n",
       "203412 phypat+PGL      RS_GCF_003234965.1_Rhizobiales bacterium KCTC 52945\n",
       "       GTDB_accession     Domain      Phylum            Class                 \n",
       "1      RS_GCF_000221185.1 d__Archaea  p__Euryarchaeota  c__Thermococci        \n",
       "2      RS_GCF_000221185.1 d__Archaea  p__Euryarchaeota  c__Thermococci        \n",
       "⋮      ⋮                  ⋮           ⋮                 ⋮                     \n",
       "203411 RS_GCF_003234965.1 d__Bacteria p__Proteobacteria c__Alphaproteobacteria\n",
       "203412 RS_GCF_003234965.1 d__Bacteria p__Proteobacteria c__Alphaproteobacteria\n",
       "       Order             Family               Genus          \n",
       "1      o__Thermococcales f__Thermococcaceae   g__Thermococcus\n",
       "2      o__Thermococcales f__Thermococcaceae   g__Thermococcus\n",
       "⋮      ⋮                 ⋮                    ⋮              \n",
       "203411 o__Rhizobiales    f__Anderseniellaceae g__QKVK01      \n",
       "203412 o__Rhizobiales    f__Anderseniellaceae g__QKVK01      \n",
       "       Species                    \n",
       "1      s__Thermococcus_sp000221185\n",
       "2      s__Thermococcus_sp000221185\n",
       "⋮      ⋮                          \n",
       "203411 s__QKVK01_sp003234965      \n",
       "203412 s__QKVK01_sp003234965      "
      ]
     },
     "metadata": {},
     "output_type": "display_data"
    }
   ],
   "source": [
    "# filtering traits\n",
    "trt_f = trt %>%\n",
    "    inner_join(genome_meta, c('sample'='ncbi_genbank_assembly_accession')) %>%\n",
    "    mutate(Species = gsub(' ', '_', Species)) %>%\n",
    "    semi_join(brk_f, c('Species'='name')) \n",
    "trt_f"
   ]
  },
  {
   "cell_type": "code",
   "execution_count": 100,
   "metadata": {
    "ExecuteTime": {
     "end_time": "2021-10-31T08:31:36.296712Z",
     "start_time": "2021-10-31T08:31:32.829Z"
    }
   },
   "outputs": [
    {
     "data": {
      "text/html": [
       "<table class=\"dataframe\">\n",
       "<caption>A data.frame: 1518 × 67</caption>\n",
       "<thead>\n",
       "\t<tr><th></th><th scope=col>Pyrrolidonyl-beta-naphthylamide</th><th scope=col>Arginine dihydrolase</th><th scope=col>DNase</th><th scope=col>Bile-susceptible</th><th scope=col>Hydrogen sulfide</th><th scope=col>Malonate</th><th scope=col>Sucrose</th><th scope=col>Acetate utilization</th><th scope=col>Aerobe</th><th scope=col>Alkaline phosphatase</th><th scope=col>⋯</th><th scope=col>Oxidase</th><th scope=col>Raffinose</th><th scope=col>Salicin</th><th scope=col>Spore formation</th><th scope=col>Starch hydrolysis</th><th scope=col>Tartrate utilization</th><th scope=col>Trehalose</th><th scope=col>Urea hydrolysis</th><th scope=col>Voges Proskauer</th><th scope=col>Yellow pigment</th></tr>\n",
       "\t<tr><th></th><th scope=col>&lt;int&gt;</th><th scope=col>&lt;int&gt;</th><th scope=col>&lt;int&gt;</th><th scope=col>&lt;int&gt;</th><th scope=col>&lt;int&gt;</th><th scope=col>&lt;int&gt;</th><th scope=col>&lt;int&gt;</th><th scope=col>&lt;int&gt;</th><th scope=col>&lt;int&gt;</th><th scope=col>&lt;int&gt;</th><th scope=col>⋯</th><th scope=col>&lt;int&gt;</th><th scope=col>&lt;int&gt;</th><th scope=col>&lt;int&gt;</th><th scope=col>&lt;int&gt;</th><th scope=col>&lt;int&gt;</th><th scope=col>&lt;int&gt;</th><th scope=col>&lt;int&gt;</th><th scope=col>&lt;int&gt;</th><th scope=col>&lt;int&gt;</th><th scope=col>&lt;int&gt;</th></tr>\n",
       "</thead>\n",
       "<tbody>\n",
       "\t<tr><th scope=row>s__Thermococcus_sp000221185</th><td>1</td><td>1</td><td>1</td><td>1</td><td>1</td><td>1</td><td>1</td><td>0</td><td>0</td><td>0</td><td>⋯</td><td>0</td><td>0</td><td>0</td><td>0</td><td>0</td><td>0</td><td>0</td><td>0</td><td>0</td><td>0</td></tr>\n",
       "\t<tr><th scope=row>s__NBVN01_sp003056265</th><td>1</td><td>1</td><td>0</td><td>1</td><td>1</td><td>0</td><td>0</td><td>0</td><td>0</td><td>0</td><td>⋯</td><td>0</td><td>0</td><td>0</td><td>0</td><td>0</td><td>0</td><td>0</td><td>0</td><td>0</td><td>0</td></tr>\n",
       "\t<tr><th scope=row>⋮</th><td>⋮</td><td>⋮</td><td>⋮</td><td>⋮</td><td>⋮</td><td>⋮</td><td>⋮</td><td>⋮</td><td>⋮</td><td>⋮</td><td>⋱</td><td>⋮</td><td>⋮</td><td>⋮</td><td>⋮</td><td>⋮</td><td>⋮</td><td>⋮</td><td>⋮</td><td>⋮</td><td>⋮</td></tr>\n",
       "\t<tr><th scope=row>s__Crocosphaera_sp000169335</th><td>0</td><td>1</td><td>0</td><td>1</td><td>0</td><td>0</td><td>0</td><td>0</td><td>1</td><td>1</td><td>⋯</td><td>1</td><td>0</td><td>0</td><td>0</td><td>0</td><td>0</td><td>0</td><td>0</td><td>0</td><td>0</td></tr>\n",
       "\t<tr><th scope=row>s__QKVK01_sp003234965</th><td>0</td><td>1</td><td>0</td><td>1</td><td>0</td><td>1</td><td>0</td><td>1</td><td>1</td><td>1</td><td>⋯</td><td>1</td><td>0</td><td>0</td><td>0</td><td>0</td><td>0</td><td>0</td><td>1</td><td>1</td><td>0</td></tr>\n",
       "</tbody>\n",
       "</table>\n"
      ],
      "text/latex": [
       "A data.frame: 1518 × 67\n",
       "\\begin{tabular}{r|lllllllllllllllllllll}\n",
       "  & Pyrrolidonyl-beta-naphthylamide & Arginine dihydrolase & DNase & Bile-susceptible & Hydrogen sulfide & Malonate & Sucrose & Acetate utilization & Aerobe & Alkaline phosphatase & ⋯ & Oxidase & Raffinose & Salicin & Spore formation & Starch hydrolysis & Tartrate utilization & Trehalose & Urea hydrolysis & Voges Proskauer & Yellow pigment\\\\\n",
       "  & <int> & <int> & <int> & <int> & <int> & <int> & <int> & <int> & <int> & <int> & ⋯ & <int> & <int> & <int> & <int> & <int> & <int> & <int> & <int> & <int> & <int>\\\\\n",
       "\\hline\n",
       "\ts\\_\\_Thermococcus\\_sp000221185 & 1 & 1 & 1 & 1 & 1 & 1 & 1 & 0 & 0 & 0 & ⋯ & 0 & 0 & 0 & 0 & 0 & 0 & 0 & 0 & 0 & 0\\\\\n",
       "\ts\\_\\_NBVN01\\_sp003056265 & 1 & 1 & 0 & 1 & 1 & 0 & 0 & 0 & 0 & 0 & ⋯ & 0 & 0 & 0 & 0 & 0 & 0 & 0 & 0 & 0 & 0\\\\\n",
       "\t⋮ & ⋮ & ⋮ & ⋮ & ⋮ & ⋮ & ⋮ & ⋮ & ⋮ & ⋮ & ⋮ & ⋱ & ⋮ & ⋮ & ⋮ & ⋮ & ⋮ & ⋮ & ⋮ & ⋮ & ⋮ & ⋮\\\\\n",
       "\ts\\_\\_Crocosphaera\\_sp000169335 & 0 & 1 & 0 & 1 & 0 & 0 & 0 & 0 & 1 & 1 & ⋯ & 1 & 0 & 0 & 0 & 0 & 0 & 0 & 0 & 0 & 0\\\\\n",
       "\ts\\_\\_QKVK01\\_sp003234965 & 0 & 1 & 0 & 1 & 0 & 1 & 0 & 1 & 1 & 1 & ⋯ & 1 & 0 & 0 & 0 & 0 & 0 & 0 & 1 & 1 & 0\\\\\n",
       "\\end{tabular}\n"
      ],
      "text/markdown": [
       "\n",
       "A data.frame: 1518 × 67\n",
       "\n",
       "| <!--/--> | Pyrrolidonyl-beta-naphthylamide &lt;int&gt; | Arginine dihydrolase &lt;int&gt; | DNase &lt;int&gt; | Bile-susceptible &lt;int&gt; | Hydrogen sulfide &lt;int&gt; | Malonate &lt;int&gt; | Sucrose &lt;int&gt; | Acetate utilization &lt;int&gt; | Aerobe &lt;int&gt; | Alkaline phosphatase &lt;int&gt; | ⋯ ⋯ | Oxidase &lt;int&gt; | Raffinose &lt;int&gt; | Salicin &lt;int&gt; | Spore formation &lt;int&gt; | Starch hydrolysis &lt;int&gt; | Tartrate utilization &lt;int&gt; | Trehalose &lt;int&gt; | Urea hydrolysis &lt;int&gt; | Voges Proskauer &lt;int&gt; | Yellow pigment &lt;int&gt; |\n",
       "|---|---|---|---|---|---|---|---|---|---|---|---|---|---|---|---|---|---|---|---|---|---|\n",
       "| s__Thermococcus_sp000221185 | 1 | 1 | 1 | 1 | 1 | 1 | 1 | 0 | 0 | 0 | ⋯ | 0 | 0 | 0 | 0 | 0 | 0 | 0 | 0 | 0 | 0 |\n",
       "| s__NBVN01_sp003056265 | 1 | 1 | 0 | 1 | 1 | 0 | 0 | 0 | 0 | 0 | ⋯ | 0 | 0 | 0 | 0 | 0 | 0 | 0 | 0 | 0 | 0 |\n",
       "| ⋮ | ⋮ | ⋮ | ⋮ | ⋮ | ⋮ | ⋮ | ⋮ | ⋮ | ⋮ | ⋮ | ⋱ | ⋮ | ⋮ | ⋮ | ⋮ | ⋮ | ⋮ | ⋮ | ⋮ | ⋮ | ⋮ |\n",
       "| s__Crocosphaera_sp000169335 | 0 | 1 | 0 | 1 | 0 | 0 | 0 | 0 | 1 | 1 | ⋯ | 1 | 0 | 0 | 0 | 0 | 0 | 0 | 0 | 0 | 0 |\n",
       "| s__QKVK01_sp003234965 | 0 | 1 | 0 | 1 | 0 | 1 | 0 | 1 | 1 | 1 | ⋯ | 1 | 0 | 0 | 0 | 0 | 0 | 0 | 1 | 1 | 0 |\n",
       "\n"
      ],
      "text/plain": [
       "                            Pyrrolidonyl-beta-naphthylamide\n",
       "s__Thermococcus_sp000221185 1                              \n",
       "s__NBVN01_sp003056265       1                              \n",
       "⋮                           ⋮                              \n",
       "s__Crocosphaera_sp000169335 0                              \n",
       "s__QKVK01_sp003234965       0                              \n",
       "                            Arginine dihydrolase DNase Bile-susceptible\n",
       "s__Thermococcus_sp000221185 1                    1     1               \n",
       "s__NBVN01_sp003056265       1                    0     1               \n",
       "⋮                           ⋮                    ⋮     ⋮               \n",
       "s__Crocosphaera_sp000169335 1                    0     1               \n",
       "s__QKVK01_sp003234965       1                    0     1               \n",
       "                            Hydrogen sulfide Malonate Sucrose\n",
       "s__Thermococcus_sp000221185 1                1        1      \n",
       "s__NBVN01_sp003056265       1                0        0      \n",
       "⋮                           ⋮                ⋮        ⋮      \n",
       "s__Crocosphaera_sp000169335 0                0        0      \n",
       "s__QKVK01_sp003234965       0                1        0      \n",
       "                            Acetate utilization Aerobe Alkaline phosphatase ⋯\n",
       "s__Thermococcus_sp000221185 0                   0      0                    ⋯\n",
       "s__NBVN01_sp003056265       0                   0      0                    ⋯\n",
       "⋮                           ⋮                   ⋮      ⋮                    ⋱\n",
       "s__Crocosphaera_sp000169335 0                   1      1                    ⋯\n",
       "s__QKVK01_sp003234965       1                   1      1                    ⋯\n",
       "                            Oxidase Raffinose Salicin Spore formation\n",
       "s__Thermococcus_sp000221185 0       0         0       0              \n",
       "s__NBVN01_sp003056265       0       0         0       0              \n",
       "⋮                           ⋮       ⋮         ⋮       ⋮              \n",
       "s__Crocosphaera_sp000169335 1       0         0       0              \n",
       "s__QKVK01_sp003234965       1       0         0       0              \n",
       "                            Starch hydrolysis Tartrate utilization Trehalose\n",
       "s__Thermococcus_sp000221185 0                 0                    0        \n",
       "s__NBVN01_sp003056265       0                 0                    0        \n",
       "⋮                           ⋮                 ⋮                    ⋮        \n",
       "s__Crocosphaera_sp000169335 0                 0                    0        \n",
       "s__QKVK01_sp003234965       0                 0                    0        \n",
       "                            Urea hydrolysis Voges Proskauer Yellow pigment\n",
       "s__Thermococcus_sp000221185 0               0               0             \n",
       "s__NBVN01_sp003056265       0               0               0             \n",
       "⋮                           ⋮               ⋮               ⋮             \n",
       "s__Crocosphaera_sp000169335 0               0               0             \n",
       "s__QKVK01_sp003234965       1               1               0             "
      ]
     },
     "metadata": {},
     "output_type": "display_data"
    }
   ],
   "source": [
    "# long to wide\n",
    "trt_f = trt_f %>%\n",
    "    distinct(Species, phenotype, prediction) %>%\n",
    "    pivot_wider(names_from=phenotype, values_from=prediction) %>%\n",
    "    as.data.frame\n",
    "rownames(trt_f) = trt_f$Species\n",
    "trt_f$Species = NULL\n",
    "trt_f"
   ]
  },
  {
   "cell_type": "code",
   "execution_count": 101,
   "metadata": {
    "ExecuteTime": {
     "end_time": "2021-10-31T08:31:36.461058Z",
     "start_time": "2021-10-31T08:31:32.941Z"
    }
   },
   "outputs": [
    {
     "data": {
      "text/html": [
       "<table class=\"dataframe\">\n",
       "<caption>A data.frame: 100 × 1518</caption>\n",
       "<thead>\n",
       "\t<tr><th></th><th scope=col>s__Pectobacterium_sp003028395</th><th scope=col>s__Prevotella_salivae</th><th scope=col>s__Eubacterium_F_sp002431395</th><th scope=col>s__Prevotella_sp002353485</th><th scope=col>s__CAG-269_sp000435535</th><th scope=col>s__Mucilaginibacter_oryzae</th><th scope=col>s__Pauljensenia_sp000411415</th><th scope=col>s__Bacteroides_A_ilei</th><th scope=col>s__Lawsonibacter_sp900066645</th><th scope=col>s__Blautia_sp001304935</th><th scope=col>⋯</th><th scope=col>s__Psychrobacter_cibarius</th><th scope=col>s__Pseudocitrobacter_sp000330845</th><th scope=col>s__Phascolarctobacterium_faecium</th><th scope=col>s__Flavonifractor_sp002159455</th><th scope=col>s__Prevotella_intermedia</th><th scope=col>s__Bacteroides_B_dorei</th><th scope=col>s__Clostridium_AG_cavendishii</th><th scope=col>s__Lancefieldella_parvula</th><th scope=col>s__Prevotella_sp900316985</th><th scope=col>s__CAG-307_sp001916215</th></tr>\n",
       "\t<tr><th></th><th scope=col>&lt;dbl&gt;</th><th scope=col>&lt;dbl&gt;</th><th scope=col>&lt;dbl&gt;</th><th scope=col>&lt;dbl&gt;</th><th scope=col>&lt;dbl&gt;</th><th scope=col>&lt;dbl&gt;</th><th scope=col>&lt;dbl&gt;</th><th scope=col>&lt;dbl&gt;</th><th scope=col>&lt;dbl&gt;</th><th scope=col>&lt;dbl&gt;</th><th scope=col>⋯</th><th scope=col>&lt;dbl&gt;</th><th scope=col>&lt;dbl&gt;</th><th scope=col>&lt;dbl&gt;</th><th scope=col>&lt;dbl&gt;</th><th scope=col>&lt;dbl&gt;</th><th scope=col>&lt;dbl&gt;</th><th scope=col>&lt;dbl&gt;</th><th scope=col>&lt;dbl&gt;</th><th scope=col>&lt;dbl&gt;</th><th scope=col>&lt;dbl&gt;</th></tr>\n",
       "</thead>\n",
       "<tbody>\n",
       "\t<tr><th scope=row>H1F512951</th><td>0</td><td>0</td><td>0</td><td>0</td><td>0</td><td>0</td><td>0</td><td>0.00000</td><td>0</td><td>0</td><td>⋯</td><td>0</td><td>0</td><td>0.00039</td><td>0</td><td>0</td><td>0.00073</td><td>0</td><td>0</td><td>0</td><td>0</td></tr>\n",
       "\t<tr><th scope=row>H1F513817</th><td>0</td><td>0</td><td>0</td><td>0</td><td>0</td><td>0</td><td>0</td><td>0.00111</td><td>0</td><td>0</td><td>⋯</td><td>0</td><td>0</td><td>0.01076</td><td>0</td><td>0</td><td>0.14035</td><td>0</td><td>0</td><td>0</td><td>0</td></tr>\n",
       "\t<tr><th scope=row>⋮</th><td>⋮</td><td>⋮</td><td>⋮</td><td>⋮</td><td>⋮</td><td>⋮</td><td>⋮</td><td>⋮</td><td>⋮</td><td>⋮</td><td>⋱</td><td>⋮</td><td>⋮</td><td>⋮</td><td>⋮</td><td>⋮</td><td>⋮</td><td>⋮</td><td>⋮</td><td>⋮</td><td>⋮</td></tr>\n",
       "\t<tr><th scope=row>nHM612836</th><td>0</td><td>0</td><td>0</td><td>0</td><td>0</td><td>0</td><td>0</td><td>2e-04</td><td>0.00142</td><td>0</td><td>⋯</td><td>0</td><td>0.00013</td><td>0.00564</td><td>0</td><td>0</td><td>0.00295</td><td>0</td><td>0</td><td>0</td><td>0</td></tr>\n",
       "\t<tr><th scope=row>nHMX11726</th><td>0</td><td>0</td><td>0</td><td>0</td><td>0</td><td>0</td><td>0</td><td>0e+00</td><td>0.00043</td><td>0</td><td>⋯</td><td>0</td><td>0.00000</td><td>0.00252</td><td>0</td><td>0</td><td>0.00426</td><td>0</td><td>0</td><td>0</td><td>0</td></tr>\n",
       "</tbody>\n",
       "</table>\n"
      ],
      "text/latex": [
       "A data.frame: 100 × 1518\n",
       "\\begin{tabular}{r|lllllllllllllllllllll}\n",
       "  & s\\_\\_Pectobacterium\\_sp003028395 & s\\_\\_Prevotella\\_salivae & s\\_\\_Eubacterium\\_F\\_sp002431395 & s\\_\\_Prevotella\\_sp002353485 & s\\_\\_CAG-269\\_sp000435535 & s\\_\\_Mucilaginibacter\\_oryzae & s\\_\\_Pauljensenia\\_sp000411415 & s\\_\\_Bacteroides\\_A\\_ilei & s\\_\\_Lawsonibacter\\_sp900066645 & s\\_\\_Blautia\\_sp001304935 & ⋯ & s\\_\\_Psychrobacter\\_cibarius & s\\_\\_Pseudocitrobacter\\_sp000330845 & s\\_\\_Phascolarctobacterium\\_faecium & s\\_\\_Flavonifractor\\_sp002159455 & s\\_\\_Prevotella\\_intermedia & s\\_\\_Bacteroides\\_B\\_dorei & s\\_\\_Clostridium\\_AG\\_cavendishii & s\\_\\_Lancefieldella\\_parvula & s\\_\\_Prevotella\\_sp900316985 & s\\_\\_CAG-307\\_sp001916215\\\\\n",
       "  & <dbl> & <dbl> & <dbl> & <dbl> & <dbl> & <dbl> & <dbl> & <dbl> & <dbl> & <dbl> & ⋯ & <dbl> & <dbl> & <dbl> & <dbl> & <dbl> & <dbl> & <dbl> & <dbl> & <dbl> & <dbl>\\\\\n",
       "\\hline\n",
       "\tH1F512951 & 0 & 0 & 0 & 0 & 0 & 0 & 0 & 0.00000 & 0 & 0 & ⋯ & 0 & 0 & 0.00039 & 0 & 0 & 0.00073 & 0 & 0 & 0 & 0\\\\\n",
       "\tH1F513817 & 0 & 0 & 0 & 0 & 0 & 0 & 0 & 0.00111 & 0 & 0 & ⋯ & 0 & 0 & 0.01076 & 0 & 0 & 0.14035 & 0 & 0 & 0 & 0\\\\\n",
       "\t⋮ & ⋮ & ⋮ & ⋮ & ⋮ & ⋮ & ⋮ & ⋮ & ⋮ & ⋮ & ⋮ & ⋱ & ⋮ & ⋮ & ⋮ & ⋮ & ⋮ & ⋮ & ⋮ & ⋮ & ⋮ & ⋮\\\\\n",
       "\tnHM612836 & 0 & 0 & 0 & 0 & 0 & 0 & 0 & 2e-04 & 0.00142 & 0 & ⋯ & 0 & 0.00013 & 0.00564 & 0 & 0 & 0.00295 & 0 & 0 & 0 & 0\\\\\n",
       "\tnHMX11726 & 0 & 0 & 0 & 0 & 0 & 0 & 0 & 0e+00 & 0.00043 & 0 & ⋯ & 0 & 0.00000 & 0.00252 & 0 & 0 & 0.00426 & 0 & 0 & 0 & 0\\\\\n",
       "\\end{tabular}\n"
      ],
      "text/markdown": [
       "\n",
       "A data.frame: 100 × 1518\n",
       "\n",
       "| <!--/--> | s__Pectobacterium_sp003028395 &lt;dbl&gt; | s__Prevotella_salivae &lt;dbl&gt; | s__Eubacterium_F_sp002431395 &lt;dbl&gt; | s__Prevotella_sp002353485 &lt;dbl&gt; | s__CAG-269_sp000435535 &lt;dbl&gt; | s__Mucilaginibacter_oryzae &lt;dbl&gt; | s__Pauljensenia_sp000411415 &lt;dbl&gt; | s__Bacteroides_A_ilei &lt;dbl&gt; | s__Lawsonibacter_sp900066645 &lt;dbl&gt; | s__Blautia_sp001304935 &lt;dbl&gt; | ⋯ ⋯ | s__Psychrobacter_cibarius &lt;dbl&gt; | s__Pseudocitrobacter_sp000330845 &lt;dbl&gt; | s__Phascolarctobacterium_faecium &lt;dbl&gt; | s__Flavonifractor_sp002159455 &lt;dbl&gt; | s__Prevotella_intermedia &lt;dbl&gt; | s__Bacteroides_B_dorei &lt;dbl&gt; | s__Clostridium_AG_cavendishii &lt;dbl&gt; | s__Lancefieldella_parvula &lt;dbl&gt; | s__Prevotella_sp900316985 &lt;dbl&gt; | s__CAG-307_sp001916215 &lt;dbl&gt; |\n",
       "|---|---|---|---|---|---|---|---|---|---|---|---|---|---|---|---|---|---|---|---|---|---|\n",
       "| H1F512951 | 0 | 0 | 0 | 0 | 0 | 0 | 0 | 0.00000 | 0 | 0 | ⋯ | 0 | 0 | 0.00039 | 0 | 0 | 0.00073 | 0 | 0 | 0 | 0 |\n",
       "| H1F513817 | 0 | 0 | 0 | 0 | 0 | 0 | 0 | 0.00111 | 0 | 0 | ⋯ | 0 | 0 | 0.01076 | 0 | 0 | 0.14035 | 0 | 0 | 0 | 0 |\n",
       "| ⋮ | ⋮ | ⋮ | ⋮ | ⋮ | ⋮ | ⋮ | ⋮ | ⋮ | ⋮ | ⋮ | ⋱ | ⋮ | ⋮ | ⋮ | ⋮ | ⋮ | ⋮ | ⋮ | ⋮ | ⋮ | ⋮ |\n",
       "| nHM612836 | 0 | 0 | 0 | 0 | 0 | 0 | 0 | 2e-04 | 0.00142 | 0 | ⋯ | 0 | 0.00013 | 0.00564 | 0 | 0 | 0.00295 | 0 | 0 | 0 | 0 |\n",
       "| nHMX11726 | 0 | 0 | 0 | 0 | 0 | 0 | 0 | 0e+00 | 0.00043 | 0 | ⋯ | 0 | 0.00000 | 0.00252 | 0 | 0 | 0.00426 | 0 | 0 | 0 | 0 |\n",
       "\n"
      ],
      "text/plain": [
       "          s__Pectobacterium_sp003028395 s__Prevotella_salivae\n",
       "H1F512951 0                             0                    \n",
       "H1F513817 0                             0                    \n",
       "⋮         ⋮                             ⋮                    \n",
       "nHM612836 0                             0                    \n",
       "nHMX11726 0                             0                    \n",
       "          s__Eubacterium_F_sp002431395 s__Prevotella_sp002353485\n",
       "H1F512951 0                            0                        \n",
       "H1F513817 0                            0                        \n",
       "⋮         ⋮                            ⋮                        \n",
       "nHM612836 0                            0                        \n",
       "nHMX11726 0                            0                        \n",
       "          s__CAG-269_sp000435535 s__Mucilaginibacter_oryzae\n",
       "H1F512951 0                      0                         \n",
       "H1F513817 0                      0                         \n",
       "⋮         ⋮                      ⋮                         \n",
       "nHM612836 0                      0                         \n",
       "nHMX11726 0                      0                         \n",
       "          s__Pauljensenia_sp000411415 s__Bacteroides_A_ilei\n",
       "H1F512951 0                           0.00000              \n",
       "H1F513817 0                           0.00111              \n",
       "⋮         ⋮                           ⋮                    \n",
       "nHM612836 0                           2e-04                \n",
       "nHMX11726 0                           0e+00                \n",
       "          s__Lawsonibacter_sp900066645 s__Blautia_sp001304935 ⋯\n",
       "H1F512951 0                            0                      ⋯\n",
       "H1F513817 0                            0                      ⋯\n",
       "⋮         ⋮                            ⋮                      ⋱\n",
       "nHM612836 0.00142                      0                      ⋯\n",
       "nHMX11726 0.00043                      0                      ⋯\n",
       "          s__Psychrobacter_cibarius s__Pseudocitrobacter_sp000330845\n",
       "H1F512951 0                         0                               \n",
       "H1F513817 0                         0                               \n",
       "⋮         ⋮                         ⋮                               \n",
       "nHM612836 0                         0.00013                         \n",
       "nHMX11726 0                         0.00000                         \n",
       "          s__Phascolarctobacterium_faecium s__Flavonifractor_sp002159455\n",
       "H1F512951 0.00039                          0                            \n",
       "H1F513817 0.01076                          0                            \n",
       "⋮         ⋮                                ⋮                            \n",
       "nHM612836 0.00564                          0                            \n",
       "nHMX11726 0.00252                          0                            \n",
       "          s__Prevotella_intermedia s__Bacteroides_B_dorei\n",
       "H1F512951 0                        0.00073               \n",
       "H1F513817 0                        0.14035               \n",
       "⋮         ⋮                        ⋮                     \n",
       "nHM612836 0                        0.00295               \n",
       "nHMX11726 0                        0.00426               \n",
       "          s__Clostridium_AG_cavendishii s__Lancefieldella_parvula\n",
       "H1F512951 0                             0                        \n",
       "H1F513817 0                             0                        \n",
       "⋮         ⋮                             ⋮                        \n",
       "nHM612836 0                             0                        \n",
       "nHMX11726 0                             0                        \n",
       "          s__Prevotella_sp900316985 s__CAG-307_sp001916215\n",
       "H1F512951 0                         0                     \n",
       "H1F513817 0                         0                     \n",
       "⋮         ⋮                         ⋮                     \n",
       "nHM612836 0                         0                     \n",
       "nHMX11726 0                         0                     "
      ]
     },
     "metadata": {},
     "output_type": "display_data"
    }
   ],
   "source": [
    "# filtering to just overlapping\n",
    "x = intersect(colnames(m), rownames(trt_f))\n",
    "trt_f = trt_f[x,]\n",
    "m_f = m[,x]\n",
    "m_f"
   ]
  },
  {
   "cell_type": "code",
   "execution_count": 102,
   "metadata": {
    "ExecuteTime": {
     "end_time": "2021-10-31T08:31:36.502138Z",
     "start_time": "2021-10-31T08:31:33.060Z"
    }
   },
   "outputs": [
    {
     "data": {
      "text/html": [
       "<style>\n",
       ".list-inline {list-style: none; margin:0; padding: 0}\n",
       ".list-inline>li {display: inline-block}\n",
       ".list-inline>li:not(:last-child)::after {content: \"\\00b7\"; padding: 0 .5ex}\n",
       "</style>\n",
       "<ol class=list-inline><li>100</li><li>20</li></ol>\n"
      ],
      "text/latex": [
       "\\begin{enumerate*}\n",
       "\\item 100\n",
       "\\item 20\n",
       "\\end{enumerate*}\n"
      ],
      "text/markdown": [
       "1. 100\n",
       "2. 20\n",
       "\n",
       "\n"
      ],
      "text/plain": [
       "[1] 100  20"
      ]
     },
     "metadata": {},
     "output_type": "display_data"
    },
    {
     "data": {
      "text/html": [
       "<style>\n",
       ".list-inline {list-style: none; margin:0; padding: 0}\n",
       ".list-inline>li {display: inline-block}\n",
       ".list-inline>li:not(:last-child)::after {content: \"\\00b7\"; padding: 0 .5ex}\n",
       "</style>\n",
       "<ol class=list-inline><li>20</li><li>67</li></ol>\n"
      ],
      "text/latex": [
       "\\begin{enumerate*}\n",
       "\\item 20\n",
       "\\item 67\n",
       "\\end{enumerate*}\n"
      ],
      "text/markdown": [
       "1. 20\n",
       "2. 67\n",
       "\n",
       "\n"
      ],
      "text/plain": [
       "[1] 20 67"
      ]
     },
     "metadata": {},
     "output_type": "display_data"
    }
   ],
   "source": [
    "# filtering by abundance\n",
    "## speeding up calculation\n",
    "m_f = m_f[,colSums(m_f) > 1]\n",
    "x = intersect(colnames(m_f), rownames(trt_f))\n",
    "trt_f = trt_f[x,]\n",
    "m_f %>% dim\n",
    "trt_f %>% dim"
   ]
  },
  {
   "cell_type": "code",
   "execution_count": 103,
   "metadata": {
    "ExecuteTime": {
     "end_time": "2021-10-31T08:31:42.845104Z",
     "start_time": "2021-10-31T08:31:33.556Z"
    }
   },
   "outputs": [
    {
     "name": "stdout",
     "output_type": "stream",
     "text": [
      "FRic: Dimensionality reduction was required. The last 16 PCoA axes (out of 19 in total) were removed. \n",
      "FRic: Quality of the reduced-space representation = 0.6292441 \n"
     ]
    },
    {
     "data": {
      "text/html": [
       "<style>\n",
       ".list-inline {list-style: none; margin:0; padding: 0}\n",
       ".list-inline>li {display: inline-block}\n",
       ".list-inline>li:not(:last-child)::after {content: \"\\00b7\"; padding: 0 .5ex}\n",
       "</style>\n",
       "<ol class=list-inline><li>'nbsp'</li><li>'sing.sp'</li><li>'FRic'</li><li>'qual.FRic'</li><li>'FEve'</li><li>'FDiv'</li><li>'FDis'</li><li>'RaoQ'</li></ol>\n"
      ],
      "text/latex": [
       "\\begin{enumerate*}\n",
       "\\item 'nbsp'\n",
       "\\item 'sing.sp'\n",
       "\\item 'FRic'\n",
       "\\item 'qual.FRic'\n",
       "\\item 'FEve'\n",
       "\\item 'FDiv'\n",
       "\\item 'FDis'\n",
       "\\item 'RaoQ'\n",
       "\\end{enumerate*}\n"
      ],
      "text/markdown": [
       "1. 'nbsp'\n",
       "2. 'sing.sp'\n",
       "3. 'FRic'\n",
       "4. 'qual.FRic'\n",
       "5. 'FEve'\n",
       "6. 'FDiv'\n",
       "7. 'FDis'\n",
       "8. 'RaoQ'\n",
       "\n",
       "\n"
      ],
      "text/plain": [
       "[1] \"nbsp\"      \"sing.sp\"   \"FRic\"      \"qual.FRic\" \"FEve\"      \"FDiv\"     \n",
       "[7] \"FDis\"      \"RaoQ\"     "
      ]
     },
     "metadata": {},
     "output_type": "display_data"
    }
   ],
   "source": [
    "# FD calculation\n",
    "FD_res = dbFD(trt_f, m_f, corr=\"cailliez\", m='min', calc.CWM=FALSE)\n",
    "FD_res %>% names"
   ]
  },
  {
   "cell_type": "markdown",
   "metadata": {},
   "source": [
    "### Formatting"
   ]
  },
  {
   "cell_type": "code",
   "execution_count": 104,
   "metadata": {
    "ExecuteTime": {
     "end_time": "2021-10-31T08:31:42.906857Z",
     "start_time": "2021-10-31T08:31:33.772Z"
    }
   },
   "outputs": [
    {
     "data": {
      "text/html": [
       "<table class=\"dataframe\">\n",
       "<caption>A data.frame: 100 × 7</caption>\n",
       "<thead>\n",
       "\t<tr><th></th><th scope=col>FRic</th><th scope=col>FEve</th><th scope=col>FDiv</th><th scope=col>FDis</th><th scope=col>RaoQ</th><th scope=col>Sample</th><th scope=col>Func_data</th></tr>\n",
       "\t<tr><th></th><th scope=col>&lt;dbl&gt;</th><th scope=col>&lt;dbl&gt;</th><th scope=col>&lt;dbl&gt;</th><th scope=col>&lt;dbl&gt;</th><th scope=col>&lt;dbl&gt;</th><th scope=col>&lt;chr&gt;</th><th scope=col>&lt;chr&gt;</th></tr>\n",
       "</thead>\n",
       "<tbody>\n",
       "\t<tr><th scope=row>H1F512951</th><td>52.39023</td><td>0.5432318</td><td>0.5021518</td><td>2.915599</td><td>14.31974</td><td>H1F512951</td><td>Traits</td></tr>\n",
       "\t<tr><th scope=row>H1F513817</th><td>42.67647</td><td>0.4114668</td><td>0.5452778</td><td>4.044635</td><td>17.56792</td><td>H1F513817</td><td>Traits</td></tr>\n",
       "\t<tr><th scope=row>⋮</th><td>⋮</td><td>⋮</td><td>⋮</td><td>⋮</td><td>⋮</td><td>⋮</td><td>⋮</td></tr>\n",
       "\t<tr><th scope=row>nHM612836</th><td>401.06150</td><td>0.3240323</td><td>0.7349075</td><td>5.464321</td><td>35.5533</td><td>nHM612836</td><td>Traits</td></tr>\n",
       "\t<tr><th scope=row>nHMX11726</th><td> 52.28582</td><td>0.5748600</td><td>0.6645982</td><td>3.905749</td><td>22.1135</td><td>nHMX11726</td><td>Traits</td></tr>\n",
       "</tbody>\n",
       "</table>\n"
      ],
      "text/latex": [
       "A data.frame: 100 × 7\n",
       "\\begin{tabular}{r|lllllll}\n",
       "  & FRic & FEve & FDiv & FDis & RaoQ & Sample & Func\\_data\\\\\n",
       "  & <dbl> & <dbl> & <dbl> & <dbl> & <dbl> & <chr> & <chr>\\\\\n",
       "\\hline\n",
       "\tH1F512951 & 52.39023 & 0.5432318 & 0.5021518 & 2.915599 & 14.31974 & H1F512951 & Traits\\\\\n",
       "\tH1F513817 & 42.67647 & 0.4114668 & 0.5452778 & 4.044635 & 17.56792 & H1F513817 & Traits\\\\\n",
       "\t⋮ & ⋮ & ⋮ & ⋮ & ⋮ & ⋮ & ⋮ & ⋮\\\\\n",
       "\tnHM612836 & 401.06150 & 0.3240323 & 0.7349075 & 5.464321 & 35.5533 & nHM612836 & Traits\\\\\n",
       "\tnHMX11726 &  52.28582 & 0.5748600 & 0.6645982 & 3.905749 & 22.1135 & nHMX11726 & Traits\\\\\n",
       "\\end{tabular}\n"
      ],
      "text/markdown": [
       "\n",
       "A data.frame: 100 × 7\n",
       "\n",
       "| <!--/--> | FRic &lt;dbl&gt; | FEve &lt;dbl&gt; | FDiv &lt;dbl&gt; | FDis &lt;dbl&gt; | RaoQ &lt;dbl&gt; | Sample &lt;chr&gt; | Func_data &lt;chr&gt; |\n",
       "|---|---|---|---|---|---|---|---|\n",
       "| H1F512951 | 52.39023 | 0.5432318 | 0.5021518 | 2.915599 | 14.31974 | H1F512951 | Traits |\n",
       "| H1F513817 | 42.67647 | 0.4114668 | 0.5452778 | 4.044635 | 17.56792 | H1F513817 | Traits |\n",
       "| ⋮ | ⋮ | ⋮ | ⋮ | ⋮ | ⋮ | ⋮ | ⋮ |\n",
       "| nHM612836 | 401.06150 | 0.3240323 | 0.7349075 | 5.464321 | 35.5533 | nHM612836 | Traits |\n",
       "| nHMX11726 |  52.28582 | 0.5748600 | 0.6645982 | 3.905749 | 22.1135 | nHMX11726 | Traits |\n",
       "\n"
      ],
      "text/plain": [
       "          FRic      FEve      FDiv      FDis     RaoQ     Sample    Func_data\n",
       "H1F512951 52.39023  0.5432318 0.5021518 2.915599 14.31974 H1F512951 Traits   \n",
       "H1F513817 42.67647  0.4114668 0.5452778 4.044635 17.56792 H1F513817 Traits   \n",
       "⋮         ⋮         ⋮         ⋮         ⋮        ⋮        ⋮         ⋮        \n",
       "nHM612836 401.06150 0.3240323 0.7349075 5.464321 35.5533  nHM612836 Traits   \n",
       "nHMX11726  52.28582 0.5748600 0.6645982 3.905749 22.1135  nHMX11726 Traits   "
      ]
     },
     "metadata": {},
     "output_type": "display_data"
    }
   ],
   "source": [
    "# formatting\n",
    "v = c('FRic', 'FEve', 'FDiv', 'FDis', 'RaoQ') \n",
    "FD_res_trt = v %>%\n",
    "    lapply(function(x) FD_res[[x]] %>% as.data.frame) %>%\n",
    "    do.call(cbind, .) \n",
    "colnames(FD_res_trt) = c('FRic', 'FEve', 'FDiv', 'FDis', 'RaoQ') \n",
    "FD_res_trt$Sample = rownames(FD_res_trt)\n",
    "FD_res_trt$Func_data = 'Traits'\n",
    "FD_res_trt"
   ]
  },
  {
   "cell_type": "markdown",
   "metadata": {},
   "source": [
    "## COG categories"
   ]
  },
  {
   "cell_type": "code",
   "execution_count": 105,
   "metadata": {
    "ExecuteTime": {
     "end_time": "2021-10-31T08:31:42.980505Z",
     "start_time": "2021-10-31T08:31:37.013Z"
    }
   },
   "outputs": [
    {
     "data": {
      "text/html": [
       "<table class=\"dataframe\">\n",
       "<caption>A data.table: 1520 × 26</caption>\n",
       "<thead>\n",
       "\t<tr><th scope=col>Taxon</th><th scope=col>A</th><th scope=col>B</th><th scope=col>C</th><th scope=col>D</th><th scope=col>E</th><th scope=col>F</th><th scope=col>G</th><th scope=col>H</th><th scope=col>I</th><th scope=col>⋯</th><th scope=col>P</th><th scope=col>Q</th><th scope=col>R</th><th scope=col>S</th><th scope=col>T</th><th scope=col>U</th><th scope=col>V</th><th scope=col>W</th><th scope=col>X</th><th scope=col>Z</th></tr>\n",
       "\t<tr><th scope=col>&lt;chr&gt;</th><th scope=col>&lt;int&gt;</th><th scope=col>&lt;int&gt;</th><th scope=col>&lt;int&gt;</th><th scope=col>&lt;int&gt;</th><th scope=col>&lt;int&gt;</th><th scope=col>&lt;int&gt;</th><th scope=col>&lt;int&gt;</th><th scope=col>&lt;int&gt;</th><th scope=col>&lt;int&gt;</th><th scope=col>⋯</th><th scope=col>&lt;int&gt;</th><th scope=col>&lt;int&gt;</th><th scope=col>&lt;int&gt;</th><th scope=col>&lt;int&gt;</th><th scope=col>&lt;int&gt;</th><th scope=col>&lt;int&gt;</th><th scope=col>&lt;int&gt;</th><th scope=col>&lt;int&gt;</th><th scope=col>&lt;int&gt;</th><th scope=col>&lt;int&gt;</th></tr>\n",
       "</thead>\n",
       "<tbody>\n",
       "\t<tr><td>s__14-2_sp000403255</td><td>0</td><td>0</td><td>8</td><td>1</td><td>8</td><td>4</td><td>9</td><td>8</td><td>7</td><td>⋯</td><td>1</td><td>2</td><td> 9</td><td>5</td><td>4</td><td>2</td><td>5</td><td>0</td><td>10</td><td>0</td></tr>\n",
       "\t<tr><td>s__14-2_sp000403315</td><td>0</td><td>0</td><td>3</td><td>1</td><td>4</td><td>3</td><td>9</td><td>3</td><td>0</td><td>⋯</td><td>1</td><td>0</td><td>13</td><td>4</td><td>8</td><td>4</td><td>6</td><td>0</td><td>10</td><td>0</td></tr>\n",
       "\t<tr><td>⋮</td><td>⋮</td><td>⋮</td><td>⋮</td><td>⋮</td><td>⋮</td><td>⋮</td><td>⋮</td><td>⋮</td><td>⋮</td><td>⋱</td><td>⋮</td><td>⋮</td><td>⋮</td><td>⋮</td><td>⋮</td><td>⋮</td><td>⋮</td><td>⋮</td><td>⋮</td><td>⋮</td></tr>\n",
       "\t<tr><td>s__UCG-010_sp003150215</td><td>0</td><td>0</td><td>0</td><td>0</td><td>0</td><td>0</td><td>0</td><td>0</td><td>0</td><td>⋯</td><td>0</td><td>0</td><td>0</td><td>0</td><td>0</td><td>0</td><td>0</td><td>0</td><td>0</td><td>0</td></tr>\n",
       "\t<tr><td>s__UBA5394_sp003150565</td><td>0</td><td>0</td><td>0</td><td>0</td><td>0</td><td>0</td><td>0</td><td>0</td><td>0</td><td>⋯</td><td>0</td><td>0</td><td>0</td><td>0</td><td>0</td><td>0</td><td>0</td><td>0</td><td>0</td><td>0</td></tr>\n",
       "</tbody>\n",
       "</table>\n"
      ],
      "text/latex": [
       "A data.table: 1520 × 26\n",
       "\\begin{tabular}{lllllllllllllllllllll}\n",
       " Taxon & A & B & C & D & E & F & G & H & I & ⋯ & P & Q & R & S & T & U & V & W & X & Z\\\\\n",
       " <chr> & <int> & <int> & <int> & <int> & <int> & <int> & <int> & <int> & <int> & ⋯ & <int> & <int> & <int> & <int> & <int> & <int> & <int> & <int> & <int> & <int>\\\\\n",
       "\\hline\n",
       "\t s\\_\\_14-2\\_sp000403255 & 0 & 0 & 8 & 1 & 8 & 4 & 9 & 8 & 7 & ⋯ & 1 & 2 &  9 & 5 & 4 & 2 & 5 & 0 & 10 & 0\\\\\n",
       "\t s\\_\\_14-2\\_sp000403315 & 0 & 0 & 3 & 1 & 4 & 3 & 9 & 3 & 0 & ⋯ & 1 & 0 & 13 & 4 & 8 & 4 & 6 & 0 & 10 & 0\\\\\n",
       "\t ⋮ & ⋮ & ⋮ & ⋮ & ⋮ & ⋮ & ⋮ & ⋮ & ⋮ & ⋮ & ⋱ & ⋮ & ⋮ & ⋮ & ⋮ & ⋮ & ⋮ & ⋮ & ⋮ & ⋮ & ⋮\\\\\n",
       "\t s\\_\\_UCG-010\\_sp003150215 & 0 & 0 & 0 & 0 & 0 & 0 & 0 & 0 & 0 & ⋯ & 0 & 0 & 0 & 0 & 0 & 0 & 0 & 0 & 0 & 0\\\\\n",
       "\t s\\_\\_UBA5394\\_sp003150565 & 0 & 0 & 0 & 0 & 0 & 0 & 0 & 0 & 0 & ⋯ & 0 & 0 & 0 & 0 & 0 & 0 & 0 & 0 & 0 & 0\\\\\n",
       "\\end{tabular}\n"
      ],
      "text/markdown": [
       "\n",
       "A data.table: 1520 × 26\n",
       "\n",
       "| Taxon &lt;chr&gt; | A &lt;int&gt; | B &lt;int&gt; | C &lt;int&gt; | D &lt;int&gt; | E &lt;int&gt; | F &lt;int&gt; | G &lt;int&gt; | H &lt;int&gt; | I &lt;int&gt; | ⋯ ⋯ | P &lt;int&gt; | Q &lt;int&gt; | R &lt;int&gt; | S &lt;int&gt; | T &lt;int&gt; | U &lt;int&gt; | V &lt;int&gt; | W &lt;int&gt; | X &lt;int&gt; | Z &lt;int&gt; |\n",
       "|---|---|---|---|---|---|---|---|---|---|---|---|---|---|---|---|---|---|---|---|---|\n",
       "| s__14-2_sp000403255 | 0 | 0 | 8 | 1 | 8 | 4 | 9 | 8 | 7 | ⋯ | 1 | 2 |  9 | 5 | 4 | 2 | 5 | 0 | 10 | 0 |\n",
       "| s__14-2_sp000403315 | 0 | 0 | 3 | 1 | 4 | 3 | 9 | 3 | 0 | ⋯ | 1 | 0 | 13 | 4 | 8 | 4 | 6 | 0 | 10 | 0 |\n",
       "| ⋮ | ⋮ | ⋮ | ⋮ | ⋮ | ⋮ | ⋮ | ⋮ | ⋮ | ⋮ | ⋱ | ⋮ | ⋮ | ⋮ | ⋮ | ⋮ | ⋮ | ⋮ | ⋮ | ⋮ | ⋮ |\n",
       "| s__UCG-010_sp003150215 | 0 | 0 | 0 | 0 | 0 | 0 | 0 | 0 | 0 | ⋯ | 0 | 0 | 0 | 0 | 0 | 0 | 0 | 0 | 0 | 0 |\n",
       "| s__UBA5394_sp003150565 | 0 | 0 | 0 | 0 | 0 | 0 | 0 | 0 | 0 | ⋯ | 0 | 0 | 0 | 0 | 0 | 0 | 0 | 0 | 0 | 0 |\n",
       "\n"
      ],
      "text/plain": [
       "     Taxon                  A B C D E F G H I ⋯ P Q R  S T U V W X  Z\n",
       "1    s__14-2_sp000403255    0 0 8 1 8 4 9 8 7 ⋯ 1 2  9 5 4 2 5 0 10 0\n",
       "2    s__14-2_sp000403315    0 0 3 1 4 3 9 3 0 ⋯ 1 0 13 4 8 4 6 0 10 0\n",
       "⋮    ⋮                      ⋮ ⋮ ⋮ ⋮ ⋮ ⋮ ⋮ ⋮ ⋮ ⋱ ⋮ ⋮ ⋮  ⋮ ⋮ ⋮ ⋮ ⋮ ⋮  ⋮\n",
       "1519 s__UCG-010_sp003150215 0 0 0 0 0 0 0 0 0 ⋯ 0 0 0  0 0 0 0 0 0  0\n",
       "1520 s__UBA5394_sp003150565 0 0 0 0 0 0 0 0 0 ⋯ 0 0 0  0 0 0 0 0 0  0"
      ]
     },
     "metadata": {},
     "output_type": "display_data"
    }
   ],
   "source": [
    "# filtering \n",
    "cog_f = cog %>%\n",
    "    semi_join(brk_f, c('Taxon'='name')) \n",
    "cog_f"
   ]
  },
  {
   "cell_type": "code",
   "execution_count": 106,
   "metadata": {
    "ExecuteTime": {
     "end_time": "2021-10-31T08:31:43.046588Z",
     "start_time": "2021-10-31T08:31:37.228Z"
    }
   },
   "outputs": [
    {
     "data": {
      "text/html": [
       "<table class=\"dataframe\">\n",
       "<caption>A data.frame: 1520 × 25</caption>\n",
       "<thead>\n",
       "\t<tr><th></th><th scope=col>A</th><th scope=col>B</th><th scope=col>C</th><th scope=col>D</th><th scope=col>E</th><th scope=col>F</th><th scope=col>G</th><th scope=col>H</th><th scope=col>I</th><th scope=col>J</th><th scope=col>⋯</th><th scope=col>P</th><th scope=col>Q</th><th scope=col>R</th><th scope=col>S</th><th scope=col>T</th><th scope=col>U</th><th scope=col>V</th><th scope=col>W</th><th scope=col>X</th><th scope=col>Z</th></tr>\n",
       "\t<tr><th></th><th scope=col>&lt;int&gt;</th><th scope=col>&lt;int&gt;</th><th scope=col>&lt;int&gt;</th><th scope=col>&lt;int&gt;</th><th scope=col>&lt;int&gt;</th><th scope=col>&lt;int&gt;</th><th scope=col>&lt;int&gt;</th><th scope=col>&lt;int&gt;</th><th scope=col>&lt;int&gt;</th><th scope=col>&lt;int&gt;</th><th scope=col>⋯</th><th scope=col>&lt;int&gt;</th><th scope=col>&lt;int&gt;</th><th scope=col>&lt;int&gt;</th><th scope=col>&lt;int&gt;</th><th scope=col>&lt;int&gt;</th><th scope=col>&lt;int&gt;</th><th scope=col>&lt;int&gt;</th><th scope=col>&lt;int&gt;</th><th scope=col>&lt;int&gt;</th><th scope=col>&lt;int&gt;</th></tr>\n",
       "</thead>\n",
       "<tbody>\n",
       "\t<tr><th scope=row>s__14-2_sp000403255</th><td>0</td><td>0</td><td>8</td><td>1</td><td>8</td><td>4</td><td>9</td><td>8</td><td>7</td><td>14</td><td>⋯</td><td>1</td><td>2</td><td> 9</td><td>5</td><td>4</td><td>2</td><td>5</td><td>0</td><td>10</td><td>0</td></tr>\n",
       "\t<tr><th scope=row>s__14-2_sp000403315</th><td>0</td><td>0</td><td>3</td><td>1</td><td>4</td><td>3</td><td>9</td><td>3</td><td>0</td><td>13</td><td>⋯</td><td>1</td><td>0</td><td>13</td><td>4</td><td>8</td><td>4</td><td>6</td><td>0</td><td>10</td><td>0</td></tr>\n",
       "\t<tr><th scope=row>⋮</th><td>⋮</td><td>⋮</td><td>⋮</td><td>⋮</td><td>⋮</td><td>⋮</td><td>⋮</td><td>⋮</td><td>⋮</td><td>⋮</td><td>⋱</td><td>⋮</td><td>⋮</td><td>⋮</td><td>⋮</td><td>⋮</td><td>⋮</td><td>⋮</td><td>⋮</td><td>⋮</td><td>⋮</td></tr>\n",
       "\t<tr><th scope=row>s__UCG-010_sp003150215</th><td>0</td><td>0</td><td>0</td><td>0</td><td>0</td><td>0</td><td>0</td><td>0</td><td>0</td><td>0</td><td>⋯</td><td>0</td><td>0</td><td>0</td><td>0</td><td>0</td><td>0</td><td>0</td><td>0</td><td>0</td><td>0</td></tr>\n",
       "\t<tr><th scope=row>s__UBA5394_sp003150565</th><td>0</td><td>0</td><td>0</td><td>0</td><td>0</td><td>0</td><td>0</td><td>0</td><td>0</td><td>0</td><td>⋯</td><td>0</td><td>0</td><td>0</td><td>0</td><td>0</td><td>0</td><td>0</td><td>0</td><td>0</td><td>0</td></tr>\n",
       "</tbody>\n",
       "</table>\n"
      ],
      "text/latex": [
       "A data.frame: 1520 × 25\n",
       "\\begin{tabular}{r|lllllllllllllllllllll}\n",
       "  & A & B & C & D & E & F & G & H & I & J & ⋯ & P & Q & R & S & T & U & V & W & X & Z\\\\\n",
       "  & <int> & <int> & <int> & <int> & <int> & <int> & <int> & <int> & <int> & <int> & ⋯ & <int> & <int> & <int> & <int> & <int> & <int> & <int> & <int> & <int> & <int>\\\\\n",
       "\\hline\n",
       "\ts\\_\\_14-2\\_sp000403255 & 0 & 0 & 8 & 1 & 8 & 4 & 9 & 8 & 7 & 14 & ⋯ & 1 & 2 &  9 & 5 & 4 & 2 & 5 & 0 & 10 & 0\\\\\n",
       "\ts\\_\\_14-2\\_sp000403315 & 0 & 0 & 3 & 1 & 4 & 3 & 9 & 3 & 0 & 13 & ⋯ & 1 & 0 & 13 & 4 & 8 & 4 & 6 & 0 & 10 & 0\\\\\n",
       "\t⋮ & ⋮ & ⋮ & ⋮ & ⋮ & ⋮ & ⋮ & ⋮ & ⋮ & ⋮ & ⋮ & ⋱ & ⋮ & ⋮ & ⋮ & ⋮ & ⋮ & ⋮ & ⋮ & ⋮ & ⋮ & ⋮\\\\\n",
       "\ts\\_\\_UCG-010\\_sp003150215 & 0 & 0 & 0 & 0 & 0 & 0 & 0 & 0 & 0 & 0 & ⋯ & 0 & 0 & 0 & 0 & 0 & 0 & 0 & 0 & 0 & 0\\\\\n",
       "\ts\\_\\_UBA5394\\_sp003150565 & 0 & 0 & 0 & 0 & 0 & 0 & 0 & 0 & 0 & 0 & ⋯ & 0 & 0 & 0 & 0 & 0 & 0 & 0 & 0 & 0 & 0\\\\\n",
       "\\end{tabular}\n"
      ],
      "text/markdown": [
       "\n",
       "A data.frame: 1520 × 25\n",
       "\n",
       "| <!--/--> | A &lt;int&gt; | B &lt;int&gt; | C &lt;int&gt; | D &lt;int&gt; | E &lt;int&gt; | F &lt;int&gt; | G &lt;int&gt; | H &lt;int&gt; | I &lt;int&gt; | J &lt;int&gt; | ⋯ ⋯ | P &lt;int&gt; | Q &lt;int&gt; | R &lt;int&gt; | S &lt;int&gt; | T &lt;int&gt; | U &lt;int&gt; | V &lt;int&gt; | W &lt;int&gt; | X &lt;int&gt; | Z &lt;int&gt; |\n",
       "|---|---|---|---|---|---|---|---|---|---|---|---|---|---|---|---|---|---|---|---|---|---|\n",
       "| s__14-2_sp000403255 | 0 | 0 | 8 | 1 | 8 | 4 | 9 | 8 | 7 | 14 | ⋯ | 1 | 2 |  9 | 5 | 4 | 2 | 5 | 0 | 10 | 0 |\n",
       "| s__14-2_sp000403315 | 0 | 0 | 3 | 1 | 4 | 3 | 9 | 3 | 0 | 13 | ⋯ | 1 | 0 | 13 | 4 | 8 | 4 | 6 | 0 | 10 | 0 |\n",
       "| ⋮ | ⋮ | ⋮ | ⋮ | ⋮ | ⋮ | ⋮ | ⋮ | ⋮ | ⋮ | ⋮ | ⋱ | ⋮ | ⋮ | ⋮ | ⋮ | ⋮ | ⋮ | ⋮ | ⋮ | ⋮ | ⋮ |\n",
       "| s__UCG-010_sp003150215 | 0 | 0 | 0 | 0 | 0 | 0 | 0 | 0 | 0 | 0 | ⋯ | 0 | 0 | 0 | 0 | 0 | 0 | 0 | 0 | 0 | 0 |\n",
       "| s__UBA5394_sp003150565 | 0 | 0 | 0 | 0 | 0 | 0 | 0 | 0 | 0 | 0 | ⋯ | 0 | 0 | 0 | 0 | 0 | 0 | 0 | 0 | 0 | 0 |\n",
       "\n"
      ],
      "text/plain": [
       "                       A B C D E F G H I J  ⋯ P Q R  S T U V W X  Z\n",
       "s__14-2_sp000403255    0 0 8 1 8 4 9 8 7 14 ⋯ 1 2  9 5 4 2 5 0 10 0\n",
       "s__14-2_sp000403315    0 0 3 1 4 3 9 3 0 13 ⋯ 1 0 13 4 8 4 6 0 10 0\n",
       "⋮                      ⋮ ⋮ ⋮ ⋮ ⋮ ⋮ ⋮ ⋮ ⋮ ⋮  ⋱ ⋮ ⋮ ⋮  ⋮ ⋮ ⋮ ⋮ ⋮ ⋮  ⋮\n",
       "s__UCG-010_sp003150215 0 0 0 0 0 0 0 0 0 0  ⋯ 0 0 0  0 0 0 0 0 0  0\n",
       "s__UBA5394_sp003150565 0 0 0 0 0 0 0 0 0 0  ⋯ 0 0 0  0 0 0 0 0 0  0"
      ]
     },
     "metadata": {},
     "output_type": "display_data"
    }
   ],
   "source": [
    "# formatting\n",
    "cog_f = cog_f %>%\n",
    "    as.data.frame\n",
    "rownames(cog_f) = cog_f$Taxon\n",
    "cog_f$Taxon = NULL\n",
    "cog_f"
   ]
  },
  {
   "cell_type": "code",
   "execution_count": 107,
   "metadata": {
    "ExecuteTime": {
     "end_time": "2021-10-31T08:31:43.341305Z",
     "start_time": "2021-10-31T08:31:37.381Z"
    }
   },
   "outputs": [
    {
     "data": {
      "text/html": [
       "<table class=\"dataframe\">\n",
       "<caption>A data.frame: 100 × 1520</caption>\n",
       "<thead>\n",
       "\t<tr><th></th><th scope=col>s__Pectobacterium_sp003028395</th><th scope=col>s__Prevotella_salivae</th><th scope=col>s__Eubacterium_F_sp002431395</th><th scope=col>s__Prevotella_sp002353485</th><th scope=col>s__CAG-269_sp000435535</th><th scope=col>s__Mucilaginibacter_oryzae</th><th scope=col>s__Pauljensenia_sp000411415</th><th scope=col>s__Bacteroides_A_ilei</th><th scope=col>s__Lawsonibacter_sp900066645</th><th scope=col>s__Blautia_sp001304935</th><th scope=col>⋯</th><th scope=col>s__Psychrobacter_cibarius</th><th scope=col>s__Pseudocitrobacter_sp000330845</th><th scope=col>s__Phascolarctobacterium_faecium</th><th scope=col>s__Flavonifractor_sp002159455</th><th scope=col>s__Prevotella_intermedia</th><th scope=col>s__Bacteroides_B_dorei</th><th scope=col>s__Clostridium_AG_cavendishii</th><th scope=col>s__Lancefieldella_parvula</th><th scope=col>s__Prevotella_sp900316985</th><th scope=col>s__CAG-307_sp001916215</th></tr>\n",
       "\t<tr><th></th><th scope=col>&lt;dbl&gt;</th><th scope=col>&lt;dbl&gt;</th><th scope=col>&lt;dbl&gt;</th><th scope=col>&lt;dbl&gt;</th><th scope=col>&lt;dbl&gt;</th><th scope=col>&lt;dbl&gt;</th><th scope=col>&lt;dbl&gt;</th><th scope=col>&lt;dbl&gt;</th><th scope=col>&lt;dbl&gt;</th><th scope=col>&lt;dbl&gt;</th><th scope=col>⋯</th><th scope=col>&lt;dbl&gt;</th><th scope=col>&lt;dbl&gt;</th><th scope=col>&lt;dbl&gt;</th><th scope=col>&lt;dbl&gt;</th><th scope=col>&lt;dbl&gt;</th><th scope=col>&lt;dbl&gt;</th><th scope=col>&lt;dbl&gt;</th><th scope=col>&lt;dbl&gt;</th><th scope=col>&lt;dbl&gt;</th><th scope=col>&lt;dbl&gt;</th></tr>\n",
       "</thead>\n",
       "<tbody>\n",
       "\t<tr><th scope=row>H1F512951</th><td>0</td><td>0</td><td>0</td><td>0</td><td>0</td><td>0</td><td>0</td><td>0.00000</td><td>0</td><td>0</td><td>⋯</td><td>0</td><td>0</td><td>0.00039</td><td>0</td><td>0</td><td>0.00073</td><td>0</td><td>0</td><td>0</td><td>0</td></tr>\n",
       "\t<tr><th scope=row>H1F513817</th><td>0</td><td>0</td><td>0</td><td>0</td><td>0</td><td>0</td><td>0</td><td>0.00111</td><td>0</td><td>0</td><td>⋯</td><td>0</td><td>0</td><td>0.01076</td><td>0</td><td>0</td><td>0.14035</td><td>0</td><td>0</td><td>0</td><td>0</td></tr>\n",
       "\t<tr><th scope=row>⋮</th><td>⋮</td><td>⋮</td><td>⋮</td><td>⋮</td><td>⋮</td><td>⋮</td><td>⋮</td><td>⋮</td><td>⋮</td><td>⋮</td><td>⋱</td><td>⋮</td><td>⋮</td><td>⋮</td><td>⋮</td><td>⋮</td><td>⋮</td><td>⋮</td><td>⋮</td><td>⋮</td><td>⋮</td></tr>\n",
       "\t<tr><th scope=row>nHM612836</th><td>0</td><td>0</td><td>0</td><td>0</td><td>0</td><td>0</td><td>0</td><td>2e-04</td><td>0.00142</td><td>0</td><td>⋯</td><td>0</td><td>0.00013</td><td>0.00564</td><td>0</td><td>0</td><td>0.00295</td><td>0</td><td>0</td><td>0</td><td>0</td></tr>\n",
       "\t<tr><th scope=row>nHMX11726</th><td>0</td><td>0</td><td>0</td><td>0</td><td>0</td><td>0</td><td>0</td><td>0e+00</td><td>0.00043</td><td>0</td><td>⋯</td><td>0</td><td>0.00000</td><td>0.00252</td><td>0</td><td>0</td><td>0.00426</td><td>0</td><td>0</td><td>0</td><td>0</td></tr>\n",
       "</tbody>\n",
       "</table>\n"
      ],
      "text/latex": [
       "A data.frame: 100 × 1520\n",
       "\\begin{tabular}{r|lllllllllllllllllllll}\n",
       "  & s\\_\\_Pectobacterium\\_sp003028395 & s\\_\\_Prevotella\\_salivae & s\\_\\_Eubacterium\\_F\\_sp002431395 & s\\_\\_Prevotella\\_sp002353485 & s\\_\\_CAG-269\\_sp000435535 & s\\_\\_Mucilaginibacter\\_oryzae & s\\_\\_Pauljensenia\\_sp000411415 & s\\_\\_Bacteroides\\_A\\_ilei & s\\_\\_Lawsonibacter\\_sp900066645 & s\\_\\_Blautia\\_sp001304935 & ⋯ & s\\_\\_Psychrobacter\\_cibarius & s\\_\\_Pseudocitrobacter\\_sp000330845 & s\\_\\_Phascolarctobacterium\\_faecium & s\\_\\_Flavonifractor\\_sp002159455 & s\\_\\_Prevotella\\_intermedia & s\\_\\_Bacteroides\\_B\\_dorei & s\\_\\_Clostridium\\_AG\\_cavendishii & s\\_\\_Lancefieldella\\_parvula & s\\_\\_Prevotella\\_sp900316985 & s\\_\\_CAG-307\\_sp001916215\\\\\n",
       "  & <dbl> & <dbl> & <dbl> & <dbl> & <dbl> & <dbl> & <dbl> & <dbl> & <dbl> & <dbl> & ⋯ & <dbl> & <dbl> & <dbl> & <dbl> & <dbl> & <dbl> & <dbl> & <dbl> & <dbl> & <dbl>\\\\\n",
       "\\hline\n",
       "\tH1F512951 & 0 & 0 & 0 & 0 & 0 & 0 & 0 & 0.00000 & 0 & 0 & ⋯ & 0 & 0 & 0.00039 & 0 & 0 & 0.00073 & 0 & 0 & 0 & 0\\\\\n",
       "\tH1F513817 & 0 & 0 & 0 & 0 & 0 & 0 & 0 & 0.00111 & 0 & 0 & ⋯ & 0 & 0 & 0.01076 & 0 & 0 & 0.14035 & 0 & 0 & 0 & 0\\\\\n",
       "\t⋮ & ⋮ & ⋮ & ⋮ & ⋮ & ⋮ & ⋮ & ⋮ & ⋮ & ⋮ & ⋮ & ⋱ & ⋮ & ⋮ & ⋮ & ⋮ & ⋮ & ⋮ & ⋮ & ⋮ & ⋮ & ⋮\\\\\n",
       "\tnHM612836 & 0 & 0 & 0 & 0 & 0 & 0 & 0 & 2e-04 & 0.00142 & 0 & ⋯ & 0 & 0.00013 & 0.00564 & 0 & 0 & 0.00295 & 0 & 0 & 0 & 0\\\\\n",
       "\tnHMX11726 & 0 & 0 & 0 & 0 & 0 & 0 & 0 & 0e+00 & 0.00043 & 0 & ⋯ & 0 & 0.00000 & 0.00252 & 0 & 0 & 0.00426 & 0 & 0 & 0 & 0\\\\\n",
       "\\end{tabular}\n"
      ],
      "text/markdown": [
       "\n",
       "A data.frame: 100 × 1520\n",
       "\n",
       "| <!--/--> | s__Pectobacterium_sp003028395 &lt;dbl&gt; | s__Prevotella_salivae &lt;dbl&gt; | s__Eubacterium_F_sp002431395 &lt;dbl&gt; | s__Prevotella_sp002353485 &lt;dbl&gt; | s__CAG-269_sp000435535 &lt;dbl&gt; | s__Mucilaginibacter_oryzae &lt;dbl&gt; | s__Pauljensenia_sp000411415 &lt;dbl&gt; | s__Bacteroides_A_ilei &lt;dbl&gt; | s__Lawsonibacter_sp900066645 &lt;dbl&gt; | s__Blautia_sp001304935 &lt;dbl&gt; | ⋯ ⋯ | s__Psychrobacter_cibarius &lt;dbl&gt; | s__Pseudocitrobacter_sp000330845 &lt;dbl&gt; | s__Phascolarctobacterium_faecium &lt;dbl&gt; | s__Flavonifractor_sp002159455 &lt;dbl&gt; | s__Prevotella_intermedia &lt;dbl&gt; | s__Bacteroides_B_dorei &lt;dbl&gt; | s__Clostridium_AG_cavendishii &lt;dbl&gt; | s__Lancefieldella_parvula &lt;dbl&gt; | s__Prevotella_sp900316985 &lt;dbl&gt; | s__CAG-307_sp001916215 &lt;dbl&gt; |\n",
       "|---|---|---|---|---|---|---|---|---|---|---|---|---|---|---|---|---|---|---|---|---|---|\n",
       "| H1F512951 | 0 | 0 | 0 | 0 | 0 | 0 | 0 | 0.00000 | 0 | 0 | ⋯ | 0 | 0 | 0.00039 | 0 | 0 | 0.00073 | 0 | 0 | 0 | 0 |\n",
       "| H1F513817 | 0 | 0 | 0 | 0 | 0 | 0 | 0 | 0.00111 | 0 | 0 | ⋯ | 0 | 0 | 0.01076 | 0 | 0 | 0.14035 | 0 | 0 | 0 | 0 |\n",
       "| ⋮ | ⋮ | ⋮ | ⋮ | ⋮ | ⋮ | ⋮ | ⋮ | ⋮ | ⋮ | ⋮ | ⋱ | ⋮ | ⋮ | ⋮ | ⋮ | ⋮ | ⋮ | ⋮ | ⋮ | ⋮ | ⋮ |\n",
       "| nHM612836 | 0 | 0 | 0 | 0 | 0 | 0 | 0 | 2e-04 | 0.00142 | 0 | ⋯ | 0 | 0.00013 | 0.00564 | 0 | 0 | 0.00295 | 0 | 0 | 0 | 0 |\n",
       "| nHMX11726 | 0 | 0 | 0 | 0 | 0 | 0 | 0 | 0e+00 | 0.00043 | 0 | ⋯ | 0 | 0.00000 | 0.00252 | 0 | 0 | 0.00426 | 0 | 0 | 0 | 0 |\n",
       "\n"
      ],
      "text/plain": [
       "          s__Pectobacterium_sp003028395 s__Prevotella_salivae\n",
       "H1F512951 0                             0                    \n",
       "H1F513817 0                             0                    \n",
       "⋮         ⋮                             ⋮                    \n",
       "nHM612836 0                             0                    \n",
       "nHMX11726 0                             0                    \n",
       "          s__Eubacterium_F_sp002431395 s__Prevotella_sp002353485\n",
       "H1F512951 0                            0                        \n",
       "H1F513817 0                            0                        \n",
       "⋮         ⋮                            ⋮                        \n",
       "nHM612836 0                            0                        \n",
       "nHMX11726 0                            0                        \n",
       "          s__CAG-269_sp000435535 s__Mucilaginibacter_oryzae\n",
       "H1F512951 0                      0                         \n",
       "H1F513817 0                      0                         \n",
       "⋮         ⋮                      ⋮                         \n",
       "nHM612836 0                      0                         \n",
       "nHMX11726 0                      0                         \n",
       "          s__Pauljensenia_sp000411415 s__Bacteroides_A_ilei\n",
       "H1F512951 0                           0.00000              \n",
       "H1F513817 0                           0.00111              \n",
       "⋮         ⋮                           ⋮                    \n",
       "nHM612836 0                           2e-04                \n",
       "nHMX11726 0                           0e+00                \n",
       "          s__Lawsonibacter_sp900066645 s__Blautia_sp001304935 ⋯\n",
       "H1F512951 0                            0                      ⋯\n",
       "H1F513817 0                            0                      ⋯\n",
       "⋮         ⋮                            ⋮                      ⋱\n",
       "nHM612836 0.00142                      0                      ⋯\n",
       "nHMX11726 0.00043                      0                      ⋯\n",
       "          s__Psychrobacter_cibarius s__Pseudocitrobacter_sp000330845\n",
       "H1F512951 0                         0                               \n",
       "H1F513817 0                         0                               \n",
       "⋮         ⋮                         ⋮                               \n",
       "nHM612836 0                         0.00013                         \n",
       "nHMX11726 0                         0.00000                         \n",
       "          s__Phascolarctobacterium_faecium s__Flavonifractor_sp002159455\n",
       "H1F512951 0.00039                          0                            \n",
       "H1F513817 0.01076                          0                            \n",
       "⋮         ⋮                                ⋮                            \n",
       "nHM612836 0.00564                          0                            \n",
       "nHMX11726 0.00252                          0                            \n",
       "          s__Prevotella_intermedia s__Bacteroides_B_dorei\n",
       "H1F512951 0                        0.00073               \n",
       "H1F513817 0                        0.14035               \n",
       "⋮         ⋮                        ⋮                     \n",
       "nHM612836 0                        0.00295               \n",
       "nHMX11726 0                        0.00426               \n",
       "          s__Clostridium_AG_cavendishii s__Lancefieldella_parvula\n",
       "H1F512951 0                             0                        \n",
       "H1F513817 0                             0                        \n",
       "⋮         ⋮                             ⋮                        \n",
       "nHM612836 0                             0                        \n",
       "nHMX11726 0                             0                        \n",
       "          s__Prevotella_sp900316985 s__CAG-307_sp001916215\n",
       "H1F512951 0                         0                     \n",
       "H1F513817 0                         0                     \n",
       "⋮         ⋮                         ⋮                     \n",
       "nHM612836 0                         0                     \n",
       "nHMX11726 0                         0                     "
      ]
     },
     "metadata": {},
     "output_type": "display_data"
    }
   ],
   "source": [
    "# filtering to just overlapping\n",
    "x = intersect(colnames(m), rownames(cog_f))\n",
    "cog_f = cog_f[x,]\n",
    "m_f = m[,x]\n",
    "m_f"
   ]
  },
  {
   "cell_type": "code",
   "execution_count": 108,
   "metadata": {
    "ExecuteTime": {
     "end_time": "2021-10-31T08:31:43.399327Z",
     "start_time": "2021-10-31T08:31:37.507Z"
    }
   },
   "outputs": [
    {
     "data": {
      "text/html": [
       "<style>\n",
       ".list-inline {list-style: none; margin:0; padding: 0}\n",
       ".list-inline>li {display: inline-block}\n",
       ".list-inline>li:not(:last-child)::after {content: \"\\00b7\"; padding: 0 .5ex}\n",
       "</style>\n",
       "<ol class=list-inline><li>100</li><li>20</li></ol>\n"
      ],
      "text/latex": [
       "\\begin{enumerate*}\n",
       "\\item 100\n",
       "\\item 20\n",
       "\\end{enumerate*}\n"
      ],
      "text/markdown": [
       "1. 100\n",
       "2. 20\n",
       "\n",
       "\n"
      ],
      "text/plain": [
       "[1] 100  20"
      ]
     },
     "metadata": {},
     "output_type": "display_data"
    },
    {
     "data": {
      "text/html": [
       "<style>\n",
       ".list-inline {list-style: none; margin:0; padding: 0}\n",
       ".list-inline>li {display: inline-block}\n",
       ".list-inline>li:not(:last-child)::after {content: \"\\00b7\"; padding: 0 .5ex}\n",
       "</style>\n",
       "<ol class=list-inline><li>20</li><li>25</li></ol>\n"
      ],
      "text/latex": [
       "\\begin{enumerate*}\n",
       "\\item 20\n",
       "\\item 25\n",
       "\\end{enumerate*}\n"
      ],
      "text/markdown": [
       "1. 20\n",
       "2. 25\n",
       "\n",
       "\n"
      ],
      "text/plain": [
       "[1] 20 25"
      ]
     },
     "metadata": {},
     "output_type": "display_data"
    }
   ],
   "source": [
    "# filtering by abundance\n",
    "## speeding up calculation\n",
    "m_f = m_f[,colSums(m_f) > 1]\n",
    "x = intersect(colnames(m_f), rownames(cog_f))\n",
    "cog_f = cog_f[x,]\n",
    "m_f %>% dim\n",
    "cog_f %>% dim"
   ]
  },
  {
   "cell_type": "code",
   "execution_count": 109,
   "metadata": {
    "ExecuteTime": {
     "end_time": "2021-10-31T08:31:49.489446Z",
     "start_time": "2021-10-31T08:31:37.643Z"
    }
   },
   "outputs": [
    {
     "name": "stdout",
     "output_type": "stream",
     "text": [
      "FRic: Dimensionality reduction was required. The last 16 PCoA axes (out of 19 in total) were removed. \n",
      "FRic: Quality of the reduced-space representation = 0.8326678 \n"
     ]
    },
    {
     "data": {
      "text/html": [
       "<style>\n",
       ".list-inline {list-style: none; margin:0; padding: 0}\n",
       ".list-inline>li {display: inline-block}\n",
       ".list-inline>li:not(:last-child)::after {content: \"\\00b7\"; padding: 0 .5ex}\n",
       "</style>\n",
       "<ol class=list-inline><li>'nbsp'</li><li>'sing.sp'</li><li>'FRic'</li><li>'qual.FRic'</li><li>'FEve'</li><li>'FDiv'</li><li>'FDis'</li><li>'RaoQ'</li></ol>\n"
      ],
      "text/latex": [
       "\\begin{enumerate*}\n",
       "\\item 'nbsp'\n",
       "\\item 'sing.sp'\n",
       "\\item 'FRic'\n",
       "\\item 'qual.FRic'\n",
       "\\item 'FEve'\n",
       "\\item 'FDiv'\n",
       "\\item 'FDis'\n",
       "\\item 'RaoQ'\n",
       "\\end{enumerate*}\n"
      ],
      "text/markdown": [
       "1. 'nbsp'\n",
       "2. 'sing.sp'\n",
       "3. 'FRic'\n",
       "4. 'qual.FRic'\n",
       "5. 'FEve'\n",
       "6. 'FDiv'\n",
       "7. 'FDis'\n",
       "8. 'RaoQ'\n",
       "\n",
       "\n"
      ],
      "text/plain": [
       "[1] \"nbsp\"      \"sing.sp\"   \"FRic\"      \"qual.FRic\" \"FEve\"      \"FDiv\"     \n",
       "[7] \"FDis\"      \"RaoQ\"     "
      ]
     },
     "metadata": {},
     "output_type": "display_data"
    }
   ],
   "source": [
    "# FD calculation\n",
    "FD_res = dbFD(cog_f, m_f, corr=\"cailliez\", m='min', calc.CWM=FALSE)\n",
    "FD_res %>% names"
   ]
  },
  {
   "cell_type": "markdown",
   "metadata": {},
   "source": [
    "### Formatting"
   ]
  },
  {
   "cell_type": "code",
   "execution_count": 111,
   "metadata": {
    "ExecuteTime": {
     "end_time": "2021-10-31T08:32:17.688045Z",
     "start_time": "2021-10-31T08:32:17.572Z"
    }
   },
   "outputs": [
    {
     "data": {
      "text/html": [
       "<table class=\"dataframe\">\n",
       "<caption>A data.frame: 100 × 7</caption>\n",
       "<thead>\n",
       "\t<tr><th></th><th scope=col>FRic</th><th scope=col>FEve</th><th scope=col>FDiv</th><th scope=col>FDis</th><th scope=col>RaoQ</th><th scope=col>Sample</th><th scope=col>Func_data</th></tr>\n",
       "\t<tr><th></th><th scope=col>&lt;dbl&gt;</th><th scope=col>&lt;dbl&gt;</th><th scope=col>&lt;dbl&gt;</th><th scope=col>&lt;dbl&gt;</th><th scope=col>&lt;dbl&gt;</th><th scope=col>&lt;chr&gt;</th><th scope=col>&lt;chr&gt;</th></tr>\n",
       "</thead>\n",
       "<tbody>\n",
       "\t<tr><th scope=row>H1F512951</th><td>50.97237</td><td>0.6131673</td><td>0.6310252</td><td>1.449419</td><td> 4.338515</td><td>H1F512951</td><td>COG_categories</td></tr>\n",
       "\t<tr><th scope=row>H1F513817</th><td>32.93439</td><td>0.3046435</td><td>0.8385919</td><td>3.767930</td><td>15.899808</td><td>H1F513817</td><td>COG_categories</td></tr>\n",
       "\t<tr><th scope=row>⋮</th><td>⋮</td><td>⋮</td><td>⋮</td><td>⋮</td><td>⋮</td><td>⋮</td><td>⋮</td></tr>\n",
       "\t<tr><th scope=row>nHM612836</th><td>119.13565</td><td>0.5993496</td><td>0.6327933</td><td>4.569794</td><td>24.197398</td><td>nHM612836</td><td>COG_categories</td></tr>\n",
       "\t<tr><th scope=row>nHMX11726</th><td> 41.19194</td><td>0.6194202</td><td>0.6162417</td><td>2.232123</td><td> 8.970426</td><td>nHMX11726</td><td>COG_categories</td></tr>\n",
       "</tbody>\n",
       "</table>\n"
      ],
      "text/latex": [
       "A data.frame: 100 × 7\n",
       "\\begin{tabular}{r|lllllll}\n",
       "  & FRic & FEve & FDiv & FDis & RaoQ & Sample & Func\\_data\\\\\n",
       "  & <dbl> & <dbl> & <dbl> & <dbl> & <dbl> & <chr> & <chr>\\\\\n",
       "\\hline\n",
       "\tH1F512951 & 50.97237 & 0.6131673 & 0.6310252 & 1.449419 &  4.338515 & H1F512951 & COG\\_categories\\\\\n",
       "\tH1F513817 & 32.93439 & 0.3046435 & 0.8385919 & 3.767930 & 15.899808 & H1F513817 & COG\\_categories\\\\\n",
       "\t⋮ & ⋮ & ⋮ & ⋮ & ⋮ & ⋮ & ⋮ & ⋮\\\\\n",
       "\tnHM612836 & 119.13565 & 0.5993496 & 0.6327933 & 4.569794 & 24.197398 & nHM612836 & COG\\_categories\\\\\n",
       "\tnHMX11726 &  41.19194 & 0.6194202 & 0.6162417 & 2.232123 &  8.970426 & nHMX11726 & COG\\_categories\\\\\n",
       "\\end{tabular}\n"
      ],
      "text/markdown": [
       "\n",
       "A data.frame: 100 × 7\n",
       "\n",
       "| <!--/--> | FRic &lt;dbl&gt; | FEve &lt;dbl&gt; | FDiv &lt;dbl&gt; | FDis &lt;dbl&gt; | RaoQ &lt;dbl&gt; | Sample &lt;chr&gt; | Func_data &lt;chr&gt; |\n",
       "|---|---|---|---|---|---|---|---|\n",
       "| H1F512951 | 50.97237 | 0.6131673 | 0.6310252 | 1.449419 |  4.338515 | H1F512951 | COG_categories |\n",
       "| H1F513817 | 32.93439 | 0.3046435 | 0.8385919 | 3.767930 | 15.899808 | H1F513817 | COG_categories |\n",
       "| ⋮ | ⋮ | ⋮ | ⋮ | ⋮ | ⋮ | ⋮ | ⋮ |\n",
       "| nHM612836 | 119.13565 | 0.5993496 | 0.6327933 | 4.569794 | 24.197398 | nHM612836 | COG_categories |\n",
       "| nHMX11726 |  41.19194 | 0.6194202 | 0.6162417 | 2.232123 |  8.970426 | nHMX11726 | COG_categories |\n",
       "\n"
      ],
      "text/plain": [
       "          FRic      FEve      FDiv      FDis     RaoQ      Sample   \n",
       "H1F512951 50.97237  0.6131673 0.6310252 1.449419  4.338515 H1F512951\n",
       "H1F513817 32.93439  0.3046435 0.8385919 3.767930 15.899808 H1F513817\n",
       "⋮         ⋮         ⋮         ⋮         ⋮        ⋮         ⋮        \n",
       "nHM612836 119.13565 0.5993496 0.6327933 4.569794 24.197398 nHM612836\n",
       "nHMX11726  41.19194 0.6194202 0.6162417 2.232123  8.970426 nHMX11726\n",
       "          Func_data     \n",
       "H1F512951 COG_categories\n",
       "H1F513817 COG_categories\n",
       "⋮         ⋮             \n",
       "nHM612836 COG_categories\n",
       "nHMX11726 COG_categories"
      ]
     },
     "metadata": {},
     "output_type": "display_data"
    }
   ],
   "source": [
    "# formatting\n",
    "v = c('FRic', 'FEve', 'FDiv', 'FDis', 'RaoQ') \n",
    "FD_res_cog = v %>%\n",
    "    lapply(function(x) FD_res[[x]] %>% as.data.frame) %>%\n",
    "    do.call(cbind, .) \n",
    "colnames(FD_res_cog) = c('FRic', 'FEve', 'FDiv', 'FDis', 'RaoQ') \n",
    "FD_res_cog$Sample = rownames(FD_res_cog)\n",
    "FD_res_cog$Func_data = 'COG_categories'\n",
    "FD_res_cog"
   ]
  },
  {
   "cell_type": "markdown",
   "metadata": {},
   "source": [
    "## Summary"
   ]
  },
  {
   "cell_type": "code",
   "execution_count": 115,
   "metadata": {
    "ExecuteTime": {
     "end_time": "2021-10-31T08:33:44.501795Z",
     "start_time": "2021-10-31T08:33:44.393Z"
    }
   },
   "outputs": [
    {
     "data": {
      "text/html": [
       "<table class=\"dataframe\">\n",
       "<caption>A tibble: 1000 × 12</caption>\n",
       "<thead>\n",
       "\t<tr><th scope=col>Sample</th><th scope=col>Func_data</th><th scope=col>measure</th><th scope=col>value</th><th scope=col>dataset_name</th><th scope=col>subjectID</th><th scope=col>study_condition</th><th scope=col>disease</th><th scope=col>age</th><th scope=col>gender</th><th scope=col>BMI</th><th scope=col>westernized</th></tr>\n",
       "\t<tr><th scope=col>&lt;chr&gt;</th><th scope=col>&lt;chr&gt;</th><th scope=col>&lt;chr&gt;</th><th scope=col>&lt;dbl&gt;</th><th scope=col>&lt;chr&gt;</th><th scope=col>&lt;chr&gt;</th><th scope=col>&lt;chr&gt;</th><th scope=col>&lt;chr&gt;</th><th scope=col>&lt;int&gt;</th><th scope=col>&lt;chr&gt;</th><th scope=col>&lt;dbl&gt;</th><th scope=col>&lt;lgl&gt;</th></tr>\n",
       "</thead>\n",
       "<tbody>\n",
       "\t<tr><td>H1F512951</td><td>Traits</td><td>FRic</td><td>52.3902271</td><td>LiJ_2017</td><td>H1F512951</td><td>hypertension</td><td>hypertension</td><td>NA</td><td></td><td>NA</td><td>TRUE</td></tr>\n",
       "\t<tr><td>H1F512951</td><td>Traits</td><td>FEve</td><td> 0.5432318</td><td>LiJ_2017</td><td>H1F512951</td><td>hypertension</td><td>hypertension</td><td>NA</td><td></td><td>NA</td><td>TRUE</td></tr>\n",
       "\t<tr><td>⋮</td><td>⋮</td><td>⋮</td><td>⋮</td><td>⋮</td><td>⋮</td><td>⋮</td><td>⋮</td><td>⋮</td><td>⋮</td><td>⋮</td><td>⋮</td></tr>\n",
       "\t<tr><td>nHMX11726</td><td>COG_categories</td><td>FDis</td><td>2.232123</td><td>LiJ_2017</td><td>nHMX11726</td><td>control</td><td>healthy</td><td>NA</td><td></td><td>NA</td><td>TRUE</td></tr>\n",
       "\t<tr><td>nHMX11726</td><td>COG_categories</td><td>RaoQ</td><td>8.970426</td><td>LiJ_2017</td><td>nHMX11726</td><td>control</td><td>healthy</td><td>NA</td><td></td><td>NA</td><td>TRUE</td></tr>\n",
       "</tbody>\n",
       "</table>\n"
      ],
      "text/latex": [
       "A tibble: 1000 × 12\n",
       "\\begin{tabular}{llllllllllll}\n",
       " Sample & Func\\_data & measure & value & dataset\\_name & subjectID & study\\_condition & disease & age & gender & BMI & westernized\\\\\n",
       " <chr> & <chr> & <chr> & <dbl> & <chr> & <chr> & <chr> & <chr> & <int> & <chr> & <dbl> & <lgl>\\\\\n",
       "\\hline\n",
       "\t H1F512951 & Traits & FRic & 52.3902271 & LiJ\\_2017 & H1F512951 & hypertension & hypertension & NA &  & NA & TRUE\\\\\n",
       "\t H1F512951 & Traits & FEve &  0.5432318 & LiJ\\_2017 & H1F512951 & hypertension & hypertension & NA &  & NA & TRUE\\\\\n",
       "\t ⋮ & ⋮ & ⋮ & ⋮ & ⋮ & ⋮ & ⋮ & ⋮ & ⋮ & ⋮ & ⋮ & ⋮\\\\\n",
       "\t nHMX11726 & COG\\_categories & FDis & 2.232123 & LiJ\\_2017 & nHMX11726 & control & healthy & NA &  & NA & TRUE\\\\\n",
       "\t nHMX11726 & COG\\_categories & RaoQ & 8.970426 & LiJ\\_2017 & nHMX11726 & control & healthy & NA &  & NA & TRUE\\\\\n",
       "\\end{tabular}\n"
      ],
      "text/markdown": [
       "\n",
       "A tibble: 1000 × 12\n",
       "\n",
       "| Sample &lt;chr&gt; | Func_data &lt;chr&gt; | measure &lt;chr&gt; | value &lt;dbl&gt; | dataset_name &lt;chr&gt; | subjectID &lt;chr&gt; | study_condition &lt;chr&gt; | disease &lt;chr&gt; | age &lt;int&gt; | gender &lt;chr&gt; | BMI &lt;dbl&gt; | westernized &lt;lgl&gt; |\n",
       "|---|---|---|---|---|---|---|---|---|---|---|---|\n",
       "| H1F512951 | Traits | FRic | 52.3902271 | LiJ_2017 | H1F512951 | hypertension | hypertension | NA | <!----> | NA | TRUE |\n",
       "| H1F512951 | Traits | FEve |  0.5432318 | LiJ_2017 | H1F512951 | hypertension | hypertension | NA | <!----> | NA | TRUE |\n",
       "| ⋮ | ⋮ | ⋮ | ⋮ | ⋮ | ⋮ | ⋮ | ⋮ | ⋮ | ⋮ | ⋮ | ⋮ |\n",
       "| nHMX11726 | COG_categories | FDis | 2.232123 | LiJ_2017 | nHMX11726 | control | healthy | NA | <!----> | NA | TRUE |\n",
       "| nHMX11726 | COG_categories | RaoQ | 8.970426 | LiJ_2017 | nHMX11726 | control | healthy | NA | <!----> | NA | TRUE |\n",
       "\n"
      ],
      "text/plain": [
       "     Sample    Func_data      measure value      dataset_name subjectID\n",
       "1    H1F512951 Traits         FRic    52.3902271 LiJ_2017     H1F512951\n",
       "2    H1F512951 Traits         FEve     0.5432318 LiJ_2017     H1F512951\n",
       "⋮    ⋮         ⋮              ⋮       ⋮          ⋮            ⋮        \n",
       "999  nHMX11726 COG_categories FDis    2.232123   LiJ_2017     nHMX11726\n",
       "1000 nHMX11726 COG_categories RaoQ    8.970426   LiJ_2017     nHMX11726\n",
       "     study_condition disease      age gender BMI westernized\n",
       "1    hypertension    hypertension NA         NA  TRUE       \n",
       "2    hypertension    hypertension NA         NA  TRUE       \n",
       "⋮    ⋮               ⋮            ⋮   ⋮      ⋮   ⋮          \n",
       "999  control         healthy      NA         NA  TRUE       \n",
       "1000 control         healthy      NA         NA  TRUE       "
      ]
     },
     "metadata": {},
     "output_type": "display_data"
    }
   ],
   "source": [
    "# merging \n",
    "FD_res = rbind(FD_res_trt, FD_res_cog) %>%\n",
    "    pivot_longer(cols=c(-Sample, -Func_data), names_to='measure', values_to='value') %>%\n",
    "    inner_join(meta, c('Sample'))\n",
    "FD_res"
   ]
  },
  {
   "cell_type": "code",
   "execution_count": 119,
   "metadata": {
    "ExecuteTime": {
     "end_time": "2021-10-31T08:34:36.366991Z",
     "start_time": "2021-10-31T08:34:35.184Z"
    }
   },
   "outputs": [
    {
     "data": {
      "image/png": "[encoded data removed]",
      "text/plain": [
       "plot without title"
      ]
     },
     "metadata": {
      "image/png": {
       "height": 550,
       "width": 450
      }
     },
     "output_type": "display_data"
    }
   ],
   "source": [
    "# plotting diversity\n",
    "p = FD_res %>%\n",
    "    ggplot(aes(disease, value)) +\n",
    "    geom_boxplot() +\n",
    "    facet_grid(measure ~ Func_data, scales='free_y') +\n",
    "    theme_bw()\n",
    "p.dims(4.5,5.5)\n",
    "plot(p)"
   ]
  },
  {
   "cell_type": "markdown",
   "metadata": {},
   "source": [
    "# sessionInfo"
   ]
  },
  {
   "cell_type": "code",
   "execution_count": 120,
   "metadata": {
    "ExecuteTime": {
     "end_time": "2021-10-31T08:34:56.423392Z",
     "start_time": "2021-10-31T08:34:56.279Z"
    }
   },
   "outputs": [
    {
     "data": {
      "text/plain": [
       "R version 4.1.1 (2021-08-10)\n",
       "Platform: x86_64-conda-linux-gnu (64-bit)\n",
       "Running under: Ubuntu 18.04.6 LTS\n",
       "\n",
       "Matrix products: default\n",
       "BLAS/LAPACK: /ebio/abt3_projects2/global_metagenome_diversity/envs/phyloseq/lib/libopenblasp-r0.3.17.so\n",
       "\n",
       "locale:\n",
       " [1] LC_CTYPE=en_US.UTF-8       LC_NUMERIC=C              \n",
       " [3] LC_TIME=en_US.UTF-8        LC_COLLATE=en_US.UTF-8    \n",
       " [5] LC_MONETARY=en_US.UTF-8    LC_MESSAGES=en_US.UTF-8   \n",
       " [7] LC_PAPER=en_US.UTF-8       LC_NAME=C                 \n",
       " [9] LC_ADDRESS=C               LC_TELEPHONE=C            \n",
       "[11] LC_MEASUREMENT=en_US.UTF-8 LC_IDENTIFICATION=C       \n",
       "\n",
       "attached base packages:\n",
       "[1] stats     graphics  grDevices utils     datasets  methods   base     \n",
       "\n",
       "other attached packages:\n",
       " [1] FD_1.0-12         vegan_2.5-7       lattice_0.20-45   permute_0.9-5    \n",
       " [5] geometry_0.4.5    ade4_1.7-17       ape_5.5           data.table_1.14.0\n",
       " [9] ggplot2_3.3.5     tidyr_1.1.3       dplyr_1.0.7      \n",
       "\n",
       "loaded via a namespace (and not attached):\n",
       " [1] pbdZMQ_0.3-5        tidyselect_1.1.1    repr_1.1.3         \n",
       " [4] purrr_0.3.4         splines_4.1.1       colorspace_2.0-2   \n",
       " [7] vctrs_0.3.8         generics_0.1.0      htmltools_0.5.2    \n",
       "[10] mgcv_1.8-37         base64enc_0.1-3     utf8_1.2.2         \n",
       "[13] rlang_0.4.11        R.oo_1.24.0         pillar_1.6.2       \n",
       "[16] glue_1.4.2          withr_2.4.2         R.utils_2.10.1     \n",
       "[19] uuid_0.1-4          lifecycle_1.0.0     munsell_0.5.0      \n",
       "[22] gtable_0.3.0        R.methodsS3_1.8.1   stringfish_0.15.2  \n",
       "[25] evaluate_0.14       labeling_0.4.2      RApiSerialize_0.1.0\n",
       "[28] magic_1.5-9         fastmap_1.1.0       parallel_4.1.1     \n",
       "[31] fansi_0.4.2         IRdisplay_1.0       Rcpp_1.0.7         \n",
       "[34] scales_1.1.1        IRkernel_1.2        RcppParallel_5.1.4 \n",
       "[37] jsonlite_1.7.2      abind_1.4-5         farver_2.1.0       \n",
       "[40] digest_0.6.28       qs_0.25.1           grid_4.1.1         \n",
       "[43] cli_3.0.1           tools_4.1.1         magrittr_2.0.1     \n",
       "[46] tibble_3.1.4        cluster_2.1.2       crayon_1.4.1       \n",
       "[49] pkgconfig_2.0.3     ellipsis_0.3.2      MASS_7.3-54        \n",
       "[52] Matrix_1.3-4        R6_2.5.1            nlme_3.1-153       \n",
       "[55] compiler_4.1.1     "
      ]
     },
     "metadata": {},
     "output_type": "display_data"
    }
   ],
   "source": [
    "sessionInfo()"
   ]
  }
 ],
 "metadata": {
  "kernelspec": {
   "display_name": "R [conda env:global_metagenome_diversity-phyloseq]",
   "language": "R",
   "name": "conda-env-global_metagenome_diversity-phyloseq-r"
  },
  "language_info": {
   "codemirror_mode": "r",
   "file_extension": ".r",
   "mimetype": "text/x-r-source",
   "name": "R",
   "pygments_lexer": "r",
   "version": "4.1.1"
  },
  "notify_time": "30",
  "toc": {
   "base_numbering": 1,
   "nav_menu": {},
   "number_sections": true,
   "sideBar": true,
   "skip_h1_title": false,
   "title_cell": "Table of Contents",
   "title_sidebar": "Contents",
   "toc_cell": true,
   "toc_position": {},
   "toc_section_display": true,
   "toc_window_display": true
  }
 },
 "nbformat": 4,
 "nbformat_minor": 4
}
