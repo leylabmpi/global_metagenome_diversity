{
 "cells": [
  {
   "cell_type": "markdown",
   "metadata": {
    "toc": true
   },
   "source": [
    "<h1>Table of Contents<span class=\"tocSkip\"></span></h1>\n",
    "<div class=\"toc\"><ul class=\"toc-item\"><li><span><a href=\"#Goal\" data-toc-modified-id=\"Goal-1\"><span class=\"toc-item-num\">1&nbsp;&nbsp;</span>Goal</a></span></li><li><span><a href=\"#Var\" data-toc-modified-id=\"Var-2\"><span class=\"toc-item-num\">2&nbsp;&nbsp;</span>Var</a></span></li><li><span><a href=\"#Init\" data-toc-modified-id=\"Init-3\"><span class=\"toc-item-num\">3&nbsp;&nbsp;</span>Init</a></span></li><li><span><a href=\"#Load\" data-toc-modified-id=\"Load-4\"><span class=\"toc-item-num\">4&nbsp;&nbsp;</span>Load</a></span><ul class=\"toc-item\"><li><span><a href=\"#Metadata\" data-toc-modified-id=\"Metadata-4.1\"><span class=\"toc-item-num\">4.1&nbsp;&nbsp;</span>Metadata</a></span></li><li><span><a href=\"#Counts\" data-toc-modified-id=\"Counts-4.2\"><span class=\"toc-item-num\">4.2&nbsp;&nbsp;</span>Counts</a></span></li><li><span><a href=\"#Alpha-div\" data-toc-modified-id=\"Alpha-div-4.3\"><span class=\"toc-item-num\">4.3&nbsp;&nbsp;</span>Alpha div</a></span></li></ul></li><li><span><a href=\"#Format\" data-toc-modified-id=\"Format-5\"><span class=\"toc-item-num\">5&nbsp;&nbsp;</span>Format</a></span><ul class=\"toc-item\"><li><span><a href=\"#Overlap\" data-toc-modified-id=\"Overlap-5.1\"><span class=\"toc-item-num\">5.1&nbsp;&nbsp;</span>Overlap</a></span></li><li><span><a href=\"#Merging\" data-toc-modified-id=\"Merging-5.2\"><span class=\"toc-item-num\">5.2&nbsp;&nbsp;</span>Merging</a></span></li></ul></li><li><span><a href=\"#ML-settings\" data-toc-modified-id=\"ML-settings-6\"><span class=\"toc-item-num\">6&nbsp;&nbsp;</span>ML settings</a></span><ul class=\"toc-item\"><li><span><a href=\"#functions\" data-toc-modified-id=\"functions-6.1\"><span class=\"toc-item-num\">6.1&nbsp;&nbsp;</span>functions</a></span></li></ul></li><li><span><a href=\"#Westernization\" data-toc-modified-id=\"Westernization-7\"><span class=\"toc-item-num\">7&nbsp;&nbsp;</span>Westernization</a></span><ul class=\"toc-item\"><li><span><a href=\"#RF\" data-toc-modified-id=\"RF-7.1\"><span class=\"toc-item-num\">7.1&nbsp;&nbsp;</span>RF</a></span><ul class=\"toc-item\"><li><span><a href=\"#Performance\" data-toc-modified-id=\"Performance-7.1.1\"><span class=\"toc-item-num\">7.1.1&nbsp;&nbsp;</span>Performance</a></span></li></ul></li></ul></li><li><span><a href=\"#Gender\" data-toc-modified-id=\"Gender-8\"><span class=\"toc-item-num\">8&nbsp;&nbsp;</span>Gender</a></span><ul class=\"toc-item\"><li><span><a href=\"#RF\" data-toc-modified-id=\"RF-8.1\"><span class=\"toc-item-num\">8.1&nbsp;&nbsp;</span>RF</a></span><ul class=\"toc-item\"><li><span><a href=\"#Performance\" data-toc-modified-id=\"Performance-8.1.1\"><span class=\"toc-item-num\">8.1.1&nbsp;&nbsp;</span>Performance</a></span></li></ul></li></ul></li><li><span><a href=\"#Disease\" data-toc-modified-id=\"Disease-9\"><span class=\"toc-item-num\">9&nbsp;&nbsp;</span>Disease</a></span><ul class=\"toc-item\"><li><span><a href=\"#RF\" data-toc-modified-id=\"RF-9.1\"><span class=\"toc-item-num\">9.1&nbsp;&nbsp;</span>RF</a></span><ul class=\"toc-item\"><li><span><a href=\"#Performance\" data-toc-modified-id=\"Performance-9.1.1\"><span class=\"toc-item-num\">9.1.1&nbsp;&nbsp;</span>Performance</a></span></li></ul></li></ul></li><li><span><a href=\"#Performance-summary\" data-toc-modified-id=\"Performance-summary-10\"><span class=\"toc-item-num\">10&nbsp;&nbsp;</span>Performance summary</a></span><ul class=\"toc-item\"><li><ul class=\"toc-item\"><li><ul class=\"toc-item\"><li><span><a href=\"#Writing-table\" data-toc-modified-id=\"Writing-table-10.0.0.1\"><span class=\"toc-item-num\">10.0.0.1&nbsp;&nbsp;</span>Writing table</a></span></li></ul></li></ul></li></ul></li><li><span><a href=\"#sessionInfo\" data-toc-modified-id=\"sessionInfo-11\"><span class=\"toc-item-num\">11&nbsp;&nbsp;</span>sessionInfo</a></span></li></ul></div>"
   ]
  },
  {
   "cell_type": "markdown",
   "metadata": {},
   "source": [
    "# Goal\n",
    "\n",
    "* ML with all previously computed alpha diversity measures:\n",
    "  * shannon & faith PD\n",
    "  * MPD & MNTD\n",
    "  * functional richness and evenness"
   ]
  },
  {
   "cell_type": "markdown",
   "metadata": {},
   "source": [
    "# Var"
   ]
  },
  {
   "cell_type": "code",
   "execution_count": 1,
   "metadata": {
    "ExecuteTime": {
     "end_time": "2021-10-01T07:24:30.751404Z",
     "start_time": "2021-10-01T07:24:30.675Z"
    }
   },
   "outputs": [],
   "source": [
    "work_dir = '/ebio/abt3_projects/databases_no-backup/curatedMetagenomicData/global_metagenomes/diversity/ML/'\n",
    "\n",
    "# sample metadata\n",
    "## filtered\n",
    "#metadata_filt_file = file.path(work_dir, 'CurMetDat_metadata_filt-n1846.tsv')\n",
    "## all \n",
    "base_in_dir = '/ebio/abt3_projects/small_projects/nyoungblut/public_data_retireval/'\n",
    "metadata_file = file.path(base_in_dir, 'CurMetDat-metagenomes', 'files', 'metadata', 'Filtered_CurMetDat_ff.tsv')\n",
    "\n",
    "# bracken counts\n",
    "brk_file = '/ebio/abt3_projects/databases_no-backup/curatedMetagenomicData/global_metagenomes/diversity/bracken_filt2.qs'\n",
    "\n",
    "# alpha diversity\n",
    "## standard\n",
    "alpha_div_file = '/ebio/abt3_projects/databases_no-backup/curatedMetagenomicData/global_metagenomes/diversity/alpha_div_cog-pfam.tsv'\n",
    "## eco-phy\n",
    "mpd_file = '/ebio/abt3_projects/databases_no-backup/curatedMetagenomicData/global_metagenomes/diversity/MPD.tsv'\n",
    "mntd_file = '/ebio/abt3_projects/databases_no-backup/curatedMetagenomicData/global_metagenomes/diversity/MNTD.tsv'\n",
    "## FD\n",
    "fd_trt_file = '/ebio/abt3_projects/databases_no-backup/curatedMetagenomicData/global_metagenomes/diversity/Traitar_FD_m-min.RDS'\n",
    "fd_cog_file = '/ebio/abt3_projects/databases_no-backup/curatedMetagenomicData/global_metagenomes/diversity/cogcat_FD_m-min.RDS'\n",
    "\n",
    "# params\n",
    "threads = 8\n",
    "seed = 28271"
   ]
  },
  {
   "cell_type": "markdown",
   "metadata": {},
   "source": [
    "# Init"
   ]
  },
  {
   "cell_type": "code",
   "execution_count": 2,
   "metadata": {
    "ExecuteTime": {
     "end_time": "2021-10-01T07:24:31.471571Z",
     "start_time": "2021-10-01T07:24:30.679Z"
    }
   },
   "outputs": [
    {
     "name": "stderr",
     "output_type": "stream",
     "text": [
      "\n",
      "Attaching package: ‘dplyr’\n",
      "\n",
      "\n",
      "The following objects are masked from ‘package:stats’:\n",
      "\n",
      "    filter, lag\n",
      "\n",
      "\n",
      "The following objects are masked from ‘package:base’:\n",
      "\n",
      "    intersect, setdiff, setequal, union\n",
      "\n",
      "\n",
      "\n",
      "Attaching package: ‘data.table’\n",
      "\n",
      "\n",
      "The following objects are masked from ‘package:dplyr’:\n",
      "\n",
      "    between, first, last\n",
      "\n",
      "\n",
      "\n",
      "Attaching package: ‘tidytable’\n",
      "\n",
      "\n",
      "The following object is masked from ‘package:stats’:\n",
      "\n",
      "    dt\n",
      "\n",
      "\n",
      "Loading required package: foreach\n",
      "\n",
      "Loading required package: iterators\n",
      "\n",
      "Loading required package: parallel\n",
      "\n"
     ]
    }
   ],
   "source": [
    "library(dplyr)\n",
    "library(tidyr)\n",
    "library(ggplot2)\n",
    "library(data.table)\n",
    "library(tidytable)\n",
    "library(doParallel)\n",
    "library(LeyLabRMisc)"
   ]
  },
  {
   "cell_type": "code",
   "execution_count": 3,
   "metadata": {
    "ExecuteTime": {
     "end_time": "2021-10-01T07:24:32.766285Z",
     "start_time": "2021-10-01T07:24:30.682Z"
    }
   },
   "outputs": [
    {
     "name": "stderr",
     "output_type": "stream",
     "text": [
      "Loading required package: ParamHelpers\n",
      "\n",
      "Warning message: 'mlr' is in 'maintenance-only' mode since July 2019.\n",
      "Future development will only happen in 'mlr3'\n",
      "(<https://mlr3.mlr-org.com>). Due to the focus on 'mlr3' there might be\n",
      "uncaught bugs meanwhile in {mlr} - please consider switching.\n",
      "\n",
      "randomForest 4.6-14\n",
      "\n",
      "Type rfNews() to see new features/changes/bug fixes.\n",
      "\n",
      "\n",
      "Attaching package: ‘randomForest’\n",
      "\n",
      "\n",
      "The following object is masked from ‘package:ggplot2’:\n",
      "\n",
      "    margin\n",
      "\n",
      "\n",
      "The following object is masked from ‘package:dplyr’:\n",
      "\n",
      "    combine\n",
      "\n",
      "\n"
     ]
    }
   ],
   "source": [
    "library(Boruta)\n",
    "library(mlr)\n",
    "library(randomForest)\n",
    "library(parallelMap)"
   ]
  },
  {
   "cell_type": "code",
   "execution_count": 4,
   "metadata": {
    "ExecuteTime": {
     "end_time": "2021-10-01T07:24:32.793687Z",
     "start_time": "2021-10-01T07:24:30.684Z"
    }
   },
   "outputs": [
    {
     "name": "stdout",
     "output_type": "stream",
     "text": [
      "Directory already exists: /ebio/abt3_projects/databases_no-backup/curatedMetagenomicData/global_metagenomes/diversity/ML/ \n"
     ]
    }
   ],
   "source": [
    "setDTthreads(threads)\n",
    "make_dir(work_dir)\n",
    "set.seed(seed)\n",
    "df.dims()"
   ]
  },
  {
   "cell_type": "code",
   "execution_count": 5,
   "metadata": {
    "ExecuteTime": {
     "end_time": "2021-10-01T07:24:32.836779Z",
     "start_time": "2021-10-01T07:24:30.687Z"
    }
   },
   "outputs": [
    {
     "data": {
      "text/plain": [
       "Filter: 'boruta.filter'\n",
       "Packages: ''\n",
       "Supported tasks: classif,regr\n",
       "Supported features: numerics,factors,ordered"
      ]
     },
     "metadata": {},
     "output_type": "display_data"
    }
   ],
   "source": [
    "# custom boruta filter\n",
    "mlr_boruta_filter()"
   ]
  },
  {
   "cell_type": "markdown",
   "metadata": {},
   "source": [
    "# Load"
   ]
  },
  {
   "cell_type": "markdown",
   "metadata": {},
   "source": [
    "## Metadata"
   ]
  },
  {
   "cell_type": "code",
   "execution_count": 6,
   "metadata": {
    "ExecuteTime": {
     "end_time": "2021-10-01T07:24:33.017597Z",
     "start_time": "2021-10-01T07:24:30.693Z"
    }
   },
   "outputs": [
    {
     "name": "stdout",
     "output_type": "stream",
     "text": [
      "No. of unique Samples: 2943 \n",
      "No. of unique Subjects: 2943 \n",
      "No. of unique Datasets: 30 \n"
     ]
    },
    {
     "data": {
      "text/html": [
       "<table class=\"dataframe\">\n",
       "<caption>A data.table: 2943 × 71</caption>\n",
       "<thead>\n",
       "\t<tr><th scope=col>dataset_name</th><th scope=col>Sample</th><th scope=col>subjectID</th><th scope=col>body_site</th><th scope=col>antibiotics_current_use</th><th scope=col>study_condition</th><th scope=col>disease</th><th scope=col>age</th><th scope=col>age_category</th><th scope=col>gender</th><th scope=col>⋯</th><th scope=col>glp_1</th><th scope=col>travel_destination</th><th scope=col>urea_nitrogen</th><th scope=col>disease_stage</th><th scope=col>uncurated_metadata</th><th scope=col>family_member</th><th scope=col>subject_n</th><th scope=col>samp_n</th><th scope=col>westernized</th><th scope=col>samps_per_study</th></tr>\n",
       "\t<tr><th scope=col>&lt;chr&gt;</th><th scope=col>&lt;chr&gt;</th><th scope=col>&lt;chr&gt;</th><th scope=col>&lt;chr&gt;</th><th scope=col>&lt;chr&gt;</th><th scope=col>&lt;chr&gt;</th><th scope=col>&lt;chr&gt;</th><th scope=col>&lt;int&gt;</th><th scope=col>&lt;chr&gt;</th><th scope=col>&lt;chr&gt;</th><th scope=col>⋯</th><th scope=col>&lt;dbl&gt;</th><th scope=col>&lt;chr&gt;</th><th scope=col>&lt;dbl&gt;</th><th scope=col>&lt;int&gt;</th><th scope=col>&lt;chr&gt;</th><th scope=col>&lt;chr&gt;</th><th scope=col>&lt;int&gt;</th><th scope=col>&lt;int&gt;</th><th scope=col>&lt;lgl&gt;</th><th scope=col>&lt;int&gt;</th></tr>\n",
       "</thead>\n",
       "<tbody>\n",
       "\t<tr><td>Bengtsson-PalmeJ_2015</td><td>TRAVELRES1 </td><td>TRAVELRES1_2  </td><td>stool</td><td>no</td><td>control</td><td>healthy</td><td>25</td><td>adult</td><td>female</td><td>⋯</td><td>NA</td><td></td><td>NA</td><td>NA</td><td></td><td></td><td>1</td><td>1</td><td>TRUE</td><td>36</td></tr>\n",
       "\t<tr><td>Bengtsson-PalmeJ_2015</td><td>TRAVELRES11</td><td>TRAVELRES11_12</td><td>stool</td><td>no</td><td>control</td><td>healthy</td><td>22</td><td>adult</td><td>female</td><td>⋯</td><td>NA</td><td></td><td>NA</td><td>NA</td><td></td><td></td><td>1</td><td>1</td><td>TRUE</td><td>36</td></tr>\n",
       "\t<tr><td>⋮</td><td>⋮</td><td>⋮</td><td>⋮</td><td>⋮</td><td>⋮</td><td>⋮</td><td>⋮</td><td>⋮</td><td>⋮</td><td>⋱</td><td>⋮</td><td>⋮</td><td>⋮</td><td>⋮</td><td>⋮</td><td>⋮</td><td>⋮</td><td>⋮</td><td>⋮</td><td>⋮</td></tr>\n",
       "\t<tr><td>ZeeviD_2015</td><td>PNP_Validation_45</td><td>PNP_Validation_45</td><td>stool</td><td>no</td><td>control</td><td>healthy</td><td>NA</td><td>adult</td><td></td><td>⋯</td><td>NA</td><td></td><td>NA</td><td>NA</td><td></td><td></td><td>1</td><td>1</td><td>TRUE</td><td>446</td></tr>\n",
       "\t<tr><td>ZeeviD_2015</td><td>PNP_Validation_46</td><td>PNP_Validation_46</td><td>stool</td><td>no</td><td>control</td><td>healthy</td><td>NA</td><td>adult</td><td></td><td>⋯</td><td>NA</td><td></td><td>NA</td><td>NA</td><td></td><td></td><td>1</td><td>1</td><td>TRUE</td><td>446</td></tr>\n",
       "</tbody>\n",
       "</table>\n"
      ],
      "text/latex": [
       "A data.table: 2943 × 71\n",
       "\\begin{tabular}{lllllllllllllllllllll}\n",
       " dataset\\_name & Sample & subjectID & body\\_site & antibiotics\\_current\\_use & study\\_condition & disease & age & age\\_category & gender & ⋯ & glp\\_1 & travel\\_destination & urea\\_nitrogen & disease\\_stage & uncurated\\_metadata & family\\_member & subject\\_n & samp\\_n & westernized & samps\\_per\\_study\\\\\n",
       " <chr> & <chr> & <chr> & <chr> & <chr> & <chr> & <chr> & <int> & <chr> & <chr> & ⋯ & <dbl> & <chr> & <dbl> & <int> & <chr> & <chr> & <int> & <int> & <lgl> & <int>\\\\\n",
       "\\hline\n",
       "\t Bengtsson-PalmeJ\\_2015 & TRAVELRES1  & TRAVELRES1\\_2   & stool & no & control & healthy & 25 & adult & female & ⋯ & NA &  & NA & NA &  &  & 1 & 1 & TRUE & 36\\\\\n",
       "\t Bengtsson-PalmeJ\\_2015 & TRAVELRES11 & TRAVELRES11\\_12 & stool & no & control & healthy & 22 & adult & female & ⋯ & NA &  & NA & NA &  &  & 1 & 1 & TRUE & 36\\\\\n",
       "\t ⋮ & ⋮ & ⋮ & ⋮ & ⋮ & ⋮ & ⋮ & ⋮ & ⋮ & ⋮ & ⋱ & ⋮ & ⋮ & ⋮ & ⋮ & ⋮ & ⋮ & ⋮ & ⋮ & ⋮ & ⋮\\\\\n",
       "\t ZeeviD\\_2015 & PNP\\_Validation\\_45 & PNP\\_Validation\\_45 & stool & no & control & healthy & NA & adult &  & ⋯ & NA &  & NA & NA &  &  & 1 & 1 & TRUE & 446\\\\\n",
       "\t ZeeviD\\_2015 & PNP\\_Validation\\_46 & PNP\\_Validation\\_46 & stool & no & control & healthy & NA & adult &  & ⋯ & NA &  & NA & NA &  &  & 1 & 1 & TRUE & 446\\\\\n",
       "\\end{tabular}\n"
      ],
      "text/markdown": [
       "\n",
       "A data.table: 2943 × 71\n",
       "\n",
       "| dataset_name &lt;chr&gt; | Sample &lt;chr&gt; | subjectID &lt;chr&gt; | body_site &lt;chr&gt; | antibiotics_current_use &lt;chr&gt; | study_condition &lt;chr&gt; | disease &lt;chr&gt; | age &lt;int&gt; | age_category &lt;chr&gt; | gender &lt;chr&gt; | ⋯ ⋯ | glp_1 &lt;dbl&gt; | travel_destination &lt;chr&gt; | urea_nitrogen &lt;dbl&gt; | disease_stage &lt;int&gt; | uncurated_metadata &lt;chr&gt; | family_member &lt;chr&gt; | subject_n &lt;int&gt; | samp_n &lt;int&gt; | westernized &lt;lgl&gt; | samps_per_study &lt;int&gt; |\n",
       "|---|---|---|---|---|---|---|---|---|---|---|---|---|---|---|---|---|---|---|---|---|\n",
       "| Bengtsson-PalmeJ_2015 | TRAVELRES1  | TRAVELRES1_2   | stool | no | control | healthy | 25 | adult | female | ⋯ | NA | <!----> | NA | NA | <!----> | <!----> | 1 | 1 | TRUE | 36 |\n",
       "| Bengtsson-PalmeJ_2015 | TRAVELRES11 | TRAVELRES11_12 | stool | no | control | healthy | 22 | adult | female | ⋯ | NA | <!----> | NA | NA | <!----> | <!----> | 1 | 1 | TRUE | 36 |\n",
       "| ⋮ | ⋮ | ⋮ | ⋮ | ⋮ | ⋮ | ⋮ | ⋮ | ⋮ | ⋮ | ⋱ | ⋮ | ⋮ | ⋮ | ⋮ | ⋮ | ⋮ | ⋮ | ⋮ | ⋮ | ⋮ |\n",
       "| ZeeviD_2015 | PNP_Validation_45 | PNP_Validation_45 | stool | no | control | healthy | NA | adult | <!----> | ⋯ | NA | <!----> | NA | NA | <!----> | <!----> | 1 | 1 | TRUE | 446 |\n",
       "| ZeeviD_2015 | PNP_Validation_46 | PNP_Validation_46 | stool | no | control | healthy | NA | adult | <!----> | ⋯ | NA | <!----> | NA | NA | <!----> | <!----> | 1 | 1 | TRUE | 446 |\n",
       "\n"
      ],
      "text/plain": [
       "     dataset_name          Sample            subjectID         body_site\n",
       "1    Bengtsson-PalmeJ_2015 TRAVELRES1        TRAVELRES1_2      stool    \n",
       "2    Bengtsson-PalmeJ_2015 TRAVELRES11       TRAVELRES11_12    stool    \n",
       "⋮    ⋮                     ⋮                 ⋮                 ⋮        \n",
       "2942 ZeeviD_2015           PNP_Validation_45 PNP_Validation_45 stool    \n",
       "2943 ZeeviD_2015           PNP_Validation_46 PNP_Validation_46 stool    \n",
       "     antibiotics_current_use study_condition disease age age_category gender ⋯\n",
       "1    no                      control         healthy 25  adult        female ⋯\n",
       "2    no                      control         healthy 22  adult        female ⋯\n",
       "⋮    ⋮                       ⋮               ⋮       ⋮   ⋮            ⋮      ⋱\n",
       "2942 no                      control         healthy NA  adult               ⋯\n",
       "2943 no                      control         healthy NA  adult               ⋯\n",
       "     glp_1 travel_destination urea_nitrogen disease_stage uncurated_metadata\n",
       "1    NA                       NA            NA                              \n",
       "2    NA                       NA            NA                              \n",
       "⋮    ⋮     ⋮                  ⋮             ⋮             ⋮                 \n",
       "2942 NA                       NA            NA                              \n",
       "2943 NA                       NA            NA                              \n",
       "     family_member subject_n samp_n westernized samps_per_study\n",
       "1                  1         1      TRUE        36             \n",
       "2                  1         1      TRUE        36             \n",
       "⋮    ⋮             ⋮         ⋮      ⋮           ⋮              \n",
       "2942               1         1      TRUE        446            \n",
       "2943               1         1      TRUE        446            "
      ]
     },
     "metadata": {},
     "output_type": "display_data"
    }
   ],
   "source": [
    "# sample metadata\n",
    "meta = Fread(metadata_file) \n",
    "meta %>% unique_n('Samples', Sample)\n",
    "meta %>% unique_n('Subjects', subjectID)\n",
    "meta %>% unique_n('Datasets', dataset_name)\n",
    "meta"
   ]
  },
  {
   "cell_type": "markdown",
   "metadata": {},
   "source": [
    "## Counts"
   ]
  },
  {
   "cell_type": "code",
   "execution_count": 7,
   "metadata": {
    "ExecuteTime": {
     "end_time": "2021-10-01T07:24:42.095650Z",
     "start_time": "2021-10-01T07:24:30.698Z"
    }
   },
   "outputs": [
    {
     "data": {
      "text/html": [
       "<table class=\"dataframe\">\n",
       "<caption>A tidytable: 4427630 × 13</caption>\n",
       "<thead>\n",
       "\t<tr><th scope=col>dataset</th><th scope=col>name</th><th scope=col>taxonomy_id</th><th scope=col>taxonomy_lvl</th><th scope=col>Domain</th><th scope=col>Phylum</th><th scope=col>Class</th><th scope=col>Order</th><th scope=col>Family</th><th scope=col>Genus</th><th scope=col>Species</th><th scope=col>Sample</th><th scope=col>Abundance</th></tr>\n",
       "\t<tr><th scope=col>&lt;chr&gt;</th><th scope=col>&lt;chr&gt;</th><th scope=col>&lt;int&gt;</th><th scope=col>&lt;chr&gt;</th><th scope=col>&lt;chr&gt;</th><th scope=col>&lt;chr&gt;</th><th scope=col>&lt;chr&gt;</th><th scope=col>&lt;chr&gt;</th><th scope=col>&lt;chr&gt;</th><th scope=col>&lt;chr&gt;</th><th scope=col>&lt;chr&gt;</th><th scope=col>&lt;chr&gt;</th><th scope=col>&lt;dbl&gt;</th></tr>\n",
       "</thead>\n",
       "<tbody>\n",
       "\t<tr><td>CosteaPI_2017</td><td>s__Caecibacter_massiliensis</td><td>108259</td><td>S</td><td>Bacteria</td><td>Firmicutes_C</td><td>Negativicutes</td><td>Veillonellales </td><td>Megasphaeraceae </td><td>Caecibacter</td><td>Caecibacter massiliensis</td><td>halbarad.11.0.0</td><td>0</td></tr>\n",
       "\t<tr><td>CosteaPI_2017</td><td>s__UBA1777_sp002350825     </td><td>178550</td><td>S</td><td>Bacteria</td><td>Firmicutes_A</td><td>Clostridia   </td><td>Oscillospirales</td><td>Oscillospiraceae</td><td>UBA1777    </td><td>UBA1777 sp002350825     </td><td>halbarad.11.0.0</td><td>0</td></tr>\n",
       "\t<tr><td>⋮</td><td>⋮</td><td>⋮</td><td>⋮</td><td>⋮</td><td>⋮</td><td>⋮</td><td>⋮</td><td>⋮</td><td>⋮</td><td>⋮</td><td>⋮</td><td>⋮</td></tr>\n",
       "\t<tr><td>YuJ_2015</td><td>s__Serratia_grimesii        </td><td>121568</td><td>S</td><td>Bacteria</td><td>Proteobacteria</td><td>Gammaproteobacteria</td><td>Enterobacterales</td><td>Enterobacteriaceae</td><td>Serratia     </td><td>Serratia grimesii        </td><td>SZAXPI017592.142</td><td>0</td></tr>\n",
       "\t<tr><td>YuJ_2015</td><td>s__Bacteroides_A_sp002161565</td><td>119189</td><td>S</td><td>Bacteria</td><td>Bacteroidota  </td><td>Bacteroidia        </td><td>Bacteroidales   </td><td>Bacteroidaceae    </td><td>Bacteroides_A</td><td>Bacteroides_A sp002161565</td><td>SZAXPI017592.142</td><td>0</td></tr>\n",
       "</tbody>\n",
       "</table>\n"
      ],
      "text/latex": [
       "A tidytable: 4427630 × 13\n",
       "\\begin{tabular}{lllllllllllll}\n",
       " dataset & name & taxonomy\\_id & taxonomy\\_lvl & Domain & Phylum & Class & Order & Family & Genus & Species & Sample & Abundance\\\\\n",
       " <chr> & <chr> & <int> & <chr> & <chr> & <chr> & <chr> & <chr> & <chr> & <chr> & <chr> & <chr> & <dbl>\\\\\n",
       "\\hline\n",
       "\t CosteaPI\\_2017 & s\\_\\_Caecibacter\\_massiliensis & 108259 & S & Bacteria & Firmicutes\\_C & Negativicutes & Veillonellales  & Megasphaeraceae  & Caecibacter & Caecibacter massiliensis & halbarad.11.0.0 & 0\\\\\n",
       "\t CosteaPI\\_2017 & s\\_\\_UBA1777\\_sp002350825      & 178550 & S & Bacteria & Firmicutes\\_A & Clostridia    & Oscillospirales & Oscillospiraceae & UBA1777     & UBA1777 sp002350825      & halbarad.11.0.0 & 0\\\\\n",
       "\t ⋮ & ⋮ & ⋮ & ⋮ & ⋮ & ⋮ & ⋮ & ⋮ & ⋮ & ⋮ & ⋮ & ⋮ & ⋮\\\\\n",
       "\t YuJ\\_2015 & s\\_\\_Serratia\\_grimesii         & 121568 & S & Bacteria & Proteobacteria & Gammaproteobacteria & Enterobacterales & Enterobacteriaceae & Serratia      & Serratia grimesii         & SZAXPI017592.142 & 0\\\\\n",
       "\t YuJ\\_2015 & s\\_\\_Bacteroides\\_A\\_sp002161565 & 119189 & S & Bacteria & Bacteroidota   & Bacteroidia         & Bacteroidales    & Bacteroidaceae     & Bacteroides\\_A & Bacteroides\\_A sp002161565 & SZAXPI017592.142 & 0\\\\\n",
       "\\end{tabular}\n"
      ],
      "text/markdown": [
       "\n",
       "A tidytable: 4427630 × 13\n",
       "\n",
       "| dataset &lt;chr&gt; | name &lt;chr&gt; | taxonomy_id &lt;int&gt; | taxonomy_lvl &lt;chr&gt; | Domain &lt;chr&gt; | Phylum &lt;chr&gt; | Class &lt;chr&gt; | Order &lt;chr&gt; | Family &lt;chr&gt; | Genus &lt;chr&gt; | Species &lt;chr&gt; | Sample &lt;chr&gt; | Abundance &lt;dbl&gt; |\n",
       "|---|---|---|---|---|---|---|---|---|---|---|---|---|\n",
       "| CosteaPI_2017 | s__Caecibacter_massiliensis | 108259 | S | Bacteria | Firmicutes_C | Negativicutes | Veillonellales  | Megasphaeraceae  | Caecibacter | Caecibacter massiliensis | halbarad.11.0.0 | 0 |\n",
       "| CosteaPI_2017 | s__UBA1777_sp002350825      | 178550 | S | Bacteria | Firmicutes_A | Clostridia    | Oscillospirales | Oscillospiraceae | UBA1777     | UBA1777 sp002350825      | halbarad.11.0.0 | 0 |\n",
       "| ⋮ | ⋮ | ⋮ | ⋮ | ⋮ | ⋮ | ⋮ | ⋮ | ⋮ | ⋮ | ⋮ | ⋮ | ⋮ |\n",
       "| YuJ_2015 | s__Serratia_grimesii         | 121568 | S | Bacteria | Proteobacteria | Gammaproteobacteria | Enterobacterales | Enterobacteriaceae | Serratia      | Serratia grimesii         | SZAXPI017592.142 | 0 |\n",
       "| YuJ_2015 | s__Bacteroides_A_sp002161565 | 119189 | S | Bacteria | Bacteroidota   | Bacteroidia         | Bacteroidales    | Bacteroidaceae     | Bacteroides_A | Bacteroides_A sp002161565 | SZAXPI017592.142 | 0 |\n",
       "\n"
      ],
      "text/plain": [
       "        dataset       name                         taxonomy_id taxonomy_lvl\n",
       "1       CosteaPI_2017 s__Caecibacter_massiliensis  108259      S           \n",
       "2       CosteaPI_2017 s__UBA1777_sp002350825       178550      S           \n",
       "⋮       ⋮             ⋮                            ⋮           ⋮           \n",
       "4427629 YuJ_2015      s__Serratia_grimesii         121568      S           \n",
       "4427630 YuJ_2015      s__Bacteroides_A_sp002161565 119189      S           \n",
       "        Domain   Phylum         Class               Order           \n",
       "1       Bacteria Firmicutes_C   Negativicutes       Veillonellales  \n",
       "2       Bacteria Firmicutes_A   Clostridia          Oscillospirales \n",
       "⋮       ⋮        ⋮              ⋮                   ⋮               \n",
       "4427629 Bacteria Proteobacteria Gammaproteobacteria Enterobacterales\n",
       "4427630 Bacteria Bacteroidota   Bacteroidia         Bacteroidales   \n",
       "        Family             Genus         Species                  \n",
       "1       Megasphaeraceae    Caecibacter   Caecibacter massiliensis \n",
       "2       Oscillospiraceae   UBA1777       UBA1777 sp002350825      \n",
       "⋮       ⋮                  ⋮             ⋮                        \n",
       "4427629 Enterobacteriaceae Serratia      Serratia grimesii        \n",
       "4427630 Bacteroidaceae     Bacteroides_A Bacteroides_A sp002161565\n",
       "        Sample           Abundance\n",
       "1       halbarad.11.0.0  0        \n",
       "2       halbarad.11.0.0  0        \n",
       "⋮       ⋮                ⋮        \n",
       "4427629 SZAXPI017592.142 0        \n",
       "4427630 SZAXPI017592.142 0        "
      ]
     },
     "metadata": {},
     "output_type": "display_data"
    }
   ],
   "source": [
    "# Bracken count table\n",
    "brk = qs::qread(brk_file, nthreads=threads) %>%\n",
    "    mutate.(name = gsub(' ', '_', name))\n",
    "brk "
   ]
  },
  {
   "cell_type": "markdown",
   "metadata": {},
   "source": [
    "## Alpha div"
   ]
  },
  {
   "cell_type": "code",
   "execution_count": 8,
   "metadata": {
    "ExecuteTime": {
     "end_time": "2021-10-01T07:24:42.135594Z",
     "start_time": "2021-10-01T07:24:30.704Z"
    }
   },
   "outputs": [
    {
     "data": {
      "text/html": [
       "<table class=\"dataframe\">\n",
       "<caption>A data.table: 2943 × 11</caption>\n",
       "<thead>\n",
       "\t<tr><th scope=col>Sample</th><th scope=col>nobs</th><th scope=col>shannon</th><th scope=col>simpson</th><th scope=col>pielou</th><th scope=col>PD_phy</th><th scope=col>PD_trt</th><th scope=col>PD_cog</th><th scope=col>PD_cogcat</th><th scope=col>PD_pfam</th><th scope=col>PD_pfamcat</th></tr>\n",
       "\t<tr><th scope=col>&lt;chr&gt;</th><th scope=col>&lt;int&gt;</th><th scope=col>&lt;dbl&gt;</th><th scope=col>&lt;dbl&gt;</th><th scope=col>&lt;dbl&gt;</th><th scope=col>&lt;dbl&gt;</th><th scope=col>&lt;dbl&gt;</th><th scope=col>&lt;dbl&gt;</th><th scope=col>&lt;dbl&gt;</th><th scope=col>&lt;dbl&gt;</th><th scope=col>&lt;dbl&gt;</th></tr>\n",
       "</thead>\n",
       "<tbody>\n",
       "\t<tr><td>A01_02_1FE</td><td>232</td><td>3.888802</td><td>0.9507426</td><td>0.4757117</td><td>55.94272</td><td>43.94092</td><td>73.48643</td><td>28.29848</td><td>34.96796</td><td>21.56298</td></tr>\n",
       "\t<tr><td>A02_01_1FE</td><td>176</td><td>3.418777</td><td>0.8891672</td><td>0.4182143</td><td>40.24502</td><td>31.18437</td><td>50.07578</td><td>20.65005</td><td>23.78966</td><td>14.55168</td></tr>\n",
       "\t<tr><td>⋮</td><td>⋮</td><td>⋮</td><td>⋮</td><td>⋮</td><td>⋮</td><td>⋮</td><td>⋮</td><td>⋮</td><td>⋮</td><td>⋮</td></tr>\n",
       "\t<tr><td>nHMX11726        </td><td>272</td><td>3.612832</td><td>0.8932187</td><td>0.4419526</td><td>53.11264</td><td>46.47031</td><td>88.09736</td><td>34.25477</td><td>41.73731</td><td>25.03576</td></tr>\n",
       "\t<tr><td>scavenger.11.60.0</td><td>210</td><td>3.891553</td><td>0.9557596</td><td>0.4760482</td><td>37.27697</td><td>35.63946</td><td>64.59389</td><td>22.62152</td><td>29.89625</td><td>18.25607</td></tr>\n",
       "</tbody>\n",
       "</table>\n"
      ],
      "text/latex": [
       "A data.table: 2943 × 11\n",
       "\\begin{tabular}{lllllllllll}\n",
       " Sample & nobs & shannon & simpson & pielou & PD\\_phy & PD\\_trt & PD\\_cog & PD\\_cogcat & PD\\_pfam & PD\\_pfamcat\\\\\n",
       " <chr> & <int> & <dbl> & <dbl> & <dbl> & <dbl> & <dbl> & <dbl> & <dbl> & <dbl> & <dbl>\\\\\n",
       "\\hline\n",
       "\t A01\\_02\\_1FE & 232 & 3.888802 & 0.9507426 & 0.4757117 & 55.94272 & 43.94092 & 73.48643 & 28.29848 & 34.96796 & 21.56298\\\\\n",
       "\t A02\\_01\\_1FE & 176 & 3.418777 & 0.8891672 & 0.4182143 & 40.24502 & 31.18437 & 50.07578 & 20.65005 & 23.78966 & 14.55168\\\\\n",
       "\t ⋮ & ⋮ & ⋮ & ⋮ & ⋮ & ⋮ & ⋮ & ⋮ & ⋮ & ⋮ & ⋮\\\\\n",
       "\t nHMX11726         & 272 & 3.612832 & 0.8932187 & 0.4419526 & 53.11264 & 46.47031 & 88.09736 & 34.25477 & 41.73731 & 25.03576\\\\\n",
       "\t scavenger.11.60.0 & 210 & 3.891553 & 0.9557596 & 0.4760482 & 37.27697 & 35.63946 & 64.59389 & 22.62152 & 29.89625 & 18.25607\\\\\n",
       "\\end{tabular}\n"
      ],
      "text/markdown": [
       "\n",
       "A data.table: 2943 × 11\n",
       "\n",
       "| Sample &lt;chr&gt; | nobs &lt;int&gt; | shannon &lt;dbl&gt; | simpson &lt;dbl&gt; | pielou &lt;dbl&gt; | PD_phy &lt;dbl&gt; | PD_trt &lt;dbl&gt; | PD_cog &lt;dbl&gt; | PD_cogcat &lt;dbl&gt; | PD_pfam &lt;dbl&gt; | PD_pfamcat &lt;dbl&gt; |\n",
       "|---|---|---|---|---|---|---|---|---|---|---|\n",
       "| A01_02_1FE | 232 | 3.888802 | 0.9507426 | 0.4757117 | 55.94272 | 43.94092 | 73.48643 | 28.29848 | 34.96796 | 21.56298 |\n",
       "| A02_01_1FE | 176 | 3.418777 | 0.8891672 | 0.4182143 | 40.24502 | 31.18437 | 50.07578 | 20.65005 | 23.78966 | 14.55168 |\n",
       "| ⋮ | ⋮ | ⋮ | ⋮ | ⋮ | ⋮ | ⋮ | ⋮ | ⋮ | ⋮ | ⋮ |\n",
       "| nHMX11726         | 272 | 3.612832 | 0.8932187 | 0.4419526 | 53.11264 | 46.47031 | 88.09736 | 34.25477 | 41.73731 | 25.03576 |\n",
       "| scavenger.11.60.0 | 210 | 3.891553 | 0.9557596 | 0.4760482 | 37.27697 | 35.63946 | 64.59389 | 22.62152 | 29.89625 | 18.25607 |\n",
       "\n"
      ],
      "text/plain": [
       "     Sample            nobs shannon  simpson   pielou    PD_phy   PD_trt  \n",
       "1    A01_02_1FE        232  3.888802 0.9507426 0.4757117 55.94272 43.94092\n",
       "2    A02_01_1FE        176  3.418777 0.8891672 0.4182143 40.24502 31.18437\n",
       "⋮    ⋮                 ⋮    ⋮        ⋮         ⋮         ⋮        ⋮       \n",
       "2942 nHMX11726         272  3.612832 0.8932187 0.4419526 53.11264 46.47031\n",
       "2943 scavenger.11.60.0 210  3.891553 0.9557596 0.4760482 37.27697 35.63946\n",
       "     PD_cog   PD_cogcat PD_pfam  PD_pfamcat\n",
       "1    73.48643 28.29848  34.96796 21.56298  \n",
       "2    50.07578 20.65005  23.78966 14.55168  \n",
       "⋮    ⋮        ⋮         ⋮        ⋮         \n",
       "2942 88.09736 34.25477  41.73731 25.03576  \n",
       "2943 64.59389 22.62152  29.89625 18.25607  "
      ]
     },
     "metadata": {},
     "output_type": "display_data"
    }
   ],
   "source": [
    "# alpha div\n",
    "alpha_div = Fread(alpha_div_file)\n",
    "colnames(alpha_div) = gsub('pd_', 'PD_', colnames(alpha_div))\n",
    "alpha_div"
   ]
  },
  {
   "cell_type": "code",
   "execution_count": 9,
   "metadata": {
    "ExecuteTime": {
     "end_time": "2021-10-01T07:24:42.199292Z",
     "start_time": "2021-10-01T07:24:30.708Z"
    }
   },
   "outputs": [
    {
     "data": {
      "text/html": [
       "<table class=\"dataframe\">\n",
       "<caption>A tidytable: 2943 × 7</caption>\n",
       "<thead>\n",
       "\t<tr><th scope=col>Sample</th><th scope=col>MPD_phy</th><th scope=col>MPD_cog</th><th scope=col>MPD_cogcat</th><th scope=col>MPD_pfam</th><th scope=col>MPD_pfamcat</th><th scope=col>MPD_trt</th></tr>\n",
       "\t<tr><th scope=col>&lt;chr&gt;</th><th scope=col>&lt;dbl&gt;</th><th scope=col>&lt;dbl&gt;</th><th scope=col>&lt;dbl&gt;</th><th scope=col>&lt;dbl&gt;</th><th scope=col>&lt;dbl&gt;</th><th scope=col>&lt;dbl&gt;</th></tr>\n",
       "</thead>\n",
       "<tbody>\n",
       "\t<tr><td>A01_02_1FE</td><td>0.3816402</td><td>-1.744263</td><td>-0.7835944</td><td>-2.987195</td><td>-3.098554</td><td>1.497780</td></tr>\n",
       "\t<tr><td>A02_01_1FE</td><td>4.4678617</td><td>-2.644114</td><td>-0.2135077</td><td> 1.423530</td><td>-2.542732</td><td>6.039652</td></tr>\n",
       "\t<tr><td>⋮</td><td>⋮</td><td>⋮</td><td>⋮</td><td>⋮</td><td>⋮</td><td>⋮</td></tr>\n",
       "\t<tr><td>nHMX11726        </td><td>-12.12922</td><td>-1.503230</td><td>-1.614032</td><td> -5.156274</td><td> -3.76430</td><td>-6.330706</td></tr>\n",
       "\t<tr><td>scavenger.11.60.0</td><td>-10.10642</td><td>-7.264316</td><td>-3.849205</td><td>-15.515734</td><td>-13.87622</td><td>-6.830202</td></tr>\n",
       "</tbody>\n",
       "</table>\n"
      ],
      "text/latex": [
       "A tidytable: 2943 × 7\n",
       "\\begin{tabular}{lllllll}\n",
       " Sample & MPD\\_phy & MPD\\_cog & MPD\\_cogcat & MPD\\_pfam & MPD\\_pfamcat & MPD\\_trt\\\\\n",
       " <chr> & <dbl> & <dbl> & <dbl> & <dbl> & <dbl> & <dbl>\\\\\n",
       "\\hline\n",
       "\t A01\\_02\\_1FE & 0.3816402 & -1.744263 & -0.7835944 & -2.987195 & -3.098554 & 1.497780\\\\\n",
       "\t A02\\_01\\_1FE & 4.4678617 & -2.644114 & -0.2135077 &  1.423530 & -2.542732 & 6.039652\\\\\n",
       "\t ⋮ & ⋮ & ⋮ & ⋮ & ⋮ & ⋮ & ⋮\\\\\n",
       "\t nHMX11726         & -12.12922 & -1.503230 & -1.614032 &  -5.156274 &  -3.76430 & -6.330706\\\\\n",
       "\t scavenger.11.60.0 & -10.10642 & -7.264316 & -3.849205 & -15.515734 & -13.87622 & -6.830202\\\\\n",
       "\\end{tabular}\n"
      ],
      "text/markdown": [
       "\n",
       "A tidytable: 2943 × 7\n",
       "\n",
       "| Sample &lt;chr&gt; | MPD_phy &lt;dbl&gt; | MPD_cog &lt;dbl&gt; | MPD_cogcat &lt;dbl&gt; | MPD_pfam &lt;dbl&gt; | MPD_pfamcat &lt;dbl&gt; | MPD_trt &lt;dbl&gt; |\n",
       "|---|---|---|---|---|---|---|\n",
       "| A01_02_1FE | 0.3816402 | -1.744263 | -0.7835944 | -2.987195 | -3.098554 | 1.497780 |\n",
       "| A02_01_1FE | 4.4678617 | -2.644114 | -0.2135077 |  1.423530 | -2.542732 | 6.039652 |\n",
       "| ⋮ | ⋮ | ⋮ | ⋮ | ⋮ | ⋮ | ⋮ |\n",
       "| nHMX11726         | -12.12922 | -1.503230 | -1.614032 |  -5.156274 |  -3.76430 | -6.330706 |\n",
       "| scavenger.11.60.0 | -10.10642 | -7.264316 | -3.849205 | -15.515734 | -13.87622 | -6.830202 |\n",
       "\n"
      ],
      "text/plain": [
       "     Sample            MPD_phy   MPD_cog   MPD_cogcat MPD_pfam   MPD_pfamcat\n",
       "1    A01_02_1FE        0.3816402 -1.744263 -0.7835944 -2.987195  -3.098554  \n",
       "2    A02_01_1FE        4.4678617 -2.644114 -0.2135077  1.423530  -2.542732  \n",
       "⋮    ⋮                 ⋮         ⋮         ⋮          ⋮          ⋮          \n",
       "2942 nHMX11726         -12.12922 -1.503230 -1.614032   -5.156274  -3.76430  \n",
       "2943 scavenger.11.60.0 -10.10642 -7.264316 -3.849205  -15.515734 -13.87622  \n",
       "     MPD_trt  \n",
       "1    1.497780 \n",
       "2    6.039652 \n",
       "⋮    ⋮        \n",
       "2942 -6.330706\n",
       "2943 -6.830202"
      ]
     },
     "metadata": {},
     "output_type": "display_data"
    }
   ],
   "source": [
    "# MPD\n",
    "mpd = Fread(mpd_file) %>%\n",
    "    pivot_wider.(names_from=tree, values_from=MPD) \n",
    "colnames(mpd)[2:ncol(mpd)] = gsub('(phy_|_phy)', '', colnames(mpd)[2:ncol(mpd)])\n",
    "colnames(mpd)[2:ncol(mpd)] = gsub('^', 'MPD_', colnames(mpd)[2:ncol(mpd)])\n",
    "colnames(mpd)[2] = c('MPD_phy')\n",
    "mpd"
   ]
  },
  {
   "cell_type": "code",
   "execution_count": 10,
   "metadata": {
    "ExecuteTime": {
     "end_time": "2021-10-01T07:24:42.257938Z",
     "start_time": "2021-10-01T07:24:30.712Z"
    }
   },
   "outputs": [
    {
     "data": {
      "text/html": [
       "<table class=\"dataframe\">\n",
       "<caption>A tidytable: 2943 × 7</caption>\n",
       "<thead>\n",
       "\t<tr><th scope=col>Sample</th><th scope=col>MNTD_phy</th><th scope=col>MNTD_cog</th><th scope=col>MNTD_cogcat</th><th scope=col>MNTD_pfam</th><th scope=col>MNTD_pfamcat</th><th scope=col>MNTD_trt</th></tr>\n",
       "\t<tr><th scope=col>&lt;chr&gt;</th><th scope=col>&lt;dbl&gt;</th><th scope=col>&lt;dbl&gt;</th><th scope=col>&lt;dbl&gt;</th><th scope=col>&lt;dbl&gt;</th><th scope=col>&lt;dbl&gt;</th><th scope=col>&lt;dbl&gt;</th></tr>\n",
       "</thead>\n",
       "<tbody>\n",
       "\t<tr><td>A01_02_1FE</td><td>-1.1705415</td><td>-1.781364</td><td>-1.409568</td><td>-2.310925</td><td>-1.648183</td><td>-0.3989949</td></tr>\n",
       "\t<tr><td>A02_01_1FE</td><td> 0.8646422</td><td>-3.387957</td><td>-3.891323</td><td>-4.022206</td><td>-4.443158</td><td>-2.3426637</td></tr>\n",
       "\t<tr><td>⋮</td><td>⋮</td><td>⋮</td><td>⋮</td><td>⋮</td><td>⋮</td><td>⋮</td></tr>\n",
       "\t<tr><td>nHMX11726        </td><td>-5.339442</td><td>-4.114509</td><td>-1.830406</td><td>-2.623377</td><td>-3.112471</td><td>-4.047392</td></tr>\n",
       "\t<tr><td>scavenger.11.60.0</td><td>-2.949741</td><td>-6.043417</td><td>-4.136747</td><td>-5.274492</td><td>-3.871724</td><td>-4.726509</td></tr>\n",
       "</tbody>\n",
       "</table>\n"
      ],
      "text/latex": [
       "A tidytable: 2943 × 7\n",
       "\\begin{tabular}{lllllll}\n",
       " Sample & MNTD\\_phy & MNTD\\_cog & MNTD\\_cogcat & MNTD\\_pfam & MNTD\\_pfamcat & MNTD\\_trt\\\\\n",
       " <chr> & <dbl> & <dbl> & <dbl> & <dbl> & <dbl> & <dbl>\\\\\n",
       "\\hline\n",
       "\t A01\\_02\\_1FE & -1.1705415 & -1.781364 & -1.409568 & -2.310925 & -1.648183 & -0.3989949\\\\\n",
       "\t A02\\_01\\_1FE &  0.8646422 & -3.387957 & -3.891323 & -4.022206 & -4.443158 & -2.3426637\\\\\n",
       "\t ⋮ & ⋮ & ⋮ & ⋮ & ⋮ & ⋮ & ⋮\\\\\n",
       "\t nHMX11726         & -5.339442 & -4.114509 & -1.830406 & -2.623377 & -3.112471 & -4.047392\\\\\n",
       "\t scavenger.11.60.0 & -2.949741 & -6.043417 & -4.136747 & -5.274492 & -3.871724 & -4.726509\\\\\n",
       "\\end{tabular}\n"
      ],
      "text/markdown": [
       "\n",
       "A tidytable: 2943 × 7\n",
       "\n",
       "| Sample &lt;chr&gt; | MNTD_phy &lt;dbl&gt; | MNTD_cog &lt;dbl&gt; | MNTD_cogcat &lt;dbl&gt; | MNTD_pfam &lt;dbl&gt; | MNTD_pfamcat &lt;dbl&gt; | MNTD_trt &lt;dbl&gt; |\n",
       "|---|---|---|---|---|---|---|\n",
       "| A01_02_1FE | -1.1705415 | -1.781364 | -1.409568 | -2.310925 | -1.648183 | -0.3989949 |\n",
       "| A02_01_1FE |  0.8646422 | -3.387957 | -3.891323 | -4.022206 | -4.443158 | -2.3426637 |\n",
       "| ⋮ | ⋮ | ⋮ | ⋮ | ⋮ | ⋮ | ⋮ |\n",
       "| nHMX11726         | -5.339442 | -4.114509 | -1.830406 | -2.623377 | -3.112471 | -4.047392 |\n",
       "| scavenger.11.60.0 | -2.949741 | -6.043417 | -4.136747 | -5.274492 | -3.871724 | -4.726509 |\n",
       "\n"
      ],
      "text/plain": [
       "     Sample            MNTD_phy   MNTD_cog  MNTD_cogcat MNTD_pfam MNTD_pfamcat\n",
       "1    A01_02_1FE        -1.1705415 -1.781364 -1.409568   -2.310925 -1.648183   \n",
       "2    A02_01_1FE         0.8646422 -3.387957 -3.891323   -4.022206 -4.443158   \n",
       "⋮    ⋮                 ⋮          ⋮         ⋮           ⋮         ⋮           \n",
       "2942 nHMX11726         -5.339442  -4.114509 -1.830406   -2.623377 -3.112471   \n",
       "2943 scavenger.11.60.0 -2.949741  -6.043417 -4.136747   -5.274492 -3.871724   \n",
       "     MNTD_trt  \n",
       "1    -0.3989949\n",
       "2    -2.3426637\n",
       "⋮    ⋮         \n",
       "2942 -4.047392 \n",
       "2943 -4.726509 "
      ]
     },
     "metadata": {},
     "output_type": "display_data"
    }
   ],
   "source": [
    "# MNTD\n",
    "mntd = Fread(mntd_file) %>%\n",
    "    pivot_wider.(names_from=tree, values_from=MNTD) \n",
    "colnames(mntd)[2:ncol(mntd)] = gsub('(phy_|_phy)', '', colnames(mntd)[2:ncol(mntd)])\n",
    "colnames(mntd)[2:ncol(mntd)] = gsub('^', 'MNTD_', colnames(mntd)[2:ncol(mntd)])\n",
    "colnames(mntd)[2] = c('MNTD_phy')\n",
    "mntd"
   ]
  },
  {
   "cell_type": "code",
   "execution_count": 11,
   "metadata": {
    "ExecuteTime": {
     "end_time": "2021-10-01T07:24:42.313468Z",
     "start_time": "2021-10-01T07:24:30.715Z"
    }
   },
   "outputs": [
    {
     "data": {
      "text/html": [
       "<table class=\"dataframe\">\n",
       "<caption>A data.frame: 2943 × 6</caption>\n",
       "<thead>\n",
       "\t<tr><th></th><th scope=col>FRic_trt</th><th scope=col>FEve_trt</th><th scope=col>FDiv_trt</th><th scope=col>FDis_trt</th><th scope=col>RaoQ_trt</th><th scope=col>Sample</th></tr>\n",
       "\t<tr><th></th><th scope=col>&lt;dbl&gt;</th><th scope=col>&lt;dbl&gt;</th><th scope=col>&lt;dbl&gt;</th><th scope=col>&lt;dbl&gt;</th><th scope=col>&lt;dbl&gt;</th><th scope=col>&lt;chr&gt;</th></tr>\n",
       "</thead>\n",
       "<tbody>\n",
       "\t<tr><th scope=row>A01_02_1FE</th><td>1281.648</td><td>0.6305736</td><td>0.7250427</td><td>6.970392</td><td>52.69103</td><td>A01_02_1FE</td></tr>\n",
       "\t<tr><th scope=row>A02_01_1FE</th><td> 860.518</td><td>0.5762672</td><td>0.8080909</td><td>6.338391</td><td>45.45341</td><td>A02_01_1FE</td></tr>\n",
       "\t<tr><th scope=row>⋮</th><td>⋮</td><td>⋮</td><td>⋮</td><td>⋮</td><td>⋮</td><td>⋮</td></tr>\n",
       "\t<tr><th scope=row>nHMX11726</th><td>581.4522</td><td>0.5773349</td><td>0.8226567</td><td>5.954451</td><td>37.63154</td><td>nHMX11726        </td></tr>\n",
       "\t<tr><th scope=row>scavenger.11.60.0</th><td>158.4517</td><td>0.5402863</td><td>0.5368664</td><td>5.515205</td><td>31.73553</td><td>scavenger.11.60.0</td></tr>\n",
       "</tbody>\n",
       "</table>\n"
      ],
      "text/latex": [
       "A data.frame: 2943 × 6\n",
       "\\begin{tabular}{r|llllll}\n",
       "  & FRic\\_trt & FEve\\_trt & FDiv\\_trt & FDis\\_trt & RaoQ\\_trt & Sample\\\\\n",
       "  & <dbl> & <dbl> & <dbl> & <dbl> & <dbl> & <chr>\\\\\n",
       "\\hline\n",
       "\tA01\\_02\\_1FE & 1281.648 & 0.6305736 & 0.7250427 & 6.970392 & 52.69103 & A01\\_02\\_1FE\\\\\n",
       "\tA02\\_01\\_1FE &  860.518 & 0.5762672 & 0.8080909 & 6.338391 & 45.45341 & A02\\_01\\_1FE\\\\\n",
       "\t⋮ & ⋮ & ⋮ & ⋮ & ⋮ & ⋮ & ⋮\\\\\n",
       "\tnHMX11726 & 581.4522 & 0.5773349 & 0.8226567 & 5.954451 & 37.63154 & nHMX11726        \\\\\n",
       "\tscavenger.11.60.0 & 158.4517 & 0.5402863 & 0.5368664 & 5.515205 & 31.73553 & scavenger.11.60.0\\\\\n",
       "\\end{tabular}\n"
      ],
      "text/markdown": [
       "\n",
       "A data.frame: 2943 × 6\n",
       "\n",
       "| <!--/--> | FRic_trt &lt;dbl&gt; | FEve_trt &lt;dbl&gt; | FDiv_trt &lt;dbl&gt; | FDis_trt &lt;dbl&gt; | RaoQ_trt &lt;dbl&gt; | Sample &lt;chr&gt; |\n",
       "|---|---|---|---|---|---|---|\n",
       "| A01_02_1FE | 1281.648 | 0.6305736 | 0.7250427 | 6.970392 | 52.69103 | A01_02_1FE |\n",
       "| A02_01_1FE |  860.518 | 0.5762672 | 0.8080909 | 6.338391 | 45.45341 | A02_01_1FE |\n",
       "| ⋮ | ⋮ | ⋮ | ⋮ | ⋮ | ⋮ | ⋮ |\n",
       "| nHMX11726 | 581.4522 | 0.5773349 | 0.8226567 | 5.954451 | 37.63154 | nHMX11726         |\n",
       "| scavenger.11.60.0 | 158.4517 | 0.5402863 | 0.5368664 | 5.515205 | 31.73553 | scavenger.11.60.0 |\n",
       "\n"
      ],
      "text/plain": [
       "                  FRic_trt FEve_trt  FDiv_trt  FDis_trt RaoQ_trt\n",
       "A01_02_1FE        1281.648 0.6305736 0.7250427 6.970392 52.69103\n",
       "A02_01_1FE         860.518 0.5762672 0.8080909 6.338391 45.45341\n",
       "⋮                 ⋮        ⋮         ⋮         ⋮        ⋮       \n",
       "nHMX11726         581.4522 0.5773349 0.8226567 5.954451 37.63154\n",
       "scavenger.11.60.0 158.4517 0.5402863 0.5368664 5.515205 31.73553\n",
       "                  Sample           \n",
       "A01_02_1FE        A01_02_1FE       \n",
       "A02_01_1FE        A02_01_1FE       \n",
       "⋮                 ⋮                \n",
       "nHMX11726         nHMX11726        \n",
       "scavenger.11.60.0 scavenger.11.60.0"
      ]
     },
     "metadata": {},
     "output_type": "display_data"
    }
   ],
   "source": [
    "## FD\n",
    "fd_trt = readRDS(fd_trt_file)\n",
    "v = c('FRic', 'FEve', 'FDiv', 'FDis', 'RaoQ') \n",
    "fd_trt = v %>%\n",
    "    lapply(function(x) fd_trt[[x]] %>% as.data.frame) %>%\n",
    "    do.call(cbind, .)\n",
    "           \n",
    "x = c('FRic', 'FEve', 'FDiv', 'FDis', 'RaoQ') \n",
    "colnames(fd_trt) = gsub('^', 'trt_', x)\n",
    "colnames(fd_trt) = gsub('(.+)_(.+)', '\\\\2_\\\\1', colnames(fd_trt))\n",
    "fd_trt$Sample = rownames(fd_trt)\n",
    "fd_trt"
   ]
  },
  {
   "cell_type": "code",
   "execution_count": 12,
   "metadata": {
    "ExecuteTime": {
     "end_time": "2021-10-01T07:24:42.368247Z",
     "start_time": "2021-10-01T07:24:30.719Z"
    }
   },
   "outputs": [
    {
     "data": {
      "text/html": [
       "<table class=\"dataframe\">\n",
       "<caption>A data.frame: 2943 × 6</caption>\n",
       "<thead>\n",
       "\t<tr><th></th><th scope=col>FRic_cogcat</th><th scope=col>FEve_cogcat</th><th scope=col>FDiv_cogcat</th><th scope=col>FDis_cogcat</th><th scope=col>RaoQ_cogcat</th><th scope=col>Sample</th></tr>\n",
       "\t<tr><th></th><th scope=col>&lt;dbl&gt;</th><th scope=col>&lt;dbl&gt;</th><th scope=col>&lt;dbl&gt;</th><th scope=col>&lt;dbl&gt;</th><th scope=col>&lt;dbl&gt;</th><th scope=col>&lt;chr&gt;</th></tr>\n",
       "</thead>\n",
       "<tbody>\n",
       "\t<tr><th scope=row>A01_02_1FE</th><td>0.001963384</td><td>0.6300577</td><td>0.8344220</td><td>0.1390624</td><td>0.02458852</td><td>A01_02_1FE</td></tr>\n",
       "\t<tr><th scope=row>A02_01_1FE</th><td>0.001858941</td><td>0.6244829</td><td>0.8111916</td><td>0.1164369</td><td>0.01988324</td><td>A02_01_1FE</td></tr>\n",
       "\t<tr><th scope=row>⋮</th><td>⋮</td><td>⋮</td><td>⋮</td><td>⋮</td><td>⋮</td><td>⋮</td></tr>\n",
       "\t<tr><th scope=row>nHMX11726</th><td>0.0012117563</td><td>0.6201434</td><td>0.6032538</td><td>0.06340579</td><td>0.005202252</td><td>nHMX11726        </td></tr>\n",
       "\t<tr><th scope=row>scavenger.11.60.0</th><td>0.0009740577</td><td>0.5382320</td><td>0.6360507</td><td>0.07027430</td><td>0.005815837</td><td>scavenger.11.60.0</td></tr>\n",
       "</tbody>\n",
       "</table>\n"
      ],
      "text/latex": [
       "A data.frame: 2943 × 6\n",
       "\\begin{tabular}{r|llllll}\n",
       "  & FRic\\_cogcat & FEve\\_cogcat & FDiv\\_cogcat & FDis\\_cogcat & RaoQ\\_cogcat & Sample\\\\\n",
       "  & <dbl> & <dbl> & <dbl> & <dbl> & <dbl> & <chr>\\\\\n",
       "\\hline\n",
       "\tA01\\_02\\_1FE & 0.001963384 & 0.6300577 & 0.8344220 & 0.1390624 & 0.02458852 & A01\\_02\\_1FE\\\\\n",
       "\tA02\\_01\\_1FE & 0.001858941 & 0.6244829 & 0.8111916 & 0.1164369 & 0.01988324 & A02\\_01\\_1FE\\\\\n",
       "\t⋮ & ⋮ & ⋮ & ⋮ & ⋮ & ⋮ & ⋮\\\\\n",
       "\tnHMX11726 & 0.0012117563 & 0.6201434 & 0.6032538 & 0.06340579 & 0.005202252 & nHMX11726        \\\\\n",
       "\tscavenger.11.60.0 & 0.0009740577 & 0.5382320 & 0.6360507 & 0.07027430 & 0.005815837 & scavenger.11.60.0\\\\\n",
       "\\end{tabular}\n"
      ],
      "text/markdown": [
       "\n",
       "A data.frame: 2943 × 6\n",
       "\n",
       "| <!--/--> | FRic_cogcat &lt;dbl&gt; | FEve_cogcat &lt;dbl&gt; | FDiv_cogcat &lt;dbl&gt; | FDis_cogcat &lt;dbl&gt; | RaoQ_cogcat &lt;dbl&gt; | Sample &lt;chr&gt; |\n",
       "|---|---|---|---|---|---|---|\n",
       "| A01_02_1FE | 0.001963384 | 0.6300577 | 0.8344220 | 0.1390624 | 0.02458852 | A01_02_1FE |\n",
       "| A02_01_1FE | 0.001858941 | 0.6244829 | 0.8111916 | 0.1164369 | 0.01988324 | A02_01_1FE |\n",
       "| ⋮ | ⋮ | ⋮ | ⋮ | ⋮ | ⋮ | ⋮ |\n",
       "| nHMX11726 | 0.0012117563 | 0.6201434 | 0.6032538 | 0.06340579 | 0.005202252 | nHMX11726         |\n",
       "| scavenger.11.60.0 | 0.0009740577 | 0.5382320 | 0.6360507 | 0.07027430 | 0.005815837 | scavenger.11.60.0 |\n",
       "\n"
      ],
      "text/plain": [
       "                  FRic_cogcat  FEve_cogcat FDiv_cogcat FDis_cogcat RaoQ_cogcat\n",
       "A01_02_1FE        0.001963384  0.6300577   0.8344220   0.1390624   0.02458852 \n",
       "A02_01_1FE        0.001858941  0.6244829   0.8111916   0.1164369   0.01988324 \n",
       "⋮                 ⋮            ⋮           ⋮           ⋮           ⋮          \n",
       "nHMX11726         0.0012117563 0.6201434   0.6032538   0.06340579  0.005202252\n",
       "scavenger.11.60.0 0.0009740577 0.5382320   0.6360507   0.07027430  0.005815837\n",
       "                  Sample           \n",
       "A01_02_1FE        A01_02_1FE       \n",
       "A02_01_1FE        A02_01_1FE       \n",
       "⋮                 ⋮                \n",
       "nHMX11726         nHMX11726        \n",
       "scavenger.11.60.0 scavenger.11.60.0"
      ]
     },
     "metadata": {},
     "output_type": "display_data"
    }
   ],
   "source": [
    "## FD\n",
    "fd_cog = readRDS(fd_cog_file)\n",
    "v = c('FRic', 'FEve', 'FDiv', 'FDis', 'RaoQ') \n",
    "fd_cog = v %>%\n",
    "    lapply(function(x) fd_cog[[x]] %>% as.data.frame) %>%\n",
    "    do.call(cbind, .)\n",
    "           \n",
    "x = c('FRic', 'FEve', 'FDiv', 'FDis', 'RaoQ') \n",
    "colnames(fd_cog) = gsub('^', 'cogcat_', x)\n",
    "colnames(fd_cog) = gsub('(.+)_(.+)', '\\\\2_\\\\1', colnames(fd_cog))\n",
    "fd_cog$Sample = rownames(fd_cog)\n",
    "fd_cog"
   ]
  },
  {
   "cell_type": "markdown",
   "metadata": {},
   "source": [
    "# Format"
   ]
  },
  {
   "cell_type": "markdown",
   "metadata": {},
   "source": [
    "## Overlap"
   ]
  },
  {
   "cell_type": "code",
   "execution_count": 13,
   "metadata": {
    "ExecuteTime": {
     "end_time": "2021-10-01T07:24:42.386216Z",
     "start_time": "2021-10-01T07:24:30.722Z"
    }
   },
   "outputs": [
    {
     "name": "stdout",
     "output_type": "stream",
     "text": [
      "intersect(x,y): 2943 \n",
      "setdiff(x,y): 0 \n",
      "setdiff(y,x): 0 \n",
      "union(x,y): 2943 \n"
     ]
    }
   ],
   "source": [
    "overlap(alpha_div$Sample, meta$Sample)"
   ]
  },
  {
   "cell_type": "code",
   "execution_count": 14,
   "metadata": {
    "ExecuteTime": {
     "end_time": "2021-10-01T07:24:42.403193Z",
     "start_time": "2021-10-01T07:24:30.725Z"
    }
   },
   "outputs": [
    {
     "name": "stdout",
     "output_type": "stream",
     "text": [
      "intersect(x,y): 2943 \n",
      "setdiff(x,y): 0 \n",
      "setdiff(y,x): 0 \n",
      "union(x,y): 2943 \n"
     ]
    }
   ],
   "source": [
    "overlap(mpd$Sample, meta$Sample)"
   ]
  },
  {
   "cell_type": "code",
   "execution_count": 15,
   "metadata": {
    "ExecuteTime": {
     "end_time": "2021-10-01T07:24:42.420156Z",
     "start_time": "2021-10-01T07:24:30.727Z"
    }
   },
   "outputs": [
    {
     "name": "stdout",
     "output_type": "stream",
     "text": [
      "intersect(x,y): 2943 \n",
      "setdiff(x,y): 0 \n",
      "setdiff(y,x): 0 \n",
      "union(x,y): 2943 \n"
     ]
    }
   ],
   "source": [
    "overlap(mntd$Sample, meta$Sample)"
   ]
  },
  {
   "cell_type": "code",
   "execution_count": 16,
   "metadata": {
    "ExecuteTime": {
     "end_time": "2021-10-01T07:24:42.437128Z",
     "start_time": "2021-10-01T07:24:30.730Z"
    }
   },
   "outputs": [
    {
     "name": "stdout",
     "output_type": "stream",
     "text": [
      "intersect(x,y): 2943 \n",
      "setdiff(x,y): 0 \n",
      "setdiff(y,x): 0 \n",
      "union(x,y): 2943 \n"
     ]
    }
   ],
   "source": [
    "overlap(fd_trt$Sample, meta$Sample)"
   ]
  },
  {
   "cell_type": "code",
   "execution_count": 17,
   "metadata": {
    "ExecuteTime": {
     "end_time": "2021-10-01T07:24:42.454067Z",
     "start_time": "2021-10-01T07:24:30.732Z"
    }
   },
   "outputs": [
    {
     "name": "stdout",
     "output_type": "stream",
     "text": [
      "intersect(x,y): 2943 \n",
      "setdiff(x,y): 0 \n",
      "setdiff(y,x): 0 \n",
      "union(x,y): 2943 \n"
     ]
    }
   ],
   "source": [
    "overlap(fd_cog$Sample, meta$Sample)"
   ]
  },
  {
   "cell_type": "markdown",
   "metadata": {},
   "source": [
    "## Merging"
   ]
  },
  {
   "cell_type": "code",
   "execution_count": 18,
   "metadata": {
    "ExecuteTime": {
     "end_time": "2021-10-01T07:24:42.546371Z",
     "start_time": "2021-10-01T07:24:30.737Z"
    }
   },
   "outputs": [
    {
     "name": "stdout",
     "output_type": "stream",
     "text": [
      "No. of unique Samples: 2943 \n",
      "No. of unique Datasets: 30 \n"
     ]
    },
    {
     "data": {
      "text/html": [
       "<table class=\"dataframe\">\n",
       "<caption>A tidytable: 2943 × 39</caption>\n",
       "<thead>\n",
       "\t<tr><th scope=col>dataset_name</th><th scope=col>Sample</th><th scope=col>age</th><th scope=col>BMI</th><th scope=col>gender</th><th scope=col>westernized</th><th scope=col>disease</th><th scope=col>nobs</th><th scope=col>shannon</th><th scope=col>simpson</th><th scope=col>⋯</th><th scope=col>FRic_trt</th><th scope=col>FEve_trt</th><th scope=col>FDiv_trt</th><th scope=col>FDis_trt</th><th scope=col>RaoQ_trt</th><th scope=col>FRic_cogcat</th><th scope=col>FEve_cogcat</th><th scope=col>FDiv_cogcat</th><th scope=col>FDis_cogcat</th><th scope=col>RaoQ_cogcat</th></tr>\n",
       "\t<tr><th scope=col>&lt;chr&gt;</th><th scope=col>&lt;chr&gt;</th><th scope=col>&lt;int&gt;</th><th scope=col>&lt;dbl&gt;</th><th scope=col>&lt;chr&gt;</th><th scope=col>&lt;lgl&gt;</th><th scope=col>&lt;chr&gt;</th><th scope=col>&lt;int&gt;</th><th scope=col>&lt;dbl&gt;</th><th scope=col>&lt;dbl&gt;</th><th scope=col>⋯</th><th scope=col>&lt;dbl&gt;</th><th scope=col>&lt;dbl&gt;</th><th scope=col>&lt;dbl&gt;</th><th scope=col>&lt;dbl&gt;</th><th scope=col>&lt;dbl&gt;</th><th scope=col>&lt;dbl&gt;</th><th scope=col>&lt;dbl&gt;</th><th scope=col>&lt;dbl&gt;</th><th scope=col>&lt;dbl&gt;</th><th scope=col>&lt;dbl&gt;</th></tr>\n",
       "</thead>\n",
       "<tbody>\n",
       "\t<tr><td>PasolliE_2018</td><td>A01_02_1FE</td><td>NA</td><td>NA</td><td></td><td>FALSE</td><td>healthy</td><td>232</td><td>3.888802</td><td>0.9507426</td><td>⋯</td><td>1281.648</td><td>0.6305736</td><td>0.7250427</td><td>6.970392</td><td>52.69103</td><td>0.001963384</td><td>0.6300577</td><td>0.8344220</td><td>0.1390624</td><td>0.02458852</td></tr>\n",
       "\t<tr><td>PasolliE_2018</td><td>A02_01_1FE</td><td>NA</td><td>NA</td><td></td><td>FALSE</td><td>healthy</td><td>176</td><td>3.418777</td><td>0.8891672</td><td>⋯</td><td> 860.518</td><td>0.5762672</td><td>0.8080909</td><td>6.338391</td><td>45.45341</td><td>0.001858941</td><td>0.6244829</td><td>0.8111916</td><td>0.1164369</td><td>0.01988324</td></tr>\n",
       "\t<tr><td>⋮</td><td>⋮</td><td>⋮</td><td>⋮</td><td>⋮</td><td>⋮</td><td>⋮</td><td>⋮</td><td>⋮</td><td>⋮</td><td>⋱</td><td>⋮</td><td>⋮</td><td>⋮</td><td>⋮</td><td>⋮</td><td>⋮</td><td>⋮</td><td>⋮</td><td>⋮</td><td>⋮</td></tr>\n",
       "\t<tr><td>LiJ_2017     </td><td>nHMX11726        </td><td>NA</td><td>NA</td><td></td><td>TRUE</td><td>healthy</td><td>272</td><td>3.612832</td><td>0.8932187</td><td>⋯</td><td>581.4522</td><td>0.5773349</td><td>0.8226567</td><td>5.954451</td><td>37.63154</td><td>0.0012117563</td><td>0.6201434</td><td>0.6032538</td><td>0.06340579</td><td>0.005202252</td></tr>\n",
       "\t<tr><td>CosteaPI_2017</td><td>scavenger.11.60.0</td><td>NA</td><td>NA</td><td></td><td>TRUE</td><td>healthy</td><td>210</td><td>3.891553</td><td>0.9557596</td><td>⋯</td><td>158.4517</td><td>0.5402863</td><td>0.5368664</td><td>5.515205</td><td>31.73553</td><td>0.0009740577</td><td>0.5382320</td><td>0.6360507</td><td>0.07027430</td><td>0.005815837</td></tr>\n",
       "</tbody>\n",
       "</table>\n"
      ],
      "text/latex": [
       "A tidytable: 2943 × 39\n",
       "\\begin{tabular}{lllllllllllllllllllll}\n",
       " dataset\\_name & Sample & age & BMI & gender & westernized & disease & nobs & shannon & simpson & ⋯ & FRic\\_trt & FEve\\_trt & FDiv\\_trt & FDis\\_trt & RaoQ\\_trt & FRic\\_cogcat & FEve\\_cogcat & FDiv\\_cogcat & FDis\\_cogcat & RaoQ\\_cogcat\\\\\n",
       " <chr> & <chr> & <int> & <dbl> & <chr> & <lgl> & <chr> & <int> & <dbl> & <dbl> & ⋯ & <dbl> & <dbl> & <dbl> & <dbl> & <dbl> & <dbl> & <dbl> & <dbl> & <dbl> & <dbl>\\\\\n",
       "\\hline\n",
       "\t PasolliE\\_2018 & A01\\_02\\_1FE & NA & NA &  & FALSE & healthy & 232 & 3.888802 & 0.9507426 & ⋯ & 1281.648 & 0.6305736 & 0.7250427 & 6.970392 & 52.69103 & 0.001963384 & 0.6300577 & 0.8344220 & 0.1390624 & 0.02458852\\\\\n",
       "\t PasolliE\\_2018 & A02\\_01\\_1FE & NA & NA &  & FALSE & healthy & 176 & 3.418777 & 0.8891672 & ⋯ &  860.518 & 0.5762672 & 0.8080909 & 6.338391 & 45.45341 & 0.001858941 & 0.6244829 & 0.8111916 & 0.1164369 & 0.01988324\\\\\n",
       "\t ⋮ & ⋮ & ⋮ & ⋮ & ⋮ & ⋮ & ⋮ & ⋮ & ⋮ & ⋮ & ⋱ & ⋮ & ⋮ & ⋮ & ⋮ & ⋮ & ⋮ & ⋮ & ⋮ & ⋮ & ⋮\\\\\n",
       "\t LiJ\\_2017      & nHMX11726         & NA & NA &  & TRUE & healthy & 272 & 3.612832 & 0.8932187 & ⋯ & 581.4522 & 0.5773349 & 0.8226567 & 5.954451 & 37.63154 & 0.0012117563 & 0.6201434 & 0.6032538 & 0.06340579 & 0.005202252\\\\\n",
       "\t CosteaPI\\_2017 & scavenger.11.60.0 & NA & NA &  & TRUE & healthy & 210 & 3.891553 & 0.9557596 & ⋯ & 158.4517 & 0.5402863 & 0.5368664 & 5.515205 & 31.73553 & 0.0009740577 & 0.5382320 & 0.6360507 & 0.07027430 & 0.005815837\\\\\n",
       "\\end{tabular}\n"
      ],
      "text/markdown": [
       "\n",
       "A tidytable: 2943 × 39\n",
       "\n",
       "| dataset_name &lt;chr&gt; | Sample &lt;chr&gt; | age &lt;int&gt; | BMI &lt;dbl&gt; | gender &lt;chr&gt; | westernized &lt;lgl&gt; | disease &lt;chr&gt; | nobs &lt;int&gt; | shannon &lt;dbl&gt; | simpson &lt;dbl&gt; | ⋯ ⋯ | FRic_trt &lt;dbl&gt; | FEve_trt &lt;dbl&gt; | FDiv_trt &lt;dbl&gt; | FDis_trt &lt;dbl&gt; | RaoQ_trt &lt;dbl&gt; | FRic_cogcat &lt;dbl&gt; | FEve_cogcat &lt;dbl&gt; | FDiv_cogcat &lt;dbl&gt; | FDis_cogcat &lt;dbl&gt; | RaoQ_cogcat &lt;dbl&gt; |\n",
       "|---|---|---|---|---|---|---|---|---|---|---|---|---|---|---|---|---|---|---|---|---|\n",
       "| PasolliE_2018 | A01_02_1FE | NA | NA | <!----> | FALSE | healthy | 232 | 3.888802 | 0.9507426 | ⋯ | 1281.648 | 0.6305736 | 0.7250427 | 6.970392 | 52.69103 | 0.001963384 | 0.6300577 | 0.8344220 | 0.1390624 | 0.02458852 |\n",
       "| PasolliE_2018 | A02_01_1FE | NA | NA | <!----> | FALSE | healthy | 176 | 3.418777 | 0.8891672 | ⋯ |  860.518 | 0.5762672 | 0.8080909 | 6.338391 | 45.45341 | 0.001858941 | 0.6244829 | 0.8111916 | 0.1164369 | 0.01988324 |\n",
       "| ⋮ | ⋮ | ⋮ | ⋮ | ⋮ | ⋮ | ⋮ | ⋮ | ⋮ | ⋮ | ⋱ | ⋮ | ⋮ | ⋮ | ⋮ | ⋮ | ⋮ | ⋮ | ⋮ | ⋮ | ⋮ |\n",
       "| LiJ_2017      | nHMX11726         | NA | NA | <!----> | TRUE | healthy | 272 | 3.612832 | 0.8932187 | ⋯ | 581.4522 | 0.5773349 | 0.8226567 | 5.954451 | 37.63154 | 0.0012117563 | 0.6201434 | 0.6032538 | 0.06340579 | 0.005202252 |\n",
       "| CosteaPI_2017 | scavenger.11.60.0 | NA | NA | <!----> | TRUE | healthy | 210 | 3.891553 | 0.9557596 | ⋯ | 158.4517 | 0.5402863 | 0.5368664 | 5.515205 | 31.73553 | 0.0009740577 | 0.5382320 | 0.6360507 | 0.07027430 | 0.005815837 |\n",
       "\n"
      ],
      "text/plain": [
       "     dataset_name  Sample            age BMI gender westernized disease nobs\n",
       "1    PasolliE_2018 A01_02_1FE        NA  NA         FALSE       healthy 232 \n",
       "2    PasolliE_2018 A02_01_1FE        NA  NA         FALSE       healthy 176 \n",
       "⋮    ⋮             ⋮                 ⋮   ⋮   ⋮      ⋮           ⋮       ⋮   \n",
       "2942 LiJ_2017      nHMX11726         NA  NA         TRUE        healthy 272 \n",
       "2943 CosteaPI_2017 scavenger.11.60.0 NA  NA         TRUE        healthy 210 \n",
       "     shannon  simpson   ⋯ FRic_trt FEve_trt  FDiv_trt  FDis_trt RaoQ_trt\n",
       "1    3.888802 0.9507426 ⋯ 1281.648 0.6305736 0.7250427 6.970392 52.69103\n",
       "2    3.418777 0.8891672 ⋯  860.518 0.5762672 0.8080909 6.338391 45.45341\n",
       "⋮    ⋮        ⋮         ⋱ ⋮        ⋮         ⋮         ⋮        ⋮       \n",
       "2942 3.612832 0.8932187 ⋯ 581.4522 0.5773349 0.8226567 5.954451 37.63154\n",
       "2943 3.891553 0.9557596 ⋯ 158.4517 0.5402863 0.5368664 5.515205 31.73553\n",
       "     FRic_cogcat  FEve_cogcat FDiv_cogcat FDis_cogcat RaoQ_cogcat\n",
       "1    0.001963384  0.6300577   0.8344220   0.1390624   0.02458852 \n",
       "2    0.001858941  0.6244829   0.8111916   0.1164369   0.01988324 \n",
       "⋮    ⋮            ⋮           ⋮           ⋮           ⋮          \n",
       "2942 0.0012117563 0.6201434   0.6032538   0.06340579  0.005202252\n",
       "2943 0.0009740577 0.5382320   0.6360507   0.07027430  0.005815837"
      ]
     },
     "metadata": {},
     "output_type": "display_data"
    }
   ],
   "source": [
    "feats = meta %>%\n",
    "    select.(dataset_name, Sample, age, BMI, gender, westernized, disease) %>%\n",
    "    mutate.(disease = ifelse(disease != 'healthy', 'diseased', disease)) %>%\n",
    "    inner_join.(alpha_div, c('Sample')) %>%\n",
    "    inner_join.(mpd, c('Sample')) %>%\n",
    "    inner_join.(mntd, c('Sample')) %>%\n",
    "    inner_join.(fd_trt, c('Sample')) %>%\n",
    "    inner_join.(fd_cog, c('Sample')) \n",
    "\n",
    "feats$Sample %>% unique_n('Samples')\n",
    "feats$dataset_name %>% unique_n('Datasets')\n",
    "feats"
   ]
  },
  {
   "cell_type": "markdown",
   "metadata": {},
   "source": [
    "# ML settings"
   ]
  },
  {
   "cell_type": "code",
   "execution_count": 19,
   "metadata": {
    "ExecuteTime": {
     "end_time": "2021-10-01T07:24:42.563565Z",
     "start_time": "2021-10-01T07:24:30.740Z"
    }
   },
   "outputs": [],
   "source": [
    "conda_env = '/ebio/abt3_projects2/global_metagenome_diversity/envs/tidyverse-ML2'\n",
    "resources = list(h_rt = '00:59:00',\n",
    "                 h_vmem = '12G',\n",
    "                 conda.env = conda_env)"
   ]
  },
  {
   "cell_type": "code",
   "execution_count": 20,
   "metadata": {
    "ExecuteTime": {
     "end_time": "2021-10-01T07:24:42.610769Z",
     "start_time": "2021-10-01T07:24:30.742Z"
    }
   },
   "outputs": [],
   "source": [
    "# list of all performances\n",
    "perf_res = list()"
   ]
  },
  {
   "cell_type": "markdown",
   "metadata": {},
   "source": [
    "## functions"
   ]
  },
  {
   "cell_type": "code",
   "execution_count": 21,
   "metadata": {
    "ExecuteTime": {
     "end_time": "2021-10-01T07:24:42.623628Z",
     "start_time": "2021-10-01T07:24:30.745Z"
    }
   },
   "outputs": [],
   "source": [
    "# classifier performance\n",
    "cls_perf = function(res){\n",
    "    cat('--AUC--\\n')\n",
    "    res$measures.test$auc %>% summary %>% print\n",
    "    cat('--F1--\\n')\n",
    "    res$measures.test$f1 %>% summary %>% print\n",
    "    cat('--plot--\\n')\n",
    "    p = res$measures.test %>%\n",
    "        pivot_longer.(cols=c(-iter), names_to='metric', values_to='value') %>%\n",
    "        ggplot(aes(metric, value)) +\n",
    "        geom_boxplot() +\n",
    "        theme_bw()  \n",
    "    p.dims(4,2.5)\n",
    "    plot(p)\n",
    "}"
   ]
  },
  {
   "cell_type": "code",
   "execution_count": 22,
   "metadata": {
    "ExecuteTime": {
     "end_time": "2021-10-01T07:24:42.638621Z",
     "start_time": "2021-10-01T07:24:30.748Z"
    }
   },
   "outputs": [],
   "source": [
    "#' feature importance\n",
    "merge_feat_imp = function(iter, feat_imp){\n",
    "    res = feat_imp[[iter]]$res\n",
    "    res$iter = iter\n",
    "    return(res)  \n",
    "}\n",
    "\n",
    "get_feat_imp = function(res, threads){\n",
    "    doParallel::registerDoParallel(threads)\n",
    "    feat_imp = res$models %>%\n",
    "        plyr::llply(function(x) getFeatureImportance(x)$res,\n",
    "                    .parallel=TRUE) %>%\n",
    "        rbindlist(use.names=TRUE, idcol='cv_rep')\n",
    "    return(feat_imp)\n",
    "}"
   ]
  },
  {
   "cell_type": "code",
   "execution_count": 23,
   "metadata": {
    "ExecuteTime": {
     "end_time": "2021-10-01T07:24:42.651855Z",
     "start_time": "2021-10-01T07:24:30.750Z"
    }
   },
   "outputs": [],
   "source": [
    "# plotting most important features\n",
    "plot_feat_imp = function(feat_imp, max_rank = 50, y_offset=-0.01){\n",
    "    p = feat_imp %>%\n",
    "        mutate.(rank = dense_rank(-importance),\n",
    "                .by=c('cv_rep')) %>%\n",
    "        mutate.(mean_rank = mean(rank),\n",
    "                .by=c(variable)) %>%\n",
    "        filter.(mean_rank < max_rank) %>%\n",
    "        mutate.(measure_type = case_when.(grepl('MPD|MNTD', variable) ~ 'eco-phy',\n",
    "                                       grepl('FEve|FRic|FDis|RaoQ|FDiv', variable) ~ 'func. div.',\n",
    "                                       TRUE ~ 'alpha div.')) %>%\n",
    "        mutate.(data_type = case_when.(grepl('phy', variable) ~ 'phylogeny',\n",
    "                                       grepl('trt', variable) ~ 'trait',\n",
    "                                       grepl('pfam|cog', variable) ~ 'COG/Pfam',\n",
    "                                       TRUE ~ 'no tree')) %>%\n",
    "        mutate.(variable = variable %>% reorder(-mean_rank)) %>%\n",
    "        ggplot(aes(variable, importance)) +\n",
    "        geom_point(aes(y=y_offset, fill=data_type), pch=22, size=4) +\n",
    "        geom_boxplot(aes(color=measure_type)) +\n",
    "        scale_color_discrete('Measure') +\n",
    "        scale_fill_discrete('Tree') +\n",
    "        labs(x='Feature', y='Importance') +\n",
    "        theme_bw() +\n",
    "        theme(\n",
    "            axis.text.x = element_text(angle=45, hjust=1)\n",
    "        ) +\n",
    "        coord_flip()\n",
    "    return(p)\n",
    "}"
   ]
  },
  {
   "cell_type": "markdown",
   "metadata": {},
   "source": [
    "# Westernization"
   ]
  },
  {
   "cell_type": "code",
   "execution_count": 24,
   "metadata": {
    "ExecuteTime": {
     "end_time": "2021-10-01T07:24:42.667920Z",
     "start_time": "2021-10-01T07:24:30.753Z"
    }
   },
   "outputs": [],
   "source": [
    "target = 'westernized'\n",
    "measures = list(auc, acc, mcc, f1)\n",
    "cv_iters = 5"
   ]
  },
  {
   "cell_type": "code",
   "execution_count": 28,
   "metadata": {
    "ExecuteTime": {
     "end_time": "2021-10-01T07:25:31.458508Z",
     "start_time": "2021-10-01T07:25:31.400Z"
    }
   },
   "outputs": [
    {
     "data": {
      "text/html": [
       "<table class=\"dataframe\">\n",
       "<caption>A data.frame: 2943 × 34</caption>\n",
       "<thead>\n",
       "\t<tr><th></th><th scope=col>dataset_name</th><th scope=col>westernized</th><th scope=col>nobs</th><th scope=col>shannon</th><th scope=col>simpson</th><th scope=col>pielou</th><th scope=col>PD_phy</th><th scope=col>PD_trt</th><th scope=col>PD_cog</th><th scope=col>PD_cogcat</th><th scope=col>⋯</th><th scope=col>FRic_trt</th><th scope=col>FEve_trt</th><th scope=col>FDiv_trt</th><th scope=col>FDis_trt</th><th scope=col>RaoQ_trt</th><th scope=col>FRic_cogcat</th><th scope=col>FEve_cogcat</th><th scope=col>FDiv_cogcat</th><th scope=col>FDis_cogcat</th><th scope=col>RaoQ_cogcat</th></tr>\n",
       "\t<tr><th></th><th scope=col>&lt;chr&gt;</th><th scope=col>&lt;lgl&gt;</th><th scope=col>&lt;int&gt;</th><th scope=col>&lt;dbl&gt;</th><th scope=col>&lt;dbl&gt;</th><th scope=col>&lt;dbl&gt;</th><th scope=col>&lt;dbl&gt;</th><th scope=col>&lt;dbl&gt;</th><th scope=col>&lt;dbl&gt;</th><th scope=col>&lt;dbl&gt;</th><th scope=col>⋯</th><th scope=col>&lt;dbl&gt;</th><th scope=col>&lt;dbl&gt;</th><th scope=col>&lt;dbl&gt;</th><th scope=col>&lt;dbl&gt;</th><th scope=col>&lt;dbl&gt;</th><th scope=col>&lt;dbl&gt;</th><th scope=col>&lt;dbl&gt;</th><th scope=col>&lt;dbl&gt;</th><th scope=col>&lt;dbl&gt;</th><th scope=col>&lt;dbl&gt;</th></tr>\n",
       "</thead>\n",
       "<tbody>\n",
       "\t<tr><th scope=row>A01_02_1FE</th><td>PasolliE_2018</td><td>FALSE</td><td>232</td><td>3.888802</td><td>0.9507426</td><td>0.4757117</td><td>55.94272</td><td>43.94092</td><td>73.48643</td><td>28.29848</td><td>⋯</td><td>1281.648</td><td>0.6305736</td><td>0.7250427</td><td>6.970392</td><td>52.69103</td><td>0.001963384</td><td>0.6300577</td><td>0.8344220</td><td>0.1390624</td><td>0.02458852</td></tr>\n",
       "\t<tr><th scope=row>A02_01_1FE</th><td>PasolliE_2018</td><td>FALSE</td><td>176</td><td>3.418777</td><td>0.8891672</td><td>0.4182143</td><td>40.24502</td><td>31.18437</td><td>50.07578</td><td>20.65005</td><td>⋯</td><td> 860.518</td><td>0.5762672</td><td>0.8080909</td><td>6.338391</td><td>45.45341</td><td>0.001858941</td><td>0.6244829</td><td>0.8111916</td><td>0.1164369</td><td>0.01988324</td></tr>\n",
       "\t<tr><th scope=row>⋮</th><td>⋮</td><td>⋮</td><td>⋮</td><td>⋮</td><td>⋮</td><td>⋮</td><td>⋮</td><td>⋮</td><td>⋮</td><td>⋮</td><td>⋱</td><td>⋮</td><td>⋮</td><td>⋮</td><td>⋮</td><td>⋮</td><td>⋮</td><td>⋮</td><td>⋮</td><td>⋮</td><td>⋮</td></tr>\n",
       "\t<tr><th scope=row>nHMX11726</th><td>LiJ_2017     </td><td>TRUE</td><td>272</td><td>3.612832</td><td>0.8932187</td><td>0.4419526</td><td>53.11264</td><td>46.47031</td><td>88.09736</td><td>34.25477</td><td>⋯</td><td>581.4522</td><td>0.5773349</td><td>0.8226567</td><td>5.954451</td><td>37.63154</td><td>0.0012117563</td><td>0.6201434</td><td>0.6032538</td><td>0.06340579</td><td>0.005202252</td></tr>\n",
       "\t<tr><th scope=row>scavenger.11.60.0</th><td>CosteaPI_2017</td><td>TRUE</td><td>210</td><td>3.891553</td><td>0.9557596</td><td>0.4760482</td><td>37.27697</td><td>35.63946</td><td>64.59389</td><td>22.62152</td><td>⋯</td><td>158.4517</td><td>0.5402863</td><td>0.5368664</td><td>5.515205</td><td>31.73553</td><td>0.0009740577</td><td>0.5382320</td><td>0.6360507</td><td>0.07027430</td><td>0.005815837</td></tr>\n",
       "</tbody>\n",
       "</table>\n"
      ],
      "text/latex": [
       "A data.frame: 2943 × 34\n",
       "\\begin{tabular}{r|lllllllllllllllllllll}\n",
       "  & dataset\\_name & westernized & nobs & shannon & simpson & pielou & PD\\_phy & PD\\_trt & PD\\_cog & PD\\_cogcat & ⋯ & FRic\\_trt & FEve\\_trt & FDiv\\_trt & FDis\\_trt & RaoQ\\_trt & FRic\\_cogcat & FEve\\_cogcat & FDiv\\_cogcat & FDis\\_cogcat & RaoQ\\_cogcat\\\\\n",
       "  & <chr> & <lgl> & <int> & <dbl> & <dbl> & <dbl> & <dbl> & <dbl> & <dbl> & <dbl> & ⋯ & <dbl> & <dbl> & <dbl> & <dbl> & <dbl> & <dbl> & <dbl> & <dbl> & <dbl> & <dbl>\\\\\n",
       "\\hline\n",
       "\tA01\\_02\\_1FE & PasolliE\\_2018 & FALSE & 232 & 3.888802 & 0.9507426 & 0.4757117 & 55.94272 & 43.94092 & 73.48643 & 28.29848 & ⋯ & 1281.648 & 0.6305736 & 0.7250427 & 6.970392 & 52.69103 & 0.001963384 & 0.6300577 & 0.8344220 & 0.1390624 & 0.02458852\\\\\n",
       "\tA02\\_01\\_1FE & PasolliE\\_2018 & FALSE & 176 & 3.418777 & 0.8891672 & 0.4182143 & 40.24502 & 31.18437 & 50.07578 & 20.65005 & ⋯ &  860.518 & 0.5762672 & 0.8080909 & 6.338391 & 45.45341 & 0.001858941 & 0.6244829 & 0.8111916 & 0.1164369 & 0.01988324\\\\\n",
       "\t⋮ & ⋮ & ⋮ & ⋮ & ⋮ & ⋮ & ⋮ & ⋮ & ⋮ & ⋮ & ⋮ & ⋱ & ⋮ & ⋮ & ⋮ & ⋮ & ⋮ & ⋮ & ⋮ & ⋮ & ⋮ & ⋮\\\\\n",
       "\tnHMX11726 & LiJ\\_2017      & TRUE & 272 & 3.612832 & 0.8932187 & 0.4419526 & 53.11264 & 46.47031 & 88.09736 & 34.25477 & ⋯ & 581.4522 & 0.5773349 & 0.8226567 & 5.954451 & 37.63154 & 0.0012117563 & 0.6201434 & 0.6032538 & 0.06340579 & 0.005202252\\\\\n",
       "\tscavenger.11.60.0 & CosteaPI\\_2017 & TRUE & 210 & 3.891553 & 0.9557596 & 0.4760482 & 37.27697 & 35.63946 & 64.59389 & 22.62152 & ⋯ & 158.4517 & 0.5402863 & 0.5368664 & 5.515205 & 31.73553 & 0.0009740577 & 0.5382320 & 0.6360507 & 0.07027430 & 0.005815837\\\\\n",
       "\\end{tabular}\n"
      ],
      "text/markdown": [
       "\n",
       "A data.frame: 2943 × 34\n",
       "\n",
       "| <!--/--> | dataset_name &lt;chr&gt; | westernized &lt;lgl&gt; | nobs &lt;int&gt; | shannon &lt;dbl&gt; | simpson &lt;dbl&gt; | pielou &lt;dbl&gt; | PD_phy &lt;dbl&gt; | PD_trt &lt;dbl&gt; | PD_cog &lt;dbl&gt; | PD_cogcat &lt;dbl&gt; | ⋯ ⋯ | FRic_trt &lt;dbl&gt; | FEve_trt &lt;dbl&gt; | FDiv_trt &lt;dbl&gt; | FDis_trt &lt;dbl&gt; | RaoQ_trt &lt;dbl&gt; | FRic_cogcat &lt;dbl&gt; | FEve_cogcat &lt;dbl&gt; | FDiv_cogcat &lt;dbl&gt; | FDis_cogcat &lt;dbl&gt; | RaoQ_cogcat &lt;dbl&gt; |\n",
       "|---|---|---|---|---|---|---|---|---|---|---|---|---|---|---|---|---|---|---|---|---|---|\n",
       "| A01_02_1FE | PasolliE_2018 | FALSE | 232 | 3.888802 | 0.9507426 | 0.4757117 | 55.94272 | 43.94092 | 73.48643 | 28.29848 | ⋯ | 1281.648 | 0.6305736 | 0.7250427 | 6.970392 | 52.69103 | 0.001963384 | 0.6300577 | 0.8344220 | 0.1390624 | 0.02458852 |\n",
       "| A02_01_1FE | PasolliE_2018 | FALSE | 176 | 3.418777 | 0.8891672 | 0.4182143 | 40.24502 | 31.18437 | 50.07578 | 20.65005 | ⋯ |  860.518 | 0.5762672 | 0.8080909 | 6.338391 | 45.45341 | 0.001858941 | 0.6244829 | 0.8111916 | 0.1164369 | 0.01988324 |\n",
       "| ⋮ | ⋮ | ⋮ | ⋮ | ⋮ | ⋮ | ⋮ | ⋮ | ⋮ | ⋮ | ⋮ | ⋱ | ⋮ | ⋮ | ⋮ | ⋮ | ⋮ | ⋮ | ⋮ | ⋮ | ⋮ | ⋮ |\n",
       "| nHMX11726 | LiJ_2017      | TRUE | 272 | 3.612832 | 0.8932187 | 0.4419526 | 53.11264 | 46.47031 | 88.09736 | 34.25477 | ⋯ | 581.4522 | 0.5773349 | 0.8226567 | 5.954451 | 37.63154 | 0.0012117563 | 0.6201434 | 0.6032538 | 0.06340579 | 0.005202252 |\n",
       "| scavenger.11.60.0 | CosteaPI_2017 | TRUE | 210 | 3.891553 | 0.9557596 | 0.4760482 | 37.27697 | 35.63946 | 64.59389 | 22.62152 | ⋯ | 158.4517 | 0.5402863 | 0.5368664 | 5.515205 | 31.73553 | 0.0009740577 | 0.5382320 | 0.6360507 | 0.07027430 | 0.005815837 |\n",
       "\n"
      ],
      "text/plain": [
       "                  dataset_name  westernized nobs shannon  simpson   pielou   \n",
       "A01_02_1FE        PasolliE_2018 FALSE       232  3.888802 0.9507426 0.4757117\n",
       "A02_01_1FE        PasolliE_2018 FALSE       176  3.418777 0.8891672 0.4182143\n",
       "⋮                 ⋮             ⋮           ⋮    ⋮        ⋮         ⋮        \n",
       "nHMX11726         LiJ_2017      TRUE        272  3.612832 0.8932187 0.4419526\n",
       "scavenger.11.60.0 CosteaPI_2017 TRUE        210  3.891553 0.9557596 0.4760482\n",
       "                  PD_phy   PD_trt   PD_cog   PD_cogcat ⋯ FRic_trt FEve_trt \n",
       "A01_02_1FE        55.94272 43.94092 73.48643 28.29848  ⋯ 1281.648 0.6305736\n",
       "A02_01_1FE        40.24502 31.18437 50.07578 20.65005  ⋯  860.518 0.5762672\n",
       "⋮                 ⋮        ⋮        ⋮        ⋮         ⋱ ⋮        ⋮        \n",
       "nHMX11726         53.11264 46.47031 88.09736 34.25477  ⋯ 581.4522 0.5773349\n",
       "scavenger.11.60.0 37.27697 35.63946 64.59389 22.62152  ⋯ 158.4517 0.5402863\n",
       "                  FDiv_trt  FDis_trt RaoQ_trt FRic_cogcat  FEve_cogcat\n",
       "A01_02_1FE        0.7250427 6.970392 52.69103 0.001963384  0.6300577  \n",
       "A02_01_1FE        0.8080909 6.338391 45.45341 0.001858941  0.6244829  \n",
       "⋮                 ⋮         ⋮        ⋮        ⋮            ⋮          \n",
       "nHMX11726         0.8226567 5.954451 37.63154 0.0012117563 0.6201434  \n",
       "scavenger.11.60.0 0.5368664 5.515205 31.73553 0.0009740577 0.5382320  \n",
       "                  FDiv_cogcat FDis_cogcat RaoQ_cogcat\n",
       "A01_02_1FE        0.8344220   0.1390624   0.02458852 \n",
       "A02_01_1FE        0.8111916   0.1164369   0.01988324 \n",
       "⋮                 ⋮           ⋮           ⋮          \n",
       "nHMX11726         0.6032538   0.06340579  0.005202252\n",
       "scavenger.11.60.0 0.6360507   0.07027430  0.005815837"
      ]
     },
     "metadata": {},
     "output_type": "display_data"
    }
   ],
   "source": [
    "# formatting\n",
    "feats_f = feats %>%\n",
    "    select.(-age, -BMI, -gender, -disease) %>%\n",
    "    mutate.(FDiv_cogcat = ifelse(is.na(FDiv_cogcat), 1, FDiv_cogcat)) %>%\n",
    "    filter.(!is.na(westernized)) %>%\n",
    "    as.data.frame\n",
    "rownames(feats_f) = feats_f$Sample\n",
    "feats_f$Sample = NULL\n",
    "feats_f"
   ]
  },
  {
   "cell_type": "code",
   "execution_count": 29,
   "metadata": {
    "ExecuteTime": {
     "end_time": "2021-10-01T07:25:32.170281Z",
     "start_time": "2021-10-01T07:25:32.117Z"
    }
   },
   "outputs": [
    {
     "data": {
      "text/plain": [
       ".\n",
       "FALSE  TRUE \n",
       "  455  2488 "
      ]
     },
     "metadata": {},
     "output_type": "display_data"
    },
    {
     "data": {
      "text/plain": [
       " dataset_name       westernized          nobs          shannon      \n",
       " Length:2943        Mode :logical   Min.   : 23.0   Min.   :0.7248  \n",
       " Class :character   FALSE:455       1st Qu.:236.0   1st Qu.:3.6358  \n",
       " Mode  :character   TRUE :2488      Median :279.0   Median :4.1292  \n",
       "                                    Mean   :273.5   Mean   :3.9862  \n",
       "                                    3rd Qu.:316.0   3rd Qu.:4.4516  \n",
       "                                    Max.   :469.0   Max.   :5.2184  \n",
       "    simpson           pielou            PD_phy           PD_trt      \n",
       " Min.   :0.2267   Min.   :0.08866   Min.   : 8.175   Min.   : 5.864  \n",
       " 1st Qu.:0.9282   1st Qu.:0.44477   1st Qu.:43.611   1st Qu.:39.880  \n",
       " Median :0.9601   Median :0.50512   Median :53.385   Median :48.185  \n",
       " Mean   :0.9383   Mean   :0.48763   Mean   :53.177   Mean   :47.116  \n",
       " 3rd Qu.:0.9749   3rd Qu.:0.54456   3rd Qu.:62.574   3rd Qu.:55.473  \n",
       " Max.   :0.9897   Max.   :0.63836   Max.   :93.614   Max.   :83.860  \n",
       "     PD_cog          PD_cogcat         PD_pfam         PD_pfamcat    \n",
       " Min.   :  8.994   Min.   : 4.221   Min.   : 5.431   Min.   : 3.695  \n",
       " 1st Qu.: 70.835   1st Qu.:25.287   1st Qu.:34.170   1st Qu.:20.767  \n",
       " Median : 86.666   Median :32.493   Median :40.813   Median :24.889  \n",
       " Mean   : 85.618   Mean   :32.711   Mean   :40.223   Mean   :24.523  \n",
       " 3rd Qu.:101.394   3rd Qu.:39.863   3rd Qu.:46.917   3rd Qu.:28.560  \n",
       " Max.   :160.003   Max.   :63.604   Max.   :73.396   Max.   :44.456  \n",
       "    MPD_phy           MPD_cog           MPD_cogcat         MPD_pfam      \n",
       " Min.   :-61.276   Min.   :-20.4629   Min.   :-9.9630   Min.   :-27.968  \n",
       " 1st Qu.:-10.847   1st Qu.: -6.9707   1st Qu.:-3.0992   1st Qu.:-10.379  \n",
       " Median : -8.324   Median : -3.9603   Median :-2.0338   Median : -6.931  \n",
       " Mean   : -8.723   Mean   : -3.4080   Mean   :-1.7313   Mean   : -7.389  \n",
       " 3rd Qu.: -5.882   3rd Qu.: -0.2731   3rd Qu.:-0.5458   3rd Qu.: -4.212  \n",
       " Max.   :  8.832   Max.   : 13.0961   Max.   :13.1734   Max.   : 13.284  \n",
       "  MPD_pfamcat         MPD_trt           MNTD_phy           MNTD_cog      \n",
       " Min.   :-34.912   Min.   :-31.858   Min.   :-25.7983   Min.   :-13.199  \n",
       " 1st Qu.: -9.333   1st Qu.: -6.169   1st Qu.: -4.8183   1st Qu.: -6.658  \n",
       " Median : -6.887   Median : -4.298   Median : -2.1757   Median : -5.247  \n",
       " Mean   : -6.995   Mean   : -4.223   Mean   : -2.7138   Mean   : -4.722  \n",
       " 3rd Qu.: -4.391   3rd Qu.: -1.992   3rd Qu.:  0.1257   3rd Qu.: -3.278  \n",
       " Max.   :  7.742   Max.   :  8.789   Max.   : 10.9757   Max.   :  7.317  \n",
       "  MNTD_cogcat        MNTD_pfam       MNTD_pfamcat       MNTD_trt      \n",
       " Min.   :-13.696   Min.   :-7.973   Min.   :-8.751   Min.   :-13.943  \n",
       " 1st Qu.: -4.230   1st Qu.:-4.830   1st Qu.:-4.798   1st Qu.: -4.797  \n",
       " Median : -2.714   Median :-4.034   Median :-3.998   Median : -3.710  \n",
       " Mean   : -2.576   Mean   :-3.881   Mean   :-3.879   Mean   : -3.731  \n",
       " 3rd Qu.: -1.090   3rd Qu.:-3.170   3rd Qu.:-3.190   3rd Qu.: -2.589  \n",
       " Max.   :  7.881   Max.   :12.816   Max.   :11.366   Max.   :  9.194  \n",
       "    FRic_trt          FEve_trt         FDiv_trt         FDis_trt    \n",
       " Min.   :  54.85   Min.   :0.4806   Min.   :0.3973   Min.   :2.234  \n",
       " 1st Qu.: 274.98   1st Qu.:0.5581   1st Qu.:0.6903   1st Qu.:5.733  \n",
       " Median : 497.32   Median :0.5781   Median :0.7493   Median :5.954  \n",
       " Mean   : 615.07   Mean   :0.5794   Mean   :0.7464   Mean   :5.983  \n",
       " 3rd Qu.: 822.12   3rd Qu.:0.5989   3rd Qu.:0.8046   3rd Qu.:6.184  \n",
       " Max.   :3386.32   Max.   :0.7749   Max.   :0.9821   Max.   :8.920  \n",
       "    RaoQ_trt      FRic_cogcat         FEve_cogcat      FDiv_cogcat    \n",
       " Min.   :11.41   Min.   :8.733e-05   Min.   :0.4841   Min.   :0.3419  \n",
       " 1st Qu.:34.61   1st Qu.:8.848e-04   1st Qu.:0.5823   1st Qu.:0.6575  \n",
       " Median :36.96   Median :1.471e-03   Median :0.6039   Median :0.7023  \n",
       " Mean   :38.48   Mean   :1.486e-03   Mean   :0.6046   Mean   :0.7043  \n",
       " 3rd Qu.:40.23   3rd Qu.:2.016e-03   3rd Qu.:0.6262   3rd Qu.:0.7496  \n",
       " Max.   :81.22   Max.   :4.134e-03   Max.   :0.8033   Max.   :1.0000  \n",
       "  FDis_cogcat       RaoQ_cogcat      \n",
       " Min.   :0.02907   Min.   :0.001775  \n",
       " 1st Qu.:0.06927   1st Qu.:0.005777  \n",
       " Median :0.07531   Median :0.006848  \n",
       " Mean   :0.07922   Mean   :0.008367  \n",
       " 3rd Qu.:0.08238   3rd Qu.:0.008460  \n",
       " Max.   :0.20228   Max.   :0.041588  "
      ]
     },
     "metadata": {},
     "output_type": "display_data"
    }
   ],
   "source": [
    "# summary\n",
    "## target\n",
    "feats_f[,target] %>% table\n",
    "## all features\n",
    "feats_f %>% summary"
   ]
  },
  {
   "cell_type": "markdown",
   "metadata": {},
   "source": [
    "## RF"
   ]
  },
  {
   "cell_type": "code",
   "execution_count": 37,
   "metadata": {
    "ExecuteTime": {
     "end_time": "2021-10-01T07:26:02.376156Z",
     "start_time": "2021-10-01T07:26:02.341Z"
    }
   },
   "outputs": [
    {
     "data": {
      "text/plain": [
       "Supervised task: feats_f %>% select(-dataset_name)\n",
       "Type: classif\n",
       "Target: westernized\n",
       "Observations: 2943\n",
       "Features:\n",
       "   numerics     factors     ordered functionals \n",
       "         32           0           0           0 \n",
       "Missings: FALSE\n",
       "Has weights: FALSE\n",
       "Has blocking: TRUE\n",
       "Has coordinates: FALSE\n",
       "Classes: 2\n",
       "FALSE  TRUE \n",
       "  455  2488 \n",
       "Positive class: FALSE"
      ]
     },
     "metadata": {},
     "output_type": "display_data"
    }
   ],
   "source": [
    "# creating mlr task\n",
    "tsk = makeClassifTask(data = feats_f %>% select(-dataset_name), \n",
    "                      target = target, \n",
    "                      blocking = feats_f$dataset_name %>% as.factor)\n",
    "tsk"
   ]
  },
  {
   "cell_type": "code",
   "execution_count": 38,
   "metadata": {
    "ExecuteTime": {
     "end_time": "2021-10-01T07:26:02.560054Z",
     "start_time": "2021-10-01T07:26:02.530Z"
    }
   },
   "outputs": [
    {
     "data": {
      "text/plain": [
       "Supervised task: feats_f %>% select(-dataset_name)\n",
       "Type: classif\n",
       "Target: westernized\n",
       "Observations: 907\n",
       "Features:\n",
       "   numerics     factors     ordered functionals \n",
       "         32           0           0           0 \n",
       "Missings: FALSE\n",
       "Has weights: FALSE\n",
       "Has blocking: TRUE\n",
       "Has coordinates: FALSE\n",
       "Classes: 2\n",
       "FALSE  TRUE \n",
       "  455   452 \n",
       "Positive class: FALSE"
      ]
     },
     "metadata": {},
     "output_type": "display_data"
    }
   ],
   "source": [
    "# what sampling rate to use?\n",
    "rate = 1/5.5\n",
    "undersample(tsk, rate = rate)"
   ]
  },
  {
   "cell_type": "code",
   "execution_count": 39,
   "metadata": {
    "ExecuteTime": {
     "end_time": "2021-10-01T07:26:02.795160Z",
     "start_time": "2021-10-01T07:26:02.646Z"
    }
   },
   "outputs": [
    {
     "data": {
      "text/plain": [
       "Learner classif.cforest from package party\n",
       "Type: classif\n",
       "Name: Random forest based on conditional inference trees; Short name: cforest\n",
       "Class: classif.cforest\n",
       "Properties: twoclass,multiclass,prob,factors,numerics,ordered,weights,missings,featimp\n",
       "Predict-Type: prob\n",
       "Hyperparameters: ntree=500\n"
      ]
     },
     "metadata": {},
     "output_type": "display_data"
    }
   ],
   "source": [
    "## feature selection (wrapping the RF learner)\n",
    "lrn = makeLearner('classif.cforest', predict.type = 'prob', \n",
    "                  ntree = 500)\n",
    "lrn"
   ]
  },
  {
   "cell_type": "code",
   "execution_count": 40,
   "metadata": {
    "ExecuteTime": {
     "end_time": "2021-10-01T07:26:02.822457Z",
     "start_time": "2021-10-01T07:26:02.758Z"
    }
   },
   "outputs": [
    {
     "data": {
      "text/plain": [
       "Learner classif.cforest.undersampled from package mlr,party\n",
       "Type: classif\n",
       "Name: ; Short name: \n",
       "Class: UndersampleWrapper\n",
       "Properties: numerics,factors,ordered,missings,weights,prob,twoclass,multiclass,featimp\n",
       "Predict-Type: prob\n",
       "Hyperparameters: ntree=500,usw.rate=0.182\n"
      ]
     },
     "metadata": {},
     "output_type": "display_data"
    }
   ],
   "source": [
    "# sampling\n",
    "lrn = makeUndersampleWrapper(lrn, usw.rate = rate)\n",
    "lrn"
   ]
  },
  {
   "cell_type": "code",
   "execution_count": 41,
   "metadata": {
    "ExecuteTime": {
     "end_time": "2021-10-01T07:26:14.072738Z",
     "start_time": "2021-10-01T07:26:03.222Z"
    }
   },
   "outputs": [
    {
     "name": "stderr",
     "output_type": "stream",
     "text": [
      "Starting parallelization in mode=multicore with cpus=8.\n",
      "\n",
      "Resampling: cross-validation\n",
      "\n",
      "Measures:             auc       acc       mcc       f1        \n",
      "\n",
      "Mapping in parallel: mode = multicore; level = mlr.resample; cpus = 8; elements = 5.\n",
      "\n",
      "\n",
      "\n",
      "\n",
      "Aggregated Result: auc.test.mean=0.9164480,acc.test.mean=0.8137989,mcc.test.mean=0.5352309,f1.test.mean=0.5928826\n",
      "\n",
      "\n",
      "\n",
      "\n",
      "Stopped parallelization. All cleaned up.\n",
      "\n"
     ]
    }
   ],
   "source": [
    "## evaluation \n",
    "parallelStartMulticore(cpus=threads, level = 'mlr.resample')\n",
    "rs = makeResampleDesc('CV', iters = cv_iters)\n",
    "res = resample(lrn, tsk, \n",
    "               resampling = rs,  \n",
    "               models = TRUE,\n",
    "               measures = measures)\n",
    "parallelStop()"
   ]
  },
  {
   "cell_type": "markdown",
   "metadata": {},
   "source": [
    "### Performance"
   ]
  },
  {
   "cell_type": "code",
   "execution_count": 42,
   "metadata": {
    "ExecuteTime": {
     "end_time": "2021-10-01T07:26:14.103488Z",
     "start_time": "2021-10-01T07:26:11.124Z"
    }
   },
   "outputs": [
    {
     "data": {
      "text/html": [
       "<table class=\"dataframe\">\n",
       "<caption>A data.frame: 5 × 5</caption>\n",
       "<thead>\n",
       "\t<tr><th scope=col>iter</th><th scope=col>auc</th><th scope=col>acc</th><th scope=col>mcc</th><th scope=col>f1</th></tr>\n",
       "\t<tr><th scope=col>&lt;int&gt;</th><th scope=col>&lt;dbl&gt;</th><th scope=col>&lt;dbl&gt;</th><th scope=col>&lt;dbl&gt;</th><th scope=col>&lt;dbl&gt;</th></tr>\n",
       "</thead>\n",
       "<tbody>\n",
       "\t<tr><td>1</td><td>0.8921762</td><td>0.7942177</td><td>0.4777379</td><td>0.5328185</td></tr>\n",
       "\t<tr><td>2</td><td>0.9200980</td><td>0.8047538</td><td>0.5258784</td><td>0.5724907</td></tr>\n",
       "\t<tr><td>3</td><td>0.9233944</td><td>0.8435374</td><td>0.5930819</td><td>0.6567164</td></tr>\n",
       "\t<tr><td>4</td><td>0.9298836</td><td>0.8336163</td><td>0.5671557</td><td>0.6230769</td></tr>\n",
       "\t<tr><td>5</td><td>0.9166878</td><td>0.7928693</td><td>0.5123006</td><td>0.5793103</td></tr>\n",
       "</tbody>\n",
       "</table>\n"
      ],
      "text/latex": [
       "A data.frame: 5 × 5\n",
       "\\begin{tabular}{lllll}\n",
       " iter & auc & acc & mcc & f1\\\\\n",
       " <int> & <dbl> & <dbl> & <dbl> & <dbl>\\\\\n",
       "\\hline\n",
       "\t 1 & 0.8921762 & 0.7942177 & 0.4777379 & 0.5328185\\\\\n",
       "\t 2 & 0.9200980 & 0.8047538 & 0.5258784 & 0.5724907\\\\\n",
       "\t 3 & 0.9233944 & 0.8435374 & 0.5930819 & 0.6567164\\\\\n",
       "\t 4 & 0.9298836 & 0.8336163 & 0.5671557 & 0.6230769\\\\\n",
       "\t 5 & 0.9166878 & 0.7928693 & 0.5123006 & 0.5793103\\\\\n",
       "\\end{tabular}\n"
      ],
      "text/markdown": [
       "\n",
       "A data.frame: 5 × 5\n",
       "\n",
       "| iter &lt;int&gt; | auc &lt;dbl&gt; | acc &lt;dbl&gt; | mcc &lt;dbl&gt; | f1 &lt;dbl&gt; |\n",
       "|---|---|---|---|---|\n",
       "| 1 | 0.8921762 | 0.7942177 | 0.4777379 | 0.5328185 |\n",
       "| 2 | 0.9200980 | 0.8047538 | 0.5258784 | 0.5724907 |\n",
       "| 3 | 0.9233944 | 0.8435374 | 0.5930819 | 0.6567164 |\n",
       "| 4 | 0.9298836 | 0.8336163 | 0.5671557 | 0.6230769 |\n",
       "| 5 | 0.9166878 | 0.7928693 | 0.5123006 | 0.5793103 |\n",
       "\n"
      ],
      "text/plain": [
       "  iter auc       acc       mcc       f1       \n",
       "1 1    0.8921762 0.7942177 0.4777379 0.5328185\n",
       "2 2    0.9200980 0.8047538 0.5258784 0.5724907\n",
       "3 3    0.9233944 0.8435374 0.5930819 0.6567164\n",
       "4 4    0.9298836 0.8336163 0.5671557 0.6230769\n",
       "5 5    0.9166878 0.7928693 0.5123006 0.5793103"
      ]
     },
     "metadata": {},
     "output_type": "display_data"
    }
   ],
   "source": [
    "df.dims(30)\n",
    "perf_res[['westernized_RF']] = res$measures.test\n",
    "res$measures.test\n",
    "df.dims()"
   ]
  },
  {
   "cell_type": "code",
   "execution_count": 43,
   "metadata": {
    "ExecuteTime": {
     "end_time": "2021-10-01T07:26:14.513812Z",
     "start_time": "2021-10-01T07:26:11.251Z"
    }
   },
   "outputs": [
    {
     "name": "stdout",
     "output_type": "stream",
     "text": [
      "--AUC--\n",
      "   Min. 1st Qu.  Median    Mean 3rd Qu.    Max. \n",
      " 0.8922  0.9167  0.9201  0.9164  0.9234  0.9299 \n",
      "--F1--\n",
      "   Min. 1st Qu.  Median    Mean 3rd Qu.    Max. \n",
      " 0.5328  0.5725  0.5793  0.5929  0.6231  0.6567 \n",
      "--plot--\n"
     ]
    },
    {
     "data": {
      "image/png": "[encoded data removed]",
      "text/plain": [
       "plot without title"
      ]
     },
     "metadata": {
      "image/png": {
       "height": 250,
       "width": 400
      }
     },
     "output_type": "display_data"
    }
   ],
   "source": [
    "# performance\n",
    "cls_perf(res)"
   ]
  },
  {
   "cell_type": "code",
   "execution_count": 44,
   "metadata": {
    "ExecuteTime": {
     "end_time": "2021-10-01T07:26:31.401395Z",
     "start_time": "2021-10-01T07:26:11.355Z"
    }
   },
   "outputs": [
    {
     "data": {
      "text/html": [
       "<table class=\"dataframe\">\n",
       "<caption>A data.table: 160 × 3</caption>\n",
       "<thead>\n",
       "\t<tr><th scope=col>cv_rep</th><th scope=col>variable</th><th scope=col>importance</th></tr>\n",
       "\t<tr><th scope=col>&lt;int&gt;</th><th scope=col>&lt;chr&gt;</th><th scope=col>&lt;dbl&gt;</th></tr>\n",
       "</thead>\n",
       "<tbody>\n",
       "\t<tr><td>1</td><td>nobs   </td><td>0.001785185</td></tr>\n",
       "\t<tr><td>1</td><td>shannon</td><td>0.004111111</td></tr>\n",
       "\t<tr><td>⋮</td><td>⋮</td><td>⋮</td></tr>\n",
       "\t<tr><td>5</td><td>FDis_cogcat</td><td>0.005690566</td></tr>\n",
       "\t<tr><td>5</td><td>RaoQ_cogcat</td><td>0.003652830</td></tr>\n",
       "</tbody>\n",
       "</table>\n"
      ],
      "text/latex": [
       "A data.table: 160 × 3\n",
       "\\begin{tabular}{lll}\n",
       " cv\\_rep & variable & importance\\\\\n",
       " <int> & <chr> & <dbl>\\\\\n",
       "\\hline\n",
       "\t 1 & nobs    & 0.001785185\\\\\n",
       "\t 1 & shannon & 0.004111111\\\\\n",
       "\t ⋮ & ⋮ & ⋮\\\\\n",
       "\t 5 & FDis\\_cogcat & 0.005690566\\\\\n",
       "\t 5 & RaoQ\\_cogcat & 0.003652830\\\\\n",
       "\\end{tabular}\n"
      ],
      "text/markdown": [
       "\n",
       "A data.table: 160 × 3\n",
       "\n",
       "| cv_rep &lt;int&gt; | variable &lt;chr&gt; | importance &lt;dbl&gt; |\n",
       "|---|---|---|\n",
       "| 1 | nobs    | 0.001785185 |\n",
       "| 1 | shannon | 0.004111111 |\n",
       "| ⋮ | ⋮ | ⋮ |\n",
       "| 5 | FDis_cogcat | 0.005690566 |\n",
       "| 5 | RaoQ_cogcat | 0.003652830 |\n",
       "\n"
      ],
      "text/plain": [
       "    cv_rep variable    importance \n",
       "1   1      nobs        0.001785185\n",
       "2   1      shannon     0.004111111\n",
       "⋮   ⋮      ⋮           ⋮          \n",
       "159 5      FDis_cogcat 0.005690566\n",
       "160 5      RaoQ_cogcat 0.003652830"
      ]
     },
     "metadata": {},
     "output_type": "display_data"
    }
   ],
   "source": [
    "# getting feat imp\n",
    "feat_imp = get_feat_imp(res)\n",
    "feat_imp "
   ]
  },
  {
   "cell_type": "code",
   "execution_count": 45,
   "metadata": {
    "ExecuteTime": {
     "end_time": "2021-10-01T07:26:32.858208Z",
     "start_time": "2021-10-01T07:26:11.477Z"
    }
   },
   "outputs": [
    {
     "name": "stdout",
     "output_type": "stream",
     "text": [
      "File written: /ebio/abt3_projects2/global_metagenome_diversity/ipynb/03_ML/.figures/c6c65b652bd734a088e99e4d02b11890.RDS \n"
     ]
    },
    {
     "data": {
      "image/png": "[encoded data removed]",
      "text/plain": [
       "plot without title"
      ]
     },
     "metadata": {
      "image/png": {
       "height": 500,
       "width": 400
      }
     },
     "output_type": "display_data"
    }
   ],
   "source": [
    "# plotting the most important features\n",
    "p = plot_feat_imp(feat_imp, y_offset=-0.005)\n",
    "p.dims(4,5)\n",
    "Plot(p)"
   ]
  },
  {
   "cell_type": "markdown",
   "metadata": {},
   "source": [
    "# Gender"
   ]
  },
  {
   "cell_type": "code",
   "execution_count": 48,
   "metadata": {
    "ExecuteTime": {
     "end_time": "2021-10-01T07:26:37.048909Z",
     "start_time": "2021-10-01T07:26:37.021Z"
    }
   },
   "outputs": [],
   "source": [
    "target = 'gender'\n",
    "measures = list(auc, acc, mcc, f1)\n",
    "cv_iters = 5"
   ]
  },
  {
   "cell_type": "code",
   "execution_count": 49,
   "metadata": {
    "ExecuteTime": {
     "end_time": "2021-10-01T07:26:37.217200Z",
     "start_time": "2021-10-01T07:26:37.151Z"
    }
   },
   "outputs": [
    {
     "data": {
      "text/html": [
       "<table class=\"dataframe\">\n",
       "<caption>A data.frame: 1825 × 34</caption>\n",
       "<thead>\n",
       "\t<tr><th></th><th scope=col>dataset_name</th><th scope=col>gender</th><th scope=col>nobs</th><th scope=col>shannon</th><th scope=col>simpson</th><th scope=col>pielou</th><th scope=col>PD_phy</th><th scope=col>PD_trt</th><th scope=col>PD_cog</th><th scope=col>PD_cogcat</th><th scope=col>⋯</th><th scope=col>FRic_trt</th><th scope=col>FEve_trt</th><th scope=col>FDiv_trt</th><th scope=col>FDis_trt</th><th scope=col>RaoQ_trt</th><th scope=col>FRic_cogcat</th><th scope=col>FEve_cogcat</th><th scope=col>FDiv_cogcat</th><th scope=col>FDis_cogcat</th><th scope=col>RaoQ_cogcat</th></tr>\n",
       "\t<tr><th></th><th scope=col>&lt;chr&gt;</th><th scope=col>&lt;chr&gt;</th><th scope=col>&lt;int&gt;</th><th scope=col>&lt;dbl&gt;</th><th scope=col>&lt;dbl&gt;</th><th scope=col>&lt;dbl&gt;</th><th scope=col>&lt;dbl&gt;</th><th scope=col>&lt;dbl&gt;</th><th scope=col>&lt;dbl&gt;</th><th scope=col>&lt;dbl&gt;</th><th scope=col>⋯</th><th scope=col>&lt;dbl&gt;</th><th scope=col>&lt;dbl&gt;</th><th scope=col>&lt;dbl&gt;</th><th scope=col>&lt;dbl&gt;</th><th scope=col>&lt;dbl&gt;</th><th scope=col>&lt;dbl&gt;</th><th scope=col>&lt;dbl&gt;</th><th scope=col>&lt;dbl&gt;</th><th scope=col>&lt;dbl&gt;</th><th scope=col>&lt;dbl&gt;</th></tr>\n",
       "</thead>\n",
       "<tbody>\n",
       "\t<tr><th scope=row>A11_01_1FE</th><td>PasolliE_2018</td><td>male</td><td>233</td><td>3.576704</td><td>0.9286988</td><td>0.4375333</td><td>44.75908</td><td>38.87524</td><td>61.68524</td><td>21.51138</td><td>⋯</td><td> 727.6456</td><td>0.5985831</td><td>0.6488497</td><td>5.962851</td><td>37.64543</td><td>0.001911215</td><td>0.6511331</td><td>0.8096961</td><td>0.08583902</td><td>0.009809411</td></tr>\n",
       "\t<tr><th scope=row>A13_01_1FE</th><td>PasolliE_2018</td><td>male</td><td>250</td><td>4.438556</td><td>0.9763921</td><td>0.5429624</td><td>53.53982</td><td>43.40921</td><td>71.48026</td><td>26.68735</td><td>⋯</td><td>1022.0174</td><td>0.5965370</td><td>0.7739526</td><td>6.574219</td><td>45.30567</td><td>0.002462166</td><td>0.6610449</td><td>0.7932905</td><td>0.08931799</td><td>0.010776495</td></tr>\n",
       "\t<tr><th scope=row>⋮</th><td>⋮</td><td>⋮</td><td>⋮</td><td>⋮</td><td>⋮</td><td>⋮</td><td>⋮</td><td>⋮</td><td>⋮</td><td>⋮</td><td>⋱</td><td>⋮</td><td>⋮</td><td>⋮</td><td>⋮</td><td>⋮</td><td>⋮</td><td>⋮</td><td>⋮</td><td>⋮</td><td>⋮</td></tr>\n",
       "\t<tr><th scope=row>YSZC12003_37879</th><td>XieH_2016</td><td>female</td><td>196</td><td>3.230018</td><td>0.8847015</td><td>0.3951236</td><td>36.05868</td><td>34.46728</td><td>56.48618</td><td>20.88889</td><td>⋯</td><td> 650.2008</td><td>0.5776092</td><td>0.9153217</td><td>7.886338</td><td>63.80604</td><td>0.001636646</td><td>0.6212355</td><td>0.9129763</td><td>0.1774742</td><td>0.03343108</td></tr>\n",
       "\t<tr><th scope=row>YSZC12003_37880</th><td>XieH_2016</td><td>female</td><td>267</td><td>3.703088</td><td>0.9290237</td><td>0.4529936</td><td>45.58852</td><td>45.64780</td><td>77.83160</td><td>27.07221</td><td>⋯</td><td>1250.0385</td><td>0.5858401</td><td>0.8503177</td><td>7.708019</td><td>61.99451</td><td>0.002654257</td><td>0.6081257</td><td>0.7892259</td><td>0.1400746</td><td>0.02553194</td></tr>\n",
       "</tbody>\n",
       "</table>\n"
      ],
      "text/latex": [
       "A data.frame: 1825 × 34\n",
       "\\begin{tabular}{r|lllllllllllllllllllll}\n",
       "  & dataset\\_name & gender & nobs & shannon & simpson & pielou & PD\\_phy & PD\\_trt & PD\\_cog & PD\\_cogcat & ⋯ & FRic\\_trt & FEve\\_trt & FDiv\\_trt & FDis\\_trt & RaoQ\\_trt & FRic\\_cogcat & FEve\\_cogcat & FDiv\\_cogcat & FDis\\_cogcat & RaoQ\\_cogcat\\\\\n",
       "  & <chr> & <chr> & <int> & <dbl> & <dbl> & <dbl> & <dbl> & <dbl> & <dbl> & <dbl> & ⋯ & <dbl> & <dbl> & <dbl> & <dbl> & <dbl> & <dbl> & <dbl> & <dbl> & <dbl> & <dbl>\\\\\n",
       "\\hline\n",
       "\tA11\\_01\\_1FE & PasolliE\\_2018 & male & 233 & 3.576704 & 0.9286988 & 0.4375333 & 44.75908 & 38.87524 & 61.68524 & 21.51138 & ⋯ &  727.6456 & 0.5985831 & 0.6488497 & 5.962851 & 37.64543 & 0.001911215 & 0.6511331 & 0.8096961 & 0.08583902 & 0.009809411\\\\\n",
       "\tA13\\_01\\_1FE & PasolliE\\_2018 & male & 250 & 4.438556 & 0.9763921 & 0.5429624 & 53.53982 & 43.40921 & 71.48026 & 26.68735 & ⋯ & 1022.0174 & 0.5965370 & 0.7739526 & 6.574219 & 45.30567 & 0.002462166 & 0.6610449 & 0.7932905 & 0.08931799 & 0.010776495\\\\\n",
       "\t⋮ & ⋮ & ⋮ & ⋮ & ⋮ & ⋮ & ⋮ & ⋮ & ⋮ & ⋮ & ⋮ & ⋱ & ⋮ & ⋮ & ⋮ & ⋮ & ⋮ & ⋮ & ⋮ & ⋮ & ⋮ & ⋮\\\\\n",
       "\tYSZC12003\\_37879 & XieH\\_2016 & female & 196 & 3.230018 & 0.8847015 & 0.3951236 & 36.05868 & 34.46728 & 56.48618 & 20.88889 & ⋯ &  650.2008 & 0.5776092 & 0.9153217 & 7.886338 & 63.80604 & 0.001636646 & 0.6212355 & 0.9129763 & 0.1774742 & 0.03343108\\\\\n",
       "\tYSZC12003\\_37880 & XieH\\_2016 & female & 267 & 3.703088 & 0.9290237 & 0.4529936 & 45.58852 & 45.64780 & 77.83160 & 27.07221 & ⋯ & 1250.0385 & 0.5858401 & 0.8503177 & 7.708019 & 61.99451 & 0.002654257 & 0.6081257 & 0.7892259 & 0.1400746 & 0.02553194\\\\\n",
       "\\end{tabular}\n"
      ],
      "text/markdown": [
       "\n",
       "A data.frame: 1825 × 34\n",
       "\n",
       "| <!--/--> | dataset_name &lt;chr&gt; | gender &lt;chr&gt; | nobs &lt;int&gt; | shannon &lt;dbl&gt; | simpson &lt;dbl&gt; | pielou &lt;dbl&gt; | PD_phy &lt;dbl&gt; | PD_trt &lt;dbl&gt; | PD_cog &lt;dbl&gt; | PD_cogcat &lt;dbl&gt; | ⋯ ⋯ | FRic_trt &lt;dbl&gt; | FEve_trt &lt;dbl&gt; | FDiv_trt &lt;dbl&gt; | FDis_trt &lt;dbl&gt; | RaoQ_trt &lt;dbl&gt; | FRic_cogcat &lt;dbl&gt; | FEve_cogcat &lt;dbl&gt; | FDiv_cogcat &lt;dbl&gt; | FDis_cogcat &lt;dbl&gt; | RaoQ_cogcat &lt;dbl&gt; |\n",
       "|---|---|---|---|---|---|---|---|---|---|---|---|---|---|---|---|---|---|---|---|---|---|\n",
       "| A11_01_1FE | PasolliE_2018 | male | 233 | 3.576704 | 0.9286988 | 0.4375333 | 44.75908 | 38.87524 | 61.68524 | 21.51138 | ⋯ |  727.6456 | 0.5985831 | 0.6488497 | 5.962851 | 37.64543 | 0.001911215 | 0.6511331 | 0.8096961 | 0.08583902 | 0.009809411 |\n",
       "| A13_01_1FE | PasolliE_2018 | male | 250 | 4.438556 | 0.9763921 | 0.5429624 | 53.53982 | 43.40921 | 71.48026 | 26.68735 | ⋯ | 1022.0174 | 0.5965370 | 0.7739526 | 6.574219 | 45.30567 | 0.002462166 | 0.6610449 | 0.7932905 | 0.08931799 | 0.010776495 |\n",
       "| ⋮ | ⋮ | ⋮ | ⋮ | ⋮ | ⋮ | ⋮ | ⋮ | ⋮ | ⋮ | ⋮ | ⋱ | ⋮ | ⋮ | ⋮ | ⋮ | ⋮ | ⋮ | ⋮ | ⋮ | ⋮ | ⋮ |\n",
       "| YSZC12003_37879 | XieH_2016 | female | 196 | 3.230018 | 0.8847015 | 0.3951236 | 36.05868 | 34.46728 | 56.48618 | 20.88889 | ⋯ |  650.2008 | 0.5776092 | 0.9153217 | 7.886338 | 63.80604 | 0.001636646 | 0.6212355 | 0.9129763 | 0.1774742 | 0.03343108 |\n",
       "| YSZC12003_37880 | XieH_2016 | female | 267 | 3.703088 | 0.9290237 | 0.4529936 | 45.58852 | 45.64780 | 77.83160 | 27.07221 | ⋯ | 1250.0385 | 0.5858401 | 0.8503177 | 7.708019 | 61.99451 | 0.002654257 | 0.6081257 | 0.7892259 | 0.1400746 | 0.02553194 |\n",
       "\n"
      ],
      "text/plain": [
       "                dataset_name  gender nobs shannon  simpson   pielou    PD_phy  \n",
       "A11_01_1FE      PasolliE_2018 male   233  3.576704 0.9286988 0.4375333 44.75908\n",
       "A13_01_1FE      PasolliE_2018 male   250  4.438556 0.9763921 0.5429624 53.53982\n",
       "⋮               ⋮             ⋮      ⋮    ⋮        ⋮         ⋮         ⋮       \n",
       "YSZC12003_37879 XieH_2016     female 196  3.230018 0.8847015 0.3951236 36.05868\n",
       "YSZC12003_37880 XieH_2016     female 267  3.703088 0.9290237 0.4529936 45.58852\n",
       "                PD_trt   PD_cog   PD_cogcat ⋯ FRic_trt  FEve_trt  FDiv_trt \n",
       "A11_01_1FE      38.87524 61.68524 21.51138  ⋯  727.6456 0.5985831 0.6488497\n",
       "A13_01_1FE      43.40921 71.48026 26.68735  ⋯ 1022.0174 0.5965370 0.7739526\n",
       "⋮               ⋮        ⋮        ⋮         ⋱ ⋮         ⋮         ⋮        \n",
       "YSZC12003_37879 34.46728 56.48618 20.88889  ⋯  650.2008 0.5776092 0.9153217\n",
       "YSZC12003_37880 45.64780 77.83160 27.07221  ⋯ 1250.0385 0.5858401 0.8503177\n",
       "                FDis_trt RaoQ_trt FRic_cogcat FEve_cogcat FDiv_cogcat\n",
       "A11_01_1FE      5.962851 37.64543 0.001911215 0.6511331   0.8096961  \n",
       "A13_01_1FE      6.574219 45.30567 0.002462166 0.6610449   0.7932905  \n",
       "⋮               ⋮        ⋮        ⋮           ⋮           ⋮          \n",
       "YSZC12003_37879 7.886338 63.80604 0.001636646 0.6212355   0.9129763  \n",
       "YSZC12003_37880 7.708019 61.99451 0.002654257 0.6081257   0.7892259  \n",
       "                FDis_cogcat RaoQ_cogcat\n",
       "A11_01_1FE      0.08583902  0.009809411\n",
       "A13_01_1FE      0.08931799  0.010776495\n",
       "⋮               ⋮           ⋮          \n",
       "YSZC12003_37879 0.1774742   0.03343108 \n",
       "YSZC12003_37880 0.1400746   0.02553194 "
      ]
     },
     "metadata": {},
     "output_type": "display_data"
    }
   ],
   "source": [
    "# formatting\n",
    "feats_f = feats %>%\n",
    "    select.(-age, -BMI, -westernized, -disease) %>%\n",
    "    mutate.(FDiv_cogcat = ifelse(is.na(FDiv_cogcat), 1, FDiv_cogcat)) %>%\n",
    "    filter.(!is.na(gender),\n",
    "            gender != '') %>%\n",
    "    as.data.frame\n",
    "rownames(feats_f) = feats_f$Sample\n",
    "feats_f$Sample = NULL\n",
    "feats_f"
   ]
  },
  {
   "cell_type": "code",
   "execution_count": 50,
   "metadata": {
    "ExecuteTime": {
     "end_time": "2021-10-01T07:26:38.499493Z",
     "start_time": "2021-10-01T07:26:38.450Z"
    }
   },
   "outputs": [
    {
     "data": {
      "text/plain": [
       ".\n",
       "female   male \n",
       "  1102    723 "
      ]
     },
     "metadata": {},
     "output_type": "display_data"
    },
    {
     "data": {
      "text/plain": [
       " dataset_name          gender               nobs          shannon     \n",
       " Length:1825        Length:1825        Min.   : 84.0   Min.   :1.365  \n",
       " Class :character   Class :character   1st Qu.:238.0   1st Qu.:3.694  \n",
       " Mode  :character   Mode  :character   Median :279.0   Median :4.154  \n",
       "                                       Mean   :274.5   Mean   :4.020  \n",
       "                                       3rd Qu.:315.0   3rd Qu.:4.449  \n",
       "                                       Max.   :455.0   Max.   :5.218  \n",
       "    simpson           pielou           PD_phy          PD_trt     \n",
       " Min.   :0.4596   Min.   :0.1670   Min.   :15.57   Min.   :12.24  \n",
       " 1st Qu.:0.9325   1st Qu.:0.4519   1st Qu.:44.30   1st Qu.:40.43  \n",
       " Median :0.9620   Median :0.5081   Median :53.51   Median :48.41  \n",
       " Mean   :0.9431   Mean   :0.4917   Mean   :53.42   Mean   :47.49  \n",
       " 3rd Qu.:0.9750   3rd Qu.:0.5443   3rd Qu.:62.39   3rd Qu.:55.47  \n",
       " Max.   :0.9892   Max.   :0.6384   Max.   :88.85   Max.   :82.75  \n",
       "     PD_cog         PD_cogcat         PD_pfam        PD_pfamcat    \n",
       " Min.   : 21.75   Min.   : 7.208   Min.   :12.04   Min.   : 7.495  \n",
       " 1st Qu.: 71.57   1st Qu.:25.480   1st Qu.:34.35   1st Qu.:20.913  \n",
       " Median : 86.97   Median :32.738   Median :40.90   Median :24.949  \n",
       " Mean   : 86.04   Mean   :32.858   Mean   :40.40   Mean   :24.636  \n",
       " 3rd Qu.:101.13   3rd Qu.:39.878   3rd Qu.:46.76   3rd Qu.:28.538  \n",
       " Max.   :160.00   Max.   :60.371   Max.   :73.40   Max.   :43.727  \n",
       "    MPD_phy           MPD_cog          MPD_cogcat         MPD_pfam      \n",
       " Min.   :-59.300   Min.   :-16.967   Min.   :-8.7840   Min.   :-25.221  \n",
       " 1st Qu.:-10.811   1st Qu.: -7.109   1st Qu.:-3.0808   1st Qu.:-11.357  \n",
       " Median : -8.322   Median : -3.905   Median :-1.9901   Median : -7.608  \n",
       " Mean   : -8.485   Mean   : -3.407   Mean   :-1.6441   Mean   : -7.967  \n",
       " 3rd Qu.: -5.797   3rd Qu.: -0.166   3rd Qu.:-0.3083   3rd Qu.: -4.567  \n",
       " Max.   :  8.832   Max.   : 13.096   Max.   : 9.3108   Max.   :  8.213  \n",
       "  MPD_pfamcat         MPD_trt           MNTD_phy          MNTD_cog      \n",
       " Min.   :-34.195   Min.   :-29.880   Min.   :-24.721   Min.   :-11.311  \n",
       " 1st Qu.: -9.712   1st Qu.: -5.876   1st Qu.: -3.960   1st Qu.: -6.710  \n",
       " Median : -7.234   Median : -4.153   Median : -1.584   Median : -5.246  \n",
       " Mean   : -7.238   Mean   : -3.936   Mean   : -2.012   Mean   : -4.713  \n",
       " 3rd Qu.: -4.529   3rd Qu.: -1.897   3rd Qu.:  0.506   3rd Qu.: -3.233  \n",
       " Max.   :  6.959   Max.   :  8.789   Max.   : 10.976   Max.   :  7.317  \n",
       "  MNTD_cogcat         MNTD_pfam       MNTD_pfamcat       MNTD_trt      \n",
       " Min.   :-10.0004   Min.   :-7.973   Min.   :-7.392   Min.   :-10.740  \n",
       " 1st Qu.: -4.1137   1st Qu.:-4.879   1st Qu.:-4.733   1st Qu.: -4.686  \n",
       " Median : -2.6074   Median :-4.049   Median :-3.975   Median : -3.622  \n",
       " Mean   : -2.4628   Mean   :-3.938   Mean   :-3.877   Mean   : -3.648  \n",
       " 3rd Qu.: -0.9578   3rd Qu.:-3.220   3rd Qu.:-3.160   3rd Qu.: -2.513  \n",
       " Max.   :  7.8808   Max.   :12.816   Max.   :11.366   Max.   :  9.194  \n",
       "    FRic_trt          FEve_trt         FDiv_trt         FDis_trt    \n",
       " Min.   :  63.58   Min.   :0.4900   Min.   :0.4276   Min.   :2.931  \n",
       " 1st Qu.: 269.65   1st Qu.:0.5570   1st Qu.:0.6854   1st Qu.:5.725  \n",
       " Median : 487.80   Median :0.5776   Median :0.7488   Median :5.950  \n",
       " Mean   : 589.52   Mean   :0.5787   Mean   :0.7432   Mean   :6.002  \n",
       " 3rd Qu.: 811.74   3rd Qu.:0.5984   3rd Qu.:0.8016   3rd Qu.:6.223  \n",
       " Max.   :3006.72   Max.   :0.7749   Max.   :0.9517   Max.   :8.920  \n",
       "    RaoQ_trt      FRic_cogcat         FEve_cogcat      FDiv_cogcat    \n",
       " Min.   :13.34   Min.   :0.0001303   Min.   :0.4841   Min.   :0.3468  \n",
       " 1st Qu.:34.46   1st Qu.:0.0009090   1st Qu.:0.5815   1st Qu.:0.6607  \n",
       " Median :36.97   Median :0.0014932   Median :0.6050   Median :0.7065  \n",
       " Mean   :38.66   Mean   :0.0014861   Mean   :0.6046   Mean   :0.7076  \n",
       " 3rd Qu.:40.45   3rd Qu.:0.0020144   3rd Qu.:0.6271   3rd Qu.:0.7532  \n",
       " Max.   :81.22   Max.   :0.0041345   Max.   :0.8033   Max.   :1.0000  \n",
       "  FDis_cogcat       RaoQ_cogcat      \n",
       " Min.   :0.03281   Min.   :0.001775  \n",
       " 1st Qu.:0.07001   1st Qu.:0.005879  \n",
       " Median :0.07593   Median :0.006963  \n",
       " Mean   :0.08028   Mean   :0.008590  \n",
       " 3rd Qu.:0.08313   3rd Qu.:0.008597  \n",
       " Max.   :0.20228   Max.   :0.041588  "
      ]
     },
     "metadata": {},
     "output_type": "display_data"
    }
   ],
   "source": [
    "# summary\n",
    "## target\n",
    "feats_f[,target] %>% table\n",
    "## all features\n",
    "feats_f %>% summary"
   ]
  },
  {
   "cell_type": "markdown",
   "metadata": {},
   "source": [
    "## RF"
   ]
  },
  {
   "cell_type": "code",
   "execution_count": 51,
   "metadata": {
    "ExecuteTime": {
     "end_time": "2021-10-01T07:26:40.969906Z",
     "start_time": "2021-10-01T07:26:40.932Z"
    }
   },
   "outputs": [
    {
     "data": {
      "text/plain": [
       "Supervised task: feats_f %>% select(-dataset_name)\n",
       "Type: classif\n",
       "Target: gender\n",
       "Observations: 1825\n",
       "Features:\n",
       "   numerics     factors     ordered functionals \n",
       "         32           0           0           0 \n",
       "Missings: FALSE\n",
       "Has weights: FALSE\n",
       "Has blocking: TRUE\n",
       "Has coordinates: FALSE\n",
       "Classes: 2\n",
       "female   male \n",
       "  1102    723 \n",
       "Positive class: female"
      ]
     },
     "metadata": {},
     "output_type": "display_data"
    }
   ],
   "source": [
    "# creating mlr task\n",
    "tsk = makeClassifTask(data = feats_f %>% select(-dataset_name), \n",
    "                      target = target, \n",
    "                      blocking = feats_f$dataset_name %>% as.factor)\n",
    "tsk"
   ]
  },
  {
   "cell_type": "code",
   "execution_count": 52,
   "metadata": {
    "ExecuteTime": {
     "end_time": "2021-10-01T07:26:41.949710Z",
     "start_time": "2021-10-01T07:26:41.916Z"
    }
   },
   "outputs": [
    {
     "data": {
      "text/plain": [
       "Supervised task: feats_f %>% select(-dataset_name)\n",
       "Type: classif\n",
       "Target: gender\n",
       "Observations: 1458\n",
       "Features:\n",
       "   numerics     factors     ordered functionals \n",
       "         32           0           0           0 \n",
       "Missings: FALSE\n",
       "Has weights: FALSE\n",
       "Has blocking: TRUE\n",
       "Has coordinates: FALSE\n",
       "Classes: 2\n",
       "female   male \n",
       "   735    723 \n",
       "Positive class: female"
      ]
     },
     "metadata": {},
     "output_type": "display_data"
    }
   ],
   "source": [
    "# what sampling rate to use?\n",
    "rate = 1/1.5\n",
    "undersample(tsk, rate = rate)"
   ]
  },
  {
   "cell_type": "code",
   "execution_count": 53,
   "metadata": {
    "ExecuteTime": {
     "end_time": "2021-10-01T07:26:44.791277Z",
     "start_time": "2021-10-01T07:26:44.643Z"
    }
   },
   "outputs": [
    {
     "data": {
      "text/plain": [
       "Learner classif.cforest from package party\n",
       "Type: classif\n",
       "Name: Random forest based on conditional inference trees; Short name: cforest\n",
       "Class: classif.cforest\n",
       "Properties: twoclass,multiclass,prob,factors,numerics,ordered,weights,missings,featimp\n",
       "Predict-Type: prob\n",
       "Hyperparameters: ntree=500,maxdepth=4\n"
      ]
     },
     "metadata": {},
     "output_type": "display_data"
    }
   ],
   "source": [
    "## feature selection (wrapping the RF learner)\n",
    "lrn = makeLearner('classif.cforest', predict.type = 'prob', \n",
    "                  ntree = 500, maxdepth = 4)\n",
    "lrn"
   ]
  },
  {
   "cell_type": "code",
   "execution_count": 54,
   "metadata": {
    "ExecuteTime": {
     "end_time": "2021-10-01T07:26:44.886188Z",
     "start_time": "2021-10-01T07:26:44.853Z"
    }
   },
   "outputs": [
    {
     "data": {
      "text/plain": [
       "Learner classif.cforest.undersampled from package mlr,party\n",
       "Type: classif\n",
       "Name: ; Short name: \n",
       "Class: UndersampleWrapper\n",
       "Properties: numerics,factors,ordered,missings,weights,prob,twoclass,multiclass,featimp\n",
       "Predict-Type: prob\n",
       "Hyperparameters: ntree=500,maxdepth=4,usw.rate=0.667\n"
      ]
     },
     "metadata": {},
     "output_type": "display_data"
    }
   ],
   "source": [
    "# sampling\n",
    "lrn = makeUndersampleWrapper(lrn, usw.rate = rate)\n",
    "lrn"
   ]
  },
  {
   "cell_type": "code",
   "execution_count": 55,
   "metadata": {
    "ExecuteTime": {
     "end_time": "2021-10-01T07:26:57.804733Z",
     "start_time": "2021-10-01T07:26:45.013Z"
    }
   },
   "outputs": [
    {
     "name": "stderr",
     "output_type": "stream",
     "text": [
      "Starting parallelization in mode=multicore with cpus=8.\n",
      "\n",
      "Resampling: cross-validation\n",
      "\n",
      "Measures:             auc       acc       mcc       f1        \n",
      "\n",
      "Mapping in parallel: mode = multicore; level = mlr.resample; cpus = 8; elements = 5.\n",
      "\n",
      "\n",
      "\n",
      "\n",
      "Aggregated Result: auc.test.mean=0.6707949,acc.test.mean=0.6208219,mcc.test.mean=0.2246790,f1.test.mean=0.6744712\n",
      "\n",
      "\n",
      "\n",
      "\n",
      "Stopped parallelization. All cleaned up.\n",
      "\n"
     ]
    }
   ],
   "source": [
    "## evaluation \n",
    "parallelStartMulticore(cpus=threads, level = 'mlr.resample')\n",
    "rs = makeResampleDesc('CV', iters = cv_iters)\n",
    "res = resample(lrn, tsk, \n",
    "               resampling = rs,  \n",
    "               models = TRUE,\n",
    "               measures = measures)\n",
    "parallelStop()"
   ]
  },
  {
   "cell_type": "markdown",
   "metadata": {},
   "source": [
    "### Performance"
   ]
  },
  {
   "cell_type": "code",
   "execution_count": 56,
   "metadata": {
    "ExecuteTime": {
     "end_time": "2021-10-01T07:26:57.837846Z",
     "start_time": "2021-10-01T07:26:47.091Z"
    }
   },
   "outputs": [
    {
     "data": {
      "text/html": [
       "<table class=\"dataframe\">\n",
       "<caption>A data.frame: 5 × 5</caption>\n",
       "<thead>\n",
       "\t<tr><th scope=col>iter</th><th scope=col>auc</th><th scope=col>acc</th><th scope=col>mcc</th><th scope=col>f1</th></tr>\n",
       "\t<tr><th scope=col>&lt;int&gt;</th><th scope=col>&lt;dbl&gt;</th><th scope=col>&lt;dbl&gt;</th><th scope=col>&lt;dbl&gt;</th><th scope=col>&lt;dbl&gt;</th></tr>\n",
       "</thead>\n",
       "<tbody>\n",
       "\t<tr><td>1</td><td>0.6394004</td><td>0.6027397</td><td>0.1875745</td><td>0.6635731</td></tr>\n",
       "\t<tr><td>2</td><td>0.6465347</td><td>0.6054795</td><td>0.1868785</td><td>0.6635514</td></tr>\n",
       "\t<tr><td>3</td><td>0.6611682</td><td>0.6109589</td><td>0.2082326</td><td>0.6570048</td></tr>\n",
       "\t<tr><td>4</td><td>0.7184695</td><td>0.6410959</td><td>0.2898952</td><td>0.6797066</td></tr>\n",
       "\t<tr><td>5</td><td>0.6884017</td><td>0.6438356</td><td>0.2508140</td><td>0.7085202</td></tr>\n",
       "</tbody>\n",
       "</table>\n"
      ],
      "text/latex": [
       "A data.frame: 5 × 5\n",
       "\\begin{tabular}{lllll}\n",
       " iter & auc & acc & mcc & f1\\\\\n",
       " <int> & <dbl> & <dbl> & <dbl> & <dbl>\\\\\n",
       "\\hline\n",
       "\t 1 & 0.6394004 & 0.6027397 & 0.1875745 & 0.6635731\\\\\n",
       "\t 2 & 0.6465347 & 0.6054795 & 0.1868785 & 0.6635514\\\\\n",
       "\t 3 & 0.6611682 & 0.6109589 & 0.2082326 & 0.6570048\\\\\n",
       "\t 4 & 0.7184695 & 0.6410959 & 0.2898952 & 0.6797066\\\\\n",
       "\t 5 & 0.6884017 & 0.6438356 & 0.2508140 & 0.7085202\\\\\n",
       "\\end{tabular}\n"
      ],
      "text/markdown": [
       "\n",
       "A data.frame: 5 × 5\n",
       "\n",
       "| iter &lt;int&gt; | auc &lt;dbl&gt; | acc &lt;dbl&gt; | mcc &lt;dbl&gt; | f1 &lt;dbl&gt; |\n",
       "|---|---|---|---|---|\n",
       "| 1 | 0.6394004 | 0.6027397 | 0.1875745 | 0.6635731 |\n",
       "| 2 | 0.6465347 | 0.6054795 | 0.1868785 | 0.6635514 |\n",
       "| 3 | 0.6611682 | 0.6109589 | 0.2082326 | 0.6570048 |\n",
       "| 4 | 0.7184695 | 0.6410959 | 0.2898952 | 0.6797066 |\n",
       "| 5 | 0.6884017 | 0.6438356 | 0.2508140 | 0.7085202 |\n",
       "\n"
      ],
      "text/plain": [
       "  iter auc       acc       mcc       f1       \n",
       "1 1    0.6394004 0.6027397 0.1875745 0.6635731\n",
       "2 2    0.6465347 0.6054795 0.1868785 0.6635514\n",
       "3 3    0.6611682 0.6109589 0.2082326 0.6570048\n",
       "4 4    0.7184695 0.6410959 0.2898952 0.6797066\n",
       "5 5    0.6884017 0.6438356 0.2508140 0.7085202"
      ]
     },
     "metadata": {},
     "output_type": "display_data"
    }
   ],
   "source": [
    "df.dims(30)\n",
    "perf_res[['gender_RF']] = res$measures.test\n",
    "res$measures.test\n",
    "df.dims()"
   ]
  },
  {
   "cell_type": "code",
   "execution_count": 57,
   "metadata": {
    "ExecuteTime": {
     "end_time": "2021-10-01T07:26:58.068701Z",
     "start_time": "2021-10-01T07:26:47.771Z"
    }
   },
   "outputs": [
    {
     "name": "stdout",
     "output_type": "stream",
     "text": [
      "--AUC--\n",
      "   Min. 1st Qu.  Median    Mean 3rd Qu.    Max. \n",
      " 0.6394  0.6465  0.6612  0.6708  0.6884  0.7185 \n",
      "--F1--\n",
      "   Min. 1st Qu.  Median    Mean 3rd Qu.    Max. \n",
      " 0.6570  0.6636  0.6636  0.6745  0.6797  0.7085 \n",
      "--plot--\n"
     ]
    },
    {
     "data": {
      "image/png": "[encoded data removed]",
      "text/plain": [
       "plot without title"
      ]
     },
     "metadata": {
      "image/png": {
       "height": 250,
       "width": 400
      }
     },
     "output_type": "display_data"
    }
   ],
   "source": [
    "# performance\n",
    "cls_perf(res)"
   ]
  },
  {
   "cell_type": "code",
   "execution_count": 58,
   "metadata": {
    "ExecuteTime": {
     "end_time": "2021-10-01T07:27:09.336105Z",
     "start_time": "2021-10-01T07:26:47.979Z"
    }
   },
   "outputs": [
    {
     "data": {
      "text/html": [
       "<table class=\"dataframe\">\n",
       "<caption>A data.table: 160 × 3</caption>\n",
       "<thead>\n",
       "\t<tr><th scope=col>cv_rep</th><th scope=col>variable</th><th scope=col>importance</th></tr>\n",
       "\t<tr><th scope=col>&lt;int&gt;</th><th scope=col>&lt;chr&gt;</th><th scope=col>&lt;dbl&gt;</th></tr>\n",
       "</thead>\n",
       "<tbody>\n",
       "\t<tr><td>1</td><td>nobs   </td><td>0.002609302</td></tr>\n",
       "\t<tr><td>1</td><td>shannon</td><td>0.000827907</td></tr>\n",
       "\t<tr><td>⋮</td><td>⋮</td><td>⋮</td></tr>\n",
       "\t<tr><td>5</td><td>FDis_cogcat</td><td>0.0012494172</td></tr>\n",
       "\t<tr><td>5</td><td>RaoQ_cogcat</td><td>0.0004335664</td></tr>\n",
       "</tbody>\n",
       "</table>\n"
      ],
      "text/latex": [
       "A data.table: 160 × 3\n",
       "\\begin{tabular}{lll}\n",
       " cv\\_rep & variable & importance\\\\\n",
       " <int> & <chr> & <dbl>\\\\\n",
       "\\hline\n",
       "\t 1 & nobs    & 0.002609302\\\\\n",
       "\t 1 & shannon & 0.000827907\\\\\n",
       "\t ⋮ & ⋮ & ⋮\\\\\n",
       "\t 5 & FDis\\_cogcat & 0.0012494172\\\\\n",
       "\t 5 & RaoQ\\_cogcat & 0.0004335664\\\\\n",
       "\\end{tabular}\n"
      ],
      "text/markdown": [
       "\n",
       "A data.table: 160 × 3\n",
       "\n",
       "| cv_rep &lt;int&gt; | variable &lt;chr&gt; | importance &lt;dbl&gt; |\n",
       "|---|---|---|\n",
       "| 1 | nobs    | 0.002609302 |\n",
       "| 1 | shannon | 0.000827907 |\n",
       "| ⋮ | ⋮ | ⋮ |\n",
       "| 5 | FDis_cogcat | 0.0012494172 |\n",
       "| 5 | RaoQ_cogcat | 0.0004335664 |\n",
       "\n"
      ],
      "text/plain": [
       "    cv_rep variable    importance  \n",
       "1   1      nobs        0.002609302 \n",
       "2   1      shannon     0.000827907 \n",
       "⋮   ⋮      ⋮           ⋮           \n",
       "159 5      FDis_cogcat 0.0012494172\n",
       "160 5      RaoQ_cogcat 0.0004335664"
      ]
     },
     "metadata": {},
     "output_type": "display_data"
    }
   ],
   "source": [
    "# getting feat imp\n",
    "feat_imp = get_feat_imp(res)\n",
    "feat_imp"
   ]
  },
  {
   "cell_type": "code",
   "execution_count": 59,
   "metadata": {
    "ExecuteTime": {
     "end_time": "2021-10-01T07:27:10.384784Z",
     "start_time": "2021-10-01T07:26:49.435Z"
    }
   },
   "outputs": [
    {
     "name": "stdout",
     "output_type": "stream",
     "text": [
      "File written: /ebio/abt3_projects2/global_metagenome_diversity/ipynb/03_ML/.figures/44b92654afaf2eb29bc6063ea6bb6ad0.RDS \n"
     ]
    },
    {
     "data": {
      "image/png": "[encoded data removed]",
      "text/plain": [
       "plot without title"
      ]
     },
     "metadata": {
      "image/png": {
       "height": 500,
       "width": 400
      }
     },
     "output_type": "display_data"
    }
   ],
   "source": [
    "# plotting the most important features\n",
    "p = plot_feat_imp(feat_imp, y_offset=-0.002)\n",
    "p.dims(4,5)\n",
    "Plot(p)"
   ]
  },
  {
   "cell_type": "markdown",
   "metadata": {},
   "source": [
    "# Disease"
   ]
  },
  {
   "cell_type": "code",
   "execution_count": 63,
   "metadata": {
    "ExecuteTime": {
     "end_time": "2021-10-01T07:27:19.945044Z",
     "start_time": "2021-10-01T07:27:19.908Z"
    }
   },
   "outputs": [],
   "source": [
    "target = 'disease'\n",
    "measures = list(auc, acc, mcc, f1)\n",
    "cv_iters = 5"
   ]
  },
  {
   "cell_type": "code",
   "execution_count": 64,
   "metadata": {
    "ExecuteTime": {
     "end_time": "2021-10-01T07:27:20.167121Z",
     "start_time": "2021-10-01T07:27:20.074Z"
    }
   },
   "outputs": [
    {
     "data": {
      "text/html": [
       "<table class=\"dataframe\">\n",
       "<caption>A data.frame: 2943 × 34</caption>\n",
       "<thead>\n",
       "\t<tr><th></th><th scope=col>dataset_name</th><th scope=col>disease</th><th scope=col>nobs</th><th scope=col>shannon</th><th scope=col>simpson</th><th scope=col>pielou</th><th scope=col>PD_phy</th><th scope=col>PD_trt</th><th scope=col>PD_cog</th><th scope=col>PD_cogcat</th><th scope=col>⋯</th><th scope=col>FRic_trt</th><th scope=col>FEve_trt</th><th scope=col>FDiv_trt</th><th scope=col>FDis_trt</th><th scope=col>RaoQ_trt</th><th scope=col>FRic_cogcat</th><th scope=col>FEve_cogcat</th><th scope=col>FDiv_cogcat</th><th scope=col>FDis_cogcat</th><th scope=col>RaoQ_cogcat</th></tr>\n",
       "\t<tr><th></th><th scope=col>&lt;chr&gt;</th><th scope=col>&lt;chr&gt;</th><th scope=col>&lt;int&gt;</th><th scope=col>&lt;dbl&gt;</th><th scope=col>&lt;dbl&gt;</th><th scope=col>&lt;dbl&gt;</th><th scope=col>&lt;dbl&gt;</th><th scope=col>&lt;dbl&gt;</th><th scope=col>&lt;dbl&gt;</th><th scope=col>&lt;dbl&gt;</th><th scope=col>⋯</th><th scope=col>&lt;dbl&gt;</th><th scope=col>&lt;dbl&gt;</th><th scope=col>&lt;dbl&gt;</th><th scope=col>&lt;dbl&gt;</th><th scope=col>&lt;dbl&gt;</th><th scope=col>&lt;dbl&gt;</th><th scope=col>&lt;dbl&gt;</th><th scope=col>&lt;dbl&gt;</th><th scope=col>&lt;dbl&gt;</th><th scope=col>&lt;dbl&gt;</th></tr>\n",
       "</thead>\n",
       "<tbody>\n",
       "\t<tr><th scope=row>A01_02_1FE</th><td>PasolliE_2018</td><td>healthy</td><td>232</td><td>3.888802</td><td>0.9507426</td><td>0.4757117</td><td>55.94272</td><td>43.94092</td><td>73.48643</td><td>28.29848</td><td>⋯</td><td>1281.648</td><td>0.6305736</td><td>0.7250427</td><td>6.970392</td><td>52.69103</td><td>0.001963384</td><td>0.6300577</td><td>0.8344220</td><td>0.1390624</td><td>0.02458852</td></tr>\n",
       "\t<tr><th scope=row>A02_01_1FE</th><td>PasolliE_2018</td><td>healthy</td><td>176</td><td>3.418777</td><td>0.8891672</td><td>0.4182143</td><td>40.24502</td><td>31.18437</td><td>50.07578</td><td>20.65005</td><td>⋯</td><td> 860.518</td><td>0.5762672</td><td>0.8080909</td><td>6.338391</td><td>45.45341</td><td>0.001858941</td><td>0.6244829</td><td>0.8111916</td><td>0.1164369</td><td>0.01988324</td></tr>\n",
       "\t<tr><th scope=row>⋮</th><td>⋮</td><td>⋮</td><td>⋮</td><td>⋮</td><td>⋮</td><td>⋮</td><td>⋮</td><td>⋮</td><td>⋮</td><td>⋮</td><td>⋱</td><td>⋮</td><td>⋮</td><td>⋮</td><td>⋮</td><td>⋮</td><td>⋮</td><td>⋮</td><td>⋮</td><td>⋮</td><td>⋮</td></tr>\n",
       "\t<tr><th scope=row>nHMX11726</th><td>LiJ_2017     </td><td>healthy</td><td>272</td><td>3.612832</td><td>0.8932187</td><td>0.4419526</td><td>53.11264</td><td>46.47031</td><td>88.09736</td><td>34.25477</td><td>⋯</td><td>581.4522</td><td>0.5773349</td><td>0.8226567</td><td>5.954451</td><td>37.63154</td><td>0.0012117563</td><td>0.6201434</td><td>0.6032538</td><td>0.06340579</td><td>0.005202252</td></tr>\n",
       "\t<tr><th scope=row>scavenger.11.60.0</th><td>CosteaPI_2017</td><td>healthy</td><td>210</td><td>3.891553</td><td>0.9557596</td><td>0.4760482</td><td>37.27697</td><td>35.63946</td><td>64.59389</td><td>22.62152</td><td>⋯</td><td>158.4517</td><td>0.5402863</td><td>0.5368664</td><td>5.515205</td><td>31.73553</td><td>0.0009740577</td><td>0.5382320</td><td>0.6360507</td><td>0.07027430</td><td>0.005815837</td></tr>\n",
       "</tbody>\n",
       "</table>\n"
      ],
      "text/latex": [
       "A data.frame: 2943 × 34\n",
       "\\begin{tabular}{r|lllllllllllllllllllll}\n",
       "  & dataset\\_name & disease & nobs & shannon & simpson & pielou & PD\\_phy & PD\\_trt & PD\\_cog & PD\\_cogcat & ⋯ & FRic\\_trt & FEve\\_trt & FDiv\\_trt & FDis\\_trt & RaoQ\\_trt & FRic\\_cogcat & FEve\\_cogcat & FDiv\\_cogcat & FDis\\_cogcat & RaoQ\\_cogcat\\\\\n",
       "  & <chr> & <chr> & <int> & <dbl> & <dbl> & <dbl> & <dbl> & <dbl> & <dbl> & <dbl> & ⋯ & <dbl> & <dbl> & <dbl> & <dbl> & <dbl> & <dbl> & <dbl> & <dbl> & <dbl> & <dbl>\\\\\n",
       "\\hline\n",
       "\tA01\\_02\\_1FE & PasolliE\\_2018 & healthy & 232 & 3.888802 & 0.9507426 & 0.4757117 & 55.94272 & 43.94092 & 73.48643 & 28.29848 & ⋯ & 1281.648 & 0.6305736 & 0.7250427 & 6.970392 & 52.69103 & 0.001963384 & 0.6300577 & 0.8344220 & 0.1390624 & 0.02458852\\\\\n",
       "\tA02\\_01\\_1FE & PasolliE\\_2018 & healthy & 176 & 3.418777 & 0.8891672 & 0.4182143 & 40.24502 & 31.18437 & 50.07578 & 20.65005 & ⋯ &  860.518 & 0.5762672 & 0.8080909 & 6.338391 & 45.45341 & 0.001858941 & 0.6244829 & 0.8111916 & 0.1164369 & 0.01988324\\\\\n",
       "\t⋮ & ⋮ & ⋮ & ⋮ & ⋮ & ⋮ & ⋮ & ⋮ & ⋮ & ⋮ & ⋮ & ⋱ & ⋮ & ⋮ & ⋮ & ⋮ & ⋮ & ⋮ & ⋮ & ⋮ & ⋮ & ⋮\\\\\n",
       "\tnHMX11726 & LiJ\\_2017      & healthy & 272 & 3.612832 & 0.8932187 & 0.4419526 & 53.11264 & 46.47031 & 88.09736 & 34.25477 & ⋯ & 581.4522 & 0.5773349 & 0.8226567 & 5.954451 & 37.63154 & 0.0012117563 & 0.6201434 & 0.6032538 & 0.06340579 & 0.005202252\\\\\n",
       "\tscavenger.11.60.0 & CosteaPI\\_2017 & healthy & 210 & 3.891553 & 0.9557596 & 0.4760482 & 37.27697 & 35.63946 & 64.59389 & 22.62152 & ⋯ & 158.4517 & 0.5402863 & 0.5368664 & 5.515205 & 31.73553 & 0.0009740577 & 0.5382320 & 0.6360507 & 0.07027430 & 0.005815837\\\\\n",
       "\\end{tabular}\n"
      ],
      "text/markdown": [
       "\n",
       "A data.frame: 2943 × 34\n",
       "\n",
       "| <!--/--> | dataset_name &lt;chr&gt; | disease &lt;chr&gt; | nobs &lt;int&gt; | shannon &lt;dbl&gt; | simpson &lt;dbl&gt; | pielou &lt;dbl&gt; | PD_phy &lt;dbl&gt; | PD_trt &lt;dbl&gt; | PD_cog &lt;dbl&gt; | PD_cogcat &lt;dbl&gt; | ⋯ ⋯ | FRic_trt &lt;dbl&gt; | FEve_trt &lt;dbl&gt; | FDiv_trt &lt;dbl&gt; | FDis_trt &lt;dbl&gt; | RaoQ_trt &lt;dbl&gt; | FRic_cogcat &lt;dbl&gt; | FEve_cogcat &lt;dbl&gt; | FDiv_cogcat &lt;dbl&gt; | FDis_cogcat &lt;dbl&gt; | RaoQ_cogcat &lt;dbl&gt; |\n",
       "|---|---|---|---|---|---|---|---|---|---|---|---|---|---|---|---|---|---|---|---|---|---|\n",
       "| A01_02_1FE | PasolliE_2018 | healthy | 232 | 3.888802 | 0.9507426 | 0.4757117 | 55.94272 | 43.94092 | 73.48643 | 28.29848 | ⋯ | 1281.648 | 0.6305736 | 0.7250427 | 6.970392 | 52.69103 | 0.001963384 | 0.6300577 | 0.8344220 | 0.1390624 | 0.02458852 |\n",
       "| A02_01_1FE | PasolliE_2018 | healthy | 176 | 3.418777 | 0.8891672 | 0.4182143 | 40.24502 | 31.18437 | 50.07578 | 20.65005 | ⋯ |  860.518 | 0.5762672 | 0.8080909 | 6.338391 | 45.45341 | 0.001858941 | 0.6244829 | 0.8111916 | 0.1164369 | 0.01988324 |\n",
       "| ⋮ | ⋮ | ⋮ | ⋮ | ⋮ | ⋮ | ⋮ | ⋮ | ⋮ | ⋮ | ⋮ | ⋱ | ⋮ | ⋮ | ⋮ | ⋮ | ⋮ | ⋮ | ⋮ | ⋮ | ⋮ | ⋮ |\n",
       "| nHMX11726 | LiJ_2017      | healthy | 272 | 3.612832 | 0.8932187 | 0.4419526 | 53.11264 | 46.47031 | 88.09736 | 34.25477 | ⋯ | 581.4522 | 0.5773349 | 0.8226567 | 5.954451 | 37.63154 | 0.0012117563 | 0.6201434 | 0.6032538 | 0.06340579 | 0.005202252 |\n",
       "| scavenger.11.60.0 | CosteaPI_2017 | healthy | 210 | 3.891553 | 0.9557596 | 0.4760482 | 37.27697 | 35.63946 | 64.59389 | 22.62152 | ⋯ | 158.4517 | 0.5402863 | 0.5368664 | 5.515205 | 31.73553 | 0.0009740577 | 0.5382320 | 0.6360507 | 0.07027430 | 0.005815837 |\n",
       "\n"
      ],
      "text/plain": [
       "                  dataset_name  disease nobs shannon  simpson   pielou   \n",
       "A01_02_1FE        PasolliE_2018 healthy 232  3.888802 0.9507426 0.4757117\n",
       "A02_01_1FE        PasolliE_2018 healthy 176  3.418777 0.8891672 0.4182143\n",
       "⋮                 ⋮             ⋮       ⋮    ⋮        ⋮         ⋮        \n",
       "nHMX11726         LiJ_2017      healthy 272  3.612832 0.8932187 0.4419526\n",
       "scavenger.11.60.0 CosteaPI_2017 healthy 210  3.891553 0.9557596 0.4760482\n",
       "                  PD_phy   PD_trt   PD_cog   PD_cogcat ⋯ FRic_trt FEve_trt \n",
       "A01_02_1FE        55.94272 43.94092 73.48643 28.29848  ⋯ 1281.648 0.6305736\n",
       "A02_01_1FE        40.24502 31.18437 50.07578 20.65005  ⋯  860.518 0.5762672\n",
       "⋮                 ⋮        ⋮        ⋮        ⋮         ⋱ ⋮        ⋮        \n",
       "nHMX11726         53.11264 46.47031 88.09736 34.25477  ⋯ 581.4522 0.5773349\n",
       "scavenger.11.60.0 37.27697 35.63946 64.59389 22.62152  ⋯ 158.4517 0.5402863\n",
       "                  FDiv_trt  FDis_trt RaoQ_trt FRic_cogcat  FEve_cogcat\n",
       "A01_02_1FE        0.7250427 6.970392 52.69103 0.001963384  0.6300577  \n",
       "A02_01_1FE        0.8080909 6.338391 45.45341 0.001858941  0.6244829  \n",
       "⋮                 ⋮         ⋮        ⋮        ⋮            ⋮          \n",
       "nHMX11726         0.8226567 5.954451 37.63154 0.0012117563 0.6201434  \n",
       "scavenger.11.60.0 0.5368664 5.515205 31.73553 0.0009740577 0.5382320  \n",
       "                  FDiv_cogcat FDis_cogcat RaoQ_cogcat\n",
       "A01_02_1FE        0.8344220   0.1390624   0.02458852 \n",
       "A02_01_1FE        0.8111916   0.1164369   0.01988324 \n",
       "⋮                 ⋮           ⋮           ⋮          \n",
       "nHMX11726         0.6032538   0.06340579  0.005202252\n",
       "scavenger.11.60.0 0.6360507   0.07027430  0.005815837"
      ]
     },
     "metadata": {},
     "output_type": "display_data"
    }
   ],
   "source": [
    "# formatting\n",
    "feats_f = feats %>%\n",
    "    select.(-age, -BMI, -westernized, -gender) %>%\n",
    "    mutate.(FDiv_cogcat = ifelse(is.na(FDiv_cogcat), 1, FDiv_cogcat)) %>%\n",
    "    filter.(!is.na(disease),\n",
    "            disease != '') %>%\n",
    "    as.data.frame\n",
    "rownames(feats_f) = feats_f$Sample\n",
    "feats_f$Sample = NULL\n",
    "feats_f"
   ]
  },
  {
   "cell_type": "code",
   "execution_count": 65,
   "metadata": {
    "ExecuteTime": {
     "end_time": "2021-10-01T07:27:20.254508Z",
     "start_time": "2021-10-01T07:27:20.188Z"
    }
   },
   "outputs": [
    {
     "data": {
      "text/plain": [
       ".\n",
       "diseased  healthy \n",
       "    1170     1773 "
      ]
     },
     "metadata": {},
     "output_type": "display_data"
    },
    {
     "data": {
      "text/plain": [
       " dataset_name         disease               nobs          shannon      \n",
       " Length:2943        Length:2943        Min.   : 23.0   Min.   :0.7248  \n",
       " Class :character   Class :character   1st Qu.:236.0   1st Qu.:3.6358  \n",
       " Mode  :character   Mode  :character   Median :279.0   Median :4.1292  \n",
       "                                       Mean   :273.5   Mean   :3.9862  \n",
       "                                       3rd Qu.:316.0   3rd Qu.:4.4516  \n",
       "                                       Max.   :469.0   Max.   :5.2184  \n",
       "    simpson           pielou            PD_phy           PD_trt      \n",
       " Min.   :0.2267   Min.   :0.08866   Min.   : 8.175   Min.   : 5.864  \n",
       " 1st Qu.:0.9282   1st Qu.:0.44477   1st Qu.:43.611   1st Qu.:39.880  \n",
       " Median :0.9601   Median :0.50512   Median :53.385   Median :48.185  \n",
       " Mean   :0.9383   Mean   :0.48763   Mean   :53.177   Mean   :47.116  \n",
       " 3rd Qu.:0.9749   3rd Qu.:0.54456   3rd Qu.:62.574   3rd Qu.:55.473  \n",
       " Max.   :0.9897   Max.   :0.63836   Max.   :93.614   Max.   :83.860  \n",
       "     PD_cog          PD_cogcat         PD_pfam         PD_pfamcat    \n",
       " Min.   :  8.994   Min.   : 4.221   Min.   : 5.431   Min.   : 3.695  \n",
       " 1st Qu.: 70.835   1st Qu.:25.287   1st Qu.:34.170   1st Qu.:20.767  \n",
       " Median : 86.666   Median :32.493   Median :40.813   Median :24.889  \n",
       " Mean   : 85.618   Mean   :32.711   Mean   :40.223   Mean   :24.523  \n",
       " 3rd Qu.:101.394   3rd Qu.:39.863   3rd Qu.:46.917   3rd Qu.:28.560  \n",
       " Max.   :160.003   Max.   :63.604   Max.   :73.396   Max.   :44.456  \n",
       "    MPD_phy           MPD_cog           MPD_cogcat         MPD_pfam      \n",
       " Min.   :-61.276   Min.   :-20.4629   Min.   :-9.9630   Min.   :-27.968  \n",
       " 1st Qu.:-10.847   1st Qu.: -6.9707   1st Qu.:-3.0992   1st Qu.:-10.379  \n",
       " Median : -8.324   Median : -3.9603   Median :-2.0338   Median : -6.931  \n",
       " Mean   : -8.723   Mean   : -3.4080   Mean   :-1.7313   Mean   : -7.389  \n",
       " 3rd Qu.: -5.882   3rd Qu.: -0.2731   3rd Qu.:-0.5458   3rd Qu.: -4.212  \n",
       " Max.   :  8.832   Max.   : 13.0961   Max.   :13.1734   Max.   : 13.284  \n",
       "  MPD_pfamcat         MPD_trt           MNTD_phy           MNTD_cog      \n",
       " Min.   :-34.912   Min.   :-31.858   Min.   :-25.7983   Min.   :-13.199  \n",
       " 1st Qu.: -9.333   1st Qu.: -6.169   1st Qu.: -4.8183   1st Qu.: -6.658  \n",
       " Median : -6.887   Median : -4.298   Median : -2.1757   Median : -5.247  \n",
       " Mean   : -6.995   Mean   : -4.223   Mean   : -2.7138   Mean   : -4.722  \n",
       " 3rd Qu.: -4.391   3rd Qu.: -1.992   3rd Qu.:  0.1257   3rd Qu.: -3.278  \n",
       " Max.   :  7.742   Max.   :  8.789   Max.   : 10.9757   Max.   :  7.317  \n",
       "  MNTD_cogcat        MNTD_pfam       MNTD_pfamcat       MNTD_trt      \n",
       " Min.   :-13.696   Min.   :-7.973   Min.   :-8.751   Min.   :-13.943  \n",
       " 1st Qu.: -4.230   1st Qu.:-4.830   1st Qu.:-4.798   1st Qu.: -4.797  \n",
       " Median : -2.714   Median :-4.034   Median :-3.998   Median : -3.710  \n",
       " Mean   : -2.576   Mean   :-3.881   Mean   :-3.879   Mean   : -3.731  \n",
       " 3rd Qu.: -1.090   3rd Qu.:-3.170   3rd Qu.:-3.190   3rd Qu.: -2.589  \n",
       " Max.   :  7.881   Max.   :12.816   Max.   :11.366   Max.   :  9.194  \n",
       "    FRic_trt          FEve_trt         FDiv_trt         FDis_trt    \n",
       " Min.   :  54.85   Min.   :0.4806   Min.   :0.3973   Min.   :2.234  \n",
       " 1st Qu.: 274.98   1st Qu.:0.5581   1st Qu.:0.6903   1st Qu.:5.733  \n",
       " Median : 497.32   Median :0.5781   Median :0.7493   Median :5.954  \n",
       " Mean   : 615.07   Mean   :0.5794   Mean   :0.7464   Mean   :5.983  \n",
       " 3rd Qu.: 822.12   3rd Qu.:0.5989   3rd Qu.:0.8046   3rd Qu.:6.184  \n",
       " Max.   :3386.32   Max.   :0.7749   Max.   :0.9821   Max.   :8.920  \n",
       "    RaoQ_trt      FRic_cogcat         FEve_cogcat      FDiv_cogcat    \n",
       " Min.   :11.41   Min.   :8.733e-05   Min.   :0.4841   Min.   :0.3419  \n",
       " 1st Qu.:34.61   1st Qu.:8.848e-04   1st Qu.:0.5823   1st Qu.:0.6575  \n",
       " Median :36.96   Median :1.471e-03   Median :0.6039   Median :0.7023  \n",
       " Mean   :38.48   Mean   :1.486e-03   Mean   :0.6046   Mean   :0.7043  \n",
       " 3rd Qu.:40.23   3rd Qu.:2.016e-03   3rd Qu.:0.6262   3rd Qu.:0.7496  \n",
       " Max.   :81.22   Max.   :4.134e-03   Max.   :0.8033   Max.   :1.0000  \n",
       "  FDis_cogcat       RaoQ_cogcat      \n",
       " Min.   :0.02907   Min.   :0.001775  \n",
       " 1st Qu.:0.06927   1st Qu.:0.005777  \n",
       " Median :0.07531   Median :0.006848  \n",
       " Mean   :0.07922   Mean   :0.008367  \n",
       " 3rd Qu.:0.08238   3rd Qu.:0.008460  \n",
       " Max.   :0.20228   Max.   :0.041588  "
      ]
     },
     "metadata": {},
     "output_type": "display_data"
    }
   ],
   "source": [
    "# summary\n",
    "## target\n",
    "feats_f[,target] %>% table\n",
    "## all features\n",
    "feats_f %>% summary"
   ]
  },
  {
   "cell_type": "markdown",
   "metadata": {},
   "source": [
    "## RF"
   ]
  },
  {
   "cell_type": "code",
   "execution_count": 66,
   "metadata": {
    "ExecuteTime": {
     "end_time": "2021-10-01T07:27:22.027455Z",
     "start_time": "2021-10-01T07:27:21.979Z"
    }
   },
   "outputs": [
    {
     "data": {
      "text/plain": [
       "Supervised task: feats_f %>% select(-dataset_name)\n",
       "Type: classif\n",
       "Target: disease\n",
       "Observations: 2943\n",
       "Features:\n",
       "   numerics     factors     ordered functionals \n",
       "         32           0           0           0 \n",
       "Missings: FALSE\n",
       "Has weights: FALSE\n",
       "Has blocking: TRUE\n",
       "Has coordinates: FALSE\n",
       "Classes: 2\n",
       "diseased  healthy \n",
       "    1170     1773 \n",
       "Positive class: diseased"
      ]
     },
     "metadata": {},
     "output_type": "display_data"
    }
   ],
   "source": [
    "# creating mlr task\n",
    "tsk = makeClassifTask(data = feats_f %>% select(-dataset_name), \n",
    "                      target = target, \n",
    "                      blocking = feats_f$dataset_name %>% as.factor)\n",
    "tsk"
   ]
  },
  {
   "cell_type": "code",
   "execution_count": 67,
   "metadata": {
    "ExecuteTime": {
     "end_time": "2021-10-01T07:27:22.730285Z",
     "start_time": "2021-10-01T07:27:22.691Z"
    }
   },
   "outputs": [
    {
     "data": {
      "text/plain": [
       "Supervised task: feats_f %>% select(-dataset_name)\n",
       "Type: classif\n",
       "Target: disease\n",
       "Observations: 2352\n",
       "Features:\n",
       "   numerics     factors     ordered functionals \n",
       "         32           0           0           0 \n",
       "Missings: FALSE\n",
       "Has weights: FALSE\n",
       "Has blocking: TRUE\n",
       "Has coordinates: FALSE\n",
       "Classes: 2\n",
       "diseased  healthy \n",
       "    1170     1182 \n",
       "Positive class: diseased"
      ]
     },
     "metadata": {},
     "output_type": "display_data"
    }
   ],
   "source": [
    "# what sampling rate to use?\n",
    "rate = 1/1.5\n",
    "undersample(tsk, rate = rate)"
   ]
  },
  {
   "cell_type": "code",
   "execution_count": 68,
   "metadata": {
    "ExecuteTime": {
     "end_time": "2021-10-01T07:27:26.716125Z",
     "start_time": "2021-10-01T07:27:26.540Z"
    }
   },
   "outputs": [
    {
     "data": {
      "text/plain": [
       "Learner classif.cforest from package party\n",
       "Type: classif\n",
       "Name: Random forest based on conditional inference trees; Short name: cforest\n",
       "Class: classif.cforest\n",
       "Properties: twoclass,multiclass,prob,factors,numerics,ordered,weights,missings,featimp\n",
       "Predict-Type: prob\n",
       "Hyperparameters: ntree=500,maxdepth=4\n"
      ]
     },
     "metadata": {},
     "output_type": "display_data"
    }
   ],
   "source": [
    "## feature selection (wrapping the RF learner)\n",
    "lrn = makeLearner('classif.cforest', predict.type = 'prob', \n",
    "                  ntree = 500, maxdepth = 4)\n",
    "lrn"
   ]
  },
  {
   "cell_type": "code",
   "execution_count": 69,
   "metadata": {
    "ExecuteTime": {
     "end_time": "2021-10-01T07:27:26.806967Z",
     "start_time": "2021-10-01T07:27:26.772Z"
    }
   },
   "outputs": [
    {
     "data": {
      "text/plain": [
       "Learner classif.cforest.undersampled from package mlr,party\n",
       "Type: classif\n",
       "Name: ; Short name: \n",
       "Class: UndersampleWrapper\n",
       "Properties: numerics,factors,ordered,missings,weights,prob,twoclass,multiclass,featimp\n",
       "Predict-Type: prob\n",
       "Hyperparameters: ntree=500,maxdepth=4,usw.rate=0.667\n"
      ]
     },
     "metadata": {},
     "output_type": "display_data"
    }
   ],
   "source": [
    "# sampling\n",
    "lrn = makeUndersampleWrapper(lrn, usw.rate = rate)\n",
    "lrn"
   ]
  },
  {
   "cell_type": "code",
   "execution_count": 70,
   "metadata": {
    "ExecuteTime": {
     "end_time": "2021-10-01T07:27:47.744750Z",
     "start_time": "2021-10-01T07:27:27.173Z"
    }
   },
   "outputs": [
    {
     "name": "stderr",
     "output_type": "stream",
     "text": [
      "Starting parallelization in mode=multicore with cpus=8.\n",
      "\n",
      "Resampling: cross-validation\n",
      "\n",
      "Measures:             auc       acc       mcc       f1        \n",
      "\n",
      "Mapping in parallel: mode = multicore; level = mlr.resample; cpus = 8; elements = 5.\n",
      "\n",
      "\n",
      "\n",
      "\n",
      "Aggregated Result: auc.test.mean=0.7436378,acc.test.mean=0.6822869,mcc.test.mean=0.3480758,f1.test.mean=0.6166824\n",
      "\n",
      "\n",
      "\n",
      "\n",
      "Stopped parallelization. All cleaned up.\n",
      "\n"
     ]
    }
   ],
   "source": [
    "## evaluation \n",
    "parallelStartMulticore(cpus=threads, level = 'mlr.resample')\n",
    "rs = makeResampleDesc('CV', iters = cv_iters)\n",
    "res = resample(lrn, tsk, \n",
    "               resampling = rs,  \n",
    "               models = TRUE,\n",
    "               measures = measures)\n",
    "parallelStop()"
   ]
  },
  {
   "cell_type": "markdown",
   "metadata": {},
   "source": [
    "### Performance"
   ]
  },
  {
   "cell_type": "code",
   "execution_count": 71,
   "metadata": {
    "ExecuteTime": {
     "end_time": "2021-10-01T07:27:47.775658Z",
     "start_time": "2021-10-01T07:27:28.322Z"
    }
   },
   "outputs": [
    {
     "data": {
      "text/html": [
       "<table class=\"dataframe\">\n",
       "<caption>A data.frame: 5 × 5</caption>\n",
       "<thead>\n",
       "\t<tr><th scope=col>iter</th><th scope=col>auc</th><th scope=col>acc</th><th scope=col>mcc</th><th scope=col>f1</th></tr>\n",
       "\t<tr><th scope=col>&lt;int&gt;</th><th scope=col>&lt;dbl&gt;</th><th scope=col>&lt;dbl&gt;</th><th scope=col>&lt;dbl&gt;</th><th scope=col>&lt;dbl&gt;</th></tr>\n",
       "</thead>\n",
       "<tbody>\n",
       "\t<tr><td>1</td><td>0.7185498</td><td>0.6479592</td><td>0.2778396</td><td>0.5731959</td></tr>\n",
       "\t<tr><td>2</td><td>0.7501211</td><td>0.6870748</td><td>0.3567227</td><td>0.6213992</td></tr>\n",
       "\t<tr><td>3</td><td>0.7354014</td><td>0.6672326</td><td>0.3184425</td><td>0.6064257</td></tr>\n",
       "\t<tr><td>4</td><td>0.7656795</td><td>0.7028862</td><td>0.3858107</td><td>0.6361746</td></tr>\n",
       "\t<tr><td>5</td><td>0.7484371</td><td>0.7062818</td><td>0.4015636</td><td>0.6462168</td></tr>\n",
       "</tbody>\n",
       "</table>\n"
      ],
      "text/latex": [
       "A data.frame: 5 × 5\n",
       "\\begin{tabular}{lllll}\n",
       " iter & auc & acc & mcc & f1\\\\\n",
       " <int> & <dbl> & <dbl> & <dbl> & <dbl>\\\\\n",
       "\\hline\n",
       "\t 1 & 0.7185498 & 0.6479592 & 0.2778396 & 0.5731959\\\\\n",
       "\t 2 & 0.7501211 & 0.6870748 & 0.3567227 & 0.6213992\\\\\n",
       "\t 3 & 0.7354014 & 0.6672326 & 0.3184425 & 0.6064257\\\\\n",
       "\t 4 & 0.7656795 & 0.7028862 & 0.3858107 & 0.6361746\\\\\n",
       "\t 5 & 0.7484371 & 0.7062818 & 0.4015636 & 0.6462168\\\\\n",
       "\\end{tabular}\n"
      ],
      "text/markdown": [
       "\n",
       "A data.frame: 5 × 5\n",
       "\n",
       "| iter &lt;int&gt; | auc &lt;dbl&gt; | acc &lt;dbl&gt; | mcc &lt;dbl&gt; | f1 &lt;dbl&gt; |\n",
       "|---|---|---|---|---|\n",
       "| 1 | 0.7185498 | 0.6479592 | 0.2778396 | 0.5731959 |\n",
       "| 2 | 0.7501211 | 0.6870748 | 0.3567227 | 0.6213992 |\n",
       "| 3 | 0.7354014 | 0.6672326 | 0.3184425 | 0.6064257 |\n",
       "| 4 | 0.7656795 | 0.7028862 | 0.3858107 | 0.6361746 |\n",
       "| 5 | 0.7484371 | 0.7062818 | 0.4015636 | 0.6462168 |\n",
       "\n"
      ],
      "text/plain": [
       "  iter auc       acc       mcc       f1       \n",
       "1 1    0.7185498 0.6479592 0.2778396 0.5731959\n",
       "2 2    0.7501211 0.6870748 0.3567227 0.6213992\n",
       "3 3    0.7354014 0.6672326 0.3184425 0.6064257\n",
       "4 4    0.7656795 0.7028862 0.3858107 0.6361746\n",
       "5 5    0.7484371 0.7062818 0.4015636 0.6462168"
      ]
     },
     "metadata": {},
     "output_type": "display_data"
    }
   ],
   "source": [
    "df.dims(30)\n",
    "perf_res[['disease_RF']] = res$measures.test\n",
    "res$measures.test\n",
    "df.dims()"
   ]
  },
  {
   "cell_type": "code",
   "execution_count": 72,
   "metadata": {
    "ExecuteTime": {
     "end_time": "2021-10-01T07:27:47.990557Z",
     "start_time": "2021-10-01T07:27:28.491Z"
    }
   },
   "outputs": [
    {
     "name": "stdout",
     "output_type": "stream",
     "text": [
      "--AUC--\n",
      "   Min. 1st Qu.  Median    Mean 3rd Qu.    Max. \n",
      " 0.7185  0.7354  0.7484  0.7436  0.7501  0.7657 \n",
      "--F1--\n",
      "   Min. 1st Qu.  Median    Mean 3rd Qu.    Max. \n",
      " 0.5732  0.6064  0.6214  0.6167  0.6362  0.6462 \n",
      "--plot--\n"
     ]
    },
    {
     "data": {
      "image/png": "[encoded data removed]",
      "text/plain": [
       "plot without title"
      ]
     },
     "metadata": {
      "image/png": {
       "height": 250,
       "width": 400
      }
     },
     "output_type": "display_data"
    }
   ],
   "source": [
    "# performance\n",
    "cls_perf(res)"
   ]
  },
  {
   "cell_type": "code",
   "execution_count": 73,
   "metadata": {
    "ExecuteTime": {
     "end_time": "2021-10-01T07:28:06.518928Z",
     "start_time": "2021-10-01T07:27:28.651Z"
    }
   },
   "outputs": [
    {
     "data": {
      "text/html": [
       "<table class=\"dataframe\">\n",
       "<caption>A data.table: 160 × 3</caption>\n",
       "<thead>\n",
       "\t<tr><th scope=col>cv_rep</th><th scope=col>variable</th><th scope=col>importance</th></tr>\n",
       "\t<tr><th scope=col>&lt;int&gt;</th><th scope=col>&lt;chr&gt;</th><th scope=col>&lt;dbl&gt;</th></tr>\n",
       "</thead>\n",
       "<tbody>\n",
       "\t<tr><td>1</td><td>nobs   </td><td>0.002432900</td></tr>\n",
       "\t<tr><td>1</td><td>shannon</td><td>0.001607504</td></tr>\n",
       "\t<tr><td>⋮</td><td>⋮</td><td>⋮</td></tr>\n",
       "\t<tr><td>5</td><td>FDis_cogcat</td><td>0.01269553</td></tr>\n",
       "\t<tr><td>5</td><td>RaoQ_cogcat</td><td>0.01372006</td></tr>\n",
       "</tbody>\n",
       "</table>\n"
      ],
      "text/latex": [
       "A data.table: 160 × 3\n",
       "\\begin{tabular}{lll}\n",
       " cv\\_rep & variable & importance\\\\\n",
       " <int> & <chr> & <dbl>\\\\\n",
       "\\hline\n",
       "\t 1 & nobs    & 0.002432900\\\\\n",
       "\t 1 & shannon & 0.001607504\\\\\n",
       "\t ⋮ & ⋮ & ⋮\\\\\n",
       "\t 5 & FDis\\_cogcat & 0.01269553\\\\\n",
       "\t 5 & RaoQ\\_cogcat & 0.01372006\\\\\n",
       "\\end{tabular}\n"
      ],
      "text/markdown": [
       "\n",
       "A data.table: 160 × 3\n",
       "\n",
       "| cv_rep &lt;int&gt; | variable &lt;chr&gt; | importance &lt;dbl&gt; |\n",
       "|---|---|---|\n",
       "| 1 | nobs    | 0.002432900 |\n",
       "| 1 | shannon | 0.001607504 |\n",
       "| ⋮ | ⋮ | ⋮ |\n",
       "| 5 | FDis_cogcat | 0.01269553 |\n",
       "| 5 | RaoQ_cogcat | 0.01372006 |\n",
       "\n"
      ],
      "text/plain": [
       "    cv_rep variable    importance \n",
       "1   1      nobs        0.002432900\n",
       "2   1      shannon     0.001607504\n",
       "⋮   ⋮      ⋮           ⋮          \n",
       "159 5      FDis_cogcat 0.01269553 \n",
       "160 5      RaoQ_cogcat 0.01372006 "
      ]
     },
     "metadata": {},
     "output_type": "display_data"
    }
   ],
   "source": [
    "# getting feature importance\n",
    "feat_imp = get_feat_imp(res)\n",
    "feat_imp"
   ]
  },
  {
   "cell_type": "code",
   "execution_count": 74,
   "metadata": {
    "ExecuteTime": {
     "end_time": "2021-10-01T07:28:07.653961Z",
     "start_time": "2021-10-01T07:27:28.794Z"
    }
   },
   "outputs": [
    {
     "name": "stdout",
     "output_type": "stream",
     "text": [
      "File written: /ebio/abt3_projects2/global_metagenome_diversity/ipynb/03_ML/.figures/eb0394ff87501693cb1f9786109f58b7.RDS \n"
     ]
    },
    {
     "data": {
      "image/png": "[encoded data removed]",
      "text/plain": [
       "plot without title"
      ]
     },
     "metadata": {
      "image/png": {
       "height": 500,
       "width": 400
      }
     },
     "output_type": "display_data"
    }
   ],
   "source": [
    "# plotting the most important features\n",
    "p = plot_feat_imp(feat_imp, y_offset=-0.003)\n",
    "p.dims(4,5)\n",
    "Plot(p)"
   ]
  },
  {
   "cell_type": "markdown",
   "metadata": {},
   "source": [
    "# Performance summary"
   ]
  },
  {
   "cell_type": "code",
   "execution_count": 75,
   "metadata": {
    "ExecuteTime": {
     "end_time": "2021-10-01T07:28:07.715950Z",
     "start_time": "2021-10-01T07:27:29.411Z"
    }
   },
   "outputs": [
    {
     "data": {
      "text/html": [
       "<table class=\"dataframe\">\n",
       "<caption>A tidytable: 30 × 4</caption>\n",
       "<thead>\n",
       "\t<tr><th scope=col>iter</th><th scope=col>target</th><th scope=col>measure</th><th scope=col>value</th></tr>\n",
       "\t<tr><th scope=col>&lt;int&gt;</th><th scope=col>&lt;chr&gt;</th><th scope=col>&lt;chr&gt;</th><th scope=col>&lt;dbl&gt;</th></tr>\n",
       "</thead>\n",
       "<tbody>\n",
       "\t<tr><td>1</td><td>westernized</td><td>auc</td><td>0.8921762</td></tr>\n",
       "\t<tr><td>2</td><td>westernized</td><td>auc</td><td>0.9200980</td></tr>\n",
       "\t<tr><td>⋮</td><td>⋮</td><td>⋮</td><td>⋮</td></tr>\n",
       "\t<tr><td>4</td><td>disease</td><td>f1</td><td>0.6361746</td></tr>\n",
       "\t<tr><td>5</td><td>disease</td><td>f1</td><td>0.6462168</td></tr>\n",
       "</tbody>\n",
       "</table>\n"
      ],
      "text/latex": [
       "A tidytable: 30 × 4\n",
       "\\begin{tabular}{llll}\n",
       " iter & target & measure & value\\\\\n",
       " <int> & <chr> & <chr> & <dbl>\\\\\n",
       "\\hline\n",
       "\t 1 & westernized & auc & 0.8921762\\\\\n",
       "\t 2 & westernized & auc & 0.9200980\\\\\n",
       "\t ⋮ & ⋮ & ⋮ & ⋮\\\\\n",
       "\t 4 & disease & f1 & 0.6361746\\\\\n",
       "\t 5 & disease & f1 & 0.6462168\\\\\n",
       "\\end{tabular}\n"
      ],
      "text/markdown": [
       "\n",
       "A tidytable: 30 × 4\n",
       "\n",
       "| iter &lt;int&gt; | target &lt;chr&gt; | measure &lt;chr&gt; | value &lt;dbl&gt; |\n",
       "|---|---|---|---|\n",
       "| 1 | westernized | auc | 0.8921762 |\n",
       "| 2 | westernized | auc | 0.9200980 |\n",
       "| ⋮ | ⋮ | ⋮ | ⋮ |\n",
       "| 4 | disease | f1 | 0.6361746 |\n",
       "| 5 | disease | f1 | 0.6462168 |\n",
       "\n"
      ],
      "text/plain": [
       "   iter target      measure value    \n",
       "1  1    westernized auc     0.8921762\n",
       "2  2    westernized auc     0.9200980\n",
       "⋮  ⋮    ⋮           ⋮       ⋮        \n",
       "29 4    disease     f1      0.6361746\n",
       "30 5    disease     f1      0.6462168"
      ]
     },
     "metadata": {},
     "output_type": "display_data"
    }
   ],
   "source": [
    "# formatting\n",
    "perf_res_f = perf_res %>%\n",
    "    rbindlist(use.names=TRUE, idcol='dataset') %>%\n",
    "    separate.(dataset, c('target', 'model'), sep='_') %>%\n",
    "    filter.(model == 'RF') %>%\n",
    "    select.(iter, auc, f1, target) %>%\n",
    "    pivot_longer.(cols=c(auc, f1), names_to='measure', values_to='value') \n",
    "perf_res_f"
   ]
  },
  {
   "cell_type": "code",
   "execution_count": 76,
   "metadata": {
    "ExecuteTime": {
     "end_time": "2021-10-01T07:28:08.254823Z",
     "start_time": "2021-10-01T07:27:29.562Z"
    }
   },
   "outputs": [
    {
     "name": "stdout",
     "output_type": "stream",
     "text": [
      "File written: /ebio/abt3_projects2/global_metagenome_diversity/ipynb/03_ML/.figures/a4706526029ce4921c0030e392359395.RDS \n"
     ]
    },
    {
     "data": {
      "image/png": "[encoded data removed]",
      "text/plain": [
       "plot without title"
      ]
     },
     "metadata": {
      "image/png": {
       "height": 200,
       "width": 600
      }
     },
     "output_type": "display_data"
    }
   ],
   "source": [
    "# plotting\n",
    "p = perf_res_f %>%\n",
    "    mutate.(target = ifelse(target == 'disease', 'disease\\nstatus', target)) %>%\n",
    "    mutate.(measure = case_when.(measure == 'auc' ~ 'AUC',\n",
    "                                 measure == 'f1' ~ 'F1')) %>%\n",
    "    mutate.(mean_value = mean(value),\n",
    "            .by=c(target, measure)) %>%\n",
    "    mutate.(target = target %>% reorder(-mean_value)) %>%\n",
    "    ggplot(aes(target, value)) +\n",
    "    geom_boxplot() +\n",
    "    labs(x='Phenotype') +\n",
    "    facet_wrap(~ measure, scales='free_y') +\n",
    "    theme_bw() +\n",
    "    theme(\n",
    "        axis.title.x = element_text(vjust=4)\n",
    "    )\n",
    "p.dims(6,2)\n",
    "Plot(p)"
   ]
  },
  {
   "cell_type": "markdown",
   "metadata": {},
   "source": [
    "#### Writing table"
   ]
  },
  {
   "cell_type": "code",
   "execution_count": 77,
   "metadata": {
    "ExecuteTime": {
     "end_time": "2021-10-01T07:28:08.281919Z",
     "start_time": "2021-10-01T07:27:30.257Z"
    }
   },
   "outputs": [
    {
     "name": "stdout",
     "output_type": "stream",
     "text": [
      "File written: /ebio/abt3_projects/databases_no-backup/curatedMetagenomicData/global_metagenomes/diversity/ML//alpha-div_ml_dsBlock_performance.tsv \n"
     ]
    }
   ],
   "source": [
    "F = file.path(work_dir, 'alpha-div_ml_dsBlock_performance.tsv')\n",
    "write_table(perf_res_f, F)"
   ]
  },
  {
   "cell_type": "markdown",
   "metadata": {},
   "source": [
    "# sessionInfo"
   ]
  },
  {
   "cell_type": "code",
   "execution_count": 78,
   "metadata": {
    "ExecuteTime": {
     "end_time": "2021-10-01T07:28:08.360456Z",
     "start_time": "2021-10-01T07:27:31.065Z"
    }
   },
   "outputs": [
    {
     "data": {
      "text/plain": [
       "R version 4.1.1 (2021-08-10)\n",
       "Platform: x86_64-conda-linux-gnu (64-bit)\n",
       "Running under: Ubuntu 18.04.6 LTS\n",
       "\n",
       "Matrix products: default\n",
       "BLAS/LAPACK: /ebio/abt3_projects2/global_metagenome_diversity/envs/tidyverse-ml/lib/libopenblasp-r0.3.17.so\n",
       "\n",
       "locale:\n",
       " [1] LC_CTYPE=en_US.UTF-8       LC_NUMERIC=C              \n",
       " [3] LC_TIME=en_US.UTF-8        LC_COLLATE=en_US.UTF-8    \n",
       " [5] LC_MONETARY=en_US.UTF-8    LC_MESSAGES=en_US.UTF-8   \n",
       " [7] LC_PAPER=en_US.UTF-8       LC_NAME=C                 \n",
       " [9] LC_ADDRESS=C               LC_TELEPHONE=C            \n",
       "[11] LC_MEASUREMENT=en_US.UTF-8 LC_IDENTIFICATION=C       \n",
       "\n",
       "attached base packages:\n",
       "[1] parallel  stats     graphics  grDevices utils     datasets  methods  \n",
       "[8] base     \n",
       "\n",
       "other attached packages:\n",
       " [1] parallelMap_1.5.1   randomForest_4.6-14 mlr_2.19.0         \n",
       " [4] ParamHelpers_1.14   Boruta_7.0.0        LeyLabRMisc_0.2.0  \n",
       " [7] doParallel_1.0.16   iterators_1.0.13    foreach_1.5.1      \n",
       "[10] tidytable_0.6.5     data.table_1.14.2   ggplot2_3.3.5      \n",
       "[13] tidyr_1.1.4         dplyr_1.0.7        \n",
       "\n",
       "loaded via a namespace (and not attached):\n",
       " [1] bit64_4.0.5         jsonlite_1.7.2      splines_4.1.1      \n",
       " [4] RcppParallel_5.1.4  stats4_4.1.1        coin_1.4-1         \n",
       " [7] pillar_1.6.3        backports_1.2.1     lattice_0.20-45    \n",
       "[10] glue_1.4.2          uuid_0.1-4          digest_0.6.28      \n",
       "[13] checkmate_2.0.0     colorspace_2.0-2    stringfish_0.15.2  \n",
       "[16] sandwich_3.0-1      plyr_1.8.6          htmltools_0.5.2    \n",
       "[19] Matrix_1.3-4        XML_3.99-0.8        pkgconfig_2.0.3    \n",
       "[22] purrr_0.3.4         mvtnorm_1.1-2       scales_1.1.1       \n",
       "[25] RApiSerialize_0.1.0 tibble_3.1.5        farver_2.1.0       \n",
       "[28] generics_0.1.0      ellipsis_0.3.2      party_1.3-9        \n",
       "[31] TH.data_1.1-0       withr_2.4.2         repr_1.1.3         \n",
       "[34] survival_3.2-13     strucchange_1.5-2   magrittr_2.0.1     \n",
       "[37] crayon_1.4.1        evaluate_0.14       fansi_0.4.2        \n",
       "[40] MASS_7.3-54         tools_4.1.1         lifecycle_1.0.1    \n",
       "[43] matrixStats_0.61.0  BBmisc_1.11         multcomp_1.4-17    \n",
       "[46] munsell_0.5.0       compiler_4.1.1      qs_0.25.1          \n",
       "[49] rlang_0.4.11        grid_4.1.1          pbdZMQ_0.3-5       \n",
       "[52] IRkernel_1.2        labeling_0.4.2      base64enc_0.1-3    \n",
       "[55] gtable_0.3.0        codetools_0.2-18    R6_2.5.1           \n",
       "[58] zoo_1.8-9           fastmap_1.1.0       bit_4.0.4          \n",
       "[61] utf8_1.2.2          fastmatch_1.1-3     libcoin_1.0-9      \n",
       "[64] modeltools_0.2-23   stringi_1.7.4       IRdisplay_1.0      \n",
       "[67] Rcpp_1.0.7          vctrs_0.3.8         tidyselect_1.1.1   "
      ]
     },
     "metadata": {},
     "output_type": "display_data"
    }
   ],
   "source": [
    "sessionInfo()"
   ]
  }
 ],
 "metadata": {
  "kernelspec": {
   "display_name": "R [conda env:global_metagenome_diversity-tidyverse-ml]",
   "language": "R",
   "name": "conda-env-global_metagenome_diversity-tidyverse-ml-r"
  },
  "language_info": {
   "codemirror_mode": "r",
   "file_extension": ".r",
   "mimetype": "text/x-r-source",
   "name": "R",
   "pygments_lexer": "r",
   "version": "4.1.1"
  },
  "notify_time": "30",
  "toc": {
   "base_numbering": 1,
   "nav_menu": {},
   "number_sections": true,
   "sideBar": true,
   "skip_h1_title": false,
   "title_cell": "Table of Contents",
   "title_sidebar": "Contents",
   "toc_cell": true,
   "toc_position": {
    "height": "calc(100% - 180px)",
    "left": "10px",
    "top": "150px",
    "width": "288px"
   },
   "toc_section_display": true,
   "toc_window_display": true
  }
 },
 "nbformat": 4,
 "nbformat_minor": 4
}
