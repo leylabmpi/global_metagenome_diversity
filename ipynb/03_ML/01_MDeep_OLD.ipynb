{
 "cells": [
  {
   "cell_type": "markdown",
   "metadata": {
    "toc": true
   },
   "source": [
    "<h1>Table of Contents<span class=\"tocSkip\"></span></h1>\n",
    "<div class=\"toc\"><ul class=\"toc-item\"><li><span><a href=\"#Goal\" data-toc-modified-id=\"Goal-1\"><span class=\"toc-item-num\">1&nbsp;&nbsp;</span>Goal</a></span></li><li><span><a href=\"#Var\" data-toc-modified-id=\"Var-2\"><span class=\"toc-item-num\">2&nbsp;&nbsp;</span>Var</a></span></li><li><span><a href=\"#Init\" data-toc-modified-id=\"Init-3\"><span class=\"toc-item-num\">3&nbsp;&nbsp;</span>Init</a></span></li><li><span><a href=\"#Load\" data-toc-modified-id=\"Load-4\"><span class=\"toc-item-num\">4&nbsp;&nbsp;</span>Load</a></span><ul class=\"toc-item\"><li><span><a href=\"#Metadata\" data-toc-modified-id=\"Metadata-4.1\"><span class=\"toc-item-num\">4.1&nbsp;&nbsp;</span>Metadata</a></span></li><li><span><a href=\"#Filtering\" data-toc-modified-id=\"Filtering-4.2\"><span class=\"toc-item-num\">4.2&nbsp;&nbsp;</span>Filtering</a></span></li><li><span><a href=\"#Count-table\" data-toc-modified-id=\"Count-table-4.3\"><span class=\"toc-item-num\">4.3&nbsp;&nbsp;</span>Count table</a></span></li><li><span><a href=\"#Trees\" data-toc-modified-id=\"Trees-4.4\"><span class=\"toc-item-num\">4.4&nbsp;&nbsp;</span>Trees</a></span></li><li><span><a href=\"#Checks\" data-toc-modified-id=\"Checks-4.5\"><span class=\"toc-item-num\">4.5&nbsp;&nbsp;</span>Checks</a></span></li></ul></li><li><span><a href=\"#Preprocessing-counts\" data-toc-modified-id=\"Preprocessing-counts-5\"><span class=\"toc-item-num\">5&nbsp;&nbsp;</span>Preprocessing counts</a></span></li><li><span><a href=\"#Prune-tree-&amp;-make-matrix\" data-toc-modified-id=\"Prune-tree-&amp;-make-matrix-6\"><span class=\"toc-item-num\">6&nbsp;&nbsp;</span>Prune tree &amp; make matrix</a></span><ul class=\"toc-item\"><li><span><a href=\"#Phylo\" data-toc-modified-id=\"Phylo-6.1\"><span class=\"toc-item-num\">6.1&nbsp;&nbsp;</span>Phylo</a></span></li><li><span><a href=\"#Trait\" data-toc-modified-id=\"Trait-6.2\"><span class=\"toc-item-num\">6.2&nbsp;&nbsp;</span>Trait</a></span></li></ul></li><li><span><a href=\"#Features\" data-toc-modified-id=\"Features-7\"><span class=\"toc-item-num\">7&nbsp;&nbsp;</span>Features</a></span><ul class=\"toc-item\"><li><span><a href=\"#Train-test-split\" data-toc-modified-id=\"Train-test-split-7.1\"><span class=\"toc-item-num\">7.1&nbsp;&nbsp;</span>Train-test split</a></span></li><li><span><a href=\"#Writing\" data-toc-modified-id=\"Writing-7.2\"><span class=\"toc-item-num\">7.2&nbsp;&nbsp;</span>Writing</a></span></li></ul></li><li><span><a href=\"#MDeep\" data-toc-modified-id=\"MDeep-8\"><span class=\"toc-item-num\">8&nbsp;&nbsp;</span>MDeep</a></span><ul class=\"toc-item\"><li><span><a href=\"#Convert-to-numpy\" data-toc-modified-id=\"Convert-to-numpy-8.1\"><span class=\"toc-item-num\">8.1&nbsp;&nbsp;</span>Convert to numpy</a></span></li><li><span><a href=\"#Train:-age\" data-toc-modified-id=\"Train:-age-8.2\"><span class=\"toc-item-num\">8.2&nbsp;&nbsp;</span>Train: age</a></span></li><li><span><a href=\"#Train:-westernized\" data-toc-modified-id=\"Train:-westernized-8.3\"><span class=\"toc-item-num\">8.3&nbsp;&nbsp;</span>Train: westernized</a></span></li><li><span><a href=\"#Test\" data-toc-modified-id=\"Test-8.4\"><span class=\"toc-item-num\">8.4&nbsp;&nbsp;</span>Test</a></span></li></ul></li><li><span><a href=\"#Sandbox\" data-toc-modified-id=\"Sandbox-9\"><span class=\"toc-item-num\">9&nbsp;&nbsp;</span>Sandbox</a></span></li></ul></div>"
   ]
  },
  {
   "cell_type": "markdown",
   "metadata": {},
   "source": [
    "# Goal\n",
    "\n",
    "* Try [MDeep](https://github.com/lichen-lab/MDeep) on global metagenome dataset"
   ]
  },
  {
   "cell_type": "markdown",
   "metadata": {},
   "source": [
    "# Var"
   ]
  },
  {
   "cell_type": "code",
   "execution_count": 336,
   "metadata": {
    "ExecuteTime": {
     "end_time": "2020-11-04T11:34:38.879138Z",
     "start_time": "2020-11-04T11:34:38.811Z"
    }
   },
   "outputs": [],
   "source": [
    "# working dir\n",
    "work_dir = '/ebio/abt3_projects/databases_no-backup/curatedMetagenomicData/global_metagenomes/ML/MDeep/'\n",
    "\n",
    "# bracken counts\n",
    "brk_file = '/ebio/abt3_projects/databases_no-backup/curatedMetagenomicData/global_metagenomes/diversity/bracken_filt.qs'\n",
    "\n",
    "# GTDBr89 genome metadata\n",
    "genome_meta_file = '/ebio/abt3_projects/databases_no-backup/GTDB/release89/LLMGP-DB/metadata_1per-GTDB-Spec_gte50comp-lt5cont_wtaxID_wPath.tsv'\n",
    "\n",
    "# sample metadata\n",
    "base_in_dir = '/ebio/abt3_projects/small_projects/nyoungblut/public_data_retireval/'\n",
    "metadata_file = file.path(base_in_dir, 'CurMetDat-metagenomes', 'files', 'metadata', 'Filtered_CurMetDat_f.tsv')\n",
    "\n",
    "# trees\n",
    "## GTDB phylogeny\n",
    "phy_file = '/ebio/abt3_projects/databases_no-backup/GTDB/release89/LLMGP-DB/phylogeny/ar122-bac120_r89_1per-GTDB-Spec_gte50comp-lt5cont_rn.nwk'\n",
    "## trait phylogeny\n",
    "phy_trt_file = '/ebio/abt3_projects/databases_no-backup/GTDB/release89/LLMGP-DB/genomes/LLG//phenotype/predictions_flat_majority-votes_combined_jaccard_rn.nwk'\n",
    "\n",
    "# params\n",
    "threads = 8\n",
    "my_seed = 68372"
   ]
  },
  {
   "cell_type": "markdown",
   "metadata": {},
   "source": [
    "# Init"
   ]
  },
  {
   "cell_type": "code",
   "execution_count": 4,
   "metadata": {
    "ExecuteTime": {
     "end_time": "2020-10-30T14:20:47.362794Z",
     "start_time": "2020-10-30T14:20:46.699Z"
    }
   },
   "outputs": [],
   "source": [
    "library(dplyr)\n",
    "library(tidyr)\n",
    "library(ggplot2)\n",
    "library(data.table)\n",
    "library(tidytable)\n",
    "library(ape)\n",
    "library(LeyLabRMisc)"
   ]
  },
  {
   "cell_type": "code",
   "execution_count": 11,
   "metadata": {
    "ExecuteTime": {
     "end_time": "2020-10-30T14:22:16.167759Z",
     "start_time": "2020-10-30T14:22:16.108Z"
    }
   },
   "outputs": [
    {
     "name": "stdout",
     "output_type": "stream",
     "text": [
      "Created directory: /ebio/abt3_projects/databases_no-backup/curatedMetagenomicData/global_metagenomes/ML/MDeep/ \n"
     ]
    }
   ],
   "source": [
    "make_dir(work_dir)\n",
    "df.dims()"
   ]
  },
  {
   "cell_type": "markdown",
   "metadata": {},
   "source": [
    "# Load"
   ]
  },
  {
   "cell_type": "markdown",
   "metadata": {},
   "source": [
    "## Metadata"
   ]
  },
  {
   "cell_type": "code",
   "execution_count": 173,
   "metadata": {
    "ExecuteTime": {
     "end_time": "2020-11-02T20:07:42.306373Z",
     "start_time": "2020-11-02T20:07:42.194Z"
    }
   },
   "outputs": [
    {
     "data": {
      "text/html": [
       "<table>\n",
       "<caption>A data.table: 3582 × 70</caption>\n",
       "<thead>\n",
       "\t<tr><th scope=col>dataset_name</th><th scope=col>Sample</th><th scope=col>subjectID</th><th scope=col>body_site</th><th scope=col>antibiotics_current_use</th><th scope=col>study_condition</th><th scope=col>disease</th><th scope=col>age</th><th scope=col>age_category</th><th scope=col>gender</th><th scope=col>⋯</th><th scope=col>il_1</th><th scope=col>glp_1</th><th scope=col>travel_destination</th><th scope=col>urea_nitrogen</th><th scope=col>disease_stage</th><th scope=col>uncurated_metadata</th><th scope=col>family_member</th><th scope=col>subject_n</th><th scope=col>samp_n</th><th scope=col>westernized</th></tr>\n",
       "\t<tr><th scope=col>&lt;chr&gt;</th><th scope=col>&lt;chr&gt;</th><th scope=col>&lt;chr&gt;</th><th scope=col>&lt;chr&gt;</th><th scope=col>&lt;chr&gt;</th><th scope=col>&lt;chr&gt;</th><th scope=col>&lt;chr&gt;</th><th scope=col>&lt;int&gt;</th><th scope=col>&lt;chr&gt;</th><th scope=col>&lt;chr&gt;</th><th scope=col>⋯</th><th scope=col>&lt;dbl&gt;</th><th scope=col>&lt;dbl&gt;</th><th scope=col>&lt;chr&gt;</th><th scope=col>&lt;dbl&gt;</th><th scope=col>&lt;int&gt;</th><th scope=col>&lt;chr&gt;</th><th scope=col>&lt;chr&gt;</th><th scope=col>&lt;int&gt;</th><th scope=col>&lt;int&gt;</th><th scope=col>&lt;lgl&gt;</th></tr>\n",
       "</thead>\n",
       "<tbody>\n",
       "\t<tr><td>AsnicarF_2017</td><td>MV_FEM1_t1Q14</td><td>MV_FEM1</td><td>stool</td><td>NA</td><td>control</td><td>healthy</td><td>NA</td><td>adult</td><td>female</td><td>⋯</td><td>NA</td><td>NA</td><td>NA</td><td>NA</td><td>NA</td><td>NA</td><td>NA</td><td>1</td><td>1</td><td>TRUE</td></tr>\n",
       "\t<tr><td>AsnicarF_2017</td><td>MV_FEM2_t1Q14</td><td>MV_FEM2</td><td>stool</td><td>NA</td><td>control</td><td>healthy</td><td>NA</td><td>adult</td><td>female</td><td>⋯</td><td>NA</td><td>NA</td><td>NA</td><td>NA</td><td>NA</td><td>NA</td><td>NA</td><td>1</td><td>1</td><td>TRUE</td></tr>\n",
       "\t<tr><td>⋮</td><td>⋮</td><td>⋮</td><td>⋮</td><td>⋮</td><td>⋮</td><td>⋮</td><td>⋮</td><td>⋮</td><td>⋮</td><td>⋱</td><td>⋮</td><td>⋮</td><td>⋮</td><td>⋮</td><td>⋮</td><td>⋮</td><td>⋮</td><td>⋮</td><td>⋮</td><td>⋮</td></tr>\n",
       "\t<tr><td>ZellerG_2014</td><td>CCIS82944710ST.20.0</td><td>FR-730</td><td>stool</td><td>NA</td><td>control</td><td>healthy</td><td>38</td><td>adult</td><td>female</td><td>⋯</td><td>NA</td><td>NA</td><td>NA</td><td>NA</td><td>NA</td><td>NA</td><td>NA</td><td>1</td><td>1</td><td>TRUE</td></tr>\n",
       "\t<tr><td>ZellerG_2014</td><td>CCIS93040568ST.20.0</td><td>FR-682</td><td>stool</td><td>NA</td><td>control</td><td>healthy</td><td>65</td><td>adult</td><td>male  </td><td>⋯</td><td>NA</td><td>NA</td><td>NA</td><td>NA</td><td>NA</td><td>NA</td><td>NA</td><td>1</td><td>1</td><td>TRUE</td></tr>\n",
       "</tbody>\n",
       "</table>\n"
      ],
      "text/latex": [
       "A data.table: 3582 × 70\n",
       "\\begin{tabular}{lllllllllllllllllllll}\n",
       " dataset\\_name & Sample & subjectID & body\\_site & antibiotics\\_current\\_use & study\\_condition & disease & age & age\\_category & gender & ⋯ & il\\_1 & glp\\_1 & travel\\_destination & urea\\_nitrogen & disease\\_stage & uncurated\\_metadata & family\\_member & subject\\_n & samp\\_n & westernized\\\\\n",
       " <chr> & <chr> & <chr> & <chr> & <chr> & <chr> & <chr> & <int> & <chr> & <chr> & ⋯ & <dbl> & <dbl> & <chr> & <dbl> & <int> & <chr> & <chr> & <int> & <int> & <lgl>\\\\\n",
       "\\hline\n",
       "\t AsnicarF\\_2017 & MV\\_FEM1\\_t1Q14 & MV\\_FEM1 & stool & NA & control & healthy & NA & adult & female & ⋯ & NA & NA & NA & NA & NA & NA & NA & 1 & 1 & TRUE\\\\\n",
       "\t AsnicarF\\_2017 & MV\\_FEM2\\_t1Q14 & MV\\_FEM2 & stool & NA & control & healthy & NA & adult & female & ⋯ & NA & NA & NA & NA & NA & NA & NA & 1 & 1 & TRUE\\\\\n",
       "\t ⋮ & ⋮ & ⋮ & ⋮ & ⋮ & ⋮ & ⋮ & ⋮ & ⋮ & ⋮ & ⋱ & ⋮ & ⋮ & ⋮ & ⋮ & ⋮ & ⋮ & ⋮ & ⋮ & ⋮ & ⋮\\\\\n",
       "\t ZellerG\\_2014 & CCIS82944710ST.20.0 & FR-730 & stool & NA & control & healthy & 38 & adult & female & ⋯ & NA & NA & NA & NA & NA & NA & NA & 1 & 1 & TRUE\\\\\n",
       "\t ZellerG\\_2014 & CCIS93040568ST.20.0 & FR-682 & stool & NA & control & healthy & 65 & adult & male   & ⋯ & NA & NA & NA & NA & NA & NA & NA & 1 & 1 & TRUE\\\\\n",
       "\\end{tabular}\n"
      ],
      "text/markdown": [
       "\n",
       "A data.table: 3582 × 70\n",
       "\n",
       "| dataset_name &lt;chr&gt; | Sample &lt;chr&gt; | subjectID &lt;chr&gt; | body_site &lt;chr&gt; | antibiotics_current_use &lt;chr&gt; | study_condition &lt;chr&gt; | disease &lt;chr&gt; | age &lt;int&gt; | age_category &lt;chr&gt; | gender &lt;chr&gt; | ⋯ ⋯ | il_1 &lt;dbl&gt; | glp_1 &lt;dbl&gt; | travel_destination &lt;chr&gt; | urea_nitrogen &lt;dbl&gt; | disease_stage &lt;int&gt; | uncurated_metadata &lt;chr&gt; | family_member &lt;chr&gt; | subject_n &lt;int&gt; | samp_n &lt;int&gt; | westernized &lt;lgl&gt; |\n",
       "|---|---|---|---|---|---|---|---|---|---|---|---|---|---|---|---|---|---|---|---|---|\n",
       "| AsnicarF_2017 | MV_FEM1_t1Q14 | MV_FEM1 | stool | NA | control | healthy | NA | adult | female | ⋯ | NA | NA | NA | NA | NA | NA | NA | 1 | 1 | TRUE |\n",
       "| AsnicarF_2017 | MV_FEM2_t1Q14 | MV_FEM2 | stool | NA | control | healthy | NA | adult | female | ⋯ | NA | NA | NA | NA | NA | NA | NA | 1 | 1 | TRUE |\n",
       "| ⋮ | ⋮ | ⋮ | ⋮ | ⋮ | ⋮ | ⋮ | ⋮ | ⋮ | ⋮ | ⋱ | ⋮ | ⋮ | ⋮ | ⋮ | ⋮ | ⋮ | ⋮ | ⋮ | ⋮ | ⋮ |\n",
       "| ZellerG_2014 | CCIS82944710ST.20.0 | FR-730 | stool | NA | control | healthy | 38 | adult | female | ⋯ | NA | NA | NA | NA | NA | NA | NA | 1 | 1 | TRUE |\n",
       "| ZellerG_2014 | CCIS93040568ST.20.0 | FR-682 | stool | NA | control | healthy | 65 | adult | male   | ⋯ | NA | NA | NA | NA | NA | NA | NA | 1 | 1 | TRUE |\n",
       "\n"
      ],
      "text/plain": [
       "     dataset_name  Sample              subjectID body_site\n",
       "1    AsnicarF_2017 MV_FEM1_t1Q14       MV_FEM1   stool    \n",
       "2    AsnicarF_2017 MV_FEM2_t1Q14       MV_FEM2   stool    \n",
       "⋮    ⋮             ⋮                   ⋮         ⋮        \n",
       "3581 ZellerG_2014  CCIS82944710ST.20.0 FR-730    stool    \n",
       "3582 ZellerG_2014  CCIS93040568ST.20.0 FR-682    stool    \n",
       "     antibiotics_current_use study_condition disease age age_category gender ⋯\n",
       "1    NA                      control         healthy NA  adult        female ⋯\n",
       "2    NA                      control         healthy NA  adult        female ⋯\n",
       "⋮    ⋮                       ⋮               ⋮       ⋮   ⋮            ⋮      ⋱\n",
       "3581 NA                      control         healthy 38  adult        female ⋯\n",
       "3582 NA                      control         healthy 65  adult        male   ⋯\n",
       "     il_1 glp_1 travel_destination urea_nitrogen disease_stage\n",
       "1    NA   NA    NA                 NA            NA           \n",
       "2    NA   NA    NA                 NA            NA           \n",
       "⋮    ⋮    ⋮     ⋮                  ⋮             ⋮            \n",
       "3581 NA   NA    NA                 NA            NA           \n",
       "3582 NA   NA    NA                 NA            NA           \n",
       "     uncurated_metadata family_member subject_n samp_n westernized\n",
       "1    NA                 NA            1         1      TRUE       \n",
       "2    NA                 NA            1         1      TRUE       \n",
       "⋮    ⋮                  ⋮             ⋮         ⋮      ⋮          \n",
       "3581 NA                 NA            1         1      TRUE       \n",
       "3582 NA                 NA            1         1      TRUE       "
      ]
     },
     "metadata": {},
     "output_type": "display_data"
    }
   ],
   "source": [
    "# sample metadata\n",
    "meta = Fread(metadata_file) %>%\n",
    "    mutate.(Sample = gsub('-', '.', Sample)) %>%\n",
    "    filter.(number_reads >= 5e5)\n",
    "meta"
   ]
  },
  {
   "cell_type": "markdown",
   "metadata": {},
   "source": [
    "## Filtering"
   ]
  },
  {
   "cell_type": "code",
   "execution_count": 174,
   "metadata": {
    "ExecuteTime": {
     "end_time": "2020-11-02T20:07:42.813798Z",
     "start_time": "2020-11-02T20:07:42.719Z"
    }
   },
   "outputs": [
    {
     "data": {
      "text/html": [
       "<table>\n",
       "<caption>A data.table: 2094 × 70</caption>\n",
       "<thead>\n",
       "\t<tr><th scope=col>dataset_name</th><th scope=col>Sample</th><th scope=col>subjectID</th><th scope=col>body_site</th><th scope=col>antibiotics_current_use</th><th scope=col>study_condition</th><th scope=col>disease</th><th scope=col>age</th><th scope=col>age_category</th><th scope=col>gender</th><th scope=col>⋯</th><th scope=col>il_1</th><th scope=col>glp_1</th><th scope=col>travel_destination</th><th scope=col>urea_nitrogen</th><th scope=col>disease_stage</th><th scope=col>uncurated_metadata</th><th scope=col>family_member</th><th scope=col>subject_n</th><th scope=col>samp_n</th><th scope=col>westernized</th></tr>\n",
       "\t<tr><th scope=col>&lt;chr&gt;</th><th scope=col>&lt;chr&gt;</th><th scope=col>&lt;chr&gt;</th><th scope=col>&lt;chr&gt;</th><th scope=col>&lt;chr&gt;</th><th scope=col>&lt;chr&gt;</th><th scope=col>&lt;chr&gt;</th><th scope=col>&lt;int&gt;</th><th scope=col>&lt;chr&gt;</th><th scope=col>&lt;chr&gt;</th><th scope=col>⋯</th><th scope=col>&lt;dbl&gt;</th><th scope=col>&lt;dbl&gt;</th><th scope=col>&lt;chr&gt;</th><th scope=col>&lt;dbl&gt;</th><th scope=col>&lt;int&gt;</th><th scope=col>&lt;chr&gt;</th><th scope=col>&lt;chr&gt;</th><th scope=col>&lt;int&gt;</th><th scope=col>&lt;int&gt;</th><th scope=col>&lt;lgl&gt;</th></tr>\n",
       "</thead>\n",
       "<tbody>\n",
       "\t<tr><td>Bengtsson-PalmeJ_2015</td><td>TRAVELRES1 </td><td>TRAVELRES1_2 </td><td>stool</td><td>no</td><td>control</td><td>healthy</td><td>25</td><td>adult</td><td>female</td><td>⋯</td><td>NA</td><td>NA</td><td>NA </td><td>NA</td><td>NA</td><td>NA</td><td>NA</td><td>1</td><td>1</td><td>TRUE</td></tr>\n",
       "\t<tr><td>Bengtsson-PalmeJ_2015</td><td>TRAVELRES10</td><td>TRAVELRES9_10</td><td>stool</td><td>no</td><td>control</td><td>healthy</td><td>34</td><td>adult</td><td>female</td><td>⋯</td><td>NA</td><td>NA</td><td>LKA</td><td>NA</td><td>NA</td><td>NA</td><td>NA</td><td>1</td><td>1</td><td>TRUE</td></tr>\n",
       "\t<tr><td>⋮</td><td>⋮</td><td>⋮</td><td>⋮</td><td>⋮</td><td>⋮</td><td>⋮</td><td>⋮</td><td>⋮</td><td>⋮</td><td>⋱</td><td>⋮</td><td>⋮</td><td>⋮</td><td>⋮</td><td>⋮</td><td>⋮</td><td>⋮</td><td>⋮</td><td>⋮</td><td>⋮</td></tr>\n",
       "\t<tr><td>ZellerG_2014</td><td>CCIS82944710ST.20.0</td><td>FR-730</td><td>stool</td><td>NA</td><td>control</td><td>healthy</td><td>38</td><td>adult</td><td>female</td><td>⋯</td><td>NA</td><td>NA</td><td>NA</td><td>NA</td><td>NA</td><td>NA</td><td>NA</td><td>1</td><td>1</td><td>TRUE</td></tr>\n",
       "\t<tr><td>ZellerG_2014</td><td>CCIS93040568ST.20.0</td><td>FR-682</td><td>stool</td><td>NA</td><td>control</td><td>healthy</td><td>65</td><td>adult</td><td>male  </td><td>⋯</td><td>NA</td><td>NA</td><td>NA</td><td>NA</td><td>NA</td><td>NA</td><td>NA</td><td>1</td><td>1</td><td>TRUE</td></tr>\n",
       "</tbody>\n",
       "</table>\n"
      ],
      "text/latex": [
       "A data.table: 2094 × 70\n",
       "\\begin{tabular}{lllllllllllllllllllll}\n",
       " dataset\\_name & Sample & subjectID & body\\_site & antibiotics\\_current\\_use & study\\_condition & disease & age & age\\_category & gender & ⋯ & il\\_1 & glp\\_1 & travel\\_destination & urea\\_nitrogen & disease\\_stage & uncurated\\_metadata & family\\_member & subject\\_n & samp\\_n & westernized\\\\\n",
       " <chr> & <chr> & <chr> & <chr> & <chr> & <chr> & <chr> & <int> & <chr> & <chr> & ⋯ & <dbl> & <dbl> & <chr> & <dbl> & <int> & <chr> & <chr> & <int> & <int> & <lgl>\\\\\n",
       "\\hline\n",
       "\t Bengtsson-PalmeJ\\_2015 & TRAVELRES1  & TRAVELRES1\\_2  & stool & no & control & healthy & 25 & adult & female & ⋯ & NA & NA & NA  & NA & NA & NA & NA & 1 & 1 & TRUE\\\\\n",
       "\t Bengtsson-PalmeJ\\_2015 & TRAVELRES10 & TRAVELRES9\\_10 & stool & no & control & healthy & 34 & adult & female & ⋯ & NA & NA & LKA & NA & NA & NA & NA & 1 & 1 & TRUE\\\\\n",
       "\t ⋮ & ⋮ & ⋮ & ⋮ & ⋮ & ⋮ & ⋮ & ⋮ & ⋮ & ⋮ & ⋱ & ⋮ & ⋮ & ⋮ & ⋮ & ⋮ & ⋮ & ⋮ & ⋮ & ⋮ & ⋮\\\\\n",
       "\t ZellerG\\_2014 & CCIS82944710ST.20.0 & FR-730 & stool & NA & control & healthy & 38 & adult & female & ⋯ & NA & NA & NA & NA & NA & NA & NA & 1 & 1 & TRUE\\\\\n",
       "\t ZellerG\\_2014 & CCIS93040568ST.20.0 & FR-682 & stool & NA & control & healthy & 65 & adult & male   & ⋯ & NA & NA & NA & NA & NA & NA & NA & 1 & 1 & TRUE\\\\\n",
       "\\end{tabular}\n"
      ],
      "text/markdown": [
       "\n",
       "A data.table: 2094 × 70\n",
       "\n",
       "| dataset_name &lt;chr&gt; | Sample &lt;chr&gt; | subjectID &lt;chr&gt; | body_site &lt;chr&gt; | antibiotics_current_use &lt;chr&gt; | study_condition &lt;chr&gt; | disease &lt;chr&gt; | age &lt;int&gt; | age_category &lt;chr&gt; | gender &lt;chr&gt; | ⋯ ⋯ | il_1 &lt;dbl&gt; | glp_1 &lt;dbl&gt; | travel_destination &lt;chr&gt; | urea_nitrogen &lt;dbl&gt; | disease_stage &lt;int&gt; | uncurated_metadata &lt;chr&gt; | family_member &lt;chr&gt; | subject_n &lt;int&gt; | samp_n &lt;int&gt; | westernized &lt;lgl&gt; |\n",
       "|---|---|---|---|---|---|---|---|---|---|---|---|---|---|---|---|---|---|---|---|---|\n",
       "| Bengtsson-PalmeJ_2015 | TRAVELRES1  | TRAVELRES1_2  | stool | no | control | healthy | 25 | adult | female | ⋯ | NA | NA | NA  | NA | NA | NA | NA | 1 | 1 | TRUE |\n",
       "| Bengtsson-PalmeJ_2015 | TRAVELRES10 | TRAVELRES9_10 | stool | no | control | healthy | 34 | adult | female | ⋯ | NA | NA | LKA | NA | NA | NA | NA | 1 | 1 | TRUE |\n",
       "| ⋮ | ⋮ | ⋮ | ⋮ | ⋮ | ⋮ | ⋮ | ⋮ | ⋮ | ⋮ | ⋱ | ⋮ | ⋮ | ⋮ | ⋮ | ⋮ | ⋮ | ⋮ | ⋮ | ⋮ | ⋮ |\n",
       "| ZellerG_2014 | CCIS82944710ST.20.0 | FR-730 | stool | NA | control | healthy | 38 | adult | female | ⋯ | NA | NA | NA | NA | NA | NA | NA | 1 | 1 | TRUE |\n",
       "| ZellerG_2014 | CCIS93040568ST.20.0 | FR-682 | stool | NA | control | healthy | 65 | adult | male   | ⋯ | NA | NA | NA | NA | NA | NA | NA | 1 | 1 | TRUE |\n",
       "\n"
      ],
      "text/plain": [
       "     dataset_name          Sample              subjectID     body_site\n",
       "1    Bengtsson-PalmeJ_2015 TRAVELRES1          TRAVELRES1_2  stool    \n",
       "2    Bengtsson-PalmeJ_2015 TRAVELRES10         TRAVELRES9_10 stool    \n",
       "⋮    ⋮                     ⋮                   ⋮             ⋮        \n",
       "2093 ZellerG_2014          CCIS82944710ST.20.0 FR-730        stool    \n",
       "2094 ZellerG_2014          CCIS93040568ST.20.0 FR-682        stool    \n",
       "     antibiotics_current_use study_condition disease age age_category gender ⋯\n",
       "1    no                      control         healthy 25  adult        female ⋯\n",
       "2    no                      control         healthy 34  adult        female ⋯\n",
       "⋮    ⋮                       ⋮               ⋮       ⋮   ⋮            ⋮      ⋱\n",
       "2093 NA                      control         healthy 38  adult        female ⋯\n",
       "2094 NA                      control         healthy 65  adult        male   ⋯\n",
       "     il_1 glp_1 travel_destination urea_nitrogen disease_stage\n",
       "1    NA   NA    NA                 NA            NA           \n",
       "2    NA   NA    LKA                NA            NA           \n",
       "⋮    ⋮    ⋮     ⋮                  ⋮             ⋮            \n",
       "2093 NA   NA    NA                 NA            NA           \n",
       "2094 NA   NA    NA                 NA            NA           \n",
       "     uncurated_metadata family_member subject_n samp_n westernized\n",
       "1    NA                 NA            1         1      TRUE       \n",
       "2    NA                 NA            1         1      TRUE       \n",
       "⋮    ⋮                  ⋮             ⋮         ⋮      ⋮          \n",
       "2093 NA                 NA            1         1      TRUE       \n",
       "2094 NA                 NA            1         1      TRUE       "
      ]
     },
     "metadata": {},
     "output_type": "display_data"
    }
   ],
   "source": [
    "meta = meta %>%\n",
    "    filter.(!is.na(age))\n",
    "meta"
   ]
  },
  {
   "cell_type": "markdown",
   "metadata": {},
   "source": [
    "## Count table"
   ]
  },
  {
   "cell_type": "code",
   "execution_count": 175,
   "metadata": {
    "ExecuteTime": {
     "end_time": "2020-11-02T20:07:54.734285Z",
     "start_time": "2020-11-02T20:07:44.962Z"
    }
   },
   "outputs": [
    {
     "data": {
      "text/html": [
       "<table>\n",
       "<caption>A data.table: 4934812 × 13</caption>\n",
       "<thead>\n",
       "\t<tr><th scope=col>dataset</th><th scope=col>name</th><th scope=col>taxonomy_id</th><th scope=col>taxonomy_lvl</th><th scope=col>Domain</th><th scope=col>Phylum</th><th scope=col>Class</th><th scope=col>Order</th><th scope=col>Family</th><th scope=col>Genus</th><th scope=col>Species</th><th scope=col>Sample</th><th scope=col>Abundance</th></tr>\n",
       "\t<tr><th scope=col>&lt;chr&gt;</th><th scope=col>&lt;chr&gt;</th><th scope=col>&lt;int&gt;</th><th scope=col>&lt;chr&gt;</th><th scope=col>&lt;chr&gt;</th><th scope=col>&lt;chr&gt;</th><th scope=col>&lt;chr&gt;</th><th scope=col>&lt;chr&gt;</th><th scope=col>&lt;chr&gt;</th><th scope=col>&lt;chr&gt;</th><th scope=col>&lt;chr&gt;</th><th scope=col>&lt;chr&gt;</th><th scope=col>&lt;dbl&gt;</th></tr>\n",
       "</thead>\n",
       "<tbody>\n",
       "\t<tr><td>CosteaPI_2017</td><td>s__Caecibacter_massiliensis</td><td>108259</td><td>S</td><td>Bacteria</td><td>Firmicutes_C</td><td>Negativicutes</td><td>Veillonellales </td><td>Megasphaeraceae </td><td>Caecibacter</td><td>Caecibacter massiliensis</td><td>halbarad.11.0.0</td><td>0</td></tr>\n",
       "\t<tr><td>CosteaPI_2017</td><td>s__UBA1777_sp002350825     </td><td>178550</td><td>S</td><td>Bacteria</td><td>Firmicutes_A</td><td>Clostridia   </td><td>Oscillospirales</td><td>Oscillospiraceae</td><td>UBA1777    </td><td>UBA1777 sp002350825     </td><td>halbarad.11.0.0</td><td>0</td></tr>\n",
       "\t<tr><td>⋮</td><td>⋮</td><td>⋮</td><td>⋮</td><td>⋮</td><td>⋮</td><td>⋮</td><td>⋮</td><td>⋮</td><td>⋮</td><td>⋮</td><td>⋮</td><td>⋮</td></tr>\n",
       "\t<tr><td>YuJ_2015</td><td>s__Serratia_grimesii        </td><td>121568</td><td>S</td><td>Bacteria</td><td>Proteobacteria</td><td>Gammaproteobacteria</td><td>Enterobacterales</td><td>Enterobacteriaceae</td><td>Serratia     </td><td>Serratia grimesii        </td><td>SZAXPI017592.142</td><td>0</td></tr>\n",
       "\t<tr><td>YuJ_2015</td><td>s__Bacteroides_A_sp002161565</td><td>119189</td><td>S</td><td>Bacteria</td><td>Bacteroidota  </td><td>Bacteroidia        </td><td>Bacteroidales   </td><td>Bacteroidaceae    </td><td>Bacteroides_A</td><td>Bacteroides_A sp002161565</td><td>SZAXPI017592.142</td><td>0</td></tr>\n",
       "</tbody>\n",
       "</table>\n"
      ],
      "text/latex": [
       "A data.table: 4934812 × 13\n",
       "\\begin{tabular}{lllllllllllll}\n",
       " dataset & name & taxonomy\\_id & taxonomy\\_lvl & Domain & Phylum & Class & Order & Family & Genus & Species & Sample & Abundance\\\\\n",
       " <chr> & <chr> & <int> & <chr> & <chr> & <chr> & <chr> & <chr> & <chr> & <chr> & <chr> & <chr> & <dbl>\\\\\n",
       "\\hline\n",
       "\t CosteaPI\\_2017 & s\\_\\_Caecibacter\\_massiliensis & 108259 & S & Bacteria & Firmicutes\\_C & Negativicutes & Veillonellales  & Megasphaeraceae  & Caecibacter & Caecibacter massiliensis & halbarad.11.0.0 & 0\\\\\n",
       "\t CosteaPI\\_2017 & s\\_\\_UBA1777\\_sp002350825      & 178550 & S & Bacteria & Firmicutes\\_A & Clostridia    & Oscillospirales & Oscillospiraceae & UBA1777     & UBA1777 sp002350825      & halbarad.11.0.0 & 0\\\\\n",
       "\t ⋮ & ⋮ & ⋮ & ⋮ & ⋮ & ⋮ & ⋮ & ⋮ & ⋮ & ⋮ & ⋮ & ⋮ & ⋮\\\\\n",
       "\t YuJ\\_2015 & s\\_\\_Serratia\\_grimesii         & 121568 & S & Bacteria & Proteobacteria & Gammaproteobacteria & Enterobacterales & Enterobacteriaceae & Serratia      & Serratia grimesii         & SZAXPI017592.142 & 0\\\\\n",
       "\t YuJ\\_2015 & s\\_\\_Bacteroides\\_A\\_sp002161565 & 119189 & S & Bacteria & Bacteroidota   & Bacteroidia         & Bacteroidales    & Bacteroidaceae     & Bacteroides\\_A & Bacteroides\\_A sp002161565 & SZAXPI017592.142 & 0\\\\\n",
       "\\end{tabular}\n"
      ],
      "text/markdown": [
       "\n",
       "A data.table: 4934812 × 13\n",
       "\n",
       "| dataset &lt;chr&gt; | name &lt;chr&gt; | taxonomy_id &lt;int&gt; | taxonomy_lvl &lt;chr&gt; | Domain &lt;chr&gt; | Phylum &lt;chr&gt; | Class &lt;chr&gt; | Order &lt;chr&gt; | Family &lt;chr&gt; | Genus &lt;chr&gt; | Species &lt;chr&gt; | Sample &lt;chr&gt; | Abundance &lt;dbl&gt; |\n",
       "|---|---|---|---|---|---|---|---|---|---|---|---|---|\n",
       "| CosteaPI_2017 | s__Caecibacter_massiliensis | 108259 | S | Bacteria | Firmicutes_C | Negativicutes | Veillonellales  | Megasphaeraceae  | Caecibacter | Caecibacter massiliensis | halbarad.11.0.0 | 0 |\n",
       "| CosteaPI_2017 | s__UBA1777_sp002350825      | 178550 | S | Bacteria | Firmicutes_A | Clostridia    | Oscillospirales | Oscillospiraceae | UBA1777     | UBA1777 sp002350825      | halbarad.11.0.0 | 0 |\n",
       "| ⋮ | ⋮ | ⋮ | ⋮ | ⋮ | ⋮ | ⋮ | ⋮ | ⋮ | ⋮ | ⋮ | ⋮ | ⋮ |\n",
       "| YuJ_2015 | s__Serratia_grimesii         | 121568 | S | Bacteria | Proteobacteria | Gammaproteobacteria | Enterobacterales | Enterobacteriaceae | Serratia      | Serratia grimesii         | SZAXPI017592.142 | 0 |\n",
       "| YuJ_2015 | s__Bacteroides_A_sp002161565 | 119189 | S | Bacteria | Bacteroidota   | Bacteroidia         | Bacteroidales    | Bacteroidaceae     | Bacteroides_A | Bacteroides_A sp002161565 | SZAXPI017592.142 | 0 |\n",
       "\n"
      ],
      "text/plain": [
       "        dataset       name                         taxonomy_id taxonomy_lvl\n",
       "1       CosteaPI_2017 s__Caecibacter_massiliensis  108259      S           \n",
       "2       CosteaPI_2017 s__UBA1777_sp002350825       178550      S           \n",
       "⋮       ⋮             ⋮                            ⋮           ⋮           \n",
       "4934811 YuJ_2015      s__Serratia_grimesii         121568      S           \n",
       "4934812 YuJ_2015      s__Bacteroides_A_sp002161565 119189      S           \n",
       "        Domain   Phylum         Class               Order           \n",
       "1       Bacteria Firmicutes_C   Negativicutes       Veillonellales  \n",
       "2       Bacteria Firmicutes_A   Clostridia          Oscillospirales \n",
       "⋮       ⋮        ⋮              ⋮                   ⋮               \n",
       "4934811 Bacteria Proteobacteria Gammaproteobacteria Enterobacterales\n",
       "4934812 Bacteria Bacteroidota   Bacteroidia         Bacteroidales   \n",
       "        Family             Genus         Species                  \n",
       "1       Megasphaeraceae    Caecibacter   Caecibacter massiliensis \n",
       "2       Oscillospiraceae   UBA1777       UBA1777 sp002350825      \n",
       "⋮       ⋮                  ⋮             ⋮                        \n",
       "4934811 Enterobacteriaceae Serratia      Serratia grimesii        \n",
       "4934812 Bacteroidaceae     Bacteroides_A Bacteroides_A sp002161565\n",
       "        Sample           Abundance\n",
       "1       halbarad.11.0.0  0        \n",
       "2       halbarad.11.0.0  0        \n",
       "⋮       ⋮                ⋮        \n",
       "4934811 SZAXPI017592.142 0        \n",
       "4934812 SZAXPI017592.142 0        "
      ]
     },
     "metadata": {},
     "output_type": "display_data"
    }
   ],
   "source": [
    "# Bracken count table\n",
    "brk = qs::qread(brk_file, nthreads=threads) %>%\n",
    "    mutate.(name = gsub(' ', '_', name))\n",
    "brk "
   ]
  },
  {
   "cell_type": "code",
   "execution_count": 176,
   "metadata": {
    "ExecuteTime": {
     "end_time": "2020-11-02T20:07:56.057686Z",
     "start_time": "2020-11-02T20:07:45.992Z"
    }
   },
   "outputs": [
    {
     "name": "stdout",
     "output_type": "stream",
     "text": [
      "No. of unique Samples: 1929 \n",
      "No. of unique Samples: 1929 \n"
     ]
    }
   ],
   "source": [
    "# Filtering to match \n",
    "x = intersect(meta %>% pull.(Sample),\n",
    "              brk %>% pull.(Sample))\n",
    "meta = meta %>%\n",
    "    filter.(Sample %in% x)\n",
    "meta %>% unique_n('Samples', Sample)\n",
    "\n",
    "brk = brk %>%\n",
    "    filter.(Sample %in% x)\n",
    "brk %>% unique_n('Samples', Sample)"
   ]
  },
  {
   "cell_type": "markdown",
   "metadata": {},
   "source": [
    "## Trees"
   ]
  },
  {
   "cell_type": "code",
   "execution_count": 177,
   "metadata": {
    "ExecuteTime": {
     "end_time": "2020-11-02T20:07:56.338895Z",
     "start_time": "2020-11-02T20:07:46.278Z"
    }
   },
   "outputs": [
    {
     "data": {
      "text/plain": [
       "\n",
       "Phylogenetic tree with 23360 tips and 23359 internal nodes.\n",
       "\n",
       "Tip labels:\n",
       "\ts__Halorubrum_sp000296615, s__Halorubrum_distributum, s__Halorubrum_trapanicum, s__Halorubrum_tropicale, s__Halorubrum_coriense, s__Halorubrum_ezzemoulense, ...\n",
       "Node labels:\n",
       "\t100.0, d__Archaea100.0, 97.0, 99.0, 100.0, 100.0-p__Halobacterota, ...\n",
       "\n",
       "Rooted; includes branch lengths."
      ]
     },
     "metadata": {},
     "output_type": "display_data"
    }
   ],
   "source": [
    "phy = read.tree(phy_file)\n",
    "phy"
   ]
  },
  {
   "cell_type": "code",
   "execution_count": 178,
   "metadata": {
    "ExecuteTime": {
     "end_time": "2020-11-02T20:07:56.536474Z",
     "start_time": "2020-11-02T20:07:47.238Z"
    }
   },
   "outputs": [
    {
     "data": {
      "text/plain": [
       "\n",
       "Phylogenetic tree with 23360 tips and 23359 internal nodes.\n",
       "\n",
       "Tip labels:\n",
       "\ts__Mikella_endobia, s__Prochlorococcus_B_sp003284185, s__Prochlorococcus_A_sp003282425, s__Eperythrozoon_A_wenyonii_A, s__GN02-872_sp003260325, s__SZUA-486_sp003251635, ...\n",
       "\n",
       "Rooted; includes branch lengths."
      ]
     },
     "metadata": {},
     "output_type": "display_data"
    }
   ],
   "source": [
    "trt = read.tree(phy_trt_file)\n",
    "trt"
   ]
  },
  {
   "cell_type": "markdown",
   "metadata": {},
   "source": [
    "## Checks"
   ]
  },
  {
   "cell_type": "code",
   "execution_count": 179,
   "metadata": {
    "ExecuteTime": {
     "end_time": "2020-11-02T20:07:56.627852Z",
     "start_time": "2020-11-02T20:07:47.671Z"
    }
   },
   "outputs": [
    {
     "name": "stdout",
     "output_type": "stream",
     "text": [
      "intersect(x,y): 3195 \n",
      "setdiff(x,y): 0 \n",
      "setdiff(y,x): 20165 \n",
      "union(x,y): 23360 \n",
      "---\n",
      "intersect(x,y): 3195 \n",
      "setdiff(x,y): 0 \n",
      "setdiff(y,x): 20165 \n",
      "union(x,y): 23360 \n"
     ]
    }
   ],
   "source": [
    "# checking overlap of genome metadata & phenotype data\n",
    "overlap(brk, phy$tip.label, name)\n",
    "cat('---\\n')\n",
    "overlap(brk, trt$tip.label, name)"
   ]
  },
  {
   "cell_type": "markdown",
   "metadata": {},
   "source": [
    "# Preprocessing counts"
   ]
  },
  {
   "cell_type": "code",
   "execution_count": 180,
   "metadata": {
    "ExecuteTime": {
     "end_time": "2020-11-02T20:07:57.579985Z",
     "start_time": "2020-11-02T20:07:49.664Z"
    }
   },
   "outputs": [
    {
     "name": "stdout",
     "output_type": "stream",
     "text": [
      "No. of unique No. of taxa: 3195 \n"
     ]
    },
    {
     "data": {
      "text/html": [
       "<table>\n",
       "<caption>A data.frame: 198 × 1929</caption>\n",
       "<thead>\n",
       "\t<tr><th></th><th scope=col>SID713A004.11.0.0</th><th scope=col>SID713A009.11.90.0</th><th scope=col>SID713A010.11.0.0</th><th scope=col>SID713A012.11.0.0</th><th scope=col>SID713A012.11.90.0</th><th scope=col>SID713A033.11.0.0</th><th scope=col>SID713A037.11.90.0</th><th scope=col>SID713A051.11.0.0</th><th scope=col>SID713B002.11.0.0</th><th scope=col>SID713B012.11.0.0</th><th scope=col>⋯</th><th scope=col>YSZC12003_37753</th><th scope=col>YSZC12003_37754</th><th scope=col>YSZC12003_37797</th><th scope=col>YSZC12003_37798</th><th scope=col>YSZC12003_37829</th><th scope=col>YSZC12003_37830</th><th scope=col>YSZC12003_37877</th><th scope=col>YSZC12003_37878</th><th scope=col>YSZC12003_37879</th><th scope=col>YSZC12003_37880</th></tr>\n",
       "\t<tr><th></th><th scope=col>&lt;dbl&gt;</th><th scope=col>&lt;dbl&gt;</th><th scope=col>&lt;dbl&gt;</th><th scope=col>&lt;dbl&gt;</th><th scope=col>&lt;dbl&gt;</th><th scope=col>&lt;dbl&gt;</th><th scope=col>&lt;dbl&gt;</th><th scope=col>&lt;dbl&gt;</th><th scope=col>&lt;dbl&gt;</th><th scope=col>&lt;dbl&gt;</th><th scope=col>⋯</th><th scope=col>&lt;dbl&gt;</th><th scope=col>&lt;dbl&gt;</th><th scope=col>&lt;dbl&gt;</th><th scope=col>&lt;dbl&gt;</th><th scope=col>&lt;dbl&gt;</th><th scope=col>&lt;dbl&gt;</th><th scope=col>&lt;dbl&gt;</th><th scope=col>&lt;dbl&gt;</th><th scope=col>&lt;dbl&gt;</th><th scope=col>&lt;dbl&gt;</th></tr>\n",
       "</thead>\n",
       "<tbody>\n",
       "\t<tr><th scope=row>s__Eubacterium_G_ventriosum</th><td>0.00028</td><td>0.00593</td><td>0.00231</td><td>0.00055</td><td>0e+00</td><td>0.00081</td><td>0.00000</td><td>0.00133</td><td>0.00000</td><td>0.00092</td><td>⋯</td><td>0e+00</td><td>0.00331</td><td>0.00142</td><td>0.00122</td><td>0.00027</td><td>0.00149</td><td>0.00531</td><td>0.00085</td><td>0.00037</td><td>0</td></tr>\n",
       "\t<tr><th scope=row>s__Prevotella_sp000436035</th><td>0.00305</td><td>0.00000</td><td>0.00000</td><td>0.00265</td><td>5e-04</td><td>0.00224</td><td>0.00247</td><td>0.00135</td><td>0.01531</td><td>0.04421</td><td>⋯</td><td>4e-04</td><td>0.00000</td><td>0.00000</td><td>0.00000</td><td>0.00000</td><td>0.00000</td><td>0.00000</td><td>0.00000</td><td>0.00000</td><td>0</td></tr>\n",
       "\t<tr><th scope=row>⋮</th><td>⋮</td><td>⋮</td><td>⋮</td><td>⋮</td><td>⋮</td><td>⋮</td><td>⋮</td><td>⋮</td><td>⋮</td><td>⋮</td><td>⋱</td><td>⋮</td><td>⋮</td><td>⋮</td><td>⋮</td><td>⋮</td><td>⋮</td><td>⋮</td><td>⋮</td><td>⋮</td><td>⋮</td></tr>\n",
       "\t<tr><th scope=row>s__Megamonas_funiformis</th><td>0</td><td>0</td><td>0</td><td>0</td><td>0</td><td>0</td><td>0</td><td>0</td><td>0</td><td>0</td><td>⋯</td><td>0.00000</td><td>0</td><td>0</td><td>0.00000</td><td>0</td><td>0.00000</td><td>0</td><td>0.0000</td><td>0</td><td>0</td></tr>\n",
       "\t<tr><th scope=row>s__Alistipes_sp900290115</th><td>0</td><td>0</td><td>0</td><td>0</td><td>0</td><td>0</td><td>0</td><td>0</td><td>0</td><td>0</td><td>⋯</td><td>0.00023</td><td>0</td><td>0</td><td>0.00196</td><td>0</td><td>0.13202</td><td>0</td><td>0.0012</td><td>0</td><td>0</td></tr>\n",
       "</tbody>\n",
       "</table>\n"
      ],
      "text/latex": [
       "A data.frame: 198 × 1929\n",
       "\\begin{tabular}{r|lllllllllllllllllllll}\n",
       "  & SID713A004.11.0.0 & SID713A009.11.90.0 & SID713A010.11.0.0 & SID713A012.11.0.0 & SID713A012.11.90.0 & SID713A033.11.0.0 & SID713A037.11.90.0 & SID713A051.11.0.0 & SID713B002.11.0.0 & SID713B012.11.0.0 & ⋯ & YSZC12003\\_37753 & YSZC12003\\_37754 & YSZC12003\\_37797 & YSZC12003\\_37798 & YSZC12003\\_37829 & YSZC12003\\_37830 & YSZC12003\\_37877 & YSZC12003\\_37878 & YSZC12003\\_37879 & YSZC12003\\_37880\\\\\n",
       "  & <dbl> & <dbl> & <dbl> & <dbl> & <dbl> & <dbl> & <dbl> & <dbl> & <dbl> & <dbl> & ⋯ & <dbl> & <dbl> & <dbl> & <dbl> & <dbl> & <dbl> & <dbl> & <dbl> & <dbl> & <dbl>\\\\\n",
       "\\hline\n",
       "\ts\\_\\_Eubacterium\\_G\\_ventriosum & 0.00028 & 0.00593 & 0.00231 & 0.00055 & 0e+00 & 0.00081 & 0.00000 & 0.00133 & 0.00000 & 0.00092 & ⋯ & 0e+00 & 0.00331 & 0.00142 & 0.00122 & 0.00027 & 0.00149 & 0.00531 & 0.00085 & 0.00037 & 0\\\\\n",
       "\ts\\_\\_Prevotella\\_sp000436035 & 0.00305 & 0.00000 & 0.00000 & 0.00265 & 5e-04 & 0.00224 & 0.00247 & 0.00135 & 0.01531 & 0.04421 & ⋯ & 4e-04 & 0.00000 & 0.00000 & 0.00000 & 0.00000 & 0.00000 & 0.00000 & 0.00000 & 0.00000 & 0\\\\\n",
       "\t⋮ & ⋮ & ⋮ & ⋮ & ⋮ & ⋮ & ⋮ & ⋮ & ⋮ & ⋮ & ⋮ & ⋱ & ⋮ & ⋮ & ⋮ & ⋮ & ⋮ & ⋮ & ⋮ & ⋮ & ⋮ & ⋮\\\\\n",
       "\ts\\_\\_Megamonas\\_funiformis & 0 & 0 & 0 & 0 & 0 & 0 & 0 & 0 & 0 & 0 & ⋯ & 0.00000 & 0 & 0 & 0.00000 & 0 & 0.00000 & 0 & 0.0000 & 0 & 0\\\\\n",
       "\ts\\_\\_Alistipes\\_sp900290115 & 0 & 0 & 0 & 0 & 0 & 0 & 0 & 0 & 0 & 0 & ⋯ & 0.00023 & 0 & 0 & 0.00196 & 0 & 0.13202 & 0 & 0.0012 & 0 & 0\\\\\n",
       "\\end{tabular}\n"
      ],
      "text/markdown": [
       "\n",
       "A data.frame: 198 × 1929\n",
       "\n",
       "| <!--/--> | SID713A004.11.0.0 &lt;dbl&gt; | SID713A009.11.90.0 &lt;dbl&gt; | SID713A010.11.0.0 &lt;dbl&gt; | SID713A012.11.0.0 &lt;dbl&gt; | SID713A012.11.90.0 &lt;dbl&gt; | SID713A033.11.0.0 &lt;dbl&gt; | SID713A037.11.90.0 &lt;dbl&gt; | SID713A051.11.0.0 &lt;dbl&gt; | SID713B002.11.0.0 &lt;dbl&gt; | SID713B012.11.0.0 &lt;dbl&gt; | ⋯ ⋯ | YSZC12003_37753 &lt;dbl&gt; | YSZC12003_37754 &lt;dbl&gt; | YSZC12003_37797 &lt;dbl&gt; | YSZC12003_37798 &lt;dbl&gt; | YSZC12003_37829 &lt;dbl&gt; | YSZC12003_37830 &lt;dbl&gt; | YSZC12003_37877 &lt;dbl&gt; | YSZC12003_37878 &lt;dbl&gt; | YSZC12003_37879 &lt;dbl&gt; | YSZC12003_37880 &lt;dbl&gt; |\n",
       "|---|---|---|---|---|---|---|---|---|---|---|---|---|---|---|---|---|---|---|---|---|---|\n",
       "| s__Eubacterium_G_ventriosum | 0.00028 | 0.00593 | 0.00231 | 0.00055 | 0e+00 | 0.00081 | 0.00000 | 0.00133 | 0.00000 | 0.00092 | ⋯ | 0e+00 | 0.00331 | 0.00142 | 0.00122 | 0.00027 | 0.00149 | 0.00531 | 0.00085 | 0.00037 | 0 |\n",
       "| s__Prevotella_sp000436035 | 0.00305 | 0.00000 | 0.00000 | 0.00265 | 5e-04 | 0.00224 | 0.00247 | 0.00135 | 0.01531 | 0.04421 | ⋯ | 4e-04 | 0.00000 | 0.00000 | 0.00000 | 0.00000 | 0.00000 | 0.00000 | 0.00000 | 0.00000 | 0 |\n",
       "| ⋮ | ⋮ | ⋮ | ⋮ | ⋮ | ⋮ | ⋮ | ⋮ | ⋮ | ⋮ | ⋮ | ⋱ | ⋮ | ⋮ | ⋮ | ⋮ | ⋮ | ⋮ | ⋮ | ⋮ | ⋮ | ⋮ |\n",
       "| s__Megamonas_funiformis | 0 | 0 | 0 | 0 | 0 | 0 | 0 | 0 | 0 | 0 | ⋯ | 0.00000 | 0 | 0 | 0.00000 | 0 | 0.00000 | 0 | 0.0000 | 0 | 0 |\n",
       "| s__Alistipes_sp900290115 | 0 | 0 | 0 | 0 | 0 | 0 | 0 | 0 | 0 | 0 | ⋯ | 0.00023 | 0 | 0 | 0.00196 | 0 | 0.13202 | 0 | 0.0012 | 0 | 0 |\n",
       "\n"
      ],
      "text/plain": [
       "                            SID713A004.11.0.0 SID713A009.11.90.0\n",
       "s__Eubacterium_G_ventriosum 0.00028           0.00593           \n",
       "s__Prevotella_sp000436035   0.00305           0.00000           \n",
       "⋮                           ⋮                 ⋮                 \n",
       "s__Megamonas_funiformis     0                 0                 \n",
       "s__Alistipes_sp900290115    0                 0                 \n",
       "                            SID713A010.11.0.0 SID713A012.11.0.0\n",
       "s__Eubacterium_G_ventriosum 0.00231           0.00055          \n",
       "s__Prevotella_sp000436035   0.00000           0.00265          \n",
       "⋮                           ⋮                 ⋮                \n",
       "s__Megamonas_funiformis     0                 0                \n",
       "s__Alistipes_sp900290115    0                 0                \n",
       "                            SID713A012.11.90.0 SID713A033.11.0.0\n",
       "s__Eubacterium_G_ventriosum 0e+00              0.00081          \n",
       "s__Prevotella_sp000436035   5e-04              0.00224          \n",
       "⋮                           ⋮                  ⋮                \n",
       "s__Megamonas_funiformis     0                  0                \n",
       "s__Alistipes_sp900290115    0                  0                \n",
       "                            SID713A037.11.90.0 SID713A051.11.0.0\n",
       "s__Eubacterium_G_ventriosum 0.00000            0.00133          \n",
       "s__Prevotella_sp000436035   0.00247            0.00135          \n",
       "⋮                           ⋮                  ⋮                \n",
       "s__Megamonas_funiformis     0                  0                \n",
       "s__Alistipes_sp900290115    0                  0                \n",
       "                            SID713B002.11.0.0 SID713B012.11.0.0 ⋯\n",
       "s__Eubacterium_G_ventriosum 0.00000           0.00092           ⋯\n",
       "s__Prevotella_sp000436035   0.01531           0.04421           ⋯\n",
       "⋮                           ⋮                 ⋮                 ⋱\n",
       "s__Megamonas_funiformis     0                 0                 ⋯\n",
       "s__Alistipes_sp900290115    0                 0                 ⋯\n",
       "                            YSZC12003_37753 YSZC12003_37754 YSZC12003_37797\n",
       "s__Eubacterium_G_ventriosum 0e+00           0.00331         0.00142        \n",
       "s__Prevotella_sp000436035   4e-04           0.00000         0.00000        \n",
       "⋮                           ⋮               ⋮               ⋮              \n",
       "s__Megamonas_funiformis     0.00000         0               0              \n",
       "s__Alistipes_sp900290115    0.00023         0               0              \n",
       "                            YSZC12003_37798 YSZC12003_37829 YSZC12003_37830\n",
       "s__Eubacterium_G_ventriosum 0.00122         0.00027         0.00149        \n",
       "s__Prevotella_sp000436035   0.00000         0.00000         0.00000        \n",
       "⋮                           ⋮               ⋮               ⋮              \n",
       "s__Megamonas_funiformis     0.00000         0               0.00000        \n",
       "s__Alistipes_sp900290115    0.00196         0               0.13202        \n",
       "                            YSZC12003_37877 YSZC12003_37878 YSZC12003_37879\n",
       "s__Eubacterium_G_ventriosum 0.00531         0.00085         0.00037        \n",
       "s__Prevotella_sp000436035   0.00000         0.00000         0.00000        \n",
       "⋮                           ⋮               ⋮               ⋮              \n",
       "s__Megamonas_funiformis     0               0.0000          0              \n",
       "s__Alistipes_sp900290115    0               0.0012          0              \n",
       "                            YSZC12003_37880\n",
       "s__Eubacterium_G_ventriosum 0              \n",
       "s__Prevotella_sp000436035   0              \n",
       "⋮                           ⋮              \n",
       "s__Megamonas_funiformis     0              \n",
       "s__Alistipes_sp900290115    0              "
      ]
     },
     "metadata": {},
     "output_type": "display_data"
    }
   ],
   "source": [
    "# filtering low count taxa\n",
    "brk %>% unique_n('No. of taxa', name)\n",
    "brk_f = brk %>% \n",
    "    mutate.(mean_abund = mean(Abundance),\n",
    "               by = c(name)) %>%\n",
    "    filter.(mean_abund > 1e-3) %>%\n",
    "    select.(Sample, name, Abundance) %>%\n",
    "    pivot_wider(names_from=Sample, values_from=Abundance, values_fill=0) %>%\n",
    "    as.data.frame\n",
    "rownames(brk_f) = brk_f$name\n",
    "brk_f$name = NULL\n",
    "brk_f "
   ]
  },
  {
   "cell_type": "code",
   "execution_count": 181,
   "metadata": {
    "ExecuteTime": {
     "end_time": "2020-11-02T20:07:57.596715Z",
     "start_time": "2020-11-02T20:07:50.327Z"
    }
   },
   "outputs": [
    {
     "name": "stdout",
     "output_type": "stream",
     "text": [
      "intersect(x,y): 1929 \n",
      "setdiff(x,y): 0 \n",
      "setdiff(y,x): 0 \n",
      "union(x,y): 1929 \n"
     ]
    }
   ],
   "source": [
    "# checking sample overlap\n",
    "overlap(colnames(brk_f), meta %>% pull.(Sample))"
   ]
  },
  {
   "cell_type": "markdown",
   "metadata": {},
   "source": [
    "# Prune tree & make matrix"
   ]
  },
  {
   "cell_type": "markdown",
   "metadata": {},
   "source": [
    "## Phylo"
   ]
  },
  {
   "cell_type": "code",
   "execution_count": 182,
   "metadata": {
    "ExecuteTime": {
     "end_time": "2020-11-02T20:07:57.748556Z",
     "start_time": "2020-11-02T20:07:51.823Z"
    }
   },
   "outputs": [
    {
     "data": {
      "text/plain": [
       "\n",
       "Phylogenetic tree with 198 tips and 197 internal nodes.\n",
       "\n",
       "Tip labels:\n",
       "\ts__Methanobrevibacter_A_smithii, s__Ruminococcus_E_bromii_B, s__Ruminococcus_E_bromii, s__Ruminococcus_E_sp900314705, s__GCA-900066995_sp900291955, s__CAG-177_sp002451755, ...\n",
       "Node labels:\n",
       "\t100.0, 1.0, 0.0, 0.0, 3.0, 18.0, ...\n",
       "\n",
       "Rooted; includes branch lengths."
      ]
     },
     "metadata": {},
     "output_type": "display_data"
    }
   ],
   "source": [
    "# pruning\n",
    "to_rm = setdiff(phy$tip.label, rownames(brk_f))\n",
    "phy_f = ape::drop.tip(phy, to_rm)\n",
    "phy_f"
   ]
  },
  {
   "cell_type": "code",
   "execution_count": 183,
   "metadata": {
    "ExecuteTime": {
     "end_time": "2020-11-02T20:07:57.794283Z",
     "start_time": "2020-11-02T20:07:51.963Z"
    }
   },
   "outputs": [
    {
     "data": {
      "text/html": [
       "<table>\n",
       "<caption>A matrix: 198 × 198 of type dbl</caption>\n",
       "<thead>\n",
       "\t<tr><th></th><th scope=col>s__Eubacterium_G_ventriosum</th><th scope=col>s__Prevotella_sp000436035</th><th scope=col>s__Prevotella_sp002440225</th><th scope=col>s__Acetatifactor_sp900066365</th><th scope=col>s__Bacteroides_A_coprocola</th><th scope=col>s__Bacteroides_sp002491635</th><th scope=col>s__Bifidobacterium_bifidum</th><th scope=col>s__CAG-180_sp000432435</th><th scope=col>s__Bacteroides_stercoris</th><th scope=col>s__Bacteroides_ovatus</th><th scope=col>⋯</th><th scope=col>s__Prevotella_stercorea</th><th scope=col>s__Bacteroides_B_sartorii</th><th scope=col>s__Blautia_A_sp900066205</th><th scope=col>s__Bacteroides_faecis</th><th scope=col>s__Bacteroides_B_dorei</th><th scope=col>s__Coprococcus_eutactus_A</th><th scope=col>s__Ruminiclostridium_E_siraeum</th><th scope=col>s__CAG-279_sp000437795</th><th scope=col>s__Megamonas_funiformis</th><th scope=col>s__Alistipes_sp900290115</th></tr>\n",
       "</thead>\n",
       "<tbody>\n",
       "\t<tr><th scope=row>s__Eubacterium_G_ventriosum</th><td>1.0000000</td><td>0.2403022</td><td>0.2445365</td><td>0.8133593</td><td>0.3124905</td><td>0.3061080</td><td>0.3120918</td><td>0.6088624</td><td>0.3077979</td><td>0.3116527</td><td>⋯</td><td>0.2500477</td><td>0.3180304</td><td>0.8163858</td><td>0.3134667</td><td>0.3178585</td><td>0.8112827</td><td>0.5912951</td><td>0.2997398</td><td>0.5503461</td><td>0.2832872</td></tr>\n",
       "\t<tr><th scope=row>s__Prevotella_sp000436035</th><td>0.2403022</td><td>1.0000000</td><td>0.9800840</td><td>0.2362373</td><td>0.8383808</td><td>0.8319983</td><td>0.1310030</td><td>0.2348291</td><td>0.8336882</td><td>0.8375430</td><td>⋯</td><td>0.9123807</td><td>0.8439207</td><td>0.2392639</td><td>0.8393570</td><td>0.8437488</td><td>0.2265276</td><td>0.2172618</td><td>0.7912784</td><td>0.3002387</td><td>0.6293608</td></tr>\n",
       "\t<tr><th scope=row>⋮</th><td>⋮</td><td>⋮</td><td>⋮</td><td>⋮</td><td>⋮</td><td>⋮</td><td>⋮</td><td>⋮</td><td>⋮</td><td>⋮</td><td>⋱</td><td>⋮</td><td>⋮</td><td>⋮</td><td>⋮</td><td>⋮</td><td>⋮</td><td>⋮</td><td>⋮</td><td>⋮</td><td>⋮</td></tr>\n",
       "\t<tr><th scope=row>s__Megamonas_funiformis</th><td>0.5503461</td><td>0.3002387</td><td>0.3044730</td><td>0.5462813</td><td>0.3724270</td><td>0.3660445</td><td>0.3720284</td><td>0.5448730</td><td>0.3677344</td><td>0.3715892</td><td>⋯</td><td>0.3099842</td><td>0.3779669</td><td>0.5493078</td><td>0.3734032</td><td>0.3777950</td><td>0.5365715</td><td>0.5273057</td><td>0.3596763</td><td>1.0000000</td><td>0.3432237</td></tr>\n",
       "\t<tr><th scope=row>s__Alistipes_sp900290115</th><td>0.2832872</td><td>0.6293608</td><td>0.6335951</td><td>0.2792224</td><td>0.7015491</td><td>0.6951666</td><td>0.1739880</td><td>0.2778141</td><td>0.6968565</td><td>0.7007113</td><td>⋯</td><td>0.6391064</td><td>0.7070890</td><td>0.2822489</td><td>0.7025253</td><td>0.7069171</td><td>0.2695126</td><td>0.2602468</td><td>0.6887985</td><td>0.3432237</td><td>1.0000000</td></tr>\n",
       "</tbody>\n",
       "</table>\n"
      ],
      "text/latex": [
       "A matrix: 198 × 198 of type dbl\n",
       "\\begin{tabular}{r|lllllllllllllllllllll}\n",
       "  & s\\_\\_Eubacterium\\_G\\_ventriosum & s\\_\\_Prevotella\\_sp000436035 & s\\_\\_Prevotella\\_sp002440225 & s\\_\\_Acetatifactor\\_sp900066365 & s\\_\\_Bacteroides\\_A\\_coprocola & s\\_\\_Bacteroides\\_sp002491635 & s\\_\\_Bifidobacterium\\_bifidum & s\\_\\_CAG-180\\_sp000432435 & s\\_\\_Bacteroides\\_stercoris & s\\_\\_Bacteroides\\_ovatus & ⋯ & s\\_\\_Prevotella\\_stercorea & s\\_\\_Bacteroides\\_B\\_sartorii & s\\_\\_Blautia\\_A\\_sp900066205 & s\\_\\_Bacteroides\\_faecis & s\\_\\_Bacteroides\\_B\\_dorei & s\\_\\_Coprococcus\\_eutactus\\_A & s\\_\\_Ruminiclostridium\\_E\\_siraeum & s\\_\\_CAG-279\\_sp000437795 & s\\_\\_Megamonas\\_funiformis & s\\_\\_Alistipes\\_sp900290115\\\\\n",
       "\\hline\n",
       "\ts\\_\\_Eubacterium\\_G\\_ventriosum & 1.0000000 & 0.2403022 & 0.2445365 & 0.8133593 & 0.3124905 & 0.3061080 & 0.3120918 & 0.6088624 & 0.3077979 & 0.3116527 & ⋯ & 0.2500477 & 0.3180304 & 0.8163858 & 0.3134667 & 0.3178585 & 0.8112827 & 0.5912951 & 0.2997398 & 0.5503461 & 0.2832872\\\\\n",
       "\ts\\_\\_Prevotella\\_sp000436035 & 0.2403022 & 1.0000000 & 0.9800840 & 0.2362373 & 0.8383808 & 0.8319983 & 0.1310030 & 0.2348291 & 0.8336882 & 0.8375430 & ⋯ & 0.9123807 & 0.8439207 & 0.2392639 & 0.8393570 & 0.8437488 & 0.2265276 & 0.2172618 & 0.7912784 & 0.3002387 & 0.6293608\\\\\n",
       "\t⋮ & ⋮ & ⋮ & ⋮ & ⋮ & ⋮ & ⋮ & ⋮ & ⋮ & ⋮ & ⋮ & ⋱ & ⋮ & ⋮ & ⋮ & ⋮ & ⋮ & ⋮ & ⋮ & ⋮ & ⋮ & ⋮\\\\\n",
       "\ts\\_\\_Megamonas\\_funiformis & 0.5503461 & 0.3002387 & 0.3044730 & 0.5462813 & 0.3724270 & 0.3660445 & 0.3720284 & 0.5448730 & 0.3677344 & 0.3715892 & ⋯ & 0.3099842 & 0.3779669 & 0.5493078 & 0.3734032 & 0.3777950 & 0.5365715 & 0.5273057 & 0.3596763 & 1.0000000 & 0.3432237\\\\\n",
       "\ts\\_\\_Alistipes\\_sp900290115 & 0.2832872 & 0.6293608 & 0.6335951 & 0.2792224 & 0.7015491 & 0.6951666 & 0.1739880 & 0.2778141 & 0.6968565 & 0.7007113 & ⋯ & 0.6391064 & 0.7070890 & 0.2822489 & 0.7025253 & 0.7069171 & 0.2695126 & 0.2602468 & 0.6887985 & 0.3432237 & 1.0000000\\\\\n",
       "\\end{tabular}\n"
      ],
      "text/markdown": [
       "\n",
       "A matrix: 198 × 198 of type dbl\n",
       "\n",
       "| <!--/--> | s__Eubacterium_G_ventriosum | s__Prevotella_sp000436035 | s__Prevotella_sp002440225 | s__Acetatifactor_sp900066365 | s__Bacteroides_A_coprocola | s__Bacteroides_sp002491635 | s__Bifidobacterium_bifidum | s__CAG-180_sp000432435 | s__Bacteroides_stercoris | s__Bacteroides_ovatus | ⋯ | s__Prevotella_stercorea | s__Bacteroides_B_sartorii | s__Blautia_A_sp900066205 | s__Bacteroides_faecis | s__Bacteroides_B_dorei | s__Coprococcus_eutactus_A | s__Ruminiclostridium_E_siraeum | s__CAG-279_sp000437795 | s__Megamonas_funiformis | s__Alistipes_sp900290115 |\n",
       "|---|---|---|---|---|---|---|---|---|---|---|---|---|---|---|---|---|---|---|---|---|---|\n",
       "| s__Eubacterium_G_ventriosum | 1.0000000 | 0.2403022 | 0.2445365 | 0.8133593 | 0.3124905 | 0.3061080 | 0.3120918 | 0.6088624 | 0.3077979 | 0.3116527 | ⋯ | 0.2500477 | 0.3180304 | 0.8163858 | 0.3134667 | 0.3178585 | 0.8112827 | 0.5912951 | 0.2997398 | 0.5503461 | 0.2832872 |\n",
       "| s__Prevotella_sp000436035 | 0.2403022 | 1.0000000 | 0.9800840 | 0.2362373 | 0.8383808 | 0.8319983 | 0.1310030 | 0.2348291 | 0.8336882 | 0.8375430 | ⋯ | 0.9123807 | 0.8439207 | 0.2392639 | 0.8393570 | 0.8437488 | 0.2265276 | 0.2172618 | 0.7912784 | 0.3002387 | 0.6293608 |\n",
       "| ⋮ | ⋮ | ⋮ | ⋮ | ⋮ | ⋮ | ⋮ | ⋮ | ⋮ | ⋮ | ⋮ | ⋱ | ⋮ | ⋮ | ⋮ | ⋮ | ⋮ | ⋮ | ⋮ | ⋮ | ⋮ | ⋮ |\n",
       "| s__Megamonas_funiformis | 0.5503461 | 0.3002387 | 0.3044730 | 0.5462813 | 0.3724270 | 0.3660445 | 0.3720284 | 0.5448730 | 0.3677344 | 0.3715892 | ⋯ | 0.3099842 | 0.3779669 | 0.5493078 | 0.3734032 | 0.3777950 | 0.5365715 | 0.5273057 | 0.3596763 | 1.0000000 | 0.3432237 |\n",
       "| s__Alistipes_sp900290115 | 0.2832872 | 0.6293608 | 0.6335951 | 0.2792224 | 0.7015491 | 0.6951666 | 0.1739880 | 0.2778141 | 0.6968565 | 0.7007113 | ⋯ | 0.6391064 | 0.7070890 | 0.2822489 | 0.7025253 | 0.7069171 | 0.2695126 | 0.2602468 | 0.6887985 | 0.3432237 | 1.0000000 |\n",
       "\n"
      ],
      "text/plain": [
       "                            s__Eubacterium_G_ventriosum\n",
       "s__Eubacterium_G_ventriosum 1.0000000                  \n",
       "s__Prevotella_sp000436035   0.2403022                  \n",
       "⋮                           ⋮                          \n",
       "s__Megamonas_funiformis     0.5503461                  \n",
       "s__Alistipes_sp900290115    0.2832872                  \n",
       "                            s__Prevotella_sp000436035 s__Prevotella_sp002440225\n",
       "s__Eubacterium_G_ventriosum 0.2403022                 0.2445365                \n",
       "s__Prevotella_sp000436035   1.0000000                 0.9800840                \n",
       "⋮                           ⋮                         ⋮                        \n",
       "s__Megamonas_funiformis     0.3002387                 0.3044730                \n",
       "s__Alistipes_sp900290115    0.6293608                 0.6335951                \n",
       "                            s__Acetatifactor_sp900066365\n",
       "s__Eubacterium_G_ventriosum 0.8133593                   \n",
       "s__Prevotella_sp000436035   0.2362373                   \n",
       "⋮                           ⋮                           \n",
       "s__Megamonas_funiformis     0.5462813                   \n",
       "s__Alistipes_sp900290115    0.2792224                   \n",
       "                            s__Bacteroides_A_coprocola\n",
       "s__Eubacterium_G_ventriosum 0.3124905                 \n",
       "s__Prevotella_sp000436035   0.8383808                 \n",
       "⋮                           ⋮                         \n",
       "s__Megamonas_funiformis     0.3724270                 \n",
       "s__Alistipes_sp900290115    0.7015491                 \n",
       "                            s__Bacteroides_sp002491635\n",
       "s__Eubacterium_G_ventriosum 0.3061080                 \n",
       "s__Prevotella_sp000436035   0.8319983                 \n",
       "⋮                           ⋮                         \n",
       "s__Megamonas_funiformis     0.3660445                 \n",
       "s__Alistipes_sp900290115    0.6951666                 \n",
       "                            s__Bifidobacterium_bifidum s__CAG-180_sp000432435\n",
       "s__Eubacterium_G_ventriosum 0.3120918                  0.6088624             \n",
       "s__Prevotella_sp000436035   0.1310030                  0.2348291             \n",
       "⋮                           ⋮                          ⋮                     \n",
       "s__Megamonas_funiformis     0.3720284                  0.5448730             \n",
       "s__Alistipes_sp900290115    0.1739880                  0.2778141             \n",
       "                            s__Bacteroides_stercoris s__Bacteroides_ovatus ⋯\n",
       "s__Eubacterium_G_ventriosum 0.3077979                0.3116527             ⋯\n",
       "s__Prevotella_sp000436035   0.8336882                0.8375430             ⋯\n",
       "⋮                           ⋮                        ⋮                     ⋱\n",
       "s__Megamonas_funiformis     0.3677344                0.3715892             ⋯\n",
       "s__Alistipes_sp900290115    0.6968565                0.7007113             ⋯\n",
       "                            s__Prevotella_stercorea s__Bacteroides_B_sartorii\n",
       "s__Eubacterium_G_ventriosum 0.2500477               0.3180304                \n",
       "s__Prevotella_sp000436035   0.9123807               0.8439207                \n",
       "⋮                           ⋮                       ⋮                        \n",
       "s__Megamonas_funiformis     0.3099842               0.3779669                \n",
       "s__Alistipes_sp900290115    0.6391064               0.7070890                \n",
       "                            s__Blautia_A_sp900066205 s__Bacteroides_faecis\n",
       "s__Eubacterium_G_ventriosum 0.8163858                0.3134667            \n",
       "s__Prevotella_sp000436035   0.2392639                0.8393570            \n",
       "⋮                           ⋮                        ⋮                    \n",
       "s__Megamonas_funiformis     0.5493078                0.3734032            \n",
       "s__Alistipes_sp900290115    0.2822489                0.7025253            \n",
       "                            s__Bacteroides_B_dorei s__Coprococcus_eutactus_A\n",
       "s__Eubacterium_G_ventriosum 0.3178585              0.8112827                \n",
       "s__Prevotella_sp000436035   0.8437488              0.2265276                \n",
       "⋮                           ⋮                      ⋮                        \n",
       "s__Megamonas_funiformis     0.3777950              0.5365715                \n",
       "s__Alistipes_sp900290115    0.7069171              0.2695126                \n",
       "                            s__Ruminiclostridium_E_siraeum\n",
       "s__Eubacterium_G_ventriosum 0.5912951                     \n",
       "s__Prevotella_sp000436035   0.2172618                     \n",
       "⋮                           ⋮                             \n",
       "s__Megamonas_funiformis     0.5273057                     \n",
       "s__Alistipes_sp900290115    0.2602468                     \n",
       "                            s__CAG-279_sp000437795 s__Megamonas_funiformis\n",
       "s__Eubacterium_G_ventriosum 0.2997398              0.5503461              \n",
       "s__Prevotella_sp000436035   0.7912784              0.3002387              \n",
       "⋮                           ⋮                      ⋮                      \n",
       "s__Megamonas_funiformis     0.3596763              1.0000000              \n",
       "s__Alistipes_sp900290115    0.6887985              0.3432237              \n",
       "                            s__Alistipes_sp900290115\n",
       "s__Eubacterium_G_ventriosum 0.2832872               \n",
       "s__Prevotella_sp000436035   0.6293608               \n",
       "⋮                           ⋮                       \n",
       "s__Megamonas_funiformis     0.3432237               \n",
       "s__Alistipes_sp900290115    1.0000000               "
      ]
     },
     "metadata": {},
     "output_type": "display_data"
    }
   ],
   "source": [
    "# to correlation matrix\n",
    "phy_fm = cophenetic(phy_f) \n",
    "phy_fm = scales::rescale(phy_fm)\n",
    "phy_fm = 1 - phy_fm[rownames(brk_f),rownames(brk_f)]\n",
    "phy_fm"
   ]
  },
  {
   "cell_type": "markdown",
   "metadata": {},
   "source": [
    "## Trait"
   ]
  },
  {
   "cell_type": "code",
   "execution_count": 195,
   "metadata": {
    "ExecuteTime": {
     "end_time": "2020-11-02T20:18:07.422577Z",
     "start_time": "2020-11-02T20:18:06.443Z"
    }
   },
   "outputs": [
    {
     "data": {
      "text/plain": [
       "\n",
       "Phylogenetic tree with 198 tips and 197 internal nodes.\n",
       "\n",
       "Tip labels:\n",
       "\ts__Escherichia_coli, s__Escherichia_coli_C, s__Escherichia_coli_D, s__Escherichia_dysenteriae, s__Escherichia_flexneri, s__Klebsiella_pneumoniae, ...\n",
       "\n",
       "Rooted; includes branch lengths."
      ]
     },
     "metadata": {},
     "output_type": "display_data"
    }
   ],
   "source": [
    "# pruning\n",
    "to_rm = setdiff(trt$tip.label, rownames(brk_f))\n",
    "trt_f = ape::drop.tip(trt, to_rm)\n",
    "trt_f"
   ]
  },
  {
   "cell_type": "code",
   "execution_count": 196,
   "metadata": {
    "ExecuteTime": {
     "end_time": "2020-11-02T20:18:07.461886Z",
     "start_time": "2020-11-02T20:18:06.569Z"
    }
   },
   "outputs": [
    {
     "data": {
      "text/html": [
       "<table>\n",
       "<caption>A matrix: 198 × 198 of type dbl</caption>\n",
       "<thead>\n",
       "\t<tr><th></th><th scope=col>s__Eubacterium_G_ventriosum</th><th scope=col>s__Prevotella_sp000436035</th><th scope=col>s__Prevotella_sp002440225</th><th scope=col>s__Acetatifactor_sp900066365</th><th scope=col>s__Bacteroides_A_coprocola</th><th scope=col>s__Bacteroides_sp002491635</th><th scope=col>s__Bifidobacterium_bifidum</th><th scope=col>s__CAG-180_sp000432435</th><th scope=col>s__Bacteroides_stercoris</th><th scope=col>s__Bacteroides_ovatus</th><th scope=col>⋯</th><th scope=col>s__Prevotella_stercorea</th><th scope=col>s__Bacteroides_B_sartorii</th><th scope=col>s__Blautia_A_sp900066205</th><th scope=col>s__Bacteroides_faecis</th><th scope=col>s__Bacteroides_B_dorei</th><th scope=col>s__Coprococcus_eutactus_A</th><th scope=col>s__Ruminiclostridium_E_siraeum</th><th scope=col>s__CAG-279_sp000437795</th><th scope=col>s__Megamonas_funiformis</th><th scope=col>s__Alistipes_sp900290115</th></tr>\n",
       "</thead>\n",
       "<tbody>\n",
       "\t<tr><th scope=row>s__Eubacterium_G_ventriosum</th><td>1.0000000</td><td>0.2488917</td><td>0.2488917</td><td>0.5165172</td><td>0.2488917</td><td>0.2488917</td><td>0.3384942</td><td>0.3384942</td><td>0.2488917</td><td>0.2488917</td><td>⋯</td><td>0.2488917</td><td>0.2488917</td><td>0.3384942</td><td>0.2488917</td><td>0.2488917</td><td>0.3384942</td><td>0.3384942</td><td>0.2488917</td><td>0.1731299</td><td>0.2488917</td></tr>\n",
       "\t<tr><th scope=row>s__Prevotella_sp000436035</th><td>0.2488917</td><td>1.0000000</td><td>0.6619839</td><td>0.2488917</td><td>0.5283590</td><td>0.5283590</td><td>0.2488917</td><td>0.2488917</td><td>0.5283590</td><td>0.5283590</td><td>⋯</td><td>0.5947696</td><td>0.5283590</td><td>0.2488917</td><td>0.5283590</td><td>0.5283590</td><td>0.2488917</td><td>0.2488917</td><td>0.4693376</td><td>0.1731299</td><td>0.4693376</td></tr>\n",
       "\t<tr><th scope=row>⋮</th><td>⋮</td><td>⋮</td><td>⋮</td><td>⋮</td><td>⋮</td><td>⋮</td><td>⋮</td><td>⋮</td><td>⋮</td><td>⋮</td><td>⋱</td><td>⋮</td><td>⋮</td><td>⋮</td><td>⋮</td><td>⋮</td><td>⋮</td><td>⋮</td><td>⋮</td><td>⋮</td><td>⋮</td></tr>\n",
       "\t<tr><th scope=row>s__Megamonas_funiformis</th><td>0.1731299</td><td>0.1731299</td><td>0.1731299</td><td>0.1731299</td><td>0.1731299</td><td>0.1731299</td><td>0.1731299</td><td>0.1731299</td><td>0.1731299</td><td>0.1731299</td><td>⋯</td><td>0.1731299</td><td>0.1731299</td><td>0.1731299</td><td>0.1731299</td><td>0.1731299</td><td>0.1731299</td><td>0.1731299</td><td>0.1731299</td><td>1.0000000</td><td>0.1731299</td></tr>\n",
       "\t<tr><th scope=row>s__Alistipes_sp900290115</th><td>0.2488917</td><td>0.4693376</td><td>0.4693376</td><td>0.2488917</td><td>0.4693376</td><td>0.4693376</td><td>0.2488917</td><td>0.2488917</td><td>0.4693376</td><td>0.4693376</td><td>⋯</td><td>0.4693376</td><td>0.4693376</td><td>0.2488917</td><td>0.4693376</td><td>0.4693376</td><td>0.2488917</td><td>0.2488917</td><td>0.6349011</td><td>0.1731299</td><td>1.0000000</td></tr>\n",
       "</tbody>\n",
       "</table>\n"
      ],
      "text/latex": [
       "A matrix: 198 × 198 of type dbl\n",
       "\\begin{tabular}{r|lllllllllllllllllllll}\n",
       "  & s\\_\\_Eubacterium\\_G\\_ventriosum & s\\_\\_Prevotella\\_sp000436035 & s\\_\\_Prevotella\\_sp002440225 & s\\_\\_Acetatifactor\\_sp900066365 & s\\_\\_Bacteroides\\_A\\_coprocola & s\\_\\_Bacteroides\\_sp002491635 & s\\_\\_Bifidobacterium\\_bifidum & s\\_\\_CAG-180\\_sp000432435 & s\\_\\_Bacteroides\\_stercoris & s\\_\\_Bacteroides\\_ovatus & ⋯ & s\\_\\_Prevotella\\_stercorea & s\\_\\_Bacteroides\\_B\\_sartorii & s\\_\\_Blautia\\_A\\_sp900066205 & s\\_\\_Bacteroides\\_faecis & s\\_\\_Bacteroides\\_B\\_dorei & s\\_\\_Coprococcus\\_eutactus\\_A & s\\_\\_Ruminiclostridium\\_E\\_siraeum & s\\_\\_CAG-279\\_sp000437795 & s\\_\\_Megamonas\\_funiformis & s\\_\\_Alistipes\\_sp900290115\\\\\n",
       "\\hline\n",
       "\ts\\_\\_Eubacterium\\_G\\_ventriosum & 1.0000000 & 0.2488917 & 0.2488917 & 0.5165172 & 0.2488917 & 0.2488917 & 0.3384942 & 0.3384942 & 0.2488917 & 0.2488917 & ⋯ & 0.2488917 & 0.2488917 & 0.3384942 & 0.2488917 & 0.2488917 & 0.3384942 & 0.3384942 & 0.2488917 & 0.1731299 & 0.2488917\\\\\n",
       "\ts\\_\\_Prevotella\\_sp000436035 & 0.2488917 & 1.0000000 & 0.6619839 & 0.2488917 & 0.5283590 & 0.5283590 & 0.2488917 & 0.2488917 & 0.5283590 & 0.5283590 & ⋯ & 0.5947696 & 0.5283590 & 0.2488917 & 0.5283590 & 0.5283590 & 0.2488917 & 0.2488917 & 0.4693376 & 0.1731299 & 0.4693376\\\\\n",
       "\t⋮ & ⋮ & ⋮ & ⋮ & ⋮ & ⋮ & ⋮ & ⋮ & ⋮ & ⋮ & ⋮ & ⋱ & ⋮ & ⋮ & ⋮ & ⋮ & ⋮ & ⋮ & ⋮ & ⋮ & ⋮ & ⋮\\\\\n",
       "\ts\\_\\_Megamonas\\_funiformis & 0.1731299 & 0.1731299 & 0.1731299 & 0.1731299 & 0.1731299 & 0.1731299 & 0.1731299 & 0.1731299 & 0.1731299 & 0.1731299 & ⋯ & 0.1731299 & 0.1731299 & 0.1731299 & 0.1731299 & 0.1731299 & 0.1731299 & 0.1731299 & 0.1731299 & 1.0000000 & 0.1731299\\\\\n",
       "\ts\\_\\_Alistipes\\_sp900290115 & 0.2488917 & 0.4693376 & 0.4693376 & 0.2488917 & 0.4693376 & 0.4693376 & 0.2488917 & 0.2488917 & 0.4693376 & 0.4693376 & ⋯ & 0.4693376 & 0.4693376 & 0.2488917 & 0.4693376 & 0.4693376 & 0.2488917 & 0.2488917 & 0.6349011 & 0.1731299 & 1.0000000\\\\\n",
       "\\end{tabular}\n"
      ],
      "text/markdown": [
       "\n",
       "A matrix: 198 × 198 of type dbl\n",
       "\n",
       "| <!--/--> | s__Eubacterium_G_ventriosum | s__Prevotella_sp000436035 | s__Prevotella_sp002440225 | s__Acetatifactor_sp900066365 | s__Bacteroides_A_coprocola | s__Bacteroides_sp002491635 | s__Bifidobacterium_bifidum | s__CAG-180_sp000432435 | s__Bacteroides_stercoris | s__Bacteroides_ovatus | ⋯ | s__Prevotella_stercorea | s__Bacteroides_B_sartorii | s__Blautia_A_sp900066205 | s__Bacteroides_faecis | s__Bacteroides_B_dorei | s__Coprococcus_eutactus_A | s__Ruminiclostridium_E_siraeum | s__CAG-279_sp000437795 | s__Megamonas_funiformis | s__Alistipes_sp900290115 |\n",
       "|---|---|---|---|---|---|---|---|---|---|---|---|---|---|---|---|---|---|---|---|---|---|\n",
       "| s__Eubacterium_G_ventriosum | 1.0000000 | 0.2488917 | 0.2488917 | 0.5165172 | 0.2488917 | 0.2488917 | 0.3384942 | 0.3384942 | 0.2488917 | 0.2488917 | ⋯ | 0.2488917 | 0.2488917 | 0.3384942 | 0.2488917 | 0.2488917 | 0.3384942 | 0.3384942 | 0.2488917 | 0.1731299 | 0.2488917 |\n",
       "| s__Prevotella_sp000436035 | 0.2488917 | 1.0000000 | 0.6619839 | 0.2488917 | 0.5283590 | 0.5283590 | 0.2488917 | 0.2488917 | 0.5283590 | 0.5283590 | ⋯ | 0.5947696 | 0.5283590 | 0.2488917 | 0.5283590 | 0.5283590 | 0.2488917 | 0.2488917 | 0.4693376 | 0.1731299 | 0.4693376 |\n",
       "| ⋮ | ⋮ | ⋮ | ⋮ | ⋮ | ⋮ | ⋮ | ⋮ | ⋮ | ⋮ | ⋮ | ⋱ | ⋮ | ⋮ | ⋮ | ⋮ | ⋮ | ⋮ | ⋮ | ⋮ | ⋮ | ⋮ |\n",
       "| s__Megamonas_funiformis | 0.1731299 | 0.1731299 | 0.1731299 | 0.1731299 | 0.1731299 | 0.1731299 | 0.1731299 | 0.1731299 | 0.1731299 | 0.1731299 | ⋯ | 0.1731299 | 0.1731299 | 0.1731299 | 0.1731299 | 0.1731299 | 0.1731299 | 0.1731299 | 0.1731299 | 1.0000000 | 0.1731299 |\n",
       "| s__Alistipes_sp900290115 | 0.2488917 | 0.4693376 | 0.4693376 | 0.2488917 | 0.4693376 | 0.4693376 | 0.2488917 | 0.2488917 | 0.4693376 | 0.4693376 | ⋯ | 0.4693376 | 0.4693376 | 0.2488917 | 0.4693376 | 0.4693376 | 0.2488917 | 0.2488917 | 0.6349011 | 0.1731299 | 1.0000000 |\n",
       "\n"
      ],
      "text/plain": [
       "                            s__Eubacterium_G_ventriosum\n",
       "s__Eubacterium_G_ventriosum 1.0000000                  \n",
       "s__Prevotella_sp000436035   0.2488917                  \n",
       "⋮                           ⋮                          \n",
       "s__Megamonas_funiformis     0.1731299                  \n",
       "s__Alistipes_sp900290115    0.2488917                  \n",
       "                            s__Prevotella_sp000436035 s__Prevotella_sp002440225\n",
       "s__Eubacterium_G_ventriosum 0.2488917                 0.2488917                \n",
       "s__Prevotella_sp000436035   1.0000000                 0.6619839                \n",
       "⋮                           ⋮                         ⋮                        \n",
       "s__Megamonas_funiformis     0.1731299                 0.1731299                \n",
       "s__Alistipes_sp900290115    0.4693376                 0.4693376                \n",
       "                            s__Acetatifactor_sp900066365\n",
       "s__Eubacterium_G_ventriosum 0.5165172                   \n",
       "s__Prevotella_sp000436035   0.2488917                   \n",
       "⋮                           ⋮                           \n",
       "s__Megamonas_funiformis     0.1731299                   \n",
       "s__Alistipes_sp900290115    0.2488917                   \n",
       "                            s__Bacteroides_A_coprocola\n",
       "s__Eubacterium_G_ventriosum 0.2488917                 \n",
       "s__Prevotella_sp000436035   0.5283590                 \n",
       "⋮                           ⋮                         \n",
       "s__Megamonas_funiformis     0.1731299                 \n",
       "s__Alistipes_sp900290115    0.4693376                 \n",
       "                            s__Bacteroides_sp002491635\n",
       "s__Eubacterium_G_ventriosum 0.2488917                 \n",
       "s__Prevotella_sp000436035   0.5283590                 \n",
       "⋮                           ⋮                         \n",
       "s__Megamonas_funiformis     0.1731299                 \n",
       "s__Alistipes_sp900290115    0.4693376                 \n",
       "                            s__Bifidobacterium_bifidum s__CAG-180_sp000432435\n",
       "s__Eubacterium_G_ventriosum 0.3384942                  0.3384942             \n",
       "s__Prevotella_sp000436035   0.2488917                  0.2488917             \n",
       "⋮                           ⋮                          ⋮                     \n",
       "s__Megamonas_funiformis     0.1731299                  0.1731299             \n",
       "s__Alistipes_sp900290115    0.2488917                  0.2488917             \n",
       "                            s__Bacteroides_stercoris s__Bacteroides_ovatus ⋯\n",
       "s__Eubacterium_G_ventriosum 0.2488917                0.2488917             ⋯\n",
       "s__Prevotella_sp000436035   0.5283590                0.5283590             ⋯\n",
       "⋮                           ⋮                        ⋮                     ⋱\n",
       "s__Megamonas_funiformis     0.1731299                0.1731299             ⋯\n",
       "s__Alistipes_sp900290115    0.4693376                0.4693376             ⋯\n",
       "                            s__Prevotella_stercorea s__Bacteroides_B_sartorii\n",
       "s__Eubacterium_G_ventriosum 0.2488917               0.2488917                \n",
       "s__Prevotella_sp000436035   0.5947696               0.5283590                \n",
       "⋮                           ⋮                       ⋮                        \n",
       "s__Megamonas_funiformis     0.1731299               0.1731299                \n",
       "s__Alistipes_sp900290115    0.4693376               0.4693376                \n",
       "                            s__Blautia_A_sp900066205 s__Bacteroides_faecis\n",
       "s__Eubacterium_G_ventriosum 0.3384942                0.2488917            \n",
       "s__Prevotella_sp000436035   0.2488917                0.5283590            \n",
       "⋮                           ⋮                        ⋮                    \n",
       "s__Megamonas_funiformis     0.1731299                0.1731299            \n",
       "s__Alistipes_sp900290115    0.2488917                0.4693376            \n",
       "                            s__Bacteroides_B_dorei s__Coprococcus_eutactus_A\n",
       "s__Eubacterium_G_ventriosum 0.2488917              0.3384942                \n",
       "s__Prevotella_sp000436035   0.5283590              0.2488917                \n",
       "⋮                           ⋮                      ⋮                        \n",
       "s__Megamonas_funiformis     0.1731299              0.1731299                \n",
       "s__Alistipes_sp900290115    0.4693376              0.2488917                \n",
       "                            s__Ruminiclostridium_E_siraeum\n",
       "s__Eubacterium_G_ventriosum 0.3384942                     \n",
       "s__Prevotella_sp000436035   0.2488917                     \n",
       "⋮                           ⋮                             \n",
       "s__Megamonas_funiformis     0.1731299                     \n",
       "s__Alistipes_sp900290115    0.2488917                     \n",
       "                            s__CAG-279_sp000437795 s__Megamonas_funiformis\n",
       "s__Eubacterium_G_ventriosum 0.2488917              0.1731299              \n",
       "s__Prevotella_sp000436035   0.4693376              0.1731299              \n",
       "⋮                           ⋮                      ⋮                      \n",
       "s__Megamonas_funiformis     0.1731299              1.0000000              \n",
       "s__Alistipes_sp900290115    0.6349011              0.1731299              \n",
       "                            s__Alistipes_sp900290115\n",
       "s__Eubacterium_G_ventriosum 0.2488917               \n",
       "s__Prevotella_sp000436035   0.4693376               \n",
       "⋮                           ⋮                       \n",
       "s__Megamonas_funiformis     0.1731299               \n",
       "s__Alistipes_sp900290115    1.0000000               "
      ]
     },
     "metadata": {},
     "output_type": "display_data"
    }
   ],
   "source": [
    "# to correlation matrix\n",
    "trt_fm = cophenetic(trt_f) \n",
    "trt_fm = scales::rescale(trt_fm)\n",
    "trt_fm = 1 - trt_fm[rownames(brk_f),rownames(brk_f)]\n",
    "trt_fm"
   ]
  },
  {
   "cell_type": "markdown",
   "metadata": {},
   "source": [
    "# Features\n",
    "\n",
    "* `X_train.npy`\n",
    "  * sample x taxon\n",
    "* `Y_train.npy`\n",
    "  * sample (target variable)\n",
    "* `X_test.npy`\n",
    "  * sample x taxon\n",
    "* `Y_test.npy`\n",
    "  * sample (target variable)\n",
    "* `c.npy`\n",
    "  * taxon x taxon"
   ]
  },
  {
   "cell_type": "markdown",
   "metadata": {
    "ExecuteTime": {
     "end_time": "2020-10-30T14:27:08.427021Z",
     "start_time": "2020-10-30T14:27:08.370Z"
    }
   },
   "source": [
    "## Train-test split"
   ]
  },
  {
   "cell_type": "code",
   "execution_count": 186,
   "metadata": {
    "ExecuteTime": {
     "end_time": "2020-11-02T20:07:58.782670Z",
     "start_time": "2020-11-02T20:07:56.359Z"
    }
   },
   "outputs": [
    {
     "data": {
      "text/html": [
       "1543"
      ],
      "text/latex": [
       "1543"
      ],
      "text/markdown": [
       "1543"
      ],
      "text/plain": [
       "[1] 1543"
      ]
     },
     "metadata": {},
     "output_type": "display_data"
    },
    {
     "data": {
      "text/html": [
       "386"
      ],
      "text/latex": [
       "386"
      ],
      "text/markdown": [
       "386"
      ],
      "text/plain": [
       "[1] 386"
      ]
     },
     "metadata": {},
     "output_type": "display_data"
    }
   ],
   "source": [
    "# random sampling\n",
    "x = brk_f %>% colnames\n",
    "x_train = sample(x, length(x) * 0.8)\n",
    "x_test = setdiff(x, x_train)\n",
    "x_train %>% length\n",
    "x_test %>% length"
   ]
  },
  {
   "cell_type": "code",
   "execution_count": 187,
   "metadata": {
    "ExecuteTime": {
     "end_time": "2020-11-02T20:08:00.925320Z",
     "start_time": "2020-11-02T20:08:00.840Z"
    }
   },
   "outputs": [
    {
     "data": {
      "text/html": [
       "<table>\n",
       "<caption>A matrix: 1543 × 198 of type dbl</caption>\n",
       "<thead>\n",
       "\t<tr><th></th><th scope=col>s__Eubacterium_G_ventriosum</th><th scope=col>s__Prevotella_sp000436035</th><th scope=col>s__Prevotella_sp002440225</th><th scope=col>s__Acetatifactor_sp900066365</th><th scope=col>s__Bacteroides_A_coprocola</th><th scope=col>s__Bacteroides_sp002491635</th><th scope=col>s__Bifidobacterium_bifidum</th><th scope=col>s__CAG-180_sp000432435</th><th scope=col>s__Bacteroides_stercoris</th><th scope=col>s__Bacteroides_ovatus</th><th scope=col>⋯</th><th scope=col>s__Prevotella_stercorea</th><th scope=col>s__Bacteroides_B_sartorii</th><th scope=col>s__Blautia_A_sp900066205</th><th scope=col>s__Bacteroides_faecis</th><th scope=col>s__Bacteroides_B_dorei</th><th scope=col>s__Coprococcus_eutactus_A</th><th scope=col>s__Ruminiclostridium_E_siraeum</th><th scope=col>s__CAG-279_sp000437795</th><th scope=col>s__Megamonas_funiformis</th><th scope=col>s__Alistipes_sp900290115</th></tr>\n",
       "</thead>\n",
       "<tbody>\n",
       "\t<tr><th scope=row>YSZC12003_36675</th><td>0.00027</td><td>0</td><td>0</td><td>0.00097</td><td>0</td><td>0.00017</td><td>0</td><td>0.08107</td><td>0.00020</td><td>0.00113</td><td>⋯</td><td>0</td><td>0.00040</td><td>0.00255</td><td>0.00043</td><td>0.00114</td><td>0.00108</td><td>0.00018</td><td>0</td><td>0</td><td>0.00968</td></tr>\n",
       "\t<tr><th scope=row>YSZC12003_35391</th><td>0.00089</td><td>0</td><td>0</td><td>0.00169</td><td>0</td><td>0.00163</td><td>0</td><td>0.00000</td><td>0.00065</td><td>0.00869</td><td>⋯</td><td>0</td><td>0.00186</td><td>0.00659</td><td>0.00089</td><td>0.07277</td><td>0.01286</td><td>0.00021</td><td>0</td><td>0</td><td>0.00000</td></tr>\n",
       "\t<tr><th scope=row>⋮</th><td>⋮</td><td>⋮</td><td>⋮</td><td>⋮</td><td>⋮</td><td>⋮</td><td>⋮</td><td>⋮</td><td>⋮</td><td>⋮</td><td>⋱</td><td>⋮</td><td>⋮</td><td>⋮</td><td>⋮</td><td>⋮</td><td>⋮</td><td>⋮</td><td>⋮</td><td>⋮</td><td>⋮</td></tr>\n",
       "\t<tr><th scope=row>SID530154</th><td>4e-04</td><td>0.0000</td><td>0.00000</td><td>0.00028</td><td>0</td><td>0.00000</td><td>0.00037</td><td>0.00000</td><td>0.00000</td><td>0.00000</td><td>⋯</td><td>0.0000</td><td>0.00000</td><td>0.01863</td><td>0.00000</td><td>0.0000</td><td>0.00000</td><td>0.00000</td><td>0.00000</td><td>0</td><td>0</td></tr>\n",
       "\t<tr><th scope=row>YSZC12003_37315</th><td>0e+00</td><td>0.0011</td><td>0.00157</td><td>0.00116</td><td>0</td><td>0.00184</td><td>0.00000</td><td>0.01681</td><td>0.00038</td><td>0.00141</td><td>⋯</td><td>0.0046</td><td>0.00084</td><td>0.00046</td><td>0.00096</td><td>0.0412</td><td>0.00047</td><td>0.00025</td><td>0.00038</td><td>0</td><td>0</td></tr>\n",
       "</tbody>\n",
       "</table>\n"
      ],
      "text/latex": [
       "A matrix: 1543 × 198 of type dbl\n",
       "\\begin{tabular}{r|lllllllllllllllllllll}\n",
       "  & s\\_\\_Eubacterium\\_G\\_ventriosum & s\\_\\_Prevotella\\_sp000436035 & s\\_\\_Prevotella\\_sp002440225 & s\\_\\_Acetatifactor\\_sp900066365 & s\\_\\_Bacteroides\\_A\\_coprocola & s\\_\\_Bacteroides\\_sp002491635 & s\\_\\_Bifidobacterium\\_bifidum & s\\_\\_CAG-180\\_sp000432435 & s\\_\\_Bacteroides\\_stercoris & s\\_\\_Bacteroides\\_ovatus & ⋯ & s\\_\\_Prevotella\\_stercorea & s\\_\\_Bacteroides\\_B\\_sartorii & s\\_\\_Blautia\\_A\\_sp900066205 & s\\_\\_Bacteroides\\_faecis & s\\_\\_Bacteroides\\_B\\_dorei & s\\_\\_Coprococcus\\_eutactus\\_A & s\\_\\_Ruminiclostridium\\_E\\_siraeum & s\\_\\_CAG-279\\_sp000437795 & s\\_\\_Megamonas\\_funiformis & s\\_\\_Alistipes\\_sp900290115\\\\\n",
       "\\hline\n",
       "\tYSZC12003\\_36675 & 0.00027 & 0 & 0 & 0.00097 & 0 & 0.00017 & 0 & 0.08107 & 0.00020 & 0.00113 & ⋯ & 0 & 0.00040 & 0.00255 & 0.00043 & 0.00114 & 0.00108 & 0.00018 & 0 & 0 & 0.00968\\\\\n",
       "\tYSZC12003\\_35391 & 0.00089 & 0 & 0 & 0.00169 & 0 & 0.00163 & 0 & 0.00000 & 0.00065 & 0.00869 & ⋯ & 0 & 0.00186 & 0.00659 & 0.00089 & 0.07277 & 0.01286 & 0.00021 & 0 & 0 & 0.00000\\\\\n",
       "\t⋮ & ⋮ & ⋮ & ⋮ & ⋮ & ⋮ & ⋮ & ⋮ & ⋮ & ⋮ & ⋮ & ⋱ & ⋮ & ⋮ & ⋮ & ⋮ & ⋮ & ⋮ & ⋮ & ⋮ & ⋮ & ⋮\\\\\n",
       "\tSID530154 & 4e-04 & 0.0000 & 0.00000 & 0.00028 & 0 & 0.00000 & 0.00037 & 0.00000 & 0.00000 & 0.00000 & ⋯ & 0.0000 & 0.00000 & 0.01863 & 0.00000 & 0.0000 & 0.00000 & 0.00000 & 0.00000 & 0 & 0\\\\\n",
       "\tYSZC12003\\_37315 & 0e+00 & 0.0011 & 0.00157 & 0.00116 & 0 & 0.00184 & 0.00000 & 0.01681 & 0.00038 & 0.00141 & ⋯ & 0.0046 & 0.00084 & 0.00046 & 0.00096 & 0.0412 & 0.00047 & 0.00025 & 0.00038 & 0 & 0\\\\\n",
       "\\end{tabular}\n"
      ],
      "text/markdown": [
       "\n",
       "A matrix: 1543 × 198 of type dbl\n",
       "\n",
       "| <!--/--> | s__Eubacterium_G_ventriosum | s__Prevotella_sp000436035 | s__Prevotella_sp002440225 | s__Acetatifactor_sp900066365 | s__Bacteroides_A_coprocola | s__Bacteroides_sp002491635 | s__Bifidobacterium_bifidum | s__CAG-180_sp000432435 | s__Bacteroides_stercoris | s__Bacteroides_ovatus | ⋯ | s__Prevotella_stercorea | s__Bacteroides_B_sartorii | s__Blautia_A_sp900066205 | s__Bacteroides_faecis | s__Bacteroides_B_dorei | s__Coprococcus_eutactus_A | s__Ruminiclostridium_E_siraeum | s__CAG-279_sp000437795 | s__Megamonas_funiformis | s__Alistipes_sp900290115 |\n",
       "|---|---|---|---|---|---|---|---|---|---|---|---|---|---|---|---|---|---|---|---|---|---|\n",
       "| YSZC12003_36675 | 0.00027 | 0 | 0 | 0.00097 | 0 | 0.00017 | 0 | 0.08107 | 0.00020 | 0.00113 | ⋯ | 0 | 0.00040 | 0.00255 | 0.00043 | 0.00114 | 0.00108 | 0.00018 | 0 | 0 | 0.00968 |\n",
       "| YSZC12003_35391 | 0.00089 | 0 | 0 | 0.00169 | 0 | 0.00163 | 0 | 0.00000 | 0.00065 | 0.00869 | ⋯ | 0 | 0.00186 | 0.00659 | 0.00089 | 0.07277 | 0.01286 | 0.00021 | 0 | 0 | 0.00000 |\n",
       "| ⋮ | ⋮ | ⋮ | ⋮ | ⋮ | ⋮ | ⋮ | ⋮ | ⋮ | ⋮ | ⋮ | ⋱ | ⋮ | ⋮ | ⋮ | ⋮ | ⋮ | ⋮ | ⋮ | ⋮ | ⋮ | ⋮ |\n",
       "| SID530154 | 4e-04 | 0.0000 | 0.00000 | 0.00028 | 0 | 0.00000 | 0.00037 | 0.00000 | 0.00000 | 0.00000 | ⋯ | 0.0000 | 0.00000 | 0.01863 | 0.00000 | 0.0000 | 0.00000 | 0.00000 | 0.00000 | 0 | 0 |\n",
       "| YSZC12003_37315 | 0e+00 | 0.0011 | 0.00157 | 0.00116 | 0 | 0.00184 | 0.00000 | 0.01681 | 0.00038 | 0.00141 | ⋯ | 0.0046 | 0.00084 | 0.00046 | 0.00096 | 0.0412 | 0.00047 | 0.00025 | 0.00038 | 0 | 0 |\n",
       "\n"
      ],
      "text/plain": [
       "                s__Eubacterium_G_ventriosum s__Prevotella_sp000436035\n",
       "YSZC12003_36675 0.00027                     0                        \n",
       "YSZC12003_35391 0.00089                     0                        \n",
       "⋮               ⋮                           ⋮                        \n",
       "SID530154       4e-04                       0.0000                   \n",
       "YSZC12003_37315 0e+00                       0.0011                   \n",
       "                s__Prevotella_sp002440225 s__Acetatifactor_sp900066365\n",
       "YSZC12003_36675 0                         0.00097                     \n",
       "YSZC12003_35391 0                         0.00169                     \n",
       "⋮               ⋮                         ⋮                           \n",
       "SID530154       0.00000                   0.00028                     \n",
       "YSZC12003_37315 0.00157                   0.00116                     \n",
       "                s__Bacteroides_A_coprocola s__Bacteroides_sp002491635\n",
       "YSZC12003_36675 0                          0.00017                   \n",
       "YSZC12003_35391 0                          0.00163                   \n",
       "⋮               ⋮                          ⋮                         \n",
       "SID530154       0                          0.00000                   \n",
       "YSZC12003_37315 0                          0.00184                   \n",
       "                s__Bifidobacterium_bifidum s__CAG-180_sp000432435\n",
       "YSZC12003_36675 0                          0.08107               \n",
       "YSZC12003_35391 0                          0.00000               \n",
       "⋮               ⋮                          ⋮                     \n",
       "SID530154       0.00037                    0.00000               \n",
       "YSZC12003_37315 0.00000                    0.01681               \n",
       "                s__Bacteroides_stercoris s__Bacteroides_ovatus ⋯\n",
       "YSZC12003_36675 0.00020                  0.00113               ⋯\n",
       "YSZC12003_35391 0.00065                  0.00869               ⋯\n",
       "⋮               ⋮                        ⋮                     ⋱\n",
       "SID530154       0.00000                  0.00000               ⋯\n",
       "YSZC12003_37315 0.00038                  0.00141               ⋯\n",
       "                s__Prevotella_stercorea s__Bacteroides_B_sartorii\n",
       "YSZC12003_36675 0                       0.00040                  \n",
       "YSZC12003_35391 0                       0.00186                  \n",
       "⋮               ⋮                       ⋮                        \n",
       "SID530154       0.0000                  0.00000                  \n",
       "YSZC12003_37315 0.0046                  0.00084                  \n",
       "                s__Blautia_A_sp900066205 s__Bacteroides_faecis\n",
       "YSZC12003_36675 0.00255                  0.00043              \n",
       "YSZC12003_35391 0.00659                  0.00089              \n",
       "⋮               ⋮                        ⋮                    \n",
       "SID530154       0.01863                  0.00000              \n",
       "YSZC12003_37315 0.00046                  0.00096              \n",
       "                s__Bacteroides_B_dorei s__Coprococcus_eutactus_A\n",
       "YSZC12003_36675 0.00114                0.00108                  \n",
       "YSZC12003_35391 0.07277                0.01286                  \n",
       "⋮               ⋮                      ⋮                        \n",
       "SID530154       0.0000                 0.00000                  \n",
       "YSZC12003_37315 0.0412                 0.00047                  \n",
       "                s__Ruminiclostridium_E_siraeum s__CAG-279_sp000437795\n",
       "YSZC12003_36675 0.00018                        0                     \n",
       "YSZC12003_35391 0.00021                        0                     \n",
       "⋮               ⋮                              ⋮                     \n",
       "SID530154       0.00000                        0.00000               \n",
       "YSZC12003_37315 0.00025                        0.00038               \n",
       "                s__Megamonas_funiformis s__Alistipes_sp900290115\n",
       "YSZC12003_36675 0                       0.00968                 \n",
       "YSZC12003_35391 0                       0.00000                 \n",
       "⋮               ⋮                       ⋮                       \n",
       "SID530154       0                       0                       \n",
       "YSZC12003_37315 0                       0                       "
      ]
     },
     "metadata": {},
     "output_type": "display_data"
    }
   ],
   "source": [
    "# train\n",
    "m_train = brk_f %>%\n",
    "    t %>%\n",
    "    .[x_train,] \n",
    "m_train"
   ]
  },
  {
   "cell_type": "code",
   "execution_count": 188,
   "metadata": {
    "ExecuteTime": {
     "end_time": "2020-11-02T20:08:01.153221Z",
     "start_time": "2020-11-02T20:08:01.061Z"
    }
   },
   "outputs": [
    {
     "data": {
      "text/html": [
       "<table>\n",
       "<caption>A matrix: 386 × 198 of type dbl</caption>\n",
       "<thead>\n",
       "\t<tr><th></th><th scope=col>s__Eubacterium_G_ventriosum</th><th scope=col>s__Prevotella_sp000436035</th><th scope=col>s__Prevotella_sp002440225</th><th scope=col>s__Acetatifactor_sp900066365</th><th scope=col>s__Bacteroides_A_coprocola</th><th scope=col>s__Bacteroides_sp002491635</th><th scope=col>s__Bifidobacterium_bifidum</th><th scope=col>s__CAG-180_sp000432435</th><th scope=col>s__Bacteroides_stercoris</th><th scope=col>s__Bacteroides_ovatus</th><th scope=col>⋯</th><th scope=col>s__Prevotella_stercorea</th><th scope=col>s__Bacteroides_B_sartorii</th><th scope=col>s__Blautia_A_sp900066205</th><th scope=col>s__Bacteroides_faecis</th><th scope=col>s__Bacteroides_B_dorei</th><th scope=col>s__Coprococcus_eutactus_A</th><th scope=col>s__Ruminiclostridium_E_siraeum</th><th scope=col>s__CAG-279_sp000437795</th><th scope=col>s__Megamonas_funiformis</th><th scope=col>s__Alistipes_sp900290115</th></tr>\n",
       "</thead>\n",
       "<tbody>\n",
       "\t<tr><th scope=row>SID713A009.11.90.0</th><td>0.00593</td><td>0.00000</td><td>0.00000</td><td>0.00642</td><td>0.00051</td><td>0.00099</td><td>0</td><td>0.00655</td><td>0.00109</td><td>0.00438</td><td>⋯</td><td>0.00000</td><td>0.00288</td><td>0.00099</td><td>0.00075</td><td>0.00900</td><td>0.00088</td><td>0.00000</td><td>0.00000</td><td>0</td><td>0</td></tr>\n",
       "\t<tr><th scope=row>SID713A051.11.0.0</th><td>0.00133</td><td>0.00135</td><td>0.00267</td><td>0.00246</td><td>0.00140</td><td>0.00064</td><td>0</td><td>0.00000</td><td>0.00030</td><td>0.00443</td><td>⋯</td><td>0.00056</td><td>0.00239</td><td>0.00151</td><td>0.02865</td><td>0.06959</td><td>0.00794</td><td>0.01175</td><td>0.00556</td><td>0</td><td>0</td></tr>\n",
       "\t<tr><th scope=row>⋮</th><td>⋮</td><td>⋮</td><td>⋮</td><td>⋮</td><td>⋮</td><td>⋮</td><td>⋮</td><td>⋮</td><td>⋮</td><td>⋮</td><td>⋱</td><td>⋮</td><td>⋮</td><td>⋮</td><td>⋮</td><td>⋮</td><td>⋮</td><td>⋮</td><td>⋮</td><td>⋮</td><td>⋮</td></tr>\n",
       "\t<tr><th scope=row>YSZC12003_37652</th><td>0.00135</td><td>0e+00</td><td>0.00000</td><td>0.00074</td><td>0.00000</td><td>0.00000</td><td>0.00000</td><td>0</td><td>0.00000</td><td>0.00565</td><td>⋯</td><td>0.00000</td><td>0.00135</td><td>0.00081</td><td>0.00254</td><td>0.05108</td><td>0.00531</td><td>0.00116</td><td>0</td><td>0</td><td>0.00018</td></tr>\n",
       "\t<tr><th scope=row>YSZC12003_37753</th><td>0.00000</td><td>4e-04</td><td>0.00079</td><td>0.00298</td><td>0.00041</td><td>0.00024</td><td>0.00894</td><td>0</td><td>0.00039</td><td>0.00327</td><td>⋯</td><td>0.00312</td><td>0.00000</td><td>0.00097</td><td>0.00027</td><td>0.00215</td><td>0.00000</td><td>0.00041</td><td>0</td><td>0</td><td>0.00023</td></tr>\n",
       "</tbody>\n",
       "</table>\n"
      ],
      "text/latex": [
       "A matrix: 386 × 198 of type dbl\n",
       "\\begin{tabular}{r|lllllllllllllllllllll}\n",
       "  & s\\_\\_Eubacterium\\_G\\_ventriosum & s\\_\\_Prevotella\\_sp000436035 & s\\_\\_Prevotella\\_sp002440225 & s\\_\\_Acetatifactor\\_sp900066365 & s\\_\\_Bacteroides\\_A\\_coprocola & s\\_\\_Bacteroides\\_sp002491635 & s\\_\\_Bifidobacterium\\_bifidum & s\\_\\_CAG-180\\_sp000432435 & s\\_\\_Bacteroides\\_stercoris & s\\_\\_Bacteroides\\_ovatus & ⋯ & s\\_\\_Prevotella\\_stercorea & s\\_\\_Bacteroides\\_B\\_sartorii & s\\_\\_Blautia\\_A\\_sp900066205 & s\\_\\_Bacteroides\\_faecis & s\\_\\_Bacteroides\\_B\\_dorei & s\\_\\_Coprococcus\\_eutactus\\_A & s\\_\\_Ruminiclostridium\\_E\\_siraeum & s\\_\\_CAG-279\\_sp000437795 & s\\_\\_Megamonas\\_funiformis & s\\_\\_Alistipes\\_sp900290115\\\\\n",
       "\\hline\n",
       "\tSID713A009.11.90.0 & 0.00593 & 0.00000 & 0.00000 & 0.00642 & 0.00051 & 0.00099 & 0 & 0.00655 & 0.00109 & 0.00438 & ⋯ & 0.00000 & 0.00288 & 0.00099 & 0.00075 & 0.00900 & 0.00088 & 0.00000 & 0.00000 & 0 & 0\\\\\n",
       "\tSID713A051.11.0.0 & 0.00133 & 0.00135 & 0.00267 & 0.00246 & 0.00140 & 0.00064 & 0 & 0.00000 & 0.00030 & 0.00443 & ⋯ & 0.00056 & 0.00239 & 0.00151 & 0.02865 & 0.06959 & 0.00794 & 0.01175 & 0.00556 & 0 & 0\\\\\n",
       "\t⋮ & ⋮ & ⋮ & ⋮ & ⋮ & ⋮ & ⋮ & ⋮ & ⋮ & ⋮ & ⋮ & ⋱ & ⋮ & ⋮ & ⋮ & ⋮ & ⋮ & ⋮ & ⋮ & ⋮ & ⋮ & ⋮\\\\\n",
       "\tYSZC12003\\_37652 & 0.00135 & 0e+00 & 0.00000 & 0.00074 & 0.00000 & 0.00000 & 0.00000 & 0 & 0.00000 & 0.00565 & ⋯ & 0.00000 & 0.00135 & 0.00081 & 0.00254 & 0.05108 & 0.00531 & 0.00116 & 0 & 0 & 0.00018\\\\\n",
       "\tYSZC12003\\_37753 & 0.00000 & 4e-04 & 0.00079 & 0.00298 & 0.00041 & 0.00024 & 0.00894 & 0 & 0.00039 & 0.00327 & ⋯ & 0.00312 & 0.00000 & 0.00097 & 0.00027 & 0.00215 & 0.00000 & 0.00041 & 0 & 0 & 0.00023\\\\\n",
       "\\end{tabular}\n"
      ],
      "text/markdown": [
       "\n",
       "A matrix: 386 × 198 of type dbl\n",
       "\n",
       "| <!--/--> | s__Eubacterium_G_ventriosum | s__Prevotella_sp000436035 | s__Prevotella_sp002440225 | s__Acetatifactor_sp900066365 | s__Bacteroides_A_coprocola | s__Bacteroides_sp002491635 | s__Bifidobacterium_bifidum | s__CAG-180_sp000432435 | s__Bacteroides_stercoris | s__Bacteroides_ovatus | ⋯ | s__Prevotella_stercorea | s__Bacteroides_B_sartorii | s__Blautia_A_sp900066205 | s__Bacteroides_faecis | s__Bacteroides_B_dorei | s__Coprococcus_eutactus_A | s__Ruminiclostridium_E_siraeum | s__CAG-279_sp000437795 | s__Megamonas_funiformis | s__Alistipes_sp900290115 |\n",
       "|---|---|---|---|---|---|---|---|---|---|---|---|---|---|---|---|---|---|---|---|---|---|\n",
       "| SID713A009.11.90.0 | 0.00593 | 0.00000 | 0.00000 | 0.00642 | 0.00051 | 0.00099 | 0 | 0.00655 | 0.00109 | 0.00438 | ⋯ | 0.00000 | 0.00288 | 0.00099 | 0.00075 | 0.00900 | 0.00088 | 0.00000 | 0.00000 | 0 | 0 |\n",
       "| SID713A051.11.0.0 | 0.00133 | 0.00135 | 0.00267 | 0.00246 | 0.00140 | 0.00064 | 0 | 0.00000 | 0.00030 | 0.00443 | ⋯ | 0.00056 | 0.00239 | 0.00151 | 0.02865 | 0.06959 | 0.00794 | 0.01175 | 0.00556 | 0 | 0 |\n",
       "| ⋮ | ⋮ | ⋮ | ⋮ | ⋮ | ⋮ | ⋮ | ⋮ | ⋮ | ⋮ | ⋮ | ⋱ | ⋮ | ⋮ | ⋮ | ⋮ | ⋮ | ⋮ | ⋮ | ⋮ | ⋮ | ⋮ |\n",
       "| YSZC12003_37652 | 0.00135 | 0e+00 | 0.00000 | 0.00074 | 0.00000 | 0.00000 | 0.00000 | 0 | 0.00000 | 0.00565 | ⋯ | 0.00000 | 0.00135 | 0.00081 | 0.00254 | 0.05108 | 0.00531 | 0.00116 | 0 | 0 | 0.00018 |\n",
       "| YSZC12003_37753 | 0.00000 | 4e-04 | 0.00079 | 0.00298 | 0.00041 | 0.00024 | 0.00894 | 0 | 0.00039 | 0.00327 | ⋯ | 0.00312 | 0.00000 | 0.00097 | 0.00027 | 0.00215 | 0.00000 | 0.00041 | 0 | 0 | 0.00023 |\n",
       "\n"
      ],
      "text/plain": [
       "                   s__Eubacterium_G_ventriosum s__Prevotella_sp000436035\n",
       "SID713A009.11.90.0 0.00593                     0.00000                  \n",
       "SID713A051.11.0.0  0.00133                     0.00135                  \n",
       "⋮                  ⋮                           ⋮                        \n",
       "YSZC12003_37652    0.00135                     0e+00                    \n",
       "YSZC12003_37753    0.00000                     4e-04                    \n",
       "                   s__Prevotella_sp002440225 s__Acetatifactor_sp900066365\n",
       "SID713A009.11.90.0 0.00000                   0.00642                     \n",
       "SID713A051.11.0.0  0.00267                   0.00246                     \n",
       "⋮                  ⋮                         ⋮                           \n",
       "YSZC12003_37652    0.00000                   0.00074                     \n",
       "YSZC12003_37753    0.00079                   0.00298                     \n",
       "                   s__Bacteroides_A_coprocola s__Bacteroides_sp002491635\n",
       "SID713A009.11.90.0 0.00051                    0.00099                   \n",
       "SID713A051.11.0.0  0.00140                    0.00064                   \n",
       "⋮                  ⋮                          ⋮                         \n",
       "YSZC12003_37652    0.00000                    0.00000                   \n",
       "YSZC12003_37753    0.00041                    0.00024                   \n",
       "                   s__Bifidobacterium_bifidum s__CAG-180_sp000432435\n",
       "SID713A009.11.90.0 0                          0.00655               \n",
       "SID713A051.11.0.0  0                          0.00000               \n",
       "⋮                  ⋮                          ⋮                     \n",
       "YSZC12003_37652    0.00000                    0                     \n",
       "YSZC12003_37753    0.00894                    0                     \n",
       "                   s__Bacteroides_stercoris s__Bacteroides_ovatus ⋯\n",
       "SID713A009.11.90.0 0.00109                  0.00438               ⋯\n",
       "SID713A051.11.0.0  0.00030                  0.00443               ⋯\n",
       "⋮                  ⋮                        ⋮                     ⋱\n",
       "YSZC12003_37652    0.00000                  0.00565               ⋯\n",
       "YSZC12003_37753    0.00039                  0.00327               ⋯\n",
       "                   s__Prevotella_stercorea s__Bacteroides_B_sartorii\n",
       "SID713A009.11.90.0 0.00000                 0.00288                  \n",
       "SID713A051.11.0.0  0.00056                 0.00239                  \n",
       "⋮                  ⋮                       ⋮                        \n",
       "YSZC12003_37652    0.00000                 0.00135                  \n",
       "YSZC12003_37753    0.00312                 0.00000                  \n",
       "                   s__Blautia_A_sp900066205 s__Bacteroides_faecis\n",
       "SID713A009.11.90.0 0.00099                  0.00075              \n",
       "SID713A051.11.0.0  0.00151                  0.02865              \n",
       "⋮                  ⋮                        ⋮                    \n",
       "YSZC12003_37652    0.00081                  0.00254              \n",
       "YSZC12003_37753    0.00097                  0.00027              \n",
       "                   s__Bacteroides_B_dorei s__Coprococcus_eutactus_A\n",
       "SID713A009.11.90.0 0.00900                0.00088                  \n",
       "SID713A051.11.0.0  0.06959                0.00794                  \n",
       "⋮                  ⋮                      ⋮                        \n",
       "YSZC12003_37652    0.05108                0.00531                  \n",
       "YSZC12003_37753    0.00215                0.00000                  \n",
       "                   s__Ruminiclostridium_E_siraeum s__CAG-279_sp000437795\n",
       "SID713A009.11.90.0 0.00000                        0.00000               \n",
       "SID713A051.11.0.0  0.01175                        0.00556               \n",
       "⋮                  ⋮                              ⋮                     \n",
       "YSZC12003_37652    0.00116                        0                     \n",
       "YSZC12003_37753    0.00041                        0                     \n",
       "                   s__Megamonas_funiformis s__Alistipes_sp900290115\n",
       "SID713A009.11.90.0 0                       0                       \n",
       "SID713A051.11.0.0  0                       0                       \n",
       "⋮                  ⋮                       ⋮                       \n",
       "YSZC12003_37652    0                       0.00018                 \n",
       "YSZC12003_37753    0                       0.00023                 "
      ]
     },
     "metadata": {},
     "output_type": "display_data"
    }
   ],
   "source": [
    "# test\n",
    "m_test = brk_f %>%\n",
    "    t %>%\n",
    "    .[x_test,] \n",
    "m_test"
   ]
  },
  {
   "cell_type": "code",
   "execution_count": 166,
   "metadata": {
    "ExecuteTime": {
     "end_time": "2020-11-02T19:51:47.870758Z",
     "start_time": "2020-11-02T19:51:47.809Z"
    }
   },
   "outputs": [
    {
     "data": {
      "text/plain": [
       ".\n",
       "   0    1 \n",
       " 415 2263 "
      ]
     },
     "metadata": {},
     "output_type": "display_data"
    },
    {
     "data": {
      "text/plain": [
       ".\n",
       "  0   1 \n",
       "103 567 "
      ]
     },
     "metadata": {},
     "output_type": "display_data"
    }
   ],
   "source": [
    "# # target: westernized\n",
    "# x = meta %>%\n",
    "#     select.(Sample, westernized) %>%\n",
    "#     mutate.(westernized = westernized %>% as.numeric) %>%\n",
    "#     as.data.frame\n",
    "# rownames(x) = x$Sample\n",
    "# x$Sample = NULL\n",
    "\n",
    "# target_train = x[rownames(m_train),]\n",
    "# target_train %>% table\n",
    "# target_test = x[rownames(m_test),]\n",
    "# target_test %>% table"
   ]
  },
  {
   "cell_type": "code",
   "execution_count": 206,
   "metadata": {
    "ExecuteTime": {
     "end_time": "2020-11-02T20:54:50.598739Z",
     "start_time": "2020-11-02T20:54:50.499Z"
    }
   },
   "outputs": [
    {
     "data": {
      "text/plain": [
       "     Min.   1st Qu.    Median      Mean   3rd Qu.      Max. \n",
       "-1.307056 -0.962650 -0.194362  0.005217  0.971317  3.355659 "
      ]
     },
     "metadata": {},
     "output_type": "display_data"
    },
    {
     "data": {
      "text/plain": [
       "    Min.  1st Qu.   Median     Mean  3rd Qu.     Max. \n",
       "-1.30706 -0.98914 -0.08839 -0.02086  0.91833  1.81908 "
      ]
     },
     "metadata": {},
     "output_type": "display_data"
    }
   ],
   "source": [
    "# target: age\n",
    "x = meta %>%\n",
    "    select.(Sample, age) %>%\n",
    "    mutate.(age= age %>% as.numeric %>% scale) %>%\n",
    "    as.data.frame\n",
    "rownames(x) = x$Sample\n",
    "x$Sample = NULL\n",
    "\n",
    "target_train = x[rownames(m_train),]\n",
    "target_train %>% summary\n",
    "target_test = x[rownames(m_test),]\n",
    "target_test %>% summary"
   ]
  },
  {
   "cell_type": "markdown",
   "metadata": {
    "ExecuteTime": {
     "end_time": "2020-11-02T18:08:46.339606Z",
     "start_time": "2020-11-02T18:08:46.283Z"
    }
   },
   "source": [
    "## Writing"
   ]
  },
  {
   "cell_type": "code",
   "execution_count": 207,
   "metadata": {
    "ExecuteTime": {
     "end_time": "2020-11-02T20:54:55.771513Z",
     "start_time": "2020-11-02T20:54:55.719Z"
    }
   },
   "outputs": [
    {
     "name": "stdout",
     "output_type": "stream",
     "text": [
      "Directory already exists: /ebio/abt3_projects/software/dev/tmp/MDeep/data/globalMG/ \n"
     ]
    }
   ],
   "source": [
    "work_dir = '/ebio/abt3_projects/software/dev/tmp/MDeep/data/globalMG/'\n",
    "make_dir(work_dir)"
   ]
  },
  {
   "cell_type": "code",
   "execution_count": 208,
   "metadata": {
    "ExecuteTime": {
     "end_time": "2020-11-02T20:54:56.851967Z",
     "start_time": "2020-11-02T20:54:56.375Z"
    }
   },
   "outputs": [
    {
     "name": "stdout",
     "output_type": "stream",
     "text": [
      "File written: /ebio/abt3_projects/software/dev/tmp/MDeep/data/globalMG//X_train.tsv \n"
     ]
    }
   ],
   "source": [
    "F = file.path(work_dir, 'X_train.tsv')\n",
    "write_table(m_train, F)"
   ]
  },
  {
   "cell_type": "code",
   "execution_count": 209,
   "metadata": {
    "ExecuteTime": {
     "end_time": "2020-11-02T20:54:56.875114Z",
     "start_time": "2020-11-02T20:54:56.543Z"
    }
   },
   "outputs": [
    {
     "name": "stdout",
     "output_type": "stream",
     "text": [
      "File written: /ebio/abt3_projects/software/dev/tmp/MDeep/data/globalMG//Y_train.tsv \n"
     ]
    }
   ],
   "source": [
    "F = file.path(work_dir, 'Y_train.tsv')\n",
    "write_table(target_train, F)"
   ]
  },
  {
   "cell_type": "code",
   "execution_count": 210,
   "metadata": {
    "ExecuteTime": {
     "end_time": "2020-11-02T20:54:56.965007Z",
     "start_time": "2020-11-02T20:54:56.687Z"
    }
   },
   "outputs": [
    {
     "name": "stdout",
     "output_type": "stream",
     "text": [
      "File written: /ebio/abt3_projects/software/dev/tmp/MDeep/data/globalMG//c.tsv \n"
     ]
    }
   ],
   "source": [
    "F = file.path(work_dir, 'c.tsv')\n",
    "write_table(phy_fm, F)"
   ]
  },
  {
   "cell_type": "code",
   "execution_count": 198,
   "metadata": {
    "ExecuteTime": {
     "end_time": "2020-11-02T20:18:16.911210Z",
     "start_time": "2020-11-02T20:18:16.785Z"
    }
   },
   "outputs": [
    {
     "name": "stdout",
     "output_type": "stream",
     "text": [
      "File written: /ebio/abt3_projects/software/dev/tmp/MDeep/data/globalMG_trt/c.tsv \n"
     ]
    }
   ],
   "source": [
    "D = file.path(dirname(work_dir), 'globalMG_trt')\n",
    "F = file.path(D, 'c.tsv')\n",
    "write_table(trt_fm, F)"
   ]
  },
  {
   "cell_type": "markdown",
   "metadata": {},
   "source": [
    "# MDeep"
   ]
  },
  {
   "cell_type": "markdown",
   "metadata": {},
   "source": [
    "## Convert to numpy"
   ]
  },
  {
   "cell_type": "markdown",
   "metadata": {},
   "source": [
    "## Train: age"
   ]
  },
  {
   "cell_type": "markdown",
   "metadata": {},
   "source": [
    "```\n",
    "(mdeep) @ rick:/ebio/abt3_projects/software/dev/tmp/MDeep\n",
    "python3 src/MDeep.py --train --data_dir data/globalMG --model_dir model --outcome_type continous  --batch_size 40 --max_epoch 2000 --learning_rate 5e-3 --dropout_rate 0.5 --window_size 8 8 8 --kernel_size 64 64 32 --strides 4 4 4\n",
    "```"
   ]
  },
  {
   "cell_type": "markdown",
   "metadata": {},
   "source": [
    "```\n",
    "(mdeep) @ rick:/ebio/abt3_projects/software/dev/tmp/MDeep\n",
    "python3 src/MDeep.py --train --data_dir data/globalMG_trt --model_dir model1 --outcome_type continous  --batch_size 50 --max_epoch 2000 --learning_rate 5e-3 --dropout_rate 0.5 --window_size 8 8 8 --kernel_size 64 64 32 --strides 4 4 4\n",
    "```"
   ]
  },
  {
   "cell_type": "markdown",
   "metadata": {},
   "source": [
    "```\n",
    "(mdeep) @ rick:/ebio/abt3_projects/software/dev/tmp/MDeep\n",
    "python3 src/MDeep.py --train --data_dir data/globalMG --model_dir model --outcome_type continous  --batch_size 40 --max_epoch 2000 --learning_rate 5e-3 --dropout_rate 0.5 --window_size 8 8 8 --kernel_size 64 64 32 --strides 4 4 4\n",
    "```"
   ]
  },
  {
   "cell_type": "markdown",
   "metadata": {},
   "source": [
    "## Train: westernized"
   ]
  },
  {
   "cell_type": "markdown",
   "metadata": {},
   "source": [
    "```\n",
    "(mdeep) @ rick:/ebio/abt3_projects/software/dev/tmp/MDeep\n",
    "python3 src/MDeep.py --train --data_dir data/globalMG --model_dir model --outcome_type binary --batch_size 32 --max_epoch 500 --learning_rate 1e-4 --dropout_rate 0.5 --window_size 128 4 --kernel_size 32 32 --strides 64 2\n",
    "```"
   ]
  },
  {
   "cell_type": "markdown",
   "metadata": {},
   "source": [
    "```\n",
    "(mdeep) @ rick:/ebio/abt3_projects/software/dev/tmp/MDeep\n",
    "python3 src/MDeep.py --train --data_dir data/globalMG_trt --model_dir model --outcome_type binary --batch_size 32 --max_epoch 500 --learning_rate 1e-4 --dropout_rate 0.5 --window_size 128 4 --kernel_size 32 32 --strides 64 2\n",
    "```"
   ]
  },
  {
   "cell_type": "markdown",
   "metadata": {},
   "source": [
    "## Test"
   ]
  },
  {
   "cell_type": "markdown",
   "metadata": {},
   "source": [
    "```\n",
    "python3 src/MDeep.py --test --test_file data/globalMG/X_test.npy --correlation_file data/globalMG/c.npy --result_dir result/globalMG --model_dir model --outcome_type binary --batch_size 32 --max_epoch 500 --learning_rate 1e-4 --dropout_rate 0.5 --window_size 128 4 --kernel_size 32 32 --strides 64 2\n",
    "```"
   ]
  },
  {
   "cell_type": "markdown",
   "metadata": {},
   "source": [
    "# Sandbox"
   ]
  },
  {
   "cell_type": "markdown",
   "metadata": {},
   "source": [
    "```\n",
    "python3 src/MDeep.py --train --data_dir data/Malawiantwin_pairs --model_dir model --outcome_type continous --batch_size 16 --max_epoch 200 --learning_rate 5e-3 --dropout_rate 0.5 --window_size 8 8 8 --kernel_size 64 64 32 --strides 4 4 4\n",
    "```"
   ]
  }
 ],
 "metadata": {
  "kernelspec": {
   "display_name": "R [conda env:Georg_animal_feces-phyloseq]",
   "language": "R",
   "name": "conda-env-Georg_animal_feces-phyloseq-r"
  },
  "language_info": {
   "codemirror_mode": "r",
   "file_extension": ".r",
   "mimetype": "text/x-r-source",
   "name": "R",
   "pygments_lexer": "r",
   "version": "3.6.3"
  },
  "notify_time": "30",
  "toc": {
   "base_numbering": 1,
   "nav_menu": {},
   "number_sections": true,
   "sideBar": true,
   "skip_h1_title": false,
   "title_cell": "Table of Contents",
   "title_sidebar": "Contents",
   "toc_cell": true,
   "toc_position": {
    "height": "calc(100% - 180px)",
    "left": "10px",
    "top": "150px",
    "width": "235px"
   },
   "toc_section_display": true,
   "toc_window_display": true
  }
 },
 "nbformat": 4,
 "nbformat_minor": 4
}
