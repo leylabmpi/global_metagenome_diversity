{
 "cells": [
  {
   "cell_type": "markdown",
   "metadata": {
    "toc": true
   },
   "source": [
    "<h1>Table of Contents<span class=\"tocSkip\"></span></h1>\n",
    "<div class=\"toc\"><ul class=\"toc-item\"><li><span><a href=\"#Goal\" data-toc-modified-id=\"Goal-1\"><span class=\"toc-item-num\">1&nbsp;&nbsp;</span>Goal</a></span></li><li><span><a href=\"#Var\" data-toc-modified-id=\"Var-2\"><span class=\"toc-item-num\">2&nbsp;&nbsp;</span>Var</a></span></li><li><span><a href=\"#Init\" data-toc-modified-id=\"Init-3\"><span class=\"toc-item-num\">3&nbsp;&nbsp;</span>Init</a></span></li><li><span><a href=\"#Load\" data-toc-modified-id=\"Load-4\"><span class=\"toc-item-num\">4&nbsp;&nbsp;</span>Load</a></span><ul class=\"toc-item\"><li><span><a href=\"#Metadata\" data-toc-modified-id=\"Metadata-4.1\"><span class=\"toc-item-num\">4.1&nbsp;&nbsp;</span>Metadata</a></span></li><li><span><a href=\"#Counts\" data-toc-modified-id=\"Counts-4.2\"><span class=\"toc-item-num\">4.2&nbsp;&nbsp;</span>Counts</a></span></li><li><span><a href=\"#Alpha-div\" data-toc-modified-id=\"Alpha-div-4.3\"><span class=\"toc-item-num\">4.3&nbsp;&nbsp;</span>Alpha div</a></span></li><li><span><a href=\"#ML-performance\" data-toc-modified-id=\"ML-performance-4.4\"><span class=\"toc-item-num\">4.4&nbsp;&nbsp;</span>ML performance</a></span></li></ul></li><li><span><a href=\"#Format\" data-toc-modified-id=\"Format-5\"><span class=\"toc-item-num\">5&nbsp;&nbsp;</span>Format</a></span><ul class=\"toc-item\"><li><span><a href=\"#Overlap\" data-toc-modified-id=\"Overlap-5.1\"><span class=\"toc-item-num\">5.1&nbsp;&nbsp;</span>Overlap</a></span></li><li><span><a href=\"#Merging\" data-toc-modified-id=\"Merging-5.2\"><span class=\"toc-item-num\">5.2&nbsp;&nbsp;</span>Merging</a></span></li></ul></li><li><span><a href=\"#ML-settings\" data-toc-modified-id=\"ML-settings-6\"><span class=\"toc-item-num\">6&nbsp;&nbsp;</span>ML settings</a></span><ul class=\"toc-item\"><li><span><a href=\"#functions\" data-toc-modified-id=\"functions-6.1\"><span class=\"toc-item-num\">6.1&nbsp;&nbsp;</span>functions</a></span></li></ul></li><li><span><a href=\"#Westernization\" data-toc-modified-id=\"Westernization-7\"><span class=\"toc-item-num\">7&nbsp;&nbsp;</span>Westernization</a></span><ul class=\"toc-item\"><li><span><a href=\"#RF\" data-toc-modified-id=\"RF-7.1\"><span class=\"toc-item-num\">7.1&nbsp;&nbsp;</span>RF</a></span><ul class=\"toc-item\"><li><span><a href=\"#Performance\" data-toc-modified-id=\"Performance-7.1.1\"><span class=\"toc-item-num\">7.1.1&nbsp;&nbsp;</span>Performance</a></span></li></ul></li></ul></li><li><span><a href=\"#Gender\" data-toc-modified-id=\"Gender-8\"><span class=\"toc-item-num\">8&nbsp;&nbsp;</span>Gender</a></span><ul class=\"toc-item\"><li><span><a href=\"#RF\" data-toc-modified-id=\"RF-8.1\"><span class=\"toc-item-num\">8.1&nbsp;&nbsp;</span>RF</a></span><ul class=\"toc-item\"><li><span><a href=\"#Performance\" data-toc-modified-id=\"Performance-8.1.1\"><span class=\"toc-item-num\">8.1.1&nbsp;&nbsp;</span>Performance</a></span></li></ul></li></ul></li><li><span><a href=\"#Disease\" data-toc-modified-id=\"Disease-9\"><span class=\"toc-item-num\">9&nbsp;&nbsp;</span>Disease</a></span><ul class=\"toc-item\"><li><span><a href=\"#RF\" data-toc-modified-id=\"RF-9.1\"><span class=\"toc-item-num\">9.1&nbsp;&nbsp;</span>RF</a></span><ul class=\"toc-item\"><li><span><a href=\"#Performance\" data-toc-modified-id=\"Performance-9.1.1\"><span class=\"toc-item-num\">9.1.1&nbsp;&nbsp;</span>Performance</a></span></li></ul></li></ul></li><li><span><a href=\"#Performance-summary\" data-toc-modified-id=\"Performance-summary-10\"><span class=\"toc-item-num\">10&nbsp;&nbsp;</span>Performance summary</a></span><ul class=\"toc-item\"><li><span><a href=\"#Comparing-to-performance-to-all-measures\" data-toc-modified-id=\"Comparing-to-performance-to-all-measures-10.1\"><span class=\"toc-item-num\">10.1&nbsp;&nbsp;</span>Comparing to performance to all measures</a></span><ul class=\"toc-item\"><li><span><a href=\"#Stats\" data-toc-modified-id=\"Stats-10.1.1\"><span class=\"toc-item-num\">10.1.1&nbsp;&nbsp;</span>Stats</a></span></li></ul></li></ul></li><li><span><a href=\"#sessionInfo\" data-toc-modified-id=\"sessionInfo-11\"><span class=\"toc-item-num\">11&nbsp;&nbsp;</span>sessionInfo</a></span></li></ul></div>"
   ]
  },
  {
   "cell_type": "markdown",
   "metadata": {},
   "source": [
    "# Goal\n",
    "\n",
    "* ML with just tree-agnostic alpha div measures"
   ]
  },
  {
   "cell_type": "markdown",
   "metadata": {},
   "source": [
    "# Var"
   ]
  },
  {
   "cell_type": "code",
   "execution_count": 1,
   "metadata": {
    "ExecuteTime": {
     "end_time": "2021-10-01T07:28:44.550408Z",
     "start_time": "2021-10-01T07:28:44.479Z"
    }
   },
   "outputs": [],
   "source": [
    "work_dir = '/ebio/abt3_projects/databases_no-backup/curatedMetagenomicData/global_metagenomes/diversity/ML/'\n",
    "\n",
    "# sample metadata\n",
    "## filtered\n",
    "#metadata_filt_file = file.path(work_dir, 'CurMetDat_metadata_filt-n1846.tsv')\n",
    "## all \n",
    "base_in_dir = '/ebio/abt3_projects/small_projects/nyoungblut/public_data_retireval/'\n",
    "metadata_file = file.path(base_in_dir, 'CurMetDat-metagenomes', 'files', 'metadata', 'Filtered_CurMetDat_ff.tsv')\n",
    "\n",
    "# bracken counts\n",
    "brk_file = '/ebio/abt3_projects/databases_no-backup/curatedMetagenomicData/global_metagenomes/diversity/bracken_filt2.qs'\n",
    "\n",
    "# alpha diversity\n",
    "## standard\n",
    "alpha_div_file = '/ebio/abt3_projects/databases_no-backup/curatedMetagenomicData/global_metagenomes/diversity/alpha_div_cog-pfam.tsv'\n",
    "\n",
    "# ML performance w/ all measures\n",
    "ml_perf_file = '/ebio/abt3_projects/databases_no-backup/curatedMetagenomicData/global_metagenomes/diversity/ML/alpha-div_ml_dsBlock_mtry4_performance.tsv'\n",
    "\n",
    "# params\n",
    "threads = 8\n",
    "seed = 2821"
   ]
  },
  {
   "cell_type": "markdown",
   "metadata": {},
   "source": [
    "# Init"
   ]
  },
  {
   "cell_type": "code",
   "execution_count": 2,
   "metadata": {
    "ExecuteTime": {
     "end_time": "2021-10-01T07:28:45.208961Z",
     "start_time": "2021-10-01T07:28:44.482Z"
    }
   },
   "outputs": [
    {
     "name": "stderr",
     "output_type": "stream",
     "text": [
      "\n",
      "Attaching package: ‘dplyr’\n",
      "\n",
      "\n",
      "The following objects are masked from ‘package:stats’:\n",
      "\n",
      "    filter, lag\n",
      "\n",
      "\n",
      "The following objects are masked from ‘package:base’:\n",
      "\n",
      "    intersect, setdiff, setequal, union\n",
      "\n",
      "\n",
      "\n",
      "Attaching package: ‘data.table’\n",
      "\n",
      "\n",
      "The following objects are masked from ‘package:dplyr’:\n",
      "\n",
      "    between, first, last\n",
      "\n",
      "\n",
      "\n",
      "Attaching package: ‘tidytable’\n",
      "\n",
      "\n",
      "The following object is masked from ‘package:stats’:\n",
      "\n",
      "    dt\n",
      "\n",
      "\n",
      "Loading required package: foreach\n",
      "\n",
      "Loading required package: iterators\n",
      "\n",
      "Loading required package: parallel\n",
      "\n"
     ]
    }
   ],
   "source": [
    "library(dplyr)\n",
    "library(tidyr)\n",
    "library(ggplot2)\n",
    "library(data.table)\n",
    "library(tidytable)\n",
    "library(doParallel)\n",
    "library(LeyLabRMisc)"
   ]
  },
  {
   "cell_type": "code",
   "execution_count": 3,
   "metadata": {
    "ExecuteTime": {
     "end_time": "2021-10-01T07:28:46.317953Z",
     "start_time": "2021-10-01T07:28:44.485Z"
    }
   },
   "outputs": [
    {
     "name": "stderr",
     "output_type": "stream",
     "text": [
      "Loading required package: ParamHelpers\n",
      "\n",
      "Warning message: 'mlr' is in 'maintenance-only' mode since July 2019.\n",
      "Future development will only happen in 'mlr3'\n",
      "(<https://mlr3.mlr-org.com>). Due to the focus on 'mlr3' there might be\n",
      "uncaught bugs meanwhile in {mlr} - please consider switching.\n",
      "\n",
      "randomForest 4.6-14\n",
      "\n",
      "Type rfNews() to see new features/changes/bug fixes.\n",
      "\n",
      "\n",
      "Attaching package: ‘randomForest’\n",
      "\n",
      "\n",
      "The following object is masked from ‘package:ggplot2’:\n",
      "\n",
      "    margin\n",
      "\n",
      "\n",
      "The following object is masked from ‘package:dplyr’:\n",
      "\n",
      "    combine\n",
      "\n",
      "\n"
     ]
    }
   ],
   "source": [
    "library(Boruta)\n",
    "library(mlr)\n",
    "library(randomForest)\n",
    "library(parallelMap)"
   ]
  },
  {
   "cell_type": "code",
   "execution_count": 4,
   "metadata": {
    "ExecuteTime": {
     "end_time": "2021-10-01T07:28:46.340008Z",
     "start_time": "2021-10-01T07:28:44.487Z"
    }
   },
   "outputs": [
    {
     "name": "stdout",
     "output_type": "stream",
     "text": [
      "Directory already exists: /ebio/abt3_projects/databases_no-backup/curatedMetagenomicData/global_metagenomes/diversity/ML/ \n"
     ]
    }
   ],
   "source": [
    "setDTthreads(threads)\n",
    "make_dir(work_dir)\n",
    "set.seed(seed)\n",
    "df.dims()"
   ]
  },
  {
   "cell_type": "code",
   "execution_count": 5,
   "metadata": {
    "ExecuteTime": {
     "end_time": "2021-10-01T07:28:46.371451Z",
     "start_time": "2021-10-01T07:28:44.490Z"
    }
   },
   "outputs": [
    {
     "data": {
      "text/plain": [
       "Filter: 'boruta.filter'\n",
       "Packages: ''\n",
       "Supported tasks: classif,regr\n",
       "Supported features: numerics,factors,ordered"
      ]
     },
     "metadata": {},
     "output_type": "display_data"
    }
   ],
   "source": [
    "# custom boruta filter\n",
    "mlr_boruta_filter()"
   ]
  },
  {
   "cell_type": "markdown",
   "metadata": {},
   "source": [
    "# Load"
   ]
  },
  {
   "cell_type": "markdown",
   "metadata": {},
   "source": [
    "## Metadata"
   ]
  },
  {
   "cell_type": "code",
   "execution_count": 6,
   "metadata": {
    "ExecuteTime": {
     "end_time": "2021-10-01T07:28:46.524771Z",
     "start_time": "2021-10-01T07:28:44.495Z"
    }
   },
   "outputs": [
    {
     "name": "stdout",
     "output_type": "stream",
     "text": [
      "No. of unique Samples: 2943 \n",
      "No. of unique Subjects: 2943 \n",
      "No. of unique Datasets: 30 \n"
     ]
    },
    {
     "data": {
      "text/html": [
       "<table class=\"dataframe\">\n",
       "<caption>A data.table: 2943 × 71</caption>\n",
       "<thead>\n",
       "\t<tr><th scope=col>dataset_name</th><th scope=col>Sample</th><th scope=col>subjectID</th><th scope=col>body_site</th><th scope=col>antibiotics_current_use</th><th scope=col>study_condition</th><th scope=col>disease</th><th scope=col>age</th><th scope=col>age_category</th><th scope=col>gender</th><th scope=col>⋯</th><th scope=col>glp_1</th><th scope=col>travel_destination</th><th scope=col>urea_nitrogen</th><th scope=col>disease_stage</th><th scope=col>uncurated_metadata</th><th scope=col>family_member</th><th scope=col>subject_n</th><th scope=col>samp_n</th><th scope=col>westernized</th><th scope=col>samps_per_study</th></tr>\n",
       "\t<tr><th scope=col>&lt;chr&gt;</th><th scope=col>&lt;chr&gt;</th><th scope=col>&lt;chr&gt;</th><th scope=col>&lt;chr&gt;</th><th scope=col>&lt;chr&gt;</th><th scope=col>&lt;chr&gt;</th><th scope=col>&lt;chr&gt;</th><th scope=col>&lt;int&gt;</th><th scope=col>&lt;chr&gt;</th><th scope=col>&lt;chr&gt;</th><th scope=col>⋯</th><th scope=col>&lt;dbl&gt;</th><th scope=col>&lt;chr&gt;</th><th scope=col>&lt;dbl&gt;</th><th scope=col>&lt;int&gt;</th><th scope=col>&lt;chr&gt;</th><th scope=col>&lt;chr&gt;</th><th scope=col>&lt;int&gt;</th><th scope=col>&lt;int&gt;</th><th scope=col>&lt;lgl&gt;</th><th scope=col>&lt;int&gt;</th></tr>\n",
       "</thead>\n",
       "<tbody>\n",
       "\t<tr><td>Bengtsson-PalmeJ_2015</td><td>TRAVELRES1 </td><td>TRAVELRES1_2  </td><td>stool</td><td>no</td><td>control</td><td>healthy</td><td>25</td><td>adult</td><td>female</td><td>⋯</td><td>NA</td><td></td><td>NA</td><td>NA</td><td></td><td></td><td>1</td><td>1</td><td>TRUE</td><td>36</td></tr>\n",
       "\t<tr><td>Bengtsson-PalmeJ_2015</td><td>TRAVELRES11</td><td>TRAVELRES11_12</td><td>stool</td><td>no</td><td>control</td><td>healthy</td><td>22</td><td>adult</td><td>female</td><td>⋯</td><td>NA</td><td></td><td>NA</td><td>NA</td><td></td><td></td><td>1</td><td>1</td><td>TRUE</td><td>36</td></tr>\n",
       "\t<tr><td>⋮</td><td>⋮</td><td>⋮</td><td>⋮</td><td>⋮</td><td>⋮</td><td>⋮</td><td>⋮</td><td>⋮</td><td>⋮</td><td>⋱</td><td>⋮</td><td>⋮</td><td>⋮</td><td>⋮</td><td>⋮</td><td>⋮</td><td>⋮</td><td>⋮</td><td>⋮</td><td>⋮</td></tr>\n",
       "\t<tr><td>ZeeviD_2015</td><td>PNP_Validation_45</td><td>PNP_Validation_45</td><td>stool</td><td>no</td><td>control</td><td>healthy</td><td>NA</td><td>adult</td><td></td><td>⋯</td><td>NA</td><td></td><td>NA</td><td>NA</td><td></td><td></td><td>1</td><td>1</td><td>TRUE</td><td>446</td></tr>\n",
       "\t<tr><td>ZeeviD_2015</td><td>PNP_Validation_46</td><td>PNP_Validation_46</td><td>stool</td><td>no</td><td>control</td><td>healthy</td><td>NA</td><td>adult</td><td></td><td>⋯</td><td>NA</td><td></td><td>NA</td><td>NA</td><td></td><td></td><td>1</td><td>1</td><td>TRUE</td><td>446</td></tr>\n",
       "</tbody>\n",
       "</table>\n"
      ],
      "text/latex": [
       "A data.table: 2943 × 71\n",
       "\\begin{tabular}{lllllllllllllllllllll}\n",
       " dataset\\_name & Sample & subjectID & body\\_site & antibiotics\\_current\\_use & study\\_condition & disease & age & age\\_category & gender & ⋯ & glp\\_1 & travel\\_destination & urea\\_nitrogen & disease\\_stage & uncurated\\_metadata & family\\_member & subject\\_n & samp\\_n & westernized & samps\\_per\\_study\\\\\n",
       " <chr> & <chr> & <chr> & <chr> & <chr> & <chr> & <chr> & <int> & <chr> & <chr> & ⋯ & <dbl> & <chr> & <dbl> & <int> & <chr> & <chr> & <int> & <int> & <lgl> & <int>\\\\\n",
       "\\hline\n",
       "\t Bengtsson-PalmeJ\\_2015 & TRAVELRES1  & TRAVELRES1\\_2   & stool & no & control & healthy & 25 & adult & female & ⋯ & NA &  & NA & NA &  &  & 1 & 1 & TRUE & 36\\\\\n",
       "\t Bengtsson-PalmeJ\\_2015 & TRAVELRES11 & TRAVELRES11\\_12 & stool & no & control & healthy & 22 & adult & female & ⋯ & NA &  & NA & NA &  &  & 1 & 1 & TRUE & 36\\\\\n",
       "\t ⋮ & ⋮ & ⋮ & ⋮ & ⋮ & ⋮ & ⋮ & ⋮ & ⋮ & ⋮ & ⋱ & ⋮ & ⋮ & ⋮ & ⋮ & ⋮ & ⋮ & ⋮ & ⋮ & ⋮ & ⋮\\\\\n",
       "\t ZeeviD\\_2015 & PNP\\_Validation\\_45 & PNP\\_Validation\\_45 & stool & no & control & healthy & NA & adult &  & ⋯ & NA &  & NA & NA &  &  & 1 & 1 & TRUE & 446\\\\\n",
       "\t ZeeviD\\_2015 & PNP\\_Validation\\_46 & PNP\\_Validation\\_46 & stool & no & control & healthy & NA & adult &  & ⋯ & NA &  & NA & NA &  &  & 1 & 1 & TRUE & 446\\\\\n",
       "\\end{tabular}\n"
      ],
      "text/markdown": [
       "\n",
       "A data.table: 2943 × 71\n",
       "\n",
       "| dataset_name &lt;chr&gt; | Sample &lt;chr&gt; | subjectID &lt;chr&gt; | body_site &lt;chr&gt; | antibiotics_current_use &lt;chr&gt; | study_condition &lt;chr&gt; | disease &lt;chr&gt; | age &lt;int&gt; | age_category &lt;chr&gt; | gender &lt;chr&gt; | ⋯ ⋯ | glp_1 &lt;dbl&gt; | travel_destination &lt;chr&gt; | urea_nitrogen &lt;dbl&gt; | disease_stage &lt;int&gt; | uncurated_metadata &lt;chr&gt; | family_member &lt;chr&gt; | subject_n &lt;int&gt; | samp_n &lt;int&gt; | westernized &lt;lgl&gt; | samps_per_study &lt;int&gt; |\n",
       "|---|---|---|---|---|---|---|---|---|---|---|---|---|---|---|---|---|---|---|---|---|\n",
       "| Bengtsson-PalmeJ_2015 | TRAVELRES1  | TRAVELRES1_2   | stool | no | control | healthy | 25 | adult | female | ⋯ | NA | <!----> | NA | NA | <!----> | <!----> | 1 | 1 | TRUE | 36 |\n",
       "| Bengtsson-PalmeJ_2015 | TRAVELRES11 | TRAVELRES11_12 | stool | no | control | healthy | 22 | adult | female | ⋯ | NA | <!----> | NA | NA | <!----> | <!----> | 1 | 1 | TRUE | 36 |\n",
       "| ⋮ | ⋮ | ⋮ | ⋮ | ⋮ | ⋮ | ⋮ | ⋮ | ⋮ | ⋮ | ⋱ | ⋮ | ⋮ | ⋮ | ⋮ | ⋮ | ⋮ | ⋮ | ⋮ | ⋮ | ⋮ |\n",
       "| ZeeviD_2015 | PNP_Validation_45 | PNP_Validation_45 | stool | no | control | healthy | NA | adult | <!----> | ⋯ | NA | <!----> | NA | NA | <!----> | <!----> | 1 | 1 | TRUE | 446 |\n",
       "| ZeeviD_2015 | PNP_Validation_46 | PNP_Validation_46 | stool | no | control | healthy | NA | adult | <!----> | ⋯ | NA | <!----> | NA | NA | <!----> | <!----> | 1 | 1 | TRUE | 446 |\n",
       "\n"
      ],
      "text/plain": [
       "     dataset_name          Sample            subjectID         body_site\n",
       "1    Bengtsson-PalmeJ_2015 TRAVELRES1        TRAVELRES1_2      stool    \n",
       "2    Bengtsson-PalmeJ_2015 TRAVELRES11       TRAVELRES11_12    stool    \n",
       "⋮    ⋮                     ⋮                 ⋮                 ⋮        \n",
       "2942 ZeeviD_2015           PNP_Validation_45 PNP_Validation_45 stool    \n",
       "2943 ZeeviD_2015           PNP_Validation_46 PNP_Validation_46 stool    \n",
       "     antibiotics_current_use study_condition disease age age_category gender ⋯\n",
       "1    no                      control         healthy 25  adult        female ⋯\n",
       "2    no                      control         healthy 22  adult        female ⋯\n",
       "⋮    ⋮                       ⋮               ⋮       ⋮   ⋮            ⋮      ⋱\n",
       "2942 no                      control         healthy NA  adult               ⋯\n",
       "2943 no                      control         healthy NA  adult               ⋯\n",
       "     glp_1 travel_destination urea_nitrogen disease_stage uncurated_metadata\n",
       "1    NA                       NA            NA                              \n",
       "2    NA                       NA            NA                              \n",
       "⋮    ⋮     ⋮                  ⋮             ⋮             ⋮                 \n",
       "2942 NA                       NA            NA                              \n",
       "2943 NA                       NA            NA                              \n",
       "     family_member subject_n samp_n westernized samps_per_study\n",
       "1                  1         1      TRUE        36             \n",
       "2                  1         1      TRUE        36             \n",
       "⋮    ⋮             ⋮         ⋮      ⋮           ⋮              \n",
       "2942               1         1      TRUE        446            \n",
       "2943               1         1      TRUE        446            "
      ]
     },
     "metadata": {},
     "output_type": "display_data"
    }
   ],
   "source": [
    "# sample metadata\n",
    "meta = Fread(metadata_file) \n",
    "meta %>% unique_n('Samples', Sample)\n",
    "meta %>% unique_n('Subjects', subjectID)\n",
    "meta %>% unique_n('Datasets', dataset_name)\n",
    "meta"
   ]
  },
  {
   "cell_type": "markdown",
   "metadata": {},
   "source": [
    "## Counts"
   ]
  },
  {
   "cell_type": "code",
   "execution_count": 7,
   "metadata": {
    "ExecuteTime": {
     "end_time": "2021-10-01T07:28:56.377564Z",
     "start_time": "2021-10-01T07:28:44.501Z"
    }
   },
   "outputs": [
    {
     "data": {
      "text/html": [
       "<table class=\"dataframe\">\n",
       "<caption>A tidytable: 4427630 × 13</caption>\n",
       "<thead>\n",
       "\t<tr><th scope=col>dataset</th><th scope=col>name</th><th scope=col>taxonomy_id</th><th scope=col>taxonomy_lvl</th><th scope=col>Domain</th><th scope=col>Phylum</th><th scope=col>Class</th><th scope=col>Order</th><th scope=col>Family</th><th scope=col>Genus</th><th scope=col>Species</th><th scope=col>Sample</th><th scope=col>Abundance</th></tr>\n",
       "\t<tr><th scope=col>&lt;chr&gt;</th><th scope=col>&lt;chr&gt;</th><th scope=col>&lt;int&gt;</th><th scope=col>&lt;chr&gt;</th><th scope=col>&lt;chr&gt;</th><th scope=col>&lt;chr&gt;</th><th scope=col>&lt;chr&gt;</th><th scope=col>&lt;chr&gt;</th><th scope=col>&lt;chr&gt;</th><th scope=col>&lt;chr&gt;</th><th scope=col>&lt;chr&gt;</th><th scope=col>&lt;chr&gt;</th><th scope=col>&lt;dbl&gt;</th></tr>\n",
       "</thead>\n",
       "<tbody>\n",
       "\t<tr><td>CosteaPI_2017</td><td>s__Caecibacter_massiliensis</td><td>108259</td><td>S</td><td>Bacteria</td><td>Firmicutes_C</td><td>Negativicutes</td><td>Veillonellales </td><td>Megasphaeraceae </td><td>Caecibacter</td><td>Caecibacter massiliensis</td><td>halbarad.11.0.0</td><td>0</td></tr>\n",
       "\t<tr><td>CosteaPI_2017</td><td>s__UBA1777_sp002350825     </td><td>178550</td><td>S</td><td>Bacteria</td><td>Firmicutes_A</td><td>Clostridia   </td><td>Oscillospirales</td><td>Oscillospiraceae</td><td>UBA1777    </td><td>UBA1777 sp002350825     </td><td>halbarad.11.0.0</td><td>0</td></tr>\n",
       "\t<tr><td>⋮</td><td>⋮</td><td>⋮</td><td>⋮</td><td>⋮</td><td>⋮</td><td>⋮</td><td>⋮</td><td>⋮</td><td>⋮</td><td>⋮</td><td>⋮</td><td>⋮</td></tr>\n",
       "\t<tr><td>YuJ_2015</td><td>s__Serratia_grimesii        </td><td>121568</td><td>S</td><td>Bacteria</td><td>Proteobacteria</td><td>Gammaproteobacteria</td><td>Enterobacterales</td><td>Enterobacteriaceae</td><td>Serratia     </td><td>Serratia grimesii        </td><td>SZAXPI017592.142</td><td>0</td></tr>\n",
       "\t<tr><td>YuJ_2015</td><td>s__Bacteroides_A_sp002161565</td><td>119189</td><td>S</td><td>Bacteria</td><td>Bacteroidota  </td><td>Bacteroidia        </td><td>Bacteroidales   </td><td>Bacteroidaceae    </td><td>Bacteroides_A</td><td>Bacteroides_A sp002161565</td><td>SZAXPI017592.142</td><td>0</td></tr>\n",
       "</tbody>\n",
       "</table>\n"
      ],
      "text/latex": [
       "A tidytable: 4427630 × 13\n",
       "\\begin{tabular}{lllllllllllll}\n",
       " dataset & name & taxonomy\\_id & taxonomy\\_lvl & Domain & Phylum & Class & Order & Family & Genus & Species & Sample & Abundance\\\\\n",
       " <chr> & <chr> & <int> & <chr> & <chr> & <chr> & <chr> & <chr> & <chr> & <chr> & <chr> & <chr> & <dbl>\\\\\n",
       "\\hline\n",
       "\t CosteaPI\\_2017 & s\\_\\_Caecibacter\\_massiliensis & 108259 & S & Bacteria & Firmicutes\\_C & Negativicutes & Veillonellales  & Megasphaeraceae  & Caecibacter & Caecibacter massiliensis & halbarad.11.0.0 & 0\\\\\n",
       "\t CosteaPI\\_2017 & s\\_\\_UBA1777\\_sp002350825      & 178550 & S & Bacteria & Firmicutes\\_A & Clostridia    & Oscillospirales & Oscillospiraceae & UBA1777     & UBA1777 sp002350825      & halbarad.11.0.0 & 0\\\\\n",
       "\t ⋮ & ⋮ & ⋮ & ⋮ & ⋮ & ⋮ & ⋮ & ⋮ & ⋮ & ⋮ & ⋮ & ⋮ & ⋮\\\\\n",
       "\t YuJ\\_2015 & s\\_\\_Serratia\\_grimesii         & 121568 & S & Bacteria & Proteobacteria & Gammaproteobacteria & Enterobacterales & Enterobacteriaceae & Serratia      & Serratia grimesii         & SZAXPI017592.142 & 0\\\\\n",
       "\t YuJ\\_2015 & s\\_\\_Bacteroides\\_A\\_sp002161565 & 119189 & S & Bacteria & Bacteroidota   & Bacteroidia         & Bacteroidales    & Bacteroidaceae     & Bacteroides\\_A & Bacteroides\\_A sp002161565 & SZAXPI017592.142 & 0\\\\\n",
       "\\end{tabular}\n"
      ],
      "text/markdown": [
       "\n",
       "A tidytable: 4427630 × 13\n",
       "\n",
       "| dataset &lt;chr&gt; | name &lt;chr&gt; | taxonomy_id &lt;int&gt; | taxonomy_lvl &lt;chr&gt; | Domain &lt;chr&gt; | Phylum &lt;chr&gt; | Class &lt;chr&gt; | Order &lt;chr&gt; | Family &lt;chr&gt; | Genus &lt;chr&gt; | Species &lt;chr&gt; | Sample &lt;chr&gt; | Abundance &lt;dbl&gt; |\n",
       "|---|---|---|---|---|---|---|---|---|---|---|---|---|\n",
       "| CosteaPI_2017 | s__Caecibacter_massiliensis | 108259 | S | Bacteria | Firmicutes_C | Negativicutes | Veillonellales  | Megasphaeraceae  | Caecibacter | Caecibacter massiliensis | halbarad.11.0.0 | 0 |\n",
       "| CosteaPI_2017 | s__UBA1777_sp002350825      | 178550 | S | Bacteria | Firmicutes_A | Clostridia    | Oscillospirales | Oscillospiraceae | UBA1777     | UBA1777 sp002350825      | halbarad.11.0.0 | 0 |\n",
       "| ⋮ | ⋮ | ⋮ | ⋮ | ⋮ | ⋮ | ⋮ | ⋮ | ⋮ | ⋮ | ⋮ | ⋮ | ⋮ |\n",
       "| YuJ_2015 | s__Serratia_grimesii         | 121568 | S | Bacteria | Proteobacteria | Gammaproteobacteria | Enterobacterales | Enterobacteriaceae | Serratia      | Serratia grimesii         | SZAXPI017592.142 | 0 |\n",
       "| YuJ_2015 | s__Bacteroides_A_sp002161565 | 119189 | S | Bacteria | Bacteroidota   | Bacteroidia         | Bacteroidales    | Bacteroidaceae     | Bacteroides_A | Bacteroides_A sp002161565 | SZAXPI017592.142 | 0 |\n",
       "\n"
      ],
      "text/plain": [
       "        dataset       name                         taxonomy_id taxonomy_lvl\n",
       "1       CosteaPI_2017 s__Caecibacter_massiliensis  108259      S           \n",
       "2       CosteaPI_2017 s__UBA1777_sp002350825       178550      S           \n",
       "⋮       ⋮             ⋮                            ⋮           ⋮           \n",
       "4427629 YuJ_2015      s__Serratia_grimesii         121568      S           \n",
       "4427630 YuJ_2015      s__Bacteroides_A_sp002161565 119189      S           \n",
       "        Domain   Phylum         Class               Order           \n",
       "1       Bacteria Firmicutes_C   Negativicutes       Veillonellales  \n",
       "2       Bacteria Firmicutes_A   Clostridia          Oscillospirales \n",
       "⋮       ⋮        ⋮              ⋮                   ⋮               \n",
       "4427629 Bacteria Proteobacteria Gammaproteobacteria Enterobacterales\n",
       "4427630 Bacteria Bacteroidota   Bacteroidia         Bacteroidales   \n",
       "        Family             Genus         Species                  \n",
       "1       Megasphaeraceae    Caecibacter   Caecibacter massiliensis \n",
       "2       Oscillospiraceae   UBA1777       UBA1777 sp002350825      \n",
       "⋮       ⋮                  ⋮             ⋮                        \n",
       "4427629 Enterobacteriaceae Serratia      Serratia grimesii        \n",
       "4427630 Bacteroidaceae     Bacteroides_A Bacteroides_A sp002161565\n",
       "        Sample           Abundance\n",
       "1       halbarad.11.0.0  0        \n",
       "2       halbarad.11.0.0  0        \n",
       "⋮       ⋮                ⋮        \n",
       "4427629 SZAXPI017592.142 0        \n",
       "4427630 SZAXPI017592.142 0        "
      ]
     },
     "metadata": {},
     "output_type": "display_data"
    }
   ],
   "source": [
    "# Bracken count table\n",
    "brk = qs::qread(brk_file, nthreads=threads) %>%\n",
    "    mutate.(name = gsub(' ', '_', name))\n",
    "brk "
   ]
  },
  {
   "cell_type": "markdown",
   "metadata": {},
   "source": [
    "## Alpha div"
   ]
  },
  {
   "cell_type": "code",
   "execution_count": 8,
   "metadata": {
    "ExecuteTime": {
     "end_time": "2021-10-01T07:28:56.418570Z",
     "start_time": "2021-10-01T07:28:44.505Z"
    }
   },
   "outputs": [
    {
     "data": {
      "text/html": [
       "<table class=\"dataframe\">\n",
       "<caption>A tidytable: 2943 × 5</caption>\n",
       "<thead>\n",
       "\t<tr><th scope=col>Sample</th><th scope=col>nobs</th><th scope=col>shannon</th><th scope=col>simpson</th><th scope=col>pielou</th></tr>\n",
       "\t<tr><th scope=col>&lt;chr&gt;</th><th scope=col>&lt;int&gt;</th><th scope=col>&lt;dbl&gt;</th><th scope=col>&lt;dbl&gt;</th><th scope=col>&lt;dbl&gt;</th></tr>\n",
       "</thead>\n",
       "<tbody>\n",
       "\t<tr><td>A01_02_1FE</td><td>232</td><td>3.888802</td><td>0.9507426</td><td>0.4757117</td></tr>\n",
       "\t<tr><td>A02_01_1FE</td><td>176</td><td>3.418777</td><td>0.8891672</td><td>0.4182143</td></tr>\n",
       "\t<tr><td>⋮</td><td>⋮</td><td>⋮</td><td>⋮</td><td>⋮</td></tr>\n",
       "\t<tr><td>nHMX11726        </td><td>272</td><td>3.612832</td><td>0.8932187</td><td>0.4419526</td></tr>\n",
       "\t<tr><td>scavenger.11.60.0</td><td>210</td><td>3.891553</td><td>0.9557596</td><td>0.4760482</td></tr>\n",
       "</tbody>\n",
       "</table>\n"
      ],
      "text/latex": [
       "A tidytable: 2943 × 5\n",
       "\\begin{tabular}{lllll}\n",
       " Sample & nobs & shannon & simpson & pielou\\\\\n",
       " <chr> & <int> & <dbl> & <dbl> & <dbl>\\\\\n",
       "\\hline\n",
       "\t A01\\_02\\_1FE & 232 & 3.888802 & 0.9507426 & 0.4757117\\\\\n",
       "\t A02\\_01\\_1FE & 176 & 3.418777 & 0.8891672 & 0.4182143\\\\\n",
       "\t ⋮ & ⋮ & ⋮ & ⋮ & ⋮\\\\\n",
       "\t nHMX11726         & 272 & 3.612832 & 0.8932187 & 0.4419526\\\\\n",
       "\t scavenger.11.60.0 & 210 & 3.891553 & 0.9557596 & 0.4760482\\\\\n",
       "\\end{tabular}\n"
      ],
      "text/markdown": [
       "\n",
       "A tidytable: 2943 × 5\n",
       "\n",
       "| Sample &lt;chr&gt; | nobs &lt;int&gt; | shannon &lt;dbl&gt; | simpson &lt;dbl&gt; | pielou &lt;dbl&gt; |\n",
       "|---|---|---|---|---|\n",
       "| A01_02_1FE | 232 | 3.888802 | 0.9507426 | 0.4757117 |\n",
       "| A02_01_1FE | 176 | 3.418777 | 0.8891672 | 0.4182143 |\n",
       "| ⋮ | ⋮ | ⋮ | ⋮ | ⋮ |\n",
       "| nHMX11726         | 272 | 3.612832 | 0.8932187 | 0.4419526 |\n",
       "| scavenger.11.60.0 | 210 | 3.891553 | 0.9557596 | 0.4760482 |\n",
       "\n"
      ],
      "text/plain": [
       "     Sample            nobs shannon  simpson   pielou   \n",
       "1    A01_02_1FE        232  3.888802 0.9507426 0.4757117\n",
       "2    A02_01_1FE        176  3.418777 0.8891672 0.4182143\n",
       "⋮    ⋮                 ⋮    ⋮        ⋮         ⋮        \n",
       "2942 nHMX11726         272  3.612832 0.8932187 0.4419526\n",
       "2943 scavenger.11.60.0 210  3.891553 0.9557596 0.4760482"
      ]
     },
     "metadata": {},
     "output_type": "display_data"
    }
   ],
   "source": [
    "# alpha div\n",
    "alpha_div = Fread(alpha_div_file) %>%\n",
    "    select.(Sample, nobs, shannon, simpson, pielou)\n",
    "alpha_div"
   ]
  },
  {
   "cell_type": "markdown",
   "metadata": {},
   "source": [
    "## ML performance\n",
    "\n",
    "* All measures"
   ]
  },
  {
   "cell_type": "code",
   "execution_count": 9,
   "metadata": {
    "ExecuteTime": {
     "end_time": "2021-10-01T07:28:56.450224Z",
     "start_time": "2021-10-01T07:28:44.510Z"
    }
   },
   "outputs": [
    {
     "data": {
      "text/html": [
       "<table class=\"dataframe\">\n",
       "<caption>A data.table: 30 × 4</caption>\n",
       "<thead>\n",
       "\t<tr><th scope=col>iter</th><th scope=col>target</th><th scope=col>measure</th><th scope=col>value</th></tr>\n",
       "\t<tr><th scope=col>&lt;int&gt;</th><th scope=col>&lt;chr&gt;</th><th scope=col>&lt;chr&gt;</th><th scope=col>&lt;dbl&gt;</th></tr>\n",
       "</thead>\n",
       "<tbody>\n",
       "\t<tr><td>1</td><td>westernized</td><td>auc</td><td>0.9162727</td></tr>\n",
       "\t<tr><td>2</td><td>westernized</td><td>auc</td><td>0.9150743</td></tr>\n",
       "\t<tr><td>⋮</td><td>⋮</td><td>⋮</td><td>⋮</td></tr>\n",
       "\t<tr><td>4</td><td>disease</td><td>f1</td><td>0.6833013</td></tr>\n",
       "\t<tr><td>5</td><td>disease</td><td>f1</td><td>0.7015504</td></tr>\n",
       "</tbody>\n",
       "</table>\n"
      ],
      "text/latex": [
       "A data.table: 30 × 4\n",
       "\\begin{tabular}{llll}\n",
       " iter & target & measure & value\\\\\n",
       " <int> & <chr> & <chr> & <dbl>\\\\\n",
       "\\hline\n",
       "\t 1 & westernized & auc & 0.9162727\\\\\n",
       "\t 2 & westernized & auc & 0.9150743\\\\\n",
       "\t ⋮ & ⋮ & ⋮ & ⋮\\\\\n",
       "\t 4 & disease & f1 & 0.6833013\\\\\n",
       "\t 5 & disease & f1 & 0.7015504\\\\\n",
       "\\end{tabular}\n"
      ],
      "text/markdown": [
       "\n",
       "A data.table: 30 × 4\n",
       "\n",
       "| iter &lt;int&gt; | target &lt;chr&gt; | measure &lt;chr&gt; | value &lt;dbl&gt; |\n",
       "|---|---|---|---|\n",
       "| 1 | westernized | auc | 0.9162727 |\n",
       "| 2 | westernized | auc | 0.9150743 |\n",
       "| ⋮ | ⋮ | ⋮ | ⋮ |\n",
       "| 4 | disease | f1 | 0.6833013 |\n",
       "| 5 | disease | f1 | 0.7015504 |\n",
       "\n"
      ],
      "text/plain": [
       "   iter target      measure value    \n",
       "1  1    westernized auc     0.9162727\n",
       "2  2    westernized auc     0.9150743\n",
       "⋮  ⋮    ⋮           ⋮       ⋮        \n",
       "29 4    disease     f1      0.6833013\n",
       "30 5    disease     f1      0.7015504"
      ]
     },
     "metadata": {},
     "output_type": "display_data"
    }
   ],
   "source": [
    "# loading\n",
    "ml_perf_all = Fread(ml_perf_file)\n",
    "ml_perf_all"
   ]
  },
  {
   "cell_type": "markdown",
   "metadata": {},
   "source": [
    "# Format"
   ]
  },
  {
   "cell_type": "markdown",
   "metadata": {},
   "source": [
    "## Overlap"
   ]
  },
  {
   "cell_type": "code",
   "execution_count": 10,
   "metadata": {
    "ExecuteTime": {
     "end_time": "2021-10-01T07:28:56.466860Z",
     "start_time": "2021-10-01T07:28:44.515Z"
    }
   },
   "outputs": [
    {
     "name": "stdout",
     "output_type": "stream",
     "text": [
      "intersect(x,y): 2943 \n",
      "setdiff(x,y): 0 \n",
      "setdiff(y,x): 0 \n",
      "union(x,y): 2943 \n"
     ]
    }
   ],
   "source": [
    "overlap(alpha_div$Sample, meta$Sample)"
   ]
  },
  {
   "cell_type": "markdown",
   "metadata": {},
   "source": [
    "## Merging"
   ]
  },
  {
   "cell_type": "code",
   "execution_count": 11,
   "metadata": {
    "ExecuteTime": {
     "end_time": "2021-10-01T07:28:56.526610Z",
     "start_time": "2021-10-01T07:28:44.520Z"
    }
   },
   "outputs": [
    {
     "name": "stdout",
     "output_type": "stream",
     "text": [
      "No. of unique Samples: 2943 \n",
      "No. of unique Datasets: 30 \n"
     ]
    },
    {
     "data": {
      "text/html": [
       "<table class=\"dataframe\">\n",
       "<caption>A tidytable: 2943 × 11</caption>\n",
       "<thead>\n",
       "\t<tr><th scope=col>dataset_name</th><th scope=col>Sample</th><th scope=col>age</th><th scope=col>BMI</th><th scope=col>gender</th><th scope=col>westernized</th><th scope=col>disease</th><th scope=col>nobs</th><th scope=col>shannon</th><th scope=col>simpson</th><th scope=col>pielou</th></tr>\n",
       "\t<tr><th scope=col>&lt;chr&gt;</th><th scope=col>&lt;chr&gt;</th><th scope=col>&lt;int&gt;</th><th scope=col>&lt;dbl&gt;</th><th scope=col>&lt;chr&gt;</th><th scope=col>&lt;lgl&gt;</th><th scope=col>&lt;chr&gt;</th><th scope=col>&lt;int&gt;</th><th scope=col>&lt;dbl&gt;</th><th scope=col>&lt;dbl&gt;</th><th scope=col>&lt;dbl&gt;</th></tr>\n",
       "</thead>\n",
       "<tbody>\n",
       "\t<tr><td>PasolliE_2018</td><td>A01_02_1FE</td><td>NA</td><td>NA</td><td></td><td>FALSE</td><td>healthy</td><td>232</td><td>3.888802</td><td>0.9507426</td><td>0.4757117</td></tr>\n",
       "\t<tr><td>PasolliE_2018</td><td>A02_01_1FE</td><td>NA</td><td>NA</td><td></td><td>FALSE</td><td>healthy</td><td>176</td><td>3.418777</td><td>0.8891672</td><td>0.4182143</td></tr>\n",
       "\t<tr><td>⋮</td><td>⋮</td><td>⋮</td><td>⋮</td><td>⋮</td><td>⋮</td><td>⋮</td><td>⋮</td><td>⋮</td><td>⋮</td><td>⋮</td></tr>\n",
       "\t<tr><td>LiJ_2017     </td><td>nHMX11726        </td><td>NA</td><td>NA</td><td></td><td>TRUE</td><td>healthy</td><td>272</td><td>3.612832</td><td>0.8932187</td><td>0.4419526</td></tr>\n",
       "\t<tr><td>CosteaPI_2017</td><td>scavenger.11.60.0</td><td>NA</td><td>NA</td><td></td><td>TRUE</td><td>healthy</td><td>210</td><td>3.891553</td><td>0.9557596</td><td>0.4760482</td></tr>\n",
       "</tbody>\n",
       "</table>\n"
      ],
      "text/latex": [
       "A tidytable: 2943 × 11\n",
       "\\begin{tabular}{lllllllllll}\n",
       " dataset\\_name & Sample & age & BMI & gender & westernized & disease & nobs & shannon & simpson & pielou\\\\\n",
       " <chr> & <chr> & <int> & <dbl> & <chr> & <lgl> & <chr> & <int> & <dbl> & <dbl> & <dbl>\\\\\n",
       "\\hline\n",
       "\t PasolliE\\_2018 & A01\\_02\\_1FE & NA & NA &  & FALSE & healthy & 232 & 3.888802 & 0.9507426 & 0.4757117\\\\\n",
       "\t PasolliE\\_2018 & A02\\_01\\_1FE & NA & NA &  & FALSE & healthy & 176 & 3.418777 & 0.8891672 & 0.4182143\\\\\n",
       "\t ⋮ & ⋮ & ⋮ & ⋮ & ⋮ & ⋮ & ⋮ & ⋮ & ⋮ & ⋮ & ⋮\\\\\n",
       "\t LiJ\\_2017      & nHMX11726         & NA & NA &  & TRUE & healthy & 272 & 3.612832 & 0.8932187 & 0.4419526\\\\\n",
       "\t CosteaPI\\_2017 & scavenger.11.60.0 & NA & NA &  & TRUE & healthy & 210 & 3.891553 & 0.9557596 & 0.4760482\\\\\n",
       "\\end{tabular}\n"
      ],
      "text/markdown": [
       "\n",
       "A tidytable: 2943 × 11\n",
       "\n",
       "| dataset_name &lt;chr&gt; | Sample &lt;chr&gt; | age &lt;int&gt; | BMI &lt;dbl&gt; | gender &lt;chr&gt; | westernized &lt;lgl&gt; | disease &lt;chr&gt; | nobs &lt;int&gt; | shannon &lt;dbl&gt; | simpson &lt;dbl&gt; | pielou &lt;dbl&gt; |\n",
       "|---|---|---|---|---|---|---|---|---|---|---|\n",
       "| PasolliE_2018 | A01_02_1FE | NA | NA | <!----> | FALSE | healthy | 232 | 3.888802 | 0.9507426 | 0.4757117 |\n",
       "| PasolliE_2018 | A02_01_1FE | NA | NA | <!----> | FALSE | healthy | 176 | 3.418777 | 0.8891672 | 0.4182143 |\n",
       "| ⋮ | ⋮ | ⋮ | ⋮ | ⋮ | ⋮ | ⋮ | ⋮ | ⋮ | ⋮ | ⋮ |\n",
       "| LiJ_2017      | nHMX11726         | NA | NA | <!----> | TRUE | healthy | 272 | 3.612832 | 0.8932187 | 0.4419526 |\n",
       "| CosteaPI_2017 | scavenger.11.60.0 | NA | NA | <!----> | TRUE | healthy | 210 | 3.891553 | 0.9557596 | 0.4760482 |\n",
       "\n"
      ],
      "text/plain": [
       "     dataset_name  Sample            age BMI gender westernized disease nobs\n",
       "1    PasolliE_2018 A01_02_1FE        NA  NA         FALSE       healthy 232 \n",
       "2    PasolliE_2018 A02_01_1FE        NA  NA         FALSE       healthy 176 \n",
       "⋮    ⋮             ⋮                 ⋮   ⋮   ⋮      ⋮           ⋮       ⋮   \n",
       "2942 LiJ_2017      nHMX11726         NA  NA         TRUE        healthy 272 \n",
       "2943 CosteaPI_2017 scavenger.11.60.0 NA  NA         TRUE        healthy 210 \n",
       "     shannon  simpson   pielou   \n",
       "1    3.888802 0.9507426 0.4757117\n",
       "2    3.418777 0.8891672 0.4182143\n",
       "⋮    ⋮        ⋮         ⋮        \n",
       "2942 3.612832 0.8932187 0.4419526\n",
       "2943 3.891553 0.9557596 0.4760482"
      ]
     },
     "metadata": {},
     "output_type": "display_data"
    }
   ],
   "source": [
    "feats = meta %>%\n",
    "    select.(dataset_name, Sample, age, BMI, gender, westernized, disease) %>%\n",
    "    mutate.(disease = ifelse(disease != 'healthy', 'diseased', disease)) %>%\n",
    "    inner_join.(alpha_div, c('Sample')) \n",
    "\n",
    "feats$Sample %>% unique_n('Samples')\n",
    "feats$dataset_name %>% unique_n('Datasets')\n",
    "feats"
   ]
  },
  {
   "cell_type": "markdown",
   "metadata": {},
   "source": [
    "# ML settings"
   ]
  },
  {
   "cell_type": "code",
   "execution_count": 12,
   "metadata": {
    "ExecuteTime": {
     "end_time": "2021-10-01T07:28:56.544928Z",
     "start_time": "2021-10-01T07:28:44.523Z"
    }
   },
   "outputs": [],
   "source": [
    "conda_env = '/ebio/abt3_projects2/global_metagenome_diversity/envs/tidyverse-ml'\n",
    "resources = list(h_rt = '00:59:00',\n",
    "                 h_vmem = '12G',\n",
    "                 conda.env = conda_env)"
   ]
  },
  {
   "cell_type": "code",
   "execution_count": 13,
   "metadata": {
    "ExecuteTime": {
     "end_time": "2021-10-01T07:28:56.559895Z",
     "start_time": "2021-10-01T07:28:44.526Z"
    }
   },
   "outputs": [],
   "source": [
    "perf_res = list()"
   ]
  },
  {
   "cell_type": "markdown",
   "metadata": {},
   "source": [
    "## functions"
   ]
  },
  {
   "cell_type": "code",
   "execution_count": 14,
   "metadata": {
    "ExecuteTime": {
     "end_time": "2021-10-01T07:28:56.576269Z",
     "start_time": "2021-10-01T07:28:44.530Z"
    }
   },
   "outputs": [],
   "source": [
    "# classifier performance\n",
    "cls_perf = function(res){\n",
    "    cat('--AUC--\\n')\n",
    "    res$measures.test$auc %>% summary %>% print\n",
    "    cat('--F1--\\n')\n",
    "    res$measures.test$f1 %>% summary %>% print\n",
    "    cat('--plot--\\n')\n",
    "    p = res$measures.test %>%\n",
    "        pivot_longer.(cols=c(-iter), names_to='metric', values_to='value') %>%\n",
    "        ggplot(aes(metric, value)) +\n",
    "        geom_boxplot() +\n",
    "        theme_bw()  \n",
    "    p.dims(4,2.5)\n",
    "    plot(p)\n",
    "}"
   ]
  },
  {
   "cell_type": "code",
   "execution_count": 15,
   "metadata": {
    "ExecuteTime": {
     "end_time": "2021-10-01T07:28:56.594398Z",
     "start_time": "2021-10-01T07:28:44.535Z"
    }
   },
   "outputs": [],
   "source": [
    "#' feature importance\n",
    "merge_feat_imp = function(iter, feat_imp){\n",
    "    res = feat_imp[[iter]]$res\n",
    "    res$iter = iter\n",
    "    return(res)  \n",
    "}\n",
    "\n",
    "get_feat_imp = function(res, threads){\n",
    "    doParallel::registerDoParallel(threads)\n",
    "    feat_imp = res$models %>%\n",
    "        plyr::llply(function(x) getFeatureImportance(x)$res,\n",
    "                    .parallel=TRUE) %>%\n",
    "        rbindlist(use.names=TRUE, idcol='cv_rep')\n",
    "    return(feat_imp)\n",
    "}"
   ]
  },
  {
   "cell_type": "code",
   "execution_count": 16,
   "metadata": {
    "ExecuteTime": {
     "end_time": "2021-10-01T07:28:56.610285Z",
     "start_time": "2021-10-01T07:28:44.539Z"
    }
   },
   "outputs": [],
   "source": [
    "# plotting most important features\n",
    "plot_feat_imp = function(feat_imp, max_rank = 50, y_offset=-0.01){\n",
    "    p = feat_imp %>%\n",
    "        mutate.(rank = dense_rank(-importance),\n",
    "                .by=c('cv_rep')) %>%\n",
    "        mutate.(mean_rank = mean(rank),\n",
    "                .by=c(variable)) %>%\n",
    "        filter.(mean_rank < max_rank) %>%\n",
    "        mutate.(measure_type = case_when.(grepl('MPD|MNTD', variable) ~ 'eco-phy',\n",
    "                                       grepl('FEve|FRic|FDis|RaoQ|FDiv', variable) ~ 'func. div.',\n",
    "                                       TRUE ~ 'alpha div.')) %>%\n",
    "        mutate.(data_type = case_when.(grepl('gtdb', variable) ~ 'phylogeny',\n",
    "                                       grepl('trt', variable) ~ 'trait',\n",
    "                                       grepl('pfam|cog', variable) ~ 'COG/Pfam',\n",
    "                                       TRUE ~ 'no tree')) %>%\n",
    "        mutate.(variable = variable %>% reorder(-mean_rank)) %>%\n",
    "        ggplot(aes(variable, importance)) +\n",
    "        geom_point(aes(y=y_offset, fill=data_type), pch=22, size=4) +\n",
    "        geom_boxplot(aes(color=measure_type)) +\n",
    "        scale_color_discrete('Measure') +\n",
    "        scale_fill_discrete('Tree') +\n",
    "        theme_bw() +\n",
    "        theme(\n",
    "            axis.text.x = element_text(angle=45, hjust=1)\n",
    "        ) +\n",
    "        coord_flip()\n",
    "    return(p)\n",
    "}"
   ]
  },
  {
   "cell_type": "markdown",
   "metadata": {},
   "source": [
    "# Westernization"
   ]
  },
  {
   "cell_type": "code",
   "execution_count": 17,
   "metadata": {
    "ExecuteTime": {
     "end_time": "2021-10-01T07:28:56.630017Z",
     "start_time": "2021-10-01T07:28:44.545Z"
    }
   },
   "outputs": [],
   "source": [
    "target = 'westernized'\n",
    "measures = list(auc, acc, mcc, f1)\n",
    "cv_iters = 5"
   ]
  },
  {
   "cell_type": "code",
   "execution_count": 18,
   "metadata": {
    "ExecuteTime": {
     "end_time": "2021-10-01T07:28:56.673587Z",
     "start_time": "2021-10-01T07:28:44.551Z"
    }
   },
   "outputs": [
    {
     "data": {
      "text/html": [
       "<table class=\"dataframe\">\n",
       "<caption>A data.frame: 2943 × 6</caption>\n",
       "<thead>\n",
       "\t<tr><th></th><th scope=col>dataset_name</th><th scope=col>westernized</th><th scope=col>nobs</th><th scope=col>shannon</th><th scope=col>simpson</th><th scope=col>pielou</th></tr>\n",
       "\t<tr><th></th><th scope=col>&lt;chr&gt;</th><th scope=col>&lt;lgl&gt;</th><th scope=col>&lt;int&gt;</th><th scope=col>&lt;dbl&gt;</th><th scope=col>&lt;dbl&gt;</th><th scope=col>&lt;dbl&gt;</th></tr>\n",
       "</thead>\n",
       "<tbody>\n",
       "\t<tr><th scope=row>A01_02_1FE</th><td>PasolliE_2018</td><td>FALSE</td><td>232</td><td>3.888802</td><td>0.9507426</td><td>0.4757117</td></tr>\n",
       "\t<tr><th scope=row>A02_01_1FE</th><td>PasolliE_2018</td><td>FALSE</td><td>176</td><td>3.418777</td><td>0.8891672</td><td>0.4182143</td></tr>\n",
       "\t<tr><th scope=row>⋮</th><td>⋮</td><td>⋮</td><td>⋮</td><td>⋮</td><td>⋮</td><td>⋮</td></tr>\n",
       "\t<tr><th scope=row>nHMX11726</th><td>LiJ_2017     </td><td>TRUE</td><td>272</td><td>3.612832</td><td>0.8932187</td><td>0.4419526</td></tr>\n",
       "\t<tr><th scope=row>scavenger.11.60.0</th><td>CosteaPI_2017</td><td>TRUE</td><td>210</td><td>3.891553</td><td>0.9557596</td><td>0.4760482</td></tr>\n",
       "</tbody>\n",
       "</table>\n"
      ],
      "text/latex": [
       "A data.frame: 2943 × 6\n",
       "\\begin{tabular}{r|llllll}\n",
       "  & dataset\\_name & westernized & nobs & shannon & simpson & pielou\\\\\n",
       "  & <chr> & <lgl> & <int> & <dbl> & <dbl> & <dbl>\\\\\n",
       "\\hline\n",
       "\tA01\\_02\\_1FE & PasolliE\\_2018 & FALSE & 232 & 3.888802 & 0.9507426 & 0.4757117\\\\\n",
       "\tA02\\_01\\_1FE & PasolliE\\_2018 & FALSE & 176 & 3.418777 & 0.8891672 & 0.4182143\\\\\n",
       "\t⋮ & ⋮ & ⋮ & ⋮ & ⋮ & ⋮ & ⋮\\\\\n",
       "\tnHMX11726 & LiJ\\_2017      & TRUE & 272 & 3.612832 & 0.8932187 & 0.4419526\\\\\n",
       "\tscavenger.11.60.0 & CosteaPI\\_2017 & TRUE & 210 & 3.891553 & 0.9557596 & 0.4760482\\\\\n",
       "\\end{tabular}\n"
      ],
      "text/markdown": [
       "\n",
       "A data.frame: 2943 × 6\n",
       "\n",
       "| <!--/--> | dataset_name &lt;chr&gt; | westernized &lt;lgl&gt; | nobs &lt;int&gt; | shannon &lt;dbl&gt; | simpson &lt;dbl&gt; | pielou &lt;dbl&gt; |\n",
       "|---|---|---|---|---|---|---|\n",
       "| A01_02_1FE | PasolliE_2018 | FALSE | 232 | 3.888802 | 0.9507426 | 0.4757117 |\n",
       "| A02_01_1FE | PasolliE_2018 | FALSE | 176 | 3.418777 | 0.8891672 | 0.4182143 |\n",
       "| ⋮ | ⋮ | ⋮ | ⋮ | ⋮ | ⋮ | ⋮ |\n",
       "| nHMX11726 | LiJ_2017      | TRUE | 272 | 3.612832 | 0.8932187 | 0.4419526 |\n",
       "| scavenger.11.60.0 | CosteaPI_2017 | TRUE | 210 | 3.891553 | 0.9557596 | 0.4760482 |\n",
       "\n"
      ],
      "text/plain": [
       "                  dataset_name  westernized nobs shannon  simpson   pielou   \n",
       "A01_02_1FE        PasolliE_2018 FALSE       232  3.888802 0.9507426 0.4757117\n",
       "A02_01_1FE        PasolliE_2018 FALSE       176  3.418777 0.8891672 0.4182143\n",
       "⋮                 ⋮             ⋮           ⋮    ⋮        ⋮         ⋮        \n",
       "nHMX11726         LiJ_2017      TRUE        272  3.612832 0.8932187 0.4419526\n",
       "scavenger.11.60.0 CosteaPI_2017 TRUE        210  3.891553 0.9557596 0.4760482"
      ]
     },
     "metadata": {},
     "output_type": "display_data"
    }
   ],
   "source": [
    "# formatting\n",
    "feats_f = feats %>%\n",
    "    select.(-age, -BMI, -gender, -disease) %>%\n",
    "    filter.(!is.na(westernized)) %>%\n",
    "    as.data.frame\n",
    "rownames(feats_f) = feats_f$Sample\n",
    "feats_f$Sample = NULL\n",
    "feats_f"
   ]
  },
  {
   "cell_type": "code",
   "execution_count": 19,
   "metadata": {
    "ExecuteTime": {
     "end_time": "2021-10-01T07:28:56.705041Z",
     "start_time": "2021-10-01T07:28:44.556Z"
    }
   },
   "outputs": [
    {
     "data": {
      "text/plain": [
       ".\n",
       "FALSE  TRUE \n",
       "  455  2488 "
      ]
     },
     "metadata": {},
     "output_type": "display_data"
    },
    {
     "data": {
      "text/plain": [
       " dataset_name       westernized          nobs          shannon      \n",
       " Length:2943        Mode :logical   Min.   : 23.0   Min.   :0.7248  \n",
       " Class :character   FALSE:455       1st Qu.:236.0   1st Qu.:3.6358  \n",
       " Mode  :character   TRUE :2488      Median :279.0   Median :4.1292  \n",
       "                                    Mean   :273.5   Mean   :3.9862  \n",
       "                                    3rd Qu.:316.0   3rd Qu.:4.4516  \n",
       "                                    Max.   :469.0   Max.   :5.2184  \n",
       "    simpson           pielou       \n",
       " Min.   :0.2267   Min.   :0.08866  \n",
       " 1st Qu.:0.9282   1st Qu.:0.44477  \n",
       " Median :0.9601   Median :0.50512  \n",
       " Mean   :0.9383   Mean   :0.48763  \n",
       " 3rd Qu.:0.9749   3rd Qu.:0.54456  \n",
       " Max.   :0.9897   Max.   :0.63836  "
      ]
     },
     "metadata": {},
     "output_type": "display_data"
    }
   ],
   "source": [
    "# summary\n",
    "## target\n",
    "feats_f[,target] %>% table\n",
    "## all features\n",
    "feats_f %>% summary"
   ]
  },
  {
   "cell_type": "markdown",
   "metadata": {},
   "source": [
    "## RF"
   ]
  },
  {
   "cell_type": "code",
   "execution_count": 20,
   "metadata": {
    "ExecuteTime": {
     "end_time": "2021-10-01T07:28:56.735439Z",
     "start_time": "2021-10-01T07:28:44.559Z"
    }
   },
   "outputs": [
    {
     "data": {
      "text/plain": [
       "Supervised task: feats_f %>% select(-dataset_name)\n",
       "Type: classif\n",
       "Target: westernized\n",
       "Observations: 2943\n",
       "Features:\n",
       "   numerics     factors     ordered functionals \n",
       "          4           0           0           0 \n",
       "Missings: FALSE\n",
       "Has weights: FALSE\n",
       "Has blocking: TRUE\n",
       "Has coordinates: FALSE\n",
       "Classes: 2\n",
       "FALSE  TRUE \n",
       "  455  2488 \n",
       "Positive class: FALSE"
      ]
     },
     "metadata": {},
     "output_type": "display_data"
    }
   ],
   "source": [
    "# creating mlr task\n",
    "tsk = makeClassifTask(data = feats_f %>% select(-dataset_name), \n",
    "                      target = target, \n",
    "                      blocking = feats_f$dataset_name %>% as.factor)\n",
    "tsk"
   ]
  },
  {
   "cell_type": "code",
   "execution_count": 21,
   "metadata": {
    "ExecuteTime": {
     "end_time": "2021-10-01T07:28:56.759994Z",
     "start_time": "2021-10-01T07:28:44.562Z"
    }
   },
   "outputs": [
    {
     "data": {
      "text/plain": [
       "Supervised task: feats_f %>% select(-dataset_name)\n",
       "Type: classif\n",
       "Target: westernized\n",
       "Observations: 953\n",
       "Features:\n",
       "   numerics     factors     ordered functionals \n",
       "          4           0           0           0 \n",
       "Missings: FALSE\n",
       "Has weights: FALSE\n",
       "Has blocking: TRUE\n",
       "Has coordinates: FALSE\n",
       "Classes: 2\n",
       "FALSE  TRUE \n",
       "  455   498 \n",
       "Positive class: FALSE"
      ]
     },
     "metadata": {},
     "output_type": "display_data"
    }
   ],
   "source": [
    "# what sampling rate to use?\n",
    "rate = 1/5\n",
    "undersample(tsk, rate = rate)"
   ]
  },
  {
   "cell_type": "code",
   "execution_count": 22,
   "metadata": {
    "ExecuteTime": {
     "end_time": "2021-10-01T07:28:57.609716Z",
     "start_time": "2021-10-01T07:28:44.565Z"
    }
   },
   "outputs": [
    {
     "data": {
      "text/plain": [
       "Learner classif.cforest from package party\n",
       "Type: classif\n",
       "Name: Random forest based on conditional inference trees; Short name: cforest\n",
       "Class: classif.cforest\n",
       "Properties: twoclass,multiclass,prob,factors,numerics,ordered,weights,missings,featimp\n",
       "Predict-Type: prob\n",
       "Hyperparameters: ntree=500,mtry=4\n"
      ]
     },
     "metadata": {},
     "output_type": "display_data"
    }
   ],
   "source": [
    "## feature selection (wrapping the RF learner)\n",
    "lrn = makeLearner('classif.cforest', predict.type = 'prob', \n",
    "                  ntree = 500, mtry=4)\n",
    "lrn"
   ]
  },
  {
   "cell_type": "code",
   "execution_count": 23,
   "metadata": {
    "ExecuteTime": {
     "end_time": "2021-10-01T07:28:57.633301Z",
     "start_time": "2021-10-01T07:28:44.569Z"
    }
   },
   "outputs": [
    {
     "data": {
      "text/plain": [
       "Learner classif.cforest.undersampled from package mlr,party\n",
       "Type: classif\n",
       "Name: ; Short name: \n",
       "Class: UndersampleWrapper\n",
       "Properties: numerics,factors,ordered,missings,weights,prob,twoclass,multiclass,featimp\n",
       "Predict-Type: prob\n",
       "Hyperparameters: ntree=500,mtry=4,usw.rate=0.2\n"
      ]
     },
     "metadata": {},
     "output_type": "display_data"
    }
   ],
   "source": [
    "# sampling\n",
    "lrn = makeUndersampleWrapper(lrn, usw.rate = rate)\n",
    "lrn"
   ]
  },
  {
   "cell_type": "code",
   "execution_count": 24,
   "metadata": {
    "ExecuteTime": {
     "end_time": "2021-10-01T07:29:08.176466Z",
     "start_time": "2021-10-01T07:28:44.571Z"
    }
   },
   "outputs": [
    {
     "name": "stderr",
     "output_type": "stream",
     "text": [
      "Starting parallelization in mode=multicore with cpus=8.\n",
      "\n",
      "Resampling: cross-validation\n",
      "\n",
      "Measures:             auc       acc       mcc       f1        \n",
      "\n",
      "Mapping in parallel: mode = multicore; level = mlr.resample; cpus = 8; elements = 5.\n",
      "\n",
      "\n",
      "\n",
      "\n",
      "Aggregated Result: auc.test.mean=0.6562581,acc.test.mean=0.6500346,mcc.test.mean=0.1831888,f1.test.mean=0.3397478\n",
      "\n",
      "\n",
      "\n",
      "\n",
      "Stopped parallelization. All cleaned up.\n",
      "\n"
     ]
    }
   ],
   "source": [
    "## evaluation \n",
    "parallelStartMulticore(cpus=threads, level = 'mlr.resample')\n",
    "rs = makeResampleDesc('CV', iters = cv_iters)\n",
    "res = resample(lrn, tsk, \n",
    "               resampling = rs,  \n",
    "               models = TRUE,\n",
    "               measures = measures)\n",
    "parallelStop()"
   ]
  },
  {
   "cell_type": "markdown",
   "metadata": {},
   "source": [
    "### Performance"
   ]
  },
  {
   "cell_type": "code",
   "execution_count": 25,
   "metadata": {
    "ExecuteTime": {
     "end_time": "2021-10-01T07:29:08.207696Z",
     "start_time": "2021-10-01T07:28:44.576Z"
    }
   },
   "outputs": [
    {
     "data": {
      "text/html": [
       "<table class=\"dataframe\">\n",
       "<caption>A data.frame: 5 × 5</caption>\n",
       "<thead>\n",
       "\t<tr><th scope=col>iter</th><th scope=col>auc</th><th scope=col>acc</th><th scope=col>mcc</th><th scope=col>f1</th></tr>\n",
       "\t<tr><th scope=col>&lt;int&gt;</th><th scope=col>&lt;dbl&gt;</th><th scope=col>&lt;dbl&gt;</th><th scope=col>&lt;dbl&gt;</th><th scope=col>&lt;dbl&gt;</th></tr>\n",
       "</thead>\n",
       "<tbody>\n",
       "\t<tr><td>1</td><td>0.6445651</td><td>0.6298812</td><td>0.1386980</td><td>0.3144654</td></tr>\n",
       "\t<tr><td>2</td><td>0.6937240</td><td>0.6921769</td><td>0.2587597</td><td>0.3780069</td></tr>\n",
       "\t<tr><td>3</td><td>0.6367397</td><td>0.6485569</td><td>0.1669198</td><td>0.3344051</td></tr>\n",
       "\t<tr><td>4</td><td>0.6390696</td><td>0.6598639</td><td>0.1786198</td><td>0.3506494</td></tr>\n",
       "\t<tr><td>5</td><td>0.6671919</td><td>0.6196944</td><td>0.1729466</td><td>0.3212121</td></tr>\n",
       "</tbody>\n",
       "</table>\n"
      ],
      "text/latex": [
       "A data.frame: 5 × 5\n",
       "\\begin{tabular}{lllll}\n",
       " iter & auc & acc & mcc & f1\\\\\n",
       " <int> & <dbl> & <dbl> & <dbl> & <dbl>\\\\\n",
       "\\hline\n",
       "\t 1 & 0.6445651 & 0.6298812 & 0.1386980 & 0.3144654\\\\\n",
       "\t 2 & 0.6937240 & 0.6921769 & 0.2587597 & 0.3780069\\\\\n",
       "\t 3 & 0.6367397 & 0.6485569 & 0.1669198 & 0.3344051\\\\\n",
       "\t 4 & 0.6390696 & 0.6598639 & 0.1786198 & 0.3506494\\\\\n",
       "\t 5 & 0.6671919 & 0.6196944 & 0.1729466 & 0.3212121\\\\\n",
       "\\end{tabular}\n"
      ],
      "text/markdown": [
       "\n",
       "A data.frame: 5 × 5\n",
       "\n",
       "| iter &lt;int&gt; | auc &lt;dbl&gt; | acc &lt;dbl&gt; | mcc &lt;dbl&gt; | f1 &lt;dbl&gt; |\n",
       "|---|---|---|---|---|\n",
       "| 1 | 0.6445651 | 0.6298812 | 0.1386980 | 0.3144654 |\n",
       "| 2 | 0.6937240 | 0.6921769 | 0.2587597 | 0.3780069 |\n",
       "| 3 | 0.6367397 | 0.6485569 | 0.1669198 | 0.3344051 |\n",
       "| 4 | 0.6390696 | 0.6598639 | 0.1786198 | 0.3506494 |\n",
       "| 5 | 0.6671919 | 0.6196944 | 0.1729466 | 0.3212121 |\n",
       "\n"
      ],
      "text/plain": [
       "  iter auc       acc       mcc       f1       \n",
       "1 1    0.6445651 0.6298812 0.1386980 0.3144654\n",
       "2 2    0.6937240 0.6921769 0.2587597 0.3780069\n",
       "3 3    0.6367397 0.6485569 0.1669198 0.3344051\n",
       "4 4    0.6390696 0.6598639 0.1786198 0.3506494\n",
       "5 5    0.6671919 0.6196944 0.1729466 0.3212121"
      ]
     },
     "metadata": {},
     "output_type": "display_data"
    }
   ],
   "source": [
    "df.dims(30)\n",
    "perf_res[['westernized_RF']] = res$measures.test\n",
    "res$measures.test\n",
    "df.dims()"
   ]
  },
  {
   "cell_type": "code",
   "execution_count": 26,
   "metadata": {
    "ExecuteTime": {
     "end_time": "2021-10-01T07:29:08.644213Z",
     "start_time": "2021-10-01T07:28:44.579Z"
    }
   },
   "outputs": [
    {
     "name": "stdout",
     "output_type": "stream",
     "text": [
      "--AUC--\n",
      "   Min. 1st Qu.  Median    Mean 3rd Qu.    Max. \n",
      " 0.6367  0.6391  0.6446  0.6563  0.6672  0.6937 \n",
      "--F1--\n",
      "   Min. 1st Qu.  Median    Mean 3rd Qu.    Max. \n",
      " 0.3145  0.3212  0.3344  0.3397  0.3506  0.3780 \n",
      "--plot--\n"
     ]
    },
    {
     "data": {
      "image/png": "[encoded data removed]",
      "text/plain": [
       "plot without title"
      ]
     },
     "metadata": {
      "image/png": {
       "height": 250,
       "width": 400
      }
     },
     "output_type": "display_data"
    }
   ],
   "source": [
    "# performance\n",
    "cls_perf(res)"
   ]
  },
  {
   "cell_type": "code",
   "execution_count": 27,
   "metadata": {
    "ExecuteTime": {
     "end_time": "2021-10-01T07:29:13.047598Z",
     "start_time": "2021-10-01T07:28:44.582Z"
    }
   },
   "outputs": [
    {
     "data": {
      "text/html": [
       "<table class=\"dataframe\">\n",
       "<caption>A data.table: 20 × 3</caption>\n",
       "<thead>\n",
       "\t<tr><th scope=col>cv_rep</th><th scope=col>variable</th><th scope=col>importance</th></tr>\n",
       "\t<tr><th scope=col>&lt;int&gt;</th><th scope=col>&lt;chr&gt;</th><th scope=col>&lt;dbl&gt;</th></tr>\n",
       "</thead>\n",
       "<tbody>\n",
       "\t<tr><td>1</td><td>nobs   </td><td>0.03660932</td></tr>\n",
       "\t<tr><td>1</td><td>shannon</td><td>0.01524731</td></tr>\n",
       "\t<tr><td>⋮</td><td>⋮</td><td>⋮</td></tr>\n",
       "\t<tr><td>5</td><td>simpson</td><td>0.03091489</td></tr>\n",
       "\t<tr><td>5</td><td>pielou </td><td>0.02682979</td></tr>\n",
       "</tbody>\n",
       "</table>\n"
      ],
      "text/latex": [
       "A data.table: 20 × 3\n",
       "\\begin{tabular}{lll}\n",
       " cv\\_rep & variable & importance\\\\\n",
       " <int> & <chr> & <dbl>\\\\\n",
       "\\hline\n",
       "\t 1 & nobs    & 0.03660932\\\\\n",
       "\t 1 & shannon & 0.01524731\\\\\n",
       "\t ⋮ & ⋮ & ⋮\\\\\n",
       "\t 5 & simpson & 0.03091489\\\\\n",
       "\t 5 & pielou  & 0.02682979\\\\\n",
       "\\end{tabular}\n"
      ],
      "text/markdown": [
       "\n",
       "A data.table: 20 × 3\n",
       "\n",
       "| cv_rep &lt;int&gt; | variable &lt;chr&gt; | importance &lt;dbl&gt; |\n",
       "|---|---|---|\n",
       "| 1 | nobs    | 0.03660932 |\n",
       "| 1 | shannon | 0.01524731 |\n",
       "| ⋮ | ⋮ | ⋮ |\n",
       "| 5 | simpson | 0.03091489 |\n",
       "| 5 | pielou  | 0.02682979 |\n",
       "\n"
      ],
      "text/plain": [
       "   cv_rep variable importance\n",
       "1  1      nobs     0.03660932\n",
       "2  1      shannon  0.01524731\n",
       "⋮  ⋮      ⋮        ⋮         \n",
       "19 5      simpson  0.03091489\n",
       "20 5      pielou   0.02682979"
      ]
     },
     "metadata": {},
     "output_type": "display_data"
    }
   ],
   "source": [
    "# getting feat imp\n",
    "feat_imp = get_feat_imp(res)\n",
    "feat_imp"
   ]
  },
  {
   "cell_type": "code",
   "execution_count": 28,
   "metadata": {
    "ExecuteTime": {
     "end_time": "2021-10-01T07:29:13.589585Z",
     "start_time": "2021-10-01T07:28:44.585Z"
    }
   },
   "outputs": [
    {
     "name": "stdout",
     "output_type": "stream",
     "text": [
      "File written: /ebio/abt3_projects2/global_metagenome_diversity/ipynb/03_ML/.figures/bc857e54d0c1e0cddbd778b2e870c039.RDS \n"
     ]
    },
    {
     "data": {
      "image/png": "[encoded data removed]",
      "text/plain": [
       "plot without title"
      ]
     },
     "metadata": {
      "image/png": {
       "height": 300,
       "width": 400
      }
     },
     "output_type": "display_data"
    }
   ],
   "source": [
    "# plotting the most important features\n",
    "p = plot_feat_imp(feat_imp, y_offset=-0.005)\n",
    "p.dims(4,3)\n",
    "Plot(p)"
   ]
  },
  {
   "cell_type": "markdown",
   "metadata": {},
   "source": [
    "# Gender"
   ]
  },
  {
   "cell_type": "code",
   "execution_count": 29,
   "metadata": {
    "ExecuteTime": {
     "end_time": "2021-10-01T07:29:13.609815Z",
     "start_time": "2021-10-01T07:28:44.591Z"
    }
   },
   "outputs": [],
   "source": [
    "target = 'gender'\n",
    "measures = list(auc, acc, mcc, f1)\n",
    "cv_iters = 5"
   ]
  },
  {
   "cell_type": "code",
   "execution_count": 30,
   "metadata": {
    "ExecuteTime": {
     "end_time": "2021-10-01T07:29:13.653710Z",
     "start_time": "2021-10-01T07:28:44.595Z"
    }
   },
   "outputs": [
    {
     "data": {
      "text/html": [
       "<table class=\"dataframe\">\n",
       "<caption>A data.frame: 1825 × 6</caption>\n",
       "<thead>\n",
       "\t<tr><th></th><th scope=col>dataset_name</th><th scope=col>gender</th><th scope=col>nobs</th><th scope=col>shannon</th><th scope=col>simpson</th><th scope=col>pielou</th></tr>\n",
       "\t<tr><th></th><th scope=col>&lt;chr&gt;</th><th scope=col>&lt;chr&gt;</th><th scope=col>&lt;int&gt;</th><th scope=col>&lt;dbl&gt;</th><th scope=col>&lt;dbl&gt;</th><th scope=col>&lt;dbl&gt;</th></tr>\n",
       "</thead>\n",
       "<tbody>\n",
       "\t<tr><th scope=row>A11_01_1FE</th><td>PasolliE_2018</td><td>male</td><td>233</td><td>3.576704</td><td>0.9286988</td><td>0.4375333</td></tr>\n",
       "\t<tr><th scope=row>A13_01_1FE</th><td>PasolliE_2018</td><td>male</td><td>250</td><td>4.438556</td><td>0.9763921</td><td>0.5429624</td></tr>\n",
       "\t<tr><th scope=row>⋮</th><td>⋮</td><td>⋮</td><td>⋮</td><td>⋮</td><td>⋮</td><td>⋮</td></tr>\n",
       "\t<tr><th scope=row>YSZC12003_37879</th><td>XieH_2016</td><td>female</td><td>196</td><td>3.230018</td><td>0.8847015</td><td>0.3951236</td></tr>\n",
       "\t<tr><th scope=row>YSZC12003_37880</th><td>XieH_2016</td><td>female</td><td>267</td><td>3.703088</td><td>0.9290237</td><td>0.4529936</td></tr>\n",
       "</tbody>\n",
       "</table>\n"
      ],
      "text/latex": [
       "A data.frame: 1825 × 6\n",
       "\\begin{tabular}{r|llllll}\n",
       "  & dataset\\_name & gender & nobs & shannon & simpson & pielou\\\\\n",
       "  & <chr> & <chr> & <int> & <dbl> & <dbl> & <dbl>\\\\\n",
       "\\hline\n",
       "\tA11\\_01\\_1FE & PasolliE\\_2018 & male & 233 & 3.576704 & 0.9286988 & 0.4375333\\\\\n",
       "\tA13\\_01\\_1FE & PasolliE\\_2018 & male & 250 & 4.438556 & 0.9763921 & 0.5429624\\\\\n",
       "\t⋮ & ⋮ & ⋮ & ⋮ & ⋮ & ⋮ & ⋮\\\\\n",
       "\tYSZC12003\\_37879 & XieH\\_2016 & female & 196 & 3.230018 & 0.8847015 & 0.3951236\\\\\n",
       "\tYSZC12003\\_37880 & XieH\\_2016 & female & 267 & 3.703088 & 0.9290237 & 0.4529936\\\\\n",
       "\\end{tabular}\n"
      ],
      "text/markdown": [
       "\n",
       "A data.frame: 1825 × 6\n",
       "\n",
       "| <!--/--> | dataset_name &lt;chr&gt; | gender &lt;chr&gt; | nobs &lt;int&gt; | shannon &lt;dbl&gt; | simpson &lt;dbl&gt; | pielou &lt;dbl&gt; |\n",
       "|---|---|---|---|---|---|---|\n",
       "| A11_01_1FE | PasolliE_2018 | male | 233 | 3.576704 | 0.9286988 | 0.4375333 |\n",
       "| A13_01_1FE | PasolliE_2018 | male | 250 | 4.438556 | 0.9763921 | 0.5429624 |\n",
       "| ⋮ | ⋮ | ⋮ | ⋮ | ⋮ | ⋮ | ⋮ |\n",
       "| YSZC12003_37879 | XieH_2016 | female | 196 | 3.230018 | 0.8847015 | 0.3951236 |\n",
       "| YSZC12003_37880 | XieH_2016 | female | 267 | 3.703088 | 0.9290237 | 0.4529936 |\n",
       "\n"
      ],
      "text/plain": [
       "                dataset_name  gender nobs shannon  simpson   pielou   \n",
       "A11_01_1FE      PasolliE_2018 male   233  3.576704 0.9286988 0.4375333\n",
       "A13_01_1FE      PasolliE_2018 male   250  4.438556 0.9763921 0.5429624\n",
       "⋮               ⋮             ⋮      ⋮    ⋮        ⋮         ⋮        \n",
       "YSZC12003_37879 XieH_2016     female 196  3.230018 0.8847015 0.3951236\n",
       "YSZC12003_37880 XieH_2016     female 267  3.703088 0.9290237 0.4529936"
      ]
     },
     "metadata": {},
     "output_type": "display_data"
    }
   ],
   "source": [
    "# formatting\n",
    "feats_f = feats %>%\n",
    "    select.(-age, -BMI, -westernized, -disease) %>%\n",
    "    filter.(!is.na(gender),\n",
    "            gender != '') %>%\n",
    "    as.data.frame\n",
    "rownames(feats_f) = feats_f$Sample\n",
    "feats_f$Sample = NULL\n",
    "feats_f"
   ]
  },
  {
   "cell_type": "code",
   "execution_count": 31,
   "metadata": {
    "ExecuteTime": {
     "end_time": "2021-10-01T07:29:13.681617Z",
     "start_time": "2021-10-01T07:28:44.598Z"
    }
   },
   "outputs": [
    {
     "data": {
      "text/plain": [
       ".\n",
       "female   male \n",
       "  1102    723 "
      ]
     },
     "metadata": {},
     "output_type": "display_data"
    },
    {
     "data": {
      "text/plain": [
       " dataset_name          gender               nobs          shannon     \n",
       " Length:1825        Length:1825        Min.   : 84.0   Min.   :1.365  \n",
       " Class :character   Class :character   1st Qu.:238.0   1st Qu.:3.694  \n",
       " Mode  :character   Mode  :character   Median :279.0   Median :4.154  \n",
       "                                       Mean   :274.5   Mean   :4.020  \n",
       "                                       3rd Qu.:315.0   3rd Qu.:4.449  \n",
       "                                       Max.   :455.0   Max.   :5.218  \n",
       "    simpson           pielou      \n",
       " Min.   :0.4596   Min.   :0.1670  \n",
       " 1st Qu.:0.9325   1st Qu.:0.4519  \n",
       " Median :0.9620   Median :0.5081  \n",
       " Mean   :0.9431   Mean   :0.4917  \n",
       " 3rd Qu.:0.9750   3rd Qu.:0.5443  \n",
       " Max.   :0.9892   Max.   :0.6384  "
      ]
     },
     "metadata": {},
     "output_type": "display_data"
    }
   ],
   "source": [
    "# summary\n",
    "## target\n",
    "feats_f[,target] %>% table\n",
    "## all features\n",
    "feats_f %>% summary"
   ]
  },
  {
   "cell_type": "markdown",
   "metadata": {},
   "source": [
    "## RF"
   ]
  },
  {
   "cell_type": "code",
   "execution_count": 32,
   "metadata": {
    "ExecuteTime": {
     "end_time": "2021-10-01T07:29:13.709247Z",
     "start_time": "2021-10-01T07:28:44.602Z"
    }
   },
   "outputs": [
    {
     "data": {
      "text/plain": [
       "Supervised task: feats_f %>% select(-dataset_name)\n",
       "Type: classif\n",
       "Target: gender\n",
       "Observations: 1825\n",
       "Features:\n",
       "   numerics     factors     ordered functionals \n",
       "          4           0           0           0 \n",
       "Missings: FALSE\n",
       "Has weights: FALSE\n",
       "Has blocking: TRUE\n",
       "Has coordinates: FALSE\n",
       "Classes: 2\n",
       "female   male \n",
       "  1102    723 \n",
       "Positive class: female"
      ]
     },
     "metadata": {},
     "output_type": "display_data"
    }
   ],
   "source": [
    "# creating mlr task\n",
    "tsk = makeClassifTask(data = feats_f %>% select(-dataset_name), \n",
    "                      target = target, \n",
    "                      blocking = feats_f$dataset_name %>% as.factor)\n",
    "tsk"
   ]
  },
  {
   "cell_type": "code",
   "execution_count": 33,
   "metadata": {
    "ExecuteTime": {
     "end_time": "2021-10-01T07:29:13.734930Z",
     "start_time": "2021-10-01T07:28:44.605Z"
    }
   },
   "outputs": [
    {
     "data": {
      "text/plain": [
       "Supervised task: feats_f %>% select(-dataset_name)\n",
       "Type: classif\n",
       "Target: gender\n",
       "Observations: 1458\n",
       "Features:\n",
       "   numerics     factors     ordered functionals \n",
       "          4           0           0           0 \n",
       "Missings: FALSE\n",
       "Has weights: FALSE\n",
       "Has blocking: TRUE\n",
       "Has coordinates: FALSE\n",
       "Classes: 2\n",
       "female   male \n",
       "   735    723 \n",
       "Positive class: female"
      ]
     },
     "metadata": {},
     "output_type": "display_data"
    }
   ],
   "source": [
    "# what sampling rate to use?\n",
    "rate = 1/1.5\n",
    "undersample(tsk, rate = rate)"
   ]
  },
  {
   "cell_type": "code",
   "execution_count": 34,
   "metadata": {
    "ExecuteTime": {
     "end_time": "2021-10-01T07:29:13.890900Z",
     "start_time": "2021-10-01T07:28:44.610Z"
    }
   },
   "outputs": [
    {
     "data": {
      "text/plain": [
       "Learner classif.cforest from package party\n",
       "Type: classif\n",
       "Name: Random forest based on conditional inference trees; Short name: cforest\n",
       "Class: classif.cforest\n",
       "Properties: twoclass,multiclass,prob,factors,numerics,ordered,weights,missings,featimp\n",
       "Predict-Type: prob\n",
       "Hyperparameters: ntree=500,mtry=4\n"
      ]
     },
     "metadata": {},
     "output_type": "display_data"
    }
   ],
   "source": [
    "## feature selection (wrapping the RF learner)\n",
    "lrn = makeLearner('classif.cforest', predict.type = 'prob', \n",
    "                  ntree = 500, mtry = 4)\n",
    "lrn"
   ]
  },
  {
   "cell_type": "code",
   "execution_count": 35,
   "metadata": {
    "ExecuteTime": {
     "end_time": "2021-10-01T07:29:13.917079Z",
     "start_time": "2021-10-01T07:28:44.619Z"
    }
   },
   "outputs": [
    {
     "data": {
      "text/plain": [
       "Learner classif.cforest.undersampled from package mlr,party\n",
       "Type: classif\n",
       "Name: ; Short name: \n",
       "Class: UndersampleWrapper\n",
       "Properties: numerics,factors,ordered,missings,weights,prob,twoclass,multiclass,featimp\n",
       "Predict-Type: prob\n",
       "Hyperparameters: ntree=500,mtry=4,usw.rate=0.667\n"
      ]
     },
     "metadata": {},
     "output_type": "display_data"
    }
   ],
   "source": [
    "# sampling\n",
    "lrn = makeUndersampleWrapper(lrn, usw.rate = rate)\n",
    "lrn"
   ]
  },
  {
   "cell_type": "code",
   "execution_count": 36,
   "metadata": {
    "ExecuteTime": {
     "end_time": "2021-10-01T07:29:28.072228Z",
     "start_time": "2021-10-01T07:28:44.622Z"
    }
   },
   "outputs": [
    {
     "name": "stderr",
     "output_type": "stream",
     "text": [
      "Starting parallelization in mode=multicore with cpus=8.\n",
      "\n",
      "Resampling: cross-validation\n",
      "\n",
      "Measures:             auc       acc       mcc       f1        \n",
      "\n",
      "Mapping in parallel: mode = multicore; level = mlr.resample; cpus = 8; elements = 5.\n",
      "\n",
      "\n",
      "\n",
      "\n",
      "Aggregated Result: auc.test.mean=0.5851257,acc.test.mean=0.5687671,mcc.test.mean=0.1186251,f1.test.mean=0.6298591\n",
      "\n",
      "\n",
      "\n",
      "\n",
      "Stopped parallelization. All cleaned up.\n",
      "\n"
     ]
    }
   ],
   "source": [
    "## evaluation \n",
    "parallelStartMulticore(cpus=threads, level = 'mlr.resample')\n",
    "rs = makeResampleDesc('CV', iters = cv_iters)\n",
    "res = resample(lrn, tsk, \n",
    "               resampling = rs,  \n",
    "               models = TRUE,\n",
    "               measures = measures)\n",
    "parallelStop()"
   ]
  },
  {
   "cell_type": "markdown",
   "metadata": {},
   "source": [
    "### Performance"
   ]
  },
  {
   "cell_type": "code",
   "execution_count": 37,
   "metadata": {
    "ExecuteTime": {
     "end_time": "2021-10-01T07:29:28.102363Z",
     "start_time": "2021-10-01T07:28:44.626Z"
    }
   },
   "outputs": [
    {
     "data": {
      "text/html": [
       "<table class=\"dataframe\">\n",
       "<caption>A data.frame: 5 × 5</caption>\n",
       "<thead>\n",
       "\t<tr><th scope=col>iter</th><th scope=col>auc</th><th scope=col>acc</th><th scope=col>mcc</th><th scope=col>f1</th></tr>\n",
       "\t<tr><th scope=col>&lt;int&gt;</th><th scope=col>&lt;dbl&gt;</th><th scope=col>&lt;dbl&gt;</th><th scope=col>&lt;dbl&gt;</th><th scope=col>&lt;dbl&gt;</th></tr>\n",
       "</thead>\n",
       "<tbody>\n",
       "\t<tr><td>1</td><td>0.5673628</td><td>0.5534247</td><td>0.06411834</td><td>0.6320542</td></tr>\n",
       "\t<tr><td>2</td><td>0.6362829</td><td>0.5945205</td><td>0.18639239</td><td>0.6476190</td></tr>\n",
       "\t<tr><td>3</td><td>0.5533650</td><td>0.5616438</td><td>0.09019119</td><td>0.6347032</td></tr>\n",
       "\t<tr><td>4</td><td>0.5794054</td><td>0.5589041</td><td>0.10467726</td><td>0.6120482</td></tr>\n",
       "\t<tr><td>5</td><td>0.5892124</td><td>0.5753425</td><td>0.14774644</td><td>0.6228710</td></tr>\n",
       "</tbody>\n",
       "</table>\n"
      ],
      "text/latex": [
       "A data.frame: 5 × 5\n",
       "\\begin{tabular}{lllll}\n",
       " iter & auc & acc & mcc & f1\\\\\n",
       " <int> & <dbl> & <dbl> & <dbl> & <dbl>\\\\\n",
       "\\hline\n",
       "\t 1 & 0.5673628 & 0.5534247 & 0.06411834 & 0.6320542\\\\\n",
       "\t 2 & 0.6362829 & 0.5945205 & 0.18639239 & 0.6476190\\\\\n",
       "\t 3 & 0.5533650 & 0.5616438 & 0.09019119 & 0.6347032\\\\\n",
       "\t 4 & 0.5794054 & 0.5589041 & 0.10467726 & 0.6120482\\\\\n",
       "\t 5 & 0.5892124 & 0.5753425 & 0.14774644 & 0.6228710\\\\\n",
       "\\end{tabular}\n"
      ],
      "text/markdown": [
       "\n",
       "A data.frame: 5 × 5\n",
       "\n",
       "| iter &lt;int&gt; | auc &lt;dbl&gt; | acc &lt;dbl&gt; | mcc &lt;dbl&gt; | f1 &lt;dbl&gt; |\n",
       "|---|---|---|---|---|\n",
       "| 1 | 0.5673628 | 0.5534247 | 0.06411834 | 0.6320542 |\n",
       "| 2 | 0.6362829 | 0.5945205 | 0.18639239 | 0.6476190 |\n",
       "| 3 | 0.5533650 | 0.5616438 | 0.09019119 | 0.6347032 |\n",
       "| 4 | 0.5794054 | 0.5589041 | 0.10467726 | 0.6120482 |\n",
       "| 5 | 0.5892124 | 0.5753425 | 0.14774644 | 0.6228710 |\n",
       "\n"
      ],
      "text/plain": [
       "  iter auc       acc       mcc        f1       \n",
       "1 1    0.5673628 0.5534247 0.06411834 0.6320542\n",
       "2 2    0.6362829 0.5945205 0.18639239 0.6476190\n",
       "3 3    0.5533650 0.5616438 0.09019119 0.6347032\n",
       "4 4    0.5794054 0.5589041 0.10467726 0.6120482\n",
       "5 5    0.5892124 0.5753425 0.14774644 0.6228710"
      ]
     },
     "metadata": {},
     "output_type": "display_data"
    }
   ],
   "source": [
    "df.dims(30)\n",
    "perf_res[['gender_RF']] = res$measures.test\n",
    "res$measures.test\n",
    "df.dims()"
   ]
  },
  {
   "cell_type": "code",
   "execution_count": 38,
   "metadata": {
    "ExecuteTime": {
     "end_time": "2021-10-01T07:29:28.319274Z",
     "start_time": "2021-10-01T07:28:44.629Z"
    }
   },
   "outputs": [
    {
     "name": "stdout",
     "output_type": "stream",
     "text": [
      "--AUC--\n",
      "   Min. 1st Qu.  Median    Mean 3rd Qu.    Max. \n",
      " 0.5534  0.5674  0.5794  0.5851  0.5892  0.6363 \n",
      "--F1--\n",
      "   Min. 1st Qu.  Median    Mean 3rd Qu.    Max. \n",
      " 0.6120  0.6229  0.6321  0.6299  0.6347  0.6476 \n",
      "--plot--\n"
     ]
    },
    {
     "data": {
      "image/png": "[encoded data removed]",
      "text/plain": [
       "plot without title"
      ]
     },
     "metadata": {
      "image/png": {
       "height": 250,
       "width": 400
      }
     },
     "output_type": "display_data"
    }
   ],
   "source": [
    "# performance\n",
    "cls_perf(res)"
   ]
  },
  {
   "cell_type": "code",
   "execution_count": 39,
   "metadata": {
    "ExecuteTime": {
     "end_time": "2021-10-01T07:29:38.283478Z",
     "start_time": "2021-10-01T07:28:44.633Z"
    }
   },
   "outputs": [
    {
     "data": {
      "text/html": [
       "<table class=\"dataframe\">\n",
       "<caption>A data.table: 20 × 3</caption>\n",
       "<thead>\n",
       "\t<tr><th scope=col>cv_rep</th><th scope=col>variable</th><th scope=col>importance</th></tr>\n",
       "\t<tr><th scope=col>&lt;int&gt;</th><th scope=col>&lt;chr&gt;</th><th scope=col>&lt;dbl&gt;</th></tr>\n",
       "</thead>\n",
       "<tbody>\n",
       "\t<tr><td>1</td><td>nobs   </td><td>0.032144522</td></tr>\n",
       "\t<tr><td>1</td><td>shannon</td><td>0.004438228</td></tr>\n",
       "\t<tr><td>⋮</td><td>⋮</td><td>⋮</td></tr>\n",
       "\t<tr><td>5</td><td>simpson</td><td>-0.001715618</td></tr>\n",
       "\t<tr><td>5</td><td>pielou </td><td> 0.002811189</td></tr>\n",
       "</tbody>\n",
       "</table>\n"
      ],
      "text/latex": [
       "A data.table: 20 × 3\n",
       "\\begin{tabular}{lll}\n",
       " cv\\_rep & variable & importance\\\\\n",
       " <int> & <chr> & <dbl>\\\\\n",
       "\\hline\n",
       "\t 1 & nobs    & 0.032144522\\\\\n",
       "\t 1 & shannon & 0.004438228\\\\\n",
       "\t ⋮ & ⋮ & ⋮\\\\\n",
       "\t 5 & simpson & -0.001715618\\\\\n",
       "\t 5 & pielou  &  0.002811189\\\\\n",
       "\\end{tabular}\n"
      ],
      "text/markdown": [
       "\n",
       "A data.table: 20 × 3\n",
       "\n",
       "| cv_rep &lt;int&gt; | variable &lt;chr&gt; | importance &lt;dbl&gt; |\n",
       "|---|---|---|\n",
       "| 1 | nobs    | 0.032144522 |\n",
       "| 1 | shannon | 0.004438228 |\n",
       "| ⋮ | ⋮ | ⋮ |\n",
       "| 5 | simpson | -0.001715618 |\n",
       "| 5 | pielou  |  0.002811189 |\n",
       "\n"
      ],
      "text/plain": [
       "   cv_rep variable importance  \n",
       "1  1      nobs     0.032144522 \n",
       "2  1      shannon  0.004438228 \n",
       "⋮  ⋮      ⋮        ⋮           \n",
       "19 5      simpson  -0.001715618\n",
       "20 5      pielou    0.002811189"
      ]
     },
     "metadata": {},
     "output_type": "display_data"
    }
   ],
   "source": [
    "# getting feat imp\n",
    "feat_imp = get_feat_imp(res)\n",
    "feat_imp"
   ]
  },
  {
   "cell_type": "code",
   "execution_count": 40,
   "metadata": {
    "ExecuteTime": {
     "end_time": "2021-10-01T07:29:38.783716Z",
     "start_time": "2021-10-01T07:28:44.635Z"
    }
   },
   "outputs": [
    {
     "name": "stdout",
     "output_type": "stream",
     "text": [
      "File written: /ebio/abt3_projects2/global_metagenome_diversity/ipynb/03_ML/.figures/2e99bbf785dd814bcc353bcd7e5d8a0d.RDS \n"
     ]
    },
    {
     "data": {
      "image/png": "[encoded data removed]",
      "text/plain": [
       "plot without title"
      ]
     },
     "metadata": {
      "image/png": {
       "height": 300,
       "width": 400
      }
     },
     "output_type": "display_data"
    }
   ],
   "source": [
    "# plotting the most important features\n",
    "p = plot_feat_imp(feat_imp, y_offset=-0.002)\n",
    "p.dims(4,3)\n",
    "Plot(p)"
   ]
  },
  {
   "cell_type": "markdown",
   "metadata": {},
   "source": [
    "# Disease"
   ]
  },
  {
   "cell_type": "code",
   "execution_count": 41,
   "metadata": {
    "ExecuteTime": {
     "end_time": "2021-10-01T07:29:38.806697Z",
     "start_time": "2021-10-01T07:28:44.638Z"
    }
   },
   "outputs": [],
   "source": [
    "target = 'disease'\n",
    "measures = list(auc, acc, mcc, f1)\n",
    "cv_iters = 5"
   ]
  },
  {
   "cell_type": "code",
   "execution_count": 42,
   "metadata": {
    "ExecuteTime": {
     "end_time": "2021-10-01T07:29:38.856039Z",
     "start_time": "2021-10-01T07:28:44.641Z"
    }
   },
   "outputs": [
    {
     "data": {
      "text/html": [
       "<table class=\"dataframe\">\n",
       "<caption>A data.frame: 2943 × 6</caption>\n",
       "<thead>\n",
       "\t<tr><th></th><th scope=col>dataset_name</th><th scope=col>disease</th><th scope=col>nobs</th><th scope=col>shannon</th><th scope=col>simpson</th><th scope=col>pielou</th></tr>\n",
       "\t<tr><th></th><th scope=col>&lt;chr&gt;</th><th scope=col>&lt;chr&gt;</th><th scope=col>&lt;int&gt;</th><th scope=col>&lt;dbl&gt;</th><th scope=col>&lt;dbl&gt;</th><th scope=col>&lt;dbl&gt;</th></tr>\n",
       "</thead>\n",
       "<tbody>\n",
       "\t<tr><th scope=row>A01_02_1FE</th><td>PasolliE_2018</td><td>healthy</td><td>232</td><td>3.888802</td><td>0.9507426</td><td>0.4757117</td></tr>\n",
       "\t<tr><th scope=row>A02_01_1FE</th><td>PasolliE_2018</td><td>healthy</td><td>176</td><td>3.418777</td><td>0.8891672</td><td>0.4182143</td></tr>\n",
       "\t<tr><th scope=row>⋮</th><td>⋮</td><td>⋮</td><td>⋮</td><td>⋮</td><td>⋮</td><td>⋮</td></tr>\n",
       "\t<tr><th scope=row>nHMX11726</th><td>LiJ_2017     </td><td>healthy</td><td>272</td><td>3.612832</td><td>0.8932187</td><td>0.4419526</td></tr>\n",
       "\t<tr><th scope=row>scavenger.11.60.0</th><td>CosteaPI_2017</td><td>healthy</td><td>210</td><td>3.891553</td><td>0.9557596</td><td>0.4760482</td></tr>\n",
       "</tbody>\n",
       "</table>\n"
      ],
      "text/latex": [
       "A data.frame: 2943 × 6\n",
       "\\begin{tabular}{r|llllll}\n",
       "  & dataset\\_name & disease & nobs & shannon & simpson & pielou\\\\\n",
       "  & <chr> & <chr> & <int> & <dbl> & <dbl> & <dbl>\\\\\n",
       "\\hline\n",
       "\tA01\\_02\\_1FE & PasolliE\\_2018 & healthy & 232 & 3.888802 & 0.9507426 & 0.4757117\\\\\n",
       "\tA02\\_01\\_1FE & PasolliE\\_2018 & healthy & 176 & 3.418777 & 0.8891672 & 0.4182143\\\\\n",
       "\t⋮ & ⋮ & ⋮ & ⋮ & ⋮ & ⋮ & ⋮\\\\\n",
       "\tnHMX11726 & LiJ\\_2017      & healthy & 272 & 3.612832 & 0.8932187 & 0.4419526\\\\\n",
       "\tscavenger.11.60.0 & CosteaPI\\_2017 & healthy & 210 & 3.891553 & 0.9557596 & 0.4760482\\\\\n",
       "\\end{tabular}\n"
      ],
      "text/markdown": [
       "\n",
       "A data.frame: 2943 × 6\n",
       "\n",
       "| <!--/--> | dataset_name &lt;chr&gt; | disease &lt;chr&gt; | nobs &lt;int&gt; | shannon &lt;dbl&gt; | simpson &lt;dbl&gt; | pielou &lt;dbl&gt; |\n",
       "|---|---|---|---|---|---|---|\n",
       "| A01_02_1FE | PasolliE_2018 | healthy | 232 | 3.888802 | 0.9507426 | 0.4757117 |\n",
       "| A02_01_1FE | PasolliE_2018 | healthy | 176 | 3.418777 | 0.8891672 | 0.4182143 |\n",
       "| ⋮ | ⋮ | ⋮ | ⋮ | ⋮ | ⋮ | ⋮ |\n",
       "| nHMX11726 | LiJ_2017      | healthy | 272 | 3.612832 | 0.8932187 | 0.4419526 |\n",
       "| scavenger.11.60.0 | CosteaPI_2017 | healthy | 210 | 3.891553 | 0.9557596 | 0.4760482 |\n",
       "\n"
      ],
      "text/plain": [
       "                  dataset_name  disease nobs shannon  simpson   pielou   \n",
       "A01_02_1FE        PasolliE_2018 healthy 232  3.888802 0.9507426 0.4757117\n",
       "A02_01_1FE        PasolliE_2018 healthy 176  3.418777 0.8891672 0.4182143\n",
       "⋮                 ⋮             ⋮       ⋮    ⋮        ⋮         ⋮        \n",
       "nHMX11726         LiJ_2017      healthy 272  3.612832 0.8932187 0.4419526\n",
       "scavenger.11.60.0 CosteaPI_2017 healthy 210  3.891553 0.9557596 0.4760482"
      ]
     },
     "metadata": {},
     "output_type": "display_data"
    }
   ],
   "source": [
    "# formatting\n",
    "feats_f = feats %>%\n",
    "    select.(-age, -BMI, -westernized, -gender) %>%\n",
    "    filter.(!is.na(disease),\n",
    "            disease != '') %>%\n",
    "    as.data.frame\n",
    "rownames(feats_f) = feats_f$Sample\n",
    "feats_f$Sample = NULL\n",
    "feats_f"
   ]
  },
  {
   "cell_type": "code",
   "execution_count": 43,
   "metadata": {
    "ExecuteTime": {
     "end_time": "2021-10-01T07:29:38.887388Z",
     "start_time": "2021-10-01T07:28:44.644Z"
    }
   },
   "outputs": [
    {
     "data": {
      "text/plain": [
       ".\n",
       "diseased  healthy \n",
       "    1170     1773 "
      ]
     },
     "metadata": {},
     "output_type": "display_data"
    },
    {
     "data": {
      "text/plain": [
       " dataset_name         disease               nobs          shannon      \n",
       " Length:2943        Length:2943        Min.   : 23.0   Min.   :0.7248  \n",
       " Class :character   Class :character   1st Qu.:236.0   1st Qu.:3.6358  \n",
       " Mode  :character   Mode  :character   Median :279.0   Median :4.1292  \n",
       "                                       Mean   :273.5   Mean   :3.9862  \n",
       "                                       3rd Qu.:316.0   3rd Qu.:4.4516  \n",
       "                                       Max.   :469.0   Max.   :5.2184  \n",
       "    simpson           pielou       \n",
       " Min.   :0.2267   Min.   :0.08866  \n",
       " 1st Qu.:0.9282   1st Qu.:0.44477  \n",
       " Median :0.9601   Median :0.50512  \n",
       " Mean   :0.9383   Mean   :0.48763  \n",
       " 3rd Qu.:0.9749   3rd Qu.:0.54456  \n",
       " Max.   :0.9897   Max.   :0.63836  "
      ]
     },
     "metadata": {},
     "output_type": "display_data"
    }
   ],
   "source": [
    "# summary\n",
    "## target\n",
    "feats_f[,target] %>% table\n",
    "## all features\n",
    "feats_f %>% summary"
   ]
  },
  {
   "cell_type": "markdown",
   "metadata": {},
   "source": [
    "## RF"
   ]
  },
  {
   "cell_type": "code",
   "execution_count": 44,
   "metadata": {
    "ExecuteTime": {
     "end_time": "2021-10-01T07:29:38.919256Z",
     "start_time": "2021-10-01T07:28:44.648Z"
    }
   },
   "outputs": [
    {
     "data": {
      "text/plain": [
       "Supervised task: feats_f %>% select(-dataset_name)\n",
       "Type: classif\n",
       "Target: disease\n",
       "Observations: 2943\n",
       "Features:\n",
       "   numerics     factors     ordered functionals \n",
       "          4           0           0           0 \n",
       "Missings: FALSE\n",
       "Has weights: FALSE\n",
       "Has blocking: TRUE\n",
       "Has coordinates: FALSE\n",
       "Classes: 2\n",
       "diseased  healthy \n",
       "    1170     1773 \n",
       "Positive class: diseased"
      ]
     },
     "metadata": {},
     "output_type": "display_data"
    }
   ],
   "source": [
    "# creating mlr task\n",
    "tsk = makeClassifTask(data = feats_f %>% select(-dataset_name), \n",
    "                      target = target, \n",
    "                      blocking = feats_f$dataset_name %>% as.factor)\n",
    "tsk"
   ]
  },
  {
   "cell_type": "code",
   "execution_count": 45,
   "metadata": {
    "ExecuteTime": {
     "end_time": "2021-10-01T07:29:39.589213Z",
     "start_time": "2021-10-01T07:28:44.650Z"
    }
   },
   "outputs": [
    {
     "data": {
      "text/plain": [
       "Supervised task: feats_f %>% select(-dataset_name)\n",
       "Type: classif\n",
       "Target: disease\n",
       "Observations: 2352\n",
       "Features:\n",
       "   numerics     factors     ordered functionals \n",
       "          4           0           0           0 \n",
       "Missings: FALSE\n",
       "Has weights: FALSE\n",
       "Has blocking: TRUE\n",
       "Has coordinates: FALSE\n",
       "Classes: 2\n",
       "diseased  healthy \n",
       "    1170     1182 \n",
       "Positive class: diseased"
      ]
     },
     "metadata": {},
     "output_type": "display_data"
    }
   ],
   "source": [
    "# what sampling rate to use?\n",
    "rate = 1/1.5\n",
    "undersample(tsk, rate = rate)"
   ]
  },
  {
   "cell_type": "code",
   "execution_count": 46,
   "metadata": {
    "ExecuteTime": {
     "end_time": "2021-10-01T07:29:39.766859Z",
     "start_time": "2021-10-01T07:28:44.653Z"
    }
   },
   "outputs": [
    {
     "data": {
      "text/plain": [
       "Learner classif.cforest from package party\n",
       "Type: classif\n",
       "Name: Random forest based on conditional inference trees; Short name: cforest\n",
       "Class: classif.cforest\n",
       "Properties: twoclass,multiclass,prob,factors,numerics,ordered,weights,missings,featimp\n",
       "Predict-Type: prob\n",
       "Hyperparameters: ntree=500,mtry=4\n"
      ]
     },
     "metadata": {},
     "output_type": "display_data"
    }
   ],
   "source": [
    "## feature selection (wrapping the RF learner)\n",
    "lrn = makeLearner('classif.cforest', predict.type = 'prob', \n",
    "                  ntree = 500, mtry = 4)\n",
    "lrn"
   ]
  },
  {
   "cell_type": "code",
   "execution_count": 47,
   "metadata": {
    "ExecuteTime": {
     "end_time": "2021-10-01T07:29:39.799035Z",
     "start_time": "2021-10-01T07:28:44.655Z"
    }
   },
   "outputs": [
    {
     "data": {
      "text/plain": [
       "Learner classif.cforest.undersampled from package mlr,party\n",
       "Type: classif\n",
       "Name: ; Short name: \n",
       "Class: UndersampleWrapper\n",
       "Properties: numerics,factors,ordered,missings,weights,prob,twoclass,multiclass,featimp\n",
       "Predict-Type: prob\n",
       "Hyperparameters: ntree=500,mtry=4,usw.rate=0.667\n"
      ]
     },
     "metadata": {},
     "output_type": "display_data"
    }
   ],
   "source": [
    "# sampling\n",
    "lrn = makeUndersampleWrapper(lrn, usw.rate = rate)\n",
    "lrn"
   ]
  },
  {
   "cell_type": "code",
   "execution_count": 48,
   "metadata": {
    "ExecuteTime": {
     "end_time": "2021-10-01T07:30:13.304003Z",
     "start_time": "2021-10-01T07:28:44.657Z"
    }
   },
   "outputs": [
    {
     "name": "stderr",
     "output_type": "stream",
     "text": [
      "Starting parallelization in mode=multicore with cpus=8.\n",
      "\n",
      "Resampling: cross-validation\n",
      "\n",
      "Measures:             auc       acc       mcc       f1        \n",
      "\n",
      "Mapping in parallel: mode = multicore; level = mlr.resample; cpus = 8; elements = 5.\n",
      "\n",
      "\n",
      "\n",
      "\n",
      "Aggregated Result: auc.test.mean=0.6412012,acc.test.mean=0.5909018,mcc.test.mean=0.1851021,f1.test.mean=0.5418069\n",
      "\n",
      "\n",
      "\n",
      "\n",
      "Stopped parallelization. All cleaned up.\n",
      "\n"
     ]
    }
   ],
   "source": [
    "## evaluation \n",
    "parallelStartMulticore(cpus=threads, level = 'mlr.resample')\n",
    "rs = makeResampleDesc('CV', iters = cv_iters)\n",
    "res = resample(lrn, tsk, \n",
    "               resampling = rs,  \n",
    "               models = TRUE,\n",
    "               measures = measures)\n",
    "parallelStop()"
   ]
  },
  {
   "cell_type": "markdown",
   "metadata": {},
   "source": [
    "### Performance"
   ]
  },
  {
   "cell_type": "code",
   "execution_count": 49,
   "metadata": {
    "ExecuteTime": {
     "end_time": "2021-10-01T07:30:13.342592Z",
     "start_time": "2021-10-01T07:28:44.660Z"
    }
   },
   "outputs": [
    {
     "data": {
      "text/html": [
       "<table class=\"dataframe\">\n",
       "<caption>A data.frame: 5 × 5</caption>\n",
       "<thead>\n",
       "\t<tr><th scope=col>iter</th><th scope=col>auc</th><th scope=col>acc</th><th scope=col>mcc</th><th scope=col>f1</th></tr>\n",
       "\t<tr><th scope=col>&lt;int&gt;</th><th scope=col>&lt;dbl&gt;</th><th scope=col>&lt;dbl&gt;</th><th scope=col>&lt;dbl&gt;</th><th scope=col>&lt;dbl&gt;</th></tr>\n",
       "</thead>\n",
       "<tbody>\n",
       "\t<tr><td>1</td><td>0.6391028</td><td>0.6037415</td><td>0.1969462</td><td>0.5475728</td></tr>\n",
       "\t<tr><td>2</td><td>0.6130260</td><td>0.5738540</td><td>0.1541680</td><td>0.5126214</td></tr>\n",
       "\t<tr><td>3</td><td>0.6685625</td><td>0.6020408</td><td>0.2114385</td><td>0.5729927</td></tr>\n",
       "\t<tr><td>4</td><td>0.6237029</td><td>0.5789474</td><td>0.1567410</td><td>0.5249042</td></tr>\n",
       "\t<tr><td>5</td><td>0.6616117</td><td>0.5959253</td><td>0.2062167</td><td>0.5509434</td></tr>\n",
       "</tbody>\n",
       "</table>\n"
      ],
      "text/latex": [
       "A data.frame: 5 × 5\n",
       "\\begin{tabular}{lllll}\n",
       " iter & auc & acc & mcc & f1\\\\\n",
       " <int> & <dbl> & <dbl> & <dbl> & <dbl>\\\\\n",
       "\\hline\n",
       "\t 1 & 0.6391028 & 0.6037415 & 0.1969462 & 0.5475728\\\\\n",
       "\t 2 & 0.6130260 & 0.5738540 & 0.1541680 & 0.5126214\\\\\n",
       "\t 3 & 0.6685625 & 0.6020408 & 0.2114385 & 0.5729927\\\\\n",
       "\t 4 & 0.6237029 & 0.5789474 & 0.1567410 & 0.5249042\\\\\n",
       "\t 5 & 0.6616117 & 0.5959253 & 0.2062167 & 0.5509434\\\\\n",
       "\\end{tabular}\n"
      ],
      "text/markdown": [
       "\n",
       "A data.frame: 5 × 5\n",
       "\n",
       "| iter &lt;int&gt; | auc &lt;dbl&gt; | acc &lt;dbl&gt; | mcc &lt;dbl&gt; | f1 &lt;dbl&gt; |\n",
       "|---|---|---|---|---|\n",
       "| 1 | 0.6391028 | 0.6037415 | 0.1969462 | 0.5475728 |\n",
       "| 2 | 0.6130260 | 0.5738540 | 0.1541680 | 0.5126214 |\n",
       "| 3 | 0.6685625 | 0.6020408 | 0.2114385 | 0.5729927 |\n",
       "| 4 | 0.6237029 | 0.5789474 | 0.1567410 | 0.5249042 |\n",
       "| 5 | 0.6616117 | 0.5959253 | 0.2062167 | 0.5509434 |\n",
       "\n"
      ],
      "text/plain": [
       "  iter auc       acc       mcc       f1       \n",
       "1 1    0.6391028 0.6037415 0.1969462 0.5475728\n",
       "2 2    0.6130260 0.5738540 0.1541680 0.5126214\n",
       "3 3    0.6685625 0.6020408 0.2114385 0.5729927\n",
       "4 4    0.6237029 0.5789474 0.1567410 0.5249042\n",
       "5 5    0.6616117 0.5959253 0.2062167 0.5509434"
      ]
     },
     "metadata": {},
     "output_type": "display_data"
    }
   ],
   "source": [
    "df.dims(30)\n",
    "perf_res[['disease_RF']] = res$measures.test\n",
    "res$measures.test\n",
    "df.dims()"
   ]
  },
  {
   "cell_type": "code",
   "execution_count": 50,
   "metadata": {
    "ExecuteTime": {
     "end_time": "2021-10-01T07:30:13.595876Z",
     "start_time": "2021-10-01T07:28:44.663Z"
    }
   },
   "outputs": [
    {
     "name": "stdout",
     "output_type": "stream",
     "text": [
      "--AUC--\n",
      "   Min. 1st Qu.  Median    Mean 3rd Qu.    Max. \n",
      " 0.6130  0.6237  0.6391  0.6412  0.6616  0.6686 \n",
      "--F1--\n",
      "   Min. 1st Qu.  Median    Mean 3rd Qu.    Max. \n",
      " 0.5126  0.5249  0.5476  0.5418  0.5509  0.5730 \n",
      "--plot--\n"
     ]
    },
    {
     "data": {
      "image/png": "[encoded data removed]",
      "text/plain": [
       "plot without title"
      ]
     },
     "metadata": {
      "image/png": {
       "height": 250,
       "width": 400
      }
     },
     "output_type": "display_data"
    }
   ],
   "source": [
    "# performance\n",
    "cls_perf(res)"
   ]
  },
  {
   "cell_type": "code",
   "execution_count": 51,
   "metadata": {
    "ExecuteTime": {
     "end_time": "2021-10-01T07:30:24.842841Z",
     "start_time": "2021-10-01T07:28:44.665Z"
    }
   },
   "outputs": [
    {
     "data": {
      "text/html": [
       "<table class=\"dataframe\">\n",
       "<caption>A data.table: 20 × 3</caption>\n",
       "<thead>\n",
       "\t<tr><th scope=col>cv_rep</th><th scope=col>variable</th><th scope=col>importance</th></tr>\n",
       "\t<tr><th scope=col>&lt;int&gt;</th><th scope=col>&lt;chr&gt;</th><th scope=col>&lt;dbl&gt;</th></tr>\n",
       "</thead>\n",
       "<tbody>\n",
       "\t<tr><td>1</td><td>nobs   </td><td>0.06815630</td></tr>\n",
       "\t<tr><td>1</td><td>shannon</td><td>0.04791896</td></tr>\n",
       "\t<tr><td>⋮</td><td>⋮</td><td>⋮</td></tr>\n",
       "\t<tr><td>5</td><td>simpson</td><td>0.002741703</td></tr>\n",
       "\t<tr><td>5</td><td>pielou </td><td>0.022911977</td></tr>\n",
       "</tbody>\n",
       "</table>\n"
      ],
      "text/latex": [
       "A data.table: 20 × 3\n",
       "\\begin{tabular}{lll}\n",
       " cv\\_rep & variable & importance\\\\\n",
       " <int> & <chr> & <dbl>\\\\\n",
       "\\hline\n",
       "\t 1 & nobs    & 0.06815630\\\\\n",
       "\t 1 & shannon & 0.04791896\\\\\n",
       "\t ⋮ & ⋮ & ⋮\\\\\n",
       "\t 5 & simpson & 0.002741703\\\\\n",
       "\t 5 & pielou  & 0.022911977\\\\\n",
       "\\end{tabular}\n"
      ],
      "text/markdown": [
       "\n",
       "A data.table: 20 × 3\n",
       "\n",
       "| cv_rep &lt;int&gt; | variable &lt;chr&gt; | importance &lt;dbl&gt; |\n",
       "|---|---|---|\n",
       "| 1 | nobs    | 0.06815630 |\n",
       "| 1 | shannon | 0.04791896 |\n",
       "| ⋮ | ⋮ | ⋮ |\n",
       "| 5 | simpson | 0.002741703 |\n",
       "| 5 | pielou  | 0.022911977 |\n",
       "\n"
      ],
      "text/plain": [
       "   cv_rep variable importance \n",
       "1  1      nobs     0.06815630 \n",
       "2  1      shannon  0.04791896 \n",
       "⋮  ⋮      ⋮        ⋮          \n",
       "19 5      simpson  0.002741703\n",
       "20 5      pielou   0.022911977"
      ]
     },
     "metadata": {},
     "output_type": "display_data"
    }
   ],
   "source": [
    "# getting feat imp\n",
    "feat_imp = get_feat_imp(res)\n",
    "feat_imp"
   ]
  },
  {
   "cell_type": "code",
   "execution_count": 52,
   "metadata": {
    "ExecuteTime": {
     "end_time": "2021-10-01T07:30:25.341295Z",
     "start_time": "2021-10-01T07:28:44.667Z"
    }
   },
   "outputs": [
    {
     "name": "stdout",
     "output_type": "stream",
     "text": [
      "File written: /ebio/abt3_projects2/global_metagenome_diversity/ipynb/03_ML/.figures/71b5369dca5ea8844438c68885636007.RDS \n"
     ]
    },
    {
     "data": {
      "image/png": "[encoded data removed]",
      "text/plain": [
       "plot without title"
      ]
     },
     "metadata": {
      "image/png": {
       "height": 300,
       "width": 400
      }
     },
     "output_type": "display_data"
    }
   ],
   "source": [
    "# plotting the most important features\n",
    "p = plot_feat_imp(feat_imp, y_offset=-0.003)\n",
    "p.dims(4,3)\n",
    "Plot(p)"
   ]
  },
  {
   "cell_type": "markdown",
   "metadata": {},
   "source": [
    "# Performance summary"
   ]
  },
  {
   "cell_type": "code",
   "execution_count": 53,
   "metadata": {
    "ExecuteTime": {
     "end_time": "2021-10-01T07:30:25.393992Z",
     "start_time": "2021-10-01T07:28:44.670Z"
    }
   },
   "outputs": [
    {
     "data": {
      "text/html": [
       "<table class=\"dataframe\">\n",
       "<caption>A tidytable: 30 × 4</caption>\n",
       "<thead>\n",
       "\t<tr><th scope=col>iter</th><th scope=col>target</th><th scope=col>measure</th><th scope=col>value</th></tr>\n",
       "\t<tr><th scope=col>&lt;int&gt;</th><th scope=col>&lt;chr&gt;</th><th scope=col>&lt;chr&gt;</th><th scope=col>&lt;dbl&gt;</th></tr>\n",
       "</thead>\n",
       "<tbody>\n",
       "\t<tr><td>1</td><td>westernized</td><td>auc</td><td>0.6445651</td></tr>\n",
       "\t<tr><td>2</td><td>westernized</td><td>auc</td><td>0.6937240</td></tr>\n",
       "\t<tr><td>⋮</td><td>⋮</td><td>⋮</td><td>⋮</td></tr>\n",
       "\t<tr><td>4</td><td>disease</td><td>f1</td><td>0.5249042</td></tr>\n",
       "\t<tr><td>5</td><td>disease</td><td>f1</td><td>0.5509434</td></tr>\n",
       "</tbody>\n",
       "</table>\n"
      ],
      "text/latex": [
       "A tidytable: 30 × 4\n",
       "\\begin{tabular}{llll}\n",
       " iter & target & measure & value\\\\\n",
       " <int> & <chr> & <chr> & <dbl>\\\\\n",
       "\\hline\n",
       "\t 1 & westernized & auc & 0.6445651\\\\\n",
       "\t 2 & westernized & auc & 0.6937240\\\\\n",
       "\t ⋮ & ⋮ & ⋮ & ⋮\\\\\n",
       "\t 4 & disease & f1 & 0.5249042\\\\\n",
       "\t 5 & disease & f1 & 0.5509434\\\\\n",
       "\\end{tabular}\n"
      ],
      "text/markdown": [
       "\n",
       "A tidytable: 30 × 4\n",
       "\n",
       "| iter &lt;int&gt; | target &lt;chr&gt; | measure &lt;chr&gt; | value &lt;dbl&gt; |\n",
       "|---|---|---|---|\n",
       "| 1 | westernized | auc | 0.6445651 |\n",
       "| 2 | westernized | auc | 0.6937240 |\n",
       "| ⋮ | ⋮ | ⋮ | ⋮ |\n",
       "| 4 | disease | f1 | 0.5249042 |\n",
       "| 5 | disease | f1 | 0.5509434 |\n",
       "\n"
      ],
      "text/plain": [
       "   iter target      measure value    \n",
       "1  1    westernized auc     0.6445651\n",
       "2  2    westernized auc     0.6937240\n",
       "⋮  ⋮    ⋮           ⋮       ⋮        \n",
       "29 4    disease     f1      0.5249042\n",
       "30 5    disease     f1      0.5509434"
      ]
     },
     "metadata": {},
     "output_type": "display_data"
    }
   ],
   "source": [
    "# formatting\n",
    "perf_res_f = perf_res %>%\n",
    "    rbindlist(use.names=TRUE, idcol='dataset') %>%\n",
    "    separate.(dataset, c('target', 'model'), sep='_') %>%\n",
    "    filter.(model == 'RF') %>%\n",
    "    select.(iter, auc, f1, target) %>%\n",
    "    pivot_longer.(cols=c(auc, f1), names_to='measure', values_to='value') \n",
    "perf_res_f"
   ]
  },
  {
   "cell_type": "code",
   "execution_count": 54,
   "metadata": {
    "ExecuteTime": {
     "end_time": "2021-10-01T07:30:25.810811Z",
     "start_time": "2021-10-01T07:28:44.674Z"
    }
   },
   "outputs": [
    {
     "data": {
      "image/png": "[encoded data removed]",
      "text/plain": [
       "plot without title"
      ]
     },
     "metadata": {
      "image/png": {
       "height": 200,
       "width": 600
      }
     },
     "output_type": "display_data"
    }
   ],
   "source": [
    "# plotting\n",
    "p = perf_res_f %>%\n",
    "    mutate.(target = ifelse(target == 'disease', 'disease\\nstatus', target)) %>%\n",
    "    mutate.(measure = case_when.(measure == 'auc' ~ 'AUC',\n",
    "                                 measure == 'f1' ~ 'F1')) %>%\n",
    "    mutate.(mean_value = mean(value),\n",
    "            .by=c(target, measure)) %>%\n",
    "    mutate.(target = target %>% reorder(-mean_value)) %>%\n",
    "    ggplot(aes(target, value)) +\n",
    "    geom_boxplot() +\n",
    "    labs(x='Phenotype') +\n",
    "    facet_wrap(~ measure, scales='free_y') +\n",
    "    theme_bw() +\n",
    "    theme(\n",
    "        axis.title.x = element_text(vjust=4)\n",
    "    )\n",
    "p.dims(6,2)\n",
    "plot(p)"
   ]
  },
  {
   "cell_type": "markdown",
   "metadata": {},
   "source": [
    "## Comparing to performance to all measures"
   ]
  },
  {
   "cell_type": "code",
   "execution_count": 55,
   "metadata": {
    "ExecuteTime": {
     "end_time": "2021-10-01T07:30:25.854928Z",
     "start_time": "2021-10-01T07:28:44.677Z"
    }
   },
   "outputs": [
    {
     "data": {
      "text/html": [
       "<table class=\"dataframe\">\n",
       "<caption>A data.table: 60 × 5</caption>\n",
       "<thead>\n",
       "\t<tr><th scope=col>iter</th><th scope=col>target</th><th scope=col>measure</th><th scope=col>value</th><th scope=col>dataset</th></tr>\n",
       "\t<tr><th scope=col>&lt;int&gt;</th><th scope=col>&lt;chr&gt;</th><th scope=col>&lt;chr&gt;</th><th scope=col>&lt;dbl&gt;</th><th scope=col>&lt;chr&gt;</th></tr>\n",
       "</thead>\n",
       "<tbody>\n",
       "\t<tr><td>1</td><td>westernized</td><td>auc</td><td>0.6445651</td><td>tree-agnostic</td></tr>\n",
       "\t<tr><td>2</td><td>westernized</td><td>auc</td><td>0.6937240</td><td>tree-agnostic</td></tr>\n",
       "\t<tr><td>⋮</td><td>⋮</td><td>⋮</td><td>⋮</td><td>⋮</td></tr>\n",
       "\t<tr><td>4</td><td>disease</td><td>f1</td><td>0.6833013</td><td>all measures</td></tr>\n",
       "\t<tr><td>5</td><td>disease</td><td>f1</td><td>0.7015504</td><td>all measures</td></tr>\n",
       "</tbody>\n",
       "</table>\n"
      ],
      "text/latex": [
       "A data.table: 60 × 5\n",
       "\\begin{tabular}{lllll}\n",
       " iter & target & measure & value & dataset\\\\\n",
       " <int> & <chr> & <chr> & <dbl> & <chr>\\\\\n",
       "\\hline\n",
       "\t 1 & westernized & auc & 0.6445651 & tree-agnostic\\\\\n",
       "\t 2 & westernized & auc & 0.6937240 & tree-agnostic\\\\\n",
       "\t ⋮ & ⋮ & ⋮ & ⋮ & ⋮\\\\\n",
       "\t 4 & disease & f1 & 0.6833013 & all measures\\\\\n",
       "\t 5 & disease & f1 & 0.7015504 & all measures\\\\\n",
       "\\end{tabular}\n"
      ],
      "text/markdown": [
       "\n",
       "A data.table: 60 × 5\n",
       "\n",
       "| iter &lt;int&gt; | target &lt;chr&gt; | measure &lt;chr&gt; | value &lt;dbl&gt; | dataset &lt;chr&gt; |\n",
       "|---|---|---|---|---|\n",
       "| 1 | westernized | auc | 0.6445651 | tree-agnostic |\n",
       "| 2 | westernized | auc | 0.6937240 | tree-agnostic |\n",
       "| ⋮ | ⋮ | ⋮ | ⋮ | ⋮ |\n",
       "| 4 | disease | f1 | 0.6833013 | all measures |\n",
       "| 5 | disease | f1 | 0.7015504 | all measures |\n",
       "\n"
      ],
      "text/plain": [
       "   iter target      measure value     dataset      \n",
       "1  1    westernized auc     0.6445651 tree-agnostic\n",
       "2  2    westernized auc     0.6937240 tree-agnostic\n",
       "⋮  ⋮    ⋮           ⋮       ⋮         ⋮            \n",
       "59 4    disease     f1      0.6833013 all measures \n",
       "60 5    disease     f1      0.7015504 all measures "
      ]
     },
     "metadata": {},
     "output_type": "display_data"
    }
   ],
   "source": [
    "x = rbind(perf_res_f %>% mutate.(dataset = 'tree-agnostic'),\n",
    "          ml_perf_all %>% mutate.(dataset = 'all measures'))\n",
    "x"
   ]
  },
  {
   "cell_type": "code",
   "execution_count": 56,
   "metadata": {
    "ExecuteTime": {
     "end_time": "2021-10-01T07:30:26.438704Z",
     "start_time": "2021-10-01T07:28:44.680Z"
    }
   },
   "outputs": [
    {
     "data": {
      "image/png": "[encoded data removed]",
      "text/plain": [
       "plot without title"
      ]
     },
     "metadata": {
      "image/png": {
       "height": 200,
       "width": 800
      }
     },
     "output_type": "display_data"
    }
   ],
   "source": [
    "# plotting\n",
    "p = x %>%\n",
    "    mutate.(target = ifelse(target == 'disease', 'disease\\nstatus', target)) %>%\n",
    "    mutate.(measure = case_when.(measure == 'auc' ~ 'AUC',\n",
    "                                 measure == 'f1' ~ 'F1')) %>%\n",
    "    mutate.(target = factor(target, levels=c('westernized', 'disease\\nstatus', 'gender'))) %>%\n",
    "    ggplot(aes(target, value, color=dataset)) +\n",
    "    geom_boxplot() +\n",
    "    scale_color_discrete('ML model\\nfeatures') +\n",
    "    labs(x='Phenotype') +\n",
    "    facet_wrap(~ measure, scales='free_y') +\n",
    "    theme_bw() +\n",
    "    theme(\n",
    "        axis.title.x = element_text(vjust=4)\n",
    "    )\n",
    "p.dims(8,2)\n",
    "plot(p)"
   ]
  },
  {
   "cell_type": "markdown",
   "metadata": {},
   "source": [
    "### Stats"
   ]
  },
  {
   "cell_type": "code",
   "execution_count": 57,
   "metadata": {
    "ExecuteTime": {
     "end_time": "2021-10-01T07:30:26.499557Z",
     "start_time": "2021-10-01T07:28:44.683Z"
    }
   },
   "outputs": [
    {
     "data": {
      "text/html": [
       "<table class=\"dataframe\">\n",
       "<caption>A tidytable: 3 × 4</caption>\n",
       "<thead>\n",
       "\t<tr><th scope=col>statistic</th><th scope=col>p</th><th scope=col>target</th><th scope=col>padj</th></tr>\n",
       "\t<tr><th scope=col>&lt;dbl&gt;</th><th scope=col>&lt;dbl&gt;</th><th scope=col>&lt;chr&gt;</th><th scope=col>&lt;dbl&gt;</th></tr>\n",
       "</thead>\n",
       "<tbody>\n",
       "\t<tr><td>6.818182</td><td>0.009023439</td><td>disease    </td><td>0.009023439</td></tr>\n",
       "\t<tr><td>6.818182</td><td>0.009023439</td><td>gender     </td><td>0.009023439</td></tr>\n",
       "\t<tr><td>6.818182</td><td>0.009023439</td><td>westernized</td><td>0.009023439</td></tr>\n",
       "</tbody>\n",
       "</table>\n"
      ],
      "text/latex": [
       "A tidytable: 3 × 4\n",
       "\\begin{tabular}{llll}\n",
       " statistic & p & target & padj\\\\\n",
       " <dbl> & <dbl> & <chr> & <dbl>\\\\\n",
       "\\hline\n",
       "\t 6.818182 & 0.009023439 & disease     & 0.009023439\\\\\n",
       "\t 6.818182 & 0.009023439 & gender      & 0.009023439\\\\\n",
       "\t 6.818182 & 0.009023439 & westernized & 0.009023439\\\\\n",
       "\\end{tabular}\n"
      ],
      "text/markdown": [
       "\n",
       "A tidytable: 3 × 4\n",
       "\n",
       "| statistic &lt;dbl&gt; | p &lt;dbl&gt; | target &lt;chr&gt; | padj &lt;dbl&gt; |\n",
       "|---|---|---|---|\n",
       "| 6.818182 | 0.009023439 | disease     | 0.009023439 |\n",
       "| 6.818182 | 0.009023439 | gender      | 0.009023439 |\n",
       "| 6.818182 | 0.009023439 | westernized | 0.009023439 |\n",
       "\n"
      ],
      "text/plain": [
       "  statistic p           target      padj       \n",
       "1 6.818182  0.009023439 disease     0.009023439\n",
       "2 6.818182  0.009023439 gender      0.009023439\n",
       "3 6.818182  0.009023439 westernized 0.009023439"
      ]
     },
     "metadata": {},
     "output_type": "display_data"
    }
   ],
   "source": [
    "KW = function(df){\n",
    "    res = kruskal.test(df$value, df$dataset)\n",
    "    data.frame(statistic = res$statistic,\n",
    "               p = res$p.value,\n",
    "               target = df$target[1])\n",
    "}\n",
    "# AUC\n",
    "x %>%\n",
    "    filter.(measure == 'auc') %>%\n",
    "    group_split(target, measure) %>%\n",
    "    lapply(KW) %>%\n",
    "    rbindlist(use.names=TRUE) %>%\n",
    "    mutate.(p = p %>% as.Num,\n",
    "            padj = p %>% p.adjust(method='BH'))"
   ]
  },
  {
   "cell_type": "code",
   "execution_count": 58,
   "metadata": {
    "ExecuteTime": {
     "end_time": "2021-10-01T07:30:26.538829Z",
     "start_time": "2021-10-01T07:28:44.686Z"
    }
   },
   "outputs": [
    {
     "data": {
      "text/html": [
       "<table class=\"dataframe\">\n",
       "<caption>A tidytable: 3 × 4</caption>\n",
       "<thead>\n",
       "\t<tr><th scope=col>statistic</th><th scope=col>p</th><th scope=col>target</th><th scope=col>padj</th></tr>\n",
       "\t<tr><th scope=col>&lt;dbl&gt;</th><th scope=col>&lt;dbl&gt;</th><th scope=col>&lt;chr&gt;</th><th scope=col>&lt;dbl&gt;</th></tr>\n",
       "</thead>\n",
       "<tbody>\n",
       "\t<tr><td>6.818182</td><td>0.009023439</td><td>disease    </td><td>0.01353516</td></tr>\n",
       "\t<tr><td>5.770909</td><td>0.016293604</td><td>gender     </td><td>0.01629360</td></tr>\n",
       "\t<tr><td>6.818182</td><td>0.009023439</td><td>westernized</td><td>0.01353516</td></tr>\n",
       "</tbody>\n",
       "</table>\n"
      ],
      "text/latex": [
       "A tidytable: 3 × 4\n",
       "\\begin{tabular}{llll}\n",
       " statistic & p & target & padj\\\\\n",
       " <dbl> & <dbl> & <chr> & <dbl>\\\\\n",
       "\\hline\n",
       "\t 6.818182 & 0.009023439 & disease     & 0.01353516\\\\\n",
       "\t 5.770909 & 0.016293604 & gender      & 0.01629360\\\\\n",
       "\t 6.818182 & 0.009023439 & westernized & 0.01353516\\\\\n",
       "\\end{tabular}\n"
      ],
      "text/markdown": [
       "\n",
       "A tidytable: 3 × 4\n",
       "\n",
       "| statistic &lt;dbl&gt; | p &lt;dbl&gt; | target &lt;chr&gt; | padj &lt;dbl&gt; |\n",
       "|---|---|---|---|\n",
       "| 6.818182 | 0.009023439 | disease     | 0.01353516 |\n",
       "| 5.770909 | 0.016293604 | gender      | 0.01629360 |\n",
       "| 6.818182 | 0.009023439 | westernized | 0.01353516 |\n",
       "\n"
      ],
      "text/plain": [
       "  statistic p           target      padj      \n",
       "1 6.818182  0.009023439 disease     0.01353516\n",
       "2 5.770909  0.016293604 gender      0.01629360\n",
       "3 6.818182  0.009023439 westernized 0.01353516"
      ]
     },
     "metadata": {},
     "output_type": "display_data"
    }
   ],
   "source": [
    "# stats for F1\n",
    "x %>%\n",
    "    filter.(measure == 'f1') %>%\n",
    "    group_split(target, measure) %>%\n",
    "    lapply(KW) %>%\n",
    "    rbindlist(use.names=TRUE) %>%\n",
    "    mutate.(p = p %>% as.Num,\n",
    "            padj = p %>% p.adjust(method='BH'))"
   ]
  },
  {
   "cell_type": "markdown",
   "metadata": {},
   "source": [
    "# sessionInfo"
   ]
  },
  {
   "cell_type": "code",
   "execution_count": 59,
   "metadata": {
    "ExecuteTime": {
     "end_time": "2021-10-01T07:30:26.653867Z",
     "start_time": "2021-10-01T07:28:44.688Z"
    }
   },
   "outputs": [
    {
     "data": {
      "text/plain": [
       "R version 4.1.1 (2021-08-10)\n",
       "Platform: x86_64-conda-linux-gnu (64-bit)\n",
       "Running under: Ubuntu 18.04.6 LTS\n",
       "\n",
       "Matrix products: default\n",
       "BLAS/LAPACK: /ebio/abt3_projects2/global_metagenome_diversity/envs/tidyverse-ml/lib/libopenblasp-r0.3.17.so\n",
       "\n",
       "locale:\n",
       " [1] LC_CTYPE=en_US.UTF-8       LC_NUMERIC=C              \n",
       " [3] LC_TIME=en_US.UTF-8        LC_COLLATE=en_US.UTF-8    \n",
       " [5] LC_MONETARY=en_US.UTF-8    LC_MESSAGES=en_US.UTF-8   \n",
       " [7] LC_PAPER=en_US.UTF-8       LC_NAME=C                 \n",
       " [9] LC_ADDRESS=C               LC_TELEPHONE=C            \n",
       "[11] LC_MEASUREMENT=en_US.UTF-8 LC_IDENTIFICATION=C       \n",
       "\n",
       "attached base packages:\n",
       "[1] parallel  stats     graphics  grDevices utils     datasets  methods  \n",
       "[8] base     \n",
       "\n",
       "other attached packages:\n",
       " [1] parallelMap_1.5.1   randomForest_4.6-14 mlr_2.19.0         \n",
       " [4] ParamHelpers_1.14   Boruta_7.0.0        LeyLabRMisc_0.2.0  \n",
       " [7] doParallel_1.0.16   iterators_1.0.13    foreach_1.5.1      \n",
       "[10] tidytable_0.6.5     data.table_1.14.2   ggplot2_3.3.5      \n",
       "[13] tidyr_1.1.4         dplyr_1.0.7        \n",
       "\n",
       "loaded via a namespace (and not attached):\n",
       " [1] bit64_4.0.5         jsonlite_1.7.2      splines_4.1.1      \n",
       " [4] RcppParallel_5.1.4  stats4_4.1.1        coin_1.4-1         \n",
       " [7] pillar_1.6.3        backports_1.2.1     lattice_0.20-45    \n",
       "[10] glue_1.4.2          uuid_0.1-4          digest_0.6.28      \n",
       "[13] checkmate_2.0.0     colorspace_2.0-2    stringfish_0.15.2  \n",
       "[16] sandwich_3.0-1      plyr_1.8.6          htmltools_0.5.2    \n",
       "[19] Matrix_1.3-4        XML_3.99-0.8        pkgconfig_2.0.3    \n",
       "[22] purrr_0.3.4         mvtnorm_1.1-2       scales_1.1.1       \n",
       "[25] RApiSerialize_0.1.0 tibble_3.1.5        farver_2.1.0       \n",
       "[28] generics_0.1.0      ellipsis_0.3.2      party_1.3-9        \n",
       "[31] TH.data_1.1-0       withr_2.4.2         repr_1.1.3         \n",
       "[34] survival_3.2-13     strucchange_1.5-2   magrittr_2.0.1     \n",
       "[37] crayon_1.4.1        evaluate_0.14       fansi_0.4.2        \n",
       "[40] MASS_7.3-54         tools_4.1.1         lifecycle_1.0.1    \n",
       "[43] matrixStats_0.61.0  BBmisc_1.11         multcomp_1.4-17    \n",
       "[46] munsell_0.5.0       compiler_4.1.1      qs_0.25.1          \n",
       "[49] rlang_0.4.11        grid_4.1.1          pbdZMQ_0.3-5       \n",
       "[52] IRkernel_1.2        labeling_0.4.2      base64enc_0.1-3    \n",
       "[55] gtable_0.3.0        codetools_0.2-18    R6_2.5.1           \n",
       "[58] zoo_1.8-9           fastmap_1.1.0       bit_4.0.4          \n",
       "[61] utf8_1.2.2          fastmatch_1.1-3     libcoin_1.0-9      \n",
       "[64] modeltools_0.2-23   stringi_1.7.4       IRdisplay_1.0      \n",
       "[67] Rcpp_1.0.7          vctrs_0.3.8         tidyselect_1.1.1   "
      ]
     },
     "metadata": {},
     "output_type": "display_data"
    }
   ],
   "source": [
    "sessionInfo()"
   ]
  }
 ],
 "metadata": {
  "kernelspec": {
   "display_name": "R [conda env:global_metagenome_diversity-tidyverse-ml]",
   "language": "R",
   "name": "conda-env-global_metagenome_diversity-tidyverse-ml-r"
  },
  "language_info": {
   "codemirror_mode": "r",
   "file_extension": ".r",
   "mimetype": "text/x-r-source",
   "name": "R",
   "pygments_lexer": "r",
   "version": "4.1.1"
  },
  "notify_time": "30",
  "toc": {
   "base_numbering": 1,
   "nav_menu": {},
   "number_sections": true,
   "sideBar": true,
   "skip_h1_title": false,
   "title_cell": "Table of Contents",
   "title_sidebar": "Contents",
   "toc_cell": true,
   "toc_position": {
    "height": "calc(100% - 180px)",
    "left": "10px",
    "top": "150px",
    "width": "288px"
   },
   "toc_section_display": true,
   "toc_window_display": true
  }
 },
 "nbformat": 4,
 "nbformat_minor": 4
}
