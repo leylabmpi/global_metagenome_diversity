{
 "cells": [
  {
   "cell_type": "markdown",
   "metadata": {
    "toc": true
   },
   "source": [
    "<h1>Table of Contents<span class=\"tocSkip\"></span></h1>\n",
    "<div class=\"toc\"><ul class=\"toc-item\"><li><span><a href=\"#Goal\" data-toc-modified-id=\"Goal-1\"><span class=\"toc-item-num\">1&nbsp;&nbsp;</span>Goal</a></span></li><li><span><a href=\"#Var\" data-toc-modified-id=\"Var-2\"><span class=\"toc-item-num\">2&nbsp;&nbsp;</span>Var</a></span></li><li><span><a href=\"#Init\" data-toc-modified-id=\"Init-3\"><span class=\"toc-item-num\">3&nbsp;&nbsp;</span>Init</a></span></li><li><span><a href=\"#Load\" data-toc-modified-id=\"Load-4\"><span class=\"toc-item-num\">4&nbsp;&nbsp;</span>Load</a></span><ul class=\"toc-item\"><li><span><a href=\"#Metadata\" data-toc-modified-id=\"Metadata-4.1\"><span class=\"toc-item-num\">4.1&nbsp;&nbsp;</span>Metadata</a></span></li><li><span><a href=\"#Counts\" data-toc-modified-id=\"Counts-4.2\"><span class=\"toc-item-num\">4.2&nbsp;&nbsp;</span>Counts</a></span></li><li><span><a href=\"#Alpha-div\" data-toc-modified-id=\"Alpha-div-4.3\"><span class=\"toc-item-num\">4.3&nbsp;&nbsp;</span>Alpha div</a></span></li></ul></li><li><span><a href=\"#Format\" data-toc-modified-id=\"Format-5\"><span class=\"toc-item-num\">5&nbsp;&nbsp;</span>Format</a></span><ul class=\"toc-item\"><li><span><a href=\"#Overlap\" data-toc-modified-id=\"Overlap-5.1\"><span class=\"toc-item-num\">5.1&nbsp;&nbsp;</span>Overlap</a></span></li><li><span><a href=\"#Merging\" data-toc-modified-id=\"Merging-5.2\"><span class=\"toc-item-num\">5.2&nbsp;&nbsp;</span>Merging</a></span></li></ul></li><li><span><a href=\"#ML-settings\" data-toc-modified-id=\"ML-settings-6\"><span class=\"toc-item-num\">6&nbsp;&nbsp;</span>ML settings</a></span><ul class=\"toc-item\"><li><span><a href=\"#functions\" data-toc-modified-id=\"functions-6.1\"><span class=\"toc-item-num\">6.1&nbsp;&nbsp;</span>functions</a></span></li></ul></li><li><span><a href=\"#Westernization\" data-toc-modified-id=\"Westernization-7\"><span class=\"toc-item-num\">7&nbsp;&nbsp;</span>Westernization</a></span><ul class=\"toc-item\"><li><span><a href=\"#RF\" data-toc-modified-id=\"RF-7.1\"><span class=\"toc-item-num\">7.1&nbsp;&nbsp;</span>RF</a></span><ul class=\"toc-item\"><li><span><a href=\"#Performance\" data-toc-modified-id=\"Performance-7.1.1\"><span class=\"toc-item-num\">7.1.1&nbsp;&nbsp;</span>Performance</a></span></li></ul></li><li><span><a href=\"#xgboost\" data-toc-modified-id=\"xgboost-7.2\"><span class=\"toc-item-num\">7.2&nbsp;&nbsp;</span>xgboost</a></span><ul class=\"toc-item\"><li><span><a href=\"#Performance\" data-toc-modified-id=\"Performance-7.2.1\"><span class=\"toc-item-num\">7.2.1&nbsp;&nbsp;</span>Performance</a></span></li></ul></li></ul></li><li><span><a href=\"#Gender\" data-toc-modified-id=\"Gender-8\"><span class=\"toc-item-num\">8&nbsp;&nbsp;</span>Gender</a></span><ul class=\"toc-item\"><li><span><a href=\"#RF\" data-toc-modified-id=\"RF-8.1\"><span class=\"toc-item-num\">8.1&nbsp;&nbsp;</span>RF</a></span><ul class=\"toc-item\"><li><span><a href=\"#Performance\" data-toc-modified-id=\"Performance-8.1.1\"><span class=\"toc-item-num\">8.1.1&nbsp;&nbsp;</span>Performance</a></span></li></ul></li><li><span><a href=\"#xgboost\" data-toc-modified-id=\"xgboost-8.2\"><span class=\"toc-item-num\">8.2&nbsp;&nbsp;</span>xgboost</a></span><ul class=\"toc-item\"><li><span><a href=\"#Performance\" data-toc-modified-id=\"Performance-8.2.1\"><span class=\"toc-item-num\">8.2.1&nbsp;&nbsp;</span>Performance</a></span></li></ul></li></ul></li><li><span><a href=\"#Disease\" data-toc-modified-id=\"Disease-9\"><span class=\"toc-item-num\">9&nbsp;&nbsp;</span>Disease</a></span><ul class=\"toc-item\"><li><span><a href=\"#RF\" data-toc-modified-id=\"RF-9.1\"><span class=\"toc-item-num\">9.1&nbsp;&nbsp;</span>RF</a></span><ul class=\"toc-item\"><li><span><a href=\"#Performance\" data-toc-modified-id=\"Performance-9.1.1\"><span class=\"toc-item-num\">9.1.1&nbsp;&nbsp;</span>Performance</a></span></li></ul></li><li><span><a href=\"#xgboost\" data-toc-modified-id=\"xgboost-9.2\"><span class=\"toc-item-num\">9.2&nbsp;&nbsp;</span>xgboost</a></span><ul class=\"toc-item\"><li><span><a href=\"#Performance\" data-toc-modified-id=\"Performance-9.2.1\"><span class=\"toc-item-num\">9.2.1&nbsp;&nbsp;</span>Performance</a></span></li></ul></li></ul></li><li><span><a href=\"#Age\" data-toc-modified-id=\"Age-10\"><span class=\"toc-item-num\">10&nbsp;&nbsp;</span>Age</a></span><ul class=\"toc-item\"><li><span><a href=\"#RF\" data-toc-modified-id=\"RF-10.1\"><span class=\"toc-item-num\">10.1&nbsp;&nbsp;</span>RF</a></span><ul class=\"toc-item\"><li><span><a href=\"#Performance\" data-toc-modified-id=\"Performance-10.1.1\"><span class=\"toc-item-num\">10.1.1&nbsp;&nbsp;</span>Performance</a></span></li></ul></li><li><span><a href=\"#glmnet\" data-toc-modified-id=\"glmnet-10.2\"><span class=\"toc-item-num\">10.2&nbsp;&nbsp;</span>glmnet</a></span><ul class=\"toc-item\"><li><span><a href=\"#Performance\" data-toc-modified-id=\"Performance-10.2.1\"><span class=\"toc-item-num\">10.2.1&nbsp;&nbsp;</span>Performance</a></span></li></ul></li></ul></li><li><span><a href=\"#BMI\" data-toc-modified-id=\"BMI-11\"><span class=\"toc-item-num\">11&nbsp;&nbsp;</span>BMI</a></span><ul class=\"toc-item\"><li><span><a href=\"#RF\" data-toc-modified-id=\"RF-11.1\"><span class=\"toc-item-num\">11.1&nbsp;&nbsp;</span>RF</a></span><ul class=\"toc-item\"><li><span><a href=\"#Performance\" data-toc-modified-id=\"Performance-11.1.1\"><span class=\"toc-item-num\">11.1.1&nbsp;&nbsp;</span>Performance</a></span></li></ul></li><li><span><a href=\"#glmnet\" data-toc-modified-id=\"glmnet-11.2\"><span class=\"toc-item-num\">11.2&nbsp;&nbsp;</span>glmnet</a></span><ul class=\"toc-item\"><li><span><a href=\"#Peformance\" data-toc-modified-id=\"Peformance-11.2.1\"><span class=\"toc-item-num\">11.2.1&nbsp;&nbsp;</span>Peformance</a></span></li></ul></li></ul></li><li><span><a href=\"#Performance-summary\" data-toc-modified-id=\"Performance-summary-12\"><span class=\"toc-item-num\">12&nbsp;&nbsp;</span>Performance summary</a></span><ul class=\"toc-item\"><li><ul class=\"toc-item\"><li><ul class=\"toc-item\"><li><span><a href=\"#Writing-table\" data-toc-modified-id=\"Writing-table-12.0.0.1\"><span class=\"toc-item-num\">12.0.0.1&nbsp;&nbsp;</span>Writing table</a></span></li></ul></li></ul></li></ul></li><li><span><a href=\"#sessionInfo\" data-toc-modified-id=\"sessionInfo-13\"><span class=\"toc-item-num\">13&nbsp;&nbsp;</span>sessionInfo</a></span></li></ul></div>"
   ]
  },
  {
   "cell_type": "markdown",
   "metadata": {},
   "source": [
    "# Goal\n",
    "\n",
    "* ML with all previously computed alpha diversity measures:\n",
    "  * shannon & faith PD\n",
    "  * MPD & MNTD\n",
    "  * functional richness and evenness"
   ]
  },
  {
   "cell_type": "markdown",
   "metadata": {},
   "source": [
    "# Var"
   ]
  },
  {
   "cell_type": "code",
   "execution_count": 61,
   "metadata": {
    "ExecuteTime": {
     "end_time": "2021-04-18T18:57:15.473530Z",
     "start_time": "2021-04-18T18:57:15.260Z"
    }
   },
   "outputs": [],
   "source": [
    "work_dir = '/ebio/abt3_projects/databases_no-backup/curatedMetagenomicData/global_metagenomes/diversity/ML/'\n",
    "\n",
    "# sample metadata\n",
    "## filtered\n",
    "metadata_filt_file = file.path(work_dir, 'CurMetDat_metadata_filt-n1846.tsv')\n",
    "## all \n",
    "base_in_dir = '/ebio/abt3_projects/small_projects/nyoungblut/public_data_retireval/'\n",
    "metadata_file = file.path(base_in_dir, 'CurMetDat-metagenomes', 'files', 'metadata', 'Filtered_CurMetDat_f.tsv')\n",
    "\n",
    "# bracken counts\n",
    "brk_file = '/ebio/abt3_projects/databases_no-backup/curatedMetagenomicData/global_metagenomes/diversity/bracken_filt.qs'\n",
    "\n",
    "# alpha diversity\n",
    "## standard\n",
    "alpha_div_file = '/ebio/abt3_projects/databases_no-backup/curatedMetagenomicData/global_metagenomes/diversity/alpha_div_cog-pfam.tsv'\n",
    "## eco-phy\n",
    "mpd_file = '/ebio/abt3_projects/databases_no-backup/curatedMetagenomicData/global_metagenomes/diversity/MPD.tsv'\n",
    "mntd_file = '/ebio/abt3_projects/databases_no-backup/curatedMetagenomicData/global_metagenomes/diversity/MNTD.tsv'\n",
    "## FD\n",
    "fd_trt_file = '/ebio/abt3_projects/databases_no-backup/curatedMetagenomicData/global_metagenomes/diversity/Traitar_FD_m-min.RDS'\n",
    "fd_cog_file = '/ebio/abt3_projects/databases_no-backup/curatedMetagenomicData/global_metagenomes/diversity/cogcat_FD_m-min.RDS'\n",
    "\n",
    "# params\n",
    "threads = 8\n",
    "seed = 28271"
   ]
  },
  {
   "cell_type": "code",
   "execution_count": 87,
   "metadata": {
    "ExecuteTime": {
     "end_time": "2021-04-20T12:12:51.023105Z",
     "start_time": "2021-04-20T12:12:50.942Z"
    }
   },
   "outputs": [
    {
     "data": {
      "text/plain": [
       "\n",
       "To cite party in publications use:\n",
       "\n",
       "If ctree() is used cite:\n",
       "\n",
       "  Torsten Hothorn, Kurt Hornik and Achim Zeileis (2006). Unbiased\n",
       "  Recursive Partitioning: A Conditional Inference Framework. Journal of\n",
       "  Computational and Graphical Statistics, 15(3), 651--674.\n",
       "\n",
       "If mob() is used cite:\n",
       "\n",
       "  Achim Zeileis, Torsten Hothorn and Kurt Hornik (2008). Model-Based\n",
       "  Recursive Partitioning. Journal of Computational and Graphical\n",
       "  Statistics, 17(2), 492--514.\n",
       "\n",
       "If cforest() is used cite:\n",
       "\n",
       "  Torsten Hothorn, Peter Buehlmann, Sandrine Dudoit, Annette Molinaro\n",
       "  and Mark Van Der Laan (2006). Survival Ensembles. Biostatistics,\n",
       "  7(3), 355--373.\n",
       "\n",
       "  Carolin Strobl, Anne-Laure Boulesteix, Achim Zeileis and Torsten\n",
       "  Hothorn (2007). Bias in Random Forest Variable Importance Measures:\n",
       "  Illustrations, Sources and a Solution. BMC Bioinformatics, 8(25).\n",
       "\n",
       "  Carolin Strobl, Anne-Laure Boulesteix, Thomas Kneib, Thomas Augustin\n",
       "  and Achim Zeileis (2008). Conditional Variable Importance for Random\n",
       "  Forests. BMC Bioinformatics, 9(307).\n",
       "\n",
       "To see these entries in BibTeX format, use 'print(<citation>,\n",
       "bibtex=TRUE)', 'toBibtex(.)', or set\n",
       "'options(citation.bibtex.max=999)'.\n"
      ]
     },
     "metadata": {},
     "output_type": "display_data"
    }
   ],
   "source": [
    "citation('party')"
   ]
  },
  {
   "cell_type": "markdown",
   "metadata": {},
   "source": [
    "# Init"
   ]
  },
  {
   "cell_type": "code",
   "execution_count": 62,
   "metadata": {
    "ExecuteTime": {
     "end_time": "2021-04-18T18:57:15.660682Z",
     "start_time": "2021-04-18T18:57:15.552Z"
    }
   },
   "outputs": [],
   "source": [
    "library(dplyr)\n",
    "library(tidyr)\n",
    "library(ggplot2)\n",
    "library(data.table)\n",
    "library(tidytable)\n",
    "library(doParallel)\n",
    "library(LeyLabRMisc)"
   ]
  },
  {
   "cell_type": "code",
   "execution_count": 63,
   "metadata": {
    "ExecuteTime": {
     "end_time": "2021-04-18T18:57:15.809432Z",
     "start_time": "2021-04-18T18:57:15.680Z"
    }
   },
   "outputs": [],
   "source": [
    "library(Boruta)\n",
    "library(mlr)\n",
    "library(randomForest)\n",
    "library(parallelMap)"
   ]
  },
  {
   "cell_type": "code",
   "execution_count": 64,
   "metadata": {
    "ExecuteTime": {
     "end_time": "2021-04-18T18:57:15.962596Z",
     "start_time": "2021-04-18T18:57:15.871Z"
    }
   },
   "outputs": [
    {
     "name": "stdout",
     "output_type": "stream",
     "text": [
      "Directory already exists: /ebio/abt3_projects/databases_no-backup/curatedMetagenomicData/global_metagenomes/diversity/ML/ \n"
     ]
    }
   ],
   "source": [
    "setDTthreads(threads)\n",
    "make_dir(work_dir)\n",
    "set.seed(seed)\n",
    "df.dims()"
   ]
  },
  {
   "cell_type": "code",
   "execution_count": 65,
   "metadata": {
    "ExecuteTime": {
     "end_time": "2021-04-18T18:57:16.155276Z",
     "start_time": "2021-04-18T18:57:16.068Z"
    }
   },
   "outputs": [
    {
     "data": {
      "text/plain": [
       "Filter: 'boruta.filter'\n",
       "Packages: ''\n",
       "Supported tasks: classif,regr\n",
       "Supported features: numerics,factors,ordered"
      ]
     },
     "metadata": {},
     "output_type": "display_data"
    }
   ],
   "source": [
    "# custom boruta filter\n",
    "mlr_boruta_filter()"
   ]
  },
  {
   "cell_type": "markdown",
   "metadata": {},
   "source": [
    "# Load"
   ]
  },
  {
   "cell_type": "markdown",
   "metadata": {},
   "source": [
    "## Metadata"
   ]
  },
  {
   "cell_type": "code",
   "execution_count": 66,
   "metadata": {
    "ExecuteTime": {
     "end_time": "2021-04-18T18:57:16.598188Z",
     "start_time": "2021-04-18T18:57:16.430Z"
    }
   },
   "outputs": [
    {
     "name": "stderr",
     "output_type": "stream",
     "text": [
      "Warning message in require_bit64_if_needed(ans):\n",
      "“Some columns are type 'integer64' but package bit64 is not installed. Those columns will print as strange looking floating point data. There is no need to reload the data. Simply install.packages('bit64') to obtain the integer64 print method and print the data again.”\n"
     ]
    },
    {
     "data": {
      "text/html": [
       "<table class=\"dataframe\">\n",
       "<caption>A tidytable: 3582 × 70</caption>\n",
       "<thead>\n",
       "\t<tr><th scope=col>dataset_name</th><th scope=col>Sample</th><th scope=col>subjectID</th><th scope=col>body_site</th><th scope=col>antibiotics_current_use</th><th scope=col>study_condition</th><th scope=col>disease</th><th scope=col>age</th><th scope=col>age_category</th><th scope=col>gender</th><th scope=col>⋯</th><th scope=col>il_1</th><th scope=col>glp_1</th><th scope=col>travel_destination</th><th scope=col>urea_nitrogen</th><th scope=col>disease_stage</th><th scope=col>uncurated_metadata</th><th scope=col>family_member</th><th scope=col>subject_n</th><th scope=col>samp_n</th><th scope=col>westernized</th></tr>\n",
       "\t<tr><th scope=col>&lt;chr&gt;</th><th scope=col>&lt;chr&gt;</th><th scope=col>&lt;chr&gt;</th><th scope=col>&lt;chr&gt;</th><th scope=col>&lt;chr&gt;</th><th scope=col>&lt;chr&gt;</th><th scope=col>&lt;chr&gt;</th><th scope=col>&lt;int&gt;</th><th scope=col>&lt;chr&gt;</th><th scope=col>&lt;chr&gt;</th><th scope=col>⋯</th><th scope=col>&lt;dbl&gt;</th><th scope=col>&lt;dbl&gt;</th><th scope=col>&lt;chr&gt;</th><th scope=col>&lt;dbl&gt;</th><th scope=col>&lt;int&gt;</th><th scope=col>&lt;chr&gt;</th><th scope=col>&lt;chr&gt;</th><th scope=col>&lt;int&gt;</th><th scope=col>&lt;int&gt;</th><th scope=col>&lt;lgl&gt;</th></tr>\n",
       "</thead>\n",
       "<tbody>\n",
       "\t<tr><td>AsnicarF_2017</td><td>MV_FEM1_t1Q14</td><td>MV_FEM1</td><td>stool</td><td>NA</td><td>control</td><td>healthy</td><td>NA</td><td>adult</td><td>female</td><td>⋯</td><td>NA</td><td>NA</td><td>NA</td><td>NA</td><td>NA</td><td>NA</td><td>NA</td><td>1</td><td>1</td><td>TRUE</td></tr>\n",
       "\t<tr><td>AsnicarF_2017</td><td>MV_FEM2_t1Q14</td><td>MV_FEM2</td><td>stool</td><td>NA</td><td>control</td><td>healthy</td><td>NA</td><td>adult</td><td>female</td><td>⋯</td><td>NA</td><td>NA</td><td>NA</td><td>NA</td><td>NA</td><td>NA</td><td>NA</td><td>1</td><td>1</td><td>TRUE</td></tr>\n",
       "\t<tr><td>⋮</td><td>⋮</td><td>⋮</td><td>⋮</td><td>⋮</td><td>⋮</td><td>⋮</td><td>⋮</td><td>⋮</td><td>⋮</td><td>⋱</td><td>⋮</td><td>⋮</td><td>⋮</td><td>⋮</td><td>⋮</td><td>⋮</td><td>⋮</td><td>⋮</td><td>⋮</td><td>⋮</td></tr>\n",
       "\t<tr><td>ZellerG_2014</td><td>CCIS82944710ST.20.0</td><td>FR-730</td><td>stool</td><td>NA</td><td>control</td><td>healthy</td><td>38</td><td>adult</td><td>female</td><td>⋯</td><td>NA</td><td>NA</td><td>NA</td><td>NA</td><td>NA</td><td>NA</td><td>NA</td><td>1</td><td>1</td><td>TRUE</td></tr>\n",
       "\t<tr><td>ZellerG_2014</td><td>CCIS93040568ST.20.0</td><td>FR-682</td><td>stool</td><td>NA</td><td>control</td><td>healthy</td><td>65</td><td>adult</td><td>male  </td><td>⋯</td><td>NA</td><td>NA</td><td>NA</td><td>NA</td><td>NA</td><td>NA</td><td>NA</td><td>1</td><td>1</td><td>TRUE</td></tr>\n",
       "</tbody>\n",
       "</table>\n"
      ],
      "text/latex": [
       "A tidytable: 3582 × 70\n",
       "\\begin{tabular}{lllllllllllllllllllll}\n",
       " dataset\\_name & Sample & subjectID & body\\_site & antibiotics\\_current\\_use & study\\_condition & disease & age & age\\_category & gender & ⋯ & il\\_1 & glp\\_1 & travel\\_destination & urea\\_nitrogen & disease\\_stage & uncurated\\_metadata & family\\_member & subject\\_n & samp\\_n & westernized\\\\\n",
       " <chr> & <chr> & <chr> & <chr> & <chr> & <chr> & <chr> & <int> & <chr> & <chr> & ⋯ & <dbl> & <dbl> & <chr> & <dbl> & <int> & <chr> & <chr> & <int> & <int> & <lgl>\\\\\n",
       "\\hline\n",
       "\t AsnicarF\\_2017 & MV\\_FEM1\\_t1Q14 & MV\\_FEM1 & stool & NA & control & healthy & NA & adult & female & ⋯ & NA & NA & NA & NA & NA & NA & NA & 1 & 1 & TRUE\\\\\n",
       "\t AsnicarF\\_2017 & MV\\_FEM2\\_t1Q14 & MV\\_FEM2 & stool & NA & control & healthy & NA & adult & female & ⋯ & NA & NA & NA & NA & NA & NA & NA & 1 & 1 & TRUE\\\\\n",
       "\t ⋮ & ⋮ & ⋮ & ⋮ & ⋮ & ⋮ & ⋮ & ⋮ & ⋮ & ⋮ & ⋱ & ⋮ & ⋮ & ⋮ & ⋮ & ⋮ & ⋮ & ⋮ & ⋮ & ⋮ & ⋮\\\\\n",
       "\t ZellerG\\_2014 & CCIS82944710ST.20.0 & FR-730 & stool & NA & control & healthy & 38 & adult & female & ⋯ & NA & NA & NA & NA & NA & NA & NA & 1 & 1 & TRUE\\\\\n",
       "\t ZellerG\\_2014 & CCIS93040568ST.20.0 & FR-682 & stool & NA & control & healthy & 65 & adult & male   & ⋯ & NA & NA & NA & NA & NA & NA & NA & 1 & 1 & TRUE\\\\\n",
       "\\end{tabular}\n"
      ],
      "text/markdown": [
       "\n",
       "A tidytable: 3582 × 70\n",
       "\n",
       "| dataset_name &lt;chr&gt; | Sample &lt;chr&gt; | subjectID &lt;chr&gt; | body_site &lt;chr&gt; | antibiotics_current_use &lt;chr&gt; | study_condition &lt;chr&gt; | disease &lt;chr&gt; | age &lt;int&gt; | age_category &lt;chr&gt; | gender &lt;chr&gt; | ⋯ ⋯ | il_1 &lt;dbl&gt; | glp_1 &lt;dbl&gt; | travel_destination &lt;chr&gt; | urea_nitrogen &lt;dbl&gt; | disease_stage &lt;int&gt; | uncurated_metadata &lt;chr&gt; | family_member &lt;chr&gt; | subject_n &lt;int&gt; | samp_n &lt;int&gt; | westernized &lt;lgl&gt; |\n",
       "|---|---|---|---|---|---|---|---|---|---|---|---|---|---|---|---|---|---|---|---|---|\n",
       "| AsnicarF_2017 | MV_FEM1_t1Q14 | MV_FEM1 | stool | NA | control | healthy | NA | adult | female | ⋯ | NA | NA | NA | NA | NA | NA | NA | 1 | 1 | TRUE |\n",
       "| AsnicarF_2017 | MV_FEM2_t1Q14 | MV_FEM2 | stool | NA | control | healthy | NA | adult | female | ⋯ | NA | NA | NA | NA | NA | NA | NA | 1 | 1 | TRUE |\n",
       "| ⋮ | ⋮ | ⋮ | ⋮ | ⋮ | ⋮ | ⋮ | ⋮ | ⋮ | ⋮ | ⋱ | ⋮ | ⋮ | ⋮ | ⋮ | ⋮ | ⋮ | ⋮ | ⋮ | ⋮ | ⋮ |\n",
       "| ZellerG_2014 | CCIS82944710ST.20.0 | FR-730 | stool | NA | control | healthy | 38 | adult | female | ⋯ | NA | NA | NA | NA | NA | NA | NA | 1 | 1 | TRUE |\n",
       "| ZellerG_2014 | CCIS93040568ST.20.0 | FR-682 | stool | NA | control | healthy | 65 | adult | male   | ⋯ | NA | NA | NA | NA | NA | NA | NA | 1 | 1 | TRUE |\n",
       "\n"
      ],
      "text/plain": [
       "     dataset_name  Sample              subjectID body_site\n",
       "1    AsnicarF_2017 MV_FEM1_t1Q14       MV_FEM1   stool    \n",
       "2    AsnicarF_2017 MV_FEM2_t1Q14       MV_FEM2   stool    \n",
       "⋮    ⋮             ⋮                   ⋮         ⋮        \n",
       "3581 ZellerG_2014  CCIS82944710ST.20.0 FR-730    stool    \n",
       "3582 ZellerG_2014  CCIS93040568ST.20.0 FR-682    stool    \n",
       "     antibiotics_current_use study_condition disease age age_category gender ⋯\n",
       "1    NA                      control         healthy NA  adult        female ⋯\n",
       "2    NA                      control         healthy NA  adult        female ⋯\n",
       "⋮    ⋮                       ⋮               ⋮       ⋮   ⋮            ⋮      ⋱\n",
       "3581 NA                      control         healthy 38  adult        female ⋯\n",
       "3582 NA                      control         healthy 65  adult        male   ⋯\n",
       "     il_1 glp_1 travel_destination urea_nitrogen disease_stage\n",
       "1    NA   NA    NA                 NA            NA           \n",
       "2    NA   NA    NA                 NA            NA           \n",
       "⋮    ⋮    ⋮     ⋮                  ⋮             ⋮            \n",
       "3581 NA   NA    NA                 NA            NA           \n",
       "3582 NA   NA    NA                 NA            NA           \n",
       "     uncurated_metadata family_member subject_n samp_n westernized\n",
       "1    NA                 NA            1         1      TRUE       \n",
       "2    NA                 NA            1         1      TRUE       \n",
       "⋮    ⋮                  ⋮             ⋮         ⋮      ⋮          \n",
       "3581 NA                 NA            1         1      TRUE       \n",
       "3582 NA                 NA            1         1      TRUE       "
      ]
     },
     "metadata": {},
     "output_type": "display_data"
    }
   ],
   "source": [
    "# sample metadata\n",
    "meta = Fread(metadata_file) %>%\n",
    "    mutate.(Sample = gsub('-', '.', Sample)) %>%\n",
    "    filter.(number_reads >= 5e5)\n",
    "meta"
   ]
  },
  {
   "cell_type": "markdown",
   "metadata": {},
   "source": [
    "## Counts"
   ]
  },
  {
   "cell_type": "code",
   "execution_count": 67,
   "metadata": {
    "ExecuteTime": {
     "end_time": "2021-04-18T18:57:30.616166Z",
     "start_time": "2021-04-18T18:57:17.783Z"
    }
   },
   "outputs": [
    {
     "data": {
      "text/html": [
       "<table class=\"dataframe\">\n",
       "<caption>A tidytable: 4934812 × 13</caption>\n",
       "<thead>\n",
       "\t<tr><th scope=col>dataset</th><th scope=col>name</th><th scope=col>taxonomy_id</th><th scope=col>taxonomy_lvl</th><th scope=col>Domain</th><th scope=col>Phylum</th><th scope=col>Class</th><th scope=col>Order</th><th scope=col>Family</th><th scope=col>Genus</th><th scope=col>Species</th><th scope=col>Sample</th><th scope=col>Abundance</th></tr>\n",
       "\t<tr><th scope=col>&lt;chr&gt;</th><th scope=col>&lt;chr&gt;</th><th scope=col>&lt;int&gt;</th><th scope=col>&lt;chr&gt;</th><th scope=col>&lt;chr&gt;</th><th scope=col>&lt;chr&gt;</th><th scope=col>&lt;chr&gt;</th><th scope=col>&lt;chr&gt;</th><th scope=col>&lt;chr&gt;</th><th scope=col>&lt;chr&gt;</th><th scope=col>&lt;chr&gt;</th><th scope=col>&lt;chr&gt;</th><th scope=col>&lt;dbl&gt;</th></tr>\n",
       "</thead>\n",
       "<tbody>\n",
       "\t<tr><td>CosteaPI_2017</td><td>s__Caecibacter_massiliensis</td><td>108259</td><td>S</td><td>Bacteria</td><td>Firmicutes_C</td><td>Negativicutes</td><td>Veillonellales </td><td>Megasphaeraceae </td><td>Caecibacter</td><td>Caecibacter massiliensis</td><td>halbarad.11.0.0</td><td>0</td></tr>\n",
       "\t<tr><td>CosteaPI_2017</td><td>s__UBA1777_sp002350825     </td><td>178550</td><td>S</td><td>Bacteria</td><td>Firmicutes_A</td><td>Clostridia   </td><td>Oscillospirales</td><td>Oscillospiraceae</td><td>UBA1777    </td><td>UBA1777 sp002350825     </td><td>halbarad.11.0.0</td><td>0</td></tr>\n",
       "\t<tr><td>⋮</td><td>⋮</td><td>⋮</td><td>⋮</td><td>⋮</td><td>⋮</td><td>⋮</td><td>⋮</td><td>⋮</td><td>⋮</td><td>⋮</td><td>⋮</td><td>⋮</td></tr>\n",
       "\t<tr><td>YuJ_2015</td><td>s__Serratia_grimesii        </td><td>121568</td><td>S</td><td>Bacteria</td><td>Proteobacteria</td><td>Gammaproteobacteria</td><td>Enterobacterales</td><td>Enterobacteriaceae</td><td>Serratia     </td><td>Serratia grimesii        </td><td>SZAXPI017592.142</td><td>0</td></tr>\n",
       "\t<tr><td>YuJ_2015</td><td>s__Bacteroides_A_sp002161565</td><td>119189</td><td>S</td><td>Bacteria</td><td>Bacteroidota  </td><td>Bacteroidia        </td><td>Bacteroidales   </td><td>Bacteroidaceae    </td><td>Bacteroides_A</td><td>Bacteroides_A sp002161565</td><td>SZAXPI017592.142</td><td>0</td></tr>\n",
       "</tbody>\n",
       "</table>\n"
      ],
      "text/latex": [
       "A tidytable: 4934812 × 13\n",
       "\\begin{tabular}{lllllllllllll}\n",
       " dataset & name & taxonomy\\_id & taxonomy\\_lvl & Domain & Phylum & Class & Order & Family & Genus & Species & Sample & Abundance\\\\\n",
       " <chr> & <chr> & <int> & <chr> & <chr> & <chr> & <chr> & <chr> & <chr> & <chr> & <chr> & <chr> & <dbl>\\\\\n",
       "\\hline\n",
       "\t CosteaPI\\_2017 & s\\_\\_Caecibacter\\_massiliensis & 108259 & S & Bacteria & Firmicutes\\_C & Negativicutes & Veillonellales  & Megasphaeraceae  & Caecibacter & Caecibacter massiliensis & halbarad.11.0.0 & 0\\\\\n",
       "\t CosteaPI\\_2017 & s\\_\\_UBA1777\\_sp002350825      & 178550 & S & Bacteria & Firmicutes\\_A & Clostridia    & Oscillospirales & Oscillospiraceae & UBA1777     & UBA1777 sp002350825      & halbarad.11.0.0 & 0\\\\\n",
       "\t ⋮ & ⋮ & ⋮ & ⋮ & ⋮ & ⋮ & ⋮ & ⋮ & ⋮ & ⋮ & ⋮ & ⋮ & ⋮\\\\\n",
       "\t YuJ\\_2015 & s\\_\\_Serratia\\_grimesii         & 121568 & S & Bacteria & Proteobacteria & Gammaproteobacteria & Enterobacterales & Enterobacteriaceae & Serratia      & Serratia grimesii         & SZAXPI017592.142 & 0\\\\\n",
       "\t YuJ\\_2015 & s\\_\\_Bacteroides\\_A\\_sp002161565 & 119189 & S & Bacteria & Bacteroidota   & Bacteroidia         & Bacteroidales    & Bacteroidaceae     & Bacteroides\\_A & Bacteroides\\_A sp002161565 & SZAXPI017592.142 & 0\\\\\n",
       "\\end{tabular}\n"
      ],
      "text/markdown": [
       "\n",
       "A tidytable: 4934812 × 13\n",
       "\n",
       "| dataset &lt;chr&gt; | name &lt;chr&gt; | taxonomy_id &lt;int&gt; | taxonomy_lvl &lt;chr&gt; | Domain &lt;chr&gt; | Phylum &lt;chr&gt; | Class &lt;chr&gt; | Order &lt;chr&gt; | Family &lt;chr&gt; | Genus &lt;chr&gt; | Species &lt;chr&gt; | Sample &lt;chr&gt; | Abundance &lt;dbl&gt; |\n",
       "|---|---|---|---|---|---|---|---|---|---|---|---|---|\n",
       "| CosteaPI_2017 | s__Caecibacter_massiliensis | 108259 | S | Bacteria | Firmicutes_C | Negativicutes | Veillonellales  | Megasphaeraceae  | Caecibacter | Caecibacter massiliensis | halbarad.11.0.0 | 0 |\n",
       "| CosteaPI_2017 | s__UBA1777_sp002350825      | 178550 | S | Bacteria | Firmicutes_A | Clostridia    | Oscillospirales | Oscillospiraceae | UBA1777     | UBA1777 sp002350825      | halbarad.11.0.0 | 0 |\n",
       "| ⋮ | ⋮ | ⋮ | ⋮ | ⋮ | ⋮ | ⋮ | ⋮ | ⋮ | ⋮ | ⋮ | ⋮ | ⋮ |\n",
       "| YuJ_2015 | s__Serratia_grimesii         | 121568 | S | Bacteria | Proteobacteria | Gammaproteobacteria | Enterobacterales | Enterobacteriaceae | Serratia      | Serratia grimesii         | SZAXPI017592.142 | 0 |\n",
       "| YuJ_2015 | s__Bacteroides_A_sp002161565 | 119189 | S | Bacteria | Bacteroidota   | Bacteroidia         | Bacteroidales    | Bacteroidaceae     | Bacteroides_A | Bacteroides_A sp002161565 | SZAXPI017592.142 | 0 |\n",
       "\n"
      ],
      "text/plain": [
       "        dataset       name                         taxonomy_id taxonomy_lvl\n",
       "1       CosteaPI_2017 s__Caecibacter_massiliensis  108259      S           \n",
       "2       CosteaPI_2017 s__UBA1777_sp002350825       178550      S           \n",
       "⋮       ⋮             ⋮                            ⋮           ⋮           \n",
       "4934811 YuJ_2015      s__Serratia_grimesii         121568      S           \n",
       "4934812 YuJ_2015      s__Bacteroides_A_sp002161565 119189      S           \n",
       "        Domain   Phylum         Class               Order           \n",
       "1       Bacteria Firmicutes_C   Negativicutes       Veillonellales  \n",
       "2       Bacteria Firmicutes_A   Clostridia          Oscillospirales \n",
       "⋮       ⋮        ⋮              ⋮                   ⋮               \n",
       "4934811 Bacteria Proteobacteria Gammaproteobacteria Enterobacterales\n",
       "4934812 Bacteria Bacteroidota   Bacteroidia         Bacteroidales   \n",
       "        Family             Genus         Species                  \n",
       "1       Megasphaeraceae    Caecibacter   Caecibacter massiliensis \n",
       "2       Oscillospiraceae   UBA1777       UBA1777 sp002350825      \n",
       "⋮       ⋮                  ⋮             ⋮                        \n",
       "4934811 Enterobacteriaceae Serratia      Serratia grimesii        \n",
       "4934812 Bacteroidaceae     Bacteroides_A Bacteroides_A sp002161565\n",
       "        Sample           Abundance\n",
       "1       halbarad.11.0.0  0        \n",
       "2       halbarad.11.0.0  0        \n",
       "⋮       ⋮                ⋮        \n",
       "4934811 SZAXPI017592.142 0        \n",
       "4934812 SZAXPI017592.142 0        "
      ]
     },
     "metadata": {},
     "output_type": "display_data"
    }
   ],
   "source": [
    "# Bracken count table\n",
    "brk = qs::qread(brk_file, nthreads=threads) %>%\n",
    "    mutate.(name = gsub(' ', '_', name))\n",
    "brk "
   ]
  },
  {
   "cell_type": "markdown",
   "metadata": {},
   "source": [
    "## Alpha div"
   ]
  },
  {
   "cell_type": "code",
   "execution_count": 68,
   "metadata": {
    "ExecuteTime": {
     "end_time": "2021-04-18T18:57:30.667041Z",
     "start_time": "2021-04-18T18:57:18.062Z"
    }
   },
   "outputs": [
    {
     "data": {
      "text/html": [
       "<table class=\"dataframe\">\n",
       "<caption>A data.table: 3357 × 11</caption>\n",
       "<thead>\n",
       "\t<tr><th scope=col>Sample</th><th scope=col>nobs</th><th scope=col>shannon</th><th scope=col>simpson</th><th scope=col>pielou</th><th scope=col>PD_phy</th><th scope=col>PD_trt</th><th scope=col>PD_cog</th><th scope=col>PD_cogcat</th><th scope=col>PD_pfam</th><th scope=col>PD_pfamcat</th></tr>\n",
       "\t<tr><th scope=col>&lt;chr&gt;</th><th scope=col>&lt;int&gt;</th><th scope=col>&lt;dbl&gt;</th><th scope=col>&lt;dbl&gt;</th><th scope=col>&lt;dbl&gt;</th><th scope=col>&lt;dbl&gt;</th><th scope=col>&lt;dbl&gt;</th><th scope=col>&lt;dbl&gt;</th><th scope=col>&lt;dbl&gt;</th><th scope=col>&lt;dbl&gt;</th><th scope=col>&lt;dbl&gt;</th></tr>\n",
       "</thead>\n",
       "<tbody>\n",
       "\t<tr><td>A01_02_1FE</td><td>232</td><td>3.888802</td><td>0.9507426</td><td>0.4757117</td><td>55.94272</td><td>43.94092</td><td>73.48643</td><td>28.29848</td><td>34.96796</td><td>21.56298</td></tr>\n",
       "\t<tr><td>A02_01_1FE</td><td>176</td><td>3.418777</td><td>0.8891672</td><td>0.4182143</td><td>40.24502</td><td>31.18437</td><td>50.07578</td><td>20.65005</td><td>23.78966</td><td>14.55168</td></tr>\n",
       "\t<tr><td>⋮</td><td>⋮</td><td>⋮</td><td>⋮</td><td>⋮</td><td>⋮</td><td>⋮</td><td>⋮</td><td>⋮</td><td>⋮</td><td>⋮</td></tr>\n",
       "\t<tr><td>nHMX11726        </td><td>272</td><td>3.612832</td><td>0.8932187</td><td>0.4419526</td><td>53.11264</td><td>46.47031</td><td>88.09736</td><td>34.25477</td><td>41.73731</td><td>25.03576</td></tr>\n",
       "\t<tr><td>scavenger.11.60.0</td><td>210</td><td>3.891553</td><td>0.9557596</td><td>0.4760482</td><td>37.27697</td><td>35.63946</td><td>64.59389</td><td>22.62152</td><td>29.89625</td><td>18.25607</td></tr>\n",
       "</tbody>\n",
       "</table>\n"
      ],
      "text/latex": [
       "A data.table: 3357 × 11\n",
       "\\begin{tabular}{lllllllllll}\n",
       " Sample & nobs & shannon & simpson & pielou & PD\\_phy & PD\\_trt & PD\\_cog & PD\\_cogcat & PD\\_pfam & PD\\_pfamcat\\\\\n",
       " <chr> & <int> & <dbl> & <dbl> & <dbl> & <dbl> & <dbl> & <dbl> & <dbl> & <dbl> & <dbl>\\\\\n",
       "\\hline\n",
       "\t A01\\_02\\_1FE & 232 & 3.888802 & 0.9507426 & 0.4757117 & 55.94272 & 43.94092 & 73.48643 & 28.29848 & 34.96796 & 21.56298\\\\\n",
       "\t A02\\_01\\_1FE & 176 & 3.418777 & 0.8891672 & 0.4182143 & 40.24502 & 31.18437 & 50.07578 & 20.65005 & 23.78966 & 14.55168\\\\\n",
       "\t ⋮ & ⋮ & ⋮ & ⋮ & ⋮ & ⋮ & ⋮ & ⋮ & ⋮ & ⋮ & ⋮\\\\\n",
       "\t nHMX11726         & 272 & 3.612832 & 0.8932187 & 0.4419526 & 53.11264 & 46.47031 & 88.09736 & 34.25477 & 41.73731 & 25.03576\\\\\n",
       "\t scavenger.11.60.0 & 210 & 3.891553 & 0.9557596 & 0.4760482 & 37.27697 & 35.63946 & 64.59389 & 22.62152 & 29.89625 & 18.25607\\\\\n",
       "\\end{tabular}\n"
      ],
      "text/markdown": [
       "\n",
       "A data.table: 3357 × 11\n",
       "\n",
       "| Sample &lt;chr&gt; | nobs &lt;int&gt; | shannon &lt;dbl&gt; | simpson &lt;dbl&gt; | pielou &lt;dbl&gt; | PD_phy &lt;dbl&gt; | PD_trt &lt;dbl&gt; | PD_cog &lt;dbl&gt; | PD_cogcat &lt;dbl&gt; | PD_pfam &lt;dbl&gt; | PD_pfamcat &lt;dbl&gt; |\n",
       "|---|---|---|---|---|---|---|---|---|---|---|\n",
       "| A01_02_1FE | 232 | 3.888802 | 0.9507426 | 0.4757117 | 55.94272 | 43.94092 | 73.48643 | 28.29848 | 34.96796 | 21.56298 |\n",
       "| A02_01_1FE | 176 | 3.418777 | 0.8891672 | 0.4182143 | 40.24502 | 31.18437 | 50.07578 | 20.65005 | 23.78966 | 14.55168 |\n",
       "| ⋮ | ⋮ | ⋮ | ⋮ | ⋮ | ⋮ | ⋮ | ⋮ | ⋮ | ⋮ | ⋮ |\n",
       "| nHMX11726         | 272 | 3.612832 | 0.8932187 | 0.4419526 | 53.11264 | 46.47031 | 88.09736 | 34.25477 | 41.73731 | 25.03576 |\n",
       "| scavenger.11.60.0 | 210 | 3.891553 | 0.9557596 | 0.4760482 | 37.27697 | 35.63946 | 64.59389 | 22.62152 | 29.89625 | 18.25607 |\n",
       "\n"
      ],
      "text/plain": [
       "     Sample            nobs shannon  simpson   pielou    PD_phy   PD_trt  \n",
       "1    A01_02_1FE        232  3.888802 0.9507426 0.4757117 55.94272 43.94092\n",
       "2    A02_01_1FE        176  3.418777 0.8891672 0.4182143 40.24502 31.18437\n",
       "⋮    ⋮                 ⋮    ⋮        ⋮         ⋮         ⋮        ⋮       \n",
       "3356 nHMX11726         272  3.612832 0.8932187 0.4419526 53.11264 46.47031\n",
       "3357 scavenger.11.60.0 210  3.891553 0.9557596 0.4760482 37.27697 35.63946\n",
       "     PD_cog   PD_cogcat PD_pfam  PD_pfamcat\n",
       "1    73.48643 28.29848  34.96796 21.56298  \n",
       "2    50.07578 20.65005  23.78966 14.55168  \n",
       "⋮    ⋮        ⋮         ⋮        ⋮         \n",
       "3356 88.09736 34.25477  41.73731 25.03576  \n",
       "3357 64.59389 22.62152  29.89625 18.25607  "
      ]
     },
     "metadata": {},
     "output_type": "display_data"
    }
   ],
   "source": [
    "# alpha div\n",
    "alpha_div = Fread(alpha_div_file)\n",
    "colnames(alpha_div) = gsub('pd_', 'PD_', colnames(alpha_div))\n",
    "alpha_div"
   ]
  },
  {
   "cell_type": "code",
   "execution_count": 69,
   "metadata": {
    "ExecuteTime": {
     "end_time": "2021-04-18T18:57:30.741011Z",
     "start_time": "2021-04-18T18:57:18.241Z"
    }
   },
   "outputs": [
    {
     "data": {
      "text/html": [
       "<table class=\"dataframe\">\n",
       "<caption>A tidytable: 3348 × 7</caption>\n",
       "<thead>\n",
       "\t<tr><th scope=col>Sample</th><th scope=col>MPD_phy</th><th scope=col>MPD_cog</th><th scope=col>MPD_cogcat</th><th scope=col>MPD_pfam</th><th scope=col>MPD_pfamcat</th><th scope=col>MPD_trt</th></tr>\n",
       "\t<tr><th scope=col>&lt;chr&gt;</th><th scope=col>&lt;dbl&gt;</th><th scope=col>&lt;dbl&gt;</th><th scope=col>&lt;dbl&gt;</th><th scope=col>&lt;dbl&gt;</th><th scope=col>&lt;dbl&gt;</th><th scope=col>&lt;dbl&gt;</th></tr>\n",
       "</thead>\n",
       "<tbody>\n",
       "\t<tr><td>A01_02_1FE</td><td>-10.753480</td><td>-3.000726</td><td>-1.470243</td><td>-15.327176</td><td>-7.664077</td><td>-11.734307</td></tr>\n",
       "\t<tr><td>A02_01_1FE</td><td> -5.395721</td><td>-3.828385</td><td>-1.231622</td><td> -9.167519</td><td>-7.014834</td><td> -4.189331</td></tr>\n",
       "\t<tr><td>⋮</td><td>⋮</td><td>⋮</td><td>⋮</td><td>⋮</td><td>⋮</td><td>⋮</td></tr>\n",
       "\t<tr><td>nHMX11726        </td><td>-23.75160</td><td>-2.681203</td><td>-1.736976</td><td>-18.12262</td><td> -8.263948</td><td>-22.69756</td></tr>\n",
       "\t<tr><td>scavenger.11.60.0</td><td>-21.47558</td><td>-7.025269</td><td>-2.118286</td><td>-29.88087</td><td>-16.395681</td><td>-23.29352</td></tr>\n",
       "</tbody>\n",
       "</table>\n"
      ],
      "text/latex": [
       "A tidytable: 3348 × 7\n",
       "\\begin{tabular}{lllllll}\n",
       " Sample & MPD\\_phy & MPD\\_cog & MPD\\_cogcat & MPD\\_pfam & MPD\\_pfamcat & MPD\\_trt\\\\\n",
       " <chr> & <dbl> & <dbl> & <dbl> & <dbl> & <dbl> & <dbl>\\\\\n",
       "\\hline\n",
       "\t A01\\_02\\_1FE & -10.753480 & -3.000726 & -1.470243 & -15.327176 & -7.664077 & -11.734307\\\\\n",
       "\t A02\\_01\\_1FE &  -5.395721 & -3.828385 & -1.231622 &  -9.167519 & -7.014834 &  -4.189331\\\\\n",
       "\t ⋮ & ⋮ & ⋮ & ⋮ & ⋮ & ⋮ & ⋮\\\\\n",
       "\t nHMX11726         & -23.75160 & -2.681203 & -1.736976 & -18.12262 &  -8.263948 & -22.69756\\\\\n",
       "\t scavenger.11.60.0 & -21.47558 & -7.025269 & -2.118286 & -29.88087 & -16.395681 & -23.29352\\\\\n",
       "\\end{tabular}\n"
      ],
      "text/markdown": [
       "\n",
       "A tidytable: 3348 × 7\n",
       "\n",
       "| Sample &lt;chr&gt; | MPD_phy &lt;dbl&gt; | MPD_cog &lt;dbl&gt; | MPD_cogcat &lt;dbl&gt; | MPD_pfam &lt;dbl&gt; | MPD_pfamcat &lt;dbl&gt; | MPD_trt &lt;dbl&gt; |\n",
       "|---|---|---|---|---|---|---|\n",
       "| A01_02_1FE | -10.753480 | -3.000726 | -1.470243 | -15.327176 | -7.664077 | -11.734307 |\n",
       "| A02_01_1FE |  -5.395721 | -3.828385 | -1.231622 |  -9.167519 | -7.014834 |  -4.189331 |\n",
       "| ⋮ | ⋮ | ⋮ | ⋮ | ⋮ | ⋮ | ⋮ |\n",
       "| nHMX11726         | -23.75160 | -2.681203 | -1.736976 | -18.12262 |  -8.263948 | -22.69756 |\n",
       "| scavenger.11.60.0 | -21.47558 | -7.025269 | -2.118286 | -29.88087 | -16.395681 | -23.29352 |\n",
       "\n"
      ],
      "text/plain": [
       "     Sample            MPD_phy    MPD_cog   MPD_cogcat MPD_pfam   MPD_pfamcat\n",
       "1    A01_02_1FE        -10.753480 -3.000726 -1.470243  -15.327176 -7.664077  \n",
       "2    A02_01_1FE         -5.395721 -3.828385 -1.231622   -9.167519 -7.014834  \n",
       "⋮    ⋮                 ⋮          ⋮         ⋮          ⋮          ⋮          \n",
       "3347 nHMX11726         -23.75160  -2.681203 -1.736976  -18.12262   -8.263948 \n",
       "3348 scavenger.11.60.0 -21.47558  -7.025269 -2.118286  -29.88087  -16.395681 \n",
       "     MPD_trt   \n",
       "1    -11.734307\n",
       "2     -4.189331\n",
       "⋮    ⋮         \n",
       "3347 -22.69756 \n",
       "3348 -23.29352 "
      ]
     },
     "metadata": {},
     "output_type": "display_data"
    }
   ],
   "source": [
    "# MPD\n",
    "mpd = Fread(mpd_file) %>%\n",
    "    pivot_wider.(names_from=tree, values_from=MPD) \n",
    "colnames(mpd)[2:ncol(mpd)] = gsub('(phy_|_phy)', '', colnames(mpd)[2:ncol(mpd)])\n",
    "colnames(mpd)[2:ncol(mpd)] = gsub('^', 'MPD_', colnames(mpd)[2:ncol(mpd)])\n",
    "colnames(mpd)[2] = c('MPD_phy')\n",
    "mpd"
   ]
  },
  {
   "cell_type": "code",
   "execution_count": 70,
   "metadata": {
    "ExecuteTime": {
     "end_time": "2021-04-18T18:57:30.819173Z",
     "start_time": "2021-04-18T18:57:18.416Z"
    }
   },
   "outputs": [
    {
     "data": {
      "text/html": [
       "<table class=\"dataframe\">\n",
       "<caption>A tidytable: 3348 × 7</caption>\n",
       "<thead>\n",
       "\t<tr><th scope=col>Sample</th><th scope=col>MNTD_phy</th><th scope=col>MNTD_cog</th><th scope=col>MNTD_cogcat</th><th scope=col>MNTD_pfam</th><th scope=col>MNTD_pfamcat</th><th scope=col>MNTD_trt</th></tr>\n",
       "\t<tr><th scope=col>&lt;chr&gt;</th><th scope=col>&lt;dbl&gt;</th><th scope=col>&lt;dbl&gt;</th><th scope=col>&lt;dbl&gt;</th><th scope=col>&lt;dbl&gt;</th><th scope=col>&lt;dbl&gt;</th><th scope=col>&lt;dbl&gt;</th></tr>\n",
       "</thead>\n",
       "<tbody>\n",
       "\t<tr><td>A01_02_1FE</td><td>-7.350849</td><td>-8.628884</td><td>-4.608447</td><td>-13.52691</td><td>-13.7062</td><td>-9.092287</td></tr>\n",
       "\t<tr><td>A02_01_1FE</td><td>-5.558870</td><td>-9.454823</td><td>-5.622129</td><td>-13.66279</td><td>-14.9171</td><td>-9.877560</td></tr>\n",
       "\t<tr><td>⋮</td><td>⋮</td><td>⋮</td><td>⋮</td><td>⋮</td><td>⋮</td><td>⋮</td></tr>\n",
       "\t<tr><td>nHMX11726        </td><td>-10.315815</td><td>-10.76523</td><td>-4.972554</td><td>-14.53673</td><td>-15.59144</td><td>-12.57478</td></tr>\n",
       "\t<tr><td>scavenger.11.60.0</td><td> -8.516701</td><td>-11.95570</td><td>-5.918881</td><td>-15.39147</td><td>-15.12150</td><td>-12.39195</td></tr>\n",
       "</tbody>\n",
       "</table>\n"
      ],
      "text/latex": [
       "A tidytable: 3348 × 7\n",
       "\\begin{tabular}{lllllll}\n",
       " Sample & MNTD\\_phy & MNTD\\_cog & MNTD\\_cogcat & MNTD\\_pfam & MNTD\\_pfamcat & MNTD\\_trt\\\\\n",
       " <chr> & <dbl> & <dbl> & <dbl> & <dbl> & <dbl> & <dbl>\\\\\n",
       "\\hline\n",
       "\t A01\\_02\\_1FE & -7.350849 & -8.628884 & -4.608447 & -13.52691 & -13.7062 & -9.092287\\\\\n",
       "\t A02\\_01\\_1FE & -5.558870 & -9.454823 & -5.622129 & -13.66279 & -14.9171 & -9.877560\\\\\n",
       "\t ⋮ & ⋮ & ⋮ & ⋮ & ⋮ & ⋮ & ⋮\\\\\n",
       "\t nHMX11726         & -10.315815 & -10.76523 & -4.972554 & -14.53673 & -15.59144 & -12.57478\\\\\n",
       "\t scavenger.11.60.0 &  -8.516701 & -11.95570 & -5.918881 & -15.39147 & -15.12150 & -12.39195\\\\\n",
       "\\end{tabular}\n"
      ],
      "text/markdown": [
       "\n",
       "A tidytable: 3348 × 7\n",
       "\n",
       "| Sample &lt;chr&gt; | MNTD_phy &lt;dbl&gt; | MNTD_cog &lt;dbl&gt; | MNTD_cogcat &lt;dbl&gt; | MNTD_pfam &lt;dbl&gt; | MNTD_pfamcat &lt;dbl&gt; | MNTD_trt &lt;dbl&gt; |\n",
       "|---|---|---|---|---|---|---|\n",
       "| A01_02_1FE | -7.350849 | -8.628884 | -4.608447 | -13.52691 | -13.7062 | -9.092287 |\n",
       "| A02_01_1FE | -5.558870 | -9.454823 | -5.622129 | -13.66279 | -14.9171 | -9.877560 |\n",
       "| ⋮ | ⋮ | ⋮ | ⋮ | ⋮ | ⋮ | ⋮ |\n",
       "| nHMX11726         | -10.315815 | -10.76523 | -4.972554 | -14.53673 | -15.59144 | -12.57478 |\n",
       "| scavenger.11.60.0 |  -8.516701 | -11.95570 | -5.918881 | -15.39147 | -15.12150 | -12.39195 |\n",
       "\n"
      ],
      "text/plain": [
       "     Sample            MNTD_phy   MNTD_cog  MNTD_cogcat MNTD_pfam MNTD_pfamcat\n",
       "1    A01_02_1FE        -7.350849  -8.628884 -4.608447   -13.52691 -13.7062    \n",
       "2    A02_01_1FE        -5.558870  -9.454823 -5.622129   -13.66279 -14.9171    \n",
       "⋮    ⋮                 ⋮          ⋮         ⋮           ⋮         ⋮           \n",
       "3347 nHMX11726         -10.315815 -10.76523 -4.972554   -14.53673 -15.59144   \n",
       "3348 scavenger.11.60.0  -8.516701 -11.95570 -5.918881   -15.39147 -15.12150   \n",
       "     MNTD_trt \n",
       "1    -9.092287\n",
       "2    -9.877560\n",
       "⋮    ⋮        \n",
       "3347 -12.57478\n",
       "3348 -12.39195"
      ]
     },
     "metadata": {},
     "output_type": "display_data"
    }
   ],
   "source": [
    "# MNTD\n",
    "mntd = Fread(mntd_file) %>%\n",
    "    pivot_wider.(names_from=tree, values_from=MNTD) \n",
    "colnames(mntd)[2:ncol(mntd)] = gsub('(phy_|_phy)', '', colnames(mntd)[2:ncol(mntd)])\n",
    "colnames(mntd)[2:ncol(mntd)] = gsub('^', 'MNTD_', colnames(mntd)[2:ncol(mntd)])\n",
    "colnames(mntd)[2] = c('MNTD_phy')\n",
    "mntd"
   ]
  },
  {
   "cell_type": "code",
   "execution_count": 71,
   "metadata": {
    "ExecuteTime": {
     "end_time": "2021-04-18T18:57:30.881520Z",
     "start_time": "2021-04-18T18:57:18.704Z"
    }
   },
   "outputs": [
    {
     "data": {
      "text/html": [
       "<table class=\"dataframe\">\n",
       "<caption>A data.frame: 3357 × 6</caption>\n",
       "<thead>\n",
       "\t<tr><th></th><th scope=col>FRic_trt</th><th scope=col>FEve_trt</th><th scope=col>FDiv_trt</th><th scope=col>FDis_trt</th><th scope=col>RaoQ_trt</th><th scope=col>Sample</th></tr>\n",
       "\t<tr><th></th><th scope=col>&lt;dbl&gt;</th><th scope=col>&lt;dbl&gt;</th><th scope=col>&lt;dbl&gt;</th><th scope=col>&lt;dbl&gt;</th><th scope=col>&lt;dbl&gt;</th><th scope=col>&lt;chr&gt;</th></tr>\n",
       "</thead>\n",
       "<tbody>\n",
       "\t<tr><th scope=row>A01_02_1FE</th><td>405.3489</td><td>0.6305880</td><td>0.7290097</td><td>6.973794</td><td>52.75731</td><td>A01_02_1FE</td></tr>\n",
       "\t<tr><th scope=row>A02_01_1FE</th><td>315.4350</td><td>0.5794583</td><td>0.8070891</td><td>6.341048</td><td>45.50104</td><td>A02_01_1FE</td></tr>\n",
       "\t<tr><th scope=row>⋮</th><td>⋮</td><td>⋮</td><td>⋮</td><td>⋮</td><td>⋮</td><td>⋮</td></tr>\n",
       "\t<tr><th scope=row>nHMX11726</th><td>243.02318</td><td>0.5773991</td><td>0.8391111</td><td>5.956270</td><td>37.65335</td><td>nHMX11726        </td></tr>\n",
       "\t<tr><th scope=row>scavenger.11.60.0</th><td> 99.81046</td><td>0.5403505</td><td>0.5274329</td><td>5.515369</td><td>31.73968</td><td>scavenger.11.60.0</td></tr>\n",
       "</tbody>\n",
       "</table>\n"
      ],
      "text/latex": [
       "A data.frame: 3357 × 6\n",
       "\\begin{tabular}{r|llllll}\n",
       "  & FRic\\_trt & FEve\\_trt & FDiv\\_trt & FDis\\_trt & RaoQ\\_trt & Sample\\\\\n",
       "  & <dbl> & <dbl> & <dbl> & <dbl> & <dbl> & <chr>\\\\\n",
       "\\hline\n",
       "\tA01\\_02\\_1FE & 405.3489 & 0.6305880 & 0.7290097 & 6.973794 & 52.75731 & A01\\_02\\_1FE\\\\\n",
       "\tA02\\_01\\_1FE & 315.4350 & 0.5794583 & 0.8070891 & 6.341048 & 45.50104 & A02\\_01\\_1FE\\\\\n",
       "\t⋮ & ⋮ & ⋮ & ⋮ & ⋮ & ⋮ & ⋮\\\\\n",
       "\tnHMX11726 & 243.02318 & 0.5773991 & 0.8391111 & 5.956270 & 37.65335 & nHMX11726        \\\\\n",
       "\tscavenger.11.60.0 &  99.81046 & 0.5403505 & 0.5274329 & 5.515369 & 31.73968 & scavenger.11.60.0\\\\\n",
       "\\end{tabular}\n"
      ],
      "text/markdown": [
       "\n",
       "A data.frame: 3357 × 6\n",
       "\n",
       "| <!--/--> | FRic_trt &lt;dbl&gt; | FEve_trt &lt;dbl&gt; | FDiv_trt &lt;dbl&gt; | FDis_trt &lt;dbl&gt; | RaoQ_trt &lt;dbl&gt; | Sample &lt;chr&gt; |\n",
       "|---|---|---|---|---|---|---|\n",
       "| A01_02_1FE | 405.3489 | 0.6305880 | 0.7290097 | 6.973794 | 52.75731 | A01_02_1FE |\n",
       "| A02_01_1FE | 315.4350 | 0.5794583 | 0.8070891 | 6.341048 | 45.50104 | A02_01_1FE |\n",
       "| ⋮ | ⋮ | ⋮ | ⋮ | ⋮ | ⋮ | ⋮ |\n",
       "| nHMX11726 | 243.02318 | 0.5773991 | 0.8391111 | 5.956270 | 37.65335 | nHMX11726         |\n",
       "| scavenger.11.60.0 |  99.81046 | 0.5403505 | 0.5274329 | 5.515369 | 31.73968 | scavenger.11.60.0 |\n",
       "\n"
      ],
      "text/plain": [
       "                  FRic_trt  FEve_trt  FDiv_trt  FDis_trt RaoQ_trt\n",
       "A01_02_1FE        405.3489  0.6305880 0.7290097 6.973794 52.75731\n",
       "A02_01_1FE        315.4350  0.5794583 0.8070891 6.341048 45.50104\n",
       "⋮                 ⋮         ⋮         ⋮         ⋮        ⋮       \n",
       "nHMX11726         243.02318 0.5773991 0.8391111 5.956270 37.65335\n",
       "scavenger.11.60.0  99.81046 0.5403505 0.5274329 5.515369 31.73968\n",
       "                  Sample           \n",
       "A01_02_1FE        A01_02_1FE       \n",
       "A02_01_1FE        A02_01_1FE       \n",
       "⋮                 ⋮                \n",
       "nHMX11726         nHMX11726        \n",
       "scavenger.11.60.0 scavenger.11.60.0"
      ]
     },
     "metadata": {},
     "output_type": "display_data"
    }
   ],
   "source": [
    "## FD\n",
    "fd_trt = readRDS(fd_trt_file)\n",
    "v = c('FRic', 'FEve', 'FDiv', 'FDis', 'RaoQ') \n",
    "fd_trt = v %>%\n",
    "    lapply(function(x) fd_trt[[x]] %>% as.data.frame) %>%\n",
    "    do.call(cbind, .)\n",
    "           \n",
    "x = c('FRic', 'FEve', 'FDiv', 'FDis', 'RaoQ') \n",
    "colnames(fd_trt) = gsub('^', 'trt_', x)\n",
    "colnames(fd_trt) = gsub('(.+)_(.+)', '\\\\2_\\\\1', colnames(fd_trt))\n",
    "fd_trt$Sample = rownames(fd_trt)\n",
    "fd_trt"
   ]
  },
  {
   "cell_type": "code",
   "execution_count": 72,
   "metadata": {
    "ExecuteTime": {
     "end_time": "2021-04-18T18:57:30.939088Z",
     "start_time": "2021-04-18T18:57:19.030Z"
    }
   },
   "outputs": [
    {
     "data": {
      "text/html": [
       "<table class=\"dataframe\">\n",
       "<caption>A data.frame: 3357 × 6</caption>\n",
       "<thead>\n",
       "\t<tr><th></th><th scope=col>FRic_cogcat</th><th scope=col>FEve_cogcat</th><th scope=col>FDiv_cogcat</th><th scope=col>FDis_cogcat</th><th scope=col>RaoQ_cogcat</th><th scope=col>Sample</th></tr>\n",
       "\t<tr><th></th><th scope=col>&lt;dbl&gt;</th><th scope=col>&lt;dbl&gt;</th><th scope=col>&lt;dbl&gt;</th><th scope=col>&lt;dbl&gt;</th><th scope=col>&lt;dbl&gt;</th><th scope=col>&lt;chr&gt;</th></tr>\n",
       "</thead>\n",
       "<tbody>\n",
       "\t<tr><th scope=row>A01_02_1FE</th><td>0.01801202</td><td>0.6300578</td><td>0.8226669</td><td>0.1390624</td><td>0.02458852</td><td>A01_02_1FE</td></tr>\n",
       "\t<tr><th scope=row>A02_01_1FE</th><td>0.01696774</td><td>0.6244829</td><td>0.8734180</td><td>0.1164369</td><td>0.01988324</td><td>A02_01_1FE</td></tr>\n",
       "\t<tr><th scope=row>⋮</th><td>⋮</td><td>⋮</td><td>⋮</td><td>⋮</td><td>⋮</td><td>⋮</td></tr>\n",
       "\t<tr><th scope=row>nHMX11726</th><td>0.01740735</td><td>0.6201435</td><td>0.6753169</td><td>0.06340579</td><td>0.005202252</td><td>nHMX11726        </td></tr>\n",
       "\t<tr><th scope=row>scavenger.11.60.0</th><td>0.01272163</td><td>0.5382319</td><td>0.7079228</td><td>0.07027430</td><td>0.005815837</td><td>scavenger.11.60.0</td></tr>\n",
       "</tbody>\n",
       "</table>\n"
      ],
      "text/latex": [
       "A data.frame: 3357 × 6\n",
       "\\begin{tabular}{r|llllll}\n",
       "  & FRic\\_cogcat & FEve\\_cogcat & FDiv\\_cogcat & FDis\\_cogcat & RaoQ\\_cogcat & Sample\\\\\n",
       "  & <dbl> & <dbl> & <dbl> & <dbl> & <dbl> & <chr>\\\\\n",
       "\\hline\n",
       "\tA01\\_02\\_1FE & 0.01801202 & 0.6300578 & 0.8226669 & 0.1390624 & 0.02458852 & A01\\_02\\_1FE\\\\\n",
       "\tA02\\_01\\_1FE & 0.01696774 & 0.6244829 & 0.8734180 & 0.1164369 & 0.01988324 & A02\\_01\\_1FE\\\\\n",
       "\t⋮ & ⋮ & ⋮ & ⋮ & ⋮ & ⋮ & ⋮\\\\\n",
       "\tnHMX11726 & 0.01740735 & 0.6201435 & 0.6753169 & 0.06340579 & 0.005202252 & nHMX11726        \\\\\n",
       "\tscavenger.11.60.0 & 0.01272163 & 0.5382319 & 0.7079228 & 0.07027430 & 0.005815837 & scavenger.11.60.0\\\\\n",
       "\\end{tabular}\n"
      ],
      "text/markdown": [
       "\n",
       "A data.frame: 3357 × 6\n",
       "\n",
       "| <!--/--> | FRic_cogcat &lt;dbl&gt; | FEve_cogcat &lt;dbl&gt; | FDiv_cogcat &lt;dbl&gt; | FDis_cogcat &lt;dbl&gt; | RaoQ_cogcat &lt;dbl&gt; | Sample &lt;chr&gt; |\n",
       "|---|---|---|---|---|---|---|\n",
       "| A01_02_1FE | 0.01801202 | 0.6300578 | 0.8226669 | 0.1390624 | 0.02458852 | A01_02_1FE |\n",
       "| A02_01_1FE | 0.01696774 | 0.6244829 | 0.8734180 | 0.1164369 | 0.01988324 | A02_01_1FE |\n",
       "| ⋮ | ⋮ | ⋮ | ⋮ | ⋮ | ⋮ | ⋮ |\n",
       "| nHMX11726 | 0.01740735 | 0.6201435 | 0.6753169 | 0.06340579 | 0.005202252 | nHMX11726         |\n",
       "| scavenger.11.60.0 | 0.01272163 | 0.5382319 | 0.7079228 | 0.07027430 | 0.005815837 | scavenger.11.60.0 |\n",
       "\n"
      ],
      "text/plain": [
       "                  FRic_cogcat FEve_cogcat FDiv_cogcat FDis_cogcat RaoQ_cogcat\n",
       "A01_02_1FE        0.01801202  0.6300578   0.8226669   0.1390624   0.02458852 \n",
       "A02_01_1FE        0.01696774  0.6244829   0.8734180   0.1164369   0.01988324 \n",
       "⋮                 ⋮           ⋮           ⋮           ⋮           ⋮          \n",
       "nHMX11726         0.01740735  0.6201435   0.6753169   0.06340579  0.005202252\n",
       "scavenger.11.60.0 0.01272163  0.5382319   0.7079228   0.07027430  0.005815837\n",
       "                  Sample           \n",
       "A01_02_1FE        A01_02_1FE       \n",
       "A02_01_1FE        A02_01_1FE       \n",
       "⋮                 ⋮                \n",
       "nHMX11726         nHMX11726        \n",
       "scavenger.11.60.0 scavenger.11.60.0"
      ]
     },
     "metadata": {},
     "output_type": "display_data"
    }
   ],
   "source": [
    "## FD\n",
    "fd_cog = readRDS(fd_cog_file)\n",
    "v = c('FRic', 'FEve', 'FDiv', 'FDis', 'RaoQ') \n",
    "fd_cog = v %>%\n",
    "    lapply(function(x) fd_cog[[x]] %>% as.data.frame) %>%\n",
    "    do.call(cbind, .)\n",
    "           \n",
    "x = c('FRic', 'FEve', 'FDiv', 'FDis', 'RaoQ') \n",
    "colnames(fd_cog) = gsub('^', 'cogcat_', x)\n",
    "colnames(fd_cog) = gsub('(.+)_(.+)', '\\\\2_\\\\1', colnames(fd_cog))\n",
    "fd_cog$Sample = rownames(fd_cog)\n",
    "fd_cog"
   ]
  },
  {
   "cell_type": "markdown",
   "metadata": {},
   "source": [
    "# Format"
   ]
  },
  {
   "cell_type": "markdown",
   "metadata": {},
   "source": [
    "## Overlap"
   ]
  },
  {
   "cell_type": "code",
   "execution_count": 73,
   "metadata": {
    "ExecuteTime": {
     "end_time": "2021-04-18T18:57:30.956097Z",
     "start_time": "2021-04-18T18:57:19.962Z"
    }
   },
   "outputs": [
    {
     "name": "stdout",
     "output_type": "stream",
     "text": [
      "intersect(x,y): 3348 \n",
      "setdiff(x,y): 9 \n",
      "setdiff(y,x): 234 \n",
      "union(x,y): 3591 \n"
     ]
    }
   ],
   "source": [
    "overlap(alpha_div$Sample, meta$Sample)"
   ]
  },
  {
   "cell_type": "code",
   "execution_count": 74,
   "metadata": {
    "ExecuteTime": {
     "end_time": "2021-04-18T18:57:30.973252Z",
     "start_time": "2021-04-18T18:57:20.146Z"
    }
   },
   "outputs": [
    {
     "name": "stdout",
     "output_type": "stream",
     "text": [
      "intersect(x,y): 3348 \n",
      "setdiff(x,y): 0 \n",
      "setdiff(y,x): 234 \n",
      "union(x,y): 3582 \n"
     ]
    }
   ],
   "source": [
    "overlap(mpd$Sample, meta$Sample)"
   ]
  },
  {
   "cell_type": "code",
   "execution_count": 75,
   "metadata": {
    "ExecuteTime": {
     "end_time": "2021-04-18T18:57:30.990178Z",
     "start_time": "2021-04-18T18:57:20.332Z"
    }
   },
   "outputs": [
    {
     "name": "stdout",
     "output_type": "stream",
     "text": [
      "intersect(x,y): 3348 \n",
      "setdiff(x,y): 0 \n",
      "setdiff(y,x): 234 \n",
      "union(x,y): 3582 \n"
     ]
    }
   ],
   "source": [
    "overlap(mntd$Sample, meta$Sample)"
   ]
  },
  {
   "cell_type": "code",
   "execution_count": 76,
   "metadata": {
    "ExecuteTime": {
     "end_time": "2021-04-18T18:57:31.008702Z",
     "start_time": "2021-04-18T18:57:20.757Z"
    }
   },
   "outputs": [
    {
     "name": "stdout",
     "output_type": "stream",
     "text": [
      "intersect(x,y): 3348 \n",
      "setdiff(x,y): 9 \n",
      "setdiff(y,x): 234 \n",
      "union(x,y): 3591 \n"
     ]
    }
   ],
   "source": [
    "overlap(fd_trt$Sample, meta$Sample)"
   ]
  },
  {
   "cell_type": "code",
   "execution_count": 77,
   "metadata": {
    "ExecuteTime": {
     "end_time": "2021-04-18T18:57:31.029705Z",
     "start_time": "2021-04-18T18:57:20.932Z"
    }
   },
   "outputs": [
    {
     "name": "stdout",
     "output_type": "stream",
     "text": [
      "intersect(x,y): 3348 \n",
      "setdiff(x,y): 9 \n",
      "setdiff(y,x): 234 \n",
      "union(x,y): 3591 \n"
     ]
    }
   ],
   "source": [
    "overlap(fd_cog$Sample, meta$Sample)"
   ]
  },
  {
   "cell_type": "markdown",
   "metadata": {},
   "source": [
    "## Merging"
   ]
  },
  {
   "cell_type": "code",
   "execution_count": 78,
   "metadata": {
    "ExecuteTime": {
     "end_time": "2021-04-18T18:57:31.133641Z",
     "start_time": "2021-04-18T18:57:21.219Z"
    }
   },
   "outputs": [
    {
     "data": {
      "text/html": [
       "<table class=\"dataframe\">\n",
       "<caption>A tidytable: 3348 × 38</caption>\n",
       "<thead>\n",
       "\t<tr><th scope=col>Sample</th><th scope=col>age</th><th scope=col>BMI</th><th scope=col>gender</th><th scope=col>westernized</th><th scope=col>disease</th><th scope=col>nobs</th><th scope=col>shannon</th><th scope=col>simpson</th><th scope=col>pielou</th><th scope=col>⋯</th><th scope=col>FRic_trt</th><th scope=col>FEve_trt</th><th scope=col>FDiv_trt</th><th scope=col>FDis_trt</th><th scope=col>RaoQ_trt</th><th scope=col>FRic_cogcat</th><th scope=col>FEve_cogcat</th><th scope=col>FDiv_cogcat</th><th scope=col>FDis_cogcat</th><th scope=col>RaoQ_cogcat</th></tr>\n",
       "\t<tr><th scope=col>&lt;chr&gt;</th><th scope=col>&lt;int&gt;</th><th scope=col>&lt;dbl&gt;</th><th scope=col>&lt;chr&gt;</th><th scope=col>&lt;lgl&gt;</th><th scope=col>&lt;chr&gt;</th><th scope=col>&lt;int&gt;</th><th scope=col>&lt;dbl&gt;</th><th scope=col>&lt;dbl&gt;</th><th scope=col>&lt;dbl&gt;</th><th scope=col>⋯</th><th scope=col>&lt;dbl&gt;</th><th scope=col>&lt;dbl&gt;</th><th scope=col>&lt;dbl&gt;</th><th scope=col>&lt;dbl&gt;</th><th scope=col>&lt;dbl&gt;</th><th scope=col>&lt;dbl&gt;</th><th scope=col>&lt;dbl&gt;</th><th scope=col>&lt;dbl&gt;</th><th scope=col>&lt;dbl&gt;</th><th scope=col>&lt;dbl&gt;</th></tr>\n",
       "</thead>\n",
       "<tbody>\n",
       "\t<tr><td>A01_02_1FE</td><td>NA</td><td>NA</td><td>NA</td><td>FALSE</td><td>healthy</td><td>232</td><td>3.888802</td><td>0.9507426</td><td>0.4757117</td><td>⋯</td><td>405.3489</td><td>0.6305880</td><td>0.7290097</td><td>6.973794</td><td>52.75731</td><td>0.01801202</td><td>0.6300578</td><td>0.8226669</td><td>0.1390624</td><td>0.02458852</td></tr>\n",
       "\t<tr><td>A02_01_1FE</td><td>NA</td><td>NA</td><td>NA</td><td>FALSE</td><td>healthy</td><td>176</td><td>3.418777</td><td>0.8891672</td><td>0.4182143</td><td>⋯</td><td>315.4350</td><td>0.5794583</td><td>0.8070891</td><td>6.341048</td><td>45.50104</td><td>0.01696774</td><td>0.6244829</td><td>0.8734180</td><td>0.1164369</td><td>0.01988324</td></tr>\n",
       "\t<tr><td>⋮</td><td>⋮</td><td>⋮</td><td>⋮</td><td>⋮</td><td>⋮</td><td>⋮</td><td>⋮</td><td>⋮</td><td>⋮</td><td>⋱</td><td>⋮</td><td>⋮</td><td>⋮</td><td>⋮</td><td>⋮</td><td>⋮</td><td>⋮</td><td>⋮</td><td>⋮</td><td>⋮</td></tr>\n",
       "\t<tr><td>nHMX11726        </td><td>NA</td><td>NA</td><td>NA</td><td>TRUE</td><td>healthy</td><td>272</td><td>3.612832</td><td>0.8932187</td><td>0.4419526</td><td>⋯</td><td>243.02318</td><td>0.5773991</td><td>0.8391111</td><td>5.956270</td><td>37.65335</td><td>0.01740735</td><td>0.6201435</td><td>0.6753169</td><td>0.06340579</td><td>0.005202252</td></tr>\n",
       "\t<tr><td>scavenger.11.60.0</td><td>NA</td><td>NA</td><td>NA</td><td>TRUE</td><td>healthy</td><td>210</td><td>3.891553</td><td>0.9557596</td><td>0.4760482</td><td>⋯</td><td> 99.81046</td><td>0.5403505</td><td>0.5274329</td><td>5.515369</td><td>31.73968</td><td>0.01272163</td><td>0.5382319</td><td>0.7079228</td><td>0.07027430</td><td>0.005815837</td></tr>\n",
       "</tbody>\n",
       "</table>\n"
      ],
      "text/latex": [
       "A tidytable: 3348 × 38\n",
       "\\begin{tabular}{lllllllllllllllllllll}\n",
       " Sample & age & BMI & gender & westernized & disease & nobs & shannon & simpson & pielou & ⋯ & FRic\\_trt & FEve\\_trt & FDiv\\_trt & FDis\\_trt & RaoQ\\_trt & FRic\\_cogcat & FEve\\_cogcat & FDiv\\_cogcat & FDis\\_cogcat & RaoQ\\_cogcat\\\\\n",
       " <chr> & <int> & <dbl> & <chr> & <lgl> & <chr> & <int> & <dbl> & <dbl> & <dbl> & ⋯ & <dbl> & <dbl> & <dbl> & <dbl> & <dbl> & <dbl> & <dbl> & <dbl> & <dbl> & <dbl>\\\\\n",
       "\\hline\n",
       "\t A01\\_02\\_1FE & NA & NA & NA & FALSE & healthy & 232 & 3.888802 & 0.9507426 & 0.4757117 & ⋯ & 405.3489 & 0.6305880 & 0.7290097 & 6.973794 & 52.75731 & 0.01801202 & 0.6300578 & 0.8226669 & 0.1390624 & 0.02458852\\\\\n",
       "\t A02\\_01\\_1FE & NA & NA & NA & FALSE & healthy & 176 & 3.418777 & 0.8891672 & 0.4182143 & ⋯ & 315.4350 & 0.5794583 & 0.8070891 & 6.341048 & 45.50104 & 0.01696774 & 0.6244829 & 0.8734180 & 0.1164369 & 0.01988324\\\\\n",
       "\t ⋮ & ⋮ & ⋮ & ⋮ & ⋮ & ⋮ & ⋮ & ⋮ & ⋮ & ⋮ & ⋱ & ⋮ & ⋮ & ⋮ & ⋮ & ⋮ & ⋮ & ⋮ & ⋮ & ⋮ & ⋮\\\\\n",
       "\t nHMX11726         & NA & NA & NA & TRUE & healthy & 272 & 3.612832 & 0.8932187 & 0.4419526 & ⋯ & 243.02318 & 0.5773991 & 0.8391111 & 5.956270 & 37.65335 & 0.01740735 & 0.6201435 & 0.6753169 & 0.06340579 & 0.005202252\\\\\n",
       "\t scavenger.11.60.0 & NA & NA & NA & TRUE & healthy & 210 & 3.891553 & 0.9557596 & 0.4760482 & ⋯ &  99.81046 & 0.5403505 & 0.5274329 & 5.515369 & 31.73968 & 0.01272163 & 0.5382319 & 0.7079228 & 0.07027430 & 0.005815837\\\\\n",
       "\\end{tabular}\n"
      ],
      "text/markdown": [
       "\n",
       "A tidytable: 3348 × 38\n",
       "\n",
       "| Sample &lt;chr&gt; | age &lt;int&gt; | BMI &lt;dbl&gt; | gender &lt;chr&gt; | westernized &lt;lgl&gt; | disease &lt;chr&gt; | nobs &lt;int&gt; | shannon &lt;dbl&gt; | simpson &lt;dbl&gt; | pielou &lt;dbl&gt; | ⋯ ⋯ | FRic_trt &lt;dbl&gt; | FEve_trt &lt;dbl&gt; | FDiv_trt &lt;dbl&gt; | FDis_trt &lt;dbl&gt; | RaoQ_trt &lt;dbl&gt; | FRic_cogcat &lt;dbl&gt; | FEve_cogcat &lt;dbl&gt; | FDiv_cogcat &lt;dbl&gt; | FDis_cogcat &lt;dbl&gt; | RaoQ_cogcat &lt;dbl&gt; |\n",
       "|---|---|---|---|---|---|---|---|---|---|---|---|---|---|---|---|---|---|---|---|---|\n",
       "| A01_02_1FE | NA | NA | NA | FALSE | healthy | 232 | 3.888802 | 0.9507426 | 0.4757117 | ⋯ | 405.3489 | 0.6305880 | 0.7290097 | 6.973794 | 52.75731 | 0.01801202 | 0.6300578 | 0.8226669 | 0.1390624 | 0.02458852 |\n",
       "| A02_01_1FE | NA | NA | NA | FALSE | healthy | 176 | 3.418777 | 0.8891672 | 0.4182143 | ⋯ | 315.4350 | 0.5794583 | 0.8070891 | 6.341048 | 45.50104 | 0.01696774 | 0.6244829 | 0.8734180 | 0.1164369 | 0.01988324 |\n",
       "| ⋮ | ⋮ | ⋮ | ⋮ | ⋮ | ⋮ | ⋮ | ⋮ | ⋮ | ⋮ | ⋱ | ⋮ | ⋮ | ⋮ | ⋮ | ⋮ | ⋮ | ⋮ | ⋮ | ⋮ | ⋮ |\n",
       "| nHMX11726         | NA | NA | NA | TRUE | healthy | 272 | 3.612832 | 0.8932187 | 0.4419526 | ⋯ | 243.02318 | 0.5773991 | 0.8391111 | 5.956270 | 37.65335 | 0.01740735 | 0.6201435 | 0.6753169 | 0.06340579 | 0.005202252 |\n",
       "| scavenger.11.60.0 | NA | NA | NA | TRUE | healthy | 210 | 3.891553 | 0.9557596 | 0.4760482 | ⋯ |  99.81046 | 0.5403505 | 0.5274329 | 5.515369 | 31.73968 | 0.01272163 | 0.5382319 | 0.7079228 | 0.07027430 | 0.005815837 |\n",
       "\n"
      ],
      "text/plain": [
       "     Sample            age BMI gender westernized disease nobs shannon \n",
       "1    A01_02_1FE        NA  NA  NA     FALSE       healthy 232  3.888802\n",
       "2    A02_01_1FE        NA  NA  NA     FALSE       healthy 176  3.418777\n",
       "⋮    ⋮                 ⋮   ⋮   ⋮      ⋮           ⋮       ⋮    ⋮       \n",
       "3347 nHMX11726         NA  NA  NA     TRUE        healthy 272  3.612832\n",
       "3348 scavenger.11.60.0 NA  NA  NA     TRUE        healthy 210  3.891553\n",
       "     simpson   pielou    ⋯ FRic_trt  FEve_trt  FDiv_trt  FDis_trt RaoQ_trt\n",
       "1    0.9507426 0.4757117 ⋯ 405.3489  0.6305880 0.7290097 6.973794 52.75731\n",
       "2    0.8891672 0.4182143 ⋯ 315.4350  0.5794583 0.8070891 6.341048 45.50104\n",
       "⋮    ⋮         ⋮         ⋱ ⋮         ⋮         ⋮         ⋮        ⋮       \n",
       "3347 0.8932187 0.4419526 ⋯ 243.02318 0.5773991 0.8391111 5.956270 37.65335\n",
       "3348 0.9557596 0.4760482 ⋯  99.81046 0.5403505 0.5274329 5.515369 31.73968\n",
       "     FRic_cogcat FEve_cogcat FDiv_cogcat FDis_cogcat RaoQ_cogcat\n",
       "1    0.01801202  0.6300578   0.8226669   0.1390624   0.02458852 \n",
       "2    0.01696774  0.6244829   0.8734180   0.1164369   0.01988324 \n",
       "⋮    ⋮           ⋮           ⋮           ⋮           ⋮          \n",
       "3347 0.01740735  0.6201435   0.6753169   0.06340579  0.005202252\n",
       "3348 0.01272163  0.5382319   0.7079228   0.07027430  0.005815837"
      ]
     },
     "metadata": {},
     "output_type": "display_data"
    }
   ],
   "source": [
    "feats = meta %>%\n",
    "    select.(Sample, age, BMI, gender, westernized, disease) %>%\n",
    "    mutate.(disease = ifelse(disease != 'healthy', 'diseased', disease)) %>%\n",
    "    inner_join.(alpha_div, c('Sample')) %>%\n",
    "    inner_join.(mpd, c('Sample')) %>%\n",
    "    inner_join.(mntd, c('Sample')) %>%\n",
    "    inner_join.(fd_trt, c('Sample')) %>%\n",
    "    inner_join.(fd_cog, c('Sample')) \n",
    "feats"
   ]
  },
  {
   "cell_type": "markdown",
   "metadata": {},
   "source": [
    "# ML settings"
   ]
  },
  {
   "cell_type": "code",
   "execution_count": 79,
   "metadata": {
    "ExecuteTime": {
     "end_time": "2021-04-18T18:57:31.155261Z",
     "start_time": "2021-04-18T18:57:22.754Z"
    }
   },
   "outputs": [],
   "source": [
    "conda_env = '/ebio/abt3_projects/Anxiety_Twins_Metagenomes/envs/tidyverse-ML2'\n",
    "resources = list(h_rt = '00:59:00',\n",
    "                 h_vmem = '12G',\n",
    "                 conda.env = conda_env)"
   ]
  },
  {
   "cell_type": "code",
   "execution_count": 80,
   "metadata": {
    "ExecuteTime": {
     "end_time": "2021-04-18T18:57:31.174461Z",
     "start_time": "2021-04-18T18:57:23.259Z"
    }
   },
   "outputs": [],
   "source": [
    "# list of all performances\n",
    "perf_res = list()"
   ]
  },
  {
   "cell_type": "markdown",
   "metadata": {},
   "source": [
    "## functions"
   ]
  },
  {
   "cell_type": "code",
   "execution_count": 81,
   "metadata": {
    "ExecuteTime": {
     "end_time": "2021-04-18T18:57:31.192339Z",
     "start_time": "2021-04-18T18:57:24.682Z"
    }
   },
   "outputs": [],
   "source": [
    "# classifier performance\n",
    "cls_perf = function(res){\n",
    "    cat('--AUC--\\n')\n",
    "    res$measures.test$auc %>% summary %>% print\n",
    "    cat('--F1--\\n')\n",
    "    res$measures.test$f1 %>% summary %>% print\n",
    "    cat('--plot--\\n')\n",
    "    p = res$measures.test %>%\n",
    "        pivot_longer.(cols=c(-iter), names_to='metric', values_to='value') %>%\n",
    "        ggplot(aes(metric, value)) +\n",
    "        geom_boxplot() +\n",
    "        theme_bw()  \n",
    "    p.dims(4,2.5)\n",
    "    plot(p)\n",
    "}"
   ]
  },
  {
   "cell_type": "code",
   "execution_count": 82,
   "metadata": {
    "ExecuteTime": {
     "end_time": "2021-04-18T18:57:31.214560Z",
     "start_time": "2021-04-18T18:57:24.970Z"
    }
   },
   "outputs": [],
   "source": [
    "#' feature importance\n",
    "merge_feat_imp = function(iter, feat_imp){\n",
    "    res = feat_imp[[iter]]$res\n",
    "    res$iter = iter\n",
    "    return(res)  \n",
    "}\n",
    "\n",
    "get_feat_imp = function(res, threads){\n",
    "    doParallel::registerDoParallel(threads)\n",
    "    feat_imp = res$models %>%\n",
    "        plyr::llply(function(x) getFeatureImportance(x)$res,\n",
    "                    .parallel=TRUE) %>%\n",
    "        rbindlist(use.names=TRUE, idcol='cv_rep')\n",
    "    return(feat_imp)\n",
    "}"
   ]
  },
  {
   "cell_type": "code",
   "execution_count": 83,
   "metadata": {
    "ExecuteTime": {
     "end_time": "2021-04-18T18:57:31.234259Z",
     "start_time": "2021-04-18T18:57:25.149Z"
    }
   },
   "outputs": [],
   "source": [
    "# plotting most important features\n",
    "plot_feat_imp = function(feat_imp, max_rank = 50, y_offset=-0.01){\n",
    "    p = feat_imp %>%\n",
    "        mutate.(rank = row_number(-importance),\n",
    "                .by=c('cv_rep')) %>%\n",
    "        mutate.(mean_rank = mean(rank),\n",
    "                .by=c(variable)) %>%\n",
    "        filter.(mean_rank < max_rank) %>%\n",
    "        mutate.(measure_type = case_when.(grepl('MPD|MNTD', variable) ~ 'eco-phy',\n",
    "                                       grepl('FEve|FRic|FDis|RaoQ|FDiv', variable) ~ 'func. div.',\n",
    "                                       TRUE ~ 'alpha div.')) %>%\n",
    "        mutate.(data_type = case_when.(grepl('phy', variable) ~ 'phylogeny',\n",
    "                                       grepl('trt', variable) ~ 'trait',\n",
    "                                       grepl('pfam|cog', variable) ~ 'COG/Pfam',\n",
    "                                       TRUE ~ 'no tree')) %>%\n",
    "        mutate.(variable = variable %>% reorder(-mean_rank)) %>%\n",
    "        ggplot(aes(variable, importance)) +\n",
    "        geom_point(aes(y=y_offset, fill=data_type), pch=22, size=4) +\n",
    "        geom_boxplot(aes(color=measure_type)) +\n",
    "        scale_color_discrete('Measure') +\n",
    "        scale_fill_discrete('Tree') +\n",
    "        labs(x='Feature', y='Importance') +\n",
    "        theme_bw() +\n",
    "        theme(\n",
    "            axis.text.x = element_text(angle=45, hjust=1)\n",
    "        ) +\n",
    "        coord_flip()\n",
    "    return(p)\n",
    "}"
   ]
  },
  {
   "cell_type": "markdown",
   "metadata": {},
   "source": [
    "# Westernization"
   ]
  },
  {
   "cell_type": "code",
   "execution_count": 84,
   "metadata": {
    "ExecuteTime": {
     "end_time": "2021-04-18T18:57:31.257409Z",
     "start_time": "2021-04-18T18:57:26.002Z"
    }
   },
   "outputs": [],
   "source": [
    "target = 'westernized'\n",
    "measures = list(auc, acc, mcc, f1)\n",
    "cv_iters = 5"
   ]
  },
  {
   "cell_type": "code",
   "execution_count": 85,
   "metadata": {
    "ExecuteTime": {
     "end_time": "2021-04-18T18:57:31.331136Z",
     "start_time": "2021-04-18T18:57:28.149Z"
    }
   },
   "outputs": [
    {
     "data": {
      "text/html": [
       "<table class=\"dataframe\">\n",
       "<caption>A data.frame: 3348 × 33</caption>\n",
       "<thead>\n",
       "\t<tr><th></th><th scope=col>westernized</th><th scope=col>nobs</th><th scope=col>shannon</th><th scope=col>simpson</th><th scope=col>pielou</th><th scope=col>PD_phy</th><th scope=col>PD_trt</th><th scope=col>PD_cog</th><th scope=col>PD_cogcat</th><th scope=col>PD_pfam</th><th scope=col>⋯</th><th scope=col>FRic_trt</th><th scope=col>FEve_trt</th><th scope=col>FDiv_trt</th><th scope=col>FDis_trt</th><th scope=col>RaoQ_trt</th><th scope=col>FRic_cogcat</th><th scope=col>FEve_cogcat</th><th scope=col>FDiv_cogcat</th><th scope=col>FDis_cogcat</th><th scope=col>RaoQ_cogcat</th></tr>\n",
       "\t<tr><th></th><th scope=col>&lt;lgl&gt;</th><th scope=col>&lt;int&gt;</th><th scope=col>&lt;dbl&gt;</th><th scope=col>&lt;dbl&gt;</th><th scope=col>&lt;dbl&gt;</th><th scope=col>&lt;dbl&gt;</th><th scope=col>&lt;dbl&gt;</th><th scope=col>&lt;dbl&gt;</th><th scope=col>&lt;dbl&gt;</th><th scope=col>&lt;dbl&gt;</th><th scope=col>⋯</th><th scope=col>&lt;dbl&gt;</th><th scope=col>&lt;dbl&gt;</th><th scope=col>&lt;dbl&gt;</th><th scope=col>&lt;dbl&gt;</th><th scope=col>&lt;dbl&gt;</th><th scope=col>&lt;dbl&gt;</th><th scope=col>&lt;dbl&gt;</th><th scope=col>&lt;dbl&gt;</th><th scope=col>&lt;dbl&gt;</th><th scope=col>&lt;dbl&gt;</th></tr>\n",
       "</thead>\n",
       "<tbody>\n",
       "\t<tr><th scope=row>A01_02_1FE</th><td>FALSE</td><td>232</td><td>3.888802</td><td>0.9507426</td><td>0.4757117</td><td>55.94272</td><td>43.94092</td><td>73.48643</td><td>28.29848</td><td>34.96796</td><td>⋯</td><td>405.3489</td><td>0.6305880</td><td>0.7290097</td><td>6.973794</td><td>52.75731</td><td>0.01801202</td><td>0.6300578</td><td>0.8226669</td><td>0.1390624</td><td>0.02458852</td></tr>\n",
       "\t<tr><th scope=row>A02_01_1FE</th><td>FALSE</td><td>176</td><td>3.418777</td><td>0.8891672</td><td>0.4182143</td><td>40.24502</td><td>31.18437</td><td>50.07578</td><td>20.65005</td><td>23.78966</td><td>⋯</td><td>315.4350</td><td>0.5794583</td><td>0.8070891</td><td>6.341048</td><td>45.50104</td><td>0.01696774</td><td>0.6244829</td><td>0.8734180</td><td>0.1164369</td><td>0.01988324</td></tr>\n",
       "\t<tr><th scope=row>⋮</th><td>⋮</td><td>⋮</td><td>⋮</td><td>⋮</td><td>⋮</td><td>⋮</td><td>⋮</td><td>⋮</td><td>⋮</td><td>⋮</td><td>⋱</td><td>⋮</td><td>⋮</td><td>⋮</td><td>⋮</td><td>⋮</td><td>⋮</td><td>⋮</td><td>⋮</td><td>⋮</td><td>⋮</td></tr>\n",
       "\t<tr><th scope=row>nHMX11726</th><td>TRUE</td><td>272</td><td>3.612832</td><td>0.8932187</td><td>0.4419526</td><td>53.11264</td><td>46.47031</td><td>88.09736</td><td>34.25477</td><td>41.73731</td><td>⋯</td><td>243.02318</td><td>0.5773991</td><td>0.8391111</td><td>5.956270</td><td>37.65335</td><td>0.01740735</td><td>0.6201435</td><td>0.6753169</td><td>0.06340579</td><td>0.005202252</td></tr>\n",
       "\t<tr><th scope=row>scavenger.11.60.0</th><td>TRUE</td><td>210</td><td>3.891553</td><td>0.9557596</td><td>0.4760482</td><td>37.27697</td><td>35.63946</td><td>64.59389</td><td>22.62152</td><td>29.89625</td><td>⋯</td><td> 99.81046</td><td>0.5403505</td><td>0.5274329</td><td>5.515369</td><td>31.73968</td><td>0.01272163</td><td>0.5382319</td><td>0.7079228</td><td>0.07027430</td><td>0.005815837</td></tr>\n",
       "</tbody>\n",
       "</table>\n"
      ],
      "text/latex": [
       "A data.frame: 3348 × 33\n",
       "\\begin{tabular}{r|lllllllllllllllllllll}\n",
       "  & westernized & nobs & shannon & simpson & pielou & PD\\_phy & PD\\_trt & PD\\_cog & PD\\_cogcat & PD\\_pfam & ⋯ & FRic\\_trt & FEve\\_trt & FDiv\\_trt & FDis\\_trt & RaoQ\\_trt & FRic\\_cogcat & FEve\\_cogcat & FDiv\\_cogcat & FDis\\_cogcat & RaoQ\\_cogcat\\\\\n",
       "  & <lgl> & <int> & <dbl> & <dbl> & <dbl> & <dbl> & <dbl> & <dbl> & <dbl> & <dbl> & ⋯ & <dbl> & <dbl> & <dbl> & <dbl> & <dbl> & <dbl> & <dbl> & <dbl> & <dbl> & <dbl>\\\\\n",
       "\\hline\n",
       "\tA01\\_02\\_1FE & FALSE & 232 & 3.888802 & 0.9507426 & 0.4757117 & 55.94272 & 43.94092 & 73.48643 & 28.29848 & 34.96796 & ⋯ & 405.3489 & 0.6305880 & 0.7290097 & 6.973794 & 52.75731 & 0.01801202 & 0.6300578 & 0.8226669 & 0.1390624 & 0.02458852\\\\\n",
       "\tA02\\_01\\_1FE & FALSE & 176 & 3.418777 & 0.8891672 & 0.4182143 & 40.24502 & 31.18437 & 50.07578 & 20.65005 & 23.78966 & ⋯ & 315.4350 & 0.5794583 & 0.8070891 & 6.341048 & 45.50104 & 0.01696774 & 0.6244829 & 0.8734180 & 0.1164369 & 0.01988324\\\\\n",
       "\t⋮ & ⋮ & ⋮ & ⋮ & ⋮ & ⋮ & ⋮ & ⋮ & ⋮ & ⋮ & ⋮ & ⋱ & ⋮ & ⋮ & ⋮ & ⋮ & ⋮ & ⋮ & ⋮ & ⋮ & ⋮ & ⋮\\\\\n",
       "\tnHMX11726 & TRUE & 272 & 3.612832 & 0.8932187 & 0.4419526 & 53.11264 & 46.47031 & 88.09736 & 34.25477 & 41.73731 & ⋯ & 243.02318 & 0.5773991 & 0.8391111 & 5.956270 & 37.65335 & 0.01740735 & 0.6201435 & 0.6753169 & 0.06340579 & 0.005202252\\\\\n",
       "\tscavenger.11.60.0 & TRUE & 210 & 3.891553 & 0.9557596 & 0.4760482 & 37.27697 & 35.63946 & 64.59389 & 22.62152 & 29.89625 & ⋯ &  99.81046 & 0.5403505 & 0.5274329 & 5.515369 & 31.73968 & 0.01272163 & 0.5382319 & 0.7079228 & 0.07027430 & 0.005815837\\\\\n",
       "\\end{tabular}\n"
      ],
      "text/markdown": [
       "\n",
       "A data.frame: 3348 × 33\n",
       "\n",
       "| <!--/--> | westernized &lt;lgl&gt; | nobs &lt;int&gt; | shannon &lt;dbl&gt; | simpson &lt;dbl&gt; | pielou &lt;dbl&gt; | PD_phy &lt;dbl&gt; | PD_trt &lt;dbl&gt; | PD_cog &lt;dbl&gt; | PD_cogcat &lt;dbl&gt; | PD_pfam &lt;dbl&gt; | ⋯ ⋯ | FRic_trt &lt;dbl&gt; | FEve_trt &lt;dbl&gt; | FDiv_trt &lt;dbl&gt; | FDis_trt &lt;dbl&gt; | RaoQ_trt &lt;dbl&gt; | FRic_cogcat &lt;dbl&gt; | FEve_cogcat &lt;dbl&gt; | FDiv_cogcat &lt;dbl&gt; | FDis_cogcat &lt;dbl&gt; | RaoQ_cogcat &lt;dbl&gt; |\n",
       "|---|---|---|---|---|---|---|---|---|---|---|---|---|---|---|---|---|---|---|---|---|---|\n",
       "| A01_02_1FE | FALSE | 232 | 3.888802 | 0.9507426 | 0.4757117 | 55.94272 | 43.94092 | 73.48643 | 28.29848 | 34.96796 | ⋯ | 405.3489 | 0.6305880 | 0.7290097 | 6.973794 | 52.75731 | 0.01801202 | 0.6300578 | 0.8226669 | 0.1390624 | 0.02458852 |\n",
       "| A02_01_1FE | FALSE | 176 | 3.418777 | 0.8891672 | 0.4182143 | 40.24502 | 31.18437 | 50.07578 | 20.65005 | 23.78966 | ⋯ | 315.4350 | 0.5794583 | 0.8070891 | 6.341048 | 45.50104 | 0.01696774 | 0.6244829 | 0.8734180 | 0.1164369 | 0.01988324 |\n",
       "| ⋮ | ⋮ | ⋮ | ⋮ | ⋮ | ⋮ | ⋮ | ⋮ | ⋮ | ⋮ | ⋮ | ⋱ | ⋮ | ⋮ | ⋮ | ⋮ | ⋮ | ⋮ | ⋮ | ⋮ | ⋮ | ⋮ |\n",
       "| nHMX11726 | TRUE | 272 | 3.612832 | 0.8932187 | 0.4419526 | 53.11264 | 46.47031 | 88.09736 | 34.25477 | 41.73731 | ⋯ | 243.02318 | 0.5773991 | 0.8391111 | 5.956270 | 37.65335 | 0.01740735 | 0.6201435 | 0.6753169 | 0.06340579 | 0.005202252 |\n",
       "| scavenger.11.60.0 | TRUE | 210 | 3.891553 | 0.9557596 | 0.4760482 | 37.27697 | 35.63946 | 64.59389 | 22.62152 | 29.89625 | ⋯ |  99.81046 | 0.5403505 | 0.5274329 | 5.515369 | 31.73968 | 0.01272163 | 0.5382319 | 0.7079228 | 0.07027430 | 0.005815837 |\n",
       "\n"
      ],
      "text/plain": [
       "                  westernized nobs shannon  simpson   pielou    PD_phy  \n",
       "A01_02_1FE        FALSE       232  3.888802 0.9507426 0.4757117 55.94272\n",
       "A02_01_1FE        FALSE       176  3.418777 0.8891672 0.4182143 40.24502\n",
       "⋮                 ⋮           ⋮    ⋮        ⋮         ⋮         ⋮       \n",
       "nHMX11726         TRUE        272  3.612832 0.8932187 0.4419526 53.11264\n",
       "scavenger.11.60.0 TRUE        210  3.891553 0.9557596 0.4760482 37.27697\n",
       "                  PD_trt   PD_cog   PD_cogcat PD_pfam  ⋯ FRic_trt  FEve_trt \n",
       "A01_02_1FE        43.94092 73.48643 28.29848  34.96796 ⋯ 405.3489  0.6305880\n",
       "A02_01_1FE        31.18437 50.07578 20.65005  23.78966 ⋯ 315.4350  0.5794583\n",
       "⋮                 ⋮        ⋮        ⋮         ⋮        ⋱ ⋮         ⋮        \n",
       "nHMX11726         46.47031 88.09736 34.25477  41.73731 ⋯ 243.02318 0.5773991\n",
       "scavenger.11.60.0 35.63946 64.59389 22.62152  29.89625 ⋯  99.81046 0.5403505\n",
       "                  FDiv_trt  FDis_trt RaoQ_trt FRic_cogcat FEve_cogcat\n",
       "A01_02_1FE        0.7290097 6.973794 52.75731 0.01801202  0.6300578  \n",
       "A02_01_1FE        0.8070891 6.341048 45.50104 0.01696774  0.6244829  \n",
       "⋮                 ⋮         ⋮        ⋮        ⋮           ⋮          \n",
       "nHMX11726         0.8391111 5.956270 37.65335 0.01740735  0.6201435  \n",
       "scavenger.11.60.0 0.5274329 5.515369 31.73968 0.01272163  0.5382319  \n",
       "                  FDiv_cogcat FDis_cogcat RaoQ_cogcat\n",
       "A01_02_1FE        0.8226669   0.1390624   0.02458852 \n",
       "A02_01_1FE        0.8734180   0.1164369   0.01988324 \n",
       "⋮                 ⋮           ⋮           ⋮          \n",
       "nHMX11726         0.6753169   0.06340579  0.005202252\n",
       "scavenger.11.60.0 0.7079228   0.07027430  0.005815837"
      ]
     },
     "metadata": {},
     "output_type": "display_data"
    }
   ],
   "source": [
    "# formatting\n",
    "feats_f = feats %>%\n",
    "    select.(-age, -BMI, -gender, -disease) %>%\n",
    "    filter.(!is.na(westernized)) %>%\n",
    "    as.data.frame\n",
    "rownames(feats_f) = feats_f$Sample\n",
    "feats_f$Sample = NULL\n",
    "feats_f"
   ]
  },
  {
   "cell_type": "code",
   "execution_count": 86,
   "metadata": {
    "ExecuteTime": {
     "end_time": "2021-04-18T18:57:31.393248Z",
     "start_time": "2021-04-18T18:57:29.298Z"
    }
   },
   "outputs": [
    {
     "data": {
      "text/plain": [
       ".\n",
       "FALSE  TRUE \n",
       "  518  2830 "
      ]
     },
     "metadata": {},
     "output_type": "display_data"
    },
    {
     "data": {
      "text/plain": [
       " westernized          nobs          shannon          simpson      \n",
       " Mode :logical   Min.   : 23.0   Min.   :0.7248   Min.   :0.2267  \n",
       " FALSE:518       1st Qu.:237.0   1st Qu.:3.6469   1st Qu.:0.9290  \n",
       " TRUE :2830      Median :279.0   Median :4.1193   Median :0.9598  \n",
       "                 Mean   :274.2   Mean   :3.9909   Mean   :0.9390  \n",
       "                 3rd Qu.:317.0   3rd Qu.:4.4544   3rd Qu.:0.9748  \n",
       "                 Max.   :484.0   Max.   :5.2184   Max.   :0.9905  \n",
       "     pielou            PD_phy           PD_trt           PD_cog       \n",
       " Min.   :0.08866   Min.   : 8.175   Min.   : 5.864   Min.   :  8.994  \n",
       " 1st Qu.:0.44612   1st Qu.:43.740   1st Qu.:40.002   1st Qu.: 71.348  \n",
       " Median :0.50391   Median :53.459   Median :48.288   Median : 86.915  \n",
       " Mean   :0.48820   Mean   :53.365   Mean   :47.316   Mean   : 86.033  \n",
       " 3rd Qu.:0.54490   3rd Qu.:62.845   3rd Qu.:55.590   3rd Qu.:101.954  \n",
       " Max.   :0.63836   Max.   :98.112   Max.   :86.070   Max.   :160.003  \n",
       "   PD_cogcat         PD_pfam         PD_pfamcat        MPD_phy       \n",
       " Min.   : 4.221   Min.   : 5.431   Min.   : 3.695   Min.   :-74.238  \n",
       " 1st Qu.:25.520   1st Qu.:34.278   1st Qu.:20.908   1st Qu.:-22.592  \n",
       " Median :32.628   Median :40.900   Median :24.936   Median :-20.161  \n",
       " Mean   :32.897   Mean   :40.384   Mean   :24.618   Mean   :-20.460  \n",
       " 3rd Qu.:39.994   3rd Qu.:47.032   3rd Qu.:28.631   3rd Qu.:-17.713  \n",
       " Max.   :63.604   Max.   :73.396   Max.   :44.456   Max.   : -1.211  \n",
       "    MPD_cog          MPD_cogcat        MPD_pfam        MPD_pfamcat     \n",
       " Min.   :-15.203   Min.   :-3.650   Min.   :-44.390   Min.   :-36.599  \n",
       " 1st Qu.: -6.574   1st Qu.:-2.041   1st Qu.:-23.963   1st Qu.:-12.567  \n",
       " Median : -4.294   Median :-1.818   Median :-20.238   Median :-10.743  \n",
       " Mean   : -3.960   Mean   :-1.737   Mean   :-20.585   Mean   :-10.780  \n",
       " 3rd Qu.: -1.683   3rd Qu.:-1.494   3rd Qu.:-17.054   3rd Qu.: -8.792  \n",
       " Max.   :  7.553   Max.   : 1.699   Max.   :  1.767   Max.   :  1.622  \n",
       "    MPD_trt            MNTD_phy          MNTD_cog         MNTD_cogcat      \n",
       " Min.   :-56.4363   Min.   :-23.718   Min.   :-18.1302   Min.   :-11.0637  \n",
       " 1st Qu.:-22.4867   1st Qu.: -9.870   1st Qu.:-12.6481   1st Qu.: -6.0196  \n",
       " Median :-20.0065   Median : -8.173   Median :-11.5147   Median : -5.3469  \n",
       " Mean   :-19.9082   Mean   : -8.486   Mean   :-11.1903   Mean   : -5.2901  \n",
       " 3rd Qu.:-17.0460   3rd Qu.: -6.669   3rd Qu.:-10.1012   3rd Qu.: -4.6394  \n",
       " Max.   : -0.6191   Max.   :  1.384   Max.   : -0.9622   Max.   :  0.3073  \n",
       "   MNTD_pfam        MNTD_pfamcat        MNTD_trt           FRic_trt     \n",
       " Min.   :-19.535   Min.   :-20.955   Min.   :-21.0863   Min.   : 41.91  \n",
       " 1st Qu.:-16.559   1st Qu.:-17.315   1st Qu.:-12.9991   1st Qu.:139.51  \n",
       " Median :-15.709   Median :-16.397   Median :-12.3188   Median :224.96  \n",
       " Mean   :-15.420   Mean   :-16.138   Mean   :-12.2657   Mean   :235.92  \n",
       " 3rd Qu.:-14.651   3rd Qu.:-15.304   3rd Qu.:-11.5717   3rd Qu.:306.60  \n",
       " Max.   : -1.152   Max.   : -1.034   Max.   : -0.7506   Max.   :677.17  \n",
       "    FEve_trt         FDiv_trt         FDis_trt        RaoQ_trt    \n",
       " Min.   :0.4496   Min.   :0.4114   Min.   :2.236   Min.   :11.41  \n",
       " 1st Qu.:0.5590   1st Qu.:0.6908   1st Qu.:5.731   1st Qu.:34.60  \n",
       " Median :0.5785   Median :0.7491   Median :5.956   Median :36.99  \n",
       " Mean   :0.5796   Mean   :0.7465   Mean   :5.972   Mean   :38.29  \n",
       " 3rd Qu.:0.5987   3rd Qu.:0.8050   3rd Qu.:6.178   3rd Qu.:40.03  \n",
       " Max.   :0.8046   Max.   :0.9792   Max.   :8.926   Max.   :81.33  \n",
       "  FRic_cogcat        FEve_cogcat      FDiv_cogcat      FDis_cogcat     \n",
       " Min.   :0.003134   Min.   :0.4841   Min.   :0.3444   Min.   :0.02907  \n",
       " 1st Qu.:0.013292   1st Qu.:0.5829   1st Qu.:0.6768   1st Qu.:0.06934  \n",
       " Median :0.017028   Median :0.6039   Median :0.7173   Median :0.07533  \n",
       " Mean   :0.015726   Mean   :0.6048   Mean   :0.7170   Mean   :0.07877  \n",
       " 3rd Qu.:0.018243   3rd Qu.:0.6255   3rd Qu.:0.7576   3rd Qu.:0.08210  \n",
       " Max.   :0.025667   Max.   :0.8248   Max.   :0.9876   Max.   :0.20228  \n",
       "  RaoQ_cogcat      \n",
       " Min.   :0.001775  \n",
       " 1st Qu.:0.005791  \n",
       " Median :0.006843  \n",
       " Mean   :0.008217  \n",
       " 3rd Qu.:0.008323  \n",
       " Max.   :0.041588  "
      ]
     },
     "metadata": {},
     "output_type": "display_data"
    }
   ],
   "source": [
    "# summary\n",
    "## target\n",
    "feats_f[,target] %>% table\n",
    "## all features\n",
    "feats_f %>% summary"
   ]
  },
  {
   "cell_type": "markdown",
   "metadata": {},
   "source": [
    "## RF"
   ]
  },
  {
   "cell_type": "code",
   "execution_count": 27,
   "metadata": {
    "ExecuteTime": {
     "end_time": "2021-04-18T05:19:21.307003Z",
     "start_time": "2021-04-18T05:19:05.851Z"
    }
   },
   "outputs": [
    {
     "data": {
      "text/plain": [
       "Supervised task: feats_f\n",
       "Type: classif\n",
       "Target: westernized\n",
       "Observations: 3348\n",
       "Features:\n",
       "   numerics     factors     ordered functionals \n",
       "         32           0           0           0 \n",
       "Missings: FALSE\n",
       "Has weights: FALSE\n",
       "Has blocking: FALSE\n",
       "Has coordinates: FALSE\n",
       "Classes: 2\n",
       "FALSE  TRUE \n",
       "  518  2830 \n",
       "Positive class: FALSE"
      ]
     },
     "metadata": {},
     "output_type": "display_data"
    }
   ],
   "source": [
    "# creating mlr task\n",
    "tsk = makeClassifTask(data = feats_f, target = target)\n",
    "tsk"
   ]
  },
  {
   "cell_type": "code",
   "execution_count": 28,
   "metadata": {
    "ExecuteTime": {
     "end_time": "2021-04-18T05:19:21.329462Z",
     "start_time": "2021-04-18T05:19:05.857Z"
    }
   },
   "outputs": [
    {
     "data": {
      "text/plain": [
       "Supervised task: feats_f\n",
       "Type: classif\n",
       "Target: westernized\n",
       "Observations: 1084\n",
       "Features:\n",
       "   numerics     factors     ordered functionals \n",
       "         32           0           0           0 \n",
       "Missings: FALSE\n",
       "Has weights: FALSE\n",
       "Has blocking: FALSE\n",
       "Has coordinates: FALSE\n",
       "Classes: 2\n",
       "FALSE  TRUE \n",
       "  518   566 \n",
       "Positive class: FALSE"
      ]
     },
     "metadata": {},
     "output_type": "display_data"
    }
   ],
   "source": [
    "# what sampling rate to use?\n",
    "rate = 1/5\n",
    "undersample(tsk, rate = rate)"
   ]
  },
  {
   "cell_type": "code",
   "execution_count": 29,
   "metadata": {
    "ExecuteTime": {
     "end_time": "2021-04-18T05:19:22.777229Z",
     "start_time": "2021-04-18T05:19:05.862Z"
    }
   },
   "outputs": [
    {
     "data": {
      "text/plain": [
       "Learner classif.cforest from package party\n",
       "Type: classif\n",
       "Name: Random forest based on conditional inference trees; Short name: cforest\n",
       "Class: classif.cforest\n",
       "Properties: twoclass,multiclass,prob,factors,numerics,ordered,weights,missings,featimp\n",
       "Predict-Type: prob\n",
       "Hyperparameters: ntree=500\n"
      ]
     },
     "metadata": {},
     "output_type": "display_data"
    }
   ],
   "source": [
    "## feature selection (wrapping the RF learner)\n",
    "lrn = makeLearner('classif.cforest', predict.type = 'prob', ntree = 500)\n",
    "lrn"
   ]
  },
  {
   "cell_type": "code",
   "execution_count": 30,
   "metadata": {
    "ExecuteTime": {
     "end_time": "2021-04-18T05:19:22.801742Z",
     "start_time": "2021-04-18T05:19:05.865Z"
    }
   },
   "outputs": [
    {
     "data": {
      "text/plain": [
       "Learner classif.cforest.undersampled from package mlr,party\n",
       "Type: classif\n",
       "Name: ; Short name: \n",
       "Class: UndersampleWrapper\n",
       "Properties: numerics,factors,ordered,missings,weights,prob,twoclass,multiclass,featimp\n",
       "Predict-Type: prob\n",
       "Hyperparameters: ntree=500,usw.rate=0.2\n"
      ]
     },
     "metadata": {},
     "output_type": "display_data"
    }
   ],
   "source": [
    "# sampling\n",
    "lrn = makeUndersampleWrapper(lrn, usw.rate = rate)\n",
    "lrn"
   ]
  },
  {
   "cell_type": "code",
   "execution_count": 31,
   "metadata": {
    "ExecuteTime": {
     "end_time": "2021-04-18T05:19:35.249245Z",
     "start_time": "2021-04-18T05:19:05.868Z"
    }
   },
   "outputs": [
    {
     "name": "stderr",
     "output_type": "stream",
     "text": [
      "Starting parallelization in mode=multicore with cpus=8.\n",
      "\n",
      "Resampling: cross-validation\n",
      "\n",
      "Measures:             auc       acc       mcc       f1        \n",
      "\n",
      "Mapping in parallel: mode = multicore; level = mlr.resample; cpus = 8; elements = 5.\n",
      "\n",
      "\n",
      "\n",
      "\n",
      "Aggregated Result: auc.test.mean=0.9195223,acc.test.mean=0.8372095,mcc.test.mean=0.5597783,f1.test.mean=0.6195390\n",
      "\n",
      "\n",
      "\n",
      "\n",
      "Stopped parallelization. All cleaned up.\n",
      "\n"
     ]
    }
   ],
   "source": [
    "## evaluation \n",
    "parallelStartMulticore(cpus=threads, level = 'mlr.resample')\n",
    "rs = makeResampleDesc('CV', iters = cv_iters, stratify = TRUE)\n",
    "res = resample(lrn, tsk, \n",
    "               resampling = rs,  \n",
    "               models = TRUE,\n",
    "               measures = measures)\n",
    "parallelStop()"
   ]
  },
  {
   "cell_type": "markdown",
   "metadata": {},
   "source": [
    "### Performance"
   ]
  },
  {
   "cell_type": "code",
   "execution_count": 32,
   "metadata": {
    "ExecuteTime": {
     "end_time": "2021-04-18T05:19:35.283979Z",
     "start_time": "2021-04-18T05:19:05.873Z"
    }
   },
   "outputs": [
    {
     "data": {
      "text/html": [
       "<table class=\"dataframe\">\n",
       "<caption>A data.frame: 5 × 5</caption>\n",
       "<thead>\n",
       "\t<tr><th scope=col>iter</th><th scope=col>auc</th><th scope=col>acc</th><th scope=col>mcc</th><th scope=col>f1</th></tr>\n",
       "\t<tr><th scope=col>&lt;int&gt;</th><th scope=col>&lt;dbl&gt;</th><th scope=col>&lt;dbl&gt;</th><th scope=col>&lt;dbl&gt;</th><th scope=col>&lt;dbl&gt;</th></tr>\n",
       "</thead>\n",
       "<tbody>\n",
       "\t<tr><td>1</td><td>0.9242321</td><td>0.8283582</td><td>0.5555707</td><td>0.6127946</td></tr>\n",
       "\t<tr><td>2</td><td>0.9290885</td><td>0.8445441</td><td>0.5703854</td><td>0.6285714</td></tr>\n",
       "\t<tr><td>3</td><td>0.9235696</td><td>0.8492537</td><td>0.5888468</td><td>0.6431095</td></tr>\n",
       "\t<tr><td>4</td><td>0.9250646</td><td>0.8567164</td><td>0.5803884</td><td>0.6417910</td></tr>\n",
       "\t<tr><td>5</td><td>0.8956568</td><td>0.8071749</td><td>0.5037001</td><td>0.5714286</td></tr>\n",
       "</tbody>\n",
       "</table>\n"
      ],
      "text/latex": [
       "A data.frame: 5 × 5\n",
       "\\begin{tabular}{lllll}\n",
       " iter & auc & acc & mcc & f1\\\\\n",
       " <int> & <dbl> & <dbl> & <dbl> & <dbl>\\\\\n",
       "\\hline\n",
       "\t 1 & 0.9242321 & 0.8283582 & 0.5555707 & 0.6127946\\\\\n",
       "\t 2 & 0.9290885 & 0.8445441 & 0.5703854 & 0.6285714\\\\\n",
       "\t 3 & 0.9235696 & 0.8492537 & 0.5888468 & 0.6431095\\\\\n",
       "\t 4 & 0.9250646 & 0.8567164 & 0.5803884 & 0.6417910\\\\\n",
       "\t 5 & 0.8956568 & 0.8071749 & 0.5037001 & 0.5714286\\\\\n",
       "\\end{tabular}\n"
      ],
      "text/markdown": [
       "\n",
       "A data.frame: 5 × 5\n",
       "\n",
       "| iter &lt;int&gt; | auc &lt;dbl&gt; | acc &lt;dbl&gt; | mcc &lt;dbl&gt; | f1 &lt;dbl&gt; |\n",
       "|---|---|---|---|---|\n",
       "| 1 | 0.9242321 | 0.8283582 | 0.5555707 | 0.6127946 |\n",
       "| 2 | 0.9290885 | 0.8445441 | 0.5703854 | 0.6285714 |\n",
       "| 3 | 0.9235696 | 0.8492537 | 0.5888468 | 0.6431095 |\n",
       "| 4 | 0.9250646 | 0.8567164 | 0.5803884 | 0.6417910 |\n",
       "| 5 | 0.8956568 | 0.8071749 | 0.5037001 | 0.5714286 |\n",
       "\n"
      ],
      "text/plain": [
       "  iter auc       acc       mcc       f1       \n",
       "1 1    0.9242321 0.8283582 0.5555707 0.6127946\n",
       "2 2    0.9290885 0.8445441 0.5703854 0.6285714\n",
       "3 3    0.9235696 0.8492537 0.5888468 0.6431095\n",
       "4 4    0.9250646 0.8567164 0.5803884 0.6417910\n",
       "5 5    0.8956568 0.8071749 0.5037001 0.5714286"
      ]
     },
     "metadata": {},
     "output_type": "display_data"
    }
   ],
   "source": [
    "df.dims(30)\n",
    "perf_res[['westernized_RF']] = res$measures.test\n",
    "res$measures.test\n",
    "df.dims()"
   ]
  },
  {
   "cell_type": "code",
   "execution_count": 33,
   "metadata": {
    "ExecuteTime": {
     "end_time": "2021-04-18T05:19:35.743047Z",
     "start_time": "2021-04-18T05:19:05.876Z"
    }
   },
   "outputs": [
    {
     "name": "stdout",
     "output_type": "stream",
     "text": [
      "--AUC--\n",
      "   Min. 1st Qu.  Median    Mean 3rd Qu.    Max. \n",
      " 0.8957  0.9236  0.9242  0.9195  0.9251  0.9291 \n",
      "--F1--\n",
      "   Min. 1st Qu.  Median    Mean 3rd Qu.    Max. \n",
      " 0.5714  0.6128  0.6286  0.6195  0.6418  0.6431 \n",
      "--plot--\n"
     ]
    },
    {
     "data": {
      "image/png": "[encoded data removed]",
      "text/plain": [
       "plot without title"
      ]
     },
     "metadata": {
      "image/png": {
       "height": 250,
       "width": 400
      }
     },
     "output_type": "display_data"
    }
   ],
   "source": [
    "# performance\n",
    "cls_perf(res)"
   ]
  },
  {
   "cell_type": "code",
   "execution_count": 34,
   "metadata": {
    "ExecuteTime": {
     "end_time": "2021-04-18T05:19:54.556599Z",
     "start_time": "2021-04-18T05:19:05.879Z"
    }
   },
   "outputs": [
    {
     "data": {
      "image/png": "[encoded data removed]",
      "text/plain": [
       "plot without title"
      ]
     },
     "metadata": {
      "image/png": {
       "height": 500,
       "width": 400
      }
     },
     "output_type": "display_data"
    }
   ],
   "source": [
    "# plotting the most important features\n",
    "feat_imp = get_feat_imp(res)\n",
    "p = plot_feat_imp(feat_imp, y_offset=-0.005)\n",
    "p.dims(4,5)\n",
    "plot(p)"
   ]
  },
  {
   "cell_type": "markdown",
   "metadata": {},
   "source": [
    "## xgboost"
   ]
  },
  {
   "cell_type": "code",
   "execution_count": null,
   "metadata": {
    "ExecuteTime": {
     "end_time": "2021-04-17T12:52:22.456067Z",
     "start_time": "2021-04-17T12:51:20.088Z"
    }
   },
   "outputs": [],
   "source": [
    "## feature selection (wrapping the xgboost learner)\n",
    "lrn = makeLearner('classif.xgboost', predict.type = 'prob', nrounds = 300)\n",
    "lrn"
   ]
  },
  {
   "cell_type": "code",
   "execution_count": null,
   "metadata": {
    "ExecuteTime": {
     "end_time": "2021-04-17T12:52:22.491564Z",
     "start_time": "2021-04-17T12:51:20.091Z"
    }
   },
   "outputs": [],
   "source": [
    "# sampling\n",
    "lrn = makeUndersampleWrapper(lrn, usw.rate = rate)\n",
    "lrn"
   ]
  },
  {
   "cell_type": "code",
   "execution_count": null,
   "metadata": {
    "ExecuteTime": {
     "end_time": "2021-04-17T12:55:24.788842Z",
     "start_time": "2021-04-17T12:51:20.100Z"
    }
   },
   "outputs": [],
   "source": [
    "## evaluation \n",
    "#parallelStartMulticore(cpus=threads, level = 'mlr.resample')\n",
    "rs = makeResampleDesc('CV', iters = cv_iters, stratify = TRUE)\n",
    "res = resample(lrn, tsk, \n",
    "               resampling = rs,  \n",
    "               models = TRUE,\n",
    "               measures = measures)\n",
    "#parallelStop()"
   ]
  },
  {
   "cell_type": "markdown",
   "metadata": {},
   "source": [
    "### Performance"
   ]
  },
  {
   "cell_type": "code",
   "execution_count": null,
   "metadata": {
    "ExecuteTime": {
     "end_time": "2021-04-17T12:55:25.095773Z",
     "start_time": "2021-04-17T12:51:20.105Z"
    }
   },
   "outputs": [],
   "source": [
    "df.dims(30)\n",
    "res$measures.test\n",
    "df.dims()"
   ]
  },
  {
   "cell_type": "code",
   "execution_count": null,
   "metadata": {
    "ExecuteTime": {
     "end_time": "2021-04-17T12:55:25.505087Z",
     "start_time": "2021-04-17T12:51:20.109Z"
    }
   },
   "outputs": [],
   "source": [
    "# performance\n",
    "cls_perf(res)"
   ]
  },
  {
   "cell_type": "code",
   "execution_count": null,
   "metadata": {
    "ExecuteTime": {
     "end_time": "2021-04-17T12:55:29.026409Z",
     "start_time": "2021-04-17T12:51:20.113Z"
    }
   },
   "outputs": [],
   "source": [
    "# plotting the most important features\n",
    "feat_imp = get_feat_imp(res)\n",
    "p = plot_feat_imp(feat_imp)\n",
    "p.dims(5,5)\n",
    "plot(p)"
   ]
  },
  {
   "cell_type": "markdown",
   "metadata": {},
   "source": [
    "# Gender"
   ]
  },
  {
   "cell_type": "code",
   "execution_count": 35,
   "metadata": {
    "ExecuteTime": {
     "end_time": "2021-04-18T05:19:54.567414Z",
     "start_time": "2021-04-18T05:19:08.952Z"
    }
   },
   "outputs": [],
   "source": [
    "target = 'gender'\n",
    "measures = list(auc, acc, mcc, f1)\n",
    "cv_iters = 5"
   ]
  },
  {
   "cell_type": "code",
   "execution_count": 36,
   "metadata": {
    "ExecuteTime": {
     "end_time": "2021-04-18T05:19:54.626338Z",
     "start_time": "2021-04-18T05:19:09.100Z"
    }
   },
   "outputs": [
    {
     "data": {
      "text/html": [
       "<table class=\"dataframe\">\n",
       "<caption>A data.frame: 2154 × 33</caption>\n",
       "<thead>\n",
       "\t<tr><th></th><th scope=col>gender</th><th scope=col>nobs</th><th scope=col>shannon</th><th scope=col>simpson</th><th scope=col>pielou</th><th scope=col>PD_phy</th><th scope=col>PD_trt</th><th scope=col>PD_cog</th><th scope=col>PD_cogcat</th><th scope=col>PD_pfam</th><th scope=col>⋯</th><th scope=col>FRic_trt</th><th scope=col>FEve_trt</th><th scope=col>FDiv_trt</th><th scope=col>FDis_trt</th><th scope=col>RaoQ_trt</th><th scope=col>FRic_cogcat</th><th scope=col>FEve_cogcat</th><th scope=col>FDiv_cogcat</th><th scope=col>FDis_cogcat</th><th scope=col>RaoQ_cogcat</th></tr>\n",
       "\t<tr><th></th><th scope=col>&lt;chr&gt;</th><th scope=col>&lt;int&gt;</th><th scope=col>&lt;dbl&gt;</th><th scope=col>&lt;dbl&gt;</th><th scope=col>&lt;dbl&gt;</th><th scope=col>&lt;dbl&gt;</th><th scope=col>&lt;dbl&gt;</th><th scope=col>&lt;dbl&gt;</th><th scope=col>&lt;dbl&gt;</th><th scope=col>&lt;dbl&gt;</th><th scope=col>⋯</th><th scope=col>&lt;dbl&gt;</th><th scope=col>&lt;dbl&gt;</th><th scope=col>&lt;dbl&gt;</th><th scope=col>&lt;dbl&gt;</th><th scope=col>&lt;dbl&gt;</th><th scope=col>&lt;dbl&gt;</th><th scope=col>&lt;dbl&gt;</th><th scope=col>&lt;dbl&gt;</th><th scope=col>&lt;dbl&gt;</th><th scope=col>&lt;dbl&gt;</th></tr>\n",
       "</thead>\n",
       "<tbody>\n",
       "\t<tr><th scope=row>A11_01_1FE</th><td>male</td><td>233</td><td>3.576704</td><td>0.9286988</td><td>0.4375333</td><td>44.75908</td><td>38.87524</td><td>61.68524</td><td>21.51138</td><td>32.49538</td><td>⋯</td><td>272.5037</td><td>0.5995822</td><td>0.6097010</td><td>5.963011</td><td>37.65130</td><td>0.01847653</td><td>0.6511332</td><td>0.8165665</td><td>0.08583902</td><td>0.009809411</td></tr>\n",
       "\t<tr><th scope=row>A13_01_1FE</th><td>male</td><td>250</td><td>4.438556</td><td>0.9763921</td><td>0.5429624</td><td>53.53982</td><td>43.40921</td><td>71.48026</td><td>26.68735</td><td>35.47987</td><td>⋯</td><td>354.5411</td><td>0.5958887</td><td>0.7600546</td><td>6.575077</td><td>45.32233</td><td>0.01821144</td><td>0.6610448</td><td>0.7751473</td><td>0.08931799</td><td>0.010776495</td></tr>\n",
       "\t<tr><th scope=row>⋮</th><td>⋮</td><td>⋮</td><td>⋮</td><td>⋮</td><td>⋮</td><td>⋮</td><td>⋮</td><td>⋮</td><td>⋮</td><td>⋮</td><td>⋱</td><td>⋮</td><td>⋮</td><td>⋮</td><td>⋮</td><td>⋮</td><td>⋮</td><td>⋮</td><td>⋮</td><td>⋮</td><td>⋮</td></tr>\n",
       "\t<tr><th scope=row>YSZC12003_37879</th><td>female</td><td>196</td><td>3.230018</td><td>0.8847015</td><td>0.3951236</td><td>36.05868</td><td>34.46728</td><td>56.48618</td><td>20.88889</td><td>28.32212</td><td>⋯</td><td>233.5041</td><td>0.5772738</td><td>0.9113279</td><td>7.897687</td><td>63.98199</td><td>0.01638536</td><td>0.6212356</td><td>0.9104304</td><td>0.1774742</td><td>0.03343108</td></tr>\n",
       "\t<tr><th scope=row>YSZC12003_37880</th><td>female</td><td>267</td><td>3.703088</td><td>0.9290237</td><td>0.4529936</td><td>45.58852</td><td>45.64780</td><td>77.83160</td><td>27.07221</td><td>38.17068</td><td>⋯</td><td>409.0144</td><td>0.5858364</td><td>0.8649856</td><td>7.715054</td><td>62.10955</td><td>0.01838535</td><td>0.6081258</td><td>0.7577590</td><td>0.1400746</td><td>0.02553194</td></tr>\n",
       "</tbody>\n",
       "</table>\n"
      ],
      "text/latex": [
       "A data.frame: 2154 × 33\n",
       "\\begin{tabular}{r|lllllllllllllllllllll}\n",
       "  & gender & nobs & shannon & simpson & pielou & PD\\_phy & PD\\_trt & PD\\_cog & PD\\_cogcat & PD\\_pfam & ⋯ & FRic\\_trt & FEve\\_trt & FDiv\\_trt & FDis\\_trt & RaoQ\\_trt & FRic\\_cogcat & FEve\\_cogcat & FDiv\\_cogcat & FDis\\_cogcat & RaoQ\\_cogcat\\\\\n",
       "  & <chr> & <int> & <dbl> & <dbl> & <dbl> & <dbl> & <dbl> & <dbl> & <dbl> & <dbl> & ⋯ & <dbl> & <dbl> & <dbl> & <dbl> & <dbl> & <dbl> & <dbl> & <dbl> & <dbl> & <dbl>\\\\\n",
       "\\hline\n",
       "\tA11\\_01\\_1FE & male & 233 & 3.576704 & 0.9286988 & 0.4375333 & 44.75908 & 38.87524 & 61.68524 & 21.51138 & 32.49538 & ⋯ & 272.5037 & 0.5995822 & 0.6097010 & 5.963011 & 37.65130 & 0.01847653 & 0.6511332 & 0.8165665 & 0.08583902 & 0.009809411\\\\\n",
       "\tA13\\_01\\_1FE & male & 250 & 4.438556 & 0.9763921 & 0.5429624 & 53.53982 & 43.40921 & 71.48026 & 26.68735 & 35.47987 & ⋯ & 354.5411 & 0.5958887 & 0.7600546 & 6.575077 & 45.32233 & 0.01821144 & 0.6610448 & 0.7751473 & 0.08931799 & 0.010776495\\\\\n",
       "\t⋮ & ⋮ & ⋮ & ⋮ & ⋮ & ⋮ & ⋮ & ⋮ & ⋮ & ⋮ & ⋮ & ⋱ & ⋮ & ⋮ & ⋮ & ⋮ & ⋮ & ⋮ & ⋮ & ⋮ & ⋮ & ⋮\\\\\n",
       "\tYSZC12003\\_37879 & female & 196 & 3.230018 & 0.8847015 & 0.3951236 & 36.05868 & 34.46728 & 56.48618 & 20.88889 & 28.32212 & ⋯ & 233.5041 & 0.5772738 & 0.9113279 & 7.897687 & 63.98199 & 0.01638536 & 0.6212356 & 0.9104304 & 0.1774742 & 0.03343108\\\\\n",
       "\tYSZC12003\\_37880 & female & 267 & 3.703088 & 0.9290237 & 0.4529936 & 45.58852 & 45.64780 & 77.83160 & 27.07221 & 38.17068 & ⋯ & 409.0144 & 0.5858364 & 0.8649856 & 7.715054 & 62.10955 & 0.01838535 & 0.6081258 & 0.7577590 & 0.1400746 & 0.02553194\\\\\n",
       "\\end{tabular}\n"
      ],
      "text/markdown": [
       "\n",
       "A data.frame: 2154 × 33\n",
       "\n",
       "| <!--/--> | gender &lt;chr&gt; | nobs &lt;int&gt; | shannon &lt;dbl&gt; | simpson &lt;dbl&gt; | pielou &lt;dbl&gt; | PD_phy &lt;dbl&gt; | PD_trt &lt;dbl&gt; | PD_cog &lt;dbl&gt; | PD_cogcat &lt;dbl&gt; | PD_pfam &lt;dbl&gt; | ⋯ ⋯ | FRic_trt &lt;dbl&gt; | FEve_trt &lt;dbl&gt; | FDiv_trt &lt;dbl&gt; | FDis_trt &lt;dbl&gt; | RaoQ_trt &lt;dbl&gt; | FRic_cogcat &lt;dbl&gt; | FEve_cogcat &lt;dbl&gt; | FDiv_cogcat &lt;dbl&gt; | FDis_cogcat &lt;dbl&gt; | RaoQ_cogcat &lt;dbl&gt; |\n",
       "|---|---|---|---|---|---|---|---|---|---|---|---|---|---|---|---|---|---|---|---|---|---|\n",
       "| A11_01_1FE | male | 233 | 3.576704 | 0.9286988 | 0.4375333 | 44.75908 | 38.87524 | 61.68524 | 21.51138 | 32.49538 | ⋯ | 272.5037 | 0.5995822 | 0.6097010 | 5.963011 | 37.65130 | 0.01847653 | 0.6511332 | 0.8165665 | 0.08583902 | 0.009809411 |\n",
       "| A13_01_1FE | male | 250 | 4.438556 | 0.9763921 | 0.5429624 | 53.53982 | 43.40921 | 71.48026 | 26.68735 | 35.47987 | ⋯ | 354.5411 | 0.5958887 | 0.7600546 | 6.575077 | 45.32233 | 0.01821144 | 0.6610448 | 0.7751473 | 0.08931799 | 0.010776495 |\n",
       "| ⋮ | ⋮ | ⋮ | ⋮ | ⋮ | ⋮ | ⋮ | ⋮ | ⋮ | ⋮ | ⋮ | ⋱ | ⋮ | ⋮ | ⋮ | ⋮ | ⋮ | ⋮ | ⋮ | ⋮ | ⋮ | ⋮ |\n",
       "| YSZC12003_37879 | female | 196 | 3.230018 | 0.8847015 | 0.3951236 | 36.05868 | 34.46728 | 56.48618 | 20.88889 | 28.32212 | ⋯ | 233.5041 | 0.5772738 | 0.9113279 | 7.897687 | 63.98199 | 0.01638536 | 0.6212356 | 0.9104304 | 0.1774742 | 0.03343108 |\n",
       "| YSZC12003_37880 | female | 267 | 3.703088 | 0.9290237 | 0.4529936 | 45.58852 | 45.64780 | 77.83160 | 27.07221 | 38.17068 | ⋯ | 409.0144 | 0.5858364 | 0.8649856 | 7.715054 | 62.10955 | 0.01838535 | 0.6081258 | 0.7577590 | 0.1400746 | 0.02553194 |\n",
       "\n"
      ],
      "text/plain": [
       "                gender nobs shannon  simpson   pielou    PD_phy   PD_trt  \n",
       "A11_01_1FE      male   233  3.576704 0.9286988 0.4375333 44.75908 38.87524\n",
       "A13_01_1FE      male   250  4.438556 0.9763921 0.5429624 53.53982 43.40921\n",
       "⋮               ⋮      ⋮    ⋮        ⋮         ⋮         ⋮        ⋮       \n",
       "YSZC12003_37879 female 196  3.230018 0.8847015 0.3951236 36.05868 34.46728\n",
       "YSZC12003_37880 female 267  3.703088 0.9290237 0.4529936 45.58852 45.64780\n",
       "                PD_cog   PD_cogcat PD_pfam  ⋯ FRic_trt FEve_trt  FDiv_trt \n",
       "A11_01_1FE      61.68524 21.51138  32.49538 ⋯ 272.5037 0.5995822 0.6097010\n",
       "A13_01_1FE      71.48026 26.68735  35.47987 ⋯ 354.5411 0.5958887 0.7600546\n",
       "⋮               ⋮        ⋮         ⋮        ⋱ ⋮        ⋮         ⋮        \n",
       "YSZC12003_37879 56.48618 20.88889  28.32212 ⋯ 233.5041 0.5772738 0.9113279\n",
       "YSZC12003_37880 77.83160 27.07221  38.17068 ⋯ 409.0144 0.5858364 0.8649856\n",
       "                FDis_trt RaoQ_trt FRic_cogcat FEve_cogcat FDiv_cogcat\n",
       "A11_01_1FE      5.963011 37.65130 0.01847653  0.6511332   0.8165665  \n",
       "A13_01_1FE      6.575077 45.32233 0.01821144  0.6610448   0.7751473  \n",
       "⋮               ⋮        ⋮        ⋮           ⋮           ⋮          \n",
       "YSZC12003_37879 7.897687 63.98199 0.01638536  0.6212356   0.9104304  \n",
       "YSZC12003_37880 7.715054 62.10955 0.01838535  0.6081258   0.7577590  \n",
       "                FDis_cogcat RaoQ_cogcat\n",
       "A11_01_1FE      0.08583902  0.009809411\n",
       "A13_01_1FE      0.08931799  0.010776495\n",
       "⋮               ⋮           ⋮          \n",
       "YSZC12003_37879 0.1774742   0.03343108 \n",
       "YSZC12003_37880 0.1400746   0.02553194 "
      ]
     },
     "metadata": {},
     "output_type": "display_data"
    }
   ],
   "source": [
    "# formatting\n",
    "feats_f = feats %>%\n",
    "    select.(-age, -BMI, -westernized, -disease) %>%\n",
    "    filter.(!is.na(gender)) %>%\n",
    "    as.data.frame\n",
    "rownames(feats_f) = feats_f$Sample\n",
    "feats_f$Sample = NULL\n",
    "feats_f"
   ]
  },
  {
   "cell_type": "code",
   "execution_count": 37,
   "metadata": {
    "ExecuteTime": {
     "end_time": "2021-04-18T05:19:54.673867Z",
     "start_time": "2021-04-18T05:19:09.265Z"
    }
   },
   "outputs": [
    {
     "data": {
      "text/plain": [
       ".\n",
       "female   male \n",
       "  1290    864 "
      ]
     },
     "metadata": {},
     "output_type": "display_data"
    },
    {
     "data": {
      "text/plain": [
       "    gender               nobs          shannon         simpson      \n",
       " Length:2154        Min.   : 47.0   Min.   :1.365   Min.   :0.4596  \n",
       " Class :character   1st Qu.:240.0   1st Qu.:3.708   1st Qu.:0.9337  \n",
       " Mode  :character   Median :282.0   Median :4.161   Median :0.9618  \n",
       "                    Mean   :276.4   Mean   :4.030   Mean   :0.9436  \n",
       "                    3rd Qu.:317.0   3rd Qu.:4.462   3rd Qu.:0.9752  \n",
       "                    Max.   :484.0   Max.   :5.218   Max.   :0.9905  \n",
       "     pielou           PD_phy          PD_trt          PD_cog      \n",
       " Min.   :0.1670   Min.   :15.57   Min.   :10.57   Min.   : 18.33  \n",
       " 1st Qu.:0.4535   1st Qu.:44.93   1st Qu.:40.95   1st Qu.: 72.62  \n",
       " Median :0.5090   Median :54.12   Median :48.88   Median : 87.79  \n",
       " Mean   :0.4930   Mean   :53.96   Mean   :47.92   Mean   : 87.00  \n",
       " 3rd Qu.:0.5458   3rd Qu.:63.10   3rd Qu.:55.85   3rd Qu.:102.43  \n",
       " Max.   :0.6384   Max.   :98.11   Max.   :86.07   Max.   :160.00  \n",
       "   PD_cogcat         PD_pfam         PD_pfamcat        MPD_phy       \n",
       " Min.   : 7.208   Min.   : 8.943   Min.   : 6.009   Min.   :-73.826  \n",
       " 1st Qu.:25.949   1st Qu.:34.782   1st Qu.:21.176   1st Qu.:-22.650  \n",
       " Median :33.240   Median :41.346   Median :25.194   Median :-20.227  \n",
       " Mean   :33.286   Mean   :40.771   Mean   :24.857   Mean   :-20.322  \n",
       " 3rd Qu.:40.458   3rd Qu.:47.208   3rd Qu.:28.765   3rd Qu.:-17.673  \n",
       " Max.   :61.773   Max.   :73.396   Max.   :43.896   Max.   : -1.502  \n",
       "    MPD_cog          MPD_cogcat        MPD_pfam        MPD_pfamcat      \n",
       " Min.   :-13.465   Min.   :-3.306   Min.   :-40.916   Min.   :-33.3136  \n",
       " 1st Qu.: -6.569   1st Qu.:-2.034   1st Qu.:-25.010   1st Qu.:-12.8638  \n",
       " Median : -4.078   Median :-1.807   Median :-20.970   Median :-11.0084  \n",
       " Mean   : -3.881   Mean   :-1.716   Mean   :-21.269   Mean   :-10.9900  \n",
       " 3rd Qu.: -1.544   3rd Qu.:-1.447   3rd Qu.:-17.490   3rd Qu.: -8.9665  \n",
       " Max.   :  7.553   Max.   : 1.018   Max.   : -1.826   Max.   :  0.6018  \n",
       "    MPD_trt           MNTD_phy          MNTD_cog         MNTD_cogcat     \n",
       " Min.   :-56.436   Min.   :-23.205   Min.   :-16.6610   Min.   :-9.1829  \n",
       " 1st Qu.:-22.122   1st Qu.: -9.403   1st Qu.:-12.6660   1st Qu.:-5.9832  \n",
       " Median :-19.749   Median : -7.786   Median :-11.4367   Median :-5.2688  \n",
       " Mean   :-19.555   Mean   : -8.057   Mean   :-11.1495   Mean   :-5.2266  \n",
       " 3rd Qu.:-16.907   3rd Qu.: -6.420   3rd Qu.:-10.0086   3rd Qu.:-4.5599  \n",
       " Max.   : -2.348   Max.   :  1.384   Max.   : -0.9622   Max.   : 0.3073  \n",
       "   MNTD_pfam        MNTD_pfamcat        MNTD_trt           FRic_trt     \n",
       " Min.   :-19.531   Min.   :-20.179   Min.   :-18.3151   Min.   : 41.91  \n",
       " 1st Qu.:-16.587   1st Qu.:-17.308   1st Qu.:-12.9538   1st Qu.:137.83  \n",
       " Median :-15.769   Median :-16.415   Median :-12.2974   Median :224.35  \n",
       " Mean   :-15.508   Mean   :-16.187   Mean   :-12.2137   Mean   :233.03  \n",
       " 3rd Qu.:-14.764   3rd Qu.:-15.389   3rd Qu.:-11.5100   3rd Qu.:303.97  \n",
       " Max.   : -1.152   Max.   : -2.415   Max.   : -0.7506   Max.   :597.69  \n",
       "    FEve_trt         FDiv_trt         FDis_trt        RaoQ_trt    \n",
       " Min.   :0.4496   Min.   :0.4114   Min.   :2.932   Min.   :13.35  \n",
       " 1st Qu.:0.5588   1st Qu.:0.6870   1st Qu.:5.725   1st Qu.:34.48  \n",
       " Median :0.5785   Median :0.7467   Median :5.955   Median :37.00  \n",
       " Mean   :0.5793   Mean   :0.7419   Mean   :5.987   Mean   :38.39  \n",
       " 3rd Qu.:0.5985   3rd Qu.:0.8003   3rd Qu.:6.203   3rd Qu.:40.30  \n",
       " Max.   :0.8046   Max.   :0.9792   Max.   :8.926   Max.   :81.33  \n",
       "  FRic_cogcat        FEve_cogcat      FDiv_cogcat      FDis_cogcat     \n",
       " Min.   :0.003566   Min.   :0.4841   Min.   :0.3592   Min.   :0.03281  \n",
       " 1st Qu.:0.013266   1st Qu.:0.5826   1st Qu.:0.6798   1st Qu.:0.06988  \n",
       " Median :0.017064   Median :0.6051   Median :0.7191   Median :0.07569  \n",
       " Mean   :0.015697   Mean   :0.6051   Mean   :0.7190   Mean   :0.07943  \n",
       " 3rd Qu.:0.018258   3rd Qu.:0.6268   3rd Qu.:0.7592   3rd Qu.:0.08256  \n",
       " Max.   :0.025667   Max.   :0.8248   Max.   :0.9876   Max.   :0.20228  \n",
       "  RaoQ_cogcat      \n",
       " Min.   :0.001775  \n",
       " 1st Qu.:0.005856  \n",
       " Median :0.006899  \n",
       " Mean   :0.008355  \n",
       " 3rd Qu.:0.008351  \n",
       " Max.   :0.041588  "
      ]
     },
     "metadata": {},
     "output_type": "display_data"
    }
   ],
   "source": [
    "# summary\n",
    "## target\n",
    "feats_f[,target] %>% table\n",
    "## all features\n",
    "feats_f %>% summary"
   ]
  },
  {
   "cell_type": "markdown",
   "metadata": {},
   "source": [
    "## RF"
   ]
  },
  {
   "cell_type": "code",
   "execution_count": 38,
   "metadata": {
    "ExecuteTime": {
     "end_time": "2021-04-18T05:19:54.697927Z",
     "start_time": "2021-04-18T05:19:09.841Z"
    }
   },
   "outputs": [
    {
     "data": {
      "text/plain": [
       "Supervised task: feats_f\n",
       "Type: classif\n",
       "Target: gender\n",
       "Observations: 2154\n",
       "Features:\n",
       "   numerics     factors     ordered functionals \n",
       "         32           0           0           0 \n",
       "Missings: FALSE\n",
       "Has weights: FALSE\n",
       "Has blocking: FALSE\n",
       "Has coordinates: FALSE\n",
       "Classes: 2\n",
       "female   male \n",
       "  1290    864 \n",
       "Positive class: female"
      ]
     },
     "metadata": {},
     "output_type": "display_data"
    }
   ],
   "source": [
    "# creating mlr task\n",
    "tsk = makeClassifTask(data = feats_f, target = target)\n",
    "tsk"
   ]
  },
  {
   "cell_type": "code",
   "execution_count": 39,
   "metadata": {
    "ExecuteTime": {
     "end_time": "2021-04-18T05:19:54.721715Z",
     "start_time": "2021-04-18T05:19:10.217Z"
    }
   },
   "outputs": [
    {
     "data": {
      "text/plain": [
       "Supervised task: feats_f\n",
       "Type: classif\n",
       "Target: gender\n",
       "Observations: 1724\n",
       "Features:\n",
       "   numerics     factors     ordered functionals \n",
       "         32           0           0           0 \n",
       "Missings: FALSE\n",
       "Has weights: FALSE\n",
       "Has blocking: FALSE\n",
       "Has coordinates: FALSE\n",
       "Classes: 2\n",
       "female   male \n",
       "   860    864 \n",
       "Positive class: female"
      ]
     },
     "metadata": {},
     "output_type": "display_data"
    }
   ],
   "source": [
    "# what sampling rate to use?\n",
    "rate = 1/1.5\n",
    "undersample(tsk, rate = rate)"
   ]
  },
  {
   "cell_type": "code",
   "execution_count": 40,
   "metadata": {
    "ExecuteTime": {
     "end_time": "2021-04-18T05:19:54.869210Z",
     "start_time": "2021-04-18T05:19:10.750Z"
    }
   },
   "outputs": [
    {
     "data": {
      "text/plain": [
       "Learner classif.cforest from package party\n",
       "Type: classif\n",
       "Name: Random forest based on conditional inference trees; Short name: cforest\n",
       "Class: classif.cforest\n",
       "Properties: twoclass,multiclass,prob,factors,numerics,ordered,weights,missings,featimp\n",
       "Predict-Type: prob\n",
       "Hyperparameters: ntree=500\n"
      ]
     },
     "metadata": {},
     "output_type": "display_data"
    }
   ],
   "source": [
    "## feature selection (wrapping the RF learner)\n",
    "lrn = makeLearner('classif.cforest', predict.type = 'prob', ntree = 500)\n",
    "lrn"
   ]
  },
  {
   "cell_type": "code",
   "execution_count": 41,
   "metadata": {
    "ExecuteTime": {
     "end_time": "2021-04-18T05:19:54.893841Z",
     "start_time": "2021-04-18T05:19:11.278Z"
    }
   },
   "outputs": [
    {
     "data": {
      "text/plain": [
       "Learner classif.cforest.undersampled from package mlr,party\n",
       "Type: classif\n",
       "Name: ; Short name: \n",
       "Class: UndersampleWrapper\n",
       "Properties: numerics,factors,ordered,missings,weights,prob,twoclass,multiclass,featimp\n",
       "Predict-Type: prob\n",
       "Hyperparameters: ntree=500,usw.rate=0.667\n"
      ]
     },
     "metadata": {},
     "output_type": "display_data"
    }
   ],
   "source": [
    "# sampling\n",
    "lrn = makeUndersampleWrapper(lrn, usw.rate = rate)\n",
    "lrn"
   ]
  },
  {
   "cell_type": "code",
   "execution_count": 42,
   "metadata": {
    "ExecuteTime": {
     "end_time": "2021-04-18T05:20:17.404853Z",
     "start_time": "2021-04-18T05:19:12.118Z"
    }
   },
   "outputs": [
    {
     "name": "stderr",
     "output_type": "stream",
     "text": [
      "Starting parallelization in mode=multicore with cpus=8.\n",
      "\n",
      "Resampling: cross-validation\n",
      "\n",
      "Measures:             auc       acc       mcc       f1        \n",
      "\n",
      "Mapping in parallel: mode = multicore; level = mlr.resample; cpus = 8; elements = 5.\n",
      "\n",
      "\n",
      "\n",
      "\n",
      "Aggregated Result: auc.test.mean=0.6783399,acc.test.mean=0.6258156,mcc.test.mean=0.2475104,f1.test.mean=0.6665976\n",
      "\n",
      "\n",
      "\n",
      "\n",
      "Stopped parallelization. All cleaned up.\n",
      "\n"
     ]
    }
   ],
   "source": [
    "## evaluation \n",
    "parallelStartMulticore(cpus=threads, level = 'mlr.resample')\n",
    "rs = makeResampleDesc('CV', iters = cv_iters, stratify = TRUE)\n",
    "res = resample(lrn, tsk, \n",
    "               resampling = rs,  \n",
    "               models = TRUE,\n",
    "               measures = measures)\n",
    "parallelStop()"
   ]
  },
  {
   "cell_type": "markdown",
   "metadata": {},
   "source": [
    "### Performance"
   ]
  },
  {
   "cell_type": "code",
   "execution_count": 43,
   "metadata": {
    "ExecuteTime": {
     "end_time": "2021-04-18T05:20:17.437567Z",
     "start_time": "2021-04-18T05:19:12.799Z"
    }
   },
   "outputs": [
    {
     "data": {
      "text/html": [
       "<table class=\"dataframe\">\n",
       "<caption>A data.frame: 5 × 5</caption>\n",
       "<thead>\n",
       "\t<tr><th scope=col>iter</th><th scope=col>auc</th><th scope=col>acc</th><th scope=col>mcc</th><th scope=col>f1</th></tr>\n",
       "\t<tr><th scope=col>&lt;int&gt;</th><th scope=col>&lt;dbl&gt;</th><th scope=col>&lt;dbl&gt;</th><th scope=col>&lt;dbl&gt;</th><th scope=col>&lt;dbl&gt;</th></tr>\n",
       "</thead>\n",
       "<tbody>\n",
       "\t<tr><td>1</td><td>0.6719317</td><td>0.6148492</td><td>0.2195419</td><td>0.6612245</td></tr>\n",
       "\t<tr><td>2</td><td>0.6586683</td><td>0.6171694</td><td>0.2357972</td><td>0.6540881</td></tr>\n",
       "\t<tr><td>3</td><td>0.7036340</td><td>0.6287703</td><td>0.2603838</td><td>0.6638655</td></tr>\n",
       "\t<tr><td>4</td><td>0.6864946</td><td>0.6357309</td><td>0.2682927</td><td>0.6749482</td></tr>\n",
       "\t<tr><td>5</td><td>0.6709708</td><td>0.6325581</td><td>0.2535362</td><td>0.6788618</td></tr>\n",
       "</tbody>\n",
       "</table>\n"
      ],
      "text/latex": [
       "A data.frame: 5 × 5\n",
       "\\begin{tabular}{lllll}\n",
       " iter & auc & acc & mcc & f1\\\\\n",
       " <int> & <dbl> & <dbl> & <dbl> & <dbl>\\\\\n",
       "\\hline\n",
       "\t 1 & 0.6719317 & 0.6148492 & 0.2195419 & 0.6612245\\\\\n",
       "\t 2 & 0.6586683 & 0.6171694 & 0.2357972 & 0.6540881\\\\\n",
       "\t 3 & 0.7036340 & 0.6287703 & 0.2603838 & 0.6638655\\\\\n",
       "\t 4 & 0.6864946 & 0.6357309 & 0.2682927 & 0.6749482\\\\\n",
       "\t 5 & 0.6709708 & 0.6325581 & 0.2535362 & 0.6788618\\\\\n",
       "\\end{tabular}\n"
      ],
      "text/markdown": [
       "\n",
       "A data.frame: 5 × 5\n",
       "\n",
       "| iter &lt;int&gt; | auc &lt;dbl&gt; | acc &lt;dbl&gt; | mcc &lt;dbl&gt; | f1 &lt;dbl&gt; |\n",
       "|---|---|---|---|---|\n",
       "| 1 | 0.6719317 | 0.6148492 | 0.2195419 | 0.6612245 |\n",
       "| 2 | 0.6586683 | 0.6171694 | 0.2357972 | 0.6540881 |\n",
       "| 3 | 0.7036340 | 0.6287703 | 0.2603838 | 0.6638655 |\n",
       "| 4 | 0.6864946 | 0.6357309 | 0.2682927 | 0.6749482 |\n",
       "| 5 | 0.6709708 | 0.6325581 | 0.2535362 | 0.6788618 |\n",
       "\n"
      ],
      "text/plain": [
       "  iter auc       acc       mcc       f1       \n",
       "1 1    0.6719317 0.6148492 0.2195419 0.6612245\n",
       "2 2    0.6586683 0.6171694 0.2357972 0.6540881\n",
       "3 3    0.7036340 0.6287703 0.2603838 0.6638655\n",
       "4 4    0.6864946 0.6357309 0.2682927 0.6749482\n",
       "5 5    0.6709708 0.6325581 0.2535362 0.6788618"
      ]
     },
     "metadata": {},
     "output_type": "display_data"
    }
   ],
   "source": [
    "df.dims(30)\n",
    "perf_res[['gender_RF']] = res$measures.test\n",
    "res$measures.test\n",
    "df.dims()"
   ]
  },
  {
   "cell_type": "code",
   "execution_count": 44,
   "metadata": {
    "ExecuteTime": {
     "end_time": "2021-04-18T05:20:17.673737Z",
     "start_time": "2021-04-18T05:19:12.963Z"
    }
   },
   "outputs": [
    {
     "name": "stdout",
     "output_type": "stream",
     "text": [
      "--AUC--\n",
      "   Min. 1st Qu.  Median    Mean 3rd Qu.    Max. \n",
      " 0.6587  0.6710  0.6719  0.6783  0.6865  0.7036 \n",
      "--F1--\n",
      "   Min. 1st Qu.  Median    Mean 3rd Qu.    Max. \n",
      " 0.6541  0.6612  0.6639  0.6666  0.6749  0.6789 \n",
      "--plot--\n"
     ]
    },
    {
     "data": {
      "image/png": "[encoded data removed]",
      "text/plain": [
       "plot without title"
      ]
     },
     "metadata": {
      "image/png": {
       "height": 250,
       "width": 400
      }
     },
     "output_type": "display_data"
    }
   ],
   "source": [
    "# performance\n",
    "cls_perf(res)"
   ]
  },
  {
   "cell_type": "code",
   "execution_count": 45,
   "metadata": {
    "ExecuteTime": {
     "end_time": "2021-04-18T05:21:06.771575Z",
     "start_time": "2021-04-18T05:19:13.409Z"
    }
   },
   "outputs": [
    {
     "data": {
      "image/png": "[encoded data removed]",
      "text/plain": [
       "plot without title"
      ]
     },
     "metadata": {
      "image/png": {
       "height": 500,
       "width": 400
      }
     },
     "output_type": "display_data"
    }
   ],
   "source": [
    "# plotting the most important features\n",
    "feat_imp = get_feat_imp(res)\n",
    "p = plot_feat_imp(feat_imp, y_offset=-0.002)\n",
    "p.dims(4,5)\n",
    "plot(p)"
   ]
  },
  {
   "cell_type": "markdown",
   "metadata": {},
   "source": [
    "## xgboost"
   ]
  },
  {
   "cell_type": "code",
   "execution_count": null,
   "metadata": {
    "ExecuteTime": {
     "end_time": "2021-04-17T12:56:44.151278Z",
     "start_time": "2021-04-17T12:51:20.173Z"
    }
   },
   "outputs": [],
   "source": [
    "## feature selection (wrapping the xgboost learner)\n",
    "lrn = makeLearner('classif.xgboost', predict.type = 'prob', nrounds = 300)\n",
    "lrn"
   ]
  },
  {
   "cell_type": "code",
   "execution_count": null,
   "metadata": {
    "ExecuteTime": {
     "end_time": "2021-04-17T12:56:44.178659Z",
     "start_time": "2021-04-17T12:51:20.177Z"
    }
   },
   "outputs": [],
   "source": [
    "# sampling\n",
    "lrn = makeUndersampleWrapper(lrn, usw.rate = rate)\n",
    "lrn"
   ]
  },
  {
   "cell_type": "code",
   "execution_count": null,
   "metadata": {
    "ExecuteTime": {
     "end_time": "2021-04-17T13:01:51.987914Z",
     "start_time": "2021-04-17T12:51:20.184Z"
    }
   },
   "outputs": [],
   "source": [
    "## evaluation \n",
    "#parallelStartMulticore(cpus=threads, level = 'mlr.resample')\n",
    "rs = makeResampleDesc('CV', iters = cv_iters, stratify = TRUE)\n",
    "res = resample(lrn, tsk, \n",
    "               resampling = rs,  \n",
    "               models = TRUE,\n",
    "               measures = measures)\n",
    "#parallelStop()"
   ]
  },
  {
   "cell_type": "markdown",
   "metadata": {},
   "source": [
    "### Performance"
   ]
  },
  {
   "cell_type": "code",
   "execution_count": null,
   "metadata": {
    "ExecuteTime": {
     "end_time": "2021-04-17T13:01:52.035929Z",
     "start_time": "2021-04-17T12:51:20.189Z"
    }
   },
   "outputs": [],
   "source": [
    "df.dims(30)\n",
    "res$measures.test\n",
    "df.dims()"
   ]
  },
  {
   "cell_type": "code",
   "execution_count": null,
   "metadata": {
    "ExecuteTime": {
     "end_time": "2021-04-17T13:01:52.311697Z",
     "start_time": "2021-04-17T12:51:20.193Z"
    }
   },
   "outputs": [],
   "source": [
    "# performance\n",
    "cls_perf(res)"
   ]
  },
  {
   "cell_type": "code",
   "execution_count": null,
   "metadata": {
    "ExecuteTime": {
     "end_time": "2021-04-17T13:01:54.645062Z",
     "start_time": "2021-04-17T12:51:20.197Z"
    }
   },
   "outputs": [],
   "source": [
    "# plotting the most important features\n",
    "feat_imp = get_feat_imp(res)\n",
    "p = plot_feat_imp(feat_imp)\n",
    "p.dims(5,5)\n",
    "plot(p)"
   ]
  },
  {
   "cell_type": "markdown",
   "metadata": {},
   "source": [
    "# Disease"
   ]
  },
  {
   "cell_type": "code",
   "execution_count": 46,
   "metadata": {
    "ExecuteTime": {
     "end_time": "2021-04-18T05:21:06.787324Z",
     "start_time": "2021-04-18T05:19:16.848Z"
    }
   },
   "outputs": [],
   "source": [
    "target = 'disease'\n",
    "measures = list(auc, acc, mcc, f1)\n",
    "cv_iters = 5"
   ]
  },
  {
   "cell_type": "code",
   "execution_count": 47,
   "metadata": {
    "ExecuteTime": {
     "end_time": "2021-04-18T05:21:06.855150Z",
     "start_time": "2021-04-18T05:19:16.983Z"
    }
   },
   "outputs": [
    {
     "data": {
      "text/html": [
       "<table class=\"dataframe\">\n",
       "<caption>A data.frame: 2755 × 33</caption>\n",
       "<thead>\n",
       "\t<tr><th></th><th scope=col>disease</th><th scope=col>nobs</th><th scope=col>shannon</th><th scope=col>simpson</th><th scope=col>pielou</th><th scope=col>PD_phy</th><th scope=col>PD_trt</th><th scope=col>PD_cog</th><th scope=col>PD_cogcat</th><th scope=col>PD_pfam</th><th scope=col>⋯</th><th scope=col>FRic_trt</th><th scope=col>FEve_trt</th><th scope=col>FDiv_trt</th><th scope=col>FDis_trt</th><th scope=col>RaoQ_trt</th><th scope=col>FRic_cogcat</th><th scope=col>FEve_cogcat</th><th scope=col>FDiv_cogcat</th><th scope=col>FDis_cogcat</th><th scope=col>RaoQ_cogcat</th></tr>\n",
       "\t<tr><th></th><th scope=col>&lt;chr&gt;</th><th scope=col>&lt;int&gt;</th><th scope=col>&lt;dbl&gt;</th><th scope=col>&lt;dbl&gt;</th><th scope=col>&lt;dbl&gt;</th><th scope=col>&lt;dbl&gt;</th><th scope=col>&lt;dbl&gt;</th><th scope=col>&lt;dbl&gt;</th><th scope=col>&lt;dbl&gt;</th><th scope=col>&lt;dbl&gt;</th><th scope=col>⋯</th><th scope=col>&lt;dbl&gt;</th><th scope=col>&lt;dbl&gt;</th><th scope=col>&lt;dbl&gt;</th><th scope=col>&lt;dbl&gt;</th><th scope=col>&lt;dbl&gt;</th><th scope=col>&lt;dbl&gt;</th><th scope=col>&lt;dbl&gt;</th><th scope=col>&lt;dbl&gt;</th><th scope=col>&lt;dbl&gt;</th><th scope=col>&lt;dbl&gt;</th></tr>\n",
       "</thead>\n",
       "<tbody>\n",
       "\t<tr><th scope=row>A01_02_1FE</th><td>healthy</td><td>232</td><td>3.888802</td><td>0.9507426</td><td>0.4757117</td><td>55.94272</td><td>43.94092</td><td>73.48643</td><td>28.29848</td><td>34.96796</td><td>⋯</td><td>405.3489</td><td>0.6305880</td><td>0.7290097</td><td>6.973794</td><td>52.75731</td><td>0.01801202</td><td>0.6300578</td><td>0.8226669</td><td>0.1390624</td><td>0.02458852</td></tr>\n",
       "\t<tr><th scope=row>A02_01_1FE</th><td>healthy</td><td>176</td><td>3.418777</td><td>0.8891672</td><td>0.4182143</td><td>40.24502</td><td>31.18437</td><td>50.07578</td><td>20.65005</td><td>23.78966</td><td>⋯</td><td>315.4350</td><td>0.5794583</td><td>0.8070891</td><td>6.341048</td><td>45.50104</td><td>0.01696774</td><td>0.6244829</td><td>0.8734180</td><td>0.1164369</td><td>0.01988324</td></tr>\n",
       "\t<tr><th scope=row>⋮</th><td>⋮</td><td>⋮</td><td>⋮</td><td>⋮</td><td>⋮</td><td>⋮</td><td>⋮</td><td>⋮</td><td>⋮</td><td>⋮</td><td>⋱</td><td>⋮</td><td>⋮</td><td>⋮</td><td>⋮</td><td>⋮</td><td>⋮</td><td>⋮</td><td>⋮</td><td>⋮</td><td>⋮</td></tr>\n",
       "\t<tr><th scope=row>nHMX11726</th><td>healthy</td><td>272</td><td>3.612832</td><td>0.8932187</td><td>0.4419526</td><td>53.11264</td><td>46.47031</td><td>88.09736</td><td>34.25477</td><td>41.73731</td><td>⋯</td><td>243.02318</td><td>0.5773991</td><td>0.8391111</td><td>5.956270</td><td>37.65335</td><td>0.01740735</td><td>0.6201435</td><td>0.6753169</td><td>0.06340579</td><td>0.005202252</td></tr>\n",
       "\t<tr><th scope=row>scavenger.11.60.0</th><td>healthy</td><td>210</td><td>3.891553</td><td>0.9557596</td><td>0.4760482</td><td>37.27697</td><td>35.63946</td><td>64.59389</td><td>22.62152</td><td>29.89625</td><td>⋯</td><td> 99.81046</td><td>0.5403505</td><td>0.5274329</td><td>5.515369</td><td>31.73968</td><td>0.01272163</td><td>0.5382319</td><td>0.7079228</td><td>0.07027430</td><td>0.005815837</td></tr>\n",
       "</tbody>\n",
       "</table>\n"
      ],
      "text/latex": [
       "A data.frame: 2755 × 33\n",
       "\\begin{tabular}{r|lllllllllllllllllllll}\n",
       "  & disease & nobs & shannon & simpson & pielou & PD\\_phy & PD\\_trt & PD\\_cog & PD\\_cogcat & PD\\_pfam & ⋯ & FRic\\_trt & FEve\\_trt & FDiv\\_trt & FDis\\_trt & RaoQ\\_trt & FRic\\_cogcat & FEve\\_cogcat & FDiv\\_cogcat & FDis\\_cogcat & RaoQ\\_cogcat\\\\\n",
       "  & <chr> & <int> & <dbl> & <dbl> & <dbl> & <dbl> & <dbl> & <dbl> & <dbl> & <dbl> & ⋯ & <dbl> & <dbl> & <dbl> & <dbl> & <dbl> & <dbl> & <dbl> & <dbl> & <dbl> & <dbl>\\\\\n",
       "\\hline\n",
       "\tA01\\_02\\_1FE & healthy & 232 & 3.888802 & 0.9507426 & 0.4757117 & 55.94272 & 43.94092 & 73.48643 & 28.29848 & 34.96796 & ⋯ & 405.3489 & 0.6305880 & 0.7290097 & 6.973794 & 52.75731 & 0.01801202 & 0.6300578 & 0.8226669 & 0.1390624 & 0.02458852\\\\\n",
       "\tA02\\_01\\_1FE & healthy & 176 & 3.418777 & 0.8891672 & 0.4182143 & 40.24502 & 31.18437 & 50.07578 & 20.65005 & 23.78966 & ⋯ & 315.4350 & 0.5794583 & 0.8070891 & 6.341048 & 45.50104 & 0.01696774 & 0.6244829 & 0.8734180 & 0.1164369 & 0.01988324\\\\\n",
       "\t⋮ & ⋮ & ⋮ & ⋮ & ⋮ & ⋮ & ⋮ & ⋮ & ⋮ & ⋮ & ⋮ & ⋱ & ⋮ & ⋮ & ⋮ & ⋮ & ⋮ & ⋮ & ⋮ & ⋮ & ⋮ & ⋮\\\\\n",
       "\tnHMX11726 & healthy & 272 & 3.612832 & 0.8932187 & 0.4419526 & 53.11264 & 46.47031 & 88.09736 & 34.25477 & 41.73731 & ⋯ & 243.02318 & 0.5773991 & 0.8391111 & 5.956270 & 37.65335 & 0.01740735 & 0.6201435 & 0.6753169 & 0.06340579 & 0.005202252\\\\\n",
       "\tscavenger.11.60.0 & healthy & 210 & 3.891553 & 0.9557596 & 0.4760482 & 37.27697 & 35.63946 & 64.59389 & 22.62152 & 29.89625 & ⋯ &  99.81046 & 0.5403505 & 0.5274329 & 5.515369 & 31.73968 & 0.01272163 & 0.5382319 & 0.7079228 & 0.07027430 & 0.005815837\\\\\n",
       "\\end{tabular}\n"
      ],
      "text/markdown": [
       "\n",
       "A data.frame: 2755 × 33\n",
       "\n",
       "| <!--/--> | disease &lt;chr&gt; | nobs &lt;int&gt; | shannon &lt;dbl&gt; | simpson &lt;dbl&gt; | pielou &lt;dbl&gt; | PD_phy &lt;dbl&gt; | PD_trt &lt;dbl&gt; | PD_cog &lt;dbl&gt; | PD_cogcat &lt;dbl&gt; | PD_pfam &lt;dbl&gt; | ⋯ ⋯ | FRic_trt &lt;dbl&gt; | FEve_trt &lt;dbl&gt; | FDiv_trt &lt;dbl&gt; | FDis_trt &lt;dbl&gt; | RaoQ_trt &lt;dbl&gt; | FRic_cogcat &lt;dbl&gt; | FEve_cogcat &lt;dbl&gt; | FDiv_cogcat &lt;dbl&gt; | FDis_cogcat &lt;dbl&gt; | RaoQ_cogcat &lt;dbl&gt; |\n",
       "|---|---|---|---|---|---|---|---|---|---|---|---|---|---|---|---|---|---|---|---|---|---|\n",
       "| A01_02_1FE | healthy | 232 | 3.888802 | 0.9507426 | 0.4757117 | 55.94272 | 43.94092 | 73.48643 | 28.29848 | 34.96796 | ⋯ | 405.3489 | 0.6305880 | 0.7290097 | 6.973794 | 52.75731 | 0.01801202 | 0.6300578 | 0.8226669 | 0.1390624 | 0.02458852 |\n",
       "| A02_01_1FE | healthy | 176 | 3.418777 | 0.8891672 | 0.4182143 | 40.24502 | 31.18437 | 50.07578 | 20.65005 | 23.78966 | ⋯ | 315.4350 | 0.5794583 | 0.8070891 | 6.341048 | 45.50104 | 0.01696774 | 0.6244829 | 0.8734180 | 0.1164369 | 0.01988324 |\n",
       "| ⋮ | ⋮ | ⋮ | ⋮ | ⋮ | ⋮ | ⋮ | ⋮ | ⋮ | ⋮ | ⋮ | ⋱ | ⋮ | ⋮ | ⋮ | ⋮ | ⋮ | ⋮ | ⋮ | ⋮ | ⋮ | ⋮ |\n",
       "| nHMX11726 | healthy | 272 | 3.612832 | 0.8932187 | 0.4419526 | 53.11264 | 46.47031 | 88.09736 | 34.25477 | 41.73731 | ⋯ | 243.02318 | 0.5773991 | 0.8391111 | 5.956270 | 37.65335 | 0.01740735 | 0.6201435 | 0.6753169 | 0.06340579 | 0.005202252 |\n",
       "| scavenger.11.60.0 | healthy | 210 | 3.891553 | 0.9557596 | 0.4760482 | 37.27697 | 35.63946 | 64.59389 | 22.62152 | 29.89625 | ⋯ |  99.81046 | 0.5403505 | 0.5274329 | 5.515369 | 31.73968 | 0.01272163 | 0.5382319 | 0.7079228 | 0.07027430 | 0.005815837 |\n",
       "\n"
      ],
      "text/plain": [
       "                  disease nobs shannon  simpson   pielou    PD_phy   PD_trt  \n",
       "A01_02_1FE        healthy 232  3.888802 0.9507426 0.4757117 55.94272 43.94092\n",
       "A02_01_1FE        healthy 176  3.418777 0.8891672 0.4182143 40.24502 31.18437\n",
       "⋮                 ⋮       ⋮    ⋮        ⋮         ⋮         ⋮        ⋮       \n",
       "nHMX11726         healthy 272  3.612832 0.8932187 0.4419526 53.11264 46.47031\n",
       "scavenger.11.60.0 healthy 210  3.891553 0.9557596 0.4760482 37.27697 35.63946\n",
       "                  PD_cog   PD_cogcat PD_pfam  ⋯ FRic_trt  FEve_trt  FDiv_trt \n",
       "A01_02_1FE        73.48643 28.29848  34.96796 ⋯ 405.3489  0.6305880 0.7290097\n",
       "A02_01_1FE        50.07578 20.65005  23.78966 ⋯ 315.4350  0.5794583 0.8070891\n",
       "⋮                 ⋮        ⋮         ⋮        ⋱ ⋮         ⋮         ⋮        \n",
       "nHMX11726         88.09736 34.25477  41.73731 ⋯ 243.02318 0.5773991 0.8391111\n",
       "scavenger.11.60.0 64.59389 22.62152  29.89625 ⋯  99.81046 0.5403505 0.5274329\n",
       "                  FDis_trt RaoQ_trt FRic_cogcat FEve_cogcat FDiv_cogcat\n",
       "A01_02_1FE        6.973794 52.75731 0.01801202  0.6300578   0.8226669  \n",
       "A02_01_1FE        6.341048 45.50104 0.01696774  0.6244829   0.8734180  \n",
       "⋮                 ⋮        ⋮        ⋮           ⋮           ⋮          \n",
       "nHMX11726         5.956270 37.65335 0.01740735  0.6201435   0.6753169  \n",
       "scavenger.11.60.0 5.515369 31.73968 0.01272163  0.5382319   0.7079228  \n",
       "                  FDis_cogcat RaoQ_cogcat\n",
       "A01_02_1FE        0.1390624   0.02458852 \n",
       "A02_01_1FE        0.1164369   0.01988324 \n",
       "⋮                 ⋮           ⋮          \n",
       "nHMX11726         0.06340579  0.005202252\n",
       "scavenger.11.60.0 0.07027430  0.005815837"
      ]
     },
     "metadata": {},
     "output_type": "display_data"
    }
   ],
   "source": [
    "# formatting\n",
    "feats_f = feats %>%\n",
    "    select.(-age, -BMI, -westernized, -gender) %>%\n",
    "    filter.(!is.na(disease)) %>%\n",
    "    as.data.frame\n",
    "rownames(feats_f) = feats_f$Sample\n",
    "feats_f$Sample = NULL\n",
    "feats_f"
   ]
  },
  {
   "cell_type": "code",
   "execution_count": 48,
   "metadata": {
    "ExecuteTime": {
     "end_time": "2021-04-18T05:21:06.912437Z",
     "start_time": "2021-04-18T05:19:17.137Z"
    }
   },
   "outputs": [
    {
     "data": {
      "text/plain": [
       ".\n",
       "diseased  healthy \n",
       "     653     2102 "
      ]
     },
     "metadata": {},
     "output_type": "display_data"
    },
    {
     "data": {
      "text/plain": [
       "   disease               nobs          shannon          simpson      \n",
       " Length:2755        Min.   : 23.0   Min.   :0.7248   Min.   :0.2267  \n",
       " Class :character   1st Qu.:230.0   1st Qu.:3.5866   1st Qu.:0.9243  \n",
       " Mode  :character   Median :272.0   Median :4.0784   Median :0.9580  \n",
       "                    Mean   :267.3   Mean   :3.9487   Mean   :0.9356  \n",
       "                    3rd Qu.:309.0   3rd Qu.:4.4370   3rd Qu.:0.9745  \n",
       "                    Max.   :469.0   Max.   :5.1786   Max.   :0.9905  \n",
       "     pielou            PD_phy           PD_trt           PD_cog       \n",
       " Min.   :0.08866   Min.   : 8.175   Min.   : 5.864   Min.   :  8.994  \n",
       " 1st Qu.:0.43874   1st Qu.:42.750   1st Qu.:38.835   1st Qu.: 68.789  \n",
       " Median :0.49891   Median :51.759   Median :46.866   Median : 84.119  \n",
       " Mean   :0.48304   Mean   :51.951   Mean   :46.068   Mean   : 83.541  \n",
       " 3rd Qu.:0.54277   3rd Qu.:61.176   3rd Qu.:54.341   3rd Qu.: 98.946  \n",
       " Max.   :0.63349   Max.   :93.614   Max.   :83.860   Max.   :158.692  \n",
       "   PD_cogcat         PD_pfam         PD_pfamcat        MPD_phy       \n",
       " Min.   : 4.221   Min.   : 5.431   Min.   : 3.695   Min.   :-74.238  \n",
       " 1st Qu.:24.549   1st Qu.:33.244   1st Qu.:20.254   1st Qu.:-22.866  \n",
       " Median :31.107   Median :39.748   Median :24.116   Median :-20.383  \n",
       " Mean   :31.775   Mean   :39.295   Mean   :23.946   Mean   :-20.706  \n",
       " 3rd Qu.:38.429   3rd Qu.:45.792   3rd Qu.:27.868   3rd Qu.:-17.943  \n",
       " Max.   :63.604   Max.   :72.966   Max.   :44.456   Max.   : -1.211  \n",
       "    MPD_cog          MPD_cogcat        MPD_pfam        MPD_pfamcat     \n",
       " Min.   :-15.203   Min.   :-3.650   Min.   :-44.390   Min.   :-36.599  \n",
       " 1st Qu.: -6.822   1st Qu.:-2.066   1st Qu.:-24.273   1st Qu.:-12.629  \n",
       " Median : -4.665   Median :-1.847   Median :-20.523   Median :-10.802  \n",
       " Mean   : -4.287   Mean   :-1.770   Mean   :-20.739   Mean   :-10.838  \n",
       " 3rd Qu.: -2.187   3rd Qu.:-1.535   3rd Qu.:-17.032   3rd Qu.: -8.795  \n",
       " Max.   :  7.553   Max.   : 1.699   Max.   :  1.767   Max.   :  1.622  \n",
       "    MPD_trt            MNTD_phy          MNTD_cog         MNTD_cogcat      \n",
       " Min.   :-56.4363   Min.   :-23.718   Min.   :-18.1302   Min.   :-11.0637  \n",
       " 1st Qu.:-22.7212   1st Qu.: -9.853   1st Qu.:-12.7479   1st Qu.: -6.0580  \n",
       " Median :-20.3106   Median : -8.164   Median :-11.6531   Median : -5.4177  \n",
       " Mean   :-20.2275   Mean   : -8.449   Mean   :-11.3033   Mean   : -5.3490  \n",
       " 3rd Qu.:-17.4067   3rd Qu.: -6.682   3rd Qu.:-10.2720   3rd Qu.: -4.6932  \n",
       " Max.   : -0.6191   Max.   :  1.384   Max.   : -0.9622   Max.   :  0.3073  \n",
       "   MNTD_pfam        MNTD_pfamcat        MNTD_trt           FRic_trt     \n",
       " Min.   :-19.535   Min.   :-20.955   Min.   :-21.0863   Min.   : 41.91  \n",
       " 1st Qu.:-16.515   1st Qu.:-17.240   1st Qu.:-12.9991   1st Qu.:135.79  \n",
       " Median :-15.627   Median :-16.261   Median :-12.3190   Median :217.83  \n",
       " Mean   :-15.320   Mean   :-16.012   Mean   :-12.2609   Mean   :231.91  \n",
       " 3rd Qu.:-14.464   3rd Qu.:-15.161   3rd Qu.:-11.6017   3rd Qu.:302.70  \n",
       " Max.   : -1.152   Max.   : -1.034   Max.   : -0.7506   Max.   :677.17  \n",
       "    FEve_trt         FDiv_trt         FDis_trt        RaoQ_trt    \n",
       " Min.   :0.4496   Min.   :0.4114   Min.   :2.236   Min.   :11.41  \n",
       " 1st Qu.:0.5563   1st Qu.:0.6853   1st Qu.:5.715   1st Qu.:34.39  \n",
       " Median :0.5766   Median :0.7441   Median :5.949   Median :36.91  \n",
       " Mean   :0.5782   Mean   :0.7431   Mean   :5.950   Mean   :38.08  \n",
       " 3rd Qu.:0.5979   3rd Qu.:0.8025   3rd Qu.:6.169   3rd Qu.:39.95  \n",
       " Max.   :0.8046   Max.   :0.9792   Max.   :8.926   Max.   :81.33  \n",
       "  FRic_cogcat        FEve_cogcat      FDiv_cogcat      FDis_cogcat     \n",
       " Min.   :0.003134   Min.   :0.4841   Min.   :0.3444   Min.   :0.02907  \n",
       " 1st Qu.:0.013237   1st Qu.:0.5804   1st Qu.:0.6736   1st Qu.:0.06925  \n",
       " Median :0.016862   Median :0.6014   Median :0.7135   Median :0.07510  \n",
       " Mean   :0.015573   Mean   :0.6031   Mean   :0.7126   Mean   :0.07795  \n",
       " 3rd Qu.:0.018098   3rd Qu.:0.6247   3rd Qu.:0.7527   3rd Qu.:0.08164  \n",
       " Max.   :0.025667   Max.   :0.8248   Max.   :0.9876   Max.   :0.20228  \n",
       "  RaoQ_cogcat      \n",
       " Min.   :0.001775  \n",
       " 1st Qu.:0.005757  \n",
       " Median :0.006777  \n",
       " Mean   :0.007993  \n",
       " 3rd Qu.:0.008178  \n",
       " Max.   :0.041588  "
      ]
     },
     "metadata": {},
     "output_type": "display_data"
    }
   ],
   "source": [
    "# summary\n",
    "## target\n",
    "feats_f[,target] %>% table\n",
    "## all features\n",
    "feats_f %>% summary"
   ]
  },
  {
   "cell_type": "markdown",
   "metadata": {},
   "source": [
    "## RF"
   ]
  },
  {
   "cell_type": "code",
   "execution_count": 49,
   "metadata": {
    "ExecuteTime": {
     "end_time": "2021-04-18T05:21:06.942479Z",
     "start_time": "2021-04-18T05:19:17.393Z"
    }
   },
   "outputs": [
    {
     "data": {
      "text/plain": [
       "Supervised task: feats_f\n",
       "Type: classif\n",
       "Target: disease\n",
       "Observations: 2755\n",
       "Features:\n",
       "   numerics     factors     ordered functionals \n",
       "         32           0           0           0 \n",
       "Missings: FALSE\n",
       "Has weights: FALSE\n",
       "Has blocking: FALSE\n",
       "Has coordinates: FALSE\n",
       "Classes: 2\n",
       "diseased  healthy \n",
       "     653     2102 \n",
       "Positive class: diseased"
      ]
     },
     "metadata": {},
     "output_type": "display_data"
    }
   ],
   "source": [
    "# creating mlr task\n",
    "tsk = makeClassifTask(data = feats_f, target = target)\n",
    "tsk"
   ]
  },
  {
   "cell_type": "code",
   "execution_count": 50,
   "metadata": {
    "ExecuteTime": {
     "end_time": "2021-04-18T05:21:06.971861Z",
     "start_time": "2021-04-18T05:19:17.554Z"
    }
   },
   "outputs": [
    {
     "data": {
      "text/plain": [
       "Supervised task: feats_f\n",
       "Type: classif\n",
       "Target: disease\n",
       "Observations: 1354\n",
       "Features:\n",
       "   numerics     factors     ordered functionals \n",
       "         32           0           0           0 \n",
       "Missings: FALSE\n",
       "Has weights: FALSE\n",
       "Has blocking: FALSE\n",
       "Has coordinates: FALSE\n",
       "Classes: 2\n",
       "diseased  healthy \n",
       "     653      701 \n",
       "Positive class: diseased"
      ]
     },
     "metadata": {},
     "output_type": "display_data"
    }
   ],
   "source": [
    "# what sampling rate to use?\n",
    "rate = 1/3\n",
    "undersample(tsk, rate = rate)"
   ]
  },
  {
   "cell_type": "code",
   "execution_count": 51,
   "metadata": {
    "ExecuteTime": {
     "end_time": "2021-04-18T05:21:07.142754Z",
     "start_time": "2021-04-18T05:19:17.719Z"
    }
   },
   "outputs": [
    {
     "data": {
      "text/plain": [
       "Learner classif.cforest from package party\n",
       "Type: classif\n",
       "Name: Random forest based on conditional inference trees; Short name: cforest\n",
       "Class: classif.cforest\n",
       "Properties: twoclass,multiclass,prob,factors,numerics,ordered,weights,missings,featimp\n",
       "Predict-Type: prob\n",
       "Hyperparameters: ntree=500\n"
      ]
     },
     "metadata": {},
     "output_type": "display_data"
    }
   ],
   "source": [
    "## feature selection (wrapping the RF learner)\n",
    "lrn = makeLearner('classif.cforest', predict.type = 'prob', ntree = 500)\n",
    "lrn"
   ]
  },
  {
   "cell_type": "code",
   "execution_count": 52,
   "metadata": {
    "ExecuteTime": {
     "end_time": "2021-04-18T05:21:07.171841Z",
     "start_time": "2021-04-18T05:19:18.025Z"
    }
   },
   "outputs": [
    {
     "data": {
      "text/plain": [
       "Learner classif.cforest.undersampled from package mlr,party\n",
       "Type: classif\n",
       "Name: ; Short name: \n",
       "Class: UndersampleWrapper\n",
       "Properties: numerics,factors,ordered,missings,weights,prob,twoclass,multiclass,featimp\n",
       "Predict-Type: prob\n",
       "Hyperparameters: ntree=500,usw.rate=0.333\n"
      ]
     },
     "metadata": {},
     "output_type": "display_data"
    }
   ],
   "source": [
    "# sampling\n",
    "lrn = makeUndersampleWrapper(lrn, usw.rate = rate)\n",
    "lrn"
   ]
  },
  {
   "cell_type": "code",
   "execution_count": 53,
   "metadata": {
    "ExecuteTime": {
     "end_time": "2021-04-18T05:21:26.084495Z",
     "start_time": "2021-04-18T05:19:18.313Z"
    }
   },
   "outputs": [
    {
     "name": "stderr",
     "output_type": "stream",
     "text": [
      "Starting parallelization in mode=multicore with cpus=8.\n",
      "\n",
      "Resampling: cross-validation\n",
      "\n",
      "Measures:             auc       acc       mcc       f1        \n",
      "\n",
      "Mapping in parallel: mode = multicore; level = mlr.resample; cpus = 8; elements = 5.\n",
      "\n",
      "\n",
      "\n",
      "\n",
      "Aggregated Result: auc.test.mean=0.8165601,acc.test.mean=0.7408582,mcc.test.mean=0.4184207,f1.test.mean=0.5722383\n",
      "\n",
      "\n",
      "\n",
      "\n",
      "Stopped parallelization. All cleaned up.\n",
      "\n"
     ]
    }
   ],
   "source": [
    "## evaluation \n",
    "parallelStartMulticore(cpus=threads, level = 'mlr.resample')\n",
    "rs = makeResampleDesc('CV', iters = cv_iters, stratify = TRUE)\n",
    "res = resample(lrn, tsk, \n",
    "               resampling = rs,  \n",
    "               models = TRUE,\n",
    "               measures = measures)\n",
    "parallelStop()"
   ]
  },
  {
   "cell_type": "markdown",
   "metadata": {},
   "source": [
    "### Performance"
   ]
  },
  {
   "cell_type": "code",
   "execution_count": 54,
   "metadata": {
    "ExecuteTime": {
     "end_time": "2021-04-18T05:21:26.117227Z",
     "start_time": "2021-04-18T05:19:19.161Z"
    }
   },
   "outputs": [
    {
     "data": {
      "text/html": [
       "<table class=\"dataframe\">\n",
       "<caption>A data.frame: 5 × 5</caption>\n",
       "<thead>\n",
       "\t<tr><th scope=col>iter</th><th scope=col>auc</th><th scope=col>acc</th><th scope=col>mcc</th><th scope=col>f1</th></tr>\n",
       "\t<tr><th scope=col>&lt;int&gt;</th><th scope=col>&lt;dbl&gt;</th><th scope=col>&lt;dbl&gt;</th><th scope=col>&lt;dbl&gt;</th><th scope=col>&lt;dbl&gt;</th></tr>\n",
       "</thead>\n",
       "<tbody>\n",
       "\t<tr><td>1</td><td>0.8020888</td><td>0.6956522</td><td>0.3477899</td><td>0.5254237</td></tr>\n",
       "\t<tr><td>2</td><td>0.8223555</td><td>0.7404719</td><td>0.4193695</td><td>0.5731343</td></tr>\n",
       "\t<tr><td>3</td><td>0.8058469</td><td>0.7422868</td><td>0.4237565</td><td>0.5748503</td></tr>\n",
       "\t<tr><td>4</td><td>0.8263187</td><td>0.7600000</td><td>0.4345396</td><td>0.5822785</td></tr>\n",
       "\t<tr><td>5</td><td>0.8261905</td><td>0.7658802</td><td>0.4666480</td><td>0.6055046</td></tr>\n",
       "</tbody>\n",
       "</table>\n"
      ],
      "text/latex": [
       "A data.frame: 5 × 5\n",
       "\\begin{tabular}{lllll}\n",
       " iter & auc & acc & mcc & f1\\\\\n",
       " <int> & <dbl> & <dbl> & <dbl> & <dbl>\\\\\n",
       "\\hline\n",
       "\t 1 & 0.8020888 & 0.6956522 & 0.3477899 & 0.5254237\\\\\n",
       "\t 2 & 0.8223555 & 0.7404719 & 0.4193695 & 0.5731343\\\\\n",
       "\t 3 & 0.8058469 & 0.7422868 & 0.4237565 & 0.5748503\\\\\n",
       "\t 4 & 0.8263187 & 0.7600000 & 0.4345396 & 0.5822785\\\\\n",
       "\t 5 & 0.8261905 & 0.7658802 & 0.4666480 & 0.6055046\\\\\n",
       "\\end{tabular}\n"
      ],
      "text/markdown": [
       "\n",
       "A data.frame: 5 × 5\n",
       "\n",
       "| iter &lt;int&gt; | auc &lt;dbl&gt; | acc &lt;dbl&gt; | mcc &lt;dbl&gt; | f1 &lt;dbl&gt; |\n",
       "|---|---|---|---|---|\n",
       "| 1 | 0.8020888 | 0.6956522 | 0.3477899 | 0.5254237 |\n",
       "| 2 | 0.8223555 | 0.7404719 | 0.4193695 | 0.5731343 |\n",
       "| 3 | 0.8058469 | 0.7422868 | 0.4237565 | 0.5748503 |\n",
       "| 4 | 0.8263187 | 0.7600000 | 0.4345396 | 0.5822785 |\n",
       "| 5 | 0.8261905 | 0.7658802 | 0.4666480 | 0.6055046 |\n",
       "\n"
      ],
      "text/plain": [
       "  iter auc       acc       mcc       f1       \n",
       "1 1    0.8020888 0.6956522 0.3477899 0.5254237\n",
       "2 2    0.8223555 0.7404719 0.4193695 0.5731343\n",
       "3 3    0.8058469 0.7422868 0.4237565 0.5748503\n",
       "4 4    0.8263187 0.7600000 0.4345396 0.5822785\n",
       "5 5    0.8261905 0.7658802 0.4666480 0.6055046"
      ]
     },
     "metadata": {},
     "output_type": "display_data"
    }
   ],
   "source": [
    "df.dims(30)\n",
    "perf_res[['disease_RF']] = res$measures.test\n",
    "res$measures.test\n",
    "df.dims()"
   ]
  },
  {
   "cell_type": "code",
   "execution_count": 55,
   "metadata": {
    "ExecuteTime": {
     "end_time": "2021-04-18T05:21:26.354614Z",
     "start_time": "2021-04-18T05:19:19.368Z"
    }
   },
   "outputs": [
    {
     "name": "stdout",
     "output_type": "stream",
     "text": [
      "--AUC--\n",
      "   Min. 1st Qu.  Median    Mean 3rd Qu.    Max. \n",
      " 0.8021  0.8058  0.8224  0.8166  0.8262  0.8263 \n",
      "--F1--\n",
      "   Min. 1st Qu.  Median    Mean 3rd Qu.    Max. \n",
      " 0.5254  0.5731  0.5749  0.5722  0.5823  0.6055 \n",
      "--plot--\n"
     ]
    },
    {
     "data": {
      "image/png": "[encoded data removed]",
      "text/plain": [
       "plot without title"
      ]
     },
     "metadata": {
      "image/png": {
       "height": 250,
       "width": 400
      }
     },
     "output_type": "display_data"
    }
   ],
   "source": [
    "# performance\n",
    "cls_perf(res)"
   ]
  },
  {
   "cell_type": "code",
   "execution_count": 56,
   "metadata": {
    "ExecuteTime": {
     "end_time": "2021-04-18T05:22:00.639465Z",
     "start_time": "2021-04-18T05:19:20.056Z"
    }
   },
   "outputs": [
    {
     "data": {
      "image/png": "[encoded data removed]",
      "text/plain": [
       "plot without title"
      ]
     },
     "metadata": {
      "image/png": {
       "height": 500,
       "width": 400
      }
     },
     "output_type": "display_data"
    }
   ],
   "source": [
    "# plotting the most important features\n",
    "feat_imp = get_feat_imp(res)\n",
    "p = plot_feat_imp(feat_imp, y_offset=-0.003)\n",
    "p.dims(4,5)\n",
    "plot(p)"
   ]
  },
  {
   "cell_type": "markdown",
   "metadata": {},
   "source": [
    "## xgboost"
   ]
  },
  {
   "cell_type": "code",
   "execution_count": null,
   "metadata": {
    "ExecuteTime": {
     "end_time": "2021-04-17T13:02:50.062455Z",
     "start_time": "2021-04-17T12:51:20.261Z"
    }
   },
   "outputs": [],
   "source": [
    "## feature selection (wrapping the xgboost learner)\n",
    "lrn = makeLearner('classif.xgboost', predict.type = 'prob', nrounds = 300)\n",
    "lrn"
   ]
  },
  {
   "cell_type": "code",
   "execution_count": null,
   "metadata": {
    "ExecuteTime": {
     "end_time": "2021-04-17T13:02:50.099065Z",
     "start_time": "2021-04-17T12:51:20.266Z"
    }
   },
   "outputs": [],
   "source": [
    "# sampling\n",
    "lrn = makeUndersampleWrapper(lrn, usw.rate = rate)\n",
    "lrn"
   ]
  },
  {
   "cell_type": "code",
   "execution_count": null,
   "metadata": {
    "ExecuteTime": {
     "start_time": "2021-04-17T12:51:20.270Z"
    }
   },
   "outputs": [],
   "source": [
    "## evaluation \n",
    "#parallelStartMulticore(cpus=threads, level = 'mlr.resample')\n",
    "rs = makeResampleDesc('CV', iters = cv_iters, stratify = TRUE)\n",
    "res = resample(lrn, tsk, \n",
    "               resampling = rs,  \n",
    "               models = TRUE,\n",
    "               measures = measures)\n",
    "#parallelStop()"
   ]
  },
  {
   "cell_type": "markdown",
   "metadata": {},
   "source": [
    "### Performance"
   ]
  },
  {
   "cell_type": "code",
   "execution_count": null,
   "metadata": {
    "ExecuteTime": {
     "start_time": "2021-04-17T12:51:20.274Z"
    }
   },
   "outputs": [],
   "source": [
    "df.dims(30)\n",
    "res$measures.test\n",
    "df.dims()"
   ]
  },
  {
   "cell_type": "code",
   "execution_count": null,
   "metadata": {
    "ExecuteTime": {
     "start_time": "2021-04-17T12:51:20.278Z"
    }
   },
   "outputs": [],
   "source": [
    "# performance\n",
    "cls_perf(res)"
   ]
  },
  {
   "cell_type": "code",
   "execution_count": null,
   "metadata": {
    "ExecuteTime": {
     "start_time": "2021-04-17T12:51:20.284Z"
    }
   },
   "outputs": [],
   "source": [
    "# plotting the most important features\n",
    "feat_imp = get_feat_imp(res)\n",
    "p = plot_feat_imp(feat_imp)\n",
    "p.dims(5,5)\n",
    "plot(p)"
   ]
  },
  {
   "cell_type": "markdown",
   "metadata": {},
   "source": [
    "# Age"
   ]
  },
  {
   "cell_type": "code",
   "execution_count": null,
   "metadata": {
    "ExecuteTime": {
     "start_time": "2021-04-17T12:51:20.289Z"
    }
   },
   "outputs": [],
   "source": [
    "target = 'age'\n",
    "measures = list(spearmanrho, mse, mae)\n",
    "cv_iters = 5"
   ]
  },
  {
   "cell_type": "code",
   "execution_count": null,
   "metadata": {
    "ExecuteTime": {
     "start_time": "2021-04-17T12:51:20.293Z"
    }
   },
   "outputs": [],
   "source": [
    "# formatting\n",
    "feats_f = feats %>%\n",
    "    select.(-BMI, -gender, -westernized, -disease) %>%\n",
    "    filter.(!is.na(age)) %>%\n",
    "    as.data.frame\n",
    "rownames(feats_f) = feats_f$Sample\n",
    "feats_f$Sample = NULL\n",
    "feats_f"
   ]
  },
  {
   "cell_type": "code",
   "execution_count": null,
   "metadata": {
    "ExecuteTime": {
     "start_time": "2021-04-17T12:51:20.299Z"
    }
   },
   "outputs": [],
   "source": [
    "# summary\n",
    "## target\n",
    "feats_f[,target] %>% summary\n",
    "## all features\n",
    "feats_f %>% summary"
   ]
  },
  {
   "cell_type": "markdown",
   "metadata": {},
   "source": [
    "## RF"
   ]
  },
  {
   "cell_type": "code",
   "execution_count": null,
   "metadata": {
    "ExecuteTime": {
     "start_time": "2021-04-17T12:51:20.304Z"
    }
   },
   "outputs": [],
   "source": [
    "# creating mlr task\n",
    "tsk = makeRegrTask(data = feats_f, target = target)\n",
    "tsk"
   ]
  },
  {
   "cell_type": "code",
   "execution_count": null,
   "metadata": {
    "ExecuteTime": {
     "start_time": "2021-04-17T12:51:20.308Z"
    }
   },
   "outputs": [],
   "source": [
    "## feature selection (wrapping the RF learner)\n",
    "lrn = makeLearner('regr.cforest', ntree = 500)\n",
    "lrn"
   ]
  },
  {
   "cell_type": "code",
   "execution_count": null,
   "metadata": {
    "ExecuteTime": {
     "end_time": "2021-04-17T14:07:56.464682Z",
     "start_time": "2021-04-17T12:51:20.312Z"
    }
   },
   "outputs": [],
   "source": [
    "## evaluation \n",
    "parallelStartMulticore(cpus=threads, level = 'mlr.resample')\n",
    "rs = makeResampleDesc('CV', iters = cv_iters)\n",
    "res = resample(lrn, tsk, \n",
    "               resampling = rs,  \n",
    "               models = TRUE,\n",
    "               measures = measures)\n",
    "parallelStop()"
   ]
  },
  {
   "cell_type": "markdown",
   "metadata": {},
   "source": [
    "### Performance"
   ]
  },
  {
   "cell_type": "code",
   "execution_count": null,
   "metadata": {
    "ExecuteTime": {
     "end_time": "2021-04-17T14:07:56.468230Z",
     "start_time": "2021-04-17T12:51:20.317Z"
    }
   },
   "outputs": [],
   "source": [
    "df.dims(30)\n",
    "perf_res[['age_RF']] = res$measures.test\n",
    "res$measures.test\n",
    "df.dims()"
   ]
  },
  {
   "cell_type": "code",
   "execution_count": null,
   "metadata": {
    "ExecuteTime": {
     "end_time": "2021-04-17T14:07:56.472375Z",
     "start_time": "2021-04-17T12:51:20.321Z"
    }
   },
   "outputs": [],
   "source": [
    "# summary\n",
    "res$measures.test$mse %>% summary_x('mse')\n",
    "res$measures.test$mae %>% summary_x('mae')\n",
    "res$measures.test$spearmanrho %>% summary_x('spearmanrho')"
   ]
  },
  {
   "cell_type": "code",
   "execution_count": null,
   "metadata": {
    "ExecuteTime": {
     "end_time": "2021-04-17T14:07:56.474721Z",
     "start_time": "2021-04-17T12:51:20.325Z"
    }
   },
   "outputs": [],
   "source": [
    "#-- feature importance --#\n",
    "merge_feat_imp = function(iter, feat_imp){\n",
    "    res = feat_imp[[iter]]$res\n",
    "    res$iter = iter\n",
    "    return(res)  \n",
    "}\n",
    "doParallel::registerDoParallel(threads)\n",
    "feat_imp = res$models %>%\n",
    "    plyr::llply(function(x) getFeatureImportance(x)$res,\n",
    "                .parallel=TRUE) %>%\n",
    "    rbindlist(use.names=TRUE, idcol='cv_rep')\n",
    "feat_imp"
   ]
  },
  {
   "cell_type": "code",
   "execution_count": null,
   "metadata": {
    "ExecuteTime": {
     "end_time": "2021-04-17T14:07:56.479666Z",
     "start_time": "2021-04-17T12:51:20.329Z"
    }
   },
   "outputs": [],
   "source": [
    "# plotting most important features\n",
    "p = feat_imp %>%\n",
    "    mutate.(rank = row_number(-importance),\n",
    "            .by=c('cv_rep')) %>%\n",
    "    mutate.(mean_rank = mean(rank),\n",
    "            .by=c(variable)) %>%\n",
    "    filter.(mean_rank < 50) %>%\n",
    "    mutate.(measure_type = case_when.(grepl('MPD|MNTD', variable) ~ 'eco-phy',\n",
    "                                   grepl('FEve|FRic|FDis|RaoQ|FDiv', variable) ~ 'func. div.',\n",
    "                                   TRUE ~ 'alpha div.')) %>%\n",
    "    mutate.(data_type = case_when.(grepl('gtdb', variable) ~ 'phylogeny',\n",
    "                                   grepl('trt', variable) ~ 'trait',\n",
    "                                   grepl('pfam|cog', variable) ~ 'COG/Pfam',\n",
    "                                   TRUE ~ 'no tree')) %>%\n",
    "    mutate.(variable = variable %>% reorder(-mean_rank)) %>%\n",
    "    ggplot(aes(variable, importance)) +\n",
    "    geom_point(aes(y=-0.01, fill=data_type), pch=22, size=4) +\n",
    "    geom_boxplot(aes(color=measure_type)) +\n",
    "    scale_color_discrete('Measure') +\n",
    "    scale_fill_discrete('Tree') +\n",
    "    theme_bw() +\n",
    "    coord_flip()\n",
    "p.dims(5,5)\n",
    "plot(p)"
   ]
  },
  {
   "cell_type": "markdown",
   "metadata": {},
   "source": [
    "## glmnet"
   ]
  },
  {
   "cell_type": "code",
   "execution_count": null,
   "metadata": {
    "ExecuteTime": {
     "end_time": "2021-04-17T14:07:56.481636Z",
     "start_time": "2021-04-17T12:51:20.334Z"
    }
   },
   "outputs": [],
   "source": [
    "# creating mlr task\n",
    "tsk = makeRegrTask(data = normalizeFeatures(feats_f, target = target), \n",
    "                   target = target)\n",
    "tsk"
   ]
  },
  {
   "cell_type": "code",
   "execution_count": null,
   "metadata": {
    "ExecuteTime": {
     "end_time": "2021-04-17T14:07:56.483443Z",
     "start_time": "2021-04-17T12:51:20.338Z"
    }
   },
   "outputs": [],
   "source": [
    "## feature selection (wrapping the RF learner)\n",
    "lrn = makeLearner('regr.cvglmnet', alpha=0.5)\n",
    "lrn"
   ]
  },
  {
   "cell_type": "code",
   "execution_count": null,
   "metadata": {
    "ExecuteTime": {
     "end_time": "2021-04-17T14:07:56.488125Z",
     "start_time": "2021-04-17T12:51:20.341Z"
    }
   },
   "outputs": [],
   "source": [
    "## evaluation \n",
    "parallelStartMulticore(cpus=threads, level = 'mlr.resample')\n",
    "rs = makeResampleDesc('CV', iters = cv_iters)\n",
    "res = resample(lrn, tsk, \n",
    "               resampling = rs,  \n",
    "               models = TRUE,\n",
    "               measures = measures)\n",
    "parallelStop()"
   ]
  },
  {
   "cell_type": "markdown",
   "metadata": {},
   "source": [
    "### Performance"
   ]
  },
  {
   "cell_type": "code",
   "execution_count": null,
   "metadata": {
    "ExecuteTime": {
     "end_time": "2021-04-17T14:07:56.490004Z",
     "start_time": "2021-04-17T12:51:20.346Z"
    }
   },
   "outputs": [],
   "source": [
    "df.dims(30)\n",
    "res$measures.test\n",
    "df.dims()"
   ]
  },
  {
   "cell_type": "code",
   "execution_count": null,
   "metadata": {
    "ExecuteTime": {
     "end_time": "2021-04-17T14:07:56.492732Z",
     "start_time": "2021-04-17T12:51:20.349Z"
    }
   },
   "outputs": [],
   "source": [
    "# summary\n",
    "res$measures.test$mse %>% summary_x('mse')\n",
    "res$measures.test$mae %>% summary_x('mae')\n",
    "res$measures.test$spearmanrho %>% summary_x('spearmanrho')"
   ]
  },
  {
   "cell_type": "markdown",
   "metadata": {},
   "source": [
    "# BMI"
   ]
  },
  {
   "cell_type": "code",
   "execution_count": null,
   "metadata": {
    "ExecuteTime": {
     "end_time": "2021-04-17T14:07:56.494189Z",
     "start_time": "2021-04-17T12:51:20.354Z"
    }
   },
   "outputs": [],
   "source": [
    "target = 'BMI'\n",
    "measures = list(mse, mae, spearmanrho)\n",
    "cv_iters = 5"
   ]
  },
  {
   "cell_type": "code",
   "execution_count": null,
   "metadata": {
    "ExecuteTime": {
     "end_time": "2021-04-17T14:07:56.496316Z",
     "start_time": "2021-04-17T12:51:20.357Z"
    }
   },
   "outputs": [],
   "source": [
    "# formatting\n",
    "feats_f = feats %>%\n",
    "    select.(-age, -gender, -westernized, -disease) %>%\n",
    "    filter.(!is.na(BMI)) %>%\n",
    "    as.data.frame\n",
    "rownames(feats_f) = feats_f$Sample\n",
    "feats_f$Sample = NULL\n",
    "feats_f"
   ]
  },
  {
   "cell_type": "code",
   "execution_count": null,
   "metadata": {
    "ExecuteTime": {
     "end_time": "2021-04-17T14:07:56.498516Z",
     "start_time": "2021-04-17T12:51:20.361Z"
    }
   },
   "outputs": [],
   "source": [
    "# summary\n",
    "## target\n",
    "feats_f[,target] %>% summary\n",
    "## all features\n",
    "feats_f %>% summary"
   ]
  },
  {
   "cell_type": "markdown",
   "metadata": {},
   "source": [
    "## RF"
   ]
  },
  {
   "cell_type": "code",
   "execution_count": null,
   "metadata": {
    "ExecuteTime": {
     "end_time": "2021-04-17T14:07:56.500362Z",
     "start_time": "2021-04-17T12:51:20.365Z"
    }
   },
   "outputs": [],
   "source": [
    "# creating mlr task\n",
    "tsk = makeRegrTask(data = feats_f, \n",
    "                   target = target)\n",
    "tsk"
   ]
  },
  {
   "cell_type": "code",
   "execution_count": null,
   "metadata": {
    "ExecuteTime": {
     "end_time": "2021-04-17T14:07:56.502048Z",
     "start_time": "2021-04-17T12:51:20.370Z"
    }
   },
   "outputs": [],
   "source": [
    "## feature selection (wrapping the RF learner)\n",
    "lrn = makeLearner('regr.cforest', ntree = 500)\n",
    "lrn"
   ]
  },
  {
   "cell_type": "code",
   "execution_count": null,
   "metadata": {
    "ExecuteTime": {
     "end_time": "2021-04-17T14:07:56.506326Z",
     "start_time": "2021-04-17T12:51:20.373Z"
    }
   },
   "outputs": [],
   "source": [
    "## evaluation \n",
    "parallelStartMulticore(cpus=threads, level = 'mlr.resample')\n",
    "rs = makeResampleDesc('CV', iters = cv_iters)\n",
    "res = resample(lrn, tsk, \n",
    "               resampling = rs,  \n",
    "               models = TRUE,\n",
    "               measures = measures)\n",
    "parallelStop()"
   ]
  },
  {
   "cell_type": "markdown",
   "metadata": {},
   "source": [
    "### Performance"
   ]
  },
  {
   "cell_type": "code",
   "execution_count": null,
   "metadata": {
    "ExecuteTime": {
     "end_time": "2021-04-17T14:07:56.508154Z",
     "start_time": "2021-04-17T12:51:20.378Z"
    }
   },
   "outputs": [],
   "source": [
    "df.dims(30)\n",
    "perf_res[['BMI_RF']] = res$measures.test\n",
    "res$measures.test\n",
    "df.dims()"
   ]
  },
  {
   "cell_type": "code",
   "execution_count": null,
   "metadata": {
    "ExecuteTime": {
     "end_time": "2021-04-17T14:07:56.510800Z",
     "start_time": "2021-04-17T12:51:20.382Z"
    }
   },
   "outputs": [],
   "source": [
    "# summary\n",
    "res$measures.test$mse %>% summary_x('mse')\n",
    "res$measures.test$mae %>% summary_x('mae')\n",
    "res$measures.test$spearmanrho %>% summary_x('spearmanrho')"
   ]
  },
  {
   "cell_type": "code",
   "execution_count": null,
   "metadata": {
    "ExecuteTime": {
     "end_time": "2021-04-17T14:07:56.512774Z",
     "start_time": "2021-04-17T12:51:20.386Z"
    }
   },
   "outputs": [],
   "source": [
    "#-- feature importance --#\n",
    "merge_feat_imp = function(iter, feat_imp){\n",
    "    res = feat_imp[[iter]]$res\n",
    "    res$iter = iter\n",
    "    return(res)  \n",
    "}\n",
    "doParallel::registerDoParallel(threads)\n",
    "feat_imp = res$models %>%\n",
    "    plyr::llply(function(x) getFeatureImportance(x)$res,\n",
    "                .parallel=TRUE) %>%\n",
    "    rbindlist(use.names=TRUE, idcol='cv_rep')\n",
    "feat_imp"
   ]
  },
  {
   "cell_type": "code",
   "execution_count": null,
   "metadata": {
    "ExecuteTime": {
     "end_time": "2021-04-17T14:07:56.516458Z",
     "start_time": "2021-04-17T12:51:20.390Z"
    }
   },
   "outputs": [],
   "source": [
    "# plotting most important features\n",
    "p = feat_imp %>%\n",
    "    mutate.(rank = row_number(-importance),\n",
    "            .by=c('cv_rep')) %>%\n",
    "    mutate.(mean_rank = mean(rank),\n",
    "            .by=c(variable)) %>%\n",
    "    filter.(mean_rank < 50) %>%\n",
    "    mutate.(measure_type = case_when.(grepl('MPD|MNTD', variable) ~ 'eco-phy',\n",
    "                                   grepl('FEve|FRic|FDis|RaoQ|FDiv', variable) ~ 'func. div.',\n",
    "                                   TRUE ~ 'alpha div.')) %>%\n",
    "    mutate.(data_type = case_when.(grepl('gtdb', variable) ~ 'phylogeny',\n",
    "                                   grepl('trt', variable) ~ 'trait',\n",
    "                                   grepl('pfam|cog', variable) ~ 'COG/Pfam',\n",
    "                                   TRUE ~ 'no tree')) %>%\n",
    "    mutate.(variable = variable %>% reorder(-mean_rank)) %>%\n",
    "    ggplot(aes(variable, importance)) +\n",
    "    geom_point(aes(y=-0.01, fill=data_type), pch=22, size=4) +\n",
    "    geom_boxplot(aes(color=measure_type)) +\n",
    "    scale_color_discrete('Measure') +\n",
    "    scale_fill_discrete('Tree') +\n",
    "    theme_bw() +\n",
    "    coord_flip()\n",
    "p.dims(5,5)\n",
    "plot(p)"
   ]
  },
  {
   "cell_type": "markdown",
   "metadata": {},
   "source": [
    "## glmnet"
   ]
  },
  {
   "cell_type": "code",
   "execution_count": null,
   "metadata": {
    "ExecuteTime": {
     "end_time": "2021-04-17T14:07:56.518285Z",
     "start_time": "2021-04-17T12:51:20.394Z"
    }
   },
   "outputs": [],
   "source": [
    "# creating mlr task\n",
    "tsk = makeRegrTask(data = normalizeFeatures(feats_f, target = target), \n",
    "                   target = target)\n",
    "tsk"
   ]
  },
  {
   "cell_type": "code",
   "execution_count": null,
   "metadata": {
    "ExecuteTime": {
     "end_time": "2021-04-17T14:07:56.520181Z",
     "start_time": "2021-04-17T12:51:20.399Z"
    }
   },
   "outputs": [],
   "source": [
    "## feature selection (wrapping the RF learner)\n",
    "lrn = makeLearner('regr.cvglmnet', alpha=0.5)\n",
    "lrn"
   ]
  },
  {
   "cell_type": "code",
   "execution_count": null,
   "metadata": {
    "ExecuteTime": {
     "end_time": "2021-04-17T14:07:56.524605Z",
     "start_time": "2021-04-17T12:51:20.403Z"
    }
   },
   "outputs": [],
   "source": [
    "## evaluation \n",
    "parallelStartMulticore(cpus=threads, level = 'mlr.resample')\n",
    "rs = makeResampleDesc('CV', iters = cv_iters)\n",
    "res = resample(lrn, tsk, \n",
    "               resampling = rs,  \n",
    "               models = TRUE,\n",
    "               measures = measures)\n",
    "parallelStop()"
   ]
  },
  {
   "cell_type": "markdown",
   "metadata": {},
   "source": [
    "### Peformance"
   ]
  },
  {
   "cell_type": "code",
   "execution_count": null,
   "metadata": {
    "ExecuteTime": {
     "end_time": "2021-04-17T14:07:56.526351Z",
     "start_time": "2021-04-17T12:51:20.408Z"
    }
   },
   "outputs": [],
   "source": [
    "df.dims(30)\n",
    "res$measures.test\n",
    "df.dims()"
   ]
  },
  {
   "cell_type": "code",
   "execution_count": null,
   "metadata": {
    "ExecuteTime": {
     "end_time": "2021-04-17T14:07:56.528941Z",
     "start_time": "2021-04-17T12:51:20.413Z"
    }
   },
   "outputs": [],
   "source": [
    "# summary\n",
    "res$measures.test$mse %>% summary_x('mse')\n",
    "res$measures.test$mae %>% summary_x('mae')\n",
    "res$measures.test$spearmanrho %>% summary_x('spearmanrho')"
   ]
  },
  {
   "cell_type": "markdown",
   "metadata": {},
   "source": [
    "# Performance summary"
   ]
  },
  {
   "cell_type": "code",
   "execution_count": 57,
   "metadata": {
    "ExecuteTime": {
     "end_time": "2021-04-18T05:22:00.674163Z",
     "start_time": "2021-04-18T05:19:23.870Z"
    }
   },
   "outputs": [
    {
     "data": {
      "text/html": [
       "<table class=\"dataframe\">\n",
       "<caption>A tidytable: 30 × 4</caption>\n",
       "<thead>\n",
       "\t<tr><th scope=col>iter</th><th scope=col>target</th><th scope=col>measure</th><th scope=col>value</th></tr>\n",
       "\t<tr><th scope=col>&lt;int&gt;</th><th scope=col>&lt;chr&gt;</th><th scope=col>&lt;chr&gt;</th><th scope=col>&lt;dbl&gt;</th></tr>\n",
       "</thead>\n",
       "<tbody>\n",
       "\t<tr><td>1</td><td>westernized</td><td>auc</td><td>0.9242321</td></tr>\n",
       "\t<tr><td>2</td><td>westernized</td><td>auc</td><td>0.9290885</td></tr>\n",
       "\t<tr><td>⋮</td><td>⋮</td><td>⋮</td><td>⋮</td></tr>\n",
       "\t<tr><td>4</td><td>disease</td><td>f1</td><td>0.5822785</td></tr>\n",
       "\t<tr><td>5</td><td>disease</td><td>f1</td><td>0.6055046</td></tr>\n",
       "</tbody>\n",
       "</table>\n"
      ],
      "text/latex": [
       "A tidytable: 30 × 4\n",
       "\\begin{tabular}{llll}\n",
       " iter & target & measure & value\\\\\n",
       " <int> & <chr> & <chr> & <dbl>\\\\\n",
       "\\hline\n",
       "\t 1 & westernized & auc & 0.9242321\\\\\n",
       "\t 2 & westernized & auc & 0.9290885\\\\\n",
       "\t ⋮ & ⋮ & ⋮ & ⋮\\\\\n",
       "\t 4 & disease & f1 & 0.5822785\\\\\n",
       "\t 5 & disease & f1 & 0.6055046\\\\\n",
       "\\end{tabular}\n"
      ],
      "text/markdown": [
       "\n",
       "A tidytable: 30 × 4\n",
       "\n",
       "| iter &lt;int&gt; | target &lt;chr&gt; | measure &lt;chr&gt; | value &lt;dbl&gt; |\n",
       "|---|---|---|---|\n",
       "| 1 | westernized | auc | 0.9242321 |\n",
       "| 2 | westernized | auc | 0.9290885 |\n",
       "| ⋮ | ⋮ | ⋮ | ⋮ |\n",
       "| 4 | disease | f1 | 0.5822785 |\n",
       "| 5 | disease | f1 | 0.6055046 |\n",
       "\n"
      ],
      "text/plain": [
       "   iter target      measure value    \n",
       "1  1    westernized auc     0.9242321\n",
       "2  2    westernized auc     0.9290885\n",
       "⋮  ⋮    ⋮           ⋮       ⋮        \n",
       "29 4    disease     f1      0.5822785\n",
       "30 5    disease     f1      0.6055046"
      ]
     },
     "metadata": {},
     "output_type": "display_data"
    }
   ],
   "source": [
    "# formatting\n",
    "perf_res_f = perf_res %>%\n",
    "    rbindlist(use.names=TRUE, idcol='dataset') %>%\n",
    "    separate.(dataset, c('target', 'model'), sep='_') %>%\n",
    "    filter.(model == 'RF') %>%\n",
    "    select.(iter, auc, f1, target) %>%\n",
    "    pivot_longer.(cols=c(auc, f1), names_to='measure', values_to='value') \n",
    "perf_res_f"
   ]
  },
  {
   "cell_type": "code",
   "execution_count": 58,
   "metadata": {
    "ExecuteTime": {
     "end_time": "2021-04-18T05:22:01.042514Z",
     "start_time": "2021-04-18T05:19:24.089Z"
    }
   },
   "outputs": [
    {
     "data": {
      "image/png": "[encoded data removed]",
      "text/plain": [
       "plot without title"
      ]
     },
     "metadata": {
      "image/png": {
       "height": 200,
       "width": 600
      }
     },
     "output_type": "display_data"
    }
   ],
   "source": [
    "# plotting\n",
    "p = perf_res_f %>%\n",
    "    mutate.(target = ifelse(target == 'disease', 'disease\\nstatus', target)) %>%\n",
    "    mutate.(measure = case_when.(measure == 'auc' ~ 'AUC',\n",
    "                                 measure == 'f1' ~ 'F1')) %>%\n",
    "    mutate.(mean_value = mean(value),\n",
    "            .by=c(target, measure)) %>%\n",
    "    mutate.(target = target %>% reorder(-mean_value)) %>%\n",
    "    ggplot(aes(target, value)) +\n",
    "    geom_boxplot() +\n",
    "    labs(x='Phenotype') +\n",
    "    facet_wrap(~ measure, scales='free_y') +\n",
    "    theme_bw() +\n",
    "    theme(\n",
    "        axis.title.x = element_text(vjust=4)\n",
    "    )\n",
    "p.dims(6,2)\n",
    "plot(p)"
   ]
  },
  {
   "cell_type": "markdown",
   "metadata": {},
   "source": [
    "#### Writing table"
   ]
  },
  {
   "cell_type": "code",
   "execution_count": 59,
   "metadata": {
    "ExecuteTime": {
     "end_time": "2021-04-18T05:22:01.059700Z",
     "start_time": "2021-04-18T05:19:24.263Z"
    }
   },
   "outputs": [
    {
     "name": "stdout",
     "output_type": "stream",
     "text": [
      "File written: /ebio/abt3_projects/databases_no-backup/curatedMetagenomicData/global_metagenomes/diversity/ML//alpha-div_ml_performance.tsv \n"
     ]
    }
   ],
   "source": [
    "F = file.path(work_dir, 'alpha-div_ml_performance.tsv')\n",
    "write_table(perf_res_f, F)"
   ]
  },
  {
   "cell_type": "markdown",
   "metadata": {},
   "source": [
    "# sessionInfo"
   ]
  },
  {
   "cell_type": "code",
   "execution_count": 60,
   "metadata": {
    "ExecuteTime": {
     "end_time": "2021-04-18T05:22:01.175833Z",
     "start_time": "2021-04-18T05:19:25.454Z"
    }
   },
   "outputs": [
    {
     "data": {
      "text/plain": [
       "R version 4.0.3 (2020-10-10)\n",
       "Platform: x86_64-conda-linux-gnu (64-bit)\n",
       "Running under: Ubuntu 18.04.5 LTS\n",
       "\n",
       "Matrix products: default\n",
       "BLAS/LAPACK: /ebio/abt3_projects/Anxiety_Twins_Metagenomes/envs/tidyverse-ML2/lib/libopenblasp-r0.3.12.so\n",
       "\n",
       "locale:\n",
       " [1] LC_CTYPE=en_US.UTF-8       LC_NUMERIC=C              \n",
       " [3] LC_TIME=en_US.UTF-8        LC_COLLATE=en_US.UTF-8    \n",
       " [5] LC_MONETARY=en_US.UTF-8    LC_MESSAGES=en_US.UTF-8   \n",
       " [7] LC_PAPER=en_US.UTF-8       LC_NAME=C                 \n",
       " [9] LC_ADDRESS=C               LC_TELEPHONE=C            \n",
       "[11] LC_MEASUREMENT=en_US.UTF-8 LC_IDENTIFICATION=C       \n",
       "\n",
       "attached base packages:\n",
       "[1] parallel  stats     graphics  grDevices utils     datasets  methods  \n",
       "[8] base     \n",
       "\n",
       "other attached packages:\n",
       " [1] parallelMap_1.5.0   randomForest_4.6-14 mlr_2.18.0         \n",
       " [4] ParamHelpers_1.14   Boruta_7.0.0        LeyLabRMisc_0.1.8  \n",
       " [7] doParallel_1.0.16   iterators_1.0.13    foreach_1.5.1      \n",
       "[10] tidytable_0.5.8     data.table_1.13.6   ggplot2_3.3.3      \n",
       "[13] tidyr_1.1.2         dplyr_1.0.4        \n",
       "\n",
       "loaded via a namespace (and not attached):\n",
       " [1] Rcpp_1.0.6          mvtnorm_1.1-1       lattice_0.20-41    \n",
       " [4] zoo_1.8-8           digest_0.6.27       IRdisplay_1.0      \n",
       " [7] plyr_1.8.6          R6_2.5.0            repr_1.1.3         \n",
       "[10] backports_1.2.1     stats4_4.0.3        evaluate_0.14      \n",
       "[13] pillar_1.4.7        rlang_0.4.10        multcomp_1.4-16    \n",
       "[16] uuid_0.1-4          Matrix_1.3-2        checkmate_2.0.0    \n",
       "[19] labeling_0.4.2      qs_0.23.6           splines_4.0.3      \n",
       "[22] munsell_0.5.0       compiler_4.0.3      pkgconfig_2.0.3    \n",
       "[25] base64enc_0.1-3     libcoin_1.0-8       BBmisc_1.11        \n",
       "[28] htmltools_0.5.1.1   tidyselect_1.1.0    tibble_3.0.6       \n",
       "[31] coin_1.4-1          codetools_0.2-18    matrixStats_0.58.0 \n",
       "[34] XML_3.99-0.5        crayon_1.4.1        withr_2.4.1        \n",
       "[37] MASS_7.3-53.1       grid_4.0.3          jsonlite_1.7.2     \n",
       "[40] gtable_0.3.0        lifecycle_0.2.0     magrittr_2.0.1     \n",
       "[43] scales_1.1.1        RcppParallel_5.1.2  stringi_1.5.3      \n",
       "[46] farver_2.0.3        strucchange_1.5-2   party_1.3-6        \n",
       "[49] ellipsis_0.3.1      generics_0.1.0      vctrs_0.3.6        \n",
       "[52] sandwich_3.0-0      fastmatch_1.1-0     IRkernel_1.1.1     \n",
       "[55] stringfish_0.14.2   TH.data_1.0-10      RApiSerialize_0.1.0\n",
       "[58] tools_4.0.3         glue_1.4.2          purrr_0.3.4        \n",
       "[61] survival_3.2-7      colorspace_2.0-0    pbdZMQ_0.3-5       \n",
       "[64] modeltools_0.2-23  "
      ]
     },
     "metadata": {},
     "output_type": "display_data"
    }
   ],
   "source": [
    "sessionInfo()"
   ]
  },
  {
   "cell_type": "code",
   "execution_count": null,
   "metadata": {},
   "outputs": [],
   "source": []
  }
 ],
 "metadata": {
  "kernelspec": {
   "display_name": "R [conda env:Anxiety_Twins_Metagenomes-tidyverse-ML2]",
   "language": "R",
   "name": "conda-env-Anxiety_Twins_Metagenomes-tidyverse-ML2-r"
  },
  "language_info": {
   "codemirror_mode": "r",
   "file_extension": ".r",
   "mimetype": "text/x-r-source",
   "name": "R",
   "pygments_lexer": "r",
   "version": "4.0.3"
  },
  "notify_time": "30",
  "toc": {
   "base_numbering": 1,
   "nav_menu": {},
   "number_sections": true,
   "sideBar": true,
   "skip_h1_title": false,
   "title_cell": "Table of Contents",
   "title_sidebar": "Contents",
   "toc_cell": true,
   "toc_position": {
    "height": "calc(100% - 180px)",
    "left": "10px",
    "top": "150px",
    "width": "288px"
   },
   "toc_section_display": true,
   "toc_window_display": true
  }
 },
 "nbformat": 4,
 "nbformat_minor": 4
}
