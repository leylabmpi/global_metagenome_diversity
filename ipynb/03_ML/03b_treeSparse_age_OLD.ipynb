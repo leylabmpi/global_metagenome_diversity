{
 "cells": [
  {
   "cell_type": "markdown",
   "metadata": {
    "toc": true
   },
   "source": [
    "<h1>Table of Contents<span class=\"tocSkip\"></span></h1>\n",
    "<div class=\"toc\"><ul class=\"toc-item\"><li><span><a href=\"#Goal\" data-toc-modified-id=\"Goal-1\"><span class=\"toc-item-num\">1&nbsp;&nbsp;</span>Goal</a></span></li><li><span><a href=\"#Var\" data-toc-modified-id=\"Var-2\"><span class=\"toc-item-num\">2&nbsp;&nbsp;</span>Var</a></span></li><li><span><a href=\"#Init\" data-toc-modified-id=\"Init-3\"><span class=\"toc-item-num\">3&nbsp;&nbsp;</span>Init</a></span></li><li><span><a href=\"#Load\" data-toc-modified-id=\"Load-4\"><span class=\"toc-item-num\">4&nbsp;&nbsp;</span>Load</a></span><ul class=\"toc-item\"><li><span><a href=\"#mu/sd-for-z-score-transformation\" data-toc-modified-id=\"mu/sd-for-z-score-transformation-4.1\"><span class=\"toc-item-num\">4.1&nbsp;&nbsp;</span>mu/sd for z-score transformation</a></span></li></ul></li><li><span><a href=\"#Train/Test-split\" data-toc-modified-id=\"Train/Test-split-5\"><span class=\"toc-item-num\">5&nbsp;&nbsp;</span>Train/Test split</a></span></li><li><span><a href=\"#Writing\" data-toc-modified-id=\"Writing-6\"><span class=\"toc-item-num\">6&nbsp;&nbsp;</span>Writing</a></span><ul class=\"toc-item\"><li><span><a href=\"#Train/test\" data-toc-modified-id=\"Train/test-6.1\"><span class=\"toc-item-num\">6.1&nbsp;&nbsp;</span>Train/test</a></span></li></ul></li><li><span><a href=\"#hyperparameter-search\" data-toc-modified-id=\"hyperparameter-search-7\"><span class=\"toc-item-num\">7&nbsp;&nbsp;</span>hyperparameter search</a></span><ul class=\"toc-item\"><li><span><a href=\"#genome_phy\" data-toc-modified-id=\"genome_phy-7.1\"><span class=\"toc-item-num\">7.1&nbsp;&nbsp;</span>genome_phy</a></span><ul class=\"toc-item\"><li><span><a href=\"#Config\" data-toc-modified-id=\"Config-7.1.1\"><span class=\"toc-item-num\">7.1.1&nbsp;&nbsp;</span>Config</a></span></li><li><span><a href=\"#Run\" data-toc-modified-id=\"Run-7.1.2\"><span class=\"toc-item-num\">7.1.2&nbsp;&nbsp;</span>Run</a></span></li></ul></li><li><span><a href=\"#no_phy\" data-toc-modified-id=\"no_phy-7.2\"><span class=\"toc-item-num\">7.2&nbsp;&nbsp;</span>no_phy</a></span><ul class=\"toc-item\"><li><span><a href=\"#Config\" data-toc-modified-id=\"Config-7.2.1\"><span class=\"toc-item-num\">7.2.1&nbsp;&nbsp;</span>Config</a></span></li><li><span><a href=\"#Run\" data-toc-modified-id=\"Run-7.2.2\"><span class=\"toc-item-num\">7.2.2&nbsp;&nbsp;</span>Run</a></span></li></ul></li><li><span><a href=\"#random_phy\" data-toc-modified-id=\"random_phy-7.3\"><span class=\"toc-item-num\">7.3&nbsp;&nbsp;</span>random_phy</a></span><ul class=\"toc-item\"><li><span><a href=\"#Config\" data-toc-modified-id=\"Config-7.3.1\"><span class=\"toc-item-num\">7.3.1&nbsp;&nbsp;</span>Config</a></span></li><li><span><a href=\"#Run\" data-toc-modified-id=\"Run-7.3.2\"><span class=\"toc-item-num\">7.3.2&nbsp;&nbsp;</span>Run</a></span></li></ul></li></ul></li><li><span><a href=\"#Summary-of-all\" data-toc-modified-id=\"Summary-of-all-8\"><span class=\"toc-item-num\">8&nbsp;&nbsp;</span>Summary of all</a></span></li><li><span><a href=\"#TADA-data-augmentation\" data-toc-modified-id=\"TADA-data-augmentation-9\"><span class=\"toc-item-num\">9&nbsp;&nbsp;</span>TADA data augmentation</a></span></li></ul></div>"
   ]
  },
  {
   "cell_type": "markdown",
   "metadata": {},
   "source": [
    "# Goal\n",
    "\n",
    "* dataset generation for treeSparse algorithm\n",
    "* target: regression"
   ]
  },
  {
   "cell_type": "markdown",
   "metadata": {},
   "source": [
    "# Var"
   ]
  },
  {
   "cell_type": "code",
   "execution_count": 115,
   "metadata": {
    "ExecuteTime": {
     "end_time": "2021-01-07T12:53:18.352652Z",
     "start_time": "2021-01-07T12:53:18.220Z"
    }
   },
   "outputs": [],
   "source": [
    "# working dir\n",
    "work_dir = '/ebio/abt3_projects/databases_no-backup/curatedMetagenomicData/global_metagenomes/ML/'\n",
    "\n",
    "# bracken counts\n",
    "brk_file = '/ebio/abt3_projects/databases_no-backup/curatedMetagenomicData/global_metagenomes/diversity/bracken_filt.qs'\n",
    "\n",
    "# metadata\n",
    "## filtered\n",
    "metadata_filt_file = file.path(work_dir, 'CurMetDat_metadata_filt-n1846.tsv')\n",
    "## all \n",
    "base_in_dir = '/ebio/abt3_projects/small_projects/nyoungblut/public_data_retireval/'\n",
    "metadata_file = file.path(base_in_dir, 'CurMetDat-metagenomes', 'files', 'metadata', 'Filtered_CurMetDat_f.tsv')\n",
    "\n",
    "# trees\n",
    "## GTDB genome phylogeny\n",
    "phy_file = '/ebio/abt3_projects/databases_no-backup/GTDB/release89/LLMGP-DB/phylogeny/ar122-bac120_r89_1per-GTDB-Spec_gte50comp-lt5cont_rn.nwk'\n",
    "## Trait \n",
    "phy_trt_file = '/ebio/abt3_projects/databases_no-backup/GTDB/release89/LLMGP-DB/genomes/LLG/phenotype/predictions_flat_majority-votes_combined_jaccard_rn.nwk'\n",
    "## COG content\n",
    "phy_cog_file = '/ebio/abt3_projects/databases_no-backup/GTDB/release89/LLMGP-DB/genomes/LLG/phenotype/genes-per-COG_bray.nwk'\n",
    "phy_cogcat_file = '/ebio/abt3_projects/databases_no-backup/GTDB/release89/LLMGP-DB/genomes/LLG/phenotype/genes-per-COGcat_bray.nwk'\n",
    "## pfam content\n",
    "phy_pfam_file = '/ebio/abt3_projects/databases_no-backup/GTDB/release89/LLMGP-DB/genomes/LLG/phenotype/genes-per-pfam_bray.nwk'\n",
    "phy_pfamcat_file = '/ebio/abt3_projects/databases_no-backup/GTDB/release89/LLMGP-DB/genomes/LLG/phenotype/genes-per-pfamGrp_bray.nwk'\n",
    "\n",
    "# params\n",
    "threads = 8"
   ]
  },
  {
   "cell_type": "markdown",
   "metadata": {},
   "source": [
    "# Init"
   ]
  },
  {
   "cell_type": "code",
   "execution_count": 116,
   "metadata": {
    "ExecuteTime": {
     "end_time": "2021-01-07T12:53:18.535980Z",
     "start_time": "2021-01-07T12:53:18.495Z"
    }
   },
   "outputs": [],
   "source": [
    "library(dplyr)\n",
    "library(tidyr)\n",
    "library(ggplot2)\n",
    "library(data.table)\n",
    "library(tidytable)\n",
    "library(ape)\n",
    "library(LeyLabRMisc)"
   ]
  },
  {
   "cell_type": "code",
   "execution_count": 117,
   "metadata": {
    "ExecuteTime": {
     "end_time": "2021-01-07T12:53:18.662180Z",
     "start_time": "2021-01-07T12:53:18.633Z"
    }
   },
   "outputs": [
    {
     "name": "stdout",
     "output_type": "stream",
     "text": [
      "Directory already exists: /ebio/abt3_projects/databases_no-backup/curatedMetagenomicData/global_metagenomes/ML/ \n"
     ]
    }
   ],
   "source": [
    "make_dir(work_dir)\n",
    "setDTthreads(threads)\n",
    "df.dims()"
   ]
  },
  {
   "cell_type": "markdown",
   "metadata": {},
   "source": [
    "# Load"
   ]
  },
  {
   "cell_type": "code",
   "execution_count": 118,
   "metadata": {
    "ExecuteTime": {
     "end_time": "2021-01-07T12:53:19.855783Z",
     "start_time": "2021-01-07T12:53:19.743Z"
    }
   },
   "outputs": [
    {
     "name": "stdout",
     "output_type": "stream",
     "text": [
      "No. of unique Samples: 2094 \n"
     ]
    },
    {
     "data": {
      "text/html": [
       "<table>\n",
       "<caption>A data.table: 2094 × 9</caption>\n",
       "<thead>\n",
       "\t<tr><th scope=col>Sample</th><th scope=col>dataset_name</th><th scope=col>subjectID</th><th scope=col>study_condition</th><th scope=col>disease</th><th scope=col>age</th><th scope=col>gender</th><th scope=col>BMI</th><th scope=col>westernized</th></tr>\n",
       "\t<tr><th scope=col>&lt;chr&gt;</th><th scope=col>&lt;chr&gt;</th><th scope=col>&lt;chr&gt;</th><th scope=col>&lt;chr&gt;</th><th scope=col>&lt;chr&gt;</th><th scope=col>&lt;int&gt;</th><th scope=col>&lt;chr&gt;</th><th scope=col>&lt;dbl&gt;</th><th scope=col>&lt;lgl&gt;</th></tr>\n",
       "</thead>\n",
       "<tbody>\n",
       "\t<tr><td>TRAVELRES1 </td><td>Bengtsson-PalmeJ_2015</td><td>TRAVELRES1_2 </td><td>control</td><td>healthy</td><td>25</td><td>female</td><td>NA</td><td>TRUE</td></tr>\n",
       "\t<tr><td>TRAVELRES10</td><td>Bengtsson-PalmeJ_2015</td><td>TRAVELRES9_10</td><td>control</td><td>healthy</td><td>34</td><td>female</td><td>NA</td><td>TRUE</td></tr>\n",
       "\t<tr><td>⋮</td><td>⋮</td><td>⋮</td><td>⋮</td><td>⋮</td><td>⋮</td><td>⋮</td><td>⋮</td><td>⋮</td></tr>\n",
       "\t<tr><td>CCIS82944710ST.20.0</td><td>ZellerG_2014</td><td>FR-730</td><td>control</td><td>healthy</td><td>38</td><td>female</td><td>22</td><td>TRUE</td></tr>\n",
       "\t<tr><td>CCIS93040568ST.20.0</td><td>ZellerG_2014</td><td>FR-682</td><td>control</td><td>healthy</td><td>65</td><td>male  </td><td>30</td><td>TRUE</td></tr>\n",
       "</tbody>\n",
       "</table>\n"
      ],
      "text/latex": [
       "A data.table: 2094 × 9\n",
       "\\begin{tabular}{lllllllll}\n",
       " Sample & dataset\\_name & subjectID & study\\_condition & disease & age & gender & BMI & westernized\\\\\n",
       " <chr> & <chr> & <chr> & <chr> & <chr> & <int> & <chr> & <dbl> & <lgl>\\\\\n",
       "\\hline\n",
       "\t TRAVELRES1  & Bengtsson-PalmeJ\\_2015 & TRAVELRES1\\_2  & control & healthy & 25 & female & NA & TRUE\\\\\n",
       "\t TRAVELRES10 & Bengtsson-PalmeJ\\_2015 & TRAVELRES9\\_10 & control & healthy & 34 & female & NA & TRUE\\\\\n",
       "\t ⋮ & ⋮ & ⋮ & ⋮ & ⋮ & ⋮ & ⋮ & ⋮ & ⋮\\\\\n",
       "\t CCIS82944710ST.20.0 & ZellerG\\_2014 & FR-730 & control & healthy & 38 & female & 22 & TRUE\\\\\n",
       "\t CCIS93040568ST.20.0 & ZellerG\\_2014 & FR-682 & control & healthy & 65 & male   & 30 & TRUE\\\\\n",
       "\\end{tabular}\n"
      ],
      "text/markdown": [
       "\n",
       "A data.table: 2094 × 9\n",
       "\n",
       "| Sample &lt;chr&gt; | dataset_name &lt;chr&gt; | subjectID &lt;chr&gt; | study_condition &lt;chr&gt; | disease &lt;chr&gt; | age &lt;int&gt; | gender &lt;chr&gt; | BMI &lt;dbl&gt; | westernized &lt;lgl&gt; |\n",
       "|---|---|---|---|---|---|---|---|---|\n",
       "| TRAVELRES1  | Bengtsson-PalmeJ_2015 | TRAVELRES1_2  | control | healthy | 25 | female | NA | TRUE |\n",
       "| TRAVELRES10 | Bengtsson-PalmeJ_2015 | TRAVELRES9_10 | control | healthy | 34 | female | NA | TRUE |\n",
       "| ⋮ | ⋮ | ⋮ | ⋮ | ⋮ | ⋮ | ⋮ | ⋮ | ⋮ |\n",
       "| CCIS82944710ST.20.0 | ZellerG_2014 | FR-730 | control | healthy | 38 | female | 22 | TRUE |\n",
       "| CCIS93040568ST.20.0 | ZellerG_2014 | FR-682 | control | healthy | 65 | male   | 30 | TRUE |\n",
       "\n"
      ],
      "text/plain": [
       "     Sample              dataset_name          subjectID     study_condition\n",
       "1    TRAVELRES1          Bengtsson-PalmeJ_2015 TRAVELRES1_2  control        \n",
       "2    TRAVELRES10         Bengtsson-PalmeJ_2015 TRAVELRES9_10 control        \n",
       "⋮    ⋮                   ⋮                     ⋮             ⋮              \n",
       "2093 CCIS82944710ST.20.0 ZellerG_2014          FR-730        control        \n",
       "2094 CCIS93040568ST.20.0 ZellerG_2014          FR-682        control        \n",
       "     disease age gender BMI westernized\n",
       "1    healthy 25  female NA  TRUE       \n",
       "2    healthy 34  female NA  TRUE       \n",
       "⋮    ⋮       ⋮   ⋮      ⋮   ⋮          \n",
       "2093 healthy 38  female 22  TRUE       \n",
       "2094 healthy 65  male   30  TRUE       "
      ]
     },
     "metadata": {},
     "output_type": "display_data"
    }
   ],
   "source": [
    "# all \n",
    "meta = fread(metadata_file, sep='\\t', check.names=TRUE) %>%\n",
    "    mutate.(Sample = gsub('-', '.', Sample)) %>%\n",
    "    filter.(number_reads >= 5e5) %>%\n",
    "    select.(Sample, dataset_name, subjectID, study_condition, \n",
    "            disease, age, gender, BMI, westernized) %>%\n",
    "    filter.(!is.na(age))\n",
    "\n",
    "meta %>% unique_n('Samples', Sample)\n",
    "meta"
   ]
  },
  {
   "cell_type": "code",
   "execution_count": 119,
   "metadata": {
    "ExecuteTime": {
     "end_time": "2021-01-07T12:53:31.210500Z",
     "start_time": "2021-01-07T12:53:19.890Z"
    }
   },
   "outputs": [
    {
     "name": "stdout",
     "output_type": "stream",
     "text": [
      "No. of unique Species: 3195 \n",
      "No. of unique Samples: 1929 \n"
     ]
    },
    {
     "data": {
      "text/html": [
       "<table>\n",
       "<caption>A data.table: 2831375 × 13</caption>\n",
       "<thead>\n",
       "\t<tr><th scope=col>dataset</th><th scope=col>name</th><th scope=col>taxonomy_id</th><th scope=col>taxonomy_lvl</th><th scope=col>Domain</th><th scope=col>Phylum</th><th scope=col>Class</th><th scope=col>Order</th><th scope=col>Family</th><th scope=col>Genus</th><th scope=col>Species</th><th scope=col>Sample</th><th scope=col>Abundance</th></tr>\n",
       "\t<tr><th scope=col>&lt;chr&gt;</th><th scope=col>&lt;chr&gt;</th><th scope=col>&lt;int&gt;</th><th scope=col>&lt;chr&gt;</th><th scope=col>&lt;chr&gt;</th><th scope=col>&lt;chr&gt;</th><th scope=col>&lt;chr&gt;</th><th scope=col>&lt;chr&gt;</th><th scope=col>&lt;chr&gt;</th><th scope=col>&lt;chr&gt;</th><th scope=col>&lt;chr&gt;</th><th scope=col>&lt;chr&gt;</th><th scope=col>&lt;dbl&gt;</th></tr>\n",
       "</thead>\n",
       "<tbody>\n",
       "\t<tr><td>CosteaPI_2017</td><td>s__Caecibacter_massiliensis</td><td>108259</td><td>S</td><td>Bacteria</td><td>Firmicutes_C</td><td>Negativicutes</td><td>Veillonellales </td><td>Megasphaeraceae </td><td>Caecibacter</td><td>Caecibacter massiliensis</td><td>SID713A004.11.0.0</td><td>0</td></tr>\n",
       "\t<tr><td>CosteaPI_2017</td><td>s__UBA1777_sp002350825     </td><td>178550</td><td>S</td><td>Bacteria</td><td>Firmicutes_A</td><td>Clostridia   </td><td>Oscillospirales</td><td>Oscillospiraceae</td><td>UBA1777    </td><td>UBA1777 sp002350825     </td><td>SID713A004.11.0.0</td><td>0</td></tr>\n",
       "\t<tr><td>⋮</td><td>⋮</td><td>⋮</td><td>⋮</td><td>⋮</td><td>⋮</td><td>⋮</td><td>⋮</td><td>⋮</td><td>⋮</td><td>⋮</td><td>⋮</td><td>⋮</td></tr>\n",
       "\t<tr><td>XieH_2016</td><td>s__Nitrosoglobus_terrae       </td><td>180746</td><td>S</td><td>Bacteria</td><td>Proteobacteria  </td><td>Gammaproteobacteria</td><td>Nitrosococcales </td><td>Nitrosococcaceae</td><td>Nitrosoglobus </td><td>Nitrosoglobus terrae       </td><td>YSZC12003_37880</td><td>0</td></tr>\n",
       "\t<tr><td>XieH_2016</td><td>s__Phoenicibacter_massiliensis</td><td>180197</td><td>S</td><td>Bacteria</td><td>Actinobacteriota</td><td>Coriobacteriia     </td><td>Coriobacteriales</td><td>Eggerthellaceae </td><td>Phoenicibacter</td><td>Phoenicibacter massiliensis</td><td>YSZC12003_37880</td><td>0</td></tr>\n",
       "</tbody>\n",
       "</table>\n"
      ],
      "text/latex": [
       "A data.table: 2831375 × 13\n",
       "\\begin{tabular}{lllllllllllll}\n",
       " dataset & name & taxonomy\\_id & taxonomy\\_lvl & Domain & Phylum & Class & Order & Family & Genus & Species & Sample & Abundance\\\\\n",
       " <chr> & <chr> & <int> & <chr> & <chr> & <chr> & <chr> & <chr> & <chr> & <chr> & <chr> & <chr> & <dbl>\\\\\n",
       "\\hline\n",
       "\t CosteaPI\\_2017 & s\\_\\_Caecibacter\\_massiliensis & 108259 & S & Bacteria & Firmicutes\\_C & Negativicutes & Veillonellales  & Megasphaeraceae  & Caecibacter & Caecibacter massiliensis & SID713A004.11.0.0 & 0\\\\\n",
       "\t CosteaPI\\_2017 & s\\_\\_UBA1777\\_sp002350825      & 178550 & S & Bacteria & Firmicutes\\_A & Clostridia    & Oscillospirales & Oscillospiraceae & UBA1777     & UBA1777 sp002350825      & SID713A004.11.0.0 & 0\\\\\n",
       "\t ⋮ & ⋮ & ⋮ & ⋮ & ⋮ & ⋮ & ⋮ & ⋮ & ⋮ & ⋮ & ⋮ & ⋮ & ⋮\\\\\n",
       "\t XieH\\_2016 & s\\_\\_Nitrosoglobus\\_terrae        & 180746 & S & Bacteria & Proteobacteria   & Gammaproteobacteria & Nitrosococcales  & Nitrosococcaceae & Nitrosoglobus  & Nitrosoglobus terrae        & YSZC12003\\_37880 & 0\\\\\n",
       "\t XieH\\_2016 & s\\_\\_Phoenicibacter\\_massiliensis & 180197 & S & Bacteria & Actinobacteriota & Coriobacteriia      & Coriobacteriales & Eggerthellaceae  & Phoenicibacter & Phoenicibacter massiliensis & YSZC12003\\_37880 & 0\\\\\n",
       "\\end{tabular}\n"
      ],
      "text/markdown": [
       "\n",
       "A data.table: 2831375 × 13\n",
       "\n",
       "| dataset &lt;chr&gt; | name &lt;chr&gt; | taxonomy_id &lt;int&gt; | taxonomy_lvl &lt;chr&gt; | Domain &lt;chr&gt; | Phylum &lt;chr&gt; | Class &lt;chr&gt; | Order &lt;chr&gt; | Family &lt;chr&gt; | Genus &lt;chr&gt; | Species &lt;chr&gt; | Sample &lt;chr&gt; | Abundance &lt;dbl&gt; |\n",
       "|---|---|---|---|---|---|---|---|---|---|---|---|---|\n",
       "| CosteaPI_2017 | s__Caecibacter_massiliensis | 108259 | S | Bacteria | Firmicutes_C | Negativicutes | Veillonellales  | Megasphaeraceae  | Caecibacter | Caecibacter massiliensis | SID713A004.11.0.0 | 0 |\n",
       "| CosteaPI_2017 | s__UBA1777_sp002350825      | 178550 | S | Bacteria | Firmicutes_A | Clostridia    | Oscillospirales | Oscillospiraceae | UBA1777     | UBA1777 sp002350825      | SID713A004.11.0.0 | 0 |\n",
       "| ⋮ | ⋮ | ⋮ | ⋮ | ⋮ | ⋮ | ⋮ | ⋮ | ⋮ | ⋮ | ⋮ | ⋮ | ⋮ |\n",
       "| XieH_2016 | s__Nitrosoglobus_terrae        | 180746 | S | Bacteria | Proteobacteria   | Gammaproteobacteria | Nitrosococcales  | Nitrosococcaceae | Nitrosoglobus  | Nitrosoglobus terrae        | YSZC12003_37880 | 0 |\n",
       "| XieH_2016 | s__Phoenicibacter_massiliensis | 180197 | S | Bacteria | Actinobacteriota | Coriobacteriia      | Coriobacteriales | Eggerthellaceae  | Phoenicibacter | Phoenicibacter massiliensis | YSZC12003_37880 | 0 |\n",
       "\n"
      ],
      "text/plain": [
       "        dataset       name                           taxonomy_id taxonomy_lvl\n",
       "1       CosteaPI_2017 s__Caecibacter_massiliensis    108259      S           \n",
       "2       CosteaPI_2017 s__UBA1777_sp002350825         178550      S           \n",
       "⋮       ⋮             ⋮                              ⋮           ⋮           \n",
       "2831374 XieH_2016     s__Nitrosoglobus_terrae        180746      S           \n",
       "2831375 XieH_2016     s__Phoenicibacter_massiliensis 180197      S           \n",
       "        Domain   Phylum           Class               Order           \n",
       "1       Bacteria Firmicutes_C     Negativicutes       Veillonellales  \n",
       "2       Bacteria Firmicutes_A     Clostridia          Oscillospirales \n",
       "⋮       ⋮        ⋮                ⋮                   ⋮               \n",
       "2831374 Bacteria Proteobacteria   Gammaproteobacteria Nitrosococcales \n",
       "2831375 Bacteria Actinobacteriota Coriobacteriia      Coriobacteriales\n",
       "        Family           Genus          Species                    \n",
       "1       Megasphaeraceae  Caecibacter    Caecibacter massiliensis   \n",
       "2       Oscillospiraceae UBA1777        UBA1777 sp002350825        \n",
       "⋮       ⋮                ⋮              ⋮                          \n",
       "2831374 Nitrosococcaceae Nitrosoglobus  Nitrosoglobus terrae       \n",
       "2831375 Eggerthellaceae  Phoenicibacter Phoenicibacter massiliensis\n",
       "        Sample            Abundance\n",
       "1       SID713A004.11.0.0 0        \n",
       "2       SID713A004.11.0.0 0        \n",
       "⋮       ⋮                 ⋮        \n",
       "2831374 YSZC12003_37880   0        \n",
       "2831375 YSZC12003_37880   0        "
      ]
     },
     "metadata": {},
     "output_type": "display_data"
    }
   ],
   "source": [
    "# Bracken count table\n",
    "brk = qs::qread(brk_file, nthreads=threads) %>%\n",
    "    mutate.(name = gsub(' ', '_', name)) %>%\n",
    "    filter.(Sample %in% meta$Sample)\n",
    "brk %>% unique_n('Species', name)\n",
    "brk %>% unique_n('Samples', Sample)\n",
    "brk "
   ]
  },
  {
   "cell_type": "code",
   "execution_count": 120,
   "metadata": {
    "ExecuteTime": {
     "end_time": "2021-01-07T12:53:31.654333Z",
     "start_time": "2021-01-07T12:53:20.817Z"
    }
   },
   "outputs": [
    {
     "name": "stdout",
     "output_type": "stream",
     "text": [
      "No. of unique Species: 306 \n",
      "No. of unique Samples: 1929 \n"
     ]
    },
    {
     "data": {
      "text/html": [
       "<table>\n",
       "<caption>A data.table: 572522 × 13</caption>\n",
       "<thead>\n",
       "\t<tr><th scope=col>dataset</th><th scope=col>name</th><th scope=col>taxonomy_id</th><th scope=col>taxonomy_lvl</th><th scope=col>Domain</th><th scope=col>Phylum</th><th scope=col>Class</th><th scope=col>Order</th><th scope=col>Family</th><th scope=col>Genus</th><th scope=col>Species</th><th scope=col>Sample</th><th scope=col>Abundance</th></tr>\n",
       "\t<tr><th scope=col>&lt;chr&gt;</th><th scope=col>&lt;chr&gt;</th><th scope=col>&lt;int&gt;</th><th scope=col>&lt;chr&gt;</th><th scope=col>&lt;chr&gt;</th><th scope=col>&lt;chr&gt;</th><th scope=col>&lt;chr&gt;</th><th scope=col>&lt;chr&gt;</th><th scope=col>&lt;chr&gt;</th><th scope=col>&lt;chr&gt;</th><th scope=col>&lt;chr&gt;</th><th scope=col>&lt;chr&gt;</th><th scope=col>&lt;dbl&gt;</th></tr>\n",
       "</thead>\n",
       "<tbody>\n",
       "\t<tr><td>CosteaPI_2017</td><td>s__Eubacterium_G_ventriosum</td><td>141784</td><td>S</td><td>Bacteria</td><td>Firmicutes_A</td><td>Clostridia </td><td>Lachnospirales</td><td>Lachnospiraceae</td><td>Eubacterium_G</td><td>Eubacterium_G ventriosum</td><td>SID713A004.11.0.0</td><td>0.00028</td></tr>\n",
       "\t<tr><td>CosteaPI_2017</td><td>s__Prevotella_sp000436035  </td><td>150829</td><td>S</td><td>Bacteria</td><td>Bacteroidota</td><td>Bacteroidia</td><td>Bacteroidales </td><td>Bacteroidaceae </td><td>Prevotella   </td><td>Prevotella sp000436035  </td><td>SID713A004.11.0.0</td><td>0.00305</td></tr>\n",
       "\t<tr><td>⋮</td><td>⋮</td><td>⋮</td><td>⋮</td><td>⋮</td><td>⋮</td><td>⋮</td><td>⋮</td><td>⋮</td><td>⋮</td><td>⋮</td><td>⋮</td><td>⋮</td></tr>\n",
       "\t<tr><td>XieH_2016</td><td>s__Phascolarctobacterium_faecium</td><td>130319</td><td>S</td><td>Bacteria</td><td>Firmicutes_C</td><td>Negativicutes</td><td>Acidaminococcales</td><td>Acidaminococcaceae</td><td>Phascolarctobacterium</td><td>Phascolarctobacterium faecium</td><td>YSZC12003_37880</td><td>0.00000</td></tr>\n",
       "\t<tr><td>XieH_2016</td><td>s__Bacteroides_B_dorei          </td><td>105537</td><td>S</td><td>Bacteria</td><td>Bacteroidota</td><td>Bacteroidia  </td><td>Bacteroidales    </td><td>Bacteroidaceae    </td><td>Bacteroides_B        </td><td>Bacteroides_B dorei          </td><td>YSZC12003_37880</td><td>0.01331</td></tr>\n",
       "</tbody>\n",
       "</table>\n"
      ],
      "text/latex": [
       "A data.table: 572522 × 13\n",
       "\\begin{tabular}{lllllllllllll}\n",
       " dataset & name & taxonomy\\_id & taxonomy\\_lvl & Domain & Phylum & Class & Order & Family & Genus & Species & Sample & Abundance\\\\\n",
       " <chr> & <chr> & <int> & <chr> & <chr> & <chr> & <chr> & <chr> & <chr> & <chr> & <chr> & <chr> & <dbl>\\\\\n",
       "\\hline\n",
       "\t CosteaPI\\_2017 & s\\_\\_Eubacterium\\_G\\_ventriosum & 141784 & S & Bacteria & Firmicutes\\_A & Clostridia  & Lachnospirales & Lachnospiraceae & Eubacterium\\_G & Eubacterium\\_G ventriosum & SID713A004.11.0.0 & 0.00028\\\\\n",
       "\t CosteaPI\\_2017 & s\\_\\_Prevotella\\_sp000436035   & 150829 & S & Bacteria & Bacteroidota & Bacteroidia & Bacteroidales  & Bacteroidaceae  & Prevotella    & Prevotella sp000436035   & SID713A004.11.0.0 & 0.00305\\\\\n",
       "\t ⋮ & ⋮ & ⋮ & ⋮ & ⋮ & ⋮ & ⋮ & ⋮ & ⋮ & ⋮ & ⋮ & ⋮ & ⋮\\\\\n",
       "\t XieH\\_2016 & s\\_\\_Phascolarctobacterium\\_faecium & 130319 & S & Bacteria & Firmicutes\\_C & Negativicutes & Acidaminococcales & Acidaminococcaceae & Phascolarctobacterium & Phascolarctobacterium faecium & YSZC12003\\_37880 & 0.00000\\\\\n",
       "\t XieH\\_2016 & s\\_\\_Bacteroides\\_B\\_dorei           & 105537 & S & Bacteria & Bacteroidota & Bacteroidia   & Bacteroidales     & Bacteroidaceae     & Bacteroides\\_B         & Bacteroides\\_B dorei           & YSZC12003\\_37880 & 0.01331\\\\\n",
       "\\end{tabular}\n"
      ],
      "text/markdown": [
       "\n",
       "A data.table: 572522 × 13\n",
       "\n",
       "| dataset &lt;chr&gt; | name &lt;chr&gt; | taxonomy_id &lt;int&gt; | taxonomy_lvl &lt;chr&gt; | Domain &lt;chr&gt; | Phylum &lt;chr&gt; | Class &lt;chr&gt; | Order &lt;chr&gt; | Family &lt;chr&gt; | Genus &lt;chr&gt; | Species &lt;chr&gt; | Sample &lt;chr&gt; | Abundance &lt;dbl&gt; |\n",
       "|---|---|---|---|---|---|---|---|---|---|---|---|---|\n",
       "| CosteaPI_2017 | s__Eubacterium_G_ventriosum | 141784 | S | Bacteria | Firmicutes_A | Clostridia  | Lachnospirales | Lachnospiraceae | Eubacterium_G | Eubacterium_G ventriosum | SID713A004.11.0.0 | 0.00028 |\n",
       "| CosteaPI_2017 | s__Prevotella_sp000436035   | 150829 | S | Bacteria | Bacteroidota | Bacteroidia | Bacteroidales  | Bacteroidaceae  | Prevotella    | Prevotella sp000436035   | SID713A004.11.0.0 | 0.00305 |\n",
       "| ⋮ | ⋮ | ⋮ | ⋮ | ⋮ | ⋮ | ⋮ | ⋮ | ⋮ | ⋮ | ⋮ | ⋮ | ⋮ |\n",
       "| XieH_2016 | s__Phascolarctobacterium_faecium | 130319 | S | Bacteria | Firmicutes_C | Negativicutes | Acidaminococcales | Acidaminococcaceae | Phascolarctobacterium | Phascolarctobacterium faecium | YSZC12003_37880 | 0.00000 |\n",
       "| XieH_2016 | s__Bacteroides_B_dorei           | 105537 | S | Bacteria | Bacteroidota | Bacteroidia   | Bacteroidales     | Bacteroidaceae     | Bacteroides_B         | Bacteroides_B dorei           | YSZC12003_37880 | 0.01331 |\n",
       "\n"
      ],
      "text/plain": [
       "       dataset       name                             taxonomy_id taxonomy_lvl\n",
       "1      CosteaPI_2017 s__Eubacterium_G_ventriosum      141784      S           \n",
       "2      CosteaPI_2017 s__Prevotella_sp000436035        150829      S           \n",
       "⋮      ⋮             ⋮                                ⋮           ⋮           \n",
       "572521 XieH_2016     s__Phascolarctobacterium_faecium 130319      S           \n",
       "572522 XieH_2016     s__Bacteroides_B_dorei           105537      S           \n",
       "       Domain   Phylum       Class         Order             Family            \n",
       "1      Bacteria Firmicutes_A Clostridia    Lachnospirales    Lachnospiraceae   \n",
       "2      Bacteria Bacteroidota Bacteroidia   Bacteroidales     Bacteroidaceae    \n",
       "⋮      ⋮        ⋮            ⋮             ⋮                 ⋮                 \n",
       "572521 Bacteria Firmicutes_C Negativicutes Acidaminococcales Acidaminococcaceae\n",
       "572522 Bacteria Bacteroidota Bacteroidia   Bacteroidales     Bacteroidaceae    \n",
       "       Genus                 Species                       Sample           \n",
       "1      Eubacterium_G         Eubacterium_G ventriosum      SID713A004.11.0.0\n",
       "2      Prevotella            Prevotella sp000436035        SID713A004.11.0.0\n",
       "⋮      ⋮                     ⋮                             ⋮                \n",
       "572521 Phascolarctobacterium Phascolarctobacterium faecium YSZC12003_37880  \n",
       "572522 Bacteroides_B         Bacteroides_B dorei           YSZC12003_37880  \n",
       "       Abundance\n",
       "1      0.00028  \n",
       "2      0.00305  \n",
       "⋮      ⋮        \n",
       "572521 0.00000  \n",
       "572522 0.01331  "
      ]
     },
     "metadata": {},
     "output_type": "display_data"
    }
   ],
   "source": [
    "# abundance filtering\n",
    "min_abund = 0.0005\n",
    "#min_abund = 0.000001\n",
    "brk = brk %>%\n",
    "    mutate.(mean_abund = mean(Abundance), by=c(name)) %>%\n",
    "    filter.(mean_abund > min_abund) %>%\n",
    "    mutate.(n_taxa = sum(Abundance > 0), by=c(Sample)) %>%\n",
    "    filter.(n_taxa > 0) %>%\n",
    "    select.(-mean_abund, -n_taxa)\n",
    "brk %>% unique_n('Species', name)\n",
    "brk %>% unique_n('Samples', Sample)\n",
    "brk"
   ]
  },
  {
   "cell_type": "code",
   "execution_count": 121,
   "metadata": {
    "ExecuteTime": {
     "end_time": "2021-01-07T12:53:31.977595Z",
     "start_time": "2021-01-07T12:53:21.722Z"
    }
   },
   "outputs": [
    {
     "data": {
      "text/html": [
       "<table>\n",
       "<caption>A data.frame: 1929 × 306</caption>\n",
       "<thead>\n",
       "\t<tr><th></th><th scope=col>s__Acetatifactor_sp900066365</th><th scope=col>s__Acetatifactor_sp900066565</th><th scope=col>s__Adlercreutzia_equolifaciens</th><th scope=col>s__Agathobacter_faecis</th><th scope=col>s__Agathobacter_rectale</th><th scope=col>s__Agathobacter_sp000434275</th><th scope=col>s__Agathobacter_sp002474415</th><th scope=col>s__Agathobacter_sp900317585</th><th scope=col>s__Agathobaculum_butyriciproducens</th><th scope=col>s__Akkermansia_muciniphila</th><th scope=col>⋯</th><th scope=col>s__Sutterella_wadsworthensis_A</th><th scope=col>s__Sutterella_wadsworthensis_B</th><th scope=col>s__TF01-11_sp001414325</th><th scope=col>s__Tidjanibacter_inops</th><th scope=col>s__Treponema_D_succinifaciens</th><th scope=col>s__Tyzzerella_nexilis</th><th scope=col>s__UBA11524_sp000437595</th><th scope=col>s__UBA738_sp002404605</th><th scope=col>s__Zag111_sp002103105</th><th scope=col>s__Zag111_sp003258735</th></tr>\n",
       "\t<tr><th></th><th scope=col>&lt;dbl&gt;</th><th scope=col>&lt;dbl&gt;</th><th scope=col>&lt;dbl&gt;</th><th scope=col>&lt;dbl&gt;</th><th scope=col>&lt;dbl&gt;</th><th scope=col>&lt;dbl&gt;</th><th scope=col>&lt;dbl&gt;</th><th scope=col>&lt;dbl&gt;</th><th scope=col>&lt;dbl&gt;</th><th scope=col>&lt;dbl&gt;</th><th scope=col>⋯</th><th scope=col>&lt;dbl&gt;</th><th scope=col>&lt;dbl&gt;</th><th scope=col>&lt;dbl&gt;</th><th scope=col>&lt;dbl&gt;</th><th scope=col>&lt;dbl&gt;</th><th scope=col>&lt;dbl&gt;</th><th scope=col>&lt;dbl&gt;</th><th scope=col>&lt;dbl&gt;</th><th scope=col>&lt;dbl&gt;</th><th scope=col>&lt;dbl&gt;</th></tr>\n",
       "</thead>\n",
       "<tbody>\n",
       "\t<tr><th scope=row>A11_01_1FE</th><td>0.00000</td><td>0.00000</td><td>0</td><td>0.00021</td><td>0.00034</td><td>0</td><td>0.00000</td><td>0.00000</td><td>0.00064</td><td>0</td><td>⋯</td><td>0</td><td>0</td><td>0.00000</td><td>0</td><td>0</td><td>0.00036</td><td>0</td><td>0</td><td>0</td><td>0</td></tr>\n",
       "\t<tr><th scope=row>A13_01_1FE</th><td>0.00341</td><td>0.00133</td><td>0</td><td>0.01091</td><td>0.00214</td><td>0</td><td>0.00093</td><td>0.00082</td><td>0.00041</td><td>0</td><td>⋯</td><td>0</td><td>0</td><td>0.00091</td><td>0</td><td>0</td><td>0.00000</td><td>0</td><td>0</td><td>0</td><td>0</td></tr>\n",
       "\t<tr><th scope=row>⋮</th><td>⋮</td><td>⋮</td><td>⋮</td><td>⋮</td><td>⋮</td><td>⋮</td><td>⋮</td><td>⋮</td><td>⋮</td><td>⋮</td><td>⋱</td><td>⋮</td><td>⋮</td><td>⋮</td><td>⋮</td><td>⋮</td><td>⋮</td><td>⋮</td><td>⋮</td><td>⋮</td><td>⋮</td></tr>\n",
       "\t<tr><th scope=row>YSZC12003_37879</th><td>0.00284</td><td>0.00089</td><td>0.00043</td><td>0.00060</td><td>0.00776</td><td>0.00000</td><td>0</td><td>0.00239</td><td>0.00024</td><td>0.00000</td><td>⋯</td><td>0</td><td>0</td><td>0</td><td>0</td><td>0</td><td>0.00000</td><td>0</td><td>0</td><td>0</td><td>0</td></tr>\n",
       "\t<tr><th scope=row>YSZC12003_37880</th><td>0.00068</td><td>0.00411</td><td>0.00131</td><td>0.00134</td><td>0.01028</td><td>0.00117</td><td>0</td><td>0.00365</td><td>0.00093</td><td>0.00281</td><td>⋯</td><td>0</td><td>0</td><td>0</td><td>0</td><td>0</td><td>0.02576</td><td>0</td><td>0</td><td>0</td><td>0</td></tr>\n",
       "</tbody>\n",
       "</table>\n"
      ],
      "text/latex": [
       "A data.frame: 1929 × 306\n",
       "\\begin{tabular}{r|lllllllllllllllllllll}\n",
       "  & s\\_\\_Acetatifactor\\_sp900066365 & s\\_\\_Acetatifactor\\_sp900066565 & s\\_\\_Adlercreutzia\\_equolifaciens & s\\_\\_Agathobacter\\_faecis & s\\_\\_Agathobacter\\_rectale & s\\_\\_Agathobacter\\_sp000434275 & s\\_\\_Agathobacter\\_sp002474415 & s\\_\\_Agathobacter\\_sp900317585 & s\\_\\_Agathobaculum\\_butyriciproducens & s\\_\\_Akkermansia\\_muciniphila & ⋯ & s\\_\\_Sutterella\\_wadsworthensis\\_A & s\\_\\_Sutterella\\_wadsworthensis\\_B & s\\_\\_TF01-11\\_sp001414325 & s\\_\\_Tidjanibacter\\_inops & s\\_\\_Treponema\\_D\\_succinifaciens & s\\_\\_Tyzzerella\\_nexilis & s\\_\\_UBA11524\\_sp000437595 & s\\_\\_UBA738\\_sp002404605 & s\\_\\_Zag111\\_sp002103105 & s\\_\\_Zag111\\_sp003258735\\\\\n",
       "  & <dbl> & <dbl> & <dbl> & <dbl> & <dbl> & <dbl> & <dbl> & <dbl> & <dbl> & <dbl> & ⋯ & <dbl> & <dbl> & <dbl> & <dbl> & <dbl> & <dbl> & <dbl> & <dbl> & <dbl> & <dbl>\\\\\n",
       "\\hline\n",
       "\tA11\\_01\\_1FE & 0.00000 & 0.00000 & 0 & 0.00021 & 0.00034 & 0 & 0.00000 & 0.00000 & 0.00064 & 0 & ⋯ & 0 & 0 & 0.00000 & 0 & 0 & 0.00036 & 0 & 0 & 0 & 0\\\\\n",
       "\tA13\\_01\\_1FE & 0.00341 & 0.00133 & 0 & 0.01091 & 0.00214 & 0 & 0.00093 & 0.00082 & 0.00041 & 0 & ⋯ & 0 & 0 & 0.00091 & 0 & 0 & 0.00000 & 0 & 0 & 0 & 0\\\\\n",
       "\t⋮ & ⋮ & ⋮ & ⋮ & ⋮ & ⋮ & ⋮ & ⋮ & ⋮ & ⋮ & ⋮ & ⋱ & ⋮ & ⋮ & ⋮ & ⋮ & ⋮ & ⋮ & ⋮ & ⋮ & ⋮ & ⋮\\\\\n",
       "\tYSZC12003\\_37879 & 0.00284 & 0.00089 & 0.00043 & 0.00060 & 0.00776 & 0.00000 & 0 & 0.00239 & 0.00024 & 0.00000 & ⋯ & 0 & 0 & 0 & 0 & 0 & 0.00000 & 0 & 0 & 0 & 0\\\\\n",
       "\tYSZC12003\\_37880 & 0.00068 & 0.00411 & 0.00131 & 0.00134 & 0.01028 & 0.00117 & 0 & 0.00365 & 0.00093 & 0.00281 & ⋯ & 0 & 0 & 0 & 0 & 0 & 0.02576 & 0 & 0 & 0 & 0\\\\\n",
       "\\end{tabular}\n"
      ],
      "text/markdown": [
       "\n",
       "A data.frame: 1929 × 306\n",
       "\n",
       "| <!--/--> | s__Acetatifactor_sp900066365 &lt;dbl&gt; | s__Acetatifactor_sp900066565 &lt;dbl&gt; | s__Adlercreutzia_equolifaciens &lt;dbl&gt; | s__Agathobacter_faecis &lt;dbl&gt; | s__Agathobacter_rectale &lt;dbl&gt; | s__Agathobacter_sp000434275 &lt;dbl&gt; | s__Agathobacter_sp002474415 &lt;dbl&gt; | s__Agathobacter_sp900317585 &lt;dbl&gt; | s__Agathobaculum_butyriciproducens &lt;dbl&gt; | s__Akkermansia_muciniphila &lt;dbl&gt; | ⋯ ⋯ | s__Sutterella_wadsworthensis_A &lt;dbl&gt; | s__Sutterella_wadsworthensis_B &lt;dbl&gt; | s__TF01-11_sp001414325 &lt;dbl&gt; | s__Tidjanibacter_inops &lt;dbl&gt; | s__Treponema_D_succinifaciens &lt;dbl&gt; | s__Tyzzerella_nexilis &lt;dbl&gt; | s__UBA11524_sp000437595 &lt;dbl&gt; | s__UBA738_sp002404605 &lt;dbl&gt; | s__Zag111_sp002103105 &lt;dbl&gt; | s__Zag111_sp003258735 &lt;dbl&gt; |\n",
       "|---|---|---|---|---|---|---|---|---|---|---|---|---|---|---|---|---|---|---|---|---|---|\n",
       "| A11_01_1FE | 0.00000 | 0.00000 | 0 | 0.00021 | 0.00034 | 0 | 0.00000 | 0.00000 | 0.00064 | 0 | ⋯ | 0 | 0 | 0.00000 | 0 | 0 | 0.00036 | 0 | 0 | 0 | 0 |\n",
       "| A13_01_1FE | 0.00341 | 0.00133 | 0 | 0.01091 | 0.00214 | 0 | 0.00093 | 0.00082 | 0.00041 | 0 | ⋯ | 0 | 0 | 0.00091 | 0 | 0 | 0.00000 | 0 | 0 | 0 | 0 |\n",
       "| ⋮ | ⋮ | ⋮ | ⋮ | ⋮ | ⋮ | ⋮ | ⋮ | ⋮ | ⋮ | ⋮ | ⋱ | ⋮ | ⋮ | ⋮ | ⋮ | ⋮ | ⋮ | ⋮ | ⋮ | ⋮ | ⋮ |\n",
       "| YSZC12003_37879 | 0.00284 | 0.00089 | 0.00043 | 0.00060 | 0.00776 | 0.00000 | 0 | 0.00239 | 0.00024 | 0.00000 | ⋯ | 0 | 0 | 0 | 0 | 0 | 0.00000 | 0 | 0 | 0 | 0 |\n",
       "| YSZC12003_37880 | 0.00068 | 0.00411 | 0.00131 | 0.00134 | 0.01028 | 0.00117 | 0 | 0.00365 | 0.00093 | 0.00281 | ⋯ | 0 | 0 | 0 | 0 | 0 | 0.02576 | 0 | 0 | 0 | 0 |\n",
       "\n"
      ],
      "text/plain": [
       "                s__Acetatifactor_sp900066365 s__Acetatifactor_sp900066565\n",
       "A11_01_1FE      0.00000                      0.00000                     \n",
       "A13_01_1FE      0.00341                      0.00133                     \n",
       "⋮               ⋮                            ⋮                           \n",
       "YSZC12003_37879 0.00284                      0.00089                     \n",
       "YSZC12003_37880 0.00068                      0.00411                     \n",
       "                s__Adlercreutzia_equolifaciens s__Agathobacter_faecis\n",
       "A11_01_1FE      0                              0.00021               \n",
       "A13_01_1FE      0                              0.01091               \n",
       "⋮               ⋮                              ⋮                     \n",
       "YSZC12003_37879 0.00043                        0.00060               \n",
       "YSZC12003_37880 0.00131                        0.00134               \n",
       "                s__Agathobacter_rectale s__Agathobacter_sp000434275\n",
       "A11_01_1FE      0.00034                 0                          \n",
       "A13_01_1FE      0.00214                 0                          \n",
       "⋮               ⋮                       ⋮                          \n",
       "YSZC12003_37879 0.00776                 0.00000                    \n",
       "YSZC12003_37880 0.01028                 0.00117                    \n",
       "                s__Agathobacter_sp002474415 s__Agathobacter_sp900317585\n",
       "A11_01_1FE      0.00000                     0.00000                    \n",
       "A13_01_1FE      0.00093                     0.00082                    \n",
       "⋮               ⋮                           ⋮                          \n",
       "YSZC12003_37879 0                           0.00239                    \n",
       "YSZC12003_37880 0                           0.00365                    \n",
       "                s__Agathobaculum_butyriciproducens s__Akkermansia_muciniphila ⋯\n",
       "A11_01_1FE      0.00064                            0                          ⋯\n",
       "A13_01_1FE      0.00041                            0                          ⋯\n",
       "⋮               ⋮                                  ⋮                          ⋱\n",
       "YSZC12003_37879 0.00024                            0.00000                    ⋯\n",
       "YSZC12003_37880 0.00093                            0.00281                    ⋯\n",
       "                s__Sutterella_wadsworthensis_A s__Sutterella_wadsworthensis_B\n",
       "A11_01_1FE      0                              0                             \n",
       "A13_01_1FE      0                              0                             \n",
       "⋮               ⋮                              ⋮                             \n",
       "YSZC12003_37879 0                              0                             \n",
       "YSZC12003_37880 0                              0                             \n",
       "                s__TF01-11_sp001414325 s__Tidjanibacter_inops\n",
       "A11_01_1FE      0.00000                0                     \n",
       "A13_01_1FE      0.00091                0                     \n",
       "⋮               ⋮                      ⋮                     \n",
       "YSZC12003_37879 0                      0                     \n",
       "YSZC12003_37880 0                      0                     \n",
       "                s__Treponema_D_succinifaciens s__Tyzzerella_nexilis\n",
       "A11_01_1FE      0                             0.00036              \n",
       "A13_01_1FE      0                             0.00000              \n",
       "⋮               ⋮                             ⋮                    \n",
       "YSZC12003_37879 0                             0.00000              \n",
       "YSZC12003_37880 0                             0.02576              \n",
       "                s__UBA11524_sp000437595 s__UBA738_sp002404605\n",
       "A11_01_1FE      0                       0                    \n",
       "A13_01_1FE      0                       0                    \n",
       "⋮               ⋮                       ⋮                    \n",
       "YSZC12003_37879 0                       0                    \n",
       "YSZC12003_37880 0                       0                    \n",
       "                s__Zag111_sp002103105 s__Zag111_sp003258735\n",
       "A11_01_1FE      0                     0                    \n",
       "A13_01_1FE      0                     0                    \n",
       "⋮               ⋮                     ⋮                    \n",
       "YSZC12003_37879 0                     0                    \n",
       "YSZC12003_37880 0                     0                    "
      ]
     },
     "metadata": {},
     "output_type": "display_data"
    }
   ],
   "source": [
    "# abundances to wide table\n",
    "m = brk %>%\n",
    "    select.(name, Sample, Abundance) %>%\n",
    "    pivot_wider.(name, Abundance) %>%\n",
    "    as.data.frame \n",
    "rownames(m) = m[,1]\n",
    "m[,1] = NULL\n",
    "m = m %>% apply(2, function(x) ifelse(is.na(x), 0, x)) %>%\n",
    "        as.data.frame\n",
    "m"
   ]
  },
  {
   "cell_type": "code",
   "execution_count": 122,
   "metadata": {
    "ExecuteTime": {
     "end_time": "2021-01-07T12:53:32.033497Z",
     "start_time": "2021-01-07T12:53:22.690Z"
    }
   },
   "outputs": [
    {
     "name": "stdout",
     "output_type": "stream",
     "text": [
      "No. of unique Samples: 1929 \n"
     ]
    },
    {
     "data": {
      "text/html": [
       "<table>\n",
       "<caption>A data.frame: 1929 × 9</caption>\n",
       "<thead>\n",
       "\t<tr><th></th><th scope=col>Sample</th><th scope=col>dataset_name</th><th scope=col>subjectID</th><th scope=col>study_condition</th><th scope=col>disease</th><th scope=col>age</th><th scope=col>gender</th><th scope=col>BMI</th><th scope=col>westernized</th></tr>\n",
       "\t<tr><th></th><th scope=col>&lt;chr&gt;</th><th scope=col>&lt;chr&gt;</th><th scope=col>&lt;chr&gt;</th><th scope=col>&lt;chr&gt;</th><th scope=col>&lt;chr&gt;</th><th scope=col>&lt;int&gt;</th><th scope=col>&lt;chr&gt;</th><th scope=col>&lt;dbl&gt;</th><th scope=col>&lt;lgl&gt;</th></tr>\n",
       "</thead>\n",
       "<tbody>\n",
       "\t<tr><th scope=row>TRAVELRES1</th><td>TRAVELRES1 </td><td>Bengtsson-PalmeJ_2015</td><td>TRAVELRES1_2 </td><td>control</td><td>healthy</td><td>25</td><td>female</td><td>NA</td><td>TRUE</td></tr>\n",
       "\t<tr><th scope=row>TRAVELRES10</th><td>TRAVELRES10</td><td>Bengtsson-PalmeJ_2015</td><td>TRAVELRES9_10</td><td>control</td><td>healthy</td><td>34</td><td>female</td><td>NA</td><td>TRUE</td></tr>\n",
       "\t<tr><th scope=row>⋮</th><td>⋮</td><td>⋮</td><td>⋮</td><td>⋮</td><td>⋮</td><td>⋮</td><td>⋮</td><td>⋮</td><td>⋮</td></tr>\n",
       "\t<tr><th scope=row>YEZ_N.38</th><td>YEZ_N.38</td><td>YeZ_2018</td><td>YEZ_N-38</td><td>control</td><td>healthy</td><td>38</td><td>female</td><td>19.7</td><td>TRUE</td></tr>\n",
       "\t<tr><th scope=row>YEZ_N.37</th><td>YEZ_N.37</td><td>YeZ_2018</td><td>YEZ_N-37</td><td>control</td><td>healthy</td><td>46</td><td>male  </td><td>29.7</td><td>TRUE</td></tr>\n",
       "</tbody>\n",
       "</table>\n"
      ],
      "text/latex": [
       "A data.frame: 1929 × 9\n",
       "\\begin{tabular}{r|lllllllll}\n",
       "  & Sample & dataset\\_name & subjectID & study\\_condition & disease & age & gender & BMI & westernized\\\\\n",
       "  & <chr> & <chr> & <chr> & <chr> & <chr> & <int> & <chr> & <dbl> & <lgl>\\\\\n",
       "\\hline\n",
       "\tTRAVELRES1 & TRAVELRES1  & Bengtsson-PalmeJ\\_2015 & TRAVELRES1\\_2  & control & healthy & 25 & female & NA & TRUE\\\\\n",
       "\tTRAVELRES10 & TRAVELRES10 & Bengtsson-PalmeJ\\_2015 & TRAVELRES9\\_10 & control & healthy & 34 & female & NA & TRUE\\\\\n",
       "\t⋮ & ⋮ & ⋮ & ⋮ & ⋮ & ⋮ & ⋮ & ⋮ & ⋮ & ⋮\\\\\n",
       "\tYEZ\\_N.38 & YEZ\\_N.38 & YeZ\\_2018 & YEZ\\_N-38 & control & healthy & 38 & female & 19.7 & TRUE\\\\\n",
       "\tYEZ\\_N.37 & YEZ\\_N.37 & YeZ\\_2018 & YEZ\\_N-37 & control & healthy & 46 & male   & 29.7 & TRUE\\\\\n",
       "\\end{tabular}\n"
      ],
      "text/markdown": [
       "\n",
       "A data.frame: 1929 × 9\n",
       "\n",
       "| <!--/--> | Sample &lt;chr&gt; | dataset_name &lt;chr&gt; | subjectID &lt;chr&gt; | study_condition &lt;chr&gt; | disease &lt;chr&gt; | age &lt;int&gt; | gender &lt;chr&gt; | BMI &lt;dbl&gt; | westernized &lt;lgl&gt; |\n",
       "|---|---|---|---|---|---|---|---|---|---|\n",
       "| TRAVELRES1 | TRAVELRES1  | Bengtsson-PalmeJ_2015 | TRAVELRES1_2  | control | healthy | 25 | female | NA | TRUE |\n",
       "| TRAVELRES10 | TRAVELRES10 | Bengtsson-PalmeJ_2015 | TRAVELRES9_10 | control | healthy | 34 | female | NA | TRUE |\n",
       "| ⋮ | ⋮ | ⋮ | ⋮ | ⋮ | ⋮ | ⋮ | ⋮ | ⋮ | ⋮ |\n",
       "| YEZ_N.38 | YEZ_N.38 | YeZ_2018 | YEZ_N-38 | control | healthy | 38 | female | 19.7 | TRUE |\n",
       "| YEZ_N.37 | YEZ_N.37 | YeZ_2018 | YEZ_N-37 | control | healthy | 46 | male   | 29.7 | TRUE |\n",
       "\n"
      ],
      "text/plain": [
       "            Sample      dataset_name          subjectID     study_condition\n",
       "TRAVELRES1  TRAVELRES1  Bengtsson-PalmeJ_2015 TRAVELRES1_2  control        \n",
       "TRAVELRES10 TRAVELRES10 Bengtsson-PalmeJ_2015 TRAVELRES9_10 control        \n",
       "⋮           ⋮           ⋮                     ⋮             ⋮              \n",
       "YEZ_N.38    YEZ_N.38    YeZ_2018              YEZ_N-38      control        \n",
       "YEZ_N.37    YEZ_N.37    YeZ_2018              YEZ_N-37      control        \n",
       "            disease age gender BMI  westernized\n",
       "TRAVELRES1  healthy 25  female NA   TRUE       \n",
       "TRAVELRES10 healthy 34  female NA   TRUE       \n",
       "⋮           ⋮       ⋮   ⋮      ⋮    ⋮          \n",
       "YEZ_N.38    healthy 38  female 19.7 TRUE       \n",
       "YEZ_N.37    healthy 46  male   29.7 TRUE       "
      ]
     },
     "metadata": {},
     "output_type": "display_data"
    }
   ],
   "source": [
    "# metadata filtered\n",
    "meta_f = meta %>%\n",
    "    filter.(Sample %in% rownames(m)) %>%\n",
    "    as.data.frame\n",
    "rownames(meta_f) = meta_f$Sample\n",
    "meta_f %>% unique_n('Samples', Sample)\n",
    "meta_f"
   ]
  },
  {
   "cell_type": "code",
   "execution_count": 123,
   "metadata": {
    "ExecuteTime": {
     "end_time": "2021-01-07T12:53:32.465387Z",
     "start_time": "2021-01-07T12:53:23.695Z"
    }
   },
   "outputs": [
    {
     "data": {
      "text/plain": [
       "\n",
       "Phylogenetic tree with 306 tips and 305 internal nodes.\n",
       "\n",
       "Tip labels:\n",
       "\ts__Methanobrevibacter_A_smithii, s__Methanobrevibacter_A_smithii_A, s__Ruminococcus_E_bromii_B, s__Ruminococcus_E_bromii, s__Ruminococcus_E_sp900314705, s__GCA-900066995_sp900291955, ...\n",
       "Node labels:\n",
       "\t100.0, 100.0, 1.0, 0.0, 0.0, 3.0, ...\n",
       "\n",
       "Rooted; includes branch lengths."
      ]
     },
     "metadata": {},
     "output_type": "display_data"
    }
   ],
   "source": [
    "# Genome phylogeny\n",
    "phy = read.tree(phy_file)\n",
    "to_rm = setdiff(phy$tip.label, colnames(m))\n",
    "phy = ape::drop.tip(phy, to_rm)\n",
    "phy"
   ]
  },
  {
   "cell_type": "code",
   "execution_count": 124,
   "metadata": {
    "ExecuteTime": {
     "end_time": "2021-01-07T12:53:32.490021Z",
     "start_time": "2021-01-07T12:53:24.919Z"
    }
   },
   "outputs": [
    {
     "data": {
      "text/plain": [
       "\n",
       "Phylogenetic tree with 306 tips and 305 internal nodes.\n",
       "\n",
       "Tip labels:\n",
       "\ts__Prevotella_lascolaii, s__Fusobacterium_A_mortiferum, s__Prevotella_sp002439605, s__Eubacterium_I_ramulus_A, s__Methanobrevibacter_A_smithii_A, s__CAG-1427_sp000436075, ...\n",
       "\n",
       "Rooted; includes branch lengths."
      ]
     },
     "metadata": {},
     "output_type": "display_data"
    }
   ],
   "source": [
    "# random phylogney\n",
    "phy_rand = ape::rtree(length(phy$tip.label), tip.label = phy$tip.label)\n",
    "phy_rand"
   ]
  },
  {
   "cell_type": "markdown",
   "metadata": {},
   "source": [
    "## mu/sd for z-score transformation"
   ]
  },
  {
   "cell_type": "code",
   "execution_count": 125,
   "metadata": {
    "ExecuteTime": {
     "end_time": "2021-01-07T12:53:32.522022Z",
     "start_time": "2021-01-07T12:53:25.936Z"
    }
   },
   "outputs": [
    {
     "data": {
      "text/html": [
       "<table>\n",
       "<caption>A data.table: 1 × 2</caption>\n",
       "<thead>\n",
       "\t<tr><th scope=col>mu</th><th scope=col>sd</th></tr>\n",
       "\t<tr><th scope=col>&lt;dbl&gt;</th><th scope=col>&lt;dbl&gt;</th></tr>\n",
       "</thead>\n",
       "<tbody>\n",
       "\t<tr><td>0.003046298</td><td>0.0134066</td></tr>\n",
       "</tbody>\n",
       "</table>\n"
      ],
      "text/latex": [
       "A data.table: 1 × 2\n",
       "\\begin{tabular}{ll}\n",
       " mu & sd\\\\\n",
       " <dbl> & <dbl>\\\\\n",
       "\\hline\n",
       "\t 0.003046298 & 0.0134066\\\\\n",
       "\\end{tabular}\n"
      ],
      "text/markdown": [
       "\n",
       "A data.table: 1 × 2\n",
       "\n",
       "| mu &lt;dbl&gt; | sd &lt;dbl&gt; |\n",
       "|---|---|\n",
       "| 0.003046298 | 0.0134066 |\n",
       "\n"
      ],
      "text/plain": [
       "  mu          sd       \n",
       "1 0.003046298 0.0134066"
      ]
     },
     "metadata": {},
     "output_type": "display_data"
    }
   ],
   "source": [
    "brk %>% \n",
    "    summarize.(mu = mean(Abundance),\n",
    "               sd = sd(Abundance))"
   ]
  },
  {
   "cell_type": "markdown",
   "metadata": {},
   "source": [
    "# Train/Test split"
   ]
  },
  {
   "cell_type": "code",
   "execution_count": 126,
   "metadata": {
    "ExecuteTime": {
     "end_time": "2021-01-07T12:53:32.553703Z",
     "start_time": "2021-01-07T12:53:27.727Z"
    }
   },
   "outputs": [
    {
     "name": "stdout",
     "output_type": "stream",
     "text": [
      "No. of training samples: 1543 \n",
      "No. of test samples: 386 \n"
     ]
    }
   ],
   "source": [
    "train_frac = 0.8\n",
    "n_train = round(nrow(meta_f) * train_frac,0)\n",
    "meta_f_train = meta_f[sample(meta_f$Sample, n_train),]\n",
    "meta_f_test = meta_f[setdiff(meta_f$Sample, meta_f_train$Sample),]\n",
    "meta_f_train %>% nrow %>% cat('No. of training samples:', ., '\\n')\n",
    "meta_f_test %>% nrow %>% cat('No. of test samples:', ., '\\n')"
   ]
  },
  {
   "cell_type": "code",
   "execution_count": 127,
   "metadata": {
    "ExecuteTime": {
     "end_time": "2021-01-07T12:53:32.579167Z",
     "start_time": "2021-01-07T12:53:29.023Z"
    }
   },
   "outputs": [
    {
     "data": {
      "text/plain": [
       "   Min. 1st Qu.  Median    Mean 3rd Qu.    Max. \n",
       "  19.00   26.00   41.00   43.82   61.00  107.00 "
      ]
     },
     "metadata": {},
     "output_type": "display_data"
    },
    {
     "data": {
      "text/plain": [
       "   Min. 1st Qu.  Median    Mean 3rd Qu.    Max. \n",
       "  19.00   25.00   37.50   43.06   62.00   79.00 "
      ]
     },
     "metadata": {},
     "output_type": "display_data"
    }
   ],
   "source": [
    "# summary\n",
    "meta_f_train$age %>% summary\n",
    "meta_f_test$age %>% summary"
   ]
  },
  {
   "cell_type": "code",
   "execution_count": 128,
   "metadata": {
    "ExecuteTime": {
     "end_time": "2021-01-07T12:53:32.625916Z",
     "start_time": "2021-01-07T12:53:29.161Z"
    }
   },
   "outputs": [
    {
     "name": "stdout",
     "output_type": "stream",
     "text": [
      "No. of training samples: 1543 \n",
      "No. of test samples: 386 \n"
     ]
    }
   ],
   "source": [
    "# parsing abunds\n",
    "m_train = m[meta_f_train$Sample,]\n",
    "m_test = m[meta_f_test$Sample,]\n",
    "m_train %>% nrow %>% cat('No. of training samples:', ., '\\n')\n",
    "m_test %>% nrow %>% cat('No. of test samples:', ., '\\n')"
   ]
  },
  {
   "cell_type": "markdown",
   "metadata": {},
   "source": [
    "# Writing"
   ]
  },
  {
   "cell_type": "code",
   "execution_count": 129,
   "metadata": {
    "ExecuteTime": {
     "end_time": "2021-01-07T12:53:32.683346Z",
     "start_time": "2021-01-07T12:53:32.122Z"
    }
   },
   "outputs": [
    {
     "name": "stdout",
     "output_type": "stream",
     "text": [
      "Directory already exists: /ebio/abt3_projects/software/dev/treeSparse/tests/data/globalMG/age/ \n"
     ]
    }
   ],
   "source": [
    "outdir = '/ebio/abt3_projects/software/dev/treeSparse/tests/data/globalMG/age/'\n",
    "make_dir(outdir)"
   ]
  },
  {
   "cell_type": "code",
   "execution_count": 130,
   "metadata": {
    "ExecuteTime": {
     "end_time": "2021-01-07T12:53:32.722327Z",
     "start_time": "2021-01-07T12:53:32.358Z"
    }
   },
   "outputs": [
    {
     "name": "stdout",
     "output_type": "stream",
     "text": [
      "File written: /ebio/abt3_projects/software/dev/treeSparse/tests/data/globalMG/age//genome_phy.nwk \n"
     ]
    }
   ],
   "source": [
    "outF = file.path(outdir, 'genome_phy.nwk')\n",
    "write.tree(phy, outF)\n",
    "cat('File written:', outF, '\\n')"
   ]
  },
  {
   "cell_type": "code",
   "execution_count": 131,
   "metadata": {
    "ExecuteTime": {
     "end_time": "2021-01-07T12:53:32.767651Z",
     "start_time": "2021-01-07T12:53:32.531Z"
    }
   },
   "outputs": [
    {
     "name": "stdout",
     "output_type": "stream",
     "text": [
      "File written: /ebio/abt3_projects/software/dev/treeSparse/tests/data/globalMG/age//random_phy.nwk \n"
     ]
    }
   ],
   "source": [
    "outF = file.path(outdir, 'random_phy.nwk')\n",
    "write.tree(phy_rand, outF)\n",
    "cat('File written:', outF, '\\n')"
   ]
  },
  {
   "cell_type": "markdown",
   "metadata": {},
   "source": [
    "## Train/test"
   ]
  },
  {
   "cell_type": "code",
   "execution_count": 132,
   "metadata": {
    "ExecuteTime": {
     "end_time": "2021-01-07T12:53:34.220204Z",
     "start_time": "2021-01-07T12:53:33.624Z"
    }
   },
   "outputs": [
    {
     "name": "stdout",
     "output_type": "stream",
     "text": [
      "File written: /ebio/abt3_projects/software/dev/treeSparse/tests/data/globalMG/age//abund_train.tsv \n"
     ]
    }
   ],
   "source": [
    "outF = file.path(outdir, 'abund_train.tsv')\n",
    "write_table(m_train, outF, row.names=TRUE)"
   ]
  },
  {
   "cell_type": "code",
   "execution_count": 133,
   "metadata": {
    "ExecuteTime": {
     "end_time": "2021-01-07T12:53:34.426948Z",
     "start_time": "2021-01-07T12:53:33.752Z"
    }
   },
   "outputs": [
    {
     "name": "stdout",
     "output_type": "stream",
     "text": [
      "File written: /ebio/abt3_projects/software/dev/treeSparse/tests/data/globalMG/age//abund_test.tsv \n"
     ]
    }
   ],
   "source": [
    "outF = file.path(outdir, 'abund_test.tsv')\n",
    "write_table(m_test, outF, row.names=TRUE)"
   ]
  },
  {
   "cell_type": "code",
   "execution_count": 134,
   "metadata": {
    "ExecuteTime": {
     "end_time": "2021-01-07T12:53:34.456213Z",
     "start_time": "2021-01-07T12:53:33.935Z"
    }
   },
   "outputs": [
    {
     "name": "stdout",
     "output_type": "stream",
     "text": [
      "File written: /ebio/abt3_projects/software/dev/treeSparse/tests/data/globalMG/age//targets_train.tsv \n"
     ]
    }
   ],
   "source": [
    "outF = file.path(outdir, 'targets_train.tsv')\n",
    "write_table(meta_f_train, outF, row.names=TRUE)"
   ]
  },
  {
   "cell_type": "code",
   "execution_count": 135,
   "metadata": {
    "ExecuteTime": {
     "end_time": "2021-01-07T12:53:34.480406Z",
     "start_time": "2021-01-07T12:53:34.079Z"
    }
   },
   "outputs": [
    {
     "name": "stdout",
     "output_type": "stream",
     "text": [
      "File written: /ebio/abt3_projects/software/dev/treeSparse/tests/data/globalMG/age//targets_test.tsv \n"
     ]
    }
   ],
   "source": [
    "outF = file.path(outdir, 'targets_test.tsv')\n",
    "write_table(meta_f_test, outF, row.names=TRUE)"
   ]
  },
  {
   "cell_type": "markdown",
   "metadata": {},
   "source": [
    "# hyperparameter search"
   ]
  },
  {
   "cell_type": "code",
   "execution_count": 136,
   "metadata": {
    "ExecuteTime": {
     "end_time": "2021-01-07T12:53:38.596667Z",
     "start_time": "2021-01-07T12:53:38.568Z"
    }
   },
   "outputs": [],
   "source": [
    "D = '/ebio/abt3_projects/software/dev/treeSparse/'"
   ]
  },
  {
   "cell_type": "markdown",
   "metadata": {},
   "source": [
    "## genome_phy"
   ]
  },
  {
   "cell_type": "markdown",
   "metadata": {},
   "source": [
    "### Config"
   ]
  },
  {
   "cell_type": "code",
   "execution_count": 84,
   "metadata": {
    "ExecuteTime": {
     "end_time": "2021-01-06T18:30:05.798112Z",
     "start_time": "2021-01-06T18:30:05.612Z"
    }
   },
   "outputs": [
    {
     "name": "stdout",
     "output_type": "stream",
     "text": [
      "#-- I/O --#\n",
      "input_files:\n",
      "  train:\n",
      "    x: tests/data/globalMG/westernized/abund_train.tsv\n",
      "    y: tests/data/globalMG/westernized/targets_train.tsv\n",
      "  test:\n",
      "    x: tests/data/globalMG/westernized/abund_test.tsv\n",
      "    y: tests/data/globalMG/westernized/targets_test.tsv\n",
      "  tree: tests/data/globalMG/westernized/genome_phy.nwk\n",
      "\n",
      "# output location\n",
      "output_dir: hyperparam_search/westernized/genome_phy/\n",
      "\n",
      "# temporary file directory (your username will be added automatically)\n",
      "tmp_dir: /ebio/abt3_scratch/\n",
      "\n",
      "#-- set params and search params --#\n",
      "set_params: --mu 0.003021272 --sigma 0.01375474 --epochs 200\n",
      "search_params:\n",
      "  batches:\n",
      "    - 50\n",
      "    - 100\n",
      "  distances:\n",
      "    - 0.1\n",
      "    - 0.1 0.3\n",
      "    - 0.1 0.5\n",
      "  linear_layers:\n",
      "    - 500\n",
      "    - 100\n",
      "    - 10\n",
      "    - 500 100\n",
      "    - 500 20\n",
      "  dropout:\n",
      "    sparse:\n",
      "      - 0\n",
      "      - 0.5\n",
      "    linear:\n",
      "      - 0\n",
      "      - 0.5\n",
      "  learning_rate:\n",
      "    - 0.001\n",
      "    - 0.0001\n",
      "\n",
      "#-- snakemake pipeline --#\n",
      "pipeline:\n",
      "  snakemake_folder: ./\n",
      "  script_folder: bin/scripts/\n",
      "  seed: 83471\n",
      "  name: treeSparse"
     ]
    }
   ],
   "source": [
    "F = file.path(D, 'hyperparam_search/age/genome_phy/config.yaml')\n",
    "cat_file(F)"
   ]
  },
  {
   "cell_type": "markdown",
   "metadata": {},
   "source": [
    "### Run"
   ]
  },
  {
   "cell_type": "markdown",
   "metadata": {
    "ExecuteTime": {
     "end_time": "2021-01-06T15:24:21.995335Z",
     "start_time": "2021-01-06T15:24:21.936Z"
    }
   },
   "source": [
    "```\n",
    "(snakemake) @ rick:/ebio/abt3_projects/software/dev/treeSparse\n",
    "$ screen -L -S treeSparse-genomePhy snakemake --use-conda -j 24 --configfile hyperparam_search/westernized/genome_phy/config.yaml -F\n",
    "```"
   ]
  },
  {
   "cell_type": "markdown",
   "metadata": {},
   "source": [
    "## no_phy\n",
    "\n",
    "* Using fully connected linear layers"
   ]
  },
  {
   "cell_type": "markdown",
   "metadata": {},
   "source": [
    "### Config"
   ]
  },
  {
   "cell_type": "code",
   "execution_count": 87,
   "metadata": {
    "ExecuteTime": {
     "end_time": "2021-01-06T18:40:54.006759Z",
     "start_time": "2021-01-06T18:40:53.812Z"
    }
   },
   "outputs": [
    {
     "name": "stdout",
     "output_type": "stream",
     "text": [
      "#-- I/O --#\n",
      "input_files:\n",
      "  train:\n",
      "    x: tests/data/globalMG/westernized/abund_train.tsv\n",
      "    y: tests/data/globalMG/westernized/targets_train.tsv\n",
      "  test:\n",
      "    x: tests/data/globalMG/westernized/abund_test.tsv\n",
      "    y: tests/data/globalMG/westernized/targets_test.tsv\n",
      "  tree: tests/data/globalMG/westernized/genome_phy.nwk\n",
      "\n",
      "# output location\n",
      "output_dir: hyperparam_search/westernized/no_phy/\n",
      "\n",
      "# temporary file directory (your username will be added automatically)\n",
      "tmp_dir: /ebio/abt3_scratch/\n",
      "\n",
      "#-- set params and search params --#\n",
      "set_params: --mu 0.003021272 --sigma 0.01375474 --epochs 200 --all-linear\n",
      "search_params:\n",
      "  batches:\n",
      "    - 50\n",
      "    - 100\n",
      "    - 200\n",
      "  distances:\n",
      "    - 0.05\n",
      "    - 0.1\n",
      "    - 0.2\n",
      "    - 0.5\n",
      "    - 0.8\n",
      "    - 0.1 0.3\n",
      "    - 0.1 0.5\n",
      "  linear_layers:\n",
      "    - 500\n",
      "    - 100\n",
      "    - 10\n",
      "    - 500 100\n",
      "    - 500 20\n",
      "    - 200 20\n",
      "  dropout:\n",
      "    sparse:\n",
      "      - 0\n",
      "      - 0.1\n",
      "      - 0.25\n",
      "      - 0.5\n",
      "    linear:\n",
      "      - 0\n",
      "      - 0.1\n",
      "      - 0.25\n",
      "      - 0.5\n",
      "  learning_rate:\n",
      "    - 0.001\n",
      "    - 0.0001\n",
      "\n",
      "#-- snakemake pipeline --#\n",
      "pipeline:\n",
      "  snakemake_folder: ./\n",
      "  script_folder: bin/scripts/\n",
      "  seed: 83471\n",
      "  name: treeSparse"
     ]
    }
   ],
   "source": [
    "F = file.path(D, 'hyperparam_search/westernized/no_phy/config.yaml')\n",
    "cat_file(F)"
   ]
  },
  {
   "cell_type": "markdown",
   "metadata": {},
   "source": [
    "### Run"
   ]
  },
  {
   "cell_type": "markdown",
   "metadata": {},
   "source": [
    "```\n",
    "(snakemake) @ rick:/ebio/abt3_projects/software/dev/treeSparse\n",
    "$ screen -L -S treeSparse-genomePhy snakemake --use-conda -j 24 --configfile hyperparam_search/westernized/no_phy/config.yaml -F\n",
    "```"
   ]
  },
  {
   "cell_type": "markdown",
   "metadata": {},
   "source": [
    "## random_phy\n",
    "\n",
    "* Randomly generated phylogeny instead of genome-phylogeny"
   ]
  },
  {
   "cell_type": "markdown",
   "metadata": {},
   "source": [
    "### Config"
   ]
  },
  {
   "cell_type": "code",
   "execution_count": 101,
   "metadata": {
    "ExecuteTime": {
     "end_time": "2021-01-07T12:36:05.236912Z",
     "start_time": "2021-01-07T12:36:05.004Z"
    }
   },
   "outputs": [
    {
     "name": "stdout",
     "output_type": "stream",
     "text": [
      "#-- I/O --#\n",
      "input_files:\n",
      "  train:\n",
      "    x: tests/data/globalMG/westernized/abund_train.tsv\n",
      "    y: tests/data/globalMG/westernized/targets_train.tsv\n",
      "  test:\n",
      "    x: tests/data/globalMG/westernized/abund_test.tsv\n",
      "    y: tests/data/globalMG/westernized/targets_test.tsv\n",
      "  tree: tests/data/globalMG/westernized/random_phy.nwk\n",
      "\n",
      "# output location\n",
      "output_dir: hyperparam_search/westernized/random_phy/\n",
      "\n",
      "# temporary file directory (your username will be added automatically)\n",
      "tmp_dir: /ebio/abt3_scratch/\n",
      "\n",
      "#-- set params and search params --#\n",
      "set_params: --mu 0.003021272 --sigma 0.01375474 --epochs 200\n",
      "search_params:\n",
      "  batches:\n",
      "    - 50\n",
      "    - 100\n",
      "    - 200\n",
      "  distances:\n",
      "    - 0.05\n",
      "    - 0.1\n",
      "    - 0.2\n",
      "    - 0.5\n",
      "    - 0.8\n",
      "    - 0.1 0.3\n",
      "    - 0.1 0.5\n",
      "  linear_layers:\n",
      "    - 500\n",
      "    - 100\n",
      "    - 10\n",
      "    - 500 100\n",
      "    - 500 20\n",
      "    - 200 20\n",
      "  dropout:\n",
      "    sparse:\n",
      "      - 0\n",
      "      - 0.1\n",
      "      - 0.25\n",
      "      - 0.5\n",
      "    linear:\n",
      "      - 0\n",
      "      - 0.1\n",
      "      - 0.25\n",
      "      - 0.5\n",
      "  learning_rate:\n",
      "    - 0.001\n",
      "    - 0.0001\n",
      "\n",
      "#-- snakemake pipeline --#\n",
      "pipeline:\n",
      "  snakemake_folder: ./\n",
      "  script_folder: bin/scripts/\n",
      "  seed: 83471\n",
      "  name: treeSparse"
     ]
    }
   ],
   "source": [
    "F = file.path(D, 'hyperparam_search/westernized/random_phy/config.yaml')\n",
    "cat_file(F)"
   ]
  },
  {
   "cell_type": "markdown",
   "metadata": {},
   "source": [
    "### Run"
   ]
  },
  {
   "cell_type": "markdown",
   "metadata": {},
   "source": [
    "```\n",
    "(snakemake) @ rick:/ebio/abt3_projects/software/dev/treeSparse\n",
    "$ screen -L -S treeSparse-genomePhy snakemake --use-conda -j 24 --configfile hyperparam_search/westernized/random_phy/config.yaml -F\n",
    "```"
   ]
  },
  {
   "cell_type": "markdown",
   "metadata": {},
   "source": [
    "# Summary of all"
   ]
  },
  {
   "cell_type": "code",
   "execution_count": 151,
   "metadata": {
    "ExecuteTime": {
     "end_time": "2021-01-07T19:15:15.190781Z",
     "start_time": "2021-01-07T19:15:14.914Z"
    }
   },
   "outputs": [
    {
     "data": {
      "text/html": [
       "<table>\n",
       "<caption>A data.table: 696695 × 10</caption>\n",
       "<thead>\n",
       "\t<tr><th scope=col>batches</th><th scope=col>distances</th><th scope=col>linear_layers</th><th scope=col>dropout_sparse</th><th scope=col>dropout_linear</th><th scope=col>learning_rate</th><th scope=col>epoch</th><th scope=col>train_loss</th><th scope=col>test_loss</th><th scope=col>dataset</th></tr>\n",
       "\t<tr><th scope=col>&lt;int&gt;</th><th scope=col>&lt;chr&gt;</th><th scope=col>&lt;chr&gt;</th><th scope=col>&lt;dbl&gt;</th><th scope=col>&lt;dbl&gt;</th><th scope=col>&lt;dbl&gt;</th><th scope=col>&lt;int&gt;</th><th scope=col>&lt;dbl&gt;</th><th scope=col>&lt;dbl&gt;</th><th scope=col>&lt;chr&gt;</th></tr>\n",
       "</thead>\n",
       "<tbody>\n",
       "\t<tr><td>50</td><td>0.05</td><td>500</td><td>0</td><td>0</td><td>0.001</td><td>1</td><td>0.5005908</td><td>0.3991346</td><td>genome_phy</td></tr>\n",
       "\t<tr><td>50</td><td>0.05</td><td>500</td><td>0</td><td>0</td><td>0.001</td><td>2</td><td>0.3193945</td><td>0.2566391</td><td>genome_phy</td></tr>\n",
       "\t<tr><td>⋮</td><td>⋮</td><td>⋮</td><td>⋮</td><td>⋮</td><td>⋮</td><td>⋮</td><td>⋮</td><td>⋮</td><td>⋮</td></tr>\n",
       "\t<tr><td>200</td><td>0.1-0.5</td><td>200-20</td><td>0.5</td><td>0.5</td><td>1e-04</td><td>30</td><td>0.5404865</td><td>0.5395838</td><td>random_phy</td></tr>\n",
       "\t<tr><td>200</td><td>0.1-0.5</td><td>200-20</td><td>0.5</td><td>0.5</td><td>1e-04</td><td>31</td><td>0.5434792</td><td>0.5420252</td><td>random_phy</td></tr>\n",
       "</tbody>\n",
       "</table>\n"
      ],
      "text/latex": [
       "A data.table: 696695 × 10\n",
       "\\begin{tabular}{llllllllll}\n",
       " batches & distances & linear\\_layers & dropout\\_sparse & dropout\\_linear & learning\\_rate & epoch & train\\_loss & test\\_loss & dataset\\\\\n",
       " <int> & <chr> & <chr> & <dbl> & <dbl> & <dbl> & <int> & <dbl> & <dbl> & <chr>\\\\\n",
       "\\hline\n",
       "\t 50 & 0.05 & 500 & 0 & 0 & 0.001 & 1 & 0.5005908 & 0.3991346 & genome\\_phy\\\\\n",
       "\t 50 & 0.05 & 500 & 0 & 0 & 0.001 & 2 & 0.3193945 & 0.2566391 & genome\\_phy\\\\\n",
       "\t ⋮ & ⋮ & ⋮ & ⋮ & ⋮ & ⋮ & ⋮ & ⋮ & ⋮ & ⋮\\\\\n",
       "\t 200 & 0.1-0.5 & 200-20 & 0.5 & 0.5 & 1e-04 & 30 & 0.5404865 & 0.5395838 & random\\_phy\\\\\n",
       "\t 200 & 0.1-0.5 & 200-20 & 0.5 & 0.5 & 1e-04 & 31 & 0.5434792 & 0.5420252 & random\\_phy\\\\\n",
       "\\end{tabular}\n"
      ],
      "text/markdown": [
       "\n",
       "A data.table: 696695 × 10\n",
       "\n",
       "| batches &lt;int&gt; | distances &lt;chr&gt; | linear_layers &lt;chr&gt; | dropout_sparse &lt;dbl&gt; | dropout_linear &lt;dbl&gt; | learning_rate &lt;dbl&gt; | epoch &lt;int&gt; | train_loss &lt;dbl&gt; | test_loss &lt;dbl&gt; | dataset &lt;chr&gt; |\n",
       "|---|---|---|---|---|---|---|---|---|---|\n",
       "| 50 | 0.05 | 500 | 0 | 0 | 0.001 | 1 | 0.5005908 | 0.3991346 | genome_phy |\n",
       "| 50 | 0.05 | 500 | 0 | 0 | 0.001 | 2 | 0.3193945 | 0.2566391 | genome_phy |\n",
       "| ⋮ | ⋮ | ⋮ | ⋮ | ⋮ | ⋮ | ⋮ | ⋮ | ⋮ | ⋮ |\n",
       "| 200 | 0.1-0.5 | 200-20 | 0.5 | 0.5 | 1e-04 | 30 | 0.5404865 | 0.5395838 | random_phy |\n",
       "| 200 | 0.1-0.5 | 200-20 | 0.5 | 0.5 | 1e-04 | 31 | 0.5434792 | 0.5420252 | random_phy |\n",
       "\n"
      ],
      "text/plain": [
       "       batches distances linear_layers dropout_sparse dropout_linear\n",
       "1      50      0.05      500           0              0             \n",
       "2      50      0.05      500           0              0             \n",
       "⋮      ⋮       ⋮         ⋮             ⋮              ⋮             \n",
       "696694 200     0.1-0.5   200-20        0.5            0.5           \n",
       "696695 200     0.1-0.5   200-20        0.5            0.5           \n",
       "       learning_rate epoch train_loss test_loss dataset   \n",
       "1      0.001         1     0.5005908  0.3991346 genome_phy\n",
       "2      0.001         2     0.3193945  0.2566391 genome_phy\n",
       "⋮      ⋮             ⋮     ⋮          ⋮         ⋮         \n",
       "696694 1e-04         30    0.5404865  0.5395838 random_phy\n",
       "696695 1e-04         31    0.5434792  0.5420252 random_phy"
      ]
     },
     "metadata": {},
     "output_type": "display_data"
    }
   ],
   "source": [
    "F = c('hyperparam_search/age/genome_phy/training_logs/train_log.tsv',\n",
    "      'hyperparam_search/age/no_phy/training_logs/train_log.tsv',\n",
    "      'hyperparam_search/age/random_phy/training_logs/train_log.tsv')\n",
    "\n",
    "read_file = function(x){\n",
    "    dt = Fread(x)\n",
    "    dt$dataset = gsub('.+age/([^/]+)/.+', '\\\\1', x)\n",
    "    return(dt)\n",
    "}\n",
    "\n",
    "train_log = F %>%\n",
    "    lapply(function(x) file.path(D, x)) %>%\n",
    "    lapply(read_file) %>%\n",
    "    data.table::rbindlist(use.names = TRUE)\n",
    "train_log"
   ]
  },
  {
   "cell_type": "code",
   "execution_count": 152,
   "metadata": {
    "ExecuteTime": {
     "end_time": "2021-01-07T19:15:16.940681Z",
     "start_time": "2021-01-07T19:15:16.705Z"
    }
   },
   "outputs": [
    {
     "data": {
      "text/html": [
       "<table>\n",
       "<caption>A data.table: 15 × 11</caption>\n",
       "<thead>\n",
       "\t<tr><th scope=col>batches</th><th scope=col>distances</th><th scope=col>linear_layers</th><th scope=col>dropout_sparse</th><th scope=col>dropout_linear</th><th scope=col>learning_rate</th><th scope=col>epoch</th><th scope=col>train_loss</th><th scope=col>test_loss</th><th scope=col>dataset</th><th scope=col>min_test_loss</th></tr>\n",
       "\t<tr><th scope=col>&lt;int&gt;</th><th scope=col>&lt;chr&gt;</th><th scope=col>&lt;chr&gt;</th><th scope=col>&lt;dbl&gt;</th><th scope=col>&lt;dbl&gt;</th><th scope=col>&lt;dbl&gt;</th><th scope=col>&lt;int&gt;</th><th scope=col>&lt;dbl&gt;</th><th scope=col>&lt;dbl&gt;</th><th scope=col>&lt;chr&gt;</th><th scope=col>&lt;dbl&gt;</th></tr>\n",
       "</thead>\n",
       "<tbody>\n",
       "\t<tr><td>200</td><td>0.1-0.3</td><td>500-20 </td><td>0</td><td>0.00</td><td>0.001</td><td>37</td><td>0.004048111</td><td>0.001188033</td><td>no_phy    </td><td>0.001188033</td></tr>\n",
       "\t<tr><td>200</td><td>0.1-0.5</td><td>200-20 </td><td>0</td><td>0.00</td><td>0.001</td><td>37</td><td>0.002080558</td><td>0.001304657</td><td>no_phy    </td><td>0.001304657</td></tr>\n",
       "\t<tr><td> 50</td><td>0.8    </td><td>200-20 </td><td>0</td><td>0.00</td><td>0.001</td><td>37</td><td>0.002261796</td><td>0.001412634</td><td>no_phy    </td><td>0.001412634</td></tr>\n",
       "\t<tr><td> 50</td><td>0.1    </td><td>500    </td><td>0</td><td>0.00</td><td>0.001</td><td>38</td><td>0.002782345</td><td>0.001440669</td><td>no_phy    </td><td>0.001440669</td></tr>\n",
       "\t<tr><td> 50</td><td>0.5    </td><td>200-20 </td><td>0</td><td>0.00</td><td>0.001</td><td>52</td><td>0.002720293</td><td>0.001722699</td><td>random_phy</td><td>0.001722699</td></tr>\n",
       "\t<tr><td>100</td><td>0.8    </td><td>200-20 </td><td>0</td><td>0.00</td><td>0.001</td><td>39</td><td>0.007222715</td><td>0.001919330</td><td>no_phy    </td><td>0.001919330</td></tr>\n",
       "\t<tr><td>200</td><td>0.1    </td><td>500-20 </td><td>0</td><td>0.10</td><td>0.001</td><td>36</td><td>0.003135795</td><td>0.001989831</td><td>no_phy    </td><td>0.001989831</td></tr>\n",
       "\t<tr><td>200</td><td>0.8    </td><td>200-20 </td><td>0</td><td>0.00</td><td>0.001</td><td>43</td><td>0.005624828</td><td>0.002051600</td><td>no_phy    </td><td>0.002051600</td></tr>\n",
       "\t<tr><td>200</td><td>0.05   </td><td>200-20 </td><td>0</td><td>0.25</td><td>0.001</td><td>38</td><td>0.003219268</td><td>0.002130172</td><td>no_phy    </td><td>0.002130172</td></tr>\n",
       "\t<tr><td>100</td><td>0.5    </td><td>500-100</td><td>0</td><td>0.00</td><td>0.001</td><td>56</td><td>0.002776495</td><td>0.002140674</td><td>genome_phy</td><td>0.002140674</td></tr>\n",
       "\t<tr><td> 50</td><td>0.5    </td><td>500    </td><td>0</td><td>0.50</td><td>0.001</td><td>37</td><td>0.006257756</td><td>0.002237060</td><td>no_phy    </td><td>0.002237060</td></tr>\n",
       "\t<tr><td>200</td><td>0.1-0.5</td><td>200-20 </td><td>0</td><td>0.25</td><td>0.001</td><td>36</td><td>0.003796128</td><td>0.002301767</td><td>no_phy    </td><td>0.002301767</td></tr>\n",
       "\t<tr><td> 50</td><td>0.1-0.3</td><td>10     </td><td>0</td><td>0.00</td><td>0.001</td><td>31</td><td>0.004951368</td><td>0.002313907</td><td>no_phy    </td><td>0.002313907</td></tr>\n",
       "\t<tr><td>200</td><td>0.05   </td><td>200-20 </td><td>0</td><td>0.00</td><td>0.001</td><td>35</td><td>0.004005031</td><td>0.002368286</td><td>no_phy    </td><td>0.002368286</td></tr>\n",
       "\t<tr><td> 50</td><td>0.1-0.5</td><td>500-20 </td><td>0</td><td>0.10</td><td>0.001</td><td>36</td><td>0.010516378</td><td>0.002436183</td><td>no_phy    </td><td>0.002436183</td></tr>\n",
       "</tbody>\n",
       "</table>\n"
      ],
      "text/latex": [
       "A data.table: 15 × 11\n",
       "\\begin{tabular}{lllllllllll}\n",
       " batches & distances & linear\\_layers & dropout\\_sparse & dropout\\_linear & learning\\_rate & epoch & train\\_loss & test\\_loss & dataset & min\\_test\\_loss\\\\\n",
       " <int> & <chr> & <chr> & <dbl> & <dbl> & <dbl> & <int> & <dbl> & <dbl> & <chr> & <dbl>\\\\\n",
       "\\hline\n",
       "\t 200 & 0.1-0.3 & 500-20  & 0 & 0.00 & 0.001 & 37 & 0.004048111 & 0.001188033 & no\\_phy     & 0.001188033\\\\\n",
       "\t 200 & 0.1-0.5 & 200-20  & 0 & 0.00 & 0.001 & 37 & 0.002080558 & 0.001304657 & no\\_phy     & 0.001304657\\\\\n",
       "\t  50 & 0.8     & 200-20  & 0 & 0.00 & 0.001 & 37 & 0.002261796 & 0.001412634 & no\\_phy     & 0.001412634\\\\\n",
       "\t  50 & 0.1     & 500     & 0 & 0.00 & 0.001 & 38 & 0.002782345 & 0.001440669 & no\\_phy     & 0.001440669\\\\\n",
       "\t  50 & 0.5     & 200-20  & 0 & 0.00 & 0.001 & 52 & 0.002720293 & 0.001722699 & random\\_phy & 0.001722699\\\\\n",
       "\t 100 & 0.8     & 200-20  & 0 & 0.00 & 0.001 & 39 & 0.007222715 & 0.001919330 & no\\_phy     & 0.001919330\\\\\n",
       "\t 200 & 0.1     & 500-20  & 0 & 0.10 & 0.001 & 36 & 0.003135795 & 0.001989831 & no\\_phy     & 0.001989831\\\\\n",
       "\t 200 & 0.8     & 200-20  & 0 & 0.00 & 0.001 & 43 & 0.005624828 & 0.002051600 & no\\_phy     & 0.002051600\\\\\n",
       "\t 200 & 0.05    & 200-20  & 0 & 0.25 & 0.001 & 38 & 0.003219268 & 0.002130172 & no\\_phy     & 0.002130172\\\\\n",
       "\t 100 & 0.5     & 500-100 & 0 & 0.00 & 0.001 & 56 & 0.002776495 & 0.002140674 & genome\\_phy & 0.002140674\\\\\n",
       "\t  50 & 0.5     & 500     & 0 & 0.50 & 0.001 & 37 & 0.006257756 & 0.002237060 & no\\_phy     & 0.002237060\\\\\n",
       "\t 200 & 0.1-0.5 & 200-20  & 0 & 0.25 & 0.001 & 36 & 0.003796128 & 0.002301767 & no\\_phy     & 0.002301767\\\\\n",
       "\t  50 & 0.1-0.3 & 10      & 0 & 0.00 & 0.001 & 31 & 0.004951368 & 0.002313907 & no\\_phy     & 0.002313907\\\\\n",
       "\t 200 & 0.05    & 200-20  & 0 & 0.00 & 0.001 & 35 & 0.004005031 & 0.002368286 & no\\_phy     & 0.002368286\\\\\n",
       "\t  50 & 0.1-0.5 & 500-20  & 0 & 0.10 & 0.001 & 36 & 0.010516378 & 0.002436183 & no\\_phy     & 0.002436183\\\\\n",
       "\\end{tabular}\n"
      ],
      "text/markdown": [
       "\n",
       "A data.table: 15 × 11\n",
       "\n",
       "| batches &lt;int&gt; | distances &lt;chr&gt; | linear_layers &lt;chr&gt; | dropout_sparse &lt;dbl&gt; | dropout_linear &lt;dbl&gt; | learning_rate &lt;dbl&gt; | epoch &lt;int&gt; | train_loss &lt;dbl&gt; | test_loss &lt;dbl&gt; | dataset &lt;chr&gt; | min_test_loss &lt;dbl&gt; |\n",
       "|---|---|---|---|---|---|---|---|---|---|---|\n",
       "| 200 | 0.1-0.3 | 500-20  | 0 | 0.00 | 0.001 | 37 | 0.004048111 | 0.001188033 | no_phy     | 0.001188033 |\n",
       "| 200 | 0.1-0.5 | 200-20  | 0 | 0.00 | 0.001 | 37 | 0.002080558 | 0.001304657 | no_phy     | 0.001304657 |\n",
       "|  50 | 0.8     | 200-20  | 0 | 0.00 | 0.001 | 37 | 0.002261796 | 0.001412634 | no_phy     | 0.001412634 |\n",
       "|  50 | 0.1     | 500     | 0 | 0.00 | 0.001 | 38 | 0.002782345 | 0.001440669 | no_phy     | 0.001440669 |\n",
       "|  50 | 0.5     | 200-20  | 0 | 0.00 | 0.001 | 52 | 0.002720293 | 0.001722699 | random_phy | 0.001722699 |\n",
       "| 100 | 0.8     | 200-20  | 0 | 0.00 | 0.001 | 39 | 0.007222715 | 0.001919330 | no_phy     | 0.001919330 |\n",
       "| 200 | 0.1     | 500-20  | 0 | 0.10 | 0.001 | 36 | 0.003135795 | 0.001989831 | no_phy     | 0.001989831 |\n",
       "| 200 | 0.8     | 200-20  | 0 | 0.00 | 0.001 | 43 | 0.005624828 | 0.002051600 | no_phy     | 0.002051600 |\n",
       "| 200 | 0.05    | 200-20  | 0 | 0.25 | 0.001 | 38 | 0.003219268 | 0.002130172 | no_phy     | 0.002130172 |\n",
       "| 100 | 0.5     | 500-100 | 0 | 0.00 | 0.001 | 56 | 0.002776495 | 0.002140674 | genome_phy | 0.002140674 |\n",
       "|  50 | 0.5     | 500     | 0 | 0.50 | 0.001 | 37 | 0.006257756 | 0.002237060 | no_phy     | 0.002237060 |\n",
       "| 200 | 0.1-0.5 | 200-20  | 0 | 0.25 | 0.001 | 36 | 0.003796128 | 0.002301767 | no_phy     | 0.002301767 |\n",
       "|  50 | 0.1-0.3 | 10      | 0 | 0.00 | 0.001 | 31 | 0.004951368 | 0.002313907 | no_phy     | 0.002313907 |\n",
       "| 200 | 0.05    | 200-20  | 0 | 0.00 | 0.001 | 35 | 0.004005031 | 0.002368286 | no_phy     | 0.002368286 |\n",
       "|  50 | 0.1-0.5 | 500-20  | 0 | 0.10 | 0.001 | 36 | 0.010516378 | 0.002436183 | no_phy     | 0.002436183 |\n",
       "\n"
      ],
      "text/plain": [
       "   batches distances linear_layers dropout_sparse dropout_linear learning_rate\n",
       "1  200     0.1-0.3   500-20        0              0.00           0.001        \n",
       "2  200     0.1-0.5   200-20        0              0.00           0.001        \n",
       "3   50     0.8       200-20        0              0.00           0.001        \n",
       "4   50     0.1       500           0              0.00           0.001        \n",
       "5   50     0.5       200-20        0              0.00           0.001        \n",
       "6  100     0.8       200-20        0              0.00           0.001        \n",
       "7  200     0.1       500-20        0              0.10           0.001        \n",
       "8  200     0.8       200-20        0              0.00           0.001        \n",
       "9  200     0.05      200-20        0              0.25           0.001        \n",
       "10 100     0.5       500-100       0              0.00           0.001        \n",
       "11  50     0.5       500           0              0.50           0.001        \n",
       "12 200     0.1-0.5   200-20        0              0.25           0.001        \n",
       "13  50     0.1-0.3   10            0              0.00           0.001        \n",
       "14 200     0.05      200-20        0              0.00           0.001        \n",
       "15  50     0.1-0.5   500-20        0              0.10           0.001        \n",
       "   epoch train_loss  test_loss   dataset    min_test_loss\n",
       "1  37    0.004048111 0.001188033 no_phy     0.001188033  \n",
       "2  37    0.002080558 0.001304657 no_phy     0.001304657  \n",
       "3  37    0.002261796 0.001412634 no_phy     0.001412634  \n",
       "4  38    0.002782345 0.001440669 no_phy     0.001440669  \n",
       "5  52    0.002720293 0.001722699 random_phy 0.001722699  \n",
       "6  39    0.007222715 0.001919330 no_phy     0.001919330  \n",
       "7  36    0.003135795 0.001989831 no_phy     0.001989831  \n",
       "8  43    0.005624828 0.002051600 no_phy     0.002051600  \n",
       "9  38    0.003219268 0.002130172 no_phy     0.002130172  \n",
       "10 56    0.002776495 0.002140674 genome_phy 0.002140674  \n",
       "11 37    0.006257756 0.002237060 no_phy     0.002237060  \n",
       "12 36    0.003796128 0.002301767 no_phy     0.002301767  \n",
       "13 31    0.004951368 0.002313907 no_phy     0.002313907  \n",
       "14 35    0.004005031 0.002368286 no_phy     0.002368286  \n",
       "15 36    0.010516378 0.002436183 no_phy     0.002436183  "
      ]
     },
     "metadata": {},
     "output_type": "display_data"
    }
   ],
   "source": [
    "# param settings that achieve the lowest test-loss\n",
    "df.dims(15)\n",
    "train_log_s = train_log %>%\n",
    "    mutate.(min_test_loss = min(test_loss),\n",
    "               by=c(dataset, batches, distances, linear_layers, dropout_sparse,\n",
    "                    dropout_linear, learning_rate)) %>%\n",
    "    filter.(test_loss == min_test_loss)\n",
    "train_log_s %>%\n",
    "    arrange.(min_test_loss) %>%\n",
    "    slice_head.(n=15)\n",
    "df.dims()"
   ]
  },
  {
   "cell_type": "code",
   "execution_count": 153,
   "metadata": {
    "ExecuteTime": {
     "end_time": "2021-01-07T19:15:18.095213Z",
     "start_time": "2021-01-07T19:15:17.136Z"
    }
   },
   "outputs": [
    {
     "data": {
      "image/png": "[encoded data removed]",
      "text/plain": [
       "plot without title"
      ]
     },
     "metadata": {
      "image/png": {
       "height": 300,
       "width": 900
      },
      "text/plain": {
       "height": 300,
       "width": 900
      }
     },
     "output_type": "display_data"
    }
   ],
   "source": [
    "p = train_log_s %>%\n",
    "    filter(batches == 50,\n",
    "           learning_rate == 0.001,\n",
    "           dropout_sparse == 0,\n",
    "           dropout_linear == 0) %>%\n",
    "    ggplot(aes(distances, min_test_loss, fill=linear_layers)) +\n",
    "        geom_bar(stat='identity', position='dodge') +\n",
    "        labs(y='Min. Test Loss') +\n",
    "        facet_wrap(~ dataset) +\n",
    "        theme_bw() +\n",
    "        theme(\n",
    "            axis.text.x = element_text(angle=45, hjust=1)\n",
    "        )\n",
    "\n",
    "p.dims(9,3)\n",
    "plot(p)"
   ]
  },
  {
   "cell_type": "code",
   "execution_count": 154,
   "metadata": {
    "ExecuteTime": {
     "end_time": "2021-01-07T19:15:19.009198Z",
     "start_time": "2021-01-07T19:15:17.417Z"
    }
   },
   "outputs": [
    {
     "data": {
      "image/png": "[encoded data removed]",
      "text/plain": [
       "plot without title"
      ]
     },
     "metadata": {
      "image/png": {
       "height": 300,
       "width": 900
      },
      "text/plain": {
       "height": 300,
       "width": 900
      }
     },
     "output_type": "display_data"
    }
   ],
   "source": [
    "p = train_log_s %>%\n",
    "    filter(batches == 50,\n",
    "           learning_rate == 0.001,\n",
    "           dropout_sparse == 0,\n",
    "           dropout_linear == 0) %>%\n",
    "    ggplot(aes(linear_layers, min_test_loss, fill=distances)) +\n",
    "        geom_bar(stat='identity', position='dodge') +\n",
    "        labs(y='Min. Test Loss') +\n",
    "        facet_wrap(~ dataset) +\n",
    "        theme_bw() +\n",
    "        theme(\n",
    "            axis.text.x = element_text(angle=45, hjust=1)\n",
    "        )\n",
    "\n",
    "p.dims(9,3)\n",
    "plot(p)"
   ]
  },
  {
   "cell_type": "code",
   "execution_count": 155,
   "metadata": {
    "ExecuteTime": {
     "end_time": "2021-01-07T19:15:20.142476Z",
     "start_time": "2021-01-07T19:15:17.553Z"
    }
   },
   "outputs": [
    {
     "data": {
      "image/png": "[encoded data removed]",
      "text/plain": [
       "plot without title"
      ]
     },
     "metadata": {
      "image/png": {
       "height": 400,
       "width": 900
      },
      "text/plain": {
       "height": 400,
       "width": 900
      }
     },
     "output_type": "display_data"
    }
   ],
   "source": [
    "p = train_log_s %>%\n",
    "    filter(batches == 50,\n",
    "           learning_rate == 0.001,\n",
    "           dropout_sparse == 0,\n",
    "           dropout_linear == 0) %>%\n",
    "    ggplot(aes(distances, min_test_loss, fill=dataset)) +\n",
    "        geom_bar(stat='identity', position='dodge') +\n",
    "        labs(y='Min. Test Loss') +\n",
    "        facet_wrap(~ linear_layers) +\n",
    "        theme_bw()\n",
    "\n",
    "p.dims(9,4)\n",
    "plot(p)"
   ]
  },
  {
   "cell_type": "markdown",
   "metadata": {},
   "source": [
    "# TADA data augmentation"
   ]
  },
  {
   "cell_type": "code",
   "execution_count": null,
   "metadata": {},
   "outputs": [],
   "source": []
  },
  {
   "cell_type": "code",
   "execution_count": null,
   "metadata": {},
   "outputs": [],
   "source": []
  }
 ],
 "metadata": {
  "kernelspec": {
   "display_name": "R [conda env:Georg_animal_feces-phyloseq]",
   "language": "R",
   "name": "conda-env-Georg_animal_feces-phyloseq-r"
  },
  "language_info": {
   "codemirror_mode": "r",
   "file_extension": ".r",
   "mimetype": "text/x-r-source",
   "name": "R",
   "pygments_lexer": "r",
   "version": "3.6.3"
  },
  "notify_time": "30",
  "toc": {
   "base_numbering": 1,
   "nav_menu": {},
   "number_sections": true,
   "sideBar": true,
   "skip_h1_title": false,
   "title_cell": "Table of Contents",
   "title_sidebar": "Contents",
   "toc_cell": true,
   "toc_position": {},
   "toc_section_display": true,
   "toc_window_display": true
  }
 },
 "nbformat": 4,
 "nbformat_minor": 4
}
